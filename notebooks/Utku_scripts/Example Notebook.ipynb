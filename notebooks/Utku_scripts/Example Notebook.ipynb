{
 "cells": [
  {
   "cell_type": "code",
   "execution_count": 4,
   "metadata": {},
   "outputs": [
    {
     "name": "stdout",
     "output_type": "stream",
     "text": [
      "1\n"
     ]
    }
   ],
   "source": [
    "from dcicutils import ff_utils\n",
    "from functions.notebook_functions import *\n",
    "\n",
    "my_key = get_key('koray_data', keyfile='~/keypairs.json')\n",
    "\n",
    "# get a single item\n",
    "# resp = ff_utils.get_metadata('accession/uuid/alias/@id', my_key, add_on = 'frame=raw')\n",
    "\n",
    "# search on postal\n",
    "q = '/search/?award.project=4DN&experiments_in_set.biosample.biosource_summary=G1E-ER4+with+random+integration+of+ER-responsive+GATA-1%2C+GATA-1+gene+deletion%2C+Crispr+deletion+of+Slc25a37+enhancer+E1&experimentset_type=replicate&lab.display_title=Arjun+Raj%2C+UPENN&type=ExperimentSetReplicate'\n",
    "resps = ff_utils.search_metadata(q, my_key)\n",
    "print(len(resps))\n",
    "\n",
    "# # post item\n",
    "# post_body = {'description': 'testing',\n",
    "#             'award': 'award_uuid'}\n",
    "# e = ff_utils.post_metadata(post_body, 'file_fastq', my_key)\n",
    "\n",
    "# #patch item\n",
    "# e = ff_utils.patch_metadata(patch_body, 'item id', my_key)\n"
   ]
  },
  {
   "cell_type": "code",
   "execution_count": 5,
   "metadata": {},
   "outputs": [
    {
     "name": "stdout",
     "output_type": "stream",
     "text": [
      "181 items collected\n"
     ]
    }
   ],
   "source": [
    "# expand es metadata to collect inserts\n",
    "\n",
    "sets_in_scope = ['4DNESVLYL23R'] # ['4DNACCCC', '4DNACCCCC']\n",
    "\n",
    "search_url  = '' # '/search/?award.project=4DN&experiments_in_set.experiment_type=dilution+Hi-C&experimentset_type=replicate&lab.display_title=Bing+Ren%2C+UCSD&status=pre-release&type=ExperimentSetReplicate'\n",
    "\n",
    "if sets_in_scope:\n",
    "    set_to_release = [ff_utils.get_metadata(i, my_key)['uuid'] for i in sets_in_scope]\n",
    "elif search_url:\n",
    "    set_to_release = [i['uuid'] for i in ff_utils.search_metadata(search_url, my_auth)]\n",
    "\n",
    "store={}\n",
    "item_uuids=[]\n",
    "store, uuids = ff_utils.expand_es_metadata(set_to_release, my_key, store_frame='raw',add_pc_wfr=True, ignore_field = ['experiment_relation', 'biosample_relation', 'references', 'reference_pubs'])\n",
    "\n",
    "print(len(uuids), 'items collected')"
   ]
  },
  {
   "cell_type": "code",
   "execution_count": 6,
   "metadata": {},
   "outputs": [
    {
     "name": "stdout",
     "output_type": "stream",
     "text": [
      "protocol 1\n",
      "quality_metric_pairsqc 3\n",
      "treatment_agent 1\n",
      "file_processed 9\n",
      "higlass_view_config 3\n",
      "badge 2\n",
      "workflow_run_awsem 11\n",
      "static_section 6\n",
      "award 4\n",
      "experiment_type 1\n",
      "experiment_set_replicate 1\n",
      "biosample_cell_culture 1\n",
      "user 11\n",
      "file_reference 3\n",
      "software 12\n",
      "biosource 1\n",
      "file_format 15\n",
      "file_fastq 2\n",
      "lab 4\n",
      "individual_human 1\n",
      "experiment_hi_c 1\n",
      "ontology_term 65\n",
      "quality_metric_fastqc 2\n",
      "ontology 3\n",
      "vendor 2\n",
      "biosample 1\n",
      "workflow 13\n",
      "organism 1\n",
      "enzyme 1\n"
     ]
    }
   ],
   "source": [
    "for i in store:\n",
    "    print(i, len(store[i]))"
   ]
  },
  {
   "cell_type": "code",
   "execution_count": null,
   "metadata": {},
   "outputs": [],
   "source": [
    "dump_results_to_json(store, 'new_results')"
   ]
  }
 ],
 "metadata": {
  "kernelspec": {
   "display_name": "Python 3",
   "language": "python",
   "name": "python3"
  }
 },
 "nbformat": 4,
 "nbformat_minor": 2
}
