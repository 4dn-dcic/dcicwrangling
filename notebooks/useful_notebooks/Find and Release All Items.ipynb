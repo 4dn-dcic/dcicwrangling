{
 "cells": [
  {
   "cell_type": "code",
   "execution_count": null,
   "metadata": {},
   "outputs": [],
   "source": [
    "# Find items starting with a publication or experiment set\n",
    "from dcicutils import ff_utils\n",
    "from functions.notebook_functions import *\n",
    "\n",
    "env = 'data'\n",
    "my_auth = get_key('koray_data')   #use your key name in keypairs.json\n",
    "schema_name = get_schema_names(my_auth) \n",
    "\n",
    "set_to_release = '83e74398-ac79-4372-91d3-250e7390d636'  # place the uuid of the item here\n",
    "store, uuids = record_object_es(set_to_release, my_auth, schema_name, add_pc_wfr=True, store={}, item_uuids=[])\n",
    "print(len(uuids))\n",
    "print(len(list(set(uuids))))"
   ]
  },
  {
   "cell_type": "code",
   "execution_count": null,
   "metadata": {},
   "outputs": [],
   "source": [
    "# Release the items\n",
    "\n",
    "action = False # change to True if you want to patch\n",
    "change_status = 'released'\n",
    "\n",
    "counter = 0\n",
    "for a_type in store:\n",
    "    for raw_data in store[a_type]:\n",
    "        if raw_data['status'] in ['deleted']: \n",
    "            print('deleted data', a_type ,raw_data['uuid'])\n",
    "            continue        \n",
    "        if raw_data['status'] not in ['current', 'released', 'released to project']:    \n",
    "            counter +=1\n",
    "            print(a_type, raw_data['status'], raw_data['uuid'])\n",
    "            patch_data = {'status': \"released to project\"}\n",
    "            if action:\n",
    "                ff_utils.patch_metadata(patch_data, obj_id=raw_data['uuid'] ,key=my_auth)\n",
    "        else:\n",
    "            print('ALREADY RELEASED/TO PROJECT', a_type, raw_data['status'], raw_data['uuid'])\n",
    "            pass\n",
    "            \n",
    "print(counter)"
   ]
  }
 ],
 "metadata": {
  "kernelspec": {
   "display_name": "Python 3",
   "language": "python",
   "name": "python3"
  },
  "language_info": {
   "codemirror_mode": {
    "name": "ipython",
    "version": 3
   },
   "file_extension": ".py",
   "mimetype": "text/x-python",
   "name": "python",
   "nbconvert_exporter": "python",
   "pygments_lexer": "ipython3",
   "version": "3.5.2"
  }
 },
 "nbformat": 4,
 "nbformat_minor": 2
}
