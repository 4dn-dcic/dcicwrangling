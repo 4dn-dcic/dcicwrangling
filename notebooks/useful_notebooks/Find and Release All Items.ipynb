{
 "cells": [
  {
   "cell_type": "code",
   "execution_count": null,
   "metadata": {},
   "outputs": [],
   "source": [
    "### PLEASE COPY NOTEBOOKS TO YOUR FOLDERS TO PREVENT COMMIT CONFLICTS\n",
    "from dcicutils import ff_utils\n",
    "from functions.notebook_functions import *\n",
    "import json\n",
    "\n",
    "# get key from keypairs.json\n",
    "my_key = get_key('koray_data')\n",
    "schema_name = get_schema_names(my_key) \n",
    "print('WORKING ON', my_key['server'], '\\n')\n",
    "\n",
    "##### COLLECT ITEMS TO Release #####\n",
    "# use either a starting item to fetch all linked items\n",
    "\n",
    "# Use a starting item to find linked ones\n",
    "# starting_items = ['46db06ad-b399-4cf4-9acc-07b3e25ef132']\n",
    "#add_items = get_query_or_linked(my_key, linked=starting_items)\n",
    "\n",
    "# or a search query\n",
    "#my_query = '/search/?q=GOLD&type=Item&limit=all'\n",
    "#add_items = get_query_or_linked(my_key, query=my_query)\n",
    "\n",
    "# if you want you can dump them to separate json files (will work as test insert)\n",
    "# dump_to_json(add_items, destination folder)\n",
    "\n",
    "my_query = '/search/?biosample.biosource.individual.organism.name=mouse&biosample.biosource_summary=ES-E14&experiment_type=in%20situ%20Hi-C&type=ExperimentHiC'\n",
    "store = get_query_or_linked(my_key, query=my_query)\n",
    "print(store.keys())\n",
    "print(len([i['uuid'] for key in store for i in store[key]]))\n",
    "print()\n",
    "\n",
    "find_linked = ['48732435-5a16-4d86-a0f6-ace18dc62b6c']\n",
    "store = get_query_or_linked(my_key, linked=find_linked)\n",
    "print(store.keys())\n",
    "print(len([i['uuid'] for key in store for i in store[key]]))\n"
   ]
  },
  {
   "cell_type": "code",
   "execution_count": null,
   "metadata": {},
   "outputs": [],
   "source": [
    "# Sample code to Release the items, modify as you wish\n",
    "action = input('Do you want to perform patches, or only reporting (True/False):')\n",
    "change_status = 'released'\n",
    "\n",
    "counter = 0\n",
    "for a_type in store:\n",
    "    for raw_data in store[a_type]:\n",
    "        item_status = raw_data['status']\n",
    "        if item_status in ['deleted']: \n",
    "            print('Deleted data', a_type ,raw_data['uuid'])\n",
    "            continue\n",
    "        if item_status in ['current', 'released', change_status]:\n",
    "            print('Already has status', item_status, a_type ,raw_data['uuid'])\n",
    "            continue\n",
    "             \n",
    "        counter +=1\n",
    "        print(a_type, raw_data['status'], raw_data['uuid'])\n",
    "        patch_data = {'status': change_status}\n",
    "        if action:\n",
    "            resp = 'n'\n",
    "            if a_type in ['publication', 'user', 'award', 'vendor', 'organism', ]:\n",
    "                q = 'Do you want to update item {} to status to CURRENT? (y/n):'.format(a_type+'/'+raw_data['uuid'])\n",
    "                resp = input(q)\n",
    "                if resp == 'y':\n",
    "                    ff_utils.patch_metadata({'status': 'current'}, obj_id=raw_data['uuid'] ,key=my_auth)\n",
    "            else:\n",
    "                ff_utils.patch_metadata(patch_data, obj_id=raw_data['uuid'] ,key=my_auth)\n",
    "\n",
    "            \n",
    "print(counter)"
   ]
  },
  {
   "cell_type": "code",
   "execution_count": null,
   "metadata": {},
   "outputs": [],
   "source": []
  }
 ],
 "metadata": {
  "kernelspec": {
   "display_name": "Python 3",
   "language": "python",
   "name": "python3"
  },
  "language_info": {
   "codemirror_mode": {
    "name": "ipython",
    "version": 3
   },
   "file_extension": ".py",
   "mimetype": "text/x-python",
   "name": "python",
   "nbconvert_exporter": "python",
   "pygments_lexer": "ipython3",
   "version": "3.5.2"
  }
 },
 "nbformat": 4,
 "nbformat_minor": 2
}
