{
 "cells": [
  {
   "cell_type": "code",
   "execution_count": null,
   "metadata": {},
   "outputs": [],
   "source": [
    "### PLEASE COPY NOTEBOOKS TO YOUR FOLDERS TO PREVENT COMMIT CONFLICTS\n",
    "from dcicutils import ff_utils\n",
    "from functions.notebook_functions import *\n",
    "import json\n",
    "\n",
    "# get key from keypairs.json\n",
    "# all usable env names\n",
    "all_envs = ['data', 'staging', 'fourfront-webdev', 'fouront-mastertest', 'fourfront-hotseat']\n",
    "# get admin key from s3\n",
    "\n",
    "# modify the following accordingly\n",
    "my_key = ff_utils.get_authentication_with_server({}, ff_env = 'data')\n",
    "transfer_key = get_key('local')\n",
    "find_linked = ['11f207be-ebc4-4622-8b42-02e7841d17db']\n",
    "\n",
    "print('WORKING ON', my_key['server'], '\\n')\n",
    "store, uuids = ff_utils.expand_es_metadata(find_linked, key = my_key, add_pc_wfr = True, ignore_field=['references', 'attachments'])\n",
    "for key in store:\n",
    "    print(key, len(store[key]))\n",
    "print(len([i['uuid'] for key in store for i in store[key]]))\n",
    "\n",
    "# replace workflows from inserts\n",
    "# insert_f = json.load(open('/Users/koray/Github/fourfront/src/encoded/tests/data/inserts/workflow.json'))\n",
    "# wf_uuids = [i['uuid'] for i in store['workflow']]\n",
    "# updated_wf = [i for i in insert_f if i['uuid'] in wf_uuids]\n",
    "# store['workflow'] = updated_wf"
   ]
  },
  {
   "cell_type": "code",
   "execution_count": null,
   "metadata": {
    "scrolled": false
   },
   "outputs": [],
   "source": [
    "# if the item exist in the target, should it overwrite it (will include user/award etc)\n",
    "overwrite_existing = True\n",
    "\n",
    "# reverse lookup dictionary for schema names\n",
    "rev_schema_name = {}\n",
    "for key, name in schema_name.items():\n",
    "    rev_schema_name[name] = schema_name[key]\n",
    "\n",
    "my_types = [i for i in ORDER if i in store.keys()]\n",
    "\n",
    "second_round_items = {}\n",
    "\n",
    "# Round I - only put the required - skip if exists already\n",
    "for a_type in my_types:\n",
    "    print(a_type)\n",
    "    obj_type = rev_schema_name[a_type]\n",
    "    # find required field\n",
    "    schema_info = ff_utils.get_metadata('/profiles/{}.json'.format(a_type), key=transfer_key)\n",
    "    req_fields = schema_info['required']\n",
    "    ids = schema_info['identifyingProperties']\n",
    "    first_fields = list(set(req_fields+ids))\n",
    "    remove_existing_items = []\n",
    "    \n",
    "    print(len(store[a_type]), 'items exist on source')\n",
    "    posted = 0\n",
    "    skip_exist = 0\n",
    "    for an_item in store[a_type]:\n",
    "        exists = False\n",
    "        try:\n",
    "            # TODO check with all identifiers\n",
    "            existing = ff_utils.get_metadata(an_item['uuid'], key=transfer_key)\n",
    "            exists = True\n",
    "        except:\n",
    "            exists = False\n",
    "        # skip the items that exists, if overwrite is not allowed, they them out from patch list\n",
    "        if exists and existing:\n",
    "            skip_exist += 1\n",
    "            if not overwrite_existing:\n",
    "                remove_existing_items.append(an_item['uuid'])\n",
    "            # print(\"{} {} can not post existing item\".format(obj_type, an_item['uuid']))\n",
    "            continue\n",
    "        posted += 1\n",
    "        post_first = {key:value for (key,value) in an_item.items() if key in first_fields}\n",
    "        ff_utils.post_metadata(post_first, obj_type, key = transfer_key)\n",
    "   \n",
    "    second_round_items[a_type] = [i for i in store[a_type] if i['uuid'] not in remove_existing_items]\n",
    "    print(posted, 'items posted,', skip_exist, 'existing items skipped')\n",
    "    print(len(second_round_items[a_type]), 'items will be patched in second round')\n",
    "    print()\n",
    "    "
   ]
  },
  {
   "cell_type": "code",
   "execution_count": null,
   "metadata": {},
   "outputs": [],
   "source": [
    "# Round II - patch the rest of the metadata\n",
    "for a_type in my_types:\n",
    "    obj_type = rev_schema_name[a_type]\n",
    "    if not second_round_items[a_type]:\n",
    "        print(a_type, '- no items to patch')\n",
    "        continue \n",
    "    for an_item in second_round_items[a_type]:\n",
    "        if a_type == 'file_fastq':\n",
    "            if 'extra_files' in an_item:\n",
    "                del an_item['extra_files']\n",
    "        ff_utils.patch_metadata(an_item, obj_id = an_item['uuid'], key = transfer_key)\n",
    "    print(a_type, '- patched')"
   ]
  }
 ],
 "metadata": {
  "kernelspec": {
   "display_name": "Python 3",
   "language": "python",
   "name": "python3"
  },
  "language_info": {
   "codemirror_mode": {
    "name": "ipython",
    "version": 3
   },
   "file_extension": ".py",
   "mimetype": "text/x-python",
   "name": "python",
   "nbconvert_exporter": "python",
   "pygments_lexer": "ipython3",
   "version": "3.5.2"
  }
 },
 "nbformat": 4,
 "nbformat_minor": 2
}
