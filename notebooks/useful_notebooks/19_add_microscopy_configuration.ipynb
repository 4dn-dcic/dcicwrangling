{
 "cells": [
  {
   "cell_type": "markdown",
   "id": "0a9201e5-4b24-4310-804a-61ba7813230a",
   "metadata": {},
   "source": [
    "## Add Microscope Configuration to experiments and/or update Microscope Configuration Attribution\n",
    "\n",
    "### a. To only add microscope configuration to experiment objects use Section 1 and don't run section 2.\n",
    "### b. To only update microscope configuration attribution use section 2 directly."
   ]
  },
  {
   "cell_type": "code",
   "execution_count": null,
   "id": "20ebea6f-56e0-45b6-9c9d-e82ec4d997b7",
   "metadata": {},
   "outputs": [],
   "source": [
    "from dcicutils import ff_utils\n",
    "from functions.notebook_functions import *\n",
    "from functions.wfr import *\n",
    "from openpyxl import Workbook, load_workbook\n",
    "import pandas as pd\n",
    "import time\n",
    "\n",
    "my_auth = get_key('')"
   ]
  },
  {
   "cell_type": "markdown",
   "id": "40efbaa7-f6f2-4615-8e98-e55c6e5dac6d",
   "metadata": {},
   "source": [
    "### Section 1: Add Microscope configuration to experiments"
   ]
  },
  {
   "cell_type": "code",
   "execution_count": null,
   "id": "b42e7a59-51c6-43d1-9460-9efda02d597a",
   "metadata": {},
   "outputs": [],
   "source": [
    "#collect data\n",
    "\n",
    "microid = '' #Add microscope UUID\n",
    "\n",
    "#Add list of 4DN experiment set acccession or URL (4DNESxxx.. only)\n",
    "sets_list = []\n",
    "\n",
    "search_url  = ''\n",
    "if sets_list:\n",
    "    esets = [ff_utils.get_metadata(i, my_auth) for i in sets_list]\n",
    "elif search_url:\n",
    "    esets = [i for i in ff_utils.search_metadata(search_url, my_auth)]\n",
    "    \n",
    "print(\"No. of objects {}\".format(len(esets)))\n",
    "  "
   ]
  },
  {
   "cell_type": "code",
   "execution_count": null,
   "id": "e1cc7612-a34f-499c-bf52-e2075bed83e0",
   "metadata": {},
   "outputs": [],
   "source": [
    "#collect experiment ids to patch\n",
    "exps2patch = []\n",
    "\n",
    "for eset in esets:    \n",
    "    exps = eset.get('experiments_in_set') \n",
    "    for exp in exps:\n",
    "        exp_acc = exp.get('accession')\n",
    "        exps2patch.append(exp_acc)\n",
    "\n",
    "print('total exps to patch {}'.format(len(exps2patch)))        \n",
    "        "
   ]
  },
  {
   "cell_type": "code",
   "execution_count": null,
   "id": "a7a01e96-da55-4f52-ad17-b26afdb18988",
   "metadata": {},
   "outputs": [],
   "source": [
    "#patch microscope id to experiment accession. Set to False for dry run and Set True to patch\n",
    "\n",
    "action = True\n",
    "\n",
    "for exp in exps2patch:\n",
    "    if action:\n",
    "        reso = ff_utils.patch_metadata({'microscope_configuration_master': microid}, exp, key = my_auth)\n",
    "        print(f'item {exp} microscope_configuration_master: {microid}')\n",
    "        print(reso.get('status'))\n",
    "    else:\n",
    "        print(f'item {exp} microscope_configuration_master: {microid}')"
   ]
  },
  {
   "cell_type": "markdown",
   "id": "d3ecf003-fc18-4340-a4d6-f5d5ce3c600c",
   "metadata": {},
   "source": [
    "### Section 2: Update Microscope Configuration Attribution"
   ]
  },
  {
   "cell_type": "code",
   "execution_count": null,
   "id": "5c467d73-18cd-4def-a69b-af450ff4e516",
   "metadata": {},
   "outputs": [],
   "source": [
    "#Set to False for dry run and Set True to patch\n",
    "\n",
    "action = False\n",
    "\n",
    "microids = [] #add microscope configuration UUID\n",
    "\n",
    "labid = '' #add lab UUID\n",
    "awardid = '' #add associated award UUID\n",
    "contriid = ['8bc160b9-bc86-4369-813b-533dd18cacb2'] #add contributing lab's UUID - This is almost always is Caterina Strambio's lab https://data.4dnucleome.org/labs/caterina-strambio-de-castillia-lab/#details. Additional contributing lab can be added.\n",
    "\n",
    "for iid in microids:\n",
    "    if action:\n",
    "        res = ff_utils.patch_metadata({'lab': labid}, iid, key = my_auth)\n",
    "        print(f'item {iid} updated with lab: {labid}')\n",
    "        print(res.get('status'))\n",
    "        res2 = ff_utils.patch_metadata({'award': awardid}, iid, key = my_auth)\n",
    "        print(f'item {iid} updated with lab: {awardid}')\n",
    "        print(res2.get('status'))\n",
    "        res3 = ff_utils.patch_metadata({'contributing_labs': contriid}, iid, key = my_auth)\n",
    "        print(f'item {iid} updated with lab: {contriid}')\n",
    "        print(res3.get('status'))        \n",
    "    else:\n",
    "        print(f\"will patch {iid} with lab:{labid} and award:{awardid} and contrilab: {contriid}\")"
   ]
  }
 ],
 "metadata": {
  "kernelspec": {
   "display_name": "Python 3 (ipykernel)",
   "language": "python",
   "name": "python3"
  },
  "language_info": {
   "codemirror_mode": {
    "name": "ipython",
    "version": 3
   },
   "file_extension": ".py",
   "mimetype": "text/x-python",
   "name": "python",
   "nbconvert_exporter": "python",
   "pygments_lexer": "ipython3",
   "version": "3.12.0"
  }
 },
 "nbformat": 4,
 "nbformat_minor": 5
}
