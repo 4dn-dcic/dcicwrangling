{
 "cells": [
  {
   "cell_type": "markdown",
   "metadata": {},
   "source": [
    "## LINK GEO and SRA accessions to data portal items\n",
    "\n",
    "### There is an optional cell that given a list of replicate set accessions or a search for them can retrieve the accessions for those sets as well as linked exxperiments, biosamples and files\n",
    "\n",
    "### To add dbxrefs to items provide as input a 3 column tab separated file:\n",
    "\n",
    "### column 1 = any ID that can be used to retrieve the db item (uuid, accession, alias)\n",
    "### column 2 = GEO accession (GSE, GSM, SAMN)\n",
    "### column 3 = SRA accession (SRA, SRX)"
   ]
  },
  {
   "cell_type": "code",
   "execution_count": null,
   "metadata": {},
   "outputs": [],
   "source": [
    "from dcicutils import ff_utils\n",
    "from functions.notebook_functions import *\n",
    "from functions.wfr import *\n",
    "\n",
    "my_auth = get_key('keyname')"
   ]
  },
  {
   "cell_type": "markdown",
   "metadata": {},
   "source": [
    "### Optional - For a set of replicates specified by listing them or a search url - gather all the linked items that can get GEO or SRA accessions added - i.e. experiments, biosamples, files"
   ]
  },
  {
   "cell_type": "code",
   "execution_count": null,
   "metadata": {},
   "outputs": [],
   "source": [
    "sets_in_scope = [\"4DNES2D4WOKP\", \"4DNES6MT2D6K\", \"4DNES8R5RDVD\", \"4DNESLQDCU1A\", \"4DNESNTQV8XL\", \"4DNESVIKXE89\", \"4DNESX5HHBRP\", \"4DNESXR4J4MS\"]\n",
    "\n",
    "search_url  = '' # /search/?type=ExperimentSetReplicate&experimentset_type=replicate&lab.display_title=Sheng+Zhong%2C+UCSD&status=pre-release'\n",
    "\n",
    "if sets_in_scope:\n",
    "    esets = [ff_utils.get_metadata(i, my_auth) for i in sets_in_scope]\n",
    "elif search_url:\n",
    "    esets = [i for i in ff_utils.search_metadata(search_url, my_auth)]\n",
    "\n",
    "for eset in esets:\n",
    "    print(eset.get('accession'))\n",
    "    for exp in eset.get('experiments_in_set'):\n",
    "        print(exp.get('accession'))\n",
    "        bios = exp.get('biosample')\n",
    "        print(bios.get('accession'))\n",
    "        files = exp.get('files')\n",
    "        for file in files:\n",
    "            print(file.get('accession'))"
   ]
  },
  {
   "cell_type": "markdown",
   "metadata": {},
   "source": [
    "### Provide the path to a file with the 3 columns as specified above.  If there is not a value for the column it still must be present as an empty string"
   ]
  },
  {
   "cell_type": "code",
   "execution_count": null,
   "metadata": {},
   "outputs": [],
   "source": [
    "acc_file = '/path/to/file/with/ncbi_dbxrefs.txt'\n",
    "\n",
    "ids2geo_sra = {}\n",
    "\n",
    "with open(acc_file) as af:\n",
    "    for aline in af:\n",
    "        aline.rstrip()\n",
    "        info = aline.split('\\t')\n",
    "        iid = info[0].strip()\n",
    "        dbxrefs = []\n",
    "        if info[1]:\n",
    "            dbxrefs.append(f\"GEO:{info[1].strip()}\")\n",
    "        if info[2].strip():\n",
    "            dbxrefs.append(f\"SRA:{info[2].strip()}\")\n",
    "        if dbxrefs:\n",
    "            ids2geo_sra[iid] = dbxrefs\n",
    "            \n",
    "for iid, dbxrefs in ids2geo_sra.items():\n",
    "    print(f\"{iid}\\t{dbxrefs}\")"
   ]
  },
  {
   "cell_type": "markdown",
   "metadata": {},
   "source": [
    "### If the output from the cell above looks as expected and you are ready to add the dbxrefs to the items then set action to **True** else dry run "
   ]
  },
  {
   "cell_type": "code",
   "execution_count": null,
   "metadata": {},
   "outputs": [],
   "source": [
    "action = False\n",
    "\n",
    "for iid, dbxrefs in ids2geo_sra.items():\n",
    "    # check to see if there are any existing dbxrefs\n",
    "    item = ff_utils.get_metadata(iid, key=my_auth)\n",
    "    existing = item.get('dbxrefs', [])\n",
    "    patchdata = existing + dbxrefs\n",
    "    if action:\n",
    "        # import pdb; pdb.set_trace()\n",
    "        res = ff_utils.patch_metadata({'dbxrefs': patchdata}, iid, key = my_auth)\n",
    "        print(f'item {iid} updated with dbxrefs: {patchdata}')\n",
    "        print(res.get('status'))\n",
    "    else:\n",
    "        print(f\"will patch {iid} with dbxrefs: {patchdata}\")"
   ]
  },
  {
   "cell_type": "code",
   "execution_count": null,
   "metadata": {},
   "outputs": [],
   "source": []
  }
 ],
 "metadata": {
  "anaconda-cloud": {},
  "kernelspec": {
   "display_name": "Python 3 (ipykernel)",
   "language": "python",
   "name": "python3"
  },
  "language_info": {
   "codemirror_mode": {
    "name": "ipython",
    "version": 3
   },
   "file_extension": ".py",
   "mimetype": "text/x-python",
   "name": "python",
   "nbconvert_exporter": "python",
   "pygments_lexer": "ipython3",
   "version": "3.8.12"
  }
 },
 "nbformat": 4,
 "nbformat_minor": 4
}
