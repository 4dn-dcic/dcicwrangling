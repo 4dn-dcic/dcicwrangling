{
 "cells": [
  {
   "cell_type": "code",
   "execution_count": null,
   "metadata": {},
   "outputs": [],
   "source": [
    "# READ OH SHEET\n",
    "import boto3\n",
    "import gspread\n",
    "from oauth2client.service_account import ServiceAccountCredentials\n",
    "import pandas as pd\n",
    "import json\n",
    "\n",
    "# this is setup to work with 4dndcic@gmail.com account\n",
    "# invite google-sheet-access@fourdn-fourfront.iam.gserviceaccount.com on the google sheet to give access to it\n",
    "\n",
    "# extract the book id from the google sheet url\n",
    "#../spreadsheets/d/<book_id>/edit#gid=#######\n",
    "book_id = '13gFjHcYEwYL2Xpr9-IHtJNYYnYlAQVdyXvCUeSzla6w'\n",
    "sheet_names = ['DCIC & OH', 'IT', 'NT', 'NOFIC', 'NBC']\n",
    "\n",
    "# GET KEY FROM S3 \n",
    "# if you have your own key file, please change the following part accordingly\n",
    "s3 = boto3.resource('s3')\n",
    "\n",
    "obj = s3.Object('elasticbeanstalk-fourfront-webprod-system', 'DCICjupgoogle.json')\n",
    "cont = obj.get()['Body'].read().decode()\n",
    "key_dict = json.loads(cont)\n",
    "SCOPES = 'https://www.googleapis.com/auth/spreadsheets.readonly'\n",
    "creds = ServiceAccountCredentials.from_json_keyfile_dict(key_dict, SCOPES)\n",
    "gc = gspread.authorize(creds)\n",
    "\n",
    "# The ID and range of a sample spreadsheet.\n",
    "book = gc.open_by_key(book_id)\n",
    "\n",
    "for name in sheet_names:\n",
    "    print()\n",
    "    print(name)\n",
    "\n",
    "    worksheet = book.worksheet(name)\n",
    "    table = worksheet.get_all_values()\n",
    "    ##Convert table data into a dataframe\n",
    "    df = pd.DataFrame(table[1:], columns=table[0])\n",
    "    col_names = df.columns.values\n",
    "\n",
    "    for index, row in df.iterrows():\n",
    "        print(row.keys())\n",
    "        break\n",
    "    break\n",
    "\n",
    "    \n",
    "### More info at https://www.twilio.com/blog/2017/02/an-easy-way-to-read-and-write-to-a-google-spreadsheet-in-python.html"
   ]
  },
  {
   "cell_type": "code",
   "execution_count": null,
   "metadata": {},
   "outputs": [],
   "source": [
    "# Creating new worksheet in the spreadsheet. The name of the worksheet should not already exist otherwise an exception will occur\n",
    "worksheet = book.add_worksheet(title='New Worksheet', rows='100', cols='100')"
   ]
  },
  {
   "cell_type": "code",
   "execution_count": 5,
   "metadata": {},
   "outputs": [
    {
     "name": "stdout",
     "output_type": "stream",
     "text": [
      "[<Cell R1C1 'Human'>, <Cell R2C1 'fly'>, <Cell R3C1 'chicken'>, <Cell R4C1 'mouse'>, <Cell R1C2 'hg38'>, <Cell R2C2 'dm6'>, <Cell R3C2 'Galgal5'>, <Cell R4C2 'mm9'>]\n"
     ]
    }
   ],
   "source": [
    "# Adding all the data to the spreadsheet at once\n",
    "gs_write = [] # A list of cell objects to write to the worksheet\n",
    "# The data that is going to be written in the worksheet. In this example, each key is a column.\n",
    "my_data = {'Organism':['Human', 'fly', 'chicken', 'mouse'], 'Genome_assembly':['hg38','dm6', 'Galgal5','mm9']}\n",
    "\n",
    "#Writting the data to the list\n",
    "row = 1\n",
    "col = 1\n",
    "for key in my_data.values():\n",
    "    row = 1\n",
    "    for item in key:\n",
    "        #the gspread.models.Cell method converts cell values into cell objects\n",
    "        gs_write.append(gspread.models.Cell(row, col, item)) \n",
    "        row += 1\n",
    "    col += 1\n",
    "#Write the cells to the worksheet\n",
    "worksheet.update_cells(gs_write)"
   ]
  },
  {
   "cell_type": "code",
   "execution_count": null,
   "metadata": {},
   "outputs": [],
   "source": []
  }
 ],
 "metadata": {
  "kernelspec": {
   "display_name": "Python 3",
   "language": "python",
   "name": "python3"
  },
  "language_info": {
   "codemirror_mode": {
    "name": "ipython",
    "version": 3
   },
   "file_extension": ".py",
   "mimetype": "text/x-python",
   "name": "python",
   "nbconvert_exporter": "python",
   "pygments_lexer": "ipython3",
   "version": "3.7.1"
  }
 },
 "nbformat": 4,
 "nbformat_minor": 2
}
