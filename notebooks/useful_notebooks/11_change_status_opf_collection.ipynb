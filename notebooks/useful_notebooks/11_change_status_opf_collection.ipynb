{
 "cells": [
  {
   "cell_type": "markdown",
   "metadata": {},
   "source": [
    "### Change status of a Supplementary File (opf) collection\n",
    "\n",
    "Example use case: an ExperimentSet has many opf collections, but only one of these needs to be released.\n",
    "\n",
    "For an opf collection, this notebook changes status of:\n",
    "* all Files in the collection\n",
    "* all input and output WorkflowRuns\n",
    "* HiglassViewConfig for each file\n",
    "* HiglassViewConfig for the collection\n",
    "* QualityMetricWorkflowrun"
   ]
  },
  {
   "cell_type": "code",
   "execution_count": null,
   "metadata": {},
   "outputs": [],
   "source": [
    "# Find all collections of other_processed_files\n",
    "\n",
    "from dcicutils import ff_utils\n",
    "from functions.notebook_functions import *\n",
    "from functions.cleanup import *\n",
    "import time\n",
    "\n",
    "my_auth = get_key('')\n",
    "\n",
    "# write ExpSet (or Experiment) accession or id here\n",
    "exp_set_acc = ''  # e.g. '4DNES2M5JIGV'\n",
    "\n",
    "exp_set = ff_utils.get_metadata(exp_set_acc, key=my_auth)\n",
    "print('{} opf collections found in {}:\\n'.format(\n",
    "    len(exp_set.get('other_processed_files', [])), exp_set['accession']))\n",
    "for coll in exp_set.get('other_processed_files', []):\n",
    "    print(coll['title'])"
   ]
  },
  {
   "cell_type": "code",
   "execution_count": null,
   "metadata": {},
   "outputs": [],
   "source": [
    "# Find all items in a collection\n",
    "# NOTE: this list might not be exhaustive! Only items explicitly declared are found.\n",
    "\n",
    "# copy here the collection name, from the list printed above\n",
    "my_coll_name = ''  # e.g. 'Compartments Signals - Preliminary Files'\n",
    "\n",
    "items_to_change = []\n",
    "for coll in exp_set.get('other_processed_files', []):\n",
    "    if coll['title'] == my_coll_name:\n",
    "        my_coll = coll\n",
    "\n",
    "# Files\n",
    "files = [f for f in my_coll['files']]\n",
    "items_to_change.extend(files)\n",
    "\n",
    "# HiglassViewConfig of the Exp/Set\n",
    "if my_coll.get('higlass_view_config'):\n",
    "    items_to_change.append(my_coll['higlass_view_config'])\n",
    "\n",
    "for f in files:\n",
    "    a_file = ff_utils.get_metadata(f['@id'], key=my_auth)\n",
    "\n",
    "    # HiglassViewConfig of the File\n",
    "    for static_content in a_file.get('static_content', []):\n",
    "        if static_content['content'].get('filetype', '') == 'HiglassViewConfig':\n",
    "            items_to_change.append(static_content['content'])\n",
    "\n",
    "    # WorkflowRuns\n",
    "    wfrs = []\n",
    "    wfrs.extend([wfr for wfr in a_file.get('workflow_run_inputs') if a_file.get('workflow_run_inputs')])\n",
    "    wfrs.extend([wfr for wfr in a_file.get('workflow_run_outputs') if a_file.get('workflow_run_outputs')])\n",
    "    if wfrs:\n",
    "        items_to_change.extend(wfrs)\n",
    "    \n",
    "    # QualityMetrics\n",
    "    for wf in wfrs:\n",
    "        wf_item = ff_utils.get_metadata(wf['@id'], key=my_auth)\n",
    "        if wf_item.get('quality_metric'):\n",
    "            items_to_change.append(wf_item['quality_metric'])\n",
    "\n",
    "# remove duplicates\n",
    "new_list = []\n",
    "id_found = []\n",
    "for i in items_to_change:\n",
    "    if i['@id'] not in id_found:\n",
    "        id_found.append(i['@id'])\n",
    "        if i.get('status') is None:\n",
    "            i = ff_utils.get_metadata(i['@id'], key=my_auth)\n",
    "        new_list.append(i)\n",
    "\n",
    "# print items and status\n",
    "print(len(new_list), 'items found:\\n')\n",
    "for i in new_list:\n",
    "    print(i['@id'], i.get('status'), sep='\\t')"
   ]
  },
  {
   "cell_type": "code",
   "execution_count": null,
   "metadata": {},
   "outputs": [],
   "source": [
    "# patch the status\n",
    "status = 'released to project'  # WARNING: this overwrites any other status, including archived, restricted, etc.\n",
    "action = False  # set to True to patch\n",
    "\n",
    "count = 0\n",
    "for item in new_list:\n",
    "    if item['status'] != status:\n",
    "        print(item['@id'])\n",
    "        if action:\n",
    "            res = ff_utils.patch_metadata({'status': status}, item['@id'], key=my_auth)\n",
    "            if res['status'] != 'success':\n",
    "                print(res)\n",
    "            else:\n",
    "                count += 1\n",
    "print('patched {} items'.format(count))"
   ]
  },
  {
   "cell_type": "code",
   "execution_count": null,
   "metadata": {},
   "outputs": [],
   "source": []
  }
 ],
 "metadata": {
  "kernelspec": {
   "display_name": "Python 3",
   "language": "python",
   "name": "python3"
  },
  "language_info": {
   "codemirror_mode": {
    "name": "ipython",
    "version": 3
   },
   "file_extension": ".py",
   "mimetype": "text/x-python",
   "name": "python",
   "nbconvert_exporter": "python",
   "pygments_lexer": "ipython3",
   "version": "3.7.2"
  }
 },
 "nbformat": 4,
 "nbformat_minor": 4
}
