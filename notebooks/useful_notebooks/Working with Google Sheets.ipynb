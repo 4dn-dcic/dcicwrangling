{
 "cells": [
  {
   "cell_type": "code",
   "execution_count": 5,
   "metadata": {},
   "outputs": [
    {
     "name": "stdout",
     "output_type": "stream",
     "text": [
      "\n",
      "DCIC & OH\n",
      "Index(['Project Number', 'RFA', 'PI Contact', 'First Name', 'Last Name',\n",
      "       'Email', 'Role', 'Other email aliases (Gmail, etc.)', '', ''],\n",
      "      dtype='object')\n"
     ]
    }
   ],
   "source": [
    "# READ OH SHEET\n",
    "import boto3\n",
    "import gspread\n",
    "from oauth2client.service_account import ServiceAccountCredentials\n",
    "import pandas as pd\n",
    "import json\n",
    "\n",
    "# you need to create your own credentials if you want to use another e mail.\n",
    "# invite google-sheets@dcic-1544540642295.iam.gserviceaccount.com on the google sheet to give access to it\n",
    "\n",
    "# extract the book id from the google sheet url\n",
    "#../spreadsheets/d/<book_id>/edit#gid=#######\n",
    "book_id = '13gFjHcYEwYL2Xpr9-IHtJNYYnYlAQVdyXvCUeSzla6w'\n",
    "sheet_names = ['DCIC & OH', 'IT', 'NT', 'NOFIC', 'NBC']\n",
    "\n",
    "# GET KEY FROM S3 \n",
    "# if you have your own key file, please change the following part accordingly\n",
    "s3 = boto3.resource('s3')\n",
    "# at the moment this is setup for my koraykirli@gmail.com\n",
    "obj = s3.Object('elasticbeanstalk-fourfront-webprod-system', 'DCICjupgoogle.json')\n",
    "cont = obj.get()['Body'].read().decode()\n",
    "key_dict = json.loads(cont)\n",
    "SCOPES = 'https://www.googleapis.com/auth/spreadsheets.readonly'\n",
    "creds = ServiceAccountCredentials.from_json_keyfile_dict(key_dict, SCOPES)\n",
    "gc = gspread.authorize(creds)\n",
    "\n",
    "# The ID and range of a sample spreadsheet.\n",
    "book = gc.open_by_key(book_id)\n",
    "\n",
    "for name in sheet_names:\n",
    "    print()\n",
    "    print(name)\n",
    "\n",
    "    worksheet = book.worksheet(name)\n",
    "    table = worksheet.get_all_values()\n",
    "    ##Convert table data into a dataframe\n",
    "    df = pd.DataFrame(table[1:], columns=table[0])\n",
    "    col_names = df.columns.values\n",
    "\n",
    "    for index, row in df.iterrows():\n",
    "        print(row.keys())\n",
    "        break\n",
    "    break\n",
    "\n",
    "    \n",
    "    \n",
    "    \n",
    "    \n",
    "### More info at https://www.twilio.com/blog/2017/02/an-easy-way-to-read-and-write-to-a-google-spreadsheet-in-python.html"
   ]
  }
 ],
 "metadata": {
  "kernelspec": {
   "display_name": "Python 3",
   "language": "python",
   "name": "python3"
  },
  "language_info": {
   "codemirror_mode": {
    "name": "ipython",
    "version": 3
   },
   "file_extension": ".py",
   "mimetype": "text/x-python",
   "name": "python",
   "nbconvert_exporter": "python",
   "pygments_lexer": "ipython3",
   "version": "3.5.2"
  }
 },
 "nbformat": 4,
 "nbformat_minor": 2
}
