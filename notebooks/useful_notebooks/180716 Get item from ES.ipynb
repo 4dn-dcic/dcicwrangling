{
 "cells": [
  {
   "cell_type": "code",
   "execution_count": null,
   "metadata": {},
   "outputs": [],
   "source": [
    "# The ES database can be accessed directly (as opposed to getting items from Fourfront)\n",
    "# The item contains all frames, and also linked uuids.\n",
    "# Here is a sample script to get some items from es database\n",
    "\n",
    "from dcicutils import ff_utils\n",
    "from functions.notebook_functions import get_key\n",
    "\n",
    "my_key = get_key(keyname='koray_data')\n",
    "test_item = 'b8aada45-1504-428d-91b5-355bc9d158af'\n",
    "item_type = 'publication'\n",
    "\n",
    "res = ff_utils.get_es_metadata(test_item, item_type, key=integrated_ff['ff_key'])\n",
    "print(res)\n"
   ]
  },
  {
   "cell_type": "code",
   "execution_count": null,
   "metadata": {},
   "outputs": [],
   "source": []
  }
 ],
 "metadata": {
  "kernelspec": {
   "display_name": "Python 3",
   "language": "python",
   "name": "python3"
  },
  "language_info": {
   "codemirror_mode": {
    "name": "ipython",
    "version": 3
   },
   "file_extension": ".py",
   "mimetype": "text/x-python",
   "name": "python",
   "nbconvert_exporter": "python",
   "pygments_lexer": "ipython3",
   "version": "3.5.2"
  }
 },
 "nbformat": 4,
 "nbformat_minor": 2
}
