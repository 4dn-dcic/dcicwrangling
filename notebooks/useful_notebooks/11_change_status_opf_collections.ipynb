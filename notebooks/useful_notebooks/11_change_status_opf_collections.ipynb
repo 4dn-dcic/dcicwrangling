{
 "cells": [
  {
   "cell_type": "markdown",
   "metadata": {},
   "source": [
    "### Change status of a Supplementary File (opf) collections on a list of ExperimentSets or Experiments or both\n",
    "\n",
    "#### You can specify specific collection titles you want to look for in WANTED list\n",
    "\n",
    "For an opf collection, this notebook changes status of:\n",
    "* all Files in the collection\n",
    "* all input and output WorkflowRuns\n",
    "* StaticContent for each file\n",
    "* HiglassViewConfig for the collection\n",
    "* QualityMetric for each file\n",
    "* QualityMetricWorkflowrun for Workflows\n",
    "\n",
    "WARNING: will not change status of QualityMetrics linked to other QualityMetrics via the qc_list property\n",
    "    \n",
    "    \n",
    "### This first cell does set up and is where you specify what items you want to start with and if you have specific collections you want to include"
   ]
  },
  {
   "cell_type": "code",
   "execution_count": null,
   "metadata": {},
   "outputs": [],
   "source": [
    "from dcicutils import ff_utils\n",
    "from functions.notebook_functions import get_key\n",
    "import time\n",
    "\n",
    "# fourfront connection\n",
    "my_auth = get_key('')\n",
    "\n",
    "# if you only want specific collections list them by title here \n",
    "# if left empty all collections of opfs will be affected\n",
    "WANTED = [] # eg. 'Compartment and insulation calls - Dekker Lab'\n",
    "\n",
    "# if you only want to change items linked to sets and not the experiments of that set - unlikely but who knows\n",
    "# change this to True\n",
    "exclude_experiments = False\n",
    "\n",
    "\n",
    "# lists of ids for items that have opf collections - ExperimentSets or Experiments - can use alias, accession, uuid ...\n",
    "# or a search that returns the desired items\n",
    "id_list = []  # ['4DNESX75DD7R', '23d688f3-11f4-4fbf-842d-07181c97a5f4']\n",
    "\n",
    "search_url  = '' # '/search/?experiments_in_set.biosample.biosample_category=HFF+%28c6+or+hTERT%29&experiments_in_set.biosample.biosample_category=H1-hESC&experiments_in_set.biosample.biosample_category=WTC-11&experiments_in_set.biosample.biosource_summary=H1-hESC+%28Tier+1%29&experiments_in_set.biosample.biosource_summary=H1-hESC&experiments_in_set.experiment_type.assay_subclass_short=Hi-C&experimentset_type=replicate&status%21=archived&type=ExperimentSetReplicate' # \n",
    "\n",
    "if id_list:\n",
    "    item_uuids = [ff_utils.get_metadata(i, my_auth)['uuid'] for i in id_list]\n",
    "elif search_url:\n",
    "    item_uuids = [i['uuid'] for i in ff_utils.search_metadata(search_url, my_auth)]\n",
    "\n",
    "print(\"We have {} items to check for opf collections\".format(len(item_uuids)))\n",
    "\n",
    "uuids2upd = []"
   ]
  },
  {
   "cell_type": "markdown",
   "metadata": {},
   "source": [
    "### Functions"
   ]
  },
  {
   "cell_type": "code",
   "execution_count": null,
   "metadata": {},
   "outputs": [],
   "source": [
    "def find_uuids_for_linked_items_in_fields(idlist, fields):\n",
    "    #srcs = ['embedded.{}'.format(field) for field in fields]\n",
    "    items = ff_utils.get_es_metadata(idlist, is_generator=True, key=my_auth, sources=['embedded.*'])\n",
    "    fld2uuids = {}\n",
    "    for item in items:\n",
    "        if not item:\n",
    "            continue\n",
    "        props = item.get('embedded')\n",
    "        for field in fields:\n",
    "            if field in props:\n",
    "                finfo = props.get(field)\n",
    "                if isinstance(finfo, dict):\n",
    "                    finfo = [finfo]\n",
    "                fld2uuids.setdefault(field, []).extend([f.get('uuid') for f in finfo])\n",
    "    return fld2uuids\n",
    "\n",
    "\n",
    "def get_info_from_opfs(opf_colls):\n",
    "    items2upd = []\n",
    "    for coll in opf_colls:\n",
    "        if WANTED and (coll.get('title') not in WANTED):\n",
    "            continue\n",
    "        else:\n",
    "            print(\"Gettings files, qc_metrics (and viewconfs) in {}\".format(coll.get('title')))\n",
    "        # want to get file and coll higlass_viewconf if present\n",
    "        files = [f for f in coll.get('files', [])]\n",
    "        items2upd.extend(files)\n",
    "        hgv = coll.get('higlass_view_config')\n",
    "        if hgv:\n",
    "            items2upd.append(hgv)\n",
    "            \n",
    "        # need to check the files for linked items\n",
    "        linked_fields = ['workflow_run_inputs', 'workflow_run_outputs', 'quality_metric', 'static_content']\n",
    "        fld2uuids = find_uuids_for_linked_items_in_fields(files, linked_fields)\n",
    "        wfrs = []\n",
    "        if fld2uuids:\n",
    "            for fld, uuids in fld2uuids.items():\n",
    "                uuids = [u for u in uuids if u]\n",
    "                if not uuids:\n",
    "                    continue\n",
    "                items2upd.extend(uuids)\n",
    "                if fld.startswith('workflow_run'):\n",
    "                    # there is a possibility there are additional linked items\n",
    "                    wfrs.extend(uuids)\n",
    "        else:\n",
    "            print(\"nothing found linked to files\")\n",
    "        \n",
    "        if wfrs:\n",
    "            qc_fld = ['quality_metric']\n",
    "            # add qcmetrics from wfrs if any\n",
    "            items2upd.extend(find_uuids_for_linked_items_in_fields(wfrs, qc_fld).get('quality_metric', []))\n",
    "    \n",
    "    return items2upd"
   ]
  },
  {
   "cell_type": "markdown",
   "metadata": {},
   "source": [
    "### Getting all the linked items"
   ]
  },
  {
   "cell_type": "code",
   "execution_count": null,
   "metadata": {},
   "outputs": [],
   "source": [
    "# get the opf collections and from es_metadata for the items - if these are experiment sets will also get the experiment uuids\n",
    "item_meta = ff_utils.get_es_metadata(item_uuids, is_generator=True, key=my_auth, sources=['properties.other_processed_files', 'properties.experiments_in_set'])\n",
    "\n",
    "expt_uuids = []\n",
    "for item in item_meta:\n",
    "    opf_colls = item.get('properties').get('other_processed_files', [])\n",
    "    uuids2upd.extend(get_info_from_opfs(opf_colls))\n",
    "    \n",
    "    # check to see if this is a set with linked expts\n",
    "    expt_uuids.extend(item.get('properties').get('experiments_in_set', []))\n",
    "print(\"{} items so far!\".format(len(uuids2upd)))\n",
    "\n",
    "if expt_uuids and not exclude_experiments:\n",
    "    print('Checking linked experiments')\n",
    "    # we have some experiments to check\n",
    "    exp_meta = ff_utils.get_es_metadata(expt_uuids, is_generator=True, key=my_auth, sources=['properties.other_processed_files'])\n",
    "    for emeta in exp_meta:\n",
    "        eprops = emeta.get('properties', {})\n",
    "        eopf_colls = eprops.get('other_processed_files', [])\n",
    "        uuids2upd.extend(get_info_from_opfs(eopf_colls))\n",
    "\n",
    "print(\"now we have {}\".format(len(uuids2upd)))\n",
    "print(uuids2upd)"
   ]
  },
  {
   "cell_type": "markdown",
   "metadata": {},
   "source": [
    "### And lastly update everything in your list with new status\n",
    "\n",
    "### action=False is a dry run - change to true to perform the patch\n",
    "\n",
    "#### NOTE: currently status agnostic in that it will overwrite any existing statuses to the new one\n",
    "\n",
    "Probably want to update to behave more like the standard release script"
   ]
  },
  {
   "cell_type": "code",
   "execution_count": null,
   "metadata": {},
   "outputs": [],
   "source": [
    "status = 'released to project'  # WARNING: this overwrites any other status, including archived, restricted, etc.\n",
    "action = False  # set to True to patch\n",
    "\n",
    "problems = []\n",
    "success = 0\n",
    "for uid in uuids2upd:\n",
    "    if action:\n",
    "        res = ff_utils.patch_metadata({'status': status}, uid, key=my_auth)\n",
    "        if res['status'] != 'success':\n",
    "            problems.append(uid)\n",
    "            print(res)\n",
    "        else:\n",
    "            success += 1\n",
    "            print(\"success\")        \n",
    "    else:\n",
    "        print(\"DRY RUN will patch {} to {}\".format(uid, status))\n",
    "print('{} total items'.format(len(uuids2upd)))\n",
    "print('patched {} items'.format(success))\n",
    "print('{} problems'.format(len(problems)))\n",
    "print(problems)"
   ]
  },
  {
   "cell_type": "code",
   "execution_count": null,
   "metadata": {},
   "outputs": [],
   "source": []
  }
 ],
 "metadata": {
  "kernelspec": {
   "display_name": "Python 3 (ipykernel)",
   "language": "python",
   "name": "python3"
  },
  "language_info": {
   "codemirror_mode": {
    "name": "ipython",
    "version": 3
   },
   "file_extension": ".py",
   "mimetype": "text/x-python",
   "name": "python",
   "nbconvert_exporter": "python",
   "pygments_lexer": "ipython3",
   "version": "3.11.5"
  }
 },
 "nbformat": 4,
 "nbformat_minor": 4
}
