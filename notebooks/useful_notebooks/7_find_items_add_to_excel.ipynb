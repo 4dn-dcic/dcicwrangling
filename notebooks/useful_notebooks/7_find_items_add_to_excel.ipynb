{
 "cells": [
  {
   "cell_type": "markdown",
   "metadata": {},
   "source": [
    "### PLEASE COPY NOTEBOOKS TO YOUR FOLDERS TO PREVENT COMMIT CONFLICTS\n",
    "\n",
    "#### Fetch items from the portal and add them to an excel from submit4dn"
   ]
  },
  {
   "cell_type": "code",
   "execution_count": null,
   "metadata": {},
   "outputs": [],
   "source": [
    "from dcicutils import ff_utils\n",
    "from functions.notebook_functions import *\n",
    "import xlrd\n",
    "import xlwt\n",
    "import json\n",
    "time1 = time.time()\n",
    "\n",
    "# get key from keypairs.json\n",
    "my_auth = get_key('koray_data')\n",
    "schema_name = get_schema_names(my_key) \n",
    "\n",
    "# template excel\n",
    "excel_file = '/Users/user/Github/Submit4DN/fields.xls'\n",
    "\n",
    "sets_in_scope = [] # ['4DNACCCC', '4DNACCCCC']\n",
    "search_url = \"\"  # \"/search/type=AAAAAAAA\"\n",
    "\n",
    "if sets_in_scope:\n",
    "    set_to_release = [ff_utils.get_metadata(i, my_auth)['uuid'] for i in sets_in_scope]\n",
    "elif search_url:\n",
    "    set_to_release = [i['uuid'] for i in ff_utils.search_metadata(search_url, my_auth)]\n",
    "\n",
    "store={}\n",
    "item_uuids=[]\n",
    "store, uuids = ff_utils.expand_es_metadata(set_to_release, my_auth, add_pc_wfr=False, ignore_field = ['experiment_relation', 'biosample_relation', 'references'])\n",
    "\n",
    "print(len(uuids), 'items collected')\n",
    "time2 = time.time()\n",
    "print(round((time2-time1), 1), 'sec for collection')\n",
    "\n",
    "append_items_to_xls(excel_file, store, schema_name)"
   ]
  }
 ],
 "metadata": {
  "anaconda-cloud": {},
  "kernelspec": {
   "display_name": "Python 3",
   "language": "python",
   "name": "python3"
  },
  "language_info": {
   "codemirror_mode": {
    "name": "ipython",
    "version": 3
   },
   "file_extension": ".py",
   "mimetype": "text/x-python",
   "name": "python",
   "nbconvert_exporter": "python",
   "pygments_lexer": "ipython3",
   "version": "3.5.2"
  }
 },
 "nbformat": 4,
 "nbformat_minor": 2
}
