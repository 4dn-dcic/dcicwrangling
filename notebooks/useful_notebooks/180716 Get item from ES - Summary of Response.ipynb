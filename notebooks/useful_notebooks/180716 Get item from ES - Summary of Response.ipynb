{
 "cells": [
  {
   "cell_type": "code",
   "execution_count": 1,
   "metadata": {},
   "outputs": [
    {
     "name": "stdout",
     "output_type": "stream",
     "text": [
      "#SUMMARY\n",
      "[uuid]       item uuid is b8aada45-1504-428d-91b5-355bc9d158af\n",
      "[item_type] item type is publication\n",
      "\n",
      "#FRAMES\n",
      "[properties] raw frame has 18 keys (uuid is not in)\n",
      "[object]     object frame has 26 keys\n",
      "[embedded]   embedded frame has 26 keys\n",
      "\n",
      "#CONNECTIONS\n",
      "[links]          has 8 fields which are linkTo\n",
      "[links]          has 8 linkTo items\n",
      "[uuids_rev_linked_to_me] has 4 other items linking to item of interest\n",
      "[linked_uuids]   has 10 total linked items (items whose change will effect this one)\n",
      "\n",
      "OTHER keys from response\n",
      "['paths', 'unique_keys', 'principals_allowed', 'sid', 'propsheets', 'audit', 'uuids_rev_linked_to_me']\n"
     ]
    }
   ],
   "source": [
    "### PLEASE COPY NOTEBOOKS TO YOUR FOLDERS TO PREVENT COMMIT CONFLICTS\n",
    "\n",
    "# The ES database can be accessed directly (as opposed to getting items from Fourfront)\n",
    "# The item contains all frames, and also linked uuids.\n",
    "# Here is a sample script to get some items from es database\n",
    "\n",
    "from dcicutils import ff_utils\n",
    "from functions.notebook_functions import get_key\n",
    "\n",
    "my_key = get_key('koray_data')\n",
    "test_item = 'b8aada45-1504-428d-91b5-355bc9d158af'\n",
    "\n",
    "res = ff_utils.get_es_metadata([test_item], key=my_key)[0]\n",
    "print('#SUMMARY')\n",
    "print('[uuid]       item uuid is', res['uuid'])\n",
    "print('[item_type] item type is', res['item_type'])\n",
    "print('\\n#FRAMES')\n",
    "print('[properties] raw frame has', len(res['properties'].keys()), 'keys (uuid is not in)')\n",
    "print('[object]     object frame has', len(res['object'].keys()), 'keys')\n",
    "print('[embedded]   embedded frame has', len(res['embedded'].keys()), 'keys')\n",
    "print('\\n#CONNECTIONS')\n",
    "print('[links]          has', len(res['links'].keys()), 'fields which are linkTo')\n",
    "direct_links = []\n",
    "for key in res['links']:\n",
    "    direct_links.extend(res['links'][key])\n",
    "print('[links]          has', len(direct_links), 'linkTo items')\n",
    "print('[uuids_rev_linked_to_me] has', len(res['uuids_rev_linked_to_me']), 'other items linking to item of interest')\n",
    "print('[linked_uuids]   has', len(res['linked_uuids']), 'total linked items (items whose change will effect this one)')\n",
    "\n",
    "print('\\nOTHER keys from response')\n",
    "print([i for i in res.keys() if i not in 'uuid item_type properties object embedded links linked_uuids'.split(' ')])\n"
   ]
  },
  {
   "cell_type": "code",
   "execution_count": null,
   "metadata": {},
   "outputs": [],
   "source": []
  }
 ],
 "metadata": {
  "kernelspec": {
   "display_name": "Python 3",
   "language": "python",
   "name": "python3"
  },
  "language_info": {
   "codemirror_mode": {
    "name": "ipython",
    "version": 3
   },
   "file_extension": ".py",
   "mimetype": "text/x-python",
   "name": "python",
   "nbconvert_exporter": "python",
   "pygments_lexer": "ipython3",
   "version": "3.5.2"
  }
 },
 "nbformat": 4,
 "nbformat_minor": 2
}
