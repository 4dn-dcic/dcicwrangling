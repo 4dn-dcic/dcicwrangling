{
 "cells": [
  {
   "cell_type": "code",
   "execution_count": null,
   "metadata": {},
   "outputs": [],
   "source": [
    "from dcicutils import ff_utils\n",
    "from functions.notebook_functions import *\n",
    "import pandas as pd\n",
    "\n",
    "my_key = get_key('default')\n",
    "all_labs = ff_utils.search_metadata('/search/?awards.project=4DN&type=Lab', key = my_key)\n",
    "all_awards = ff_utils.search_metadata('/search/?type=Award', key = my_key)\n",
    "all_users = ff_utils.search_metadata('/search/?type=User', key = my_key)\n",
    "print(len(all_labs))"
   ]
  },
  {
   "cell_type": "code",
   "execution_count": null,
   "metadata": {},
   "outputs": [],
   "source": [
    "print(len(all_users))"
   ]
  },
  {
   "cell_type": "code",
   "execution_count": null,
   "metadata": {},
   "outputs": [],
   "source": [
    "print(all_users[0])"
   ]
  },
  {
   "cell_type": "code",
   "execution_count": null,
   "metadata": {},
   "outputs": [],
   "source": [
    "pis_and_coI_users = []\n",
    "job_titles = ['PI', 'Co-I', 'co-I', 'Co-PI', 'co-PI', 'Co-Investigator', 'Contracted PI', 'P.I.', 'collaborator']\n",
    "for user in all_users:\n",
    "    try:\n",
    "        if user['job_title'] in job_titles:\n",
    "            pis_and_coI_users.append(user)\n",
    "    except:\n",
    "        print(user['uuid'])"
   ]
  },
  {
   "cell_type": "code",
   "execution_count": null,
   "metadata": {},
   "outputs": [],
   "source": [
    "print(len(pis_and_coI_users))"
   ]
  },
  {
   "cell_type": "code",
   "execution_count": null,
   "metadata": {},
   "outputs": [],
   "source": [
    "print(pis_and_coI_users[0])"
   ]
  },
  {
   "cell_type": "code",
   "execution_count": null,
   "metadata": {},
   "outputs": [],
   "source": [
    "print(pis_and_coI_users[0]['lab']['awards'])"
   ]
  },
  {
   "cell_type": "code",
   "execution_count": null,
   "metadata": {},
   "outputs": [],
   "source": [
    "for pi in pis_and_coI_users:\n",
    "    print(pi)"
   ]
  },
  {
   "cell_type": "code",
   "execution_count": null,
   "metadata": {},
   "outputs": [],
   "source": [
    "#print(all_awards[0])"
   ]
  },
  {
   "cell_type": "code",
   "execution_count": null,
   "metadata": {},
   "outputs": [],
   "source": [
    "#print(all_users[0])"
   ]
  },
  {
   "cell_type": "code",
   "execution_count": null,
   "metadata": {},
   "outputs": [],
   "source": [
    "# This is how to get the award from the User\n",
    "for user in all_users:\n",
    "    if 'Park' in user['last_name']:\n",
    "        print(user['lab']['awards'][0]['link_id'][8:23])"
   ]
  },
  {
   "cell_type": "code",
   "execution_count": null,
   "metadata": {},
   "outputs": [],
   "source": [
    "all_pis_and_awards = []\n",
    "park = False\n",
    "for pi in pis_and_coI_users:\n",
    "    info = []\n",
    "    pi_fname = pi['first_name']\n",
    "    pi_lname = pi['last_name']\n",
    "\n",
    "    if pi_lname == 'Park' and park == False:\n",
    "        info.append(pi['aliases'][0])\n",
    "        info.append(pi_fname)\n",
    "        info.append(pi_lname)\n",
    "        for item in pi['lab']['awards']:\n",
    "            if item['project'] == '4DN':\n",
    "                info.append(item['link_id'][8:23])\n",
    "        all_pis_and_awards.append(info)\n",
    "        park = True\n",
    "    elif pi_lname != 'Park':\n",
    "        info.append(pi['aliases'][0])\n",
    "        info.append(pi_fname)\n",
    "        info.append(pi_lname)\n",
    "        for item in pi['lab']['awards']:\n",
    "            if item['project'] == '4DN':\n",
    "                info.append(item['link_id'][8:23])\n",
    "        all_pis_and_awards.append(info)     \n",
    "        "
   ]
  },
  {
   "cell_type": "code",
   "execution_count": null,
   "metadata": {},
   "outputs": [],
   "source": [
    "#print(all_labs)"
   ]
  },
  {
   "cell_type": "code",
   "execution_count": null,
   "metadata": {},
   "outputs": [],
   "source": [
    "print(all_pis_and_awards)"
   ]
  },
  {
   "cell_type": "code",
   "execution_count": null,
   "metadata": {},
   "outputs": [],
   "source": [
    "all_pis_and_awards.pop(0)"
   ]
  },
  {
   "cell_type": "code",
   "execution_count": null,
   "metadata": {},
   "outputs": [],
   "source": [
    "print(len(all_pis_and_awards))"
   ]
  },
  {
   "cell_type": "code",
   "execution_count": null,
   "metadata": {},
   "outputs": [],
   "source": [
    "print(all_pis_and_awards[0])"
   ]
  },
  {
   "cell_type": "code",
   "execution_count": null,
   "metadata": {},
   "outputs": [],
   "source": [
    "import collections"
   ]
  },
  {
   "cell_type": "code",
   "execution_count": null,
   "metadata": {},
   "outputs": [],
   "source": [
    "all_pis_and_awards_dic = collections.defaultdict(dict)"
   ]
  },
  {
   "cell_type": "code",
   "execution_count": null,
   "metadata": {},
   "outputs": [],
   "source": [
    "x = 0\n",
    "for item in all_pis_and_awards:\n",
    "    x = x + 1\n",
    "    first_name = item[1]\n",
    "    last_name = item[2]\n",
    "    awards = [item[x] for x in range(3,len(item))]\n",
    "    lab = item[0]\n",
    "    \n",
    "    all_pis_and_awards_dic[lab] = {\"first_name\":first_name, \"last_name\":last_name, \"awards\": awards}"
   ]
  },
  {
   "cell_type": "code",
   "execution_count": null,
   "metadata": {},
   "outputs": [],
   "source": [
    "x = 0\n",
    "for pi in all_pis_and_awards_dic.values():\n",
    "    print(pi[\"first_name\"])\n",
    "    print(pi[\"last_name\"])\n",
    "    print(pi[\"awards\"])\n",
    "    \n",
    "    if x == 2:\n",
    "        break"
   ]
  },
  {
   "cell_type": "code",
   "execution_count": null,
   "metadata": {},
   "outputs": [],
   "source": [
    "print(all_pis_and_awards_dic)"
   ]
  },
  {
   "cell_type": "code",
   "execution_count": null,
   "metadata": {},
   "outputs": [],
   "source": [
    "print(len(all_pis_and_awards_dic.keys()))"
   ]
  },
  {
   "cell_type": "code",
   "execution_count": null,
   "metadata": {},
   "outputs": [],
   "source": [
    "x = 0\n",
    "for key, value in all_pis_and_awards_dic.items():\n",
    "    x = x + 1\n",
    "    print(key, value)\n",
    "    if x == 2:\n",
    "        break"
   ]
  },
  {
   "cell_type": "code",
   "execution_count": null,
   "metadata": {},
   "outputs": [],
   "source": [
    "import json"
   ]
  },
  {
   "cell_type": "code",
   "execution_count": null,
   "metadata": {},
   "outputs": [],
   "source": [
    "with open('Pis_and_awards_unedited.json', 'w') as f:\n",
    "    json.dump(all_pis_and_awards_dic, f, indent=2)\n",
    "    "
   ]
  },
  {
   "cell_type": "code",
   "execution_count": null,
   "metadata": {},
   "outputs": [],
   "source": [
    "with open('Pis_and_awards_unedited.json', 'r') as f:\n",
    "    data = json.load(f)"
   ]
  },
  {
   "cell_type": "code",
   "execution_count": null,
   "metadata": {},
   "outputs": [],
   "source": [
    "print(data)"
   ]
  },
  {
   "cell_type": "code",
   "execution_count": null,
   "metadata": {},
   "outputs": [],
   "source": [
    "x = 0\n",
    "for key in data.values():\n",
    "    x = x + 1\n",
    "    print(key['first_name'])\n",
    "    print(key['last_name'])\n",
    "    print(key['awards'])\n",
    "    print()\n",
    "    if x == 2:\n",
    "        break"
   ]
  },
  {
   "cell_type": "code",
   "execution_count": null,
   "metadata": {},
   "outputs": [],
   "source": [
    "import collections\n",
    "multiple_awards = collections.defaultdict(dict)\n",
    "x = 0\n",
    "for key in data:\n",
    "    if len(data[key]['awards']) > 1:\n",
    "        multiple_awards[key] = data[key]"
   ]
  },
  {
   "cell_type": "code",
   "execution_count": null,
   "metadata": {},
   "outputs": [],
   "source": [
    "print(multiple_awards)"
   ]
  },
  {
   "cell_type": "code",
   "execution_count": null,
   "metadata": {},
   "outputs": [],
   "source": [
    "for pi in multiple_awards.keys():\n",
    "    print(pi)\n",
    "    if multiple_awards[pi]['last_name'] != 'Guttman':\n",
    "        multiple_awards[pi]['awards'] = [multiple_awards[pi]['awards'][0]]"
   ]
  },
  {
   "cell_type": "code",
   "execution_count": null,
   "metadata": {},
   "outputs": [],
   "source": [
    "print(multiple_awards)"
   ]
  },
  {
   "cell_type": "code",
   "execution_count": null,
   "metadata": {},
   "outputs": [],
   "source": [
    "for key1 in data:\n",
    "    for key2 in multiple_awards: \n",
    "        if data[key1] == multiple_awards[key2]:\n",
    "            data[key1] = multiple_awards[key2]"
   ]
  },
  {
   "cell_type": "code",
   "execution_count": null,
   "metadata": {},
   "outputs": [],
   "source": [
    "print(data)"
   ]
  },
  {
   "cell_type": "code",
   "execution_count": null,
   "metadata": {},
   "outputs": [],
   "source": [
    "with open('Pis_and_awards_updated.json', 'w') as f:\n",
    "    json.dump(data, f, indent=2)"
   ]
  },
  {
   "cell_type": "code",
   "execution_count": null,
   "metadata": {},
   "outputs": [],
   "source": [
    "str1 = 'William Noble'"
   ]
  },
  {
   "cell_type": "code",
   "execution_count": null,
   "metadata": {},
   "outputs": [],
   "source": [
    "str2 = 'Noble'"
   ]
  },
  {
   "cell_type": "code",
   "execution_count": null,
   "metadata": {},
   "outputs": [],
   "source": [
    "print(str1[-len(str2):])"
   ]
  },
  {
   "cell_type": "code",
   "execution_count": null,
   "metadata": {},
   "outputs": [],
   "source": [
    "str1 = \"Lei S Qi\""
   ]
  },
  {
   "cell_type": "code",
   "execution_count": null,
   "metadata": {},
   "outputs": [],
   "source": [
    "str2 = \"Lei\""
   ]
  },
  {
   "cell_type": "code",
   "execution_count": null,
   "metadata": {},
   "outputs": [],
   "source": [
    "if str2 in str2:\n",
    "    print('yes')"
   ]
  },
  {
   "cell_type": "code",
   "execution_count": null,
   "metadata": {},
   "outputs": [],
   "source": []
  }
 ],
 "metadata": {
  "kernelspec": {
   "display_name": "Python 3",
   "language": "python",
   "name": "python3"
  },
  "language_info": {
   "codemirror_mode": {
    "name": "ipython",
    "version": 3
   },
   "file_extension": ".py",
   "mimetype": "text/x-python",
   "name": "python",
   "nbconvert_exporter": "python",
   "pygments_lexer": "ipython3",
   "version": "3.7.1"
  }
 },
 "nbformat": 4,
 "nbformat_minor": 2
}
