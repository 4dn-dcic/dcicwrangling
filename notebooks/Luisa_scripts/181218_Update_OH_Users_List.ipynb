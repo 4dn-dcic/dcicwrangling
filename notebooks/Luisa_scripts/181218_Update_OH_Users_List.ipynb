{
 "cells": [
  {
   "cell_type": "code",
   "execution_count": null,
   "metadata": {},
   "outputs": [],
   "source": [
    "# run once\n",
    "# ! pip install gspread oauth2client df2gspread boto3\n",
    "from dcicutils import ff_utils\n",
    "from functions.notebook_functions import *\n",
    "import pandas as pd\n",
    "\n",
    "my_key = get_key('default')\n",
    "\n",
    "all_users = ff_utils.search_metadata('/search/?type=User', key = my_key)\n",
    "#all_labs = ff_utils.search_metadata('/search/?type=Lab', key = my_key)\n",
    "print(len(all_users))\n",
    "#print(len(all_labs))\n",
    "# all_labs = \n",
    "# all_awards = "
   ]
  },
  {
   "cell_type": "code",
   "execution_count": null,
   "metadata": {},
   "outputs": [],
   "source": [
    "for i in all_users:\n",
    "    print(i)\n",
    "    break"
   ]
  },
  {
   "cell_type": "code",
   "execution_count": null,
   "metadata": {},
   "outputs": [],
   "source": [
    "#print(all_labs[0])"
   ]
  },
  {
   "cell_type": "code",
   "execution_count": null,
   "metadata": {},
   "outputs": [],
   "source": [
    "#Check if Users in the Portal are in the OH List and get the ones that are missing in the OH List\n",
    "\n",
    "def check_user(row, col_names, all_users, matched_users_list):\n",
    "    mail = row['Email'].strip().lower()\n",
    "    indx = -1\n",
    "    users_list = []\n",
    "    #If the User is in the Portal, get the name in the portal and get the lab\n",
    "    for i in all_users:\n",
    "        if i['email'] == mail:\n",
    "            matched_users_list.append(i)\n",
    "            return matched_users_list        \n",
    "    print('email does not exist on data', mail)\n",
    "    return matched_users_list\n",
    "        \n",
    "#             lab = i['lab']['display_title']\n",
    "#             users_list.append(first_name_portal)\n",
    "#             users_list.append(last_name_portal)\n",
    "#             users_list.append(mail)\n",
    "#             users_list.append(lab)\n",
    "#             matched_users_list.append(users_list)\n",
    "#             print(first_name_portal,last_name_portal,lab)"
   ]
  },
  {
   "cell_type": "code",
   "execution_count": null,
   "metadata": {},
   "outputs": [],
   "source": [
    "#Complete the new format of the 4DN Members List\n",
    "\n",
    "preferred_email = []\n",
    "login_email = []\n",
    "lab = []\n",
    "status = []\n",
    "first_name = []\n",
    "last_name = []\n",
    "#name in portal?\n",
    "comment = []\n",
    "Role = []\n",
    "project_number = []\n",
    "RFA = []\n",
    "pi_contact = []"
   ]
  },
  {
   "cell_type": "code",
   "execution_count": null,
   "metadata": {
    "scrolled": false
   },
   "outputs": [],
   "source": [
    "# GET OH SHEET\n",
    "import boto3\n",
    "import gspread\n",
    "from oauth2client.service_account import ServiceAccountCredentials\n",
    "import pandas as pd\n",
    "import json\n",
    "\n",
    "# GET KEY FROM S3 \n",
    "s3 = boto3.resource('s3')\n",
    "obj = s3.Object('elasticbeanstalk-fourfront-webprod-system', 'DCICjupgoogle.json')\n",
    "cont = obj.get()['Body'].read().decode()\n",
    "key_dict = json.loads(cont)\n",
    "SCOPES = 'https://www.googleapis.com/auth/spreadsheets.readonly'\n",
    "creds = ServiceAccountCredentials.from_json_keyfile_dict(key_dict, SCOPES)\n",
    "gc = gspread.authorize(creds)\n",
    "\n",
    "# The ID and range of a sample spreadsheet.\n",
    "book_id = '13gFjHcYEwYL2Xpr9-IHtJNYYnYlAQVdyXvCUeSzla6w'\n",
    "sheet_names = ['DCIC & OH', 'IT', 'NT', 'NOFIC', 'NBC','TCPA']\n",
    "book = gc.open_by_key(book_id)\n",
    "\n",
    "\n",
    "users_list = [] #This is the list of the users that are not in the portal, so we can copy and paste them in excel workbook\n",
    "matched_users_list = [] #The users that are in the portal, name in portal and lab they are assigned to \n",
    "indx_list = []\n",
    "\n",
    "for name in sheet_names:\n",
    "    print()\n",
    "    print(name)\n",
    "\n",
    "    worksheet = book.worksheet(name)\n",
    "    table = worksheet.get_all_values()\n",
    "    ##Convert table data into a dataframe\n",
    "    df = pd.DataFrame(table[1:], columns=table[0])\n",
    "    col_names = df.columns.values\n",
    "\n",
    "    for index, row in df.iterrows():\n",
    "        matched_users_list = check_user(row, col_names, all_users, matched_users_list)       \n",
    "print(len(matched_users_list))\n",
    "\n",
    "found_uuids = [i['uuid'] for i in matched_users_list]\n",
    "not_found = [i for i in all_users if i['uuid'] not in found_uuids]            \n",
    "            \n",
    "print(len(not_found), 'not found')\n",
    "            "
   ]
  },
  {
   "cell_type": "code",
   "execution_count": null,
   "metadata": {},
   "outputs": [],
   "source": [
    "print(indx_list)"
   ]
  },
  {
   "cell_type": "code",
   "execution_count": null,
   "metadata": {},
   "outputs": [],
   "source": [
    "for i in matched_users_list:\n",
    "    print(i)"
   ]
  },
  {
   "cell_type": "code",
   "execution_count": null,
   "metadata": {},
   "outputs": [],
   "source": [
    "print(len(matched_users_list))"
   ]
  },
  {
   "cell_type": "code",
   "execution_count": null,
   "metadata": {},
   "outputs": [],
   "source": []
  }
 ],
 "metadata": {
  "kernelspec": {
   "display_name": "Python 3",
   "language": "python",
   "name": "python3"
  },
  "language_info": {
   "codemirror_mode": {
    "name": "ipython",
    "version": 3
   },
   "file_extension": ".py",
   "mimetype": "text/x-python",
   "name": "python",
   "nbconvert_exporter": "python",
   "pygments_lexer": "ipython3",
   "version": "3.7.1"
  }
 },
 "nbformat": 4,
 "nbformat_minor": 2
}
