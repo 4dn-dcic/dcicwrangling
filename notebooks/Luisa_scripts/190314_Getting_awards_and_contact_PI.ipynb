{
 "cells": [
  {
   "cell_type": "code",
   "execution_count": null,
   "metadata": {},
   "outputs": [],
   "source": [
    "from dcicutils import ff_utils\n",
    "from functions.notebook_functions import *\n",
    "import pandas as pd\n",
    "\n",
    "my_key = get_key('default')\n",
    "#all_labs = ff_utils.search_metadata('/search/?awards.project=4DN&type=Lab', key = my_key)\n",
    "all_awards = ff_utils.search_metadata('/search/?type=Award', key = my_key)\n",
    "#all_users = ff_utils.search_metadata('/search/?type=User', key = my_key)\n",
    "#print(len(all_labs))"
   ]
  },
  {
   "cell_type": "code",
   "execution_count": null,
   "metadata": {},
   "outputs": [],
   "source": [
    "print(all_awards[2])"
   ]
  },
  {
   "cell_type": "code",
   "execution_count": null,
   "metadata": {},
   "outputs": [],
   "source": [
    "x = 0\n",
    "awards_and_center = []\n",
    "for award in all_awards:\n",
    "    info = []\n",
    "    try:   \n",
    "        award_center = award['center_title'].split(' - ')\n",
    "        #contact_pi = award_center[1]\n",
    "        #award_name =  award_center[0]\n",
    "        \n",
    "    except:\n",
    "        print(award['uuid'])\n",
    "    else:\n",
    "        award_center.append(award['name'])\n",
    "        awards_and_center.append(award_center)"
   ]
  },
  {
   "cell_type": "code",
   "execution_count": null,
   "metadata": {},
   "outputs": [],
   "source": [
    "print(len(awards_and_center))"
   ]
  },
  {
   "cell_type": "code",
   "execution_count": null,
   "metadata": {},
   "outputs": [],
   "source": [
    "print(awards_and_center)"
   ]
  },
  {
   "cell_type": "code",
   "execution_count": null,
   "metadata": {},
   "outputs": [],
   "source": [
    "no_official_awards = []\n",
    "official_awards = []\n",
    "for info in awards_and_center:\n",
    "    if len(info) <= 2:\n",
    "        no_official_awards.append(info)\n",
    "    elif 'DCIC' not in info:\n",
    "        official_awards.append(info)\n",
    "        \n",
    "        "
   ]
  },
  {
   "cell_type": "code",
   "execution_count": null,
   "metadata": {},
   "outputs": [],
   "source": [
    "print(no_official_awards)"
   ]
  },
  {
   "cell_type": "code",
   "execution_count": null,
   "metadata": {},
   "outputs": [],
   "source": [
    "print(official_awards)"
   ]
  },
  {
   "cell_type": "code",
   "execution_count": null,
   "metadata": {},
   "outputs": [],
   "source": [
    "print(len(official_awards))"
   ]
  },
  {
   "cell_type": "code",
   "execution_count": null,
   "metadata": {},
   "outputs": [],
   "source": [
    "official_awards_dic = {item[2]: {'contact_pi': item[1], 'award_name':item[0]} for item in official_awards}"
   ]
  },
  {
   "cell_type": "code",
   "execution_count": null,
   "metadata": {},
   "outputs": [],
   "source": [
    "print(official_awards_dic)"
   ]
  },
  {
   "cell_type": "code",
   "execution_count": null,
   "metadata": {},
   "outputs": [],
   "source": [
    "import json\n",
    "with open('4DN_official_awards.json', 'w') as f:\n",
    "    json.dump(official_awards_dic, f, indent=2)"
   ]
  },
  {
   "cell_type": "code",
   "execution_count": null,
   "metadata": {},
   "outputs": [],
   "source": []
  }
 ],
 "metadata": {
  "kernelspec": {
   "display_name": "Python 3",
   "language": "python",
   "name": "python3"
  },
  "language_info": {
   "codemirror_mode": {
    "name": "ipython",
    "version": 3
   },
   "file_extension": ".py",
   "mimetype": "text/x-python",
   "name": "python",
   "nbconvert_exporter": "python",
   "pygments_lexer": "ipython3",
   "version": "3.7.1"
  }
 },
 "nbformat": 4,
 "nbformat_minor": 2
}
