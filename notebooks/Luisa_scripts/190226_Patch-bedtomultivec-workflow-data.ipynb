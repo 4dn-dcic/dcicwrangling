{
 "cells": [
  {
   "cell_type": "code",
   "execution_count": 1,
   "metadata": {},
   "outputs": [],
   "source": [
    "from dcicutils import ff_utils\n",
    "from functions.notebook_functions import *\n",
    "\n",
    "# get key from file\n",
    "#my_key = get_key('default')\n",
    "# all usable env names\n",
    "all_envs = ['data', 'staging', 'fourfront-webdev', 'fourfront-mastertest', 'fourfront-hotseat']\n",
    "# get admin key from s3\n",
    "my_key = ff_utils.get_authentication_with_server({}, ff_env = 'fourfront-webdev')\n"
   ]
  },
  {
   "cell_type": "code",
   "execution_count": 12,
   "metadata": {},
   "outputs": [
    {
     "name": "stdout",
     "output_type": "stream",
     "text": [
      "{'accession': '4DNWBTMVLM17', 'app_name': 'bedtomultivec', 'app_version': 'v1', 'arguments': [{'argument_format': '69f6d609-f2ac-4c82-9472-1a13331b5ce9', 'argument_type': 'Input file', 'workflow_argument_name': 'bedfile'}, {'argument_format': 'dba26778-f40a-4561-a552-65539702ded4', 'argument_type': 'Input file', 'workflow_argument_name': 'rows_info'}, {'argument_format': '92537561-4c02-440e-a51f-22b4b08b6918', 'argument_type': 'Output to-be-extra-input file', 'workflow_argument_name': 'multivec_file'}, {'argument_type': 'parameter', 'workflow_argument_name': 'assembly'}, {'argument_type': 'parameter', 'workflow_argument_name': 'resolution'}, {'argument_type': 'parameter', 'workflow_argument_name': 'num_rows'}], 'award': '1U01CA200059-01', 'category': ['format conversion'], 'cwl_child_filenames': [], 'cwl_directory_url': 'https://raw.githubusercontent.com/4dn-dcic/docker-4dn-bedtomultivec/v1/cwl/', 'cwl_main_filename': 'bedtomultivec.cwl', 'cwl_pointer': '', 'description': 'Converting bed to multivec', 'docker_image_name': '4dn-dcic/docker-4dn-bedtomultivec', 'docker_registry_url': 'https://hub.docker.com/', 'lab': '4dn-dcic-lab', 'name': 'bedtomultivec', 'steps': [{'inputs': [{'meta': {'cardinality': 'single', 'file_format': '69f6d609-f2ac-4c82-9472-1a13331b5ce9', 'global': True, 'type': 'data file'}, 'name': 'bedfile', 'source': [{'name': 'bedfile'}]}, {'meta': {'cardinality': 'single', 'file_format': 'dba26778-f40a-4561-a552-65539702ded4', 'global': True, 'type': 'data file'}, 'name': 'rows_info', 'source': [{'name': 'rows_info'}]}], 'meta': {'analysis_step_types': ['file format conversion'], 'software_used': ['/softwares/5de38570-68bf-4545-98b6-d7d51ae08db9/']}, 'name': 'bedtomultivec', 'outputs': [{'meta': {'cardinality': 'single', 'file_format': '92537561-4c02-440e-a51f-22b4b08b6918', 'global': True, 'type': 'data file'}, 'name': 'multivec_file', 'target': [{'name': 'multivec_file'}]}]}], 'title': 'Converting bed to multivec v1', 'uuid': '7b69a0ce-3bc8-4f85-bb34-8a42cecb9b9c'}\n"
     ]
    }
   ],
   "source": [
    "# load json file\n",
    "import json\n",
    "my_new_json = \"/Users/luisa/Documents/4DN/bedtomultivec_workflow/bedtomultivec_insert_workflow_v1.json\"\n",
    "with open(my_new_json) as f:\n",
    "    data = json.load(f)\n",
    "print(data)"
   ]
  },
  {
   "cell_type": "code",
   "execution_count": 8,
   "metadata": {},
   "outputs": [],
   "source": [
    "workflow_uuid = '7b69a0ce-3bc8-4f85-bb34-8a42cecb9b9c'"
   ]
  },
  {
   "cell_type": "code",
   "execution_count": 11,
   "metadata": {},
   "outputs": [
    {
     "name": "stdout",
     "output_type": "stream",
     "text": [
      "35\n",
      "4DNWBTMVLM17 Converting bed to multivec 7b69a0ce-3bc8-4f85-bb34-8a42cecb9b9c\n",
      "\n",
      "7b69a0ce-3bc8-4f85-bb34-8a42cecb9b9c\n"
     ]
    }
   ],
   "source": [
    "q = '/search/?category=processing&type=Workflow'\n",
    "\n",
    "results = ff_utils.search_metadata(q, key=my_key)\n",
    "print(len(results))\n",
    "for i in results:\n",
    "    print(i['accession'], i['title'], i['uuid'])\n",
    "    print()\n",
    "    if i['uuid'] == workflow_uuid:\n",
    "        my_uuid = workflow_uuid\n",
    "        print(my_uuid)\n",
    "        break\n",
    "    "
   ]
  },
  {
   "cell_type": "code",
   "execution_count": 13,
   "metadata": {},
   "outputs": [
    {
     "name": "stdout",
     "output_type": "stream",
     "text": [
      "{'@type': ['result'], '@graph': [{'docker_registry_url': 'https://hub.docker.com/', 'date_created': '2019-02-12T17:30:45.039811+00:00', 'experiment_types': ['Hi-C', 'DAM-ID'], 'external_references': [], 'workflow_language': 'CWL', 'app_name': 'bedtomultivec', 'schema_version': '6', 'accession': '4DNWBTMVLM17', 'docker_image_name': '4dn-dcic/docker-4dn-bedtomultivec', 'status': 'in review by lab', 'cwl_main_filename': 'bedtomultivec.cwl', 'description': 'Converting bed to multivec', 'cwl_child_filenames': [], 'last_modified': {'date_modified': '2019-02-26T20:27:21.036649+00:00', 'modified_by': '/users/986b362f-4eb6-4a9c-8173-3ab267307e3a/'}, 'link_id': '~workflows~7b69a0ce-3bc8-4f85-bb34-8a42cecb9b9c~', 'award': '/awards/1U01CA200059-01/', '@type': ['Workflow', 'Item'], 'display_title': 'Converting bed to multivec v1 - 4DNWBTMVLM17', 'newer_versions': [], 'submitted_by': '/users/986b362f-4eb6-4a9c-8173-3ab267307e3a/', 'uuid': '7b69a0ce-3bc8-4f85-bb34-8a42cecb9b9c', 'arguments': [{'workflow_argument_name': 'bedfile', 'argument_type': 'Input file', 'argument_format': '/file-formats/bed/'}, {'workflow_argument_name': 'rows_info', 'argument_type': 'Input file', 'argument_format': '/file-formats/txt/'}, {'workflow_argument_name': 'multivec_file', 'argument_type': 'Output to-be-extra-input file', 'argument_format': '/file-formats/bed.multires.mv5/'}, {'workflow_argument_name': 'assembly', 'argument_type': 'parameter'}, {'workflow_argument_name': 'resolution', 'argument_type': 'parameter'}, {'workflow_argument_name': 'num_rows', 'argument_type': 'parameter'}], 'name': 'bedtomultivec', 'title': 'Converting bed to multivec v1', 'principals_allowed': {'audit': ['system.Everyone'], 'view': ['award.b0b9c607-f8b4-4f02-93f4-9895b461334b', 'group.admin', 'group.read-only-admin', 'lab.828cd4fe-ebb0-4b36-a94a-d2e3a36cc989', 'remoteuser.EMBED', 'remoteuser.INDEXER'], 'edit': ['group.admin', 'submits_for.828cd4fe-ebb0-4b36-a94a-d2e3a36cc989']}, 'lab': '/labs/4dn-dcic-lab/', 'category': ['format conversion'], 'steps': [{'meta': {'analysis_step_types': ['file format conversion'], 'software_used': ['/softwares/5de38570-68bf-4545-98b6-d7d51ae08db9/']}, 'name': 'bedtomultivec', 'inputs': [{'source': [{'name': 'bedfile'}], 'meta': {'global': True, 'cardinality': 'single', 'file_format': '/file-formats/bed/', 'type': 'data file'}, 'name': 'bedfile'}, {'source': [{'name': 'rows_info'}], 'meta': {'global': True, 'cardinality': 'single', 'file_format': '/file-formats/txt/', 'type': 'data file'}, 'name': 'rows_info'}], 'outputs': [{'meta': {'global': True, 'cardinality': 'single', 'file_format': '92537561-4c02-440e-a51f-22b4b08b6918', 'type': 'data file'}, 'target': [{'name': 'multivec_file'}], 'name': 'multivec_file'}]}], 'app_version': 'v1', 'cwl_directory_url': 'https://raw.githubusercontent.com/4dn-dcic/docker-4dn-bedtomultivec/v1/cwl/', 'cwl_pointer': '', '@id': '/workflows/7b69a0ce-3bc8-4f85-bb34-8a42cecb9b9c/'}], 'status': 'success'}\n"
     ]
    }
   ],
   "source": [
    "action = True\n",
    "addon = \"check_only=True\"\n",
    "if action:\n",
    "    addon = \"\"\n",
    "e = ff_utils.patch_metadata(data,obj_id=my_uuid, key=my_key,\n",
    "                             add_on = addon)\n",
    "print(e)"
   ]
  },
  {
   "cell_type": "code",
   "execution_count": 6,
   "metadata": {},
   "outputs": [
    {
     "name": "stdout",
     "output_type": "stream",
     "text": [
      "['result']\n"
     ]
    }
   ],
   "source": [
    "print(e['@type'])"
   ]
  },
  {
   "cell_type": "code",
   "execution_count": null,
   "metadata": {},
   "outputs": [],
   "source": []
  }
 ],
 "metadata": {
  "kernelspec": {
   "display_name": "Python 3",
   "language": "python",
   "name": "python3"
  },
  "language_info": {
   "codemirror_mode": {
    "name": "ipython",
    "version": 3
   },
   "file_extension": ".py",
   "mimetype": "text/x-python",
   "name": "python",
   "nbconvert_exporter": "python",
   "pygments_lexer": "ipython3",
   "version": "3.7.1"
  }
 },
 "nbformat": 4,
 "nbformat_minor": 2
}
