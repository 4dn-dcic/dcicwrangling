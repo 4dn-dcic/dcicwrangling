{
 "cells": [
  {
   "cell_type": "code",
   "execution_count": 12,
   "metadata": {},
   "outputs": [],
   "source": [
    "from dcicutils import ff_utils\n",
    "from functions.notebook_functions import *\n",
    "\n",
    "# get key from file\n",
    "#my_key = get_key('default')\n",
    "# all usable env names\n",
    "all_envs = ['data', 'staging', 'fourfront-webdev', 'fourfront-mastertest', 'fourfront-hotseat']\n",
    "# get admin key from s3\n",
    "my_key = ff_utils.get_authentication_with_server({}, ff_env = 'data')\n"
   ]
  },
  {
   "cell_type": "code",
   "execution_count": 13,
   "metadata": {},
   "outputs": [
    {
     "name": "stdout",
     "output_type": "stream",
     "text": [
      "{'accession': '4DNWISCLMV03', 'app_name': 'insulator-score-caller', 'app_version': 'dev', 'arguments': [{'argument_format': 'd13d06cf-218e-4f61-ccf0-91f226248b2c', 'argument_type': 'Input file', 'workflow_argument_name': 'mcoolfile'}, {'argument_format': 'd1311111-218e-4f61-aaf0-91f226248b2c', 'argument_type': 'Output processed file', 'workflow_argument_name': 'bwfile'}, {'argument_type': 'parameter', 'workflow_argument_name': 'binsize'}, {'argument_type': 'parameter', 'workflow_argument_name': 'windowsize'}, {'argument_type': 'parameter', 'workflow_argument_name': 'cutoff'}], 'award': '1U01CA200059-01', 'category': ['feature calling'], 'cwl_child_filenames': [], 'cwl_directory_url': 'https://raw.githubusercontent.com/4dn-dcic/docker-4dn-insulator-score-caller/v6.7/cwl/', 'cwl_directory_url_v1': 'https://raw.githubusercontent.com/4dn-dcic/docker-4dn-insulator-score-caller/v6.7/cwl/', 'cwl_main_filename': 'insulator-score-caller.cwl', 'cwl_pointer': '', 'description': 'Gets insulator diamond scores from mcool files in bigwig format', 'docker_image_name': '4dn-dcic/docker-4dn-insulator-score-caller', 'docker_registry_url': 'https://hub.docker.com/', 'lab': '4dn-dcic-lab', 'name': 'insulator-score-caller', 'steps': [{'inputs': [{'meta': {'cardinality': 'single', 'file_format': 'd13d06cf-218e-4f61-ccf0-91f226248b2c', 'global': True, 'type': 'data file'}, 'name': 'mcoolfile', 'source': [{'name': 'mcoolfile'}]}], 'meta': {'analysis_step_types': ['Calling insulator scores'], 'software_used': ['/softwares/fbf26cdc-a507-4a2a-b09d-107e5e86c70d/']}, 'name': 'insulator-score-caller', 'outputs': [{'meta': {'cardinality': 'single', 'file_format': 'd1311111-218e-4f61-aaf0-91f226248b2c', 'global': True, 'type': 'data file'}, 'name': 'bigwfile', 'target': [{'name': 'bwfile'}]}]}], 'title': 'Getting insulator diamond scores from mcool files', 'uuid': '2d23a74d-f33c-4187-b920-af7a8e44280b'}\n"
     ]
    }
   ],
   "source": [
    "# load json file\n",
    "import json\n",
    "my_new_json = \"/Users/luisa/Documents/4DN/insulator-score-caller_workflow/insulator-score-caller-workflow_v3_1.json\"\n",
    "with open(my_new_json) as f:\n",
    "    data = json.load(f)\n",
    "print(data)"
   ]
  },
  {
   "cell_type": "code",
   "execution_count": 14,
   "metadata": {},
   "outputs": [],
   "source": [
    "workflow_uuid = \"2d23a74d-f33c-4187-b920-af7a8e44280b\"\n",
    "#my_uuid = ''"
   ]
  },
  {
   "cell_type": "code",
   "execution_count": 15,
   "metadata": {},
   "outputs": [
    {
     "name": "stdout",
     "output_type": "stream",
     "text": [
      "2\n",
      "4DNWISCLMV03 Getting insulator diamond scores from mcool files 2d23a74d-f33c-4187-b920-af7a8e44280b\n",
      "\n",
      "2d23a74d-f33c-4187-b920-af7a8e44280b\n"
     ]
    }
   ],
   "source": [
    "q = '/search/?category=feature+calling&type=Workflow'\n",
    "\n",
    "results = ff_utils.search_metadata(q, key=my_key)\n",
    "print(len(results))\n",
    "for i in results:\n",
    "    print(i['accession'], i['title'], i['uuid'])\n",
    "    print()\n",
    "    if i['uuid'] == workflow_uuid:\n",
    "        my_uuid = workflow_uuid\n",
    "        print(my_uuid)\n",
    "        break\n",
    "    "
   ]
  },
  {
   "cell_type": "code",
   "execution_count": 16,
   "metadata": {},
   "outputs": [
    {
     "name": "stdout",
     "output_type": "stream",
     "text": [
      "{'@type': ['result'], 'status': 'success', '@graph': [{'last_modified': {'date_modified': '2019-05-15T17:43:33.382215+00:00', 'modified_by': '/users/986b362f-4eb6-4a9c-8173-3ab267307e3a/'}, 'lab': '/labs/4dn-dcic-lab/', 'date_created': '2019-05-09T10:28:59.535555+00:00', 'category': ['feature calling'], 'title': 'Getting insulator diamond scores from mcool files', 'cwl_directory_url': 'https://raw.githubusercontent.com/4dn-dcic/docker-4dn-insulator-score-caller/v6.7/cwl/', 'principals_allowed': {'view': ['award.b0b9c607-f8b4-4f02-93f4-9895b461334b', 'group.admin', 'group.read-only-admin', 'lab.828cd4fe-ebb0-4b36-a94a-d2e3a36cc989', 'remoteuser.EMBED', 'remoteuser.INDEXER'], 'audit': ['system.Everyone'], 'edit': ['group.admin', 'submits_for.828cd4fe-ebb0-4b36-a94a-d2e3a36cc989']}, 'cwl_main_filename': 'insulator-score-caller.cwl', 'cwl_directory_url_v1': 'https://raw.githubusercontent.com/4dn-dcic/docker-4dn-insulator-score-caller/v6.7/cwl/', 'schema_version': '7', 'cwl_pointer': '', '@type': ['Workflow', 'Item'], 'accession': '4DNWISCLMV03', 'status': 'in review by lab', 'external_references': [], 'award': '/awards/1U01CA200059-01/', 'arguments': [{'argument_format': '/file-formats/mcool/', 'workflow_argument_name': 'mcoolfile', 'argument_type': 'Input file'}, {'argument_format': '/file-formats/bw/', 'workflow_argument_name': 'bwfile', 'argument_type': 'Output processed file'}, {'workflow_argument_name': 'binsize', 'argument_type': 'parameter'}, {'workflow_argument_name': 'windowsize', 'argument_type': 'parameter'}, {'workflow_argument_name': 'cutoff', 'argument_type': 'parameter'}], 'uuid': '2d23a74d-f33c-4187-b920-af7a8e44280b', 'submitted_by': '/users/56c9c683-bb11-471b-b590-c656f7dc03c1/', 'steps': [{'inputs': [{'source': [{'name': 'mcoolfile'}], 'meta': {'type': 'data file', 'global': True, 'cardinality': 'single', 'file_format': '/file-formats/mcool/'}, 'name': 'mcoolfile'}], 'outputs': [{'meta': {'type': 'data file', 'global': True, 'cardinality': 'single', 'file_format': 'd1311111-218e-4f61-aaf0-91f226248b2c'}, 'name': 'bigwfile', 'target': [{'name': 'bwfile'}]}], 'meta': {'analysis_step_types': ['Calling insulator scores'], 'software_used': ['/softwares/fbf26cdc-a507-4a2a-b09d-107e5e86c70d/']}, 'name': 'insulator-score-caller'}], 'app_version': 'dev', 'docker_image_name': '4dn-dcic/docker-4dn-insulator-score-caller', 'display_title': 'Getting insulator diamond scores from mcool files - 4DNWISCLMV03', 'docker_registry_url': 'https://hub.docker.com/', 'description': 'Gets insulator diamond scores from mcool files in bigwig format', 'workflow_language': 'CWL', 'cwl_child_filenames': [], 'app_name': 'insulator-score-caller', 'newer_versions': [], '@id': '/workflows/2d23a74d-f33c-4187-b920-af7a8e44280b/', 'name': 'insulator-score-caller'}]}\n"
     ]
    }
   ],
   "source": [
    "action = True\n",
    "addon = \"check_only=True\"\n",
    "if action:\n",
    "    addon = \"\"\n",
    "e = ff_utils.patch_metadata(data,obj_id=my_uuid, key=my_key,\n",
    "                             add_on = addon)\n",
    "print(e)"
   ]
  },
  {
   "cell_type": "code",
   "execution_count": 6,
   "metadata": {},
   "outputs": [
    {
     "name": "stdout",
     "output_type": "stream",
     "text": [
      "['result']\n"
     ]
    }
   ],
   "source": [
    "print(e['@type'])"
   ]
  },
  {
   "cell_type": "code",
   "execution_count": null,
   "metadata": {},
   "outputs": [],
   "source": []
  }
 ],
 "metadata": {
  "kernelspec": {
   "display_name": "Python 3",
   "language": "python",
   "name": "python3"
  },
  "language_info": {
   "codemirror_mode": {
    "name": "ipython",
    "version": 3
   },
   "file_extension": ".py",
   "mimetype": "text/x-python",
   "name": "python",
   "nbconvert_exporter": "python",
   "pygments_lexer": "ipython3",
   "version": "3.7.1"
  }
 },
 "nbformat": 4,
 "nbformat_minor": 2
}
