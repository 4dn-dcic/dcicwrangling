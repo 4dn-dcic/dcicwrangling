{
 "cells": [
  {
   "cell_type": "code",
   "execution_count": 1,
   "metadata": {},
   "outputs": [],
   "source": [
    "from dcicutils import ff_utils\n",
    "from functions.notebook_functions import *\n",
    "\n",
    "# get key from file\n",
    "#my_key = get_key('default')\n",
    "# all usable env names\n",
    "all_envs = ['data', 'staging', 'fourfront-webdev', 'fourfront-mastertest', 'fourfront-hotseat']\n",
    "# get admin key from s3\n",
    "my_key = ff_utils.get_authentication_with_server({}, ff_env = 'fourfront-webdev')\n"
   ]
  },
  {
   "cell_type": "code",
   "execution_count": 2,
   "metadata": {},
   "outputs": [
    {
     "name": "stdout",
     "output_type": "stream",
     "text": [
      "{'accession': '4DNWISCLM174', 'app_name': 'insulator-score-caller', 'app_version': 'dev', 'arguments': [{'argument_format': 'd13d06cf-218e-4f61-ccf0-91f226248b2c', 'argument_type': 'Input file', 'workflow_argument_name': 'mcoolfile'}, {'argument_format': 'd1311111-218e-4f61-aaf0-91f226248b2c', 'argument_type': 'Output processed file', 'workflow_argument_name': 'bwfile'}], 'award': '1U01CA200059-01', 'category': ['feature calling'], 'cwl_child_filenames': [], 'cwl_directory_url': 'https://raw.githubusercontent.com/4dn-dcic/docker-4dn-insulator-score-caller/v6.5/cwl/', 'cwl_main_filename': 'insulator-score-caller.cwl', 'cwl_pointer': '', 'description': 'Gets insulator diamond scores from mcool files in bigwig format', 'docker_image_name': '4dn-dcic/docker-4dn-insulator-score-caller', 'docker_registry_url': 'https://hub.docker.com/', 'lab': '4dn-dcic-lab', 'name': 'insulator-score-caller', 'steps': [{'inputs': [{'meta': {'cardinality': 'single', 'file_format': 'd13d06cf-218e-4f61-ccf0-91f226248b2c', 'global': True, 'type': 'data file'}, 'name': 'mcoolfile', 'source': [{'name': 'mcoolfile'}]}], 'meta': {'analysis_step_types': ['Calling insulator scores'], 'software_used': ['/softwares/6aa31f4e-65d9-40dd-95a4-5c56804bbe2e']}, 'name': 'insulator-score-caller', 'outputs': [{'meta': {'cardinality': 'single', 'file_format': 'd1311111-218e-4f61-aaf0-91f226248b2c', 'global': True, 'type': 'data file'}, 'name': 'bigwfile', 'target': [{'name': 'bwfile'}]}]}], 'title': 'Getting insulator diamond scores from mcool files', 'uuid': '94ca5b40-f841-4912-97e2-45eec91eee68'}\n"
     ]
    }
   ],
   "source": [
    "# load json file\n",
    "import json\n",
    "my_new_json = \"/Users/luisa/Documents/4DN/insulator-score-caller_workflow/insulator-score-caller-workflow.json\"\n",
    "with open(my_new_json) as f:\n",
    "    data = json.load(f)\n",
    "print(data)"
   ]
  },
  {
   "cell_type": "code",
   "execution_count": 3,
   "metadata": {},
   "outputs": [],
   "source": [
    "workflow_uuid = \"94ca5b40-f841-4912-97e2-45eec91eee68\"\n",
    "#my_uuid = ''"
   ]
  },
  {
   "cell_type": "code",
   "execution_count": 4,
   "metadata": {},
   "outputs": [
    {
     "name": "stdout",
     "output_type": "stream",
     "text": [
      "1\n",
      "4DNWISCLM174 Getting insulator diamond scores from mcool files 94ca5b40-f841-4912-97e2-45eec91eee68\n",
      "\n",
      "94ca5b40-f841-4912-97e2-45eec91eee68\n"
     ]
    }
   ],
   "source": [
    "q = '/search/?category=feature+calling&type=Workflow'\n",
    "\n",
    "results = ff_utils.search_metadata(q, key=my_key)\n",
    "print(len(results))\n",
    "for i in results:\n",
    "    print(i['accession'], i['title'], i['uuid'])\n",
    "    print()\n",
    "    if i['uuid'] == workflow_uuid:\n",
    "        my_uuid = workflow_uuid\n",
    "        print(my_uuid)\n",
    "        break\n",
    "    "
   ]
  },
  {
   "cell_type": "code",
   "execution_count": 6,
   "metadata": {},
   "outputs": [
    {
     "name": "stdout",
     "output_type": "stream",
     "text": [
      "{'status': 'success', '@type': ['result'], '@graph': [{'cwl_main_filename': 'insulator-score-caller.cwl', 'external_references': [], 'cwl_child_filenames': [], 'category': ['feature calling'], 'arguments': [{'argument_format': '/file-formats/mcool/', 'argument_type': 'Input file', 'workflow_argument_name': 'mcoolfile'}, {'argument_format': '/file-formats/bw/', 'argument_type': 'Output processed file', 'workflow_argument_name': 'bwfile'}], 'award': '/awards/1U01CA200059-01/', 'app_name': 'insulator-score-caller', 'submitted_by': '/users/986b362f-4eb6-4a9c-8173-3ab267307e3a/', 'accession': '4DNWISCLM174', 'status': 'in review by lab', '@id': '/workflows/94ca5b40-f841-4912-97e2-45eec91eee68/', 'link_id': '~workflows~94ca5b40-f841-4912-97e2-45eec91eee68~', 'description': 'Gets insulator diamond scores from mcool files in bigwig format', 'newer_versions': [], 'cwl_pointer': '', 'last_modified': {'modified_by': '/users/986b362f-4eb6-4a9c-8173-3ab267307e3a/', 'date_modified': '2019-02-20T15:10:01.993260+00:00'}, 'workflow_language': 'CWL', 'display_title': 'Getting insulator diamond scores from mcool files - 4DNWISCLM174', 'app_version': 'dev', 'steps': [{'outputs': [{'meta': {'global': True, 'type': 'data file', 'file_format': 'd1311111-218e-4f61-aaf0-91f226248b2c', 'cardinality': 'single'}, 'name': 'bigwfile', 'target': [{'name': 'bwfile'}]}], 'meta': {'analysis_step_types': ['Calling insulator scores'], 'software_used': ['/softwares/6aa31f4e-65d9-40dd-95a4-5c56804bbe2e/']}, 'inputs': [{'meta': {'global': True, 'type': 'data file', 'file_format': '/file-formats/mcool/', 'cardinality': 'single'}, 'name': 'mcoolfile', 'source': [{'name': 'mcoolfile'}]}], 'name': 'insulator-score-caller'}], 'lab': '/labs/4dn-dcic-lab/', 'docker_registry_url': 'https://hub.docker.com/', 'schema_version': '6', 'uuid': '94ca5b40-f841-4912-97e2-45eec91eee68', '@type': ['Workflow', 'Item'], 'principals_allowed': {'edit': ['group.admin', 'submits_for.828cd4fe-ebb0-4b36-a94a-d2e3a36cc989'], 'audit': ['system.Everyone'], 'view': ['award.b0b9c607-f8b4-4f02-93f4-9895b461334b', 'group.admin', 'group.read-only-admin', 'lab.828cd4fe-ebb0-4b36-a94a-d2e3a36cc989', 'remoteuser.EMBED', 'remoteuser.INDEXER']}, 'docker_image_name': '4dn-dcic/docker-4dn-insulator-score-caller', 'date_created': '2019-02-15T20:09:44.448766+00:00', 'title': 'Getting insulator diamond scores from mcool files', 'name': 'insulator-score-caller', 'cwl_directory_url': 'https://raw.githubusercontent.com/4dn-dcic/docker-4dn-insulator-score-caller/v6.5/cwl/'}]}\n"
     ]
    }
   ],
   "source": [
    "action = True\n",
    "addon = \"check_only=True\"\n",
    "if action:\n",
    "    addon = \"\"\n",
    "e = ff_utils.patch_metadata(data,obj_id=my_uuid, key=my_key,\n",
    "                             add_on = addon)\n",
    "print(e)"
   ]
  },
  {
   "cell_type": "code",
   "execution_count": 6,
   "metadata": {},
   "outputs": [
    {
     "name": "stdout",
     "output_type": "stream",
     "text": [
      "['result']\n"
     ]
    }
   ],
   "source": [
    "print(e['@type'])"
   ]
  },
  {
   "cell_type": "code",
   "execution_count": null,
   "metadata": {},
   "outputs": [],
   "source": []
  }
 ],
 "metadata": {
  "kernelspec": {
   "display_name": "Python 3",
   "language": "python",
   "name": "python3"
  },
  "language_info": {
   "codemirror_mode": {
    "name": "ipython",
    "version": 3
   },
   "file_extension": ".py",
   "mimetype": "text/x-python",
   "name": "python",
   "nbconvert_exporter": "python",
   "pygments_lexer": "ipython3",
   "version": "3.7.1"
  }
 },
 "nbformat": 4,
 "nbformat_minor": 2
}
