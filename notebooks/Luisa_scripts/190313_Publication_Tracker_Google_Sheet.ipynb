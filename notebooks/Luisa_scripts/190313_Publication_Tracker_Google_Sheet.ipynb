{
 "cells": [
  {
   "cell_type": "code",
   "execution_count": null,
   "metadata": {},
   "outputs": [],
   "source": [
    "# Get all the information for each publication for each grant to copy to the spreadsheets"
   ]
  },
  {
   "cell_type": "code",
   "execution_count": null,
   "metadata": {},
   "outputs": [],
   "source": [
    "import os\n",
    "import json\n",
    "import collections\n",
    "\n",
    "pubs_grant_primary = collections.defaultdict(dict)\n",
    "pubs_grant_secondary = collections.defaultdict(dict)\n",
    "pubs_grant_secondary_spreadsheet = collections.defaultdict(dict)\n",
    "\n",
    "\n",
    "fname_grant_jsons = os.listdir(\"/Users/luisa/pub_tracker_test/data_grant\")\n",
    "x = 0\n",
    "for fname_json in fname_grant_jsons:\n",
    "    with open(\"/Users/luisa/pub_tracker_test/data_grant/\" + fname_json,\"r\") as fp:\n",
    "        x = x + 1\n",
    "        dic_pergrant = json.load(fp)\n",
    "        pubs = dic_pergrant.keys()\n",
    "        grant_name = fname_json[:-5]\n",
    "        print(grant_name)\n",
    "        for pub in pubs:\n",
    "            authors = {pub: \"; \".join(dic_pergrant[pub][\"authors\"]) for pub in pubs}\n",
    "            title = {pub:dic_pergrant[pub][\"title\"] for pub in pubs}\n",
    "            link = {pub:dic_pergrant[pub][\"link\"] for pub in pubs}\n",
    "            date = {pub:dic_pergrant[pub][\"date\"] for pub in pubs}\n",
    "            other_ids = {pub:\";\".join(dic_pergrant[pub][\"other_ids\"]) for pub in pubs}\n",
    "            primary_awards = {pub:\";\".join(dic_pergrant[pub][\"primary_awards\"]) if len(dic_pergrant[pub][\"primary_awards\"]) > 1 else \" -- \" for pub in pubs}\n",
    "            secondary_awards = {pub:\";\".join(dic_pergrant[pub][\"secondary_awards\"]) for pub in pubs}\n",
    "            contact_4DN_author = {pub:dic_pergrant[pub][\"4DN_member_author\"] for pub in pubs}\n",
    "            added_date = {pub:dic_pergrant[pub][\"added\"] for pub in pubs}\n",
    "            \n",
    "    pubs_grant_primary[grant_name]['title']= [title[pub] for pub in title]\n",
    "    pubs_grant_primary[grant_name]['authors']= [authors[pub] for pub in authors]\n",
    "    pubs_grant_primary[grant_name]['date']= [date[pub] for pub in date]\n",
    "    pubs_grant_primary[grant_name]['link']= [link[pub] for pub in link]\n",
    "    pubs_grant_primary[grant_name]['other_ids'] = [other_ids[pub] for pub in other_ids]\n",
    "    pubs_grant_primary[grant_name]['primary_awards'] = [primary_awards[pub] for pub in primary_awards]\n",
    "    pubs_grant_primary[grant_name]['secondary_awards'] = [secondary_awards[pub] for pub in secondary_awards]\n",
    "    pubs_grant_primary[grant_name]['date_added'] = [added_date[pub] for pub in added_date]\n",
    "    pubs_grant_primary[grant_name]['contact_4DN_author'] = [contact_4DN_author[pub] for pub in contact_4DN_author]\n",
    "    \n",
    "    #print(pubs_grant_primary[grant_name])\n",
    "    for key in secondary_awards:\n",
    "        #print(key)\n",
    "        if secondary_awards[key] != '':\n",
    "            if ';' not in secondary_awards[key]:\n",
    "                pubs_grant_secondary[secondary_awards[key]][key] = dic_pergrant[key]\n",
    "            else:\n",
    "                sec_awards_list = i.split(';')\n",
    "                for sec_award in sec_awards_list:\n",
    "                        pubs_grant_secondary[sec_award][key] = dic_pergrant[key]\n",
    "\n",
    "for grant in pubs_grant_secondary:\n",
    "    pubs_grant_secondary_spreadsheet[grant]['title'] = [pubs_grant_secondary[grant][pub][\"title\"] for pub in pubs_grant_secondary[grant]]\n",
    "    pubs_grant_secondary_spreadsheet[grant]['authors'] =  [\"; \".join(pubs_grant_secondary[grant][pub][\"authors\"]) for pub in pubs_grant_secondary[grant]]\n",
    "    pubs_grant_secondary_spreadsheet[grant]['date'] = [pubs_grant_secondary[grant][pub][\"date\"] for pub in pubs_grant_secondary[grant]]\n",
    "    pubs_grant_secondary_spreadsheet[grant]['link'] = [pubs_grant_secondary[grant][pub][\"link\"] for pub in pubs_grant_secondary[grant]]\n",
    "    pubs_grant_secondary_spreadsheet[grant]['other_ids'] = [\";\".join(pubs_grant_secondary[grant][pub][\"other_ids\"]) for pub in pubs_grant_secondary[grant]]\n",
    "    pubs_grant_secondary_spreadsheet[grant]['primary_awards'] = [ \";\".join(pubs_grant_secondary[grant][pub][\"primary_awards\"]) for pub in pubs_grant_secondary[grant]]\n",
    "    pubs_grant_secondary_spreadsheet[grant]['secondary_awards'] = [ \";\".join(pubs_grant_secondary[grant][pub][\"secondary_awards\"]) if len(pubs_grant_secondary[grant]) > 1 else \"--\" for pub in pubs_grant_secondary[grant]]\n",
    "    pubs_grant_secondary_spreadsheet[grant][\"added_date\"] = [pubs_grant_secondary[grant][pub][\"added\"] for pub in pubs_grant_secondary[grant]]\n",
    "    pubs_grant_secondary_spreadsheet[grant]['contact_4DN_author'] = [pubs_grant_secondary[grant][pub][\"4DN_member_author\"] for pub in pubs_grant_secondary[grant]]\n",
    "\n",
    "#print(pubs_grant_secondary_spreadsheet.keys())\n",
    "    "
   ]
  },
  {
   "cell_type": "code",
   "execution_count": 1,
   "metadata": {},
   "outputs": [],
   "source": [
    "import boto3\n",
    "import gspread\n",
    "from oauth2client.service_account import ServiceAccountCredentials\n",
    "import pandas as pd\n",
    "import json\n",
    "s3 = boto3.resource('s3')\n",
    "obj = s3.Object('elasticbeanstalk-fourfront-webprod-system', 'DCICjupgoogle.json')\n",
    "cont = obj.get()['Body'].read().decode()\n",
    "key_dict = json.loads(cont)\n",
    "SCOPES = 'https://www.googleapis.com/auth/spreadsheets'\n",
    "creds = ServiceAccountCredentials.from_json_keyfile_dict(key_dict, SCOPES)\n",
    "gc = gspread.authorize(creds)\n",
    "\n",
    "google_management_sheet_id = 'here goes the link'"
   ]
  },
  {
   "cell_type": "code",
   "execution_count": null,
   "metadata": {},
   "outputs": [],
   "source": [
    "#Opens google management spreadsheet to read links of grant spreadhseet\n",
    "google_management_spreadsheet = gc.open_by_key(google_management_sheet_id)\n",
    "google_management_sheet = google_management_spreadsheet.sheet1\n",
    "#print(google_management_sheet)"
   ]
  },
  {
   "cell_type": "code",
   "execution_count": null,
   "metadata": {},
   "outputs": [],
   "source": [
    "#values_list_row = google_management_sheet.row_values(2)# Give the row number and get the values of that row\n",
    "#print(values_list_row)\n",
    "#values_list_col = google_management_sheet.col_values(2) # Give the col number and get the values of that col\n",
    "#print(values_list_col)\n",
    "#list_of_lists = worksheet.get_all_values() #Get all the values of the spreadsheet"
   ]
  },
  {
   "cell_type": "code",
   "execution_count": null,
   "metadata": {},
   "outputs": [],
   "source": [
    "grant_sheets_links = google_management_sheet.get_all_values()"
   ]
  },
  {
   "cell_type": "code",
   "execution_count": null,
   "metadata": {},
   "outputs": [],
   "source": [
    "print(grant_sheets_links[2])"
   ]
  },
  {
   "cell_type": "code",
   "execution_count": null,
   "metadata": {},
   "outputs": [],
   "source": []
  },
  {
   "cell_type": "code",
   "execution_count": null,
   "metadata": {},
   "outputs": [],
   "source": [
    "import time\n",
    "\n",
    "col_labels = ['Title', 'Authors','Date', 'Link', 'Other ids', 'Primary_awards', 'Secondary Awards','Date added', 'Contact 4DN Author']\n",
    "reqst_ct = 1\n",
    "row = 2\n",
    "col = 1\n",
    "for grant in pubs_grant_primary:\n",
    "    if grant == \"U01CA200060\":\n",
    "        continue\n",
    "    gs_write = []\n",
    "    for item in grant_sheets_links:\n",
    "        if grant in item[1]:\n",
    "            spreadsheet_id = item[2]\n",
    "            if reqst_ct >= 90:\n",
    "                time.sleep(100)\n",
    "                reqst_ct = 0\n",
    "                spreadsheet = gc.open_by_key(spreadsheet_id)\n",
    "                print('Working on ', spreadsheet)\n",
    "                reqst_ct += 1\n",
    "            else:\n",
    "                spreadsheet = gc.open_by_key(spreadsheet_id)\n",
    "                print('Working on ', spreadsheet)\n",
    "                reqst_ct += 1\n",
    "                \n",
    "            if reqst_ct >= 90:\n",
    "                time.sleep(100)\n",
    "                reqst_ct = 0\n",
    "                try:\n",
    "                    worksheet = spreadsheet.worksheet('Publication List')   \n",
    "                    reqst_ct += 1\n",
    "                except:\n",
    "                    worksheet = spreadsheet.add_worksheet(title='Publication List', rows='200', cols='15')\n",
    "                    reqst_ct += 1\n",
    "            else:\n",
    "                try:\n",
    "                    worksheet = spreadsheet.worksheet('Publication List')   \n",
    "                    reqst_ct += 1\n",
    "                            \n",
    "                except:\n",
    "                    worksheet = spreadsheet.add_worksheet(title='Publication List', rows='200', cols='15')\n",
    "                    reqst_ct += 1\n",
    "    col = 1\n",
    "    row = 1\n",
    "    for label in col_labels:\n",
    "            gs_write.append(gspread.models.Cell(1,col,label))\n",
    "            col += 1\n",
    "    \n",
    "    col = 1\n",
    "    for item in pubs_grant_primary[grant].values():\n",
    "        row = 2\n",
    "        for info in item:\n",
    "            gs_write.append(gspread.models.Cell(row,col,info))\n",
    "            row += 1\n",
    "        col += 1 \n",
    "\n",
    "    row += 2\n",
    "    new_row = row\n",
    "    col = 1\n",
    "\n",
    "    for item in pubs_grant_secondary_spreadsheet[grant].values():\n",
    "        new_row = row\n",
    "        for info in item:\n",
    "            gs_write.append(gspread.models.Cell(row,col,info))\n",
    "            new_row += 1\n",
    "        col += 1 \n",
    "        \n",
    "        \n",
    "    print(gs_write)\n",
    "    print()\n",
    "    worksheet.update_cells(gs_write)\n",
    "    reqst_ct += 1"
   ]
  },
  {
   "cell_type": "code",
   "execution_count": null,
   "metadata": {},
   "outputs": [],
   "source": [
    "gs_write"
   ]
  },
  {
   "cell_type": "code",
   "execution_count": null,
   "metadata": {},
   "outputs": [],
   "source": [
    "print(pubs_grant_primary.keys())"
   ]
  },
  {
   "cell_type": "code",
   "execution_count": null,
   "metadata": {},
   "outputs": [],
   "source": [
    "print(grant_sheets_links)"
   ]
  },
  {
   "cell_type": "code",
   "execution_count": null,
   "metadata": {},
   "outputs": [],
   "source": []
  },
  {
   "cell_type": "code",
   "execution_count": null,
   "metadata": {},
   "outputs": [],
   "source": [
    "# Opens json that lists the contact PI for each grant\n",
    "#with open(\"/Users/luisa/pub_tracker_test/4DN_official_awards.json\", 'r') as file:\n",
    "#    contact_pi_grants = json.load(file)"
   ]
  },
  {
   "cell_type": "code",
   "execution_count": null,
   "metadata": {},
   "outputs": [],
   "source": [
    "#print(contact_pi_grants['TCPA-2017-09'])"
   ]
  },
  {
   "cell_type": "code",
   "execution_count": null,
   "metadata": {},
   "outputs": [],
   "source": [
    "#grants_4dn = contact_pi_grants.keys()"
   ]
  },
  {
   "cell_type": "code",
   "execution_count": null,
   "metadata": {},
   "outputs": [],
   "source": [
    "#print(len(grants_4dn))"
   ]
  },
  {
   "cell_type": "code",
   "execution_count": null,
   "metadata": {},
   "outputs": [],
   "source": [
    "#creates a cell object\n",
    "#data = gspread.models.Cell(1,1,'Hello')"
   ]
  },
  {
   "cell_type": "code",
   "execution_count": null,
   "metadata": {},
   "outputs": [],
   "source": [
    "with open('/Users/luisa/pub_tracker_test/data_post/biorxiv-024620.json', 'r') as f:\n",
    "    data = json.load(f)"
   ]
  },
  {
   "cell_type": "code",
   "execution_count": null,
   "metadata": {},
   "outputs": [],
   "source": [
    "print(data)"
   ]
  },
  {
   "cell_type": "code",
   "execution_count": null,
   "metadata": {},
   "outputs": [],
   "source": [
    "latest = data['latest']"
   ]
  },
  {
   "cell_type": "code",
   "execution_count": null,
   "metadata": {},
   "outputs": [],
   "source": [
    "print(latest)"
   ]
  },
  {
   "cell_type": "code",
   "execution_count": null,
   "metadata": {},
   "outputs": [],
   "source": [
    "latest['awards']"
   ]
  },
  {
   "cell_type": "code",
   "execution_count": null,
   "metadata": {},
   "outputs": [],
   "source": [
    "len(latest['awards'])"
   ]
  },
  {
   "cell_type": "code",
   "execution_count": null,
   "metadata": {},
   "outputs": [],
   "source": [
    "latest['awards'][0] == 'NONE'"
   ]
  },
  {
   "cell_type": "code",
   "execution_count": null,
   "metadata": {},
   "outputs": [],
   "source": []
  }
 ],
 "metadata": {
  "kernelspec": {
   "display_name": "Python 3",
   "language": "python",
   "name": "python3"
  },
  "language_info": {
   "codemirror_mode": {
    "name": "ipython",
    "version": 3
   },
   "file_extension": ".py",
   "mimetype": "text/x-python",
   "name": "python",
   "nbconvert_exporter": "python",
   "pygments_lexer": "ipython3",
   "version": "3.7.1"
  }
 },
 "nbformat": 4,
 "nbformat_minor": 2
}
