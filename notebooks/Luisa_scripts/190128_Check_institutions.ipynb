{
 "cells": [
  {
   "cell_type": "code",
   "execution_count": null,
   "metadata": {},
   "outputs": [],
   "source": [
    "from dcicutils import ff_utils\n",
    "from functions.notebook_functions import *\n",
    "\n",
    "# get key from file\n",
    "my_key = get_key('default')\n",
    "# all usable env names\n",
    "all_envs = ['data', 'staging', 'fourfront-webdev', 'fourfront-mastertest', 'fourfront-hotseat']\n",
    "# get admin key from s3\n",
    "#my_key = ff_utils.get_authentication_with_server({}, ff_env = 'data')\n"
   ]
  },
  {
   "cell_type": "code",
   "execution_count": null,
   "metadata": {},
   "outputs": [],
   "source": [
    "q = '/search/?type=Lab'\n",
    "results = ff_utils.search_metadata(q, key=my_key)\n",
    "print(len(results))"
   ]
  },
  {
   "cell_type": "code",
   "execution_count": null,
   "metadata": {},
   "outputs": [],
   "source": [
    "for i in results:\n",
    "    if i['institute_label'] == '':\n",
    "        print(i['@id'],i['uuid'])\n",
    "        print()"
   ]
  },
  {
   "cell_type": "code",
   "execution_count": null,
   "metadata": {},
   "outputs": [],
   "source": [
    "for i in results:\n",
    "    try:\n",
    "        a,b = i['display_title'].split(',')\n",
    "    except:\n",
    "        continue\n",
    "        \n",
    "    liste = [i['uuid'], a.strip(), b.strip(), i['institute_label'], i['institute_name']]\n",
    "    print(';'.join(liste))\n",
    "    "
   ]
  },
  {
   "cell_type": "code",
   "execution_count": null,
   "metadata": {},
   "outputs": [],
   "source": [
    "if liste[2] == liste[3]:\n",
    "    print(liste[1], liste[2], liste[3])"
   ]
  },
  {
   "cell_type": "code",
   "execution_count": null,
   "metadata": {},
   "outputs": [],
   "source": [
    "print(title[2])\n",
    "\n",
    "my_list = a.strip().split(',')\n",
    "my_list = [i.strip() for i in a.split(',')]"
   ]
  },
  {
   "cell_type": "code",
   "execution_count": null,
   "metadata": {},
   "outputs": [],
   "source": [
    "action = False\n",
    "\n",
    "for a_hit in results:\n",
    "    print(a_hit['uuid'], a_hit['status'])\n",
    "    \n",
    "    raw_response = ff_utils.get_metadata(a_hit['uuid'], key =my_key, add_on='frame=raw')\n",
    "    print(raw_response)\n",
    "    print()\n",
    "    print(a_hit)\n",
    "    addon = \"check_only=True\"\n",
    "    if action:\n",
    "        addon = \"\"\n",
    "    ff_utils.patch_metadata({\"status\":\"deleted\"},obj_id=a_hit['uuid'], key=my_key,\n",
    "                             add_on = addon)\n",
    "    break\n"
   ]
  },
  {
   "cell_type": "code",
   "execution_count": null,
   "metadata": {},
   "outputs": [],
   "source": []
  },
  {
   "cell_type": "code",
   "execution_count": null,
   "metadata": {},
   "outputs": [],
   "source": []
  }
 ],
 "metadata": {
  "kernelspec": {
   "display_name": "Python 3",
   "language": "python",
   "name": "python3"
  },
  "language_info": {
   "codemirror_mode": {
    "name": "ipython",
    "version": 3
   },
   "file_extension": ".py",
   "mimetype": "text/x-python",
   "name": "python",
   "nbconvert_exporter": "python",
   "pygments_lexer": "ipython3",
   "version": "3.7.1"
  }
 },
 "nbformat": 4,
 "nbformat_minor": 2
}
