{
 "cells": [
  {
   "cell_type": "code",
   "execution_count": null,
   "metadata": {},
   "outputs": [],
   "source": [
    "from dcicutils import ff_utils\n",
    "from functions.notebook_functions import *\n",
    "import pandas as pd\n",
    "\n",
    "my_key = get_key('default')\n",
    "all_labs = ff_utils.search_metadata('/search/?awards.project=4DN&type=Lab', key = my_key)\n",
    "all_awards = ff_utils.search_metadata('/search/?type=Award', key = my_key)\n",
    "all_users = ff_utils.search_metadata('/search/?type=User', key = my_key)\n",
    "print(len(all_labs))"
   ]
  },
  {
   "cell_type": "code",
   "execution_count": null,
   "metadata": {},
   "outputs": [],
   "source": [
    "print(len(all_users))"
   ]
  },
  {
   "cell_type": "code",
   "execution_count": null,
   "metadata": {},
   "outputs": [],
   "source": [
    "pis_and_coI_users = []\n",
    "job_titles = ['PI', 'Co-I', 'co-I', 'Co-PI', 'co-PI', 'Co-Investigator', 'Contracted PI', 'P.I.', 'collaborator']\n",
    "for user in all_users:\n",
    "    try:\n",
    "        if user['job_title'] in job_titles:\n",
    "            pis_and_coI_users.append(user)\n",
    "    except:\n",
    "        print(user['uuid'])"
   ]
  },
  {
   "cell_type": "code",
   "execution_count": null,
   "metadata": {},
   "outputs": [],
   "source": [
    "print(len(pis_and_coI_users))"
   ]
  },
  {
   "cell_type": "code",
   "execution_count": null,
   "metadata": {},
   "outputs": [],
   "source": [
    "for pi in pis_and_coI_users:\n",
    "    print(pi['last_name'])"
   ]
  },
  {
   "cell_type": "code",
   "execution_count": null,
   "metadata": {},
   "outputs": [],
   "source": []
  },
  {
   "cell_type": "code",
   "execution_count": null,
   "metadata": {},
   "outputs": [],
   "source": [
    "#print(all_labs[0])"
   ]
  },
  {
   "cell_type": "code",
   "execution_count": null,
   "metadata": {},
   "outputs": [],
   "source": [
    "for user in all_users:\n",
    "    if 'Danko' in user['last_name']:\n",
    "        print('here')"
   ]
  },
  {
   "cell_type": "code",
   "execution_count": null,
   "metadata": {},
   "outputs": [],
   "source": [
    "print(all_awards[0])"
   ]
  },
  {
   "cell_type": "code",
   "execution_count": null,
   "metadata": {},
   "outputs": [],
   "source": [
    "print(all_users[0])"
   ]
  },
  {
   "cell_type": "code",
   "execution_count": null,
   "metadata": {},
   "outputs": [],
   "source": [
    "for user in all_users:\n",
    "    if 'Park' in user['last_name']:\n",
    "        print(user)"
   ]
  },
  {
   "cell_type": "code",
   "execution_count": null,
   "metadata": {},
   "outputs": [],
   "source": [
    "x = 0\n",
    "for lab in all_labs:\n",
    "    x = x + 1\n",
    "    try:\n",
    "        print(lab['pi'])\n",
    "    except:\n",
    "        print(lab['uuid'])\n",
    "    if x == 3:\n",
    "        break"
   ]
  },
  {
   "cell_type": "code",
   "execution_count": null,
   "metadata": {},
   "outputs": [],
   "source": [
    "#for award in all_awards:\n",
    "#   print(award)\n",
    "#   print()\n",
    "#    print()"
   ]
  },
  {
   "cell_type": "code",
   "execution_count": null,
   "metadata": {},
   "outputs": [],
   "source": [
    "all_pis = []\n",
    "for lab in all_labs:\n",
    "    try:\n",
    "        pi = ff_utils.get_metadata(lab['pi']['@id'], key = my_key)\n",
    "    except:\n",
    "        print(lab['uuid'])\n",
    "    else:\n",
    "        all_pis.append(pi)\n",
    "    "
   ]
  },
  {
   "cell_type": "code",
   "execution_count": null,
   "metadata": {},
   "outputs": [],
   "source": [
    "print(len(all_pis))"
   ]
  },
  {
   "cell_type": "code",
   "execution_count": null,
   "metadata": {},
   "outputs": [],
   "source": [
    "#print(all_pis[0])"
   ]
  },
  {
   "cell_type": "code",
   "execution_count": null,
   "metadata": {},
   "outputs": [],
   "source": [
    "#print(all_labs)"
   ]
  },
  {
   "cell_type": "code",
   "execution_count": null,
   "metadata": {},
   "outputs": [],
   "source": [
    "all_pis_and_awards = []\n",
    "park = False\n",
    "for pi in all_pis:\n",
    "    info = []\n",
    "    pi_fname = pi['first_name']\n",
    "    pi_lname = pi['last_name']\n",
    "    pi_awards = []\n",
    "    \n",
    "    if pi_lname == 'Park' and park == False:\n",
    "        for item in pi['lab']['awards']:\n",
    "            if item['project'] == '4DN':\n",
    "                pi_awards.append(item['@id'][8:-1])\n",
    "        info.append(pi['lab']['name'])\n",
    "        info.append(pi_fname)\n",
    "        info.append(pi_lname)\n",
    "        for award in pi_awards:\n",
    "            if award != 'external-award':\n",
    "                info.append(award)\n",
    "        all_pis_and_awards.append(info)\n",
    "        park = True\n",
    "    elif pi_lname != 'Park':\n",
    "        for item in pi['lab']['awards']:\n",
    "            if item['project'] == '4DN':\n",
    "                pi_awards.append(item['@id'][8:-1])\n",
    "        info.append(pi['lab']['name'])\n",
    "        info.append(pi_fname)\n",
    "        info.append(pi_lname)\n",
    "        for award in pi_awards:\n",
    "            if award != 'external-award':\n",
    "                info.append(award)\n",
    "        all_pis_and_awards.append(info)     \n",
    "        "
   ]
  },
  {
   "cell_type": "code",
   "execution_count": null,
   "metadata": {},
   "outputs": [],
   "source": [
    "#print(all_pis_and_awards)"
   ]
  },
  {
   "cell_type": "code",
   "execution_count": null,
   "metadata": {},
   "outputs": [],
   "source": [
    "print(len(all_pis_and_awards))"
   ]
  },
  {
   "cell_type": "code",
   "execution_count": null,
   "metadata": {},
   "outputs": [],
   "source": [
    "print(all_pis_and_awards[0])"
   ]
  },
  {
   "cell_type": "code",
   "execution_count": null,
   "metadata": {},
   "outputs": [],
   "source": [
    "import collections"
   ]
  },
  {
   "cell_type": "code",
   "execution_count": null,
   "metadata": {},
   "outputs": [],
   "source": [
    "all_pis_and_awards_dic = collections.defaultdict(dict)"
   ]
  },
  {
   "cell_type": "code",
   "execution_count": null,
   "metadata": {},
   "outputs": [],
   "source": [
    "\n",
    "for item in all_pis_and_awards:\n",
    "    x = x + 1\n",
    "    first_name = item[1]\n",
    "    last_name = item[2]\n",
    "    awards = [item[x] for x in range(3,len(item))]\n",
    "    lab = item[0]\n",
    "    \n",
    "    all_pis_and_awards_dic[lab] = {\"first_name\":first_name, \"last_name\":last_name, \"awards\": awards}"
   ]
  },
  {
   "cell_type": "code",
   "execution_count": null,
   "metadata": {},
   "outputs": [],
   "source": [
    "print(first_name)\n",
    "print(last_name)\n",
    "print(awards)"
   ]
  },
  {
   "cell_type": "code",
   "execution_count": null,
   "metadata": {},
   "outputs": [],
   "source": [
    "print(all_pis_and_awards_dic)"
   ]
  },
  {
   "cell_type": "code",
   "execution_count": null,
   "metadata": {},
   "outputs": [],
   "source": [
    "for key in all_pis_and_awards_dic.keys():\n",
    "    print(key)"
   ]
  },
  {
   "cell_type": "code",
   "execution_count": null,
   "metadata": {},
   "outputs": [],
   "source": [
    "x = 0\n",
    "for key, value in all_pis_and_awards_dic.items():\n",
    "    x = x + 1\n",
    "    print(key, value)\n",
    "    if x == 2:\n",
    "        break"
   ]
  },
  {
   "cell_type": "code",
   "execution_count": null,
   "metadata": {},
   "outputs": [],
   "source": [
    "import json"
   ]
  },
  {
   "cell_type": "code",
   "execution_count": null,
   "metadata": {},
   "outputs": [],
   "source": [
    "with open('Pis_and_awards.json', 'w') as f:\n",
    "    json.dump(all_pis_and_awards_dic, f, indent=2)\n",
    "    "
   ]
  },
  {
   "cell_type": "code",
   "execution_count": null,
   "metadata": {},
   "outputs": [],
   "source": [
    "with open('Pis_and_awards.json', 'r') as f:\n",
    "    data = json.load(f)"
   ]
  },
  {
   "cell_type": "code",
   "execution_count": null,
   "metadata": {},
   "outputs": [],
   "source": [
    "print(data)"
   ]
  },
  {
   "cell_type": "code",
   "execution_count": null,
   "metadata": {},
   "outputs": [],
   "source": [
    "x = 0\n",
    "for key in data.values():\n",
    "    x = x + 1\n",
    "    print(key['first_name'])\n",
    "    print(key['last_name'])\n",
    "    print(key['awards'])\n",
    "    print()\n",
    "    if x == 2:\n",
    "        break"
   ]
  },
  {
   "cell_type": "code",
   "execution_count": null,
   "metadata": {},
   "outputs": [],
   "source": [
    "import collections\n",
    "multiple_awards = collections.defaultdict(dict)\n",
    "x = 0\n",
    "for key in data:\n",
    "    if len(data[key]['awards']) > 1:\n",
    "        multiple_awards[key] = data[key]"
   ]
  },
  {
   "cell_type": "code",
   "execution_count": null,
   "metadata": {},
   "outputs": [],
   "source": [
    "print(multiple_awards)"
   ]
  },
  {
   "cell_type": "code",
   "execution_count": null,
   "metadata": {},
   "outputs": [],
   "source": [
    "for pi in multiple_awards.keys():\n",
    "    print(pi)\n",
    "    if multiple_awards[pi]['last_name'] != 'Guttman':\n",
    "        multiple_awards[pi]['awards'] = [multiple_awards[pi]['awards'][0]]"
   ]
  },
  {
   "cell_type": "code",
   "execution_count": null,
   "metadata": {},
   "outputs": [],
   "source": [
    "print(multiple_awards)"
   ]
  },
  {
   "cell_type": "code",
   "execution_count": null,
   "metadata": {},
   "outputs": [],
   "source": [
    "for key1 in data:\n",
    "    for key2 in multiple_awards: \n",
    "        if data[key1] == multiple_awards[key2]:\n",
    "            data[key1] = multiple_awards[key2]"
   ]
  },
  {
   "cell_type": "code",
   "execution_count": null,
   "metadata": {},
   "outputs": [],
   "source": [
    "print(data)"
   ]
  },
  {
   "cell_type": "code",
   "execution_count": null,
   "metadata": {},
   "outputs": [],
   "source": [
    "with open('Pis_and_awards_updated.json', 'w') as f:\n",
    "    json.dump(data, f, indent=2)"
   ]
  },
  {
   "cell_type": "code",
   "execution_count": null,
   "metadata": {},
   "outputs": [],
   "source": []
  }
 ],
 "metadata": {
  "kernelspec": {
   "display_name": "Python 3",
   "language": "python",
   "name": "python3"
  },
  "language_info": {
   "codemirror_mode": {
    "name": "ipython",
    "version": 3
   },
   "file_extension": ".py",
   "mimetype": "text/x-python",
   "name": "python",
   "nbconvert_exporter": "python",
   "pygments_lexer": "ipython3",
   "version": "3.7.1"
  }
 },
 "nbformat": 4,
 "nbformat_minor": 2
}
