{
 "cells": [
  {
   "cell_type": "code",
   "execution_count": null,
   "metadata": {},
   "outputs": [],
   "source": [
    "import requests\n",
    "import GEOparse\n",
    "import xml.etree.ElementTree as ET\n",
    "import pandas \n",
    "from pandas import DataFrame as DF\n",
    "from dcicutils import ff_utils\n",
    "from functions.notebook_functions import *"
   ]
  },
  {
   "cell_type": "code",
   "execution_count": null,
   "metadata": {},
   "outputs": [],
   "source": [
    "#Getting excel file\n",
    "readExcel = pandas.read_excel(r'/Users/luisa/Documents/4DN/Wrangling/Hi-C Datasets.xlsx')\n",
    "df = DF(readExcel, columns = ['order', 'title','link','submitter','score','grouping','famous','details'])\n"
   ]
  },
  {
   "cell_type": "code",
   "execution_count": null,
   "metadata": {},
   "outputs": [],
   "source": [
    "All_GEO_list = df['link']\n",
    "scores_list = df['score']\n",
    "no_pubmed_list = []\n",
    "parseGEO_error_list = []\n",
    "organism_error_list = []\n",
    "pubmed_GEO_list = []\n",
    "pubmed_Score_list = []\n",
    "no_pubmed_Score_list = []\n",
    "geo_title_col = []\n",
    "geo_authors_col = []"
   ]
  },
  {
   "cell_type": "code",
   "execution_count": null,
   "metadata": {},
   "outputs": [],
   "source": [
    "#New Table\n",
    "pubID_col = []\n",
    "Title_col = []\n",
    "Authors_col = []\n",
    "Human_col = []\n",
    "Mouse_col = []\n",
    "Keyword_col = []\n",
    "year_col = []\n",
    "status_col = []\n",
    "link_col = []"
   ]
  },
  {
   "cell_type": "code",
   "execution_count": null,
   "metadata": {},
   "outputs": [],
   "source": [
    "x = -1\n",
    "for GEOacc in All_GEO_list:\n",
    "    x = x + 1\n",
    "    print(GEOacc)\n",
    "    #Get the GEO information from GEO accession\n",
    "    print(\"Get the GEO information from GEO accession\")\n",
    "    try:\n",
    "        gse = GEOparse.get_GEO(GEOacc)\n",
    "    except:\n",
    "        parseGEO_list.append(GEOacc)\n",
    "        pubID_col.append('N/A')\n",
    "        Title_col.append('N/A')\n",
    "        Authors_col.append('N/A')\n",
    "        Keyword_col.append('N/A')\n",
    "        year_col.append('N/A')\n",
    "        Mouse_col.append('N/A')\n",
    "        Human_col.append('N/A')\n",
    "        continue\n",
    "    #Get metadata\n",
    "    metadata = gse.metadata\n",
    "    #metadata.keys()\n",
    "    #Get Data of interest\n",
    "    try:\n",
    "        pubID_i = gse.metadata['pubmed_id']\n",
    "    except:\n",
    "        try:\n",
    "            geo_title = gse.metadata['title']\n",
    "        except:\n",
    "            geo_title = 'N/A'\n",
    "        try:\n",
    "            geo_authors = gse.metadata['contributor']\n",
    "        except:\n",
    "            geo_authors = 'N/A'\n",
    "            \n",
    "        no_pubmed_Score_list.append(scores_list[x])\n",
    "        no_pubmed_list.append(GEOacc)\n",
    "        geo_title_col.append(geo_title)\n",
    "        geo_authors_col.append(geo_authors)\n",
    "        \n",
    "        continue\n",
    "    pubID = str(pubID_i[0])\n",
    "    pubID_col.append(pubID)\n",
    "    \n",
    "    #Getting infor from pubmed using the pubmed ID\n",
    "    \n",
    "    \n",
    "    #Getting xml format\n",
    "    pubmed_URL_xml = \"https://eutils.ncbi.nlm.nih.gov/entrez/eutils/efetch.fcgi?db=pubmed&id=\" + pubID +\"&retmode=xml\"\n",
    "    #print(pubmed_URL_xml)\n",
    "    response = requests.get(pubmed_URL_xml)\n",
    "    tree = ET.fromstring(response.content)\n",
    "#     with open('file2.xml', 'wb') as f:\n",
    "#         f.write(response.content)\n",
    "#     tree = ET.parse('file2.xml')\n",
    "    \n",
    "    #The Data is stored in the child of the root\n",
    "    # child = tree.getchildren()\n",
    "    # print(child)\n",
    "#     root = tree.getroot()\n",
    "    for i in tree:\n",
    "        child = i\n",
    "    \n",
    "    #The data is stored in the child of the root\n",
    "    #The info of interest is in the medlineCitation level\n",
    "    medlineCitation = 'MedlineCitation'\n",
    "    \n",
    "    #This are the elements of interest in this datalevel:\n",
    "    Article = 'Article'\n",
    "    KeywordList = 'KeywordList' #each element only has a single item. no index needed with for loop\n",
    "    \n",
    "    #Elements of Interest in Article level:\n",
    "    AuthorList = 'AuthorList'  # there are several, each item has last name index = 0, first name = 1, and abbrev = 2\n",
    "    ArticleTitle = 'ArticleTitle' # there is only one object so index = 0\n",
    "    ArticleDate = 'ArticleDate' # there are several, each item has a Year index = 0, Month index = 0, and day index = 3\n",
    "    \n",
    "    Author_List = []\n",
    "    keyword_list = []\n",
    "    \n",
    "    for i in child:\n",
    "        if medlineCitation in str(i):\n",
    "            for item in i:\n",
    "                if Article in str(item):\n",
    "                    for ele in item:\n",
    "                        if ArticleTitle in str(ele):\n",
    "                            Article_Title = ele.text\n",
    "                            Title_col.append(Article_Title)\n",
    "                        \n",
    "                        if ArticleDate in str(ele):\n",
    "                            Article_Year = ele[0].text\n",
    "                            year_col.append(Article_Year)\n",
    "                            \n",
    "                        if AuthorList in str(ele):\n",
    "                            for author in ele:\n",
    "                                if len(author) >= 2:\n",
    "                                    Lname = author[0].text\n",
    "                                    Iname = author[1].text\n",
    "                                    complName = Lname + ', ' + Iname\n",
    "                                else:\n",
    "                                    Lname = author[0].text\n",
    "                                    complName = Lname\n",
    "                                Author_List.append(complName)\n",
    "                        \n",
    "                if KeywordList in str(item):\n",
    "                    for ele in item:\n",
    "                        keyword = ele.text\n",
    "                        keyword_list.append(keyword)\n",
    "    \n",
    "    Authors_col.append(Author_List)\n",
    "    Keyword_col.append(keyword_list)\n",
    "    pubmed_GEO_list.append(GEOacc)\n",
    "    pubmed_Score_list.append(scores_list[x])\n",
    "    \n",
    "    #Getting Info from the GEO website\n",
    "    print(\"Getting Info from the GEO website\")\n",
    "    URL_GEO_web = \"https://www.ncbi.nlm.nih.gov/geo/query/acc.cgi?acc=\" + GEOacc\n",
    "    print(URL_GEO_web) \n",
    "    \n",
    "    response2 = requests.get(URL_GEO_web)\n",
    "    my_file = response2.content.decode()\n",
    "\n",
    "    \n",
    "    #Organism Key Word:\n",
    "    mouse1 = 'Mus musculus'\n",
    "    human1 = 'Homo sapiens'\n",
    "\n",
    "    if mouse1 in my_file:\n",
    "        is_mouse = 'yes'\n",
    "    else:\n",
    "        is_mouse = 'no'\n",
    "    Mouse_col.append(is_mouse)\n",
    "            \n",
    "    if human1 in my_file:\n",
    "        is_human = 'yes'\n",
    "    else:\n",
    "        is_human = 'no'\n",
    "    Human_col.append(is_human)\n",
    "    "
   ]
  },
  {
   "cell_type": "code",
   "execution_count": null,
   "metadata": {},
   "outputs": [],
   "source": [
    "#Make sure the lists the same number of elements"
   ]
  },
  {
   "cell_type": "code",
   "execution_count": null,
   "metadata": {},
   "outputs": [],
   "source": [
    "print(len(pubmed_GEO_list))\n",
    "print(len(pubID_col))\n",
    "print(len(Authors_col))\n",
    "#Technique_col = []\n",
    "print(len(Human_col))\n",
    "print(len(Mouse_col))\n",
    "print(len(Keyword_col))\n",
    "print(len(year_col))\n",
    "print(len(no_pubmed_list))\n",
    "print(len(parseGEO_error_list))\n",
    "print(len(pubmed_Score_list))\n",
    "print(len(no_pubmed_Score_list))\n",
    "print(len(geo_title_col))\n",
    "print(len(geo_authors_col))"
   ]
  },
  {
   "cell_type": "code",
   "execution_count": null,
   "metadata": {},
   "outputs": [],
   "source": []
  },
  {
   "cell_type": "code",
   "execution_count": null,
   "metadata": {},
   "outputs": [],
   "source": [
    "#Check if publications in the list are in the portal"
   ]
  },
  {
   "cell_type": "code",
   "execution_count": null,
   "metadata": {},
   "outputs": [],
   "source": [
    "# get key from file\n",
    "my_key = get_key('default')\n",
    "# all usable env names\n",
    "all_envs = ['data', 'staging', 'fourfront-webdev', 'fourfront-mastertest', 'fourfront-hotseat']\n",
    "# get admin key from s3\n",
    "#my_key = ff_utils.get_authentication_with_server({}, ff_env = 'fourfront-hotseat')"
   ]
  },
  {
   "cell_type": "code",
   "execution_count": null,
   "metadata": {},
   "outputs": [],
   "source": [
    "q = '/search/?type=Publication'\n",
    "results = ff_utils.search_metadata(q, key=my_key)"
   ]
  },
  {
   "cell_type": "code",
   "execution_count": null,
   "metadata": {},
   "outputs": [],
   "source": [
    "res_title_list=[]\n",
    "res_uuid_list =[]\n",
    "for i in results:\n",
    "    res_title_list.append(i['title'])\n",
    "    res_uuid_list.append(i['uuid'])"
   ]
  },
  {
   "cell_type": "code",
   "execution_count": null,
   "metadata": {},
   "outputs": [],
   "source": [
    "print(len(res_title_list))\n",
    "print(len(res_uuid_list))"
   ]
  },
  {
   "cell_type": "code",
   "execution_count": null,
   "metadata": {},
   "outputs": [],
   "source": [
    "print(res_title_list)"
   ]
  },
  {
   "cell_type": "code",
   "execution_count": null,
   "metadata": {},
   "outputs": [],
   "source": []
  },
  {
   "cell_type": "code",
   "execution_count": null,
   "metadata": {},
   "outputs": [],
   "source": [
    "#Get the index of the publications that are already in the portal\n",
    "index_list = []\n",
    "for title in Title_col:\n",
    "    if title in res_title_list:\n",
    "        x = -1\n",
    "        for ele in res_title_list:\n",
    "            x = x + 1\n",
    "            if title == ele:\n",
    "                status = 'submitted'\n",
    "                url = 'https://data.4dnucleome.org/publications/' + res_uuid_list[x]\n",
    "                break\n",
    "                   \n",
    "    else:\n",
    "        status = 'no_submitted'\n",
    "        url = ''\n",
    "    status_col.append(status)      \n",
    "    link_col.append(url)\n",
    "    \n",
    "        "
   ]
  },
  {
   "cell_type": "code",
   "execution_count": null,
   "metadata": {},
   "outputs": [],
   "source": [
    "#Export to excel"
   ]
  },
  {
   "cell_type": "code",
   "execution_count": null,
   "metadata": {},
   "outputs": [],
   "source": [
    "#This is the table of GEO accessions that have a publication\n",
    "COLUMN = ['GEO-Accession','PMID','Title','Authors','Human','Mouse','Keywords', 'Score', 'Status','Link to Portal']\n",
    "Dic = {'GEO-Accession':pubmed_GEO_list,'PMID':pubID_col,'Title':Title_col,'Authors':Authors_col,'Human':Human_col,'Mouse':Mouse_col,'Keywords':Keyword_col,'Score':pubmed_Score_list,'Status':status_col,'Link to Portal':link_col}"
   ]
  },
  {
   "cell_type": "code",
   "execution_count": null,
   "metadata": {},
   "outputs": [],
   "source": [
    "new_df = pandas.DataFrame(Dic, columns=COLUMN)\n"
   ]
  },
  {
   "cell_type": "code",
   "execution_count": null,
   "metadata": {},
   "outputs": [],
   "source": [
    "#This is the table of GEO accessions that do not have a publication\n",
    "COLUMN_t2 = ['GEO-Accession','Title','Contributors']\n",
    "Dic_t2 = {'GEO-Accession':no_pubmed_list,'Title':geo_title_col,'Contributors':geo_authors_col}"
   ]
  },
  {
   "cell_type": "code",
   "execution_count": null,
   "metadata": {},
   "outputs": [],
   "source": [
    "new_df_t2 = pandas.DataFrame(Dic_t2, columns=COLUMN_t2)"
   ]
  },
  {
   "cell_type": "code",
   "execution_count": null,
   "metadata": {},
   "outputs": [],
   "source": [
    "writer = pandas.ExcelWriter('results4.xlsx')"
   ]
  },
  {
   "cell_type": "code",
   "execution_count": null,
   "metadata": {},
   "outputs": [],
   "source": [
    "new_df.to_excel(writer,'sheet1')"
   ]
  },
  {
   "cell_type": "code",
   "execution_count": null,
   "metadata": {},
   "outputs": [],
   "source": [
    "new_df_t2.to_excel(writer,'sheet2')"
   ]
  },
  {
   "cell_type": "code",
   "execution_count": null,
   "metadata": {},
   "outputs": [],
   "source": [
    "writer.save()"
   ]
  },
  {
   "cell_type": "code",
   "execution_count": null,
   "metadata": {},
   "outputs": [],
   "source": []
  },
  {
   "cell_type": "code",
   "execution_count": null,
   "metadata": {},
   "outputs": [],
   "source": [
    "#Filter repeated PMID"
   ]
  },
  {
   "cell_type": "code",
   "execution_count": null,
   "metadata": {},
   "outputs": [],
   "source": [
    "#Getting excel file\n",
    "readExcel = pandas.read_excel(r'/Users/luisa/Documents/Github/dcicwrangling/notebooks/Luisa_scripts/results5.xlsx')\n",
    "new_table_df = DF(readExcel, columns = COLUMN)"
   ]
  },
  {
   "cell_type": "code",
   "execution_count": null,
   "metadata": {},
   "outputs": [],
   "source": [
    "#The PMID should be sorted\n",
    "new_geo_column = []\n",
    "new_PMID_column = []\n",
    "new_Title_column = []\n",
    "new_Authors_column = []\n",
    "new_human_col = []\n",
    "new_mouse_col = []\n",
    "new_keywords_Col = []\n",
    "new_Score_col = []\n",
    "new_status_col = []\n",
    "new_link_col = []\n",
    "x = 0\n",
    "ct = 0\n",
    "new_list = []\n",
    "while x <= 225:\n",
    "    new_list.append(new_table_df['GEO-Accession'][ct])\n",
    "    new_PMID_column.append(new_table_df['PMID'][ct])\n",
    "    new_Title_column.append(new_table_df['Title'][ct])\n",
    "    new_Authors_column.append(new_table_df['Authors'][ct])\n",
    "    new_human_col.append(new_table_df['Human'][ct])\n",
    "    new_mouse_col.append(new_table_df['Mouse'][ct])\n",
    "    new_keywords_Col.append(new_table_df['Keywords'][ct])\n",
    "    new_Score_col.append(new_table_df['Score'][ct])\n",
    "    new_status_col.append(new_table_df['Status'][ct])\n",
    "    new_link_col.append(new_table_df['Link to Portal'][ct])\n",
    "    ct = ct + 1\n",
    "    if ct != 226:\n",
    "        while new_table_df['PMID'][x] == new_table_df['PMID'][ct]:\n",
    "            new_list.append(new_table_df['GEO-Accession'][ct])\n",
    "            ct = ct + 1\n",
    "            if ct == 226:\n",
    "                break\n",
    "    x = ct\n",
    "    new_geo_column.append(new_list)\n",
    "    new_list = []\n"
   ]
  },
  {
   "cell_type": "code",
   "execution_count": null,
   "metadata": {},
   "outputs": [],
   "source": [
    "print(len(new_geo_column))"
   ]
  },
  {
   "cell_type": "code",
   "execution_count": null,
   "metadata": {
    "scrolled": true
   },
   "outputs": [],
   "source": [
    "print(new_geo_column)"
   ]
  },
  {
   "cell_type": "code",
   "execution_count": null,
   "metadata": {},
   "outputs": [],
   "source": [
    "print(len(new_geo_column))\n",
    "print(len(new_PMID_column))\n",
    "print(len(new_Title_column))\n",
    "print(len(new_Authors_column))\n",
    "print(len(new_human_col))\n",
    "print(len(new_keywords_Col))\n",
    "print(len(new_Score_col))\n",
    "print(len(new_status_col))\n",
    "print(len(new_link_col))"
   ]
  },
  {
   "cell_type": "code",
   "execution_count": null,
   "metadata": {},
   "outputs": [],
   "source": [
    "#This is the table of GEO accessions that have a publication\n",
    "COLUMN = ['GEO-Accession','PMID','Title','Authors','Human','Mouse','Keywords', 'Score', 'Status','Link to Portal']\n",
    "Dic = {'GEO-Accession':new_geo_column,'PMID':new_PMID_column,'Title':new_Title_column,'Authors':new_Authors_column,'Human':new_human_col,'Mouse':new_mouse_col,'Keywords':new_keywords_Col,'Score':new_Score_col,'Status':new_status_col,'Link to Portal':new_link_col}\n"
   ]
  },
  {
   "cell_type": "code",
   "execution_count": null,
   "metadata": {},
   "outputs": [],
   "source": [
    "filter_df = pandas.DataFrame(Dic, columns=COLUMN)"
   ]
  },
  {
   "cell_type": "code",
   "execution_count": null,
   "metadata": {},
   "outputs": [],
   "source": [
    "writer = pandas.ExcelWriter('results6.xlsx')\n",
    "filter_df.to_excel(writer,'sheet1')\n",
    "new_df_t2.to_excel(writer,'sheet2')\n",
    "writer.save()"
   ]
  },
  {
   "cell_type": "code",
   "execution_count": null,
   "metadata": {},
   "outputs": [],
   "source": [
    "print(len(link_col))"
   ]
  },
  {
   "cell_type": "code",
   "execution_count": null,
   "metadata": {},
   "outputs": [],
   "source": [
    "print(status_col)"
   ]
  },
  {
   "cell_type": "code",
   "execution_count": null,
   "metadata": {},
   "outputs": [],
   "source": [
    "print(link_col)"
   ]
  },
  {
   "cell_type": "code",
   "execution_count": null,
   "metadata": {},
   "outputs": [],
   "source": [
    "print(Title_col)"
   ]
  },
  {
   "cell_type": "code",
   "execution_count": null,
   "metadata": {},
   "outputs": [],
   "source": [
    "print(res_title_list)"
   ]
  },
  {
   "cell_type": "code",
   "execution_count": null,
   "metadata": {},
   "outputs": [],
   "source": [
    "# for i in Authors_col:\n",
    "#     str_Authors_col = ','.join(str(e) for e in Authors_col)\n",
    "# for i in Keyword_col: \n",
    "#     str_Keyword_col = ','.join(str(e) for e in Keyword_col)\n",
    "    "
   ]
  },
  {
   "cell_type": "code",
   "execution_count": null,
   "metadata": {},
   "outputs": [],
   "source": []
  },
  {
   "cell_type": "code",
   "execution_count": null,
   "metadata": {},
   "outputs": [],
   "source": []
  },
  {
   "cell_type": "code",
   "execution_count": null,
   "metadata": {},
   "outputs": [],
   "source": []
  },
  {
   "cell_type": "code",
   "execution_count": null,
   "metadata": {},
   "outputs": [],
   "source": []
  },
  {
   "cell_type": "code",
   "execution_count": null,
   "metadata": {},
   "outputs": [],
   "source": [
    "#Get the GEO information from GEO accession\n",
    "gse = GEOparse.get_GEO('GSE71831')"
   ]
  },
  {
   "cell_type": "code",
   "execution_count": null,
   "metadata": {},
   "outputs": [],
   "source": [
    "#Get metadata\n",
    "metadata = gse.metadata\n",
    "metadata.keys()"
   ]
  },
  {
   "cell_type": "code",
   "execution_count": null,
   "metadata": {},
   "outputs": [],
   "source": [
    "#Get Data of interest\n",
    "pubID_i = gse.metadata['pubmed_id']\n",
    "contributors = gse.metadata['contributor']\n",
    "summary = gse.metadata['summary']\n",
    "exp_design = gse.metadata['overall_design']\n",
    "exp_type = gse.metadata['type']"
   ]
  },
  {
   "cell_type": "code",
   "execution_count": null,
   "metadata": {},
   "outputs": [],
   "source": [
    "#Getting infor from pubmed using the pubmed ID\n",
    "pubID = str(pubID_i[0])\n",
    "#Getting xml format\n",
    "pubmed_URL_xml = \"https://eutils.ncbi.nlm.nih.gov/entrez/eutils/efetch.fcgi?db=pubmed&id=\" + pubID +\"&retmode=xml\"\n",
    "print(pubmed_URL_xml)\n",
    "response = requests.get(pubmed_URL_xml)\n",
    "with open('file.xml', 'wb') as f:\n",
    "    f.write(response.content)\n",
    "tree = ET.parse('file.xml')\n"
   ]
  },
  {
   "cell_type": "code",
   "execution_count": null,
   "metadata": {},
   "outputs": [],
   "source": [
    "#The Data is stored in the child of the root\n",
    "# child = tree.getchildren()\n",
    "# print(child)\n",
    "root = tree.getroot()\n",
    "for i in root:\n",
    "    child = i\n",
    "print(child)\n"
   ]
  },
  {
   "cell_type": "code",
   "execution_count": null,
   "metadata": {},
   "outputs": [],
   "source": [
    "#The data is stored in the child of the root\n",
    "#The info of interest is in the medlineCitation level\n",
    "medlineCitation = 'MedlineCitation'\n",
    "#This are the elements of interest in this datalevel:\n",
    "Article = 'Article'\n",
    "KeywordList = 'KeywordList' #each element only has a single item. no index needed with for loop\n"
   ]
  },
  {
   "cell_type": "code",
   "execution_count": null,
   "metadata": {},
   "outputs": [],
   "source": [
    "#Elements of Interest in Article level:\n",
    "AuthorList = 'AuthorList'  # there are several, each item has last name index = 0, first name = 1, and abbrev = 2\n",
    "ArticleTitle = 'ArticleTitle' # there is only one object so index = 0\n",
    "ArticleDate = 'ArticleDate' # there are several, each item has a Year index = 0, Month index = 0, and day index = 3"
   ]
  },
  {
   "cell_type": "code",
   "execution_count": null,
   "metadata": {},
   "outputs": [],
   "source": [
    "for i in child:\n",
    "    if medlineCitation in str(i):\n",
    "        for item in i:\n",
    "            print(item)\n",
    "            if Article in str(item):\n",
    "                for ele in item:\n",
    "                    print(ele)\n",
    "                    if ArticleTitle in str(ele):\n",
    "                        Article_Title = ele.text\n",
    "                        print(Article_Title)\n",
    "                        \n",
    "                    if ArticleDate in str(ele):\n",
    "                        Article_Year = ele[0].text\n",
    "                        print(Article_Year)\n",
    "                            \n",
    "                    if AuthorList in str(ele):\n",
    "                        Author_List = []\n",
    "                        for author in ele:\n",
    "                            Lname = author[0].text\n",
    "                            Iname = author[1].text\n",
    "                            complName = Lname + ', ' + Iname\n",
    "                            Author_List.append(complName)\n",
    "                        print(Author_List)\n",
    "                        \n",
    "            \n",
    "            if KeywordList in str(item):\n",
    "                keyword_list = []\n",
    "                for ele in item:\n",
    "                    keyword = ele.text\n",
    "                    keyword_list.append(keyword)\n",
    "                print(keyword_list)\n",
    "    #Getting Info from the GEO website\n",
    "    URL_GEO_web = \"https://www.ncbi.nlm.nih.gov/geo/query/acc.cgi?acc=\" + 'GSE71831'\n",
    "    print(URL_GEO_web)\n",
    "    \n",
    "    response2 = requests.get(URL_GEO_web)\n",
    "    my_file = response2.content.decode()\n",
    "    #Organism Key Word:\n",
    "    mouse1 = 'Mus musculus'\n",
    "    human1 = 'Homo sapiens'\n",
    "\n",
    "    if mouse1 in my_file:\n",
    "        is_mouse = 'yes'\n",
    "        \n",
    "    if human1 in my_file:\n",
    "        print('human')\n",
    "        is_human = 'yes'\n",
    "    \n"
   ]
  },
  {
   "cell_type": "code",
   "execution_count": null,
   "metadata": {},
   "outputs": [],
   "source": [
    "Author_List"
   ]
  },
  {
   "cell_type": "code",
   "execution_count": null,
   "metadata": {},
   "outputs": [],
   "source": [
    "Article_Year"
   ]
  },
  {
   "cell_type": "code",
   "execution_count": null,
   "metadata": {},
   "outputs": [],
   "source": [
    "Article_Title\n"
   ]
  },
  {
   "cell_type": "code",
   "execution_count": null,
   "metadata": {},
   "outputs": [],
   "source": [
    "keyword_list"
   ]
  },
  {
   "cell_type": "code",
   "execution_count": null,
   "metadata": {},
   "outputs": [],
   "source": [
    "#Getting Info from the GEO website\n",
    "URL_GEO_web = \"https://www.ncbi.nlm.nih.gov/geo/query/acc.cgi?acc=\" + GEOacc\n",
    "print(URL_GEO_web)"
   ]
  },
  {
   "cell_type": "code",
   "execution_count": null,
   "metadata": {},
   "outputs": [],
   "source": [
    "response2 = requests.get(URL_GEO_web)\n",
    "my_file = response2.content.decode()\n"
   ]
  },
  {
   "cell_type": "code",
   "execution_count": null,
   "metadata": {},
   "outputs": [],
   "source": [
    "#Organism Key Word:\n",
    "mouse1 = 'Mus musculus'\n",
    "human1 = 'Homo sapiens'\n",
    "\n",
    "if mouse1 in my_file:\n",
    "    print('mouse')\n",
    "    is_mouse = 'yes'\n",
    "if human1 in my_file:\n",
    "    print('human')\n",
    "    is_human = 'yes'"
   ]
  },
  {
   "cell_type": "code",
   "execution_count": null,
   "metadata": {},
   "outputs": [],
   "source": [
    "#New Table\n",
    "pubID_col = []\n",
    "Title_col = []\n",
    "Authors_col = []\n",
    "Technique_col = []\n",
    "Human_col = []\n",
    "Mouse_col = []\n",
    "Keyword_col = []\n",
    "year_col = []\n",
    "score_col = []\n",
    "\n",
    "new_df = pandas.DataFrame({'pubID':pubID_col, 'title':Title_col}, columns=['pubID', 'title'])"
   ]
  },
  {
   "cell_type": "code",
   "execution_count": null,
   "metadata": {},
   "outputs": [],
   "source": [
    "print(year_col)"
   ]
  },
  {
   "cell_type": "code",
   "execution_count": null,
   "metadata": {},
   "outputs": [],
   "source": [
    "print(len(year_col))"
   ]
  },
  {
   "cell_type": "code",
   "execution_count": null,
   "metadata": {},
   "outputs": [],
   "source": []
  }
 ],
 "metadata": {
  "kernelspec": {
   "display_name": "Python 3",
   "language": "python",
   "name": "python3"
  },
  "language_info": {
   "codemirror_mode": {
    "name": "ipython",
    "version": 3
   },
   "file_extension": ".py",
   "mimetype": "text/x-python",
   "name": "python",
   "nbconvert_exporter": "python",
   "pygments_lexer": "ipython3",
   "version": "3.7.1"
  }
 },
 "nbformat": 4,
 "nbformat_minor": 2
}
