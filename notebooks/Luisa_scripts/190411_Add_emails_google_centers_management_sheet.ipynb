{
 "cells": [
  {
   "cell_type": "code",
   "execution_count": null,
   "metadata": {},
   "outputs": [],
   "source": [
    "from dcicutils import ff_utils\n",
    "from functions.notebook_functions import *\n",
    "import pandas as pd\n",
    "import boto3\n",
    "import gspread\n",
    "from oauth2client.service_account import ServiceAccountCredentials\n",
    "import pandas as pd\n",
    "import json\n",
    "import collections\n",
    "import time\n",
    "from gspread_formatting import *"
   ]
  },
  {
   "cell_type": "code",
   "execution_count": null,
   "metadata": {},
   "outputs": [],
   "source": [
    "# Authenticating the credentials for google sheets\n",
    "s3 = boto3.resource('s3')\n",
    "obj = s3.Object('elasticbeanstalk-fourfront-webprod-system', 'DCICjupgoogle.json')\n",
    "cont = obj.get()['Body'].read().decode()\n",
    "key_dict = json.loads(cont)\n",
    "SCOPES = 'https://www.googleapis.com/auth/spreadsheets'\n",
    "creds = ServiceAccountCredentials.from_json_keyfile_dict(key_dict, SCOPES)\n",
    "gc = gspread.authorize(creds)"
   ]
  },
  {
   "cell_type": "code",
   "execution_count": null,
   "metadata": {},
   "outputs": [],
   "source": [
    "# Get all the grants from the Portal\n",
    "my_key = get_key('default')\n",
    "all_awards = ff_utils.search_metadata('/search/?type=Award', key=my_key)\n",
    "\n",
    "#Get all the centers info from google management sheets\n",
    "gs_management_sheet_id = ''\n",
    "gs_management_workbook = gc.open_by_key(gs_management_sheet_id)\n",
    "gs_management_worksheet = gs_management_workbook.sheet1\n"
   ]
  },
  {
   "cell_type": "code",
   "execution_count": null,
   "metadata": {},
   "outputs": [],
   "source": [
    "centers_sheets_links = gs_management_worksheet.get_all_values()"
   ]
  },
  {
   "cell_type": "code",
   "execution_count": null,
   "metadata": {},
   "outputs": [],
   "source": [
    "df = pd.DataFrame(centers_sheets_links[1:], columns=centers_sheets_links[0])"
   ]
  },
  {
   "cell_type": "code",
   "execution_count": null,
   "metadata": {},
   "outputs": [],
   "source": [
    "col_names = df.columns.values"
   ]
  },
  {
   "cell_type": "code",
   "execution_count": null,
   "metadata": {},
   "outputs": [],
   "source": [
    "print(col_names)"
   ]
  },
  {
   "cell_type": "code",
   "execution_count": null,
   "metadata": {},
   "outputs": [],
   "source": [
    "#New Columns\n",
    "#Link for Center's google sheet\n",
    "\"https://docs.google.com/spreadsheets/d/{}\".format(google_sheet_id)\n",
    "# Contact PI name\n",
    "#email address in tobox format\n",
    "'\"{}, {}\" <{}>'.format(last_name, first_name, email)\n"
   ]
  },
  {
   "cell_type": "code",
   "execution_count": null,
   "metadata": {},
   "outputs": [],
   "source": [
    "gs_link_column = []\n",
    "contact_pi_column = []\n",
    "email_adress_column = []\n",
    "x = 0\n",
    "for center in centers_sheets_links:\n",
    "    if x == 0:\n",
    "        x = x + 1\n",
    "        continue\n",
    "    for award in all_awards:\n",
    "        if 'Guttman' in center[0]:\n",
    "             center[1] = center[1].split(',')[0]\n",
    "\n",
    "        if center[1] in award['link_id']:   \n",
    "            gs_id = center[2]\n",
    "            contact_pi_fname = award['pi'][\"first_name\"]\n",
    "            contact_pi_lname = award['pi']['last_name']\n",
    "            contact_pi_email = award['pi']['contact_email']\n",
    "            gs_link = \"https://docs.google.com/spreadsheets/d/{}\".format(gs_id)\n",
    "            contact_pi_name = contact_pi_fname + ' ' + contact_pi_lname\n",
    "            email = '\"{}, {}\" <{}>'.format(contact_pi_lname,  contact_pi_fname, contact_pi_email)\n",
    "            break\n",
    "    gs_link_column.append(gs_link)\n",
    "    contact_pi_column.append(contact_pi_name)\n",
    "    email_adress_column.append(email)  "
   ]
  },
  {
   "cell_type": "code",
   "execution_count": null,
   "metadata": {},
   "outputs": [],
   "source": [
    "print(len(email_adress_column))"
   ]
  },
  {
   "cell_type": "code",
   "execution_count": null,
   "metadata": {},
   "outputs": [],
   "source": [
    "df['Center google sheet'] = gs_link_column"
   ]
  },
  {
   "cell_type": "code",
   "execution_count": null,
   "metadata": {},
   "outputs": [],
   "source": [
    "df['Contact PI'] = contact_pi_column"
   ]
  },
  {
   "cell_type": "code",
   "execution_count": null,
   "metadata": {},
   "outputs": [],
   "source": [
    "df['Email address'] = email_adress_column"
   ]
  },
  {
   "cell_type": "code",
   "execution_count": null,
   "metadata": {},
   "outputs": [],
   "source": [
    "print(df.columns.values)"
   ]
  },
  {
   "cell_type": "code",
   "execution_count": null,
   "metadata": {},
   "outputs": [],
   "source": [
    "col_labels = df.columns.values"
   ]
  },
  {
   "cell_type": "code",
   "execution_count": null,
   "metadata": {},
   "outputs": [],
   "source": [
    "data = df.values.tolist()"
   ]
  },
  {
   "cell_type": "code",
   "execution_count": null,
   "metadata": {},
   "outputs": [],
   "source": [
    "gs_write = []\n",
    "row = 2\n",
    "col = 1\n",
    "for label in col_labels:\n",
    "    gs_write.append(gspread.models.Cell(1,col, label))\n",
    "    col = col + 1\n",
    "\n",
    "col = 1\n",
    "for item in data:\n",
    "    for ele in item:\n",
    "        gs_write.append(gspread.models.Cell(row,col,ele))\n",
    "        col = col + 1\n",
    "    row = row + 1\n",
    "    col = 1"
   ]
  },
  {
   "cell_type": "code",
   "execution_count": null,
   "metadata": {},
   "outputs": [],
   "source": [
    "#print(gs_write)"
   ]
  },
  {
   "cell_type": "code",
   "execution_count": null,
   "metadata": {},
   "outputs": [],
   "source": [
    "gs_management_worksheet.update_cells(gs_write, value_input_option='USER_ENTERED')"
   ]
  },
  {
   "cell_type": "code",
   "execution_count": null,
   "metadata": {},
   "outputs": [],
   "source": []
  }
 ],
 "metadata": {
  "kernelspec": {
   "display_name": "Python 3",
   "language": "python",
   "name": "python3"
  },
  "language_info": {
   "codemirror_mode": {
    "name": "ipython",
    "version": 3
   },
   "file_extension": ".py",
   "mimetype": "text/x-python",
   "name": "python",
   "nbconvert_exporter": "python",
   "pygments_lexer": "ipython3",
   "version": "3.7.1"
  }
 },
 "nbformat": 4,
 "nbformat_minor": 2
}
