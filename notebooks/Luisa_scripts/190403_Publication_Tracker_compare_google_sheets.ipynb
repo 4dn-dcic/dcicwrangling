{
 "cells": [
  {
   "cell_type": "code",
   "execution_count": null,
   "metadata": {},
   "outputs": [],
   "source": [
    "import collections\n",
    "import os\n",
    "import json\n",
    "from difflib import SequenceMatcher as SM\n",
    "from itertools import combinations\n",
    "from datetime import date\n",
    "import boto3\n",
    "import gspread\n",
    "from oauth2client.service_account import ServiceAccountCredentials\n",
    "import time"
   ]
  },
  {
   "cell_type": "code",
   "execution_count": null,
   "metadata": {},
   "outputs": [],
   "source": [
    "working_forder = '/Users/luisa/Desktop/data_grant/' # The data_grant folder"
   ]
  },
  {
   "cell_type": "code",
   "execution_count": null,
   "metadata": {},
   "outputs": [],
   "source": [
    "pubs_when_grant_primary = collections.defaultdict(dict)\n",
    "pubs_when_grant_secondary_tracker = collections.defaultdict(dict)\n",
    "pubs_when_grant_secondary = collections.defaultdict(dict)\n",
    "\n",
    "fname_grant_jsons = os.listdir(\"/Users/luisa/Desktop/data_grant\")\n",
    "for fname_json in fname_grant_jsons:\n",
    "    with open(\"/Users/luisa/Desktop/data_grant/\" + fname_json, \"r\") as fp:\n",
    "        dic_pergrant = json.load(fp)\n",
    "        pubs = dic_pergrant.keys()\n",
    "        grant_name = fname_json[:-5]\n",
    "        pubs_when_grant_primary[grant_name] = collections.defaultdict(dict)\n",
    "        pubs_when_grant_secondary[grant_name] = collections.defaultdict(dict)\n",
    "        for pub in pubs:\n",
    "            authors = \"; \".join(dic_pergrant[pub][\"authors\"])\n",
    "            title = dic_pergrant[pub][\"title\"]\n",
    "            link = dic_pergrant[pub][\"link\"]\n",
    "            date = dic_pergrant[pub][\"date\"]\n",
    "            other_ids = \";\".join(dic_pergrant[pub][\"other_ids\"])\n",
    "            primary_awards = \";\".join(dic_pergrant[pub][\"primary_awards\"]) if len(dic_pergrant[pub][\"primary_awards\"]) > 1 else \" -- \"\n",
    "            secondary_awards = \";\".join(dic_pergrant[pub][\"secondary_awards\"])\n",
    "            contact_4DN_author = dic_pergrant[pub][\"4DN_member_author\"]\n",
    "            added_date = dic_pergrant[pub][\"added\"]\n",
    "\n",
    "            pubs_when_grant_primary[grant_name][pub]['title'] = title\n",
    "            pubs_when_grant_primary[grant_name][pub]['authors'] = authors\n",
    "            pubs_when_grant_primary[grant_name][pub]['date'] = added_date\n",
    "            pubs_when_grant_primary[grant_name][pub]['link'] = link\n",
    "            pubs_when_grant_primary[grant_name][pub]['other_ids'] = other_ids\n",
    "            pubs_when_grant_primary[grant_name][pub]['primary_awards'] = primary_awards\n",
    "            pubs_when_grant_primary[grant_name][pub]['secondary_awards'] = secondary_awards\n",
    "            pubs_when_grant_primary[grant_name][pub]['date_added'] = added_date\n",
    "            pubs_when_grant_primary[grant_name][pub]['contact_4DN_author'] = contact_4DN_author\n",
    "            \n",
    "#     # Keeps track of the grants of the publications secondary awards\n",
    "    \n",
    "    for grant in pubs_when_grant_primary:\n",
    "        for pub in pubs_when_grant_primary[grant]:\n",
    "            if pubs_when_grant_primary[grant][pub]['secondary_awards'] != '':\n",
    "                if ';' not in pubs_when_grant_primary[grant][pub]['secondary_awards']:\n",
    "                    sec_award = pubs_when_grant_primary[grant][pub]['secondary_awards']\n",
    "                    pubs_when_grant_secondary[sec_award][pub] = pubs_when_grant_primary[grant][pub]\n",
    "                else:\n",
    "                    sec_award_list = pubs_when_grant_primary[grant][pub]['secondary_awards'].split(';')\n",
    "                    for sec_award in sec_award_list:\n",
    "                        pubs_when_grant_secondary[sec_award][pub] = pubs_when_grant_primary[grant][pub]"
   ]
  },
  {
   "cell_type": "code",
   "execution_count": null,
   "metadata": {},
   "outputs": [],
   "source": [
    "# Accesses to the google sheets\n",
    "s3 = boto3.resource('s3')\n",
    "obj = s3.Object('elasticbeanstalk-fourfront-webprod-system', 'DCICjupgoogle.json')\n",
    "cont = obj.get()['Body'].read().decode()\n",
    "key_dict = json.loads(cont)\n",
    "SCOPES = 'https://www.googleapis.com/auth/spreadsheets'\n",
    "creds = ServiceAccountCredentials.from_json_keyfile_dict(key_dict, SCOPES)\n",
    "gc = gspread.authorize(creds)\n",
    "book_id = '1PqqMQn7R0qbYm0bUOf3LwCtPJryIbo7YoRf2_PZxOQY' # This is the test spreadsheet\n",
    "test_spreadsheet = gc.open_by_key(book_id)"
   ]
  },
  {
   "cell_type": "code",
   "execution_count": null,
   "metadata": {},
   "outputs": [],
   "source": [
    "worksheet = test_spreadsheet.worksheet('Publication List')"
   ]
  },
  {
   "cell_type": "code",
   "execution_count": null,
   "metadata": {},
   "outputs": [],
   "source": [
    "worksheet_values = worksheet.get_all_values()"
   ]
  },
  {
   "cell_type": "code",
   "execution_count": null,
   "metadata": {},
   "outputs": [],
   "source": [
    "import pandas as pd\n",
    "df = pd.DataFrame(worksheet_values[1:], columns=worksheet_values[0])"
   ]
  },
  {
   "cell_type": "code",
   "execution_count": null,
   "metadata": {},
   "outputs": [],
   "source": [
    "from collections import OrderedDict\n",
    "google_sheet = df.to_dict(orient='records', into=OrderedDict)"
   ]
  },
  {
   "cell_type": "code",
   "execution_count": null,
   "metadata": {},
   "outputs": [],
   "source": [
    "x = 0\n",
    "for item in google_sheet:\n",
    "    print(item)\n",
    "    x = x + 1\n",
    "    if x == 1:\n",
    "        break"
   ]
  },
  {
   "cell_type": "code",
   "execution_count": null,
   "metadata": {},
   "outputs": [],
   "source": [
    "dekker_grant = pubs_when_grant_primary[\"U54DK107980\"] # Test a specific grant"
   ]
  },
  {
   "cell_type": "code",
   "execution_count": null,
   "metadata": {},
   "outputs": [],
   "source": [
    "print(len(dekker_grant))"
   ]
  },
  {
   "cell_type": "code",
   "execution_count": null,
   "metadata": {},
   "outputs": [],
   "source": [
    "x = 0\n",
    "for item in dekker_grant.values():\n",
    "    print(item)\n",
    "    x = x + 1\n",
    "    if x == 1:\n",
    "        break"
   ]
  },
  {
   "cell_type": "code",
   "execution_count": null,
   "metadata": {},
   "outputs": [],
   "source": [
    "# Comparing with existing google sheets"
   ]
  },
  {
   "cell_type": "code",
   "execution_count": null,
   "metadata": {},
   "outputs": [],
   "source": [
    "new_sheet = []\n",
    "for a_row in dekker_grant.values():\n",
    "    #check excel\n",
    "    existing_item = [i for i in google_sheet if a_row['title'] == i['Title']]\n",
    "    if existing_item:\n",
    "        new_sheet.append(existing_item)\n",
    "    else:\n",
    "        print('No item')"
   ]
  },
  {
   "cell_type": "code",
   "execution_count": null,
   "metadata": {},
   "outputs": [],
   "source": [
    "for i in google_sheet:\n",
    "    for key, val in i.items():\n",
    "        #print(key, val)\n",
    "        break\n",
    "    "
   ]
  },
  {
   "cell_type": "code",
   "execution_count": null,
   "metadata": {},
   "outputs": [],
   "source": [
    "for i in new_sheet:\n",
    "    print(i)\n",
    "    break"
   ]
  },
  {
   "cell_type": "code",
   "execution_count": null,
   "metadata": {},
   "outputs": [],
   "source": [
    "# Adding secondary awards below"
   ]
  },
  {
   "cell_type": "code",
   "execution_count": null,
   "metadata": {},
   "outputs": [],
   "source": [
    "pubs_when_grant_secondary['EB021236'] "
   ]
  },
  {
   "cell_type": "code",
   "execution_count": null,
   "metadata": {},
   "outputs": [],
   "source": [
    "new_worksheet = test_spreadsheet.add_worksheet('Test Results', 100, 15)"
   ]
  },
  {
   "cell_type": "code",
   "execution_count": null,
   "metadata": {},
   "outputs": [],
   "source": [
    "gs_write = []\n",
    "row = 1\n",
    "for r,line in enumerate(new_sheet):\n",
    "    print(line)\n",
    "    row = r + 1\n",
    "    \n",
    "    if row == 1:\n",
    "        for c, key in enumerate(line[0]):\n",
    "            print()\n",
    "            print(key)\n",
    "            \n",
    "            col = c + 1\n",
    "            gs_write.append(gspread.models.Cell(row, col, key))\n",
    "    row = r + 2\n",
    "    for c, key in enumerate(line[0]):\n",
    "        col = c + 1\n",
    "        gs_write.append(gspread.models.Cell(row, col, line[0][key]))\n",
    "    new_worksheet.update_cells(gs_write)"
   ]
  },
  {
   "cell_type": "code",
   "execution_count": null,
   "metadata": {},
   "outputs": [],
   "source": [
    "for line in new_sheet:\n",
    "    print(line)\n",
    "    for item in line:\n",
    "        print(item.keys())\n",
    "        break\n",
    "    break"
   ]
  },
  {
   "cell_type": "code",
   "execution_count": null,
   "metadata": {},
   "outputs": [],
   "source": [
    "# Adding all the data to the spreadsheet at once\n",
    "gs_write = [] # A list of cell objects to write to the worksheet\n",
    "# The data that is going to be written in the worksheet. In this example, each key is a column.\n",
    "\n",
    "#Writting the data to the list\n",
    "row = 1\n",
    "for r,line in enumerate(user_list):\n",
    "    row = r + 1\n",
    "    \n",
    "    # write columns\n",
    "    if row == 1:\n",
    "        for c, key in enumerate(line[0]):\n",
    "            col = c + 1\n",
    "            gs_write.append(gspread.models.Cell(row, col, key)) \n",
    "    row = r + 2\n",
    "    # write values\n",
    "    for c, key in enumerate(line):\n",
    "        col = c + 1\n",
    "        gs_write.append(gspread.models.Cell(row, col, line[key])) \n",
    "    \n",
    "# #Write the cells to the worksheet\n",
    "#worksheet.update_cells(gs_write)"
   ]
  },
  {
   "cell_type": "code",
   "execution_count": null,
   "metadata": {},
   "outputs": [],
   "source": [
    "print()"
   ]
  }
 ],
 "metadata": {
  "kernelspec": {
   "display_name": "Python 3",
   "language": "python",
   "name": "python3"
  },
  "language_info": {
   "codemirror_mode": {
    "name": "ipython",
    "version": 3
   },
   "file_extension": ".py",
   "mimetype": "text/x-python",
   "name": "python",
   "nbconvert_exporter": "python",
   "pygments_lexer": "ipython3",
   "version": "3.7.1"
  }
 },
 "nbformat": 4,
 "nbformat_minor": 2
}
