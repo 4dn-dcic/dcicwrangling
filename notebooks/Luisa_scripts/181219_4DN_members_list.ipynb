{
 "cells": [
  {
   "cell_type": "code",
   "execution_count": null,
   "metadata": {},
   "outputs": [],
   "source": [
    "# run once\n",
    "# ! pip install gspread oauth2client df2gspread boto3\n",
    "from dcicutils import ff_utils\n",
    "from functions.notebook_functions import *\n",
    "import pandas as pd\n",
    "\n",
    "my_key = get_key('default')\n",
    "\n",
    "all_users = ff_utils.search_metadata('/search/?type=User', key = my_key)\n",
    "all_labs = ff_utils.search_metadata('/search/?type=Lab', key = my_key)\n",
    "all_awards = ff_utils.search_metadata('/search/?type=Award', key = my_key)\n",
    "print(len(all_users))\n",
    "print(len(all_labs))\n",
    "# all_labs = \n",
    "# all_awards = "
   ]
  },
  {
   "cell_type": "code",
   "execution_count": null,
   "metadata": {},
   "outputs": [],
   "source": [
    "for i in all_users:\n",
    "    print(i['lab']['uuid'])\n",
    "    print(i['uuid'])\n",
    "    break"
   ]
  },
  {
   "cell_type": "code",
   "execution_count": null,
   "metadata": {},
   "outputs": [],
   "source": []
  },
  {
   "cell_type": "code",
   "execution_count": null,
   "metadata": {},
   "outputs": [],
   "source": [
    "for e in all_awards:\n",
    "    if e['uuid'] == \"eda54849-45e6-4f96-82de-fea642bc194b\":\n",
    "        print(e)\n",
    "        break"
   ]
  },
  {
   "cell_type": "code",
   "execution_count": null,
   "metadata": {},
   "outputs": [],
   "source": [
    "for i in all_users:\n",
    "    user_info = True\n",
    "    print(i['uuid'])\n",
    "    try:\n",
    "        usr_lab_uuid = i['lab']['uuid']\n",
    "    except:\n",
    "        print('No User Info')\n",
    "        user_info = False\n",
    "        continue\n",
    "    if user_info:\n",
    "        print(usr_lab_uuid)\n",
    "        for e in all_awards:\n",
    "            award_info = True\n",
    "            try:\n",
    "                awrd_lab_uuid = e['pi']['lab']['uuid']\n",
    "            except:\n",
    "                award_info = False\n",
    "                continue\n",
    "            if award_info:\n",
    "                if usr_lab_uuid == awrd_lab_uuid:\n",
    "                    \n",
    "                    print('same')"
   ]
  },
  {
   "cell_type": "code",
   "execution_count": null,
   "metadata": {},
   "outputs": [],
   "source": [
    "# GET OH SHEET\n",
    "import boto3\n",
    "import gspread\n",
    "from oauth2client.service_account import ServiceAccountCredentials\n",
    "import pandas as pd\n",
    "import json\n",
    "\n",
    "# GET KEY FROM S3 \n",
    "s3 = boto3.resource('s3')\n",
    "obj = s3.Object('elasticbeanstalk-fourfront-webprod-system', 'DCICjupgoogle.json')\n",
    "cont = obj.get()['Body'].read().decode()\n",
    "key_dict = json.loads(cont)\n",
    "SCOPES = 'https://www.googleapis.com/auth/spreadsheets.readonly'\n",
    "creds = ServiceAccountCredentials.from_json_keyfile_dict(key_dict, SCOPES)\n",
    "gc = gspread.authorize(creds)\n",
    "\n",
    "# The ID and range of a sample spreadsheet.\n",
    "book_id = '1PKEPdCB_w_-sM3va5ngBYm_aXvRaJm7KCHM4Rong5a4'\n",
    "sheet_names = ['DCIC & OH', 'IT', 'NT', 'NOFIC', 'NBC','TCPA']\n",
    "book = gc.open_by_key(book_id)\n",
    "\n",
    "\n",
    "# users_list = [] #This is the list of the users that are not in the portal, so we can copy and paste them in excel workbook\n",
    "\n",
    "# for name in sheet_names:\n",
    "#     print()\n",
    "#     print(name)\n",
    "\n",
    "#     worksheet = book.worksheet(name)\n",
    "#     table = worksheet.get_all_values()\n",
    "#     ##Convert table data into a dataframe\n",
    "#     df = pd.DataFrame(table[1:], columns=table[0])\n",
    "#     col_names = df.columns.values\n",
    "\n",
    "#     for index, row in df.iterrows():\n",
    "#         compare(row, col_names, all_users, all_labs,users_list)\n",
    "    \n"
   ]
  },
  {
   "cell_type": "code",
   "execution_count": null,
   "metadata": {},
   "outputs": [],
   "source": [
    "for i in all_users:\n",
    "    first_name = i['first_name']\n",
    "    last_name = i['last_name']\n",
    "    email = i['email']\n",
    "    project_number = 'N/A'\n",
    "    grant_info = 'N/A'\n",
    "\n",
    "\n",
    "\n",
    "    lab_info = True\n",
    "    \n",
    "    try:\n",
    "        Role = i['job_title']\n",
    "    except:\n",
    "        Role = 'No Role'\n",
    "        continue\n",
    "    \n",
    "    try:\n",
    "        lab = i['lab']\n",
    "    except:\n",
    "        lab_info = False\n",
    "        lab = 'No Lab'\n",
    "        continue\n",
    "\n",
    "        \n",
    "    if lab_info:\n",
    "        lab = i['lab']['display_title']\n",
    "        usr_lab_uuid = i['lab']['uuid']\n",
    "        \n",
    "        for e in all_awards:\n",
    "            award_info = True\n",
    "        try:\n",
    "            awrd_lab_uuid = e['pi']['lab']['uuid']\n",
    "        except:\n",
    "            award_info = False\n",
    "            continue\n",
    "        if award_info:\n",
    "            if usr_lab_uuid == awrd_lab_uuid:\n",
    "                project_number = e['name']\n",
    "                grant_info = e['center_title']\n",
    "              \n",
    "   # print(project_number,grant_info,lab,first_name,last_name,email,Role)\n"
   ]
  },
  {
   "cell_type": "code",
   "execution_count": null,
   "metadata": {},
   "outputs": [],
   "source": [
    "for i in all_awards:\n",
    "    if i['uuid'] == \"ae6c618f-7a8c-441e-a886-e30bbbe591da\":\n",
    "        res = i\n",
    "        break"
   ]
  },
  {
   "cell_type": "code",
   "execution_count": null,
   "metadata": {},
   "outputs": [],
   "source": [
    "print(res)"
   ]
  },
  {
   "cell_type": "code",
   "execution_count": null,
   "metadata": {},
   "outputs": [],
   "source": [
    "a = res['lab']['awards']"
   ]
  },
  {
   "cell_type": "code",
   "execution_count": null,
   "metadata": {},
   "outputs": [],
   "source": [
    "print(res['name'])"
   ]
  },
  {
   "cell_type": "code",
   "execution_count": null,
   "metadata": {},
   "outputs": [],
   "source": []
  }
 ],
 "metadata": {
  "kernelspec": {
   "display_name": "Python 3",
   "language": "python",
   "name": "python3"
  },
  "language_info": {
   "codemirror_mode": {
    "name": "ipython",
    "version": 3
   },
   "file_extension": ".py",
   "mimetype": "text/x-python",
   "name": "python",
   "nbconvert_exporter": "python",
   "pygments_lexer": "ipython3",
   "version": "3.7.1"
  }
 },
 "nbformat": 4,
 "nbformat_minor": 2
}
