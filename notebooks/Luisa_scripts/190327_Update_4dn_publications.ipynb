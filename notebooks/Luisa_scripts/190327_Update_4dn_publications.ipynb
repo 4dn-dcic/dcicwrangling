{
 "cells": [
  {
   "cell_type": "code",
   "execution_count": 2,
   "metadata": {},
   "outputs": [],
   "source": [
    "import boto3\n",
    "import gspread\n",
    "from oauth2client.service_account import ServiceAccountCredentials\n",
    "import pandas as pd\n",
    "import json\n",
    "s3 = boto3.resource('s3')\n",
    "obj = s3.Object('elasticbeanstalk-fourfront-webprod-system', 'DCICjupgoogle.json')\n",
    "cont = obj.get()['Body'].read().decode()\n",
    "key_dict = json.loads(cont)\n",
    "SCOPES = 'https://www.googleapis.com/auth/spreadsheets'\n",
    "creds = ServiceAccountCredentials.from_json_keyfile_dict(key_dict, SCOPES)\n",
    "gc = gspread.authorize(creds)\n",
    "\n",
    "publications_4dn_sheet_id = ''\n",
    "\n"
   ]
  },
  {
   "cell_type": "code",
   "execution_count": 3,
   "metadata": {},
   "outputs": [],
   "source": [
    "#Opens google management spreadsheet to read links of grant spreadhseet\n",
    "publications_4dn_spreadsheet = gc.open_by_key(publications_4dn_sheet_id)"
   ]
  },
  {
   "cell_type": "code",
   "execution_count": null,
   "metadata": {},
   "outputs": [],
   "source": []
  }
 ],
 "metadata": {
  "kernelspec": {
   "display_name": "Python 3",
   "language": "python",
   "name": "python3"
  },
  "language_info": {
   "codemirror_mode": {
    "name": "ipython",
    "version": 3
   },
   "file_extension": ".py",
   "mimetype": "text/x-python",
   "name": "python",
   "nbconvert_exporter": "python",
   "pygments_lexer": "ipython3",
   "version": "3.7.1"
  }
 },
 "nbformat": 4,
 "nbformat_minor": 2
}
