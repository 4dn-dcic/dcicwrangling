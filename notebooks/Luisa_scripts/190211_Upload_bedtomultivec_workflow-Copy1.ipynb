{
 "cells": [
  {
   "cell_type": "code",
   "execution_count": 1,
   "metadata": {},
   "outputs": [
    {
     "name": "stdout",
     "output_type": "stream",
     "text": [
      "Working on http://fourfront-webdev.us-east-1.elasticbeanstalk.com\n"
     ]
    }
   ],
   "source": [
    "from dcicutils import ff_utils\n",
    "from functions.notebook_functions import *\n",
    "\n",
    "# get key from file\n",
    "#my_key = get_key('default')\n",
    "# all usable env names\n",
    "all_envs = ['data', 'staging', 'fourfront-webdev', 'fourfront-mastertest', 'fourfront-hotseat']\n",
    "# get admin key from s3\n",
    "my_key = ff_utils.get_authentication_with_server({}, ff_env = 'fourfront-webdev')\n",
    "print('Working on', my_key['server'])\n"
   ]
  },
  {
   "cell_type": "code",
   "execution_count": 2,
   "metadata": {},
   "outputs": [],
   "source": [
    "import uuid"
   ]
  },
  {
   "cell_type": "code",
   "execution_count": 3,
   "metadata": {},
   "outputs": [
    {
     "name": "stdout",
     "output_type": "stream",
     "text": [
      "7b69a0ce-3bc8-4f85-bb34-8a42cecb9b9c\n"
     ]
    }
   ],
   "source": [
    "myuuid = str(uuid.uuid4())\n",
    "print(myuuid)"
   ]
  },
  {
   "cell_type": "code",
   "execution_count": 7,
   "metadata": {},
   "outputs": [],
   "source": [
    "# load json file\n",
    "import json\n",
    "my_file = \"/Users/luisa/Documents/4DN/bedtomultivec_workflow/bedtomultivec_insert_workflow.json\"\n",
    "with open(my_file) as f:\n",
    "    data = json.load(f)\n"
   ]
  },
  {
   "cell_type": "code",
   "execution_count": 8,
   "metadata": {},
   "outputs": [
    {
     "name": "stdout",
     "output_type": "stream",
     "text": [
      "{'accession': '4DNWBTMVLM17', 'app_name': 'bedtomultivec', 'app_version': 'dev', 'arguments': [{'argument_format': '69f6d609-f2ac-4c82-9472-1a13331b5ce9', 'argument_type': 'Input file', 'workflow_argument_name': 'bedfile'}, {'argument_format': 'dba26778-f40a-4561-a552-65539702ded4', 'argument_type': 'Input file', 'workflow_argument_name': 'rows_info'}, {'argument_format': '92537561-4c02-440e-a51f-22b4b08b6918', 'argument_type': 'Output to-be-extra-input file', 'workflow_argument_name': 'multivec_file'}, {'argument_type': 'parameter', 'workflow_argument_name': 'assembly'}, {'argument_type': 'parameter', 'workflow_argument_name': 'resolution'}, {'argument_type': 'parameter', 'workflow_argument_name': 'num_rows'}], 'award': '1U01CA200059-01', 'category': 'format conversion', 'cwl_child_filenames': [], 'cwl_directory_url': 'https://raw.githubusercontent.com/4dn-dcic/docker-4dn-bedtomultivec/v1/cwl/', 'cwl_main_filename': 'bedtomultivec.cwl', 'cwl_pointer': '', 'data_types': ['Hi-C', 'DAM-ID'], 'description': 'Converting bed to multivec', 'docker_image_name': '4dn-dcic/docker-4dn-bedtomultivec', 'docker_registry_url': 'https://hub.docker.com/', 'lab': '4dn-dcic-lab', 'name': 'bedtomultivec', 'steps': [{'inputs': [{'meta': {'cardinality': 'single', 'file_format': '69f6d609-f2ac-4c82-9472-1a13331b5ce9', 'global': True, 'type': 'data file'}, 'name': 'bedfile', 'source': [{'name': 'bedfile'}]}, {'meta': {'cardinality': 'single', 'file_format': 'dba26778-f40a-4561-a552-65539702ded4', 'global': True, 'type': 'data file'}, 'name': 'rows_info', 'source': [{'name': 'rows_info'}]}], 'meta': {'analysis_step_types': ['file format conversion'], 'software_used': ['/softwares/5de38570-68bf-4545-98b6-d7d51ae08db9/']}, 'name': 'bedtomultivec', 'outputs': [{'meta': {'cardinality': 'single', 'file_format': '92537561-4c02-440e-a51f-22b4b08b6918', 'global': True, 'type': 'data file'}, 'name': 'multivec_file', 'target': [{'name': 'multivec_file'}]}]}], 'title': 'Converting bed to multivec', 'uuid': '7b69a0ce-3bc8-4f85-bb34-8a42cecb9b9c', 'workflow_diagram': '', 'workflow_type': 'Other'}\n"
     ]
    }
   ],
   "source": [
    "print(data)"
   ]
  },
  {
   "cell_type": "code",
   "execution_count": 9,
   "metadata": {},
   "outputs": [
    {
     "name": "stdout",
     "output_type": "stream",
     "text": [
      "status\n",
      "success\n",
      "\n",
      "@type\n",
      "['result']\n",
      "\n",
      "@graph\n",
      "[{'workflow_diagram': '', 'link_id': '~workflows~7b69a0ce-3bc8-4f85-bb34-8a42cecb9b9c~', 'submitted_by': '/users/986b362f-4eb6-4a9c-8173-3ab267307e3a/', 'award': '/awards/1U01CA200059-01/', 'arguments': [{'argument_type': 'Input file', 'workflow_argument_name': 'bedfile', 'argument_format': '/file-formats/bed/'}, {'argument_type': 'Input file', 'workflow_argument_name': 'rows_info', 'argument_format': '/file-formats/txt/'}, {'argument_type': 'Output to-be-extra-input file', 'workflow_argument_name': 'multivec_file', 'argument_format': '/file-formats/multires.mv5/'}, {'argument_type': 'parameter', 'workflow_argument_name': 'assembly'}, {'argument_type': 'parameter', 'workflow_argument_name': 'resolution'}, {'argument_type': 'parameter', 'workflow_argument_name': 'num_rows'}], 'cwl_pointer': '', 'workflow_type': 'Other', 'display_title': 'Converting bed to multivec - 4DNWBTMVLM17', 'app_version': 'dev', 'app_name': 'bedtomultivec', 'category': 'format conversion', 'last_modified': {'date_modified': '2019-02-12T17:30:45.073947+00:00', 'modified_by': '/users/986b362f-4eb6-4a9c-8173-3ab267307e3a/'}, 'schema_version': '5', 'date_created': '2019-02-12T17:30:45.039811+00:00', 'accession': '4DNWBTMVLM17', 'cwl_child_filenames': [], 'status': 'in review by lab', 'title': 'Converting bed to multivec', 'description': 'Converting bed to multivec', 'cwl_directory_url': 'https://raw.githubusercontent.com/4dn-dcic/docker-4dn-bedtomultivec/v1/cwl/', 'docker_registry_url': 'https://hub.docker.com/', 'workflow_language': 'CWL', 'cwl_main_filename': 'bedtomultivec.cwl', 'lab': '/labs/4dn-dcic-lab/', 'steps': [{'outputs': [{'target': [{'name': 'multivec_file'}], 'meta': {'file_format': '92537561-4c02-440e-a51f-22b4b08b6918', 'type': 'data file', 'cardinality': 'single', 'global': True}, 'name': 'multivec_file'}], 'inputs': [{'source': [{'name': 'bedfile'}], 'meta': {'file_format': '/file-formats/bed/', 'type': 'data file', 'cardinality': 'single', 'global': True}, 'name': 'bedfile'}, {'source': [{'name': 'rows_info'}], 'meta': {'file_format': '/file-formats/txt/', 'type': 'data file', 'cardinality': 'single', 'global': True}, 'name': 'rows_info'}], 'meta': {'analysis_step_types': ['file format conversion'], 'software_used': ['/softwares/5de38570-68bf-4545-98b6-d7d51ae08db9/']}, 'name': 'bedtomultivec'}], 'name': 'bedtomultivec', '@type': ['Workflow', 'Item'], 'docker_image_name': '4dn-dcic/docker-4dn-bedtomultivec', 'data_types': ['Hi-C', 'DAM-ID'], 'external_references': [], 'uuid': '7b69a0ce-3bc8-4f85-bb34-8a42cecb9b9c', '@id': '/workflows/7b69a0ce-3bc8-4f85-bb34-8a42cecb9b9c/', 'principals_allowed': {'edit': ['group.admin', 'submits_for.828cd4fe-ebb0-4b36-a94a-d2e3a36cc989'], 'audit': ['system.Everyone'], 'view': ['award.b0b9c607-f8b4-4f02-93f4-9895b461334b', 'group.admin', 'group.read-only-admin', 'lab.828cd4fe-ebb0-4b36-a94a-d2e3a36cc989', 'remoteuser.EMBED', 'remoteuser.INDEXER']}}]\n",
      "\n"
     ]
    }
   ],
   "source": [
    "e = ff_utils.post_metadata(data,'workflow', my_key)\n",
    "for key in e:\n",
    "    print(key)\n",
    "    print(e[key])\n",
    "    print()"
   ]
  },
  {
   "cell_type": "code",
   "execution_count": 2,
   "metadata": {},
   "outputs": [],
   "source": []
  },
  {
   "cell_type": "code",
   "execution_count": 3,
   "metadata": {},
   "outputs": [
    {
     "name": "stdout",
     "output_type": "stream",
     "text": [
      "9d575e99-5ffe-4ea4-b74f-ad40f621cd39\n"
     ]
    }
   ],
   "source": []
  },
  {
   "cell_type": "code",
   "execution_count": null,
   "metadata": {},
   "outputs": [],
   "source": []
  }
 ],
 "metadata": {
  "kernelspec": {
   "display_name": "Python 3",
   "language": "python",
   "name": "python3"
  },
  "language_info": {
   "codemirror_mode": {
    "name": "ipython",
    "version": 3
   },
   "file_extension": ".py",
   "mimetype": "text/x-python",
   "name": "python",
   "nbconvert_exporter": "python",
   "pygments_lexer": "ipython3",
   "version": "3.7.1"
  }
 },
 "nbformat": 4,
 "nbformat_minor": 2
}
