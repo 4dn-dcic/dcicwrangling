{
 "cells": [
  {
   "cell_type": "code",
   "execution_count": 1,
   "metadata": {},
   "outputs": [
    {
     "name": "stdout",
     "output_type": "stream",
     "text": [
      "Working on https://data.4dnucleome.org\n"
     ]
    }
   ],
   "source": [
    "from dcicutils import ff_utils\n",
    "from functions.notebook_functions import *\n",
    "\n",
    "# get key from file\n",
    "#my_key = get_key('default')\n",
    "# all usable env names\n",
    "all_envs = ['data', 'staging', 'fourfront-webdev', 'fourfront-mastertest', 'fourfront-hotseat']\n",
    "# get admin key from s3\n",
    "my_key = ff_utils.get_authentication_with_server({}, ff_env = 'data')\n",
    "print('Working on', my_key['server'])\n"
   ]
  },
  {
   "cell_type": "code",
   "execution_count": 2,
   "metadata": {},
   "outputs": [],
   "source": [
    "import uuid"
   ]
  },
  {
   "cell_type": "code",
   "execution_count": 3,
   "metadata": {},
   "outputs": [
    {
     "name": "stdout",
     "output_type": "stream",
     "text": [
      "7b69a0ce-3bc8-4f85-bb34-8a42cecb9b9c\n"
     ]
    }
   ],
   "source": [
    "myuuid = str(uuid.uuid4())\n",
    "print(myuuid)"
   ]
  },
  {
   "cell_type": "code",
   "execution_count": 2,
   "metadata": {},
   "outputs": [],
   "source": [
    "# load json file\n",
    "import json\n",
    "my_file = \"/Users/luisa/Documents/4DN/bedtomultivec_workflow/bedtomultivec_workflow_v4.json\"\n",
    "with open(my_file) as f:\n",
    "    data = json.load(f)\n"
   ]
  },
  {
   "cell_type": "code",
   "execution_count": 3,
   "metadata": {},
   "outputs": [
    {
     "name": "stdout",
     "output_type": "stream",
     "text": [
      "{'accession': '4DNWBTMVV004', 'app_name': 'bedtomultivec', 'app_version': 'dev', 'arguments': [{'argument_format': '69f6d609-f2ac-4c82-9472-1a13331b5ce9', 'argument_type': 'Input file', 'workflow_argument_name': 'bedfile'}, {'argument_format': 'dba26778-f40a-4561-a552-65539702ded4', 'argument_type': 'Input file', 'workflow_argument_name': 'rows_info'}, {'argument_format': 'd13d06cf-218e-4f61-55f0-93f226248b2c', 'argument_type': 'Input file', 'workflow_argument_name': 'chromsizes_file'}, {'argument_format': '92537561-4c02-440e-a51f-22b4b08b6918', 'argument_type': 'Output to-be-extra-input file', 'workflow_argument_name': 'multivec_file'}, {'argument_type': 'parameter', 'workflow_argument_name': 'resolution'}, {'argument_type': 'parameter', 'workflow_argument_name': 'num_rows'}], 'award': '1U01CA200059-01', 'category': ['format conversion'], 'cwl_child_filenames': [], 'cwl_directory_url': 'https://raw.githubusercontent.com/4dn-dcic/docker-4dn-bedtomultivec/v4/cwl/', 'cwl_main_filename': 'bedtomultivec.cwl', 'cwl_pointer': '', 'description': 'Converting bed to multivec', 'docker_image_name': '4dndcic/4dn-bedtomultivec', 'docker_registry_url': 'https://hub.docker.com/', 'lab': '4dn-dcic-lab', 'name': 'bedtomultivec', 'steps': [{'inputs': [{'meta': {'cardinality': 'single', 'file_format': '69f6d609-f2ac-4c82-9472-1a13331b5ce9', 'global': True, 'type': 'data file'}, 'name': 'bedfile', 'source': [{'name': 'bedfile'}]}, {'meta': {'cardinality': 'single', 'file_format': 'd13d06cf-218e-4f61-55f0-93f226248b2c', 'global': True, 'type': 'data file'}, 'name': 'chromsizes_file', 'source': [{'name': 'chromsizes_file'}]}, {'meta': {'cardinality': 'single', 'file_format': 'dba26778-f40a-4561-a552-65539702ded4', 'global': True, 'type': 'data file'}, 'name': 'rows_info', 'source': [{'name': 'rows_info'}]}], 'meta': {'analysis_step_types': ['file format conversion'], 'software_used': ['/softwares/6a648e6d-8954-4d05-ac5c-bf22d1590717/']}, 'name': 'bedtomultivec', 'outputs': [{'meta': {'cardinality': 'single', 'file_format': '92537561-4c02-440e-a51f-22b4b08b6918', 'global': True, 'type': 'data file'}, 'name': 'multivec_file', 'target': [{'name': 'multivec_file'}]}]}], 'title': 'Converting bed to multivec v4', 'uuid': 'a52b9b9d-1654-4967-883f-4d2adee77bc7'}\n"
     ]
    }
   ],
   "source": [
    "print(data)"
   ]
  },
  {
   "cell_type": "code",
   "execution_count": 4,
   "metadata": {},
   "outputs": [
    {
     "name": "stdout",
     "output_type": "stream",
     "text": [
      "status\n",
      "success\n",
      "\n",
      "@graph\n",
      "[{'schema_version': '7', 'description': 'Converting bed to multivec', 'display_title': 'Converting bed to multivec v4 - 4DNWBTMVV004', 'submitted_by': '/users/986b362f-4eb6-4a9c-8173-3ab267307e3a/', 'docker_image_name': '4dndcic/4dn-bedtomultivec', '@type': ['Workflow', 'Item'], '@id': '/workflows/a52b9b9d-1654-4967-883f-4d2adee77bc7/', 'principals_allowed': {'edit': ['group.admin', 'submits_for.828cd4fe-ebb0-4b36-a94a-d2e3a36cc989'], 'view': ['award.b0b9c607-f8b4-4f02-93f4-9895b461334b', 'group.admin', 'group.read-only-admin', 'lab.828cd4fe-ebb0-4b36-a94a-d2e3a36cc989', 'remoteuser.EMBED', 'remoteuser.INDEXER'], 'audit': ['system.Everyone']}, 'app_version': 'dev', 'accession': '4DNWBTMVV004', 'workflow_language': 'CWL', 'category': ['format conversion'], 'title': 'Converting bed to multivec v4', 'cwl_main_filename': 'bedtomultivec.cwl', 'steps': [{'name': 'bedtomultivec', 'meta': {'analysis_step_types': ['file format conversion'], 'software_used': ['/softwares/6a648e6d-8954-4d05-ac5c-bf22d1590717/']}, 'inputs': [{'name': 'bedfile', 'meta': {'type': 'data file', 'file_format': '/file-formats/bed/', 'cardinality': 'single', 'global': True}, 'source': [{'name': 'bedfile'}]}, {'name': 'chromsizes_file', 'meta': {'type': 'data file', 'file_format': '/file-formats/chromsizes/', 'cardinality': 'single', 'global': True}, 'source': [{'name': 'chromsizes_file'}]}, {'name': 'rows_info', 'meta': {'type': 'data file', 'file_format': '/file-formats/compressed_txt/', 'cardinality': 'single', 'global': True}, 'source': [{'name': 'rows_info'}]}], 'outputs': [{'name': 'multivec_file', 'meta': {'file_format': '92537561-4c02-440e-a51f-22b4b08b6918', 'type': 'data file', 'cardinality': 'single', 'global': True}, 'target': [{'name': 'multivec_file'}]}]}], 'name': 'bedtomultivec', 'cwl_directory_url': 'https://raw.githubusercontent.com/4dn-dcic/docker-4dn-bedtomultivec/v4/cwl/', 'date_created': '2019-05-08T19:46:02.328462+00:00', 'cwl_pointer': '', 'lab': '/labs/4dn-dcic-lab/', 'award': '/awards/1U01CA200059-01/', 'external_references': [], 'last_modified': {'modified_by': '/users/986b362f-4eb6-4a9c-8173-3ab267307e3a/', 'date_modified': '2019-05-08T19:46:02.408055+00:00'}, 'arguments': [{'workflow_argument_name': 'bedfile', 'argument_type': 'Input file', 'argument_format': '/file-formats/bed/'}, {'workflow_argument_name': 'rows_info', 'argument_type': 'Input file', 'argument_format': '/file-formats/compressed_txt/'}, {'workflow_argument_name': 'chromsizes_file', 'argument_type': 'Input file', 'argument_format': '/file-formats/chromsizes/'}, {'workflow_argument_name': 'multivec_file', 'argument_type': 'Output to-be-extra-input file', 'argument_format': '/file-formats/bed.multires.mv5/'}, {'workflow_argument_name': 'resolution', 'argument_type': 'parameter'}, {'workflow_argument_name': 'num_rows', 'argument_type': 'parameter'}], 'docker_registry_url': 'https://hub.docker.com/', 'status': 'in review by lab', 'cwl_child_filenames': [], 'uuid': 'a52b9b9d-1654-4967-883f-4d2adee77bc7', 'app_name': 'bedtomultivec', 'newer_versions': []}]\n",
      "\n",
      "@type\n",
      "['result']\n",
      "\n"
     ]
    }
   ],
   "source": [
    "e = ff_utils.post_metadata(data,'workflow', my_key)\n",
    "for key in e:\n",
    "    print(key)\n",
    "    print(e[key])\n",
    "    print()"
   ]
  },
  {
   "cell_type": "code",
   "execution_count": 2,
   "metadata": {},
   "outputs": [],
   "source": []
  },
  {
   "cell_type": "code",
   "execution_count": 3,
   "metadata": {},
   "outputs": [
    {
     "name": "stdout",
     "output_type": "stream",
     "text": [
      "9d575e99-5ffe-4ea4-b74f-ad40f621cd39\n"
     ]
    }
   ],
   "source": []
  },
  {
   "cell_type": "code",
   "execution_count": null,
   "metadata": {},
   "outputs": [],
   "source": []
  }
 ],
 "metadata": {
  "kernelspec": {
   "display_name": "Python 3",
   "language": "python",
   "name": "python3"
  },
  "language_info": {
   "codemirror_mode": {
    "name": "ipython",
    "version": 3
   },
   "file_extension": ".py",
   "mimetype": "text/x-python",
   "name": "python",
   "nbconvert_exporter": "python",
   "pygments_lexer": "ipython3",
   "version": "3.7.1"
  }
 },
 "nbformat": 4,
 "nbformat_minor": 2
}
