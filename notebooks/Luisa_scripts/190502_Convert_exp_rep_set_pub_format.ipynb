{
 "cells": [
  {
   "cell_type": "code",
   "execution_count": 1,
   "metadata": {},
   "outputs": [],
   "source": [
    "exp_rep_seq = '''4dn-dcic-lab:HCT-116_HCT-116-RAD21-mAC_G1S_arrested_IAA_in_situ_Hi-C\n",
    "4dn-dcic-lab:HCT-116_HCT-116-RAD21-mAC_G1S_arrested_in_situ_Hi-C\n",
    "4dn-dcic-lab:HCT-116_HCT-116-RAD21-mAC_IAA_180_minwd_in_situ_Hi-C_Rao_2018\n",
    "4dn-dcic-lab:HCT-116_HCT-116-RAD21-mAC_IAA_20min_in_situ_Hi-C\n",
    "4dn-dcic-lab:HCT-116_HCT-116-RAD21-mAC_IAA_40min_in_situ_Hi-C\n",
    "4dn-dcic-lab:HCT-116_HCT-116-RAD21-mAC_IAA_60min_in_situ_Hi-C\n",
    "4dn-dcic-lab:HCT-116_HCT-116-RAD21-mAC_IAA_240min_in_situ_Hi-C\n",
    "4dn-dcic-lab:HCT-116_HCT-116-RAD21-mAC_IAA_360_minwd_in_situ_Hi-C\n",
    "4dn-dcic-lab:HCT-116_HCT-116-RAD21-mAC_IAA_1080_minwd_in_situ_Hi-C\n",
    "4dn-dcic-lab:HCT-116_HCT-116-RAD21-mAC_IAA_1440_minwd_in_situ_Hi-C\n",
    "4dn-dcic-lab:ChIP-seq_for_H4K20me3_on_HCT-116_IAA_treated_to_deplete_Cohesin-Rad21\n",
    "4dn-dcic-lab:ChIP-seq_for_H4K20me3_on_HCT-116\n",
    "4dn-dcic-lab:ChIP-seq_for_H3K79me2_on_HCT-116_IAA_treated_to_deplete_Cohesin-Rad21\n",
    "4dn-dcic-lab:ChIP-seq_for_H3K79me2_on_HCT-116\n",
    "4dn-dcic-lab:ChIP-seq_for_H4K16Ac_on_HCT-116_IAA_treated_to_deplete_Cohesin-Rad21\n",
    "4dn-dcic-lab:ChIP-seq_for_H4K16Ac_on_HCT-116\n",
    "4dn-dcic-lab:ChIP-seq_for_H3K9me3_on_HCT-116_IAA_treated_to_deplete_Cohesin-Rad21\n",
    "4dn-dcic-lab:ChIP-seq_for_H3K9me3_on_HCT-116\n",
    "4dn-dcic-lab:ChIP-seq_for_H3K27me3_on_HCT-116_IAA_treated_to_deplete_Cohesin-Rad21\n",
    "4dn-dcic-lab:ChIP-seq_for_H3K27me3_on_HCT-116\n",
    "4dn-dcic-lab:ChIP-seq_for_H3K36me3_on_HCT-116_IAA_treated_to_deplete_Cohesin-Rad21\n",
    "4dn-dcic-lab:ChIP-seq_for_H3K36me3_on_HCT-116\n",
    "4dn-dcic-lab:ChIP-seq_for_H3K4me1on_HCT-116_IAA_treated_to_deplete_Cohesin-Rad21\n",
    "4dn-dcic-lab:ChIP-seq_for_H3K4me1on_HCT-116\n",
    "4dn-dcic-lab:ChIP-seq_for_H3K4me3_on_HCT-116_IAA_treated_to_deplete_Cohesin-Rad21\n",
    "4dn-dcic-lab:ChIP-seq_for_H3K4me3_on_HCT-116\n",
    "4dn-dcic-lab:ChIP-seq_for_H3K27Ac_on_HCT-116_IAA_treated_to_deplete_Cohesin-Rad21\n",
    "4dn-dcic-lab:ChIP-seq_for_H3K27Ac_on_HCT-116\n",
    "4dn-dcic-lab:ChIP-seq_for_CTCF_on_HCT-116_IAA_treated_to_deplete_Cohesin-Rad21\n",
    "4dn-dcic-lab:ChIP-seq_for_CTCF_on_HCT-116\n",
    "4dn-dcic-lab:ChIP-seq_for_SMC1_on_HCT-116_IAA_treated_to_deplete_Cohesin-Rad21\n",
    "4dn-dcic-lab:ChIP-seq_for_SMC1_on_HCT-116\n",
    "4dn-dcic-lab:ChIP-seq_for_RAD21_on_HCT-116_IAA_treated_to_deplete_Cohesin-Rad21\n",
    "4dn-dcic-lab:ChIP-seq_for_RAD21_on_HCT-116\n",
    "4dn-dcic-lab:ChIP-seq_for_NIPBL_on_HCT-116_IAA_treated_to_deplete_Cohesin-Rad21\n",
    "4dn-dcic-lab:ChIP-seq_for_NIPBL_on_HCT-116\n",
    "4dn-dcic-lab:ChIP-seq_for_H2AZ_on_HCT-116_IAA_treated_to_deplete_Cohesin-Rad21\n",
    "4dn-dcic-lab:ChIP-seq_for_H2AZ_on_HCT-116\n",
    "4dn-dcic-lab:ChIP-seq_for_input_on_HCT-116\n",
    "4dn-dcic-lab:ChIP-seq_for_input_on_HCT-116_IAA_treated_to_deplete_Cohesin-Rad21\n",
    "4dn-dcic-lab:HCT-116_HCT-116-RAD21-mAC_in_situ_Hi-C_Rao-2017\n",
    "4dn-dcic-lab:HCT-116_HCT-116-RAD21-mAC_IAA_360min_in_situ_Hi-C_Rao-2018\n",
    "4dn-dcic-lab:HCT-116_HCT-116-RAD21-mAC_IAA_20_minwd_in_situ_Hi-C_Rao-2018\n",
    "4dn-dcic-lab:HCT-116_HCT-116-RAD21-mAC_IAA_40_minwd_in_situ_Hi-C_Rao-2018\n",
    "4dn-dcic-lab:HCT-116_HCT-116-RAD21-mAC_IAA_60_minwd_in_situ_Hi-C_Rao-2018'''"
   ]
  },
  {
   "cell_type": "code",
   "execution_count": 2,
   "metadata": {},
   "outputs": [],
   "source": [
    "exp_rep_seq_list = exp_rep_seq.split('\\n')"
   ]
  },
  {
   "cell_type": "code",
   "execution_count": 3,
   "metadata": {},
   "outputs": [
    {
     "name": "stdout",
     "output_type": "stream",
     "text": [
      "45\n"
     ]
    }
   ],
   "source": [
    "print(len(exp_rep_seq_list))"
   ]
  },
  {
   "cell_type": "code",
   "execution_count": 4,
   "metadata": {},
   "outputs": [
    {
     "name": "stdout",
     "output_type": "stream",
     "text": [
      "4dn-dcic-lab:HCT-116_HCT-116-RAD21-mAC_G1S_arrested_IAA_in_situ_Hi-C\n"
     ]
    }
   ],
   "source": [
    "print(exp_rep_seq_list[0])"
   ]
  },
  {
   "cell_type": "code",
   "execution_count": 5,
   "metadata": {},
   "outputs": [],
   "source": [
    "exp_rep_seq_list_format = ','.join(exp_rep_seq_list)"
   ]
  },
  {
   "cell_type": "code",
   "execution_count": 6,
   "metadata": {},
   "outputs": [
    {
     "name": "stdout",
     "output_type": "stream",
     "text": [
      "4dn-dcic-lab:HCT-116_HCT-116-RAD21-mAC_G1S_arrested_IAA_in_situ_Hi-C,4dn-dcic-lab:HCT-116_HCT-116-RAD21-mAC_G1S_arrested_in_situ_Hi-C,4dn-dcic-lab:HCT-116_HCT-116-RAD21-mAC_IAA_180_minwd_in_situ_Hi-C_Rao_2018,4dn-dcic-lab:HCT-116_HCT-116-RAD21-mAC_IAA_20min_in_situ_Hi-C,4dn-dcic-lab:HCT-116_HCT-116-RAD21-mAC_IAA_40min_in_situ_Hi-C,4dn-dcic-lab:HCT-116_HCT-116-RAD21-mAC_IAA_60min_in_situ_Hi-C,4dn-dcic-lab:HCT-116_HCT-116-RAD21-mAC_IAA_240min_in_situ_Hi-C,4dn-dcic-lab:HCT-116_HCT-116-RAD21-mAC_IAA_360_minwd_in_situ_Hi-C,4dn-dcic-lab:HCT-116_HCT-116-RAD21-mAC_IAA_1080_minwd_in_situ_Hi-C,4dn-dcic-lab:HCT-116_HCT-116-RAD21-mAC_IAA_1440_minwd_in_situ_Hi-C,4dn-dcic-lab:ChIP-seq_for_H4K20me3_on_HCT-116_IAA_treated_to_deplete_Cohesin-Rad21,4dn-dcic-lab:ChIP-seq_for_H4K20me3_on_HCT-116,4dn-dcic-lab:ChIP-seq_for_H3K79me2_on_HCT-116_IAA_treated_to_deplete_Cohesin-Rad21,4dn-dcic-lab:ChIP-seq_for_H3K79me2_on_HCT-116,4dn-dcic-lab:ChIP-seq_for_H4K16Ac_on_HCT-116_IAA_treated_to_deplete_Cohesin-Rad21,4dn-dcic-lab:ChIP-seq_for_H4K16Ac_on_HCT-116,4dn-dcic-lab:ChIP-seq_for_H3K9me3_on_HCT-116_IAA_treated_to_deplete_Cohesin-Rad21,4dn-dcic-lab:ChIP-seq_for_H3K9me3_on_HCT-116,4dn-dcic-lab:ChIP-seq_for_H3K27me3_on_HCT-116_IAA_treated_to_deplete_Cohesin-Rad21,4dn-dcic-lab:ChIP-seq_for_H3K27me3_on_HCT-116,4dn-dcic-lab:ChIP-seq_for_H3K36me3_on_HCT-116_IAA_treated_to_deplete_Cohesin-Rad21,4dn-dcic-lab:ChIP-seq_for_H3K36me3_on_HCT-116,4dn-dcic-lab:ChIP-seq_for_H3K4me1on_HCT-116_IAA_treated_to_deplete_Cohesin-Rad21,4dn-dcic-lab:ChIP-seq_for_H3K4me1on_HCT-116,4dn-dcic-lab:ChIP-seq_for_H3K4me3_on_HCT-116_IAA_treated_to_deplete_Cohesin-Rad21,4dn-dcic-lab:ChIP-seq_for_H3K4me3_on_HCT-116,4dn-dcic-lab:ChIP-seq_for_H3K27Ac_on_HCT-116_IAA_treated_to_deplete_Cohesin-Rad21,4dn-dcic-lab:ChIP-seq_for_H3K27Ac_on_HCT-116,4dn-dcic-lab:ChIP-seq_for_CTCF_on_HCT-116_IAA_treated_to_deplete_Cohesin-Rad21,4dn-dcic-lab:ChIP-seq_for_CTCF_on_HCT-116,4dn-dcic-lab:ChIP-seq_for_SMC1_on_HCT-116_IAA_treated_to_deplete_Cohesin-Rad21,4dn-dcic-lab:ChIP-seq_for_SMC1_on_HCT-116,4dn-dcic-lab:ChIP-seq_for_RAD21_on_HCT-116_IAA_treated_to_deplete_Cohesin-Rad21,4dn-dcic-lab:ChIP-seq_for_RAD21_on_HCT-116,4dn-dcic-lab:ChIP-seq_for_NIPBL_on_HCT-116_IAA_treated_to_deplete_Cohesin-Rad21,4dn-dcic-lab:ChIP-seq_for_NIPBL_on_HCT-116,4dn-dcic-lab:ChIP-seq_for_H2AZ_on_HCT-116_IAA_treated_to_deplete_Cohesin-Rad21,4dn-dcic-lab:ChIP-seq_for_H2AZ_on_HCT-116,4dn-dcic-lab:ChIP-seq_for_input_on_HCT-116,4dn-dcic-lab:ChIP-seq_for_input_on_HCT-116_IAA_treated_to_deplete_Cohesin-Rad21,4dn-dcic-lab:HCT-116_HCT-116-RAD21-mAC_in_situ_Hi-C_Rao-2017,4dn-dcic-lab:HCT-116_HCT-116-RAD21-mAC_IAA_360min_in_situ_Hi-C_Rao-2018,4dn-dcic-lab:HCT-116_HCT-116-RAD21-mAC_IAA_20_minwd_in_situ_Hi-C_Rao-2018,4dn-dcic-lab:HCT-116_HCT-116-RAD21-mAC_IAA_40_minwd_in_situ_Hi-C_Rao-2018,4dn-dcic-lab:HCT-116_HCT-116-RAD21-mAC_IAA_60_minwd_in_situ_Hi-C_Rao-2018\n"
     ]
    }
   ],
   "source": [
    "print(exp_rep_seq_list_format)"
   ]
  },
  {
   "cell_type": "code",
   "execution_count": null,
   "metadata": {},
   "outputs": [],
   "source": []
  }
 ],
 "metadata": {
  "kernelspec": {
   "display_name": "Python 3",
   "language": "python",
   "name": "python3"
  },
  "language_info": {
   "codemirror_mode": {
    "name": "ipython",
    "version": 3
   },
   "file_extension": ".py",
   "mimetype": "text/x-python",
   "name": "python",
   "nbconvert_exporter": "python",
   "pygments_lexer": "ipython3",
   "version": "3.7.1"
  }
 },
 "nbformat": 4,
 "nbformat_minor": 2
}
