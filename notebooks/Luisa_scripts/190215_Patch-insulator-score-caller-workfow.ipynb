{
 "cells": [
  {
   "cell_type": "code",
   "execution_count": 1,
   "metadata": {},
   "outputs": [],
   "source": [
    "from dcicutils import ff_utils\n",
    "from functions.notebook_functions import *\n",
    "\n",
    "# get key from file\n",
    "#my_key = get_key('default')\n",
    "# all usable env names\n",
    "all_envs = ['data', 'staging', 'fourfront-webdev', 'fourfront-mastertest', 'fourfront-hotseat']\n",
    "# get admin key from s3\n",
    "my_key = ff_utils.get_authentication_with_server({}, ff_env = 'fourfront-webdev')\n"
   ]
  },
  {
   "cell_type": "code",
   "execution_count": 2,
   "metadata": {},
   "outputs": [
    {
     "name": "stdout",
     "output_type": "stream",
     "text": [
      "{'accession': '4DNWISCLMV03', 'app_name': 'insulator-score-caller', 'app_version': 'dev', 'arguments': [{'argument_format': 'd13d06cf-218e-4f61-ccf0-91f226248b2c', 'argument_type': 'Input file', 'workflow_argument_name': 'mcoolfile'}, {'argument_format': 'd1311111-218e-4f61-aaf0-91f226248b2c', 'argument_type': 'Output processed file', 'workflow_argument_name': 'bwfile'}], 'award': '1U01CA200059-01', 'category': ['feature calling'], 'cwl_child_filenames': [], 'cwl_directory_url': 'https://raw.githubusercontent.com/4dn-dcic/docker-4dn-insulator-score-caller/v6.6/cwl/', 'cwl_main_filename': 'insulator-score-caller.cwl', 'cwl_pointer': '', 'description': 'Gets insulator diamond scores from mcool files in bigwig format', 'docker_image_name': '4dn-dcic/docker-4dn-insulator-score-caller', 'docker_registry_url': 'https://hub.docker.com/', 'lab': '4dn-dcic-lab', 'name': 'insulator-score-caller', 'steps': [{'inputs': [{'meta': {'cardinality': 'single', 'file_format': 'd13d06cf-218e-4f61-ccf0-91f226248b2c', 'global': True, 'type': 'data file'}, 'name': 'mcoolfile', 'source': [{'name': 'mcoolfile'}]}], 'meta': {'analysis_step_types': ['Calling insulator scores'], 'software_used': ['/softwares/fbf26cdc-a507-4a2a-b09d-107e5e86c70d/']}, 'name': 'insulator-score-caller', 'outputs': [{'meta': {'cardinality': 'single', 'file_format': 'd1311111-218e-4f61-aaf0-91f226248b2c', 'global': True, 'type': 'data file'}, 'name': 'bigwfile', 'target': [{'name': 'bwfile'}]}]}], 'title': 'Getting insulator diamond scores from mcool files', 'uuid': '2d23a74d-f33c-4187-b920-af7a8e44280b'}\n"
     ]
    }
   ],
   "source": [
    "# load json file\n",
    "import json\n",
    "my_new_json = \"/Users/luisa/Documents/4DN/insulator-score-caller_workflow/insulator-score-caller-workflow_v3.json\"\n",
    "with open(my_new_json) as f:\n",
    "    data = json.load(f)\n",
    "print(data)"
   ]
  },
  {
   "cell_type": "code",
   "execution_count": 4,
   "metadata": {},
   "outputs": [],
   "source": [
    "workflow_uuid = \"2d23a74d-f33c-4187-b920-af7a8e44280b\"\n",
    "my_uuid = ''"
   ]
  },
  {
   "cell_type": "code",
   "execution_count": 5,
   "metadata": {},
   "outputs": [
    {
     "name": "stdout",
     "output_type": "stream",
     "text": [
      "3\n",
      "4DNWISCLMV03 Getting insulator diamond scores from mcool files 2d23a74d-f33c-4187-b920-af7a8e44280b\n",
      "\n",
      "2d23a74d-f33c-4187-b920-af7a8e44280b\n"
     ]
    }
   ],
   "source": [
    "q = '/search/?category=feature+calling&type=Workflow'\n",
    "\n",
    "results = ff_utils.search_metadata(q, key=my_key)\n",
    "print(len(results))\n",
    "for i in results:\n",
    "    print(i['accession'], i['title'], i['uuid'])\n",
    "    print()\n",
    "    if i['uuid'] == workflow_uuid:\n",
    "        my_uuid = workflow_uuid\n",
    "        print(my_uuid)\n",
    "        break\n",
    "    "
   ]
  },
  {
   "cell_type": "code",
   "execution_count": 7,
   "metadata": {},
   "outputs": [
    {
     "name": "stdout",
     "output_type": "stream",
     "text": [
      "{'status': 'success', '@type': ['result'], '@graph': [{'docker_image_name': '4dn-dcic/docker-4dn-insulator-score-caller', 'schema_version': '7', 'cwl_child_filenames': [], 'app_version': 'dev', 'cwl_main_filename': 'insulator-score-caller.cwl', 'status': 'in review by lab', 'docker_registry_url': 'https://hub.docker.com/', 'newer_versions': [], 'name': 'insulator-score-caller', 'last_modified': {'modified_by': '/users/986b362f-4eb6-4a9c-8173-3ab267307e3a/', 'date_modified': '2019-05-09T10:14:28.330059+00:00'}, 'category': ['feature calling'], '@id': '/workflows/2d23a74d-f33c-4187-b920-af7a8e44280b/', 'workflow_language': 'CWL', 'display_title': 'Getting insulator diamond scores from mcool files - 4DNWISCLMV03', 'cwl_pointer': '', 'principals_allowed': {'view': ['award.b0b9c607-f8b4-4f02-93f4-9895b461334b', 'group.admin', 'group.read-only-admin', 'lab.828cd4fe-ebb0-4b36-a94a-d2e3a36cc989', 'remoteuser.EMBED', 'remoteuser.INDEXER'], 'edit': ['group.admin', 'submits_for.828cd4fe-ebb0-4b36-a94a-d2e3a36cc989'], 'audit': ['system.Everyone']}, 'uuid': '2d23a74d-f33c-4187-b920-af7a8e44280b', 'description': 'Gets insulator diamond scores from mcool files in bigwig format', 'arguments': [{'workflow_argument_name': 'mcoolfile', 'argument_format': '/file-formats/mcool/', 'argument_type': 'Input file'}, {'workflow_argument_name': 'bwfile', 'argument_format': '/file-formats/bw/', 'argument_type': 'Output processed file'}], 'cwl_directory_url': 'https://raw.githubusercontent.com/4dn-dcic/docker-4dn-insulator-score-caller/v6.6/cwl/', 'lab': '/labs/4dn-dcic-lab/', 'submitted_by': '/users/986b362f-4eb6-4a9c-8173-3ab267307e3a/', 'date_created': '2019-05-06T01:36:46.084603+00:00', 'accession': '4DNWISCLMV03', 'external_references': [], 'steps': [{'outputs': [{'name': 'bigwfile', 'target': [{'name': 'bwfile'}], 'meta': {'type': 'data file', 'global': True, 'cardinality': 'single', 'file_format': 'd1311111-218e-4f61-aaf0-91f226248b2c'}}], 'inputs': [{'source': [{'name': 'mcoolfile'}], 'name': 'mcoolfile', 'meta': {'type': 'data file', 'global': True, 'cardinality': 'single', 'file_format': '/file-formats/mcool/'}}], 'name': 'insulator-score-caller', 'meta': {'analysis_step_types': ['Calling insulator scores'], 'software_used': ['/softwares/fbf26cdc-a507-4a2a-b09d-107e5e86c70d/']}}], 'app_name': 'insulator-score-caller', 'award': '/awards/1U01CA200059-01/', '@type': ['Workflow', 'Item'], 'title': 'Getting insulator diamond scores from mcool files'}]}\n"
     ]
    }
   ],
   "source": [
    "action = True\n",
    "addon = \"check_only=True\"\n",
    "if action:\n",
    "    addon = \"\"\n",
    "e = ff_utils.patch_metadata(data,obj_id=my_uuid, key=my_key,\n",
    "                             add_on = addon)\n",
    "print(e)"
   ]
  },
  {
   "cell_type": "code",
   "execution_count": 7,
   "metadata": {},
   "outputs": [
    {
     "name": "stdout",
     "output_type": "stream",
     "text": [
      "['result']\n"
     ]
    }
   ],
   "source": []
  },
  {
   "cell_type": "code",
   "execution_count": null,
   "metadata": {},
   "outputs": [],
   "source": []
  }
 ],
 "metadata": {
  "kernelspec": {
   "display_name": "Python 3",
   "language": "python",
   "name": "python3"
  },
  "language_info": {
   "codemirror_mode": {
    "name": "ipython",
    "version": 3
   },
   "file_extension": ".py",
   "mimetype": "text/x-python",
   "name": "python",
   "nbconvert_exporter": "python",
   "pygments_lexer": "ipython3",
   "version": "3.7.1"
  }
 },
 "nbformat": 4,
 "nbformat_minor": 2
}
