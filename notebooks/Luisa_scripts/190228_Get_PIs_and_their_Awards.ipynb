{
 "cells": [
  {
   "cell_type": "code",
   "execution_count": null,
   "metadata": {},
   "outputs": [],
   "source": [
    "from dcicutils import ff_utils\n",
    "from functions.notebook_functions import *\n",
    "import pandas as pd\n",
    "\n",
    "my_key = get_key('default')\n",
    "all_labs = ff_utils.search_metadata('/search/?awards.project=4DN&type=Lab', key = my_key)\n",
    "all_awards = ff_utils.search_metadata('/search/?type=Award', key = my_key)\n",
    "print(len(all_labs))"
   ]
  },
  {
   "cell_type": "code",
   "execution_count": null,
   "metadata": {},
   "outputs": [],
   "source": [
    "print(all_labs[0])"
   ]
  },
  {
   "cell_type": "code",
   "execution_count": null,
   "metadata": {},
   "outputs": [],
   "source": [
    "for award in all_awards:\n",
    "    print(award)\n",
    "    print()\n",
    "    print()"
   ]
  },
  {
   "cell_type": "code",
   "execution_count": null,
   "metadata": {},
   "outputs": [],
   "source": [
    "all_pis = []\n",
    "for lab in all_labs:\n",
    "    try:\n",
    "        pi = ff_utils.get_metadata(lab['pi']['@id'], key = my_key)\n",
    "    except:\n",
    "        print(lab['uuid'])\n",
    "    else:\n",
    "        all_pis.append(pi)\n",
    "    "
   ]
  },
  {
   "cell_type": "code",
   "execution_count": null,
   "metadata": {},
   "outputs": [],
   "source": [
    "print(len(all_pis))"
   ]
  },
  {
   "cell_type": "code",
   "execution_count": null,
   "metadata": {},
   "outputs": [],
   "source": [
    "print(all_pis[0])"
   ]
  },
  {
   "cell_type": "code",
   "execution_count": null,
   "metadata": {},
   "outputs": [],
   "source": [
    "print(all_labs)"
   ]
  },
  {
   "cell_type": "code",
   "execution_count": null,
   "metadata": {},
   "outputs": [],
   "source": [
    "all_pis_and_awards = []\n",
    "park = False\n",
    "for pi in all_pis:\n",
    "    info = []\n",
    "    pi_fname = pi['first_name']\n",
    "    pi_lname = pi['last_name']\n",
    "    pi_awards = []\n",
    "    \n",
    "    if pi_lname == 'Park' and park == False:\n",
    "        for item in pi['lab']['awards']:\n",
    "            if item['project'] == '4DN':\n",
    "                pi_awards.append(item['@id'][8:-1])\n",
    "        info.append(pi_fname)\n",
    "        info.append(pi_lname)\n",
    "        for award in pi_awards:\n",
    "            if award != 'external-award':\n",
    "                info.append(award)\n",
    "        all_pis_and_awards.append(info)\n",
    "        park = True\n",
    "    elif pi_lname != 'Park':\n",
    "        for item in pi['lab']['awards']:\n",
    "            if item['project'] == '4DN':\n",
    "                pi_awards.append(item['@id'][8:-1])\n",
    "        info.append(pi_fname)\n",
    "        info.append(pi_lname)\n",
    "        for award in pi_awards:\n",
    "            if award != 'external-award':\n",
    "                info.append(award)\n",
    "        all_pis_and_awards.append(info)     \n",
    "        "
   ]
  },
  {
   "cell_type": "code",
   "execution_count": null,
   "metadata": {},
   "outputs": [],
   "source": [
    "print(all_pis_and_awards)"
   ]
  },
  {
   "cell_type": "code",
   "execution_count": null,
   "metadata": {},
   "outputs": [],
   "source": [
    "print(len(all_pis_and_awards))"
   ]
  },
  {
   "cell_type": "code",
   "execution_count": null,
   "metadata": {},
   "outputs": [],
   "source": [
    "import csv"
   ]
  },
  {
   "cell_type": "code",
   "execution_count": null,
   "metadata": {},
   "outputs": [],
   "source": [
    "with open('Pis_and_awards_v2.txt', 'w', newline = '') as outfile:\n",
    "    file = csv.writer(outfile, delimiter='\\t')\n",
    "    for i in all_pis_and_awards:\n",
    "        file.writerow(i)"
   ]
  },
  {
   "cell_type": "code",
   "execution_count": null,
   "metadata": {},
   "outputs": [],
   "source": [
    "with open('Pis_and_multiple_awards.txt', 'w', newline = '') as outfile:\n",
    "    file = csv.writer(outfile, delimiter='\\t')\n",
    "    for i in all_pis_and_awards:\n",
    "        if len(i) > 3:\n",
    "            file.writerow(i)"
   ]
  },
  {
   "cell_type": "code",
   "execution_count": null,
   "metadata": {},
   "outputs": [],
   "source": []
  }
 ],
 "metadata": {
  "kernelspec": {
   "display_name": "Python 3",
   "language": "python",
   "name": "python3"
  },
  "language_info": {
   "codemirror_mode": {
    "name": "ipython",
    "version": 3
   },
   "file_extension": ".py",
   "mimetype": "text/x-python",
   "name": "python",
   "nbconvert_exporter": "python",
   "pygments_lexer": "ipython3",
   "version": "3.7.1"
  }
 },
 "nbformat": 4,
 "nbformat_minor": 2
}
