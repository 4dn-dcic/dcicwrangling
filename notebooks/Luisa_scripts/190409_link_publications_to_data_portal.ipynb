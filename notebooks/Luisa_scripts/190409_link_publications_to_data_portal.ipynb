{
 "cells": [
  {
   "cell_type": "code",
   "execution_count": null,
   "metadata": {},
   "outputs": [],
   "source": [
    "from dcicutils import ff_utils\n",
    "from functions.notebook_functions import *\n",
    "import boto3\n",
    "import gspread\n",
    "from oauth2client.service_account import ServiceAccountCredentials\n",
    "import pandas as pd\n",
    "import json"
   ]
  },
  {
   "cell_type": "code",
   "execution_count": null,
   "metadata": {},
   "outputs": [],
   "source": [
    "book_id = ''\n",
    "s3 = boto3.resource('s3')\n",
    "\n",
    "obj = s3.Object('elasticbeanstalk-fourfront-webprod-system', 'DCICjupgoogle.json')\n",
    "cont = obj.get()['Body'].read().decode()\n",
    "key_dict = json.loads(cont)\n",
    "SCOPES = 'https://www.googleapis.com/auth/spreadsheets'\n",
    "creds = ServiceAccountCredentials.from_json_keyfile_dict(key_dict, SCOPES)\n",
    "gc = gspread.authorize(creds)\n",
    "book = gc.open_by_key(book_id)"
   ]
  },
  {
   "cell_type": "code",
   "execution_count": null,
   "metadata": {},
   "outputs": [],
   "source": [
    "my_key = get_key('default')\n",
    "all_pubs = ff_utils.search_metadata('/search/?type=Publication&number_of_experiment_sets%21=No+value', key = my_key)"
   ]
  },
  {
   "cell_type": "code",
   "execution_count": null,
   "metadata": {},
   "outputs": [],
   "source": [
    "print(len(all_pubs))"
   ]
  },
  {
   "cell_type": "code",
   "execution_count": null,
   "metadata": {},
   "outputs": [],
   "source": [
    "book"
   ]
  },
  {
   "cell_type": "code",
   "execution_count": null,
   "metadata": {},
   "outputs": [],
   "source": [
    "worksheet = book.worksheet('Publication List')"
   ]
  },
  {
   "cell_type": "code",
   "execution_count": null,
   "metadata": {},
   "outputs": [],
   "source": [
    "table = worksheet.get_all_values()\n",
    "##Convert table data into a dataframe\n",
    "df = pd.DataFrame(table[1:], columns=table[0])\n",
    "col_names = df.columns.values"
   ]
  },
  {
   "cell_type": "code",
   "execution_count": null,
   "metadata": {},
   "outputs": [],
   "source": [
    "titles_in_pub = df['Title']"
   ]
  },
  {
   "cell_type": "code",
   "execution_count": null,
   "metadata": {},
   "outputs": [],
   "source": [
    "for pub in all_pubs:\n",
    "    print(pub.keys())\n",
    "    break"
   ]
  },
  {
   "cell_type": "code",
   "execution_count": null,
   "metadata": {},
   "outputs": [],
   "source": [
    "print(sample_pub.keys())"
   ]
  },
  {
   "cell_type": "code",
   "execution_count": null,
   "metadata": {},
   "outputs": [],
   "source": [
    "from difflib import SequenceMatcher as SM"
   ]
  },
  {
   "cell_type": "code",
   "execution_count": null,
   "metadata": {},
   "outputs": [],
   "source": [
    "links_col = []\n",
    "missing_pubs = []\n",
    "for pub in all_pubs:\n",
    "    display_title = pub['display_title']\n",
    "    title = pub['title']\n",
    "    found = False\n",
    "    for index, title_in_gs in enumerate(df['Title']):\n",
    "        formatted_link = ''\n",
    "        match_score = SM(None, title_in_gs, title).ratio()\n",
    "        if match_score >= 0.90:\n",
    "            num_exps = pub['number_of_experiment_sets'] \n",
    "            link_to_exps = 'https://data.4dnucleome.org/browse/?experimentset_type=replicate&publications_of_set.display_title={}'.format(display_title)\n",
    "            formatted_link = '=hyperlink(\"{}\", \"{} expsets in portal\")'.format(link_to_exps, num_exps)\n",
    "            found = True\n",
    "            col_link = [index, formatted_link]\n",
    "            links_col.append(col_link)\n",
    "    if found is False:\n",
    "        missing_pubs.append(title)   "
   ]
  },
  {
   "cell_type": "code",
   "execution_count": null,
   "metadata": {},
   "outputs": [],
   "source": [
    "print(len(links_col))"
   ]
  },
  {
   "cell_type": "code",
   "execution_count": null,
   "metadata": {},
   "outputs": [],
   "source": [
    "print(links_col)"
   ]
  },
  {
   "cell_type": "code",
   "execution_count": null,
   "metadata": {},
   "outputs": [],
   "source": [
    "column_df = [''] * len(df['Title']) "
   ]
  },
  {
   "cell_type": "code",
   "execution_count": null,
   "metadata": {},
   "outputs": [],
   "source": [
    "print(column_df)"
   ]
  },
  {
   "cell_type": "code",
   "execution_count": null,
   "metadata": {},
   "outputs": [],
   "source": [
    "for item in links_col:\n",
    "    column_df[item[0]] = item[1]"
   ]
  },
  {
   "cell_type": "code",
   "execution_count": null,
   "metadata": {},
   "outputs": [],
   "source": [
    "#print(links_col)"
   ]
  },
  {
   "cell_type": "code",
   "execution_count": null,
   "metadata": {},
   "outputs": [],
   "source": [
    "print(len(missing_pubs))"
   ]
  },
  {
   "cell_type": "code",
   "execution_count": null,
   "metadata": {},
   "outputs": [],
   "source": [
    "all_pubs[0].keys()"
   ]
  },
  {
   "cell_type": "code",
   "execution_count": null,
   "metadata": {},
   "outputs": [],
   "source": [
    "df['Data in Portal'] = column_df"
   ]
  },
  {
   "cell_type": "code",
   "execution_count": null,
   "metadata": {},
   "outputs": [],
   "source": [
    "df['Portal link'] = column_df"
   ]
  },
  {
   "cell_type": "code",
   "execution_count": null,
   "metadata": {},
   "outputs": [],
   "source": [
    "#print(df)"
   ]
  },
  {
   "cell_type": "code",
   "execution_count": null,
   "metadata": {},
   "outputs": [],
   "source": [
    "data = df.values.tolist()"
   ]
  },
  {
   "cell_type": "code",
   "execution_count": null,
   "metadata": {},
   "outputs": [],
   "source": [
    "#df.head()"
   ]
  },
  {
   "cell_type": "code",
   "execution_count": null,
   "metadata": {},
   "outputs": [],
   "source": [
    "df = df[['Title', 'Authors', 'Date', 'Contact 4DN Author', 'Data in Portal', 'priority', 'status', 'Primary_awards', 'Secondary Awards', 'Other ids', 'Link', 'Date added']]"
   ]
  },
  {
   "cell_type": "code",
   "execution_count": null,
   "metadata": {},
   "outputs": [],
   "source": [
    "#df.head()"
   ]
  },
  {
   "cell_type": "code",
   "execution_count": null,
   "metadata": {},
   "outputs": [],
   "source": [
    "worksheet = book.add_worksheet('Publication List test', 100,100)"
   ]
  },
  {
   "cell_type": "code",
   "execution_count": null,
   "metadata": {},
   "outputs": [],
   "source": [
    "labels = ['Title', 'Authors', 'Date', 'Contact 4DN Author', 'Portal link', 'Priority', 'Status', 'Primary awards', 'Secondary awards', 'Other ids', 'Publication Link', 'Date added']\n",
    "gs_write = []\n",
    "row = 1\n",
    "col = 1\n",
    "for label in labels:\n",
    "    gs_write.append(gspread.models.Cell(1,col,label))\n",
    "    col = col + 1\n",
    "\n",
    "col = 1\n",
    "for item in data:\n",
    "    row = row + 1\n",
    "    for ele in item:\n",
    "        gs_write.append(gspread.models.Cell(row,col,ele))\n",
    "        col = col + 1\n",
    "    col = 1\n",
    "\n",
    "worksheet.update_cells(gs_write, value_input_option='USER_ENTERED')"
   ]
  },
  {
   "cell_type": "code",
   "execution_count": null,
   "metadata": {},
   "outputs": [],
   "source": [
    "###############################################################################################################"
   ]
  },
  {
   "cell_type": "code",
   "execution_count": null,
   "metadata": {},
   "outputs": [],
   "source": [
    "from dcicutils import ff_utils\n",
    "from functions.notebook_functions import *\n",
    "import boto3\n",
    "import gspread\n",
    "from oauth2client.service_account import ServiceAccountCredentials\n",
    "import pandas as pd\n",
    "import json\n",
    "from difflib import SequenceMatcher as SM\n",
    "import time"
   ]
  },
  {
   "cell_type": "code",
   "execution_count": null,
   "metadata": {},
   "outputs": [],
   "source": [
    "s3 = boto3.resource('s3')\n",
    "obj = s3.Object('elasticbeanstalk-fourfront-webprod-system', 'DCICjupgoogle.json')\n",
    "cont = obj.get()['Body'].read().decode()\n",
    "key_dict = json.loads(cont)\n",
    "SCOPES = 'https://www.googleapis.com/auth/spreadsheets'\n",
    "creds = ServiceAccountCredentials.from_json_keyfile_dict(key_dict, SCOPES)\n",
    "gc = gspread.authorize(creds)"
   ]
  },
  {
   "cell_type": "code",
   "execution_count": null,
   "metadata": {},
   "outputs": [],
   "source": [
    "my_key = get_key('default')\n",
    "all_pubs = ff_utils.search_metadata('/search/?type=Publication&number_of_experiment_sets%21=No+value', key=my_key)"
   ]
  },
  {
   "cell_type": "code",
   "execution_count": null,
   "metadata": {},
   "outputs": [],
   "source": [
    "#Get all the centers info from google management sheets\n",
    "gs_management_sheet_id = ''\n",
    "gs_management_workbook = gc.open_by_key(gs_management_sheet_id)\n",
    "gs_management_worksheet = gs_management_workbook.sheet1\n",
    "\n",
    "centers_sheets_links = gs_management_worksheet.get_all_values()"
   ]
  },
  {
   "cell_type": "code",
   "execution_count": null,
   "metadata": {},
   "outputs": [],
   "source": [
    "for center in centers_sheets_links:\n",
    "    if center[1] != \"1U01EB021223-01\":\n",
    "        continue\n",
    "    print(center)"
   ]
  },
  {
   "cell_type": "code",
   "execution_count": null,
   "metadata": {},
   "outputs": [],
   "source": [
    "all_missing_pubs = []\n",
    "all_matched_pubs = []\n",
    "ignore_first_col = 0\n",
    "request_ct = 0\n",
    "for center in centers_sheets_links:\n",
    "#     if center[1] != \"1U01EB021223-01\":\n",
    "#         continue\n",
    "    print(center[0])\n",
    "    if ignore_first_col == 0:\n",
    "        ignore_first_col = ignore_first_col + 1\n",
    "        continue\n",
    "    request_ct = request_ct + 1\n",
    "    grant_gs_id = center[2]\n",
    "    if request_ct == 15:\n",
    "        time.sleep(100)\n",
    "        request_ct = 0\n",
    "    workbook = gc.open_by_key(grant_gs_id)\n",
    "    print('working on', workbook)\n",
    "    try:\n",
    "        worksheet = workbook.worksheet('Publication List')\n",
    "    except:\n",
    "        continue\n",
    "    \n",
    "    table = worksheet.get_all_values()\n",
    "    ##Convert table data into a dataframe\n",
    "    df = pd.DataFrame(table[1:], columns=table[0])\n",
    "    col_names = df.columns.values\n",
    "    \n",
    "    links_col = []\n",
    "    missing_pubs = []\n",
    "    matched_pubs = []\n",
    "\n",
    "    for pub in all_pubs:\n",
    "        display_title = pub['display_title']\n",
    "        title = pub['title']\n",
    "        found = False\n",
    "        for index, title_in_gs in enumerate(df['Title']):\n",
    "            formatted_link = ''\n",
    "            match_score = SM(None, title_in_gs, title).ratio()\n",
    "            if match_score >= 0.90:\n",
    "                num_exps = pub['number_of_experiment_sets'] \n",
    "                link_to_exps = 'https://data.4dnucleome.org/browse/?experimentset_type=replicate&publications_of_set.display_title={}'.format(display_title)\n",
    "                formatted_link = '=hyperlink(\"{}\", \"{} expsets in portal\")'.format(link_to_exps, num_exps)\n",
    "                found = True\n",
    "                col_link = [index, formatted_link]\n",
    "                links_col.append(col_link)\n",
    "                matched_pubs.append(title)\n",
    "        if found is False:\n",
    "            missing_pubs.append(title)\n",
    "    \n",
    "    print(len(links_col), 'were found')\n",
    "    all_missing_pubs = all_missing_pubs + missing_pubs\n",
    "    all_matched_pubs = all_matched_pubs + matched_pubs\n",
    "    print()\n",
    "    \n",
    "    column_df = [''] * len(df['Title']) \n",
    "    for item in links_col:\n",
    "        column_df[item[0]] = item[1]\n",
    "    df['Portal link'] = column_df\n",
    "    \n",
    "#     # Arrange columns in the right order\n",
    "#     col_order_first = ['Title', 'Authors', 'Date', 'Contact 4DN Author', 'Portal link']\n",
    "#     col_order_middle = []\n",
    "#     col_order_last = ['Primary_awards', 'Secondary Awards', 'Other ids','Link','Date added']\n",
    "    \n",
    "#     for name in col_names:\n",
    "#         if name in col_order_first or name in col_order_last:\n",
    "#             continue\n",
    "#         else:\n",
    "#             col_order_middle.append(name)\n",
    "#     col_order = col_order_first + col_order_middle + col_order_last\n",
    "#     try:\n",
    "#         df = df[col_order]\n",
    "#     except:\n",
    "#         print('already exists')\n",
    "#         continue\n",
    "    \n",
    "#     labels_first = ['Title', 'Authors', 'Date', 'Contact 4DN Author', 'Portal link']\n",
    "#     labels_middle = col_order_middle\n",
    "#     labels_last = ['Primary awards', 'Secondary awards', 'Other ids','Publication link','Date added']\n",
    "#     labels = labels_first + labels_middle + labels_last\n",
    "       \n",
    "    data = df.values.tolist()\n",
    "       \n",
    "    gs_write = []\n",
    "    row = 1\n",
    "    col = 1\n",
    "#     for label in labels:\n",
    "#         gs_write.append(gspread.models.Cell(1,col,label))\n",
    "#         col = col + 1\n",
    "\n",
    "    col = 1\n",
    "    for item in data:\n",
    "        row = row + 1\n",
    "        for ele in item:\n",
    "            gs_write.append(gspread.models.Cell(row,col,ele))\n",
    "            col = col + 1\n",
    "        col = 1\n",
    "        \n",
    "    if request_ct == 15:\n",
    "        time.sleep(100)\n",
    "        request_ct = 0\n",
    "        \n",
    "    worksheet.update_cells(gs_write, value_input_option='USER_ENTERED')"
   ]
  },
  {
   "cell_type": "code",
   "execution_count": null,
   "metadata": {},
   "outputs": [],
   "source": [
    "print(log)"
   ]
  },
  {
   "cell_type": "code",
   "execution_count": null,
   "metadata": {},
   "outputs": [],
   "source": [
    "print(list(set(log[0])))"
   ]
  },
  {
   "cell_type": "code",
   "execution_count": null,
   "metadata": {},
   "outputs": [],
   "source": [
    "print(len(log[0]))"
   ]
  },
  {
   "cell_type": "code",
   "execution_count": null,
   "metadata": {},
   "outputs": [],
   "source": [
    "print(log)"
   ]
  },
  {
   "cell_type": "code",
   "execution_count": null,
   "metadata": {},
   "outputs": [],
   "source": [
    "x = 0\n",
    "for pub in all_pubs:\n",
    "    if pub['title'] in log[0]:\n",
    "        log[0].pop(x)\n",
    "    x = x + 1"
   ]
  },
  {
   "cell_type": "code",
   "execution_count": null,
   "metadata": {},
   "outputs": [],
   "source": []
  },
  {
   "cell_type": "code",
   "execution_count": null,
   "metadata": {},
   "outputs": [],
   "source": [
    "#print(len(log))"
   ]
  },
  {
   "cell_type": "code",
   "execution_count": null,
   "metadata": {},
   "outputs": [],
   "source": [
    "print(len(all_matched_pubs))"
   ]
  },
  {
   "cell_type": "code",
   "execution_count": null,
   "metadata": {},
   "outputs": [],
   "source": [
    "print(len(all_missing_pubs))"
   ]
  },
  {
   "cell_type": "code",
   "execution_count": null,
   "metadata": {},
   "outputs": [],
   "source": [
    "unique_all_matched_pubs = set(all_matched_pubs)"
   ]
  },
  {
   "cell_type": "code",
   "execution_count": null,
   "metadata": {},
   "outputs": [],
   "source": [
    "unique_all_missing_pubs = set(all_missing_pubs)"
   ]
  },
  {
   "cell_type": "code",
   "execution_count": null,
   "metadata": {},
   "outputs": [],
   "source": [
    "print(len(unique_all_matched_pubs))"
   ]
  },
  {
   "cell_type": "code",
   "execution_count": null,
   "metadata": {},
   "outputs": [],
   "source": [
    "print(len(unique_all_missing_pubs))"
   ]
  },
  {
   "cell_type": "code",
   "execution_count": null,
   "metadata": {},
   "outputs": [],
   "source": [
    "intersection = unique_all_missing_pubs.intersection(unique_all_matched_pubs)"
   ]
  },
  {
   "cell_type": "code",
   "execution_count": null,
   "metadata": {},
   "outputs": [],
   "source": [
    "len(intersection)"
   ]
  },
  {
   "cell_type": "code",
   "execution_count": null,
   "metadata": {},
   "outputs": [],
   "source": [
    "total_missing_pubs = [x  for x in list(unique_all_missing_pubs) if x not in list(intersection)]"
   ]
  },
  {
   "cell_type": "code",
   "execution_count": null,
   "metadata": {},
   "outputs": [],
   "source": [
    "print(len(total_missing_pubs ))"
   ]
  },
  {
   "cell_type": "code",
   "execution_count": null,
   "metadata": {},
   "outputs": [],
   "source": [
    "print(total_missing_pubs)"
   ]
  },
  {
   "cell_type": "code",
   "execution_count": null,
   "metadata": {},
   "outputs": [],
   "source": [
    "print(unique_all_matched_pubs)"
   ]
  },
  {
   "cell_type": "code",
   "execution_count": null,
   "metadata": {},
   "outputs": [],
   "source": []
  }
 ],
 "metadata": {
  "kernelspec": {
   "display_name": "Python 3",
   "language": "python",
   "name": "python3"
  },
  "language_info": {
   "codemirror_mode": {
    "name": "ipython",
    "version": 3
   },
   "file_extension": ".py",
   "mimetype": "text/x-python",
   "name": "python",
   "nbconvert_exporter": "python",
   "pygments_lexer": "ipython3",
   "version": "3.7.1"
  }
 },
 "nbformat": 4,
 "nbformat_minor": 2
}
