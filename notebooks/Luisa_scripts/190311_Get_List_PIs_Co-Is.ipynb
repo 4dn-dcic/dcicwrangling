{
 "cells": [
  {
   "cell_type": "code",
   "execution_count": null,
   "metadata": {},
   "outputs": [],
   "source": [
    "# run once\n",
    "# ! pip install gspread oauth2client df2gspread boto3\n",
    "from dcicutils import ff_utils\n",
    "from functions.notebook_functions import *\n",
    "import pandas as pd\n",
    "\n",
    "my_key = get_key('default')\n",
    "\n",
    "all_users = ff_utils.search_metadata('/search/?type=User', key = my_key)\n",
    "#all_labs = ff_utils.search_metadata('/search/?type=Lab', key = my_key)\n",
    "print(len(all_users))\n",
    "#print(len(all_labs))\n",
    "# all_labs = \n",
    "# all_awards = "
   ]
  },
  {
   "cell_type": "code",
   "execution_count": null,
   "metadata": {},
   "outputs": [],
   "source": [
    "for i in all_users:\n",
    "    print(i)\n",
    "    break"
   ]
  },
  {
   "cell_type": "code",
   "execution_count": null,
   "metadata": {},
   "outputs": [],
   "source": [
    "#print(all_labs[0])"
   ]
  },
  {
   "cell_type": "code",
   "execution_count": null,
   "metadata": {},
   "outputs": [],
   "source": [
    "#Check if Users in the Portal are in the OH List and get the ones that are missing in the OH List\n",
    "\n",
    "def check_user(row, col_names, all_users, matched_users_list):\n",
    "    mail = row['Email'].strip().lower()\n",
    "    indx = -1\n",
    "    users_list = []\n",
    "    #If the User is in the Portal, get the name in the portal and get the lab\n",
    "    for i in all_users:\n",
    "        if i['email'] == mail:\n",
    "            matched_users_list.append(i)\n",
    "            return matched_users_list        \n",
    "    print('email does not exist on data', mail)\n",
    "    return matched_users_list\n",
    "        \n",
    "#             lab = i['lab']['display_title']\n",
    "#             users_list.append(first_name_portal)\n",
    "#             users_list.append(last_name_portal)\n",
    "#             users_list.append(mail)\n",
    "#             users_list.append(lab)\n",
    "#             matched_users_list.append(users_list)\n",
    "#             print(first_name_portal,last_name_portal,lab)"
   ]
  },
  {
   "cell_type": "code",
   "execution_count": null,
   "metadata": {},
   "outputs": [],
   "source": [
    "#Complete the new format of the 4DN Members List\n",
    "\n",
    "preferred_email = []\n",
    "login_email = []\n",
    "lab = []\n",
    "status = []\n",
    "first_name = []\n",
    "last_name = []\n",
    "#name in portal?\n",
    "comment = []\n",
    "Role = []\n",
    "project_number = []\n",
    "RFA = []\n",
    "pi_contact = []"
   ]
  },
  {
   "cell_type": "code",
   "execution_count": null,
   "metadata": {
    "scrolled": false
   },
   "outputs": [],
   "source": [
    "# GET OH SHEET\n",
    "import boto3\n",
    "import gspread\n",
    "from oauth2client.service_account import ServiceAccountCredentials\n",
    "import pandas as pd\n",
    "import json\n",
    "\n",
    "# GET KEY FROM S3 \n",
    "s3 = boto3.resource('s3')\n",
    "obj = s3.Object('elasticbeanstalk-fourfront-webprod-system', 'DCICjupgoogle.json')\n",
    "cont = obj.get()['Body'].read().decode()\n",
    "key_dict = json.loads(cont)\n",
    "SCOPES = 'https://www.googleapis.com/auth/spreadsheets.readonly'\n",
    "creds = ServiceAccountCredentials.from_json_keyfile_dict(key_dict, SCOPES)\n",
    "gc = gspread.authorize(creds)\n",
    "\n",
    "# The ID and range of a sample spreadsheet.\n",
    "book_id = '1NgYww-qbbQdq54BgCBJq80vK3KP_ADY4-OOvY5nlj7Q'\n",
    "sheet_names = ['GroupList']\n",
    "book = gc.open_by_key(book_id)\n",
    "\n",
    "print(book.fetch_sheet_metadata())"
   ]
  },
  {
   "cell_type": "code",
   "execution_count": null,
   "metadata": {},
   "outputs": [],
   "source": [
    "worksheet = book.worksheet(sheet_names[0])\n",
    "table = worksheet.get_all_values()\n",
    "#Convert table data into a dataframe\n",
    "df = pd.DataFrame(table[1:], columns=table[0])\n",
    "col_names = df.columns.values"
   ]
  },
  {
   "cell_type": "code",
   "execution_count": null,
   "metadata": {},
   "outputs": [],
   "source": [
    "lnames_list = dic(df)"
   ]
  },
  {
   "cell_type": "code",
   "execution_count": null,
   "metadata": {},
   "outputs": [],
   "source": [
    "print(col_names)"
   ]
  },
  {
   "cell_type": "code",
   "execution_count": null,
   "metadata": {},
   "outputs": [],
   "source": [
    "print(lnames_list)"
   ]
  },
  {
   "cell_type": "code",
   "execution_count": null,
   "metadata": {},
   "outputs": [],
   "source": [
    "pis_and_coI_users = []\n",
    "job_titles = ['PI', 'Co-I', 'co-I', 'Co-PI', 'co-PI', 'Co-Investigator', 'Contracted PI', 'P.I.', 'collaborator']\n",
    "for user in all_users:\n",
    "    try:\n",
    "        if user['job_title'] in job_titles:\n",
    "            pis_and_coI_users.append(user)\n",
    "    except:\n",
    "        print(user['uuid'])"
   ]
  },
  {
   "cell_type": "code",
   "execution_count": null,
   "metadata": {},
   "outputs": [],
   "source": [
    "print(len())"
   ]
  },
  {
   "cell_type": "code",
   "execution_count": null,
   "metadata": {},
   "outputs": [],
   "source": [
    "for pi in pis_and_coI_users:\n",
    "    if pi['last_name'] not in lnames_list:\n",
    "        print(pi['first_name'], pi['last_name'])"
   ]
  },
  {
   "cell_type": "code",
   "execution_count": null,
   "metadata": {},
   "outputs": [],
   "source": [
    "print(list(lnames_list))"
   ]
  },
  {
   "cell_type": "code",
   "execution_count": null,
   "metadata": {},
   "outputs": [],
   "source": [
    "pis_lname_4DN = []\n",
    "for pi in pis_and_coI_users:\n",
    "    pis_lname_4DN.append(pi['last_name'])"
   ]
  },
  {
   "cell_type": "code",
   "execution_count": null,
   "metadata": {},
   "outputs": [],
   "source": [
    "print(len(pis_lname_4DN))"
   ]
  },
  {
   "cell_type": "code",
   "execution_count": null,
   "metadata": {},
   "outputs": [],
   "source": [
    "for lname in lnames_list:\n",
    "    if lname not in pis_lname_4DN:\n",
    "        print(lname)"
   ]
  },
  {
   "cell_type": "code",
   "execution_count": null,
   "metadata": {},
   "outputs": [],
   "source": [
    "print(pis_lname_4DN)"
   ]
  },
  {
   "cell_type": "code",
   "execution_count": null,
   "metadata": {},
   "outputs": [],
   "source": [
    "inboth = 0\n",
    "for lname in lnames_list:\n",
    "    for pi in pis_lname_4DN:\n",
    "        if lname == pi:\n",
    "            inboth = inboth + 1\n",
    "            "
   ]
  },
  {
   "cell_type": "code",
   "execution_count": null,
   "metadata": {},
   "outputs": [],
   "source": [
    "print(inboth)"
   ]
  },
  {
   "cell_type": "code",
   "execution_count": null,
   "metadata": {},
   "outputs": [],
   "source": [
    "print(len(lnames_list))"
   ]
  },
  {
   "cell_type": "code",
   "execution_count": null,
   "metadata": {},
   "outputs": [],
   "source": [
    "# List of Pis and Co-Is in List = df\n",
    "# List of Pis and Co-Is in List = pis_and_coI_users"
   ]
  },
  {
   "cell_type": "code",
   "execution_count": null,
   "metadata": {},
   "outputs": [],
   "source": [
    "list_names = list(df['PIs / CO-PIs / CO-Is'])"
   ]
  },
  {
   "cell_type": "code",
   "execution_count": null,
   "metadata": {},
   "outputs": [],
   "source": [
    "list_lnames = list(df['Last Name'])"
   ]
  },
  {
   "cell_type": "code",
   "execution_count": null,
   "metadata": {},
   "outputs": [],
   "source": [
    "x = 0\n",
    "for pi in pis_and_coI_users:\n",
    "    times = 0\n",
    "    for name in list_lnames:\n",
    "        if pi['last_name'] == name:\n",
    "            x = x + 1\n",
    "            times = times + 1\n",
    "            \n",
    "        if times >= 2:\n",
    "             print(pi['first_name'])\n",
    "            "
   ]
  },
  {
   "cell_type": "code",
   "execution_count": null,
   "metadata": {},
   "outputs": [],
   "source": [
    "print(x)"
   ]
  },
  {
   "cell_type": "code",
   "execution_count": null,
   "metadata": {},
   "outputs": [],
   "source": [
    "for pi in pis_and_coI_users:\n",
    "    print(pi['last_name'])"
   ]
  },
  {
   "cell_type": "code",
   "execution_count": null,
   "metadata": {},
   "outputs": [],
   "source": [
    "lname_unique = []\n",
    "for lname in list_lnames:\n",
    "    if lname not in lname_unique:\n",
    "        lname_unique.append(lname)\n",
    "    else:\n",
    "        print(lname)"
   ]
  },
  {
   "cell_type": "code",
   "execution_count": null,
   "metadata": {},
   "outputs": [],
   "source": [
    "print(len(lname_unique))"
   ]
  },
  {
   "cell_type": "code",
   "execution_count": null,
   "metadata": {},
   "outputs": [],
   "source": [
    "print(len(list_lnames))"
   ]
  },
  {
   "cell_type": "code",
   "execution_count": null,
   "metadata": {},
   "outputs": [],
   "source": [
    "list_4dn_unique = []\n",
    "for pi in pis_and_coI_users:\n",
    "    if pi['last_name'] not in list_4dn_unique:\n",
    "        list_4dn_unique.append(pi['last_name'])\n",
    "    else:\n",
    "        print(pi['last_name'], [pi['first_name']])"
   ]
  },
  {
   "cell_type": "code",
   "execution_count": null,
   "metadata": {},
   "outputs": [],
   "source": [
    "print(len(list_4dn_unique))"
   ]
  },
  {
   "cell_type": "code",
   "execution_count": null,
   "metadata": {},
   "outputs": [],
   "source": [
    "for lname in lname_unique:\n",
    "    if lname not in list_4dn_unique:\n",
    "        print(lname)"
   ]
  },
  {
   "cell_type": "code",
   "execution_count": null,
   "metadata": {},
   "outputs": [],
   "source": []
  }
 ],
 "metadata": {
  "kernelspec": {
   "display_name": "Python 3",
   "language": "python",
   "name": "python3"
  },
  "language_info": {
   "codemirror_mode": {
    "name": "ipython",
    "version": 3
   },
   "file_extension": ".py",
   "mimetype": "text/x-python",
   "name": "python",
   "nbconvert_exporter": "python",
   "pygments_lexer": "ipython3",
   "version": "3.7.1"
  }
 },
 "nbformat": 4,
 "nbformat_minor": 2
}
