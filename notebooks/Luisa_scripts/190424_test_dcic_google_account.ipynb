{
 "cells": [
  {
   "cell_type": "code",
   "execution_count": null,
   "metadata": {},
   "outputs": [],
   "source": [
    "# READ OH SHEET\n",
    "import boto3\n",
    "import gspread\n",
    "from oauth2client.service_account import ServiceAccountCredentials\n",
    "import pandas as pd\n",
    "import json\n",
    "\n",
    "# this is setup to work with 4dndcic@gmail.com account\n",
    "# invite google-sheet-access@fourdn-fourfront.iam.gserviceaccount.com on the google sheet to give access to it\n",
    "\n",
    "# extract the book id from the google sheet url\n",
    "#../spreadsheets/d/<book_id>/edit#gid=#######\n",
    "book_id = ''\n",
    "sheet_names = ['DCIC & OH', 'IT', 'NT', 'NOFIC', 'NBC']\n",
    "\n",
    "# GET KEY FROM S3 \n",
    "# if you have your own key file, please change the following part accordingly\n",
    "s3 = boto3.resource('s3')\n",
    "\n",
    "obj = s3.Object('elasticbeanstalk-fourfront-webprod-system', 'DCICjupgoogle.json')\n",
    "cont = obj.get()['Body'].read().decode()\n",
    "key_dict = json.loads(cont)\n",
    "SCOPES = 'https://www.googleapis.com/auth/spreadsheets'\n",
    "creds = ServiceAccountCredentials.from_json_keyfile_dict(key_dict, SCOPES)\n",
    "gc = gspread.authorize(creds)\n",
    "\n",
    "# The ID and range of a sample spreadsheet.\n",
    "book = gc.open_by_key(book_id)"
   ]
  },
  {
   "cell_type": "code",
   "execution_count": null,
   "metadata": {},
   "outputs": [],
   "source": [
    "worksheet = book.add_worksheet('New worksheet', 100,100)"
   ]
  },
  {
   "cell_type": "code",
   "execution_count": null,
   "metadata": {},
   "outputs": [],
   "source": [
    "worksheet.update_acell('A1', 'Hello')"
   ]
  },
  {
   "cell_type": "code",
   "execution_count": null,
   "metadata": {},
   "outputs": [],
   "source": []
  }
 ],
 "metadata": {
  "kernelspec": {
   "display_name": "Python 3",
   "language": "python",
   "name": "python3"
  },
  "language_info": {
   "codemirror_mode": {
    "name": "ipython",
    "version": 3
   },
   "file_extension": ".py",
   "mimetype": "text/x-python",
   "name": "python",
   "nbconvert_exporter": "python",
   "pygments_lexer": "ipython3",
   "version": "3.7.1"
  }
 },
 "nbformat": 4,
 "nbformat_minor": 2
}
