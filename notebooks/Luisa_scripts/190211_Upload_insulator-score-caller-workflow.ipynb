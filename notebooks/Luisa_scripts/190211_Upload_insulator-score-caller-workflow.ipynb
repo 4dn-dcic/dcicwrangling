{
 "cells": [
  {
   "cell_type": "code",
   "execution_count": 1,
   "metadata": {},
   "outputs": [
    {
     "name": "stdout",
     "output_type": "stream",
     "text": [
      "Working on http://fourfront-webdev.us-east-1.elasticbeanstalk.com\n"
     ]
    }
   ],
   "source": [
    "from dcicutils import ff_utils\n",
    "from functions.notebook_functions import *\n",
    "\n",
    "# get key from file\n",
    "#my_key = get_key('default')\n",
    "# all usable env names\n",
    "all_envs = ['data', 'staging', 'fourfront-webdev', 'fourfront-mastertest', 'fourfront-hotseat']\n",
    "# get admin key from s3\n",
    "my_key = ff_utils.get_authentication_with_server({}, ff_env = 'fourfront-webdev')\n",
    "print('Working on', my_key['server'])\n"
   ]
  },
  {
   "cell_type": "code",
   "execution_count": 2,
   "metadata": {},
   "outputs": [],
   "source": [
    "import uuid"
   ]
  },
  {
   "cell_type": "code",
   "execution_count": 3,
   "metadata": {},
   "outputs": [
    {
     "name": "stdout",
     "output_type": "stream",
     "text": [
      "2d23a74d-f33c-4187-b920-af7a8e44280b\n"
     ]
    }
   ],
   "source": [
    "myuuid = str(uuid.uuid4())\n",
    "print(myuuid)"
   ]
  },
  {
   "cell_type": "code",
   "execution_count": 4,
   "metadata": {},
   "outputs": [],
   "source": [
    "# load json file\n",
    "import json\n",
    "my_file = \"/Users/luisa/Documents/4DN/insulator-score-caller_workflow/insulator-score-caller-workflow_v3.json\"\n",
    "with open(my_file) as f:\n",
    "    data = json.load(f)\n"
   ]
  },
  {
   "cell_type": "code",
   "execution_count": 5,
   "metadata": {},
   "outputs": [
    {
     "name": "stdout",
     "output_type": "stream",
     "text": [
      "{'accession': '4DNWISCLMV03', 'app_name': 'insulator-score-caller', 'app_version': 'dev', 'arguments': [{'argument_format': 'd13d06cf-218e-4f61-ccf0-91f226248b2c', 'argument_type': 'Input file', 'workflow_argument_name': 'mcoolfile'}, {'argument_format': 'd1311111-218e-4f61-aaf0-91f226248b2c', 'argument_type': 'Output processed file', 'workflow_argument_name': 'bwfile'}], 'award': '1U01CA200059-01', 'category': ['feature calling'], 'cwl_child_filenames': [], 'cwl_directory_url': 'https://raw.githubusercontent.com/4dn-dcic/docker-4dn-insulator-score-caller/v6.6/cwl/', 'cwl_main_filename': 'insulator-score-caller.cwl', 'cwl_pointer': '', 'description': 'Gets insulator diamond scores from mcool files in bigwig format', 'docker_image_name': '4dn-dcic/docker-4dn-insulator-score-caller', 'docker_registry_url': 'https://hub.docker.com/', 'lab': '4dn-dcic-lab', 'name': 'insulator-score-caller', 'steps': [{'inputs': [{'meta': {'cardinality': 'single', 'file_format': 'd13d06cf-218e-4f61-ccf0-91f226248b2c', 'global': True, 'type': 'data file'}, 'name': 'mcoolfile', 'source': [{'name': 'mcoolfile'}]}], 'meta': {'analysis_step_types': ['Calling insulator scores'], 'software_used': ['/softwares/6aa31f4e-65d9-40dd-95a4-5c56804bbe2e']}, 'name': 'insulator-score-caller', 'outputs': [{'meta': {'cardinality': 'single', 'file_format': 'd1311111-218e-4f61-aaf0-91f226248b2c', 'global': True, 'type': 'data file'}, 'name': 'bigwfile', 'target': [{'name': 'bwfile'}]}]}], 'title': 'Getting insulator diamond scores from mcool files', 'uuid': '2d23a74d-f33c-4187-b920-af7a8e44280b'}\n"
     ]
    }
   ],
   "source": [
    "print(data)"
   ]
  },
  {
   "cell_type": "code",
   "execution_count": 6,
   "metadata": {},
   "outputs": [
    {
     "name": "stdout",
     "output_type": "stream",
     "text": [
      "status\n",
      "success\n",
      "\n",
      "@graph\n",
      "[{'date_created': '2019-05-06T01:36:46.084603+00:00', '@type': ['Workflow', 'Item'], 'docker_registry_url': 'https://hub.docker.com/', 'cwl_directory_url': 'https://raw.githubusercontent.com/4dn-dcic/docker-4dn-insulator-score-caller/v6.6/cwl/', 'docker_image_name': '4dn-dcic/docker-4dn-insulator-score-caller', 'award': '/awards/1U01CA200059-01/', 'newer_versions': [], 'arguments': [{'argument_format': '/file-formats/mcool/', 'argument_type': 'Input file', 'workflow_argument_name': 'mcoolfile'}, {'argument_format': '/file-formats/bw/', 'argument_type': 'Output processed file', 'workflow_argument_name': 'bwfile'}], 'external_references': [], 'title': 'Getting insulator diamond scores from mcool files', 'uuid': '2d23a74d-f33c-4187-b920-af7a8e44280b', 'app_name': 'insulator-score-caller', 'workflow_language': 'CWL', 'description': 'Gets insulator diamond scores from mcool files in bigwig format', 'status': 'in review by lab', 'app_version': 'dev', 'last_modified': {'modified_by': '/users/986b362f-4eb6-4a9c-8173-3ab267307e3a/', 'date_modified': '2019-05-06T01:36:46.094453+00:00'}, 'submitted_by': '/users/986b362f-4eb6-4a9c-8173-3ab267307e3a/', 'cwl_child_filenames': [], 'category': ['feature calling'], 'name': 'insulator-score-caller', 'accession': '4DNWISCLMV03', 'cwl_main_filename': 'insulator-score-caller.cwl', '@id': '/workflows/2d23a74d-f33c-4187-b920-af7a8e44280b/', 'principals_allowed': {'audit': ['system.Everyone'], 'edit': ['group.admin', 'submits_for.828cd4fe-ebb0-4b36-a94a-d2e3a36cc989'], 'view': ['award.b0b9c607-f8b4-4f02-93f4-9895b461334b', 'group.admin', 'group.read-only-admin', 'lab.828cd4fe-ebb0-4b36-a94a-d2e3a36cc989', 'remoteuser.EMBED', 'remoteuser.INDEXER']}, 'lab': '/labs/4dn-dcic-lab/', 'display_title': 'Getting insulator diamond scores from mcool files - 4DNWISCLMV03', 'schema_version': '7', 'cwl_pointer': '', 'steps': [{'name': 'insulator-score-caller', 'inputs': [{'name': 'mcoolfile', 'source': [{'name': 'mcoolfile'}], 'meta': {'file_format': '/file-formats/mcool/', 'global': True, 'cardinality': 'single', 'type': 'data file'}}], 'meta': {'software_used': ['/softwares/6aa31f4e-65d9-40dd-95a4-5c56804bbe2e/'], 'analysis_step_types': ['Calling insulator scores']}, 'outputs': [{'name': 'bigwfile', 'target': [{'name': 'bwfile'}], 'meta': {'file_format': 'd1311111-218e-4f61-aaf0-91f226248b2c', 'cardinality': 'single', 'global': True, 'type': 'data file'}}]}]}]\n",
      "\n",
      "@type\n",
      "['result']\n",
      "\n"
     ]
    }
   ],
   "source": [
    "e = ff_utils.post_metadata(data,'workflow', my_key)\n",
    "for key in e:\n",
    "    print(key)\n",
    "    print(e[key])\n",
    "    print()"
   ]
  },
  {
   "cell_type": "code",
   "execution_count": 2,
   "metadata": {},
   "outputs": [],
   "source": []
  },
  {
   "cell_type": "code",
   "execution_count": 3,
   "metadata": {},
   "outputs": [
    {
     "name": "stdout",
     "output_type": "stream",
     "text": [
      "9d575e99-5ffe-4ea4-b74f-ad40f621cd39\n"
     ]
    }
   ],
   "source": []
  },
  {
   "cell_type": "code",
   "execution_count": null,
   "metadata": {},
   "outputs": [],
   "source": []
  }
 ],
 "metadata": {
  "kernelspec": {
   "display_name": "Python 3",
   "language": "python",
   "name": "python3"
  },
  "language_info": {
   "codemirror_mode": {
    "name": "ipython",
    "version": 3
   },
   "file_extension": ".py",
   "mimetype": "text/x-python",
   "name": "python",
   "nbconvert_exporter": "python",
   "pygments_lexer": "ipython3",
   "version": "3.7.1"
  }
 },
 "nbformat": 4,
 "nbformat_minor": 2
}
