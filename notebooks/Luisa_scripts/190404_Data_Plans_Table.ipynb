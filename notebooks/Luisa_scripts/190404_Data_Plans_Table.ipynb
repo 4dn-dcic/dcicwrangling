{
 "cells": [
  {
   "cell_type": "code",
   "execution_count": null,
   "metadata": {},
   "outputs": [],
   "source": [
    "col_labels = ['Lab', 'publication', 'Experiment Type', 'Biosample', 'Dataset', 'Num Experiment Sets', 'Year relases', 'Link to Browse Page', 'Status of release']"
   ]
  },
  {
   "cell_type": "code",
   "execution_count": null,
   "metadata": {},
   "outputs": [],
   "source": [
    "from dcicutils import ff_utils\n",
    "from functions.notebook_functions import *\n",
    "import pandas as pd\n",
    "\n",
    "my_key = get_key('default')\n",
    "dekker_grant = ff_utils.search_metadata('/search/?type=ExperimentSetReplicate&award.uuid=ae6c618f-7a8c-441e-a886-e30bbbe591da', key = my_key)"
   ]
  },
  {
   "cell_type": "code",
   "execution_count": null,
   "metadata": {},
   "outputs": [],
   "source": [
    "#### Investigative Phase ############"
   ]
  },
  {
   "cell_type": "code",
   "execution_count": null,
   "metadata": {},
   "outputs": [],
   "source": [
    "sample_item = dekker_grant[2]\n",
    "print(sample_item.keys())"
   ]
  },
  {
   "cell_type": "code",
   "execution_count": null,
   "metadata": {},
   "outputs": [],
   "source": [
    "item_publication = sample_item['publications_of_set'][0]['display_title']"
   ]
  },
  {
   "cell_type": "code",
   "execution_count": null,
   "metadata": {},
   "outputs": [],
   "source": [
    "print(item_publication)"
   ]
  },
  {
   "cell_type": "code",
   "execution_count": null,
   "metadata": {},
   "outputs": [],
   "source": [
    "title = item_publication[:item_publication.index(')') + 1]"
   ]
  },
  {
   "cell_type": "code",
   "execution_count": null,
   "metadata": {},
   "outputs": [],
   "source": [
    "print(title)"
   ]
  },
  {
   "cell_type": "code",
   "execution_count": null,
   "metadata": {},
   "outputs": [],
   "source": [
    "word = ''\n",
    "for l in item_publication:\n",
    "    word = word + l\n",
    "    if l == ')':\n",
    "        break\n",
    "    "
   ]
  },
  {
   "cell_type": "code",
   "execution_count": null,
   "metadata": {},
   "outputs": [],
   "source": [
    "print(word)"
   ]
  },
  {
   "cell_type": "code",
   "execution_count": null,
   "metadata": {},
   "outputs": [],
   "source": [
    "for key in sample_item:\n",
    "    item_lab = sample_item['lab']['display_title']\n",
    "    item_publication = sample_item['publications_of_set'] # if publication, then publication 'title'\n",
    "    item_experiment_in_set = sample_item['experiments_in_set']\n",
    "    item_biosource = item_experiment_in_set[0]['biosample']['biosource'][0]['cell_line']['display_title']\n",
    "    item_status = sample_item['status']\n",
    "    item_project_released = sample_item['project_release']\n",
    "    item_exp_type = item_experiment_in_set[0]['experiment_type']"
   ]
  },
  {
   "cell_type": "code",
   "execution_count": null,
   "metadata": {},
   "outputs": [],
   "source": [
    "print(item_lab)"
   ]
  },
  {
   "cell_type": "code",
   "execution_count": null,
   "metadata": {},
   "outputs": [],
   "source": [
    "print(item_publication)"
   ]
  },
  {
   "cell_type": "code",
   "execution_count": null,
   "metadata": {},
   "outputs": [],
   "source": [
    "#print(item_experiment_in_set)"
   ]
  },
  {
   "cell_type": "code",
   "execution_count": null,
   "metadata": {},
   "outputs": [],
   "source": [
    "for exp in item_experiment_in_set:\n",
    "    exp_sample_biosample = exp['biosample']['biosource'][0]['cell_line']['display_title']\n",
    "    exp_sample_type = exp['experiment_type']\n",
    "    break"
   ]
  },
  {
   "cell_type": "code",
   "execution_count": null,
   "metadata": {},
   "outputs": [],
   "source": [
    "print(item_biosource)"
   ]
  },
  {
   "cell_type": "code",
   "execution_count": null,
   "metadata": {},
   "outputs": [],
   "source": [
    "print(exp_sample_type)"
   ]
  },
  {
   "cell_type": "code",
   "execution_count": null,
   "metadata": {},
   "outputs": [],
   "source": [
    "print(item_exp_type)"
   ]
  },
  {
   "cell_type": "code",
   "execution_count": null,
   "metadata": {},
   "outputs": [],
   "source": [
    "print(item_status)"
   ]
  },
  {
   "cell_type": "code",
   "execution_count": null,
   "metadata": {},
   "outputs": [],
   "source": [
    "print(item_project_released)"
   ]
  },
  {
   "cell_type": "code",
   "execution_count": null,
   "metadata": {},
   "outputs": [],
   "source": [
    "###################################"
   ]
  },
  {
   "cell_type": "code",
   "execution_count": null,
   "metadata": {},
   "outputs": [],
   "source": [
    "import collections\n",
    "my_dict = collections.defaultdict(dict)"
   ]
  },
  {
   "cell_type": "code",
   "execution_count": null,
   "metadata": {},
   "outputs": [],
   "source": [
    "datasets = []\n",
    "print(len(dekker_grant))\n",
    "for exp_replicate_set in dekker_grant:\n",
    "    exp_replicate_set_keys = exp_replicate_set.keys()\n",
    "    lab = exp_replicate_set['lab']['display_title']\n",
    "    publication = exp_replicate_set['publications_of_set']\n",
    "    if publication:\n",
    "        publication_title = [publication[x]['display_title'][:-len(publication[x]['title'])] for x in range(len(publication))]\n",
    "        if len(publication_title) == 1:\n",
    "            publication_title = publication_title[0]\n",
    "            \n",
    "    else:\n",
    "        publication_title = ''\n",
    "    experiment_in_set = exp_replicate_set['experiments_in_set']\n",
    "    biosource = experiment_in_set[0]['biosample']['biosource'][0]['cell_line']['display_title']\n",
    "    status = exp_replicate_set['status']\n",
    "    project_release_date = exp_replicate_set['project_release'] if 'project_release' in exp_replicate_set_keys else 'none'\n",
    "    exp_type = experiment_in_set[0]['experiment_type']\n",
    "    dataset = exp_replicate_set['dataset_label'] if 'dataset_label' in exp_replicate_set_keys else exp_type + ' on ' + biosource \n",
    "    datasets.append(dataset)\n",
    "    public_release_date = exp_replicate_set['public_release'] if 'public_release' in exp_replicate_set_keys else ''\n",
    "    if dataset not in my_dict.keys():\n",
    "        my_dict[dataset]= collections.defaultdict(dict)\n",
    "\n",
    "    my_dict[dataset][exp_replicate_set['uuid']] = {'lab':lab, 'publication': publication_title, 'experiment_type': exp_type, 'biosample':biosource, 'dataset': dataset, 'public_release_date':public_release_date, 'project_release_date': project_release_date, 'status': status}\n",
    "    \n",
    "    "
   ]
  },
  {
   "cell_type": "code",
   "execution_count": null,
   "metadata": {},
   "outputs": [],
   "source": [
    "print(len(my_dict[\"in situ Hi-C on H1-ESC cells\"].keys()))"
   ]
  },
  {
   "cell_type": "code",
   "execution_count": null,
   "metadata": {},
   "outputs": [],
   "source": [
    "#print(datasets)"
   ]
  },
  {
   "cell_type": "code",
   "execution_count": null,
   "metadata": {},
   "outputs": [],
   "source": [
    "#print(my_dict)"
   ]
  },
  {
   "cell_type": "code",
   "execution_count": null,
   "metadata": {},
   "outputs": [],
   "source": [
    "# for key,item in my_dict['DNA FISH on Chr18'].items():\n",
    "#     print(key, item)\n",
    "#     print()"
   ]
  },
  {
   "cell_type": "code",
   "execution_count": null,
   "metadata": {},
   "outputs": [],
   "source": [
    "for dataset_key, dataset in my_dict.items():\n",
    "    dataset_label = collections.defaultdict(dict)\n",
    "    x = 0\n",
    "    notes_list = []\n",
    "    for uuid, exp_set in dataset.items():\n",
    "        diff_list = []\n",
    "        if x == 0:\n",
    "            dataset_label['lab'] = exp_set['lab']\n",
    "            dataset_label['publication'] =  exp_set['publication']\n",
    "            dataset_label['experiment_type'] = exp_set['experiment_type']\n",
    "            dataset_label['biosample'] = exp_set['biosample']\n",
    "            dataset_label['dataset'] = exp_set['dataset']\n",
    "            dataset_label['status'] = exp_set['status']\n",
    "            dataset_label['public_release_date'] = exp_set['public_release_date']\n",
    "            dataset_label['project_release_date'] = exp_set['project_release_date']\n",
    "            x = x + 1\n",
    "            continue\n",
    "        \n",
    "        for key in dataset_label:\n",
    "            if exp_set[key] != dataset_label[key]:\n",
    "                if key == 'project_release_date' or key == 'public_release_date':\n",
    "                    if dataset_label[key] < exp_set[key]:\n",
    "                        dataset_label[key] = exp_set[key]\n",
    "                else:\n",
    "                    print(key)\n",
    "                    print(exp_set[key],dataset_label[key])\n",
    "                    diff_list.append(dataset_label[key])\n",
    "                    diff_list.append(exp_set[key])\n",
    "                    data_label[key]= set(diff_list)\n",
    "    dataset_label['num_exp_set'] = len(dataset.keys())\n",
    "    my_dict[dataset_key]['out_info'] = dataset_label"
   ]
  },
  {
   "cell_type": "code",
   "execution_count": null,
   "metadata": {},
   "outputs": [],
   "source": [
    "# for key,item in my_dict[\"in situ Hi-C on H1-ESC cells\"].items():\n",
    "#     print(key, item)\n",
    "#     print()"
   ]
  },
  {
   "cell_type": "code",
   "execution_count": null,
   "metadata": {},
   "outputs": [],
   "source": [
    "for key,item in my_dict['DNA FISH on Chr18'].items():\n",
    "    pub = item['publication']\n"
   ]
  },
  {
   "cell_type": "code",
   "execution_count": null,
   "metadata": {},
   "outputs": [],
   "source": [
    "import boto3\n",
    "import gspread\n",
    "from oauth2client.service_account import ServiceAccountCredentials\n",
    "import pandas as pd\n",
    "import json\n",
    "s3 = boto3.resource('s3')\n",
    "obj = s3.Object('elasticbeanstalk-fourfront-webprod-system', 'DCICjupgoogle.json')\n",
    "cont = obj.get()['Body'].read().decode()\n",
    "key_dict = json.loads(cont)\n",
    "SCOPES = 'https://www.googleapis.com/auth/spreadsheets'\n",
    "creds = ServiceAccountCredentials.from_json_keyfile_dict(key_dict, SCOPES)\n",
    "gc = gspread.authorize(creds)\n",
    "\n",
    "workbook_id = '1v4J-2a5e6a3mbZAI2B3Yk2z1WFdQI5ZNktlXCbx_MOM'\n",
    "workbook = gc.open_by_key(workbook_id)"
   ]
  },
  {
   "cell_type": "code",
   "execution_count": null,
   "metadata": {},
   "outputs": [],
   "source": [
    "print(pub[0])"
   ]
  },
  {
   "cell_type": "code",
   "execution_count": null,
   "metadata": {},
   "outputs": [],
   "source": [
    "worksheet = workbook.add_worksheet('Data Plan Table', 100, 20)"
   ]
  },
  {
   "cell_type": "code",
   "execution_count": null,
   "metadata": {},
   "outputs": [],
   "source": [
    "gs_write = []\n",
    "row = 1\n",
    "col = 0\n",
    "for dataset in my_dict.values():\n",
    "    row = row + 1\n",
    "    for key in dataset['out_info'].values():\n",
    "        col = col + 1\n",
    "        gs_write.append(gspread.models.Cell(row,col,key))\n",
    "    col = 0    \n",
    "    "
   ]
  },
  {
   "cell_type": "code",
   "execution_count": null,
   "metadata": {},
   "outputs": [],
   "source": [
    "print(gs_write)"
   ]
  },
  {
   "cell_type": "code",
   "execution_count": null,
   "metadata": {},
   "outputs": [],
   "source": [
    "worksheet.update_cells(gs_write)"
   ]
  },
  {
   "cell_type": "code",
   "execution_count": null,
   "metadata": {},
   "outputs": [],
   "source": [
    "col_labels = ['Lab', 'publication', 'Experiment Type', 'Biosample', 'Dataset', 'Status of release', 'Public release date', 'Project release date', 'Num Experiment Sets']"
   ]
  },
  {
   "cell_type": "code",
   "execution_count": null,
   "metadata": {},
   "outputs": [],
   "source": [
    "gs_write = []\n",
    "row = 1\n",
    "col = 1\n",
    "for item in col_labels:\n",
    "    gs_write.append(gspread.models.Cell(row,col,item))\n",
    "    col = col + 1"
   ]
  },
  {
   "cell_type": "code",
   "execution_count": null,
   "metadata": {},
   "outputs": [],
   "source": [
    "worksheet.update_cells(gs_write)"
   ]
  },
  {
   "cell_type": "code",
   "execution_count": null,
   "metadata": {},
   "outputs": [],
   "source": [
    "############################# SCRIPT TO RUN ################################################\n"
   ]
  },
  {
   "cell_type": "code",
   "execution_count": 1,
   "metadata": {},
   "outputs": [],
   "source": [
    "from dcicutils import ff_utils\n",
    "from functions.notebook_functions import *\n",
    "import pandas as pd\n",
    "\n",
    "my_key = get_key('default')\n",
    "all_grants = ff_utils.search_metadata('/search/?type=Award', key = my_key)"
   ]
  },
  {
   "cell_type": "code",
   "execution_count": 2,
   "metadata": {},
   "outputs": [],
   "source": [
    "for grant in all_grants:\n",
    "    #print(grant)\n",
    "    break"
   ]
  },
  {
   "cell_type": "code",
   "execution_count": 3,
   "metadata": {},
   "outputs": [],
   "source": [
    "import boto3\n",
    "import gspread\n",
    "from oauth2client.service_account import ServiceAccountCredentials\n",
    "import pandas as pd\n",
    "import json\n",
    "s3 = boto3.resource('s3')\n",
    "obj = s3.Object('elasticbeanstalk-fourfront-webprod-system', 'DCICjupgoogle.json')\n",
    "cont = obj.get()['Body'].read().decode()\n",
    "key_dict = json.loads(cont)\n",
    "SCOPES = 'https://www.googleapis.com/auth/spreadsheets'\n",
    "creds = ServiceAccountCredentials.from_json_keyfile_dict(key_dict, SCOPES)\n",
    "gc = gspread.authorize(creds)\n",
    "\n",
    "google_management_sheet_id = '1Mk5SH8JftJNB1zdE8bUfAAA23GV6wkp-UUkIboSba4A'\n",
    "google_management_spreadsheet = gc.open_by_key(google_management_sheet_id)\n",
    "google_management_sheet = google_management_spreadsheet.sheet1\n",
    "#print(google_management_sheet)\n",
    "grant_sheets_links = google_management_sheet.get_all_values()\n",
    "for item in grant_sheets_links:\n",
    "    spreadsheet_id = item[2]"
   ]
  },
  {
   "cell_type": "code",
   "execution_count": 4,
   "metadata": {},
   "outputs": [],
   "source": [
    "grants = []\n",
    "for item in grant_sheets_links:\n",
    "    if 'Guttman' in item[0]:\n",
    "        guttman_grants = item[1].split(',')\n",
    "        for award in guttman_grants:\n",
    "            for grant in all_grants:\n",
    "                if award in grant['link_id']:\n",
    "                    grants.append(grant)\n",
    "    else:\n",
    "        for grant in all_grants:\n",
    "            if item[1] in grant['link_id']:\n",
    "                grants.append(grant)          "
   ]
  },
  {
   "cell_type": "code",
   "execution_count": 5,
   "metadata": {},
   "outputs": [
    {
     "name": "stdout",
     "output_type": "stream",
     "text": [
      "37\n"
     ]
    }
   ],
   "source": [
    "print(len(grants))"
   ]
  },
  {
   "cell_type": "code",
   "execution_count": null,
   "metadata": {},
   "outputs": [],
   "source": [
    "# for grant in all_grants:\n",
    "#     print(grant['link_id'])"
   ]
  },
  {
   "cell_type": "code",
   "execution_count": 6,
   "metadata": {},
   "outputs": [],
   "source": [
    "for item in all_grants:\n",
    "    if item['uuid'] == '2850ac0b-92f4-4c8b-8f6a-5199afc442b1':\n",
    "        grants.append(item)"
   ]
  },
  {
   "cell_type": "code",
   "execution_count": 7,
   "metadata": {},
   "outputs": [
    {
     "name": "stdout",
     "output_type": "stream",
     "text": [
      "38\n"
     ]
    }
   ],
   "source": [
    "print(len(grants))"
   ]
  },
  {
   "cell_type": "code",
   "execution_count": null,
   "metadata": {},
   "outputs": [],
   "source": [
    "#grants[38]"
   ]
  },
  {
   "cell_type": "code",
   "execution_count": 8,
   "metadata": {},
   "outputs": [],
   "source": [
    "from dcicutils import ff_utils\n",
    "from functions.notebook_functions import *\n",
    "import pandas as pd\n",
    "import collections\n",
    "import time\n",
    "from gspread_formatting import *\n",
    "\n",
    "my_key = get_key('default')"
   ]
  },
  {
   "cell_type": "code",
   "execution_count": 10,
   "metadata": {},
   "outputs": [
    {
     "name": "stdout",
     "output_type": "stream",
     "text": [
      "~awards~1U54DK107979-01~\n",
      "59\n"
     ]
    },
    {
     "ename": "TypeError",
     "evalue": "can only concatenate str (not \"dict\") to str",
     "output_type": "error",
     "traceback": [
      "\u001b[0;31m---------------------------------------------------------------------------\u001b[0m",
      "\u001b[0;31mTypeError\u001b[0m                                 Traceback (most recent call last)",
      "\u001b[0;32m<ipython-input-10-eefe80a7420e>\u001b[0m in \u001b[0;36m<module>\u001b[0;34m\u001b[0m\n\u001b[1;32m    112\u001b[0m             \u001b[0;32mif\u001b[0m \u001b[0;34m'dataset_label'\u001b[0m \u001b[0;32min\u001b[0m \u001b[0mexp_replicate_set_keys\u001b[0m\u001b[0;34m:\u001b[0m\u001b[0;34m\u001b[0m\u001b[0;34m\u001b[0m\u001b[0m\n\u001b[1;32m    113\u001b[0m                 \u001b[0mdataset_title\u001b[0m \u001b[0;34m=\u001b[0m \u001b[0mexp_replicate_set\u001b[0m\u001b[0;34m[\u001b[0m\u001b[0;34m'dataset_label'\u001b[0m\u001b[0;34m]\u001b[0m\u001b[0;34m\u001b[0m\u001b[0;34m\u001b[0m\u001b[0m\n\u001b[0;32m--> 114\u001b[0;31m                 \u001b[0mdataset_key\u001b[0m \u001b[0;34m=\u001b[0m \u001b[0mdataset_title\u001b[0m \u001b[0;34m+\u001b[0m \u001b[0;34m'/'\u001b[0m \u001b[0;34m+\u001b[0m \u001b[0mexp_type\u001b[0m\u001b[0;34m\u001b[0m\u001b[0;34m\u001b[0m\u001b[0m\n\u001b[0m\u001b[1;32m    115\u001b[0m                 \u001b[0mdataset_title_iskey\u001b[0m \u001b[0;34m=\u001b[0m \u001b[0;32mTrue\u001b[0m\u001b[0;34m\u001b[0m\u001b[0;34m\u001b[0m\u001b[0m\n\u001b[1;32m    116\u001b[0m             \u001b[0;32melse\u001b[0m\u001b[0;34m:\u001b[0m\u001b[0;34m\u001b[0m\u001b[0;34m\u001b[0m\u001b[0m\n",
      "\u001b[0;31mTypeError\u001b[0m: can only concatenate str (not \"dict\") to str"
     ]
    }
   ],
   "source": [
    "ct = 0\n",
    "for grant in grants:   \n",
    "    if grant['uuid'] != 'fcc7f634-9252-499f-b79c-380795af2ddd':\n",
    "        continue\n",
    "    if grant['uuid'] == \"8a9d6db4-37eb-488e-828c-d90f3ab348f6\":\n",
    "        continue\n",
    "    grant_uuid = grant['uuid']\n",
    "    q ='/search/?type=ExperimentSetReplicate&award.uuid={}'.format(grant_uuid)\n",
    "    exps_in_grant = ff_utils.search_metadata(q, key = my_key)\n",
    "    ct = ct + 1\n",
    "    if len(exps_in_grant) == 0:\n",
    "        \n",
    "        for item in grant_sheets_links:\n",
    "            if 'Guttman' in item[0]:\n",
    "                guttman_grants = item[0].split(',')\n",
    "                for gut_grant in guttman_grants:\n",
    "                    if gut_grant in grant['link_id']:\n",
    "                        grant_gs_id = item[2]\n",
    "            else:         \n",
    "                if item[1] in grant['link_id']:\n",
    "                    grant_gs_id = item[2]\n",
    "        \n",
    "        header_message = 'There have been no data submissions from your center yet. Please add rows below for expected submission through August 2020. Please see link below for more examples.'\n",
    "        link_template = '=hyperlink(\"https://docs.google.com/spreadsheets/d/1BbB2p20wrnlc1isiGYp5_-F6BmHCHNDREm7k_CzNQrc/edit#gid=0\",\"examples\")'\n",
    "        tail_message1 = ['my lab', 'hi-c variation project', 'in situ Hi-C', 'U2OS', 'hi-c protocol variatons on h1', '5', 'planned', '2019-12-20']\n",
    "        tail_message2 = ['collaborator lab', 'ctcf tracking project', 'SPT', 'U2OS', 'CTCF tracking on U2OS', '30', 'planned', '2020-03-31']      \n",
    "        s3 = boto3.resource('s3')\n",
    "        obj = s3.Object('elasticbeanstalk-fourfront-webprod-system', 'DCICjupgoogle.json')\n",
    "        cont = obj.get()['Body'].read().decode()\n",
    "        key_dict = json.loads(cont)\n",
    "        SCOPES = 'https://www.googleapis.com/auth/spreadsheets'\n",
    "        creds = ServiceAccountCredentials.from_json_keyfile_dict(key_dict, SCOPES)\n",
    "        gc = gspread.authorize(creds)\n",
    "\n",
    "        workbook_id = grant_gs_id \n",
    "        workbook = gc.open_by_key(workbook_id)\n",
    "\n",
    "        print('working on', workbook)\n",
    "\n",
    "        try:\n",
    "            worksheet = workbook.add_worksheet('Data Status Plans', 100, 20)\n",
    "\n",
    "        except:\n",
    "            worksheet = workbook.worksheet('Data Status Plans')\n",
    "  \n",
    "        gs_write = []\n",
    "        gs_write.append(gspread.models.Cell(1,1,header_message))\n",
    "        gs_write.append(gspread.models.Cell(2,1, link_template))\n",
    "        col = 1\n",
    "        col_labels = ['Lab', 'Publication/Project', 'Experiment Type', 'Biosample', 'Dataset','Num Experiment Sets', 'Status of release', 'Public release date', 'Project release date', 'Browser Link']\n",
    "        for i in col_labels:\n",
    "            gs_write.append(gspread.models.Cell(3,col,i))\n",
    "            col = col + 1\n",
    "        col = 0\n",
    "        for txt in tail_message1:\n",
    "            col = col + 1\n",
    "            gs_write.append(gspread.models.Cell(4, col, txt))\n",
    "        col = 0\n",
    "        for txt in tail_message2:\n",
    "            col = col + 1\n",
    "            gs_write.append(gspread.models.Cell(5, col, txt))\n",
    "        \n",
    "        print(gs_write) \n",
    "        worksheet.update_cells(gs_write,value_input_option='USER_ENTERED')\n",
    "        fmt1 = cellFormat(textFormat=textFormat(foregroundColor=color(0.98,0.01,0.01))) #red color\n",
    "        fmt2 = cellFormat(textFormat=textFormat(bold=True)) # black bold\n",
    "        format_cell_ranges(worksheet, [('A4:J5', fmt1)])\n",
    "        format_cell_ranges(worksheet, [('A1:J3', fmt2)])\n",
    "        \n",
    "        try:\n",
    "            worksheet.update_title('Data Status/Plans')\n",
    "        except:\n",
    "            print('Already exists')\n",
    "            \n",
    "        if ct == 5:\n",
    "            time.sleep(100)\n",
    "            ct = 0\n",
    "        \n",
    "        \n",
    "    else:\n",
    "        header_message = 'Below is the list of data submitted by your center so far. Please add rows below for expected submission through August 2020. Please see link below for more examples.'\n",
    "        link_template = '=hyperlink(\"https://docs.google.com/spreadsheets/d/1BbB2p20wrnlc1isiGYp5_-F6BmHCHNDREm7k_CzNQrc/edit#gid=0\",\"examples\")'\n",
    "        tail_message1 = ['my lab', 'hi-c variation project', 'in situ Hi-C', 'U2OS', 'hi-c protocol variatons on h1', '5', 'planned', '2019-12-20']\n",
    "        tail_message2 = ['collaborator lab', 'ctcf tracking project', 'SPT', 'U2OS', 'CTCF tracking on U2OS', '30', 'planned', '2020-03-31']      \n",
    "                     \n",
    "                       \n",
    "        print(grant['link_id'])\n",
    "        print(len(exps_in_grant))\n",
    "\n",
    "        my_dict = {}\n",
    "        my_dict = collections.defaultdict(dict)\n",
    "        for exp_replicate_set in exps_in_grant:\n",
    "            exp_replicate_set_keys = exp_replicate_set.keys()\n",
    "            lab = exp_replicate_set['lab']['display_title']\n",
    "            publication = exp_replicate_set['publications_of_set']\n",
    "\n",
    "            if publication:\n",
    "                publication_title = [publication[x]['display_title'][:publication[x]['display_title'].index(\")\") + 1] for x in range(len(publication))]\n",
    "                if len(publication_title) == 1:\n",
    "                    publication_title = publication_title[0]\n",
    "\n",
    "            else:\n",
    "                publication_title = ''\n",
    "\n",
    "            experiment_in_set = exp_replicate_set['experiments_in_set']\n",
    "            biosource = experiment_in_set[0]['biosample']['biosource_summary']\n",
    "            status = exp_replicate_set['status']\n",
    "            project_release_date = exp_replicate_set['project_release'] if 'project_release' in exp_replicate_set_keys else ''\n",
    "            exp_type = experiment_in_set[0]['experiment_type']\n",
    "\n",
    "            dataset_title_iskey = False\n",
    "            if 'dataset_label' in exp_replicate_set_keys:\n",
    "                dataset_title = exp_replicate_set['dataset_label'] \n",
    "                dataset_key = dataset_title + '/' + exp_type\n",
    "                dataset_title_iskey = True\n",
    "            else:\n",
    "                dataset_title = exp_type + ' on ' + biosource \n",
    "                dataset_key = dataset_title\n",
    "            public_release_date = exp_replicate_set['public_release'] if 'public_release' in exp_replicate_set_keys else ''\n",
    "\n",
    "            if dataset_key not in my_dict.keys():\n",
    "                my_dict[dataset_key] = collections.defaultdict(dict)\n",
    "            \n",
    "            my_dict[dataset_key][exp_replicate_set['uuid']] = {'lab':lab, 'publication': publication_title, 'experiment_type': exp_type, 'biosample':biosource,'dataset_title': dataset_title, 'public_release_date':public_release_date, 'project_release_date': project_release_date, 'status': status, 'dataset_title_iskey':dataset_title_iskey}\n",
    " \n",
    "        for dataset_key, dataset in my_dict.items():\n",
    "            dataset_label = collections.defaultdict(dict)\n",
    "\n",
    "            x = 0\n",
    "            num_biosample = 0\n",
    "            num_status = 0\n",
    "            for uuid, exp_set in dataset.items():\n",
    "                if x == 0:\n",
    "                    dataset_label['lab'] = exp_set['lab']\n",
    "                    dataset_label['publication'] =  exp_set['publication']\n",
    "                    dataset_label['experiment_type'] = exp_set['experiment_type']\n",
    "                    dataset_label['biosample'] = exp_set['biosample']\n",
    "                    dataset_label['dataset_title'] = exp_set['dataset_title']\n",
    "                    dataset_label['num_exp_set'] = len(dataset.keys())\n",
    "                    dataset_label['status'] = exp_set['status']\n",
    "                    dataset_label['public_release_date'] = exp_set['public_release_date']\n",
    "                    dataset_label['project_release_date'] = exp_set['project_release_date']\n",
    "                    dataset_label['dataset_title_iskey'] = exp_set['dataset_title_iskey']\n",
    "                    x = x + 1\n",
    "                    continue\n",
    "                for key in dataset_label:\n",
    "                    if key == 'num_exp_set':\n",
    "                        continue\n",
    "                    if exp_set[key] != dataset_label[key]:\n",
    "                        if key == 'project_release_date' or key == 'public_release_date':\n",
    "                            if dataset_label[key] < exp_set[key]:\n",
    "                                dataset_label[key] = exp_set[key]\n",
    "                                continue\n",
    "                        elif key == 'biosample':\n",
    "                            num_biosample = num_biosample + 1\n",
    "                        elif key == 'status':\n",
    "                            num_status = num_status + 1                                           \n",
    "                        else:\n",
    "                            print(key, dataset_key)\n",
    "                            print(exp_set[key],dataset_label[key])\n",
    "\n",
    "\n",
    "\n",
    "            if dataset_label['dataset_title_iskey']:\n",
    "                browser_link = 'https://data.4dnucleome.org/browse/?award.uuid={}&dataset_label={}&experiments_in_set.experiment_type={}'.format(grant_uuid, dataset_label['dataset_title'], dataset_label['experiment_type'])\n",
    "                browser_link_fotmat = '=HYPERLINK(\"{}\", \"View in Portal\")'.format(browser_link)\n",
    "            else:\n",
    "                browser_link = \"https://data.4dnucleome.org/browse/?award.uuid={}&dataset_label=No+value&experiments_in_set.biosample.biosource_summary={}&experiments_in_set.experiment_type={}\".format(grant_uuid, dataset_label['biosample'], dataset_label['experiment_type'])\n",
    "                browser_link_fotmat = '=HYPERLINK(\"{}\", \"View in Portal\")'.format(browser_link)\n",
    "                dataset_label['dataset_title'] = ''\n",
    "\n",
    "            dataset_label.pop('dataset_title_iskey')\n",
    "            dataset_label['browser_view'] = browser_link_fotmat\n",
    "            \n",
    "            if num_biosample > 0:\n",
    "                dataset_label['biosample'] = dataset_label['biosample'] + \" and {} other(s)\".format(num_biosample)\n",
    "            \n",
    "            if num_status > 0:\n",
    "                dataset_label['status'] = 'Partially released'\n",
    "            \n",
    "            my_dict[dataset_key]['out_info'] = dataset_label   \n",
    "\n",
    "        list_datasets = []\n",
    "        for k in my_dict:\n",
    "            interest = my_dict[k][\"out_info\"]\n",
    "            temp = {}\n",
    "            temp['dataset_label'] = k\n",
    "            for k_sub, v_sub in interest.items():\n",
    "                temp[k_sub] = v_sub\n",
    "            list_datasets.append(temp)\n",
    "        list_datasets = sorted(list_datasets, key=lambda x: (x['publication'],x['lab'], x['experiment_type'] ))    \n",
    "\n",
    "        for item in grant_sheets_links:\n",
    "            if 'Guttman' in item[0]:\n",
    "                guttman_grants = item[1].split(',')\n",
    "                for gut_grant in guttman_grants:\n",
    "                    if gut_grant in grant['link_id']:\n",
    "                        grant_gs_id = item[2]\n",
    "            if item[1] in grant['link_id']:\n",
    "                grant_gs_id = item[2]\n",
    "\n",
    "        s3 = boto3.resource('s3')\n",
    "        obj = s3.Object('elasticbeanstalk-fourfront-webprod-system', 'DCICjupgoogle.json')\n",
    "        cont = obj.get()['Body'].read().decode()\n",
    "        key_dict = json.loads(cont)\n",
    "        SCOPES = 'https://www.googleapis.com/auth/spreadsheets'\n",
    "        creds = ServiceAccountCredentials.from_json_keyfile_dict(key_dict, SCOPES)\n",
    "        gc = gspread.authorize(creds)\n",
    "\n",
    "        workbook_id = grant_gs_id \n",
    "        workbook = gc.open_by_key(workbook_id)\n",
    "\n",
    "        print('working on', workbook)\n",
    "\n",
    "        try:\n",
    "            worksheet = workbook.add_worksheet('Data Status Plans', 100, 20)\n",
    "\n",
    "        except:\n",
    "            worksheet = workbook.worksheet('Data Status Plans')\n",
    "\n",
    "\n",
    "        gs_write = []\n",
    "        gs_write.append(gspread.models.Cell(1,1,header_message))\n",
    "        gs_write.append(gspread.models.Cell(2,1, link_template))\n",
    "        row = 3\n",
    "        col = 1\n",
    "        col_labels = ['Lab', 'Publication/Project', 'Experiment Type', 'Biosample', 'Dataset','Num Experiment Sets', 'Status of release', 'Public release date', 'Project release date', 'Browser Link']\n",
    "        for i in col_labels:\n",
    "            gs_write.append(gspread.models.Cell(row,col,i))\n",
    "            col = col + 1\n",
    "        col = 0\n",
    "        for dataset in list_datasets:\n",
    "            row = row + 1\n",
    "            dataset.pop('dataset_label')\n",
    "            for key in dataset:\n",
    "                col = col + 1\n",
    "                gs_write.append(gspread.models.Cell(row,col,dataset[key]))\n",
    "            col = 0 \n",
    "        col = 1\n",
    "        for txt in tail_message1:\n",
    "            gs_write.append(gspread.models.Cell(row + 1, col, txt))\n",
    "            col = col + 1\n",
    "        col = 1\n",
    "        for txt in tail_message2:\n",
    "            gs_write.append(gspread.models.Cell(row + 2, col, txt))\n",
    "            col = col + 1\n",
    "                       \n",
    "              \n",
    "        worksheet.update_cells(gs_write,value_input_option='USER_ENTERED')\n",
    "        fmt1 = cellFormat(textFormat=textFormat(foregroundColor=color(0.98,0.01,0.01)))\n",
    "        format_cell_ranges(worksheet, [('A{}:J{}'.format(row+1, row+2), fmt1)])\n",
    "        fmt2 = cellFormat(textFormat=textFormat(bold=True))\n",
    "        format_cell_ranges(worksheet, [('A1:J3', fmt2)])\n",
    "        \n",
    "        \n",
    "        \n",
    "#         for x in range(0,7):\n",
    "#             if x == 0:\n",
    "#                 try:\n",
    "#                     worksheet = workbook.worksheet('Data Plan Table')\n",
    "#                 except:\n",
    "#                     continue\n",
    "#             else:\n",
    "#                 try:\n",
    "#                     worksheet = workbook.worksheet('Data Plan Table {}'.format(x))\n",
    "#                 except:\n",
    "#                     continue\n",
    "#             workbook.del_worksheet(worksheet)\n",
    "        try:\n",
    "            worksheet.update_title('Data Status/Plans')\n",
    "        except:\n",
    "            print('Already exists')\n",
    "            \n",
    "        if ct == 10:\n",
    "            time.sleep(100)\n",
    "            ct = 0\n",
    "        print()"
   ]
  },
  {
   "cell_type": "code",
   "execution_count": 14,
   "metadata": {},
   "outputs": [
    {
     "data": {
      "text/plain": [
       "{'title': 'RNA-seq',\n",
       " 'display_title': 'RNA-seq',\n",
       " 'principals_allowed': {'edit': ['group.admin'],\n",
       "  'view': ['system.Everyone'],\n",
       "  'audit': ['system.Everyone']},\n",
       " '@id': '/experiment-types/rna-seq/',\n",
       " 'uuid': '19f848e6-7c52-4b8b-8aa8-e82ea0a968ce',\n",
       " 'link_id': '~experiment-types~rna-seq~'}"
      ]
     },
     "execution_count": 14,
     "metadata": {},
     "output_type": "execute_result"
    }
   ],
   "source": [
    "exp_type"
   ]
  },
  {
   "cell_type": "code",
   "execution_count": null,
   "metadata": {},
   "outputs": [],
   "source": [
    "gs_write "
   ]
  },
  {
   "cell_type": "code",
   "execution_count": null,
   "metadata": {},
   "outputs": [],
   "source": [
    "dir(workbook)"
   ]
  },
  {
   "cell_type": "code",
   "execution_count": null,
   "metadata": {},
   "outputs": [],
   "source": [
    "browser_link_dataset = 'https://data.4dnucleome.org/browse/?dataset_label={}'.format(dataset)\n",
    "\n"
   ]
  },
  {
   "cell_type": "code",
   "execution_count": null,
   "metadata": {},
   "outputs": [],
   "source": [
    "browser_link_no_dataset\"https://data.4dnucleome.org/browse/?award.center_title=NOFIC+-+Dekker&dataset_label=No+value&experiments_in_set.biosample.biosource_summary=animal+zygote&experiments_in_set.experiment_type=single+cell+Hi-C&experimentset_type=replicate&type=ExperimentSetReplicate\".format(biosource_summary)\n",
    "\n",
    "\n"
   ]
  },
  {
   "cell_type": "code",
   "execution_count": null,
   "metadata": {},
   "outputs": [],
   "source": [
    "browser_link_no_dataset = 'https://data.4dnucleome.org/browse/?award.uuid={}&dataset_label={}&experiments_in_set.biosample.biosource_summary={}&experiments_in_set.experiment_type={}'.format(grant_uuid, dataset_label, biosource, exp_type)\n"
   ]
  },
  {
   "cell_type": "code",
   "execution_count": null,
   "metadata": {},
   "outputs": [],
   "source": [
    "print(browser_link_no_dataset)"
   ]
  },
  {
   "cell_type": "code",
   "execution_count": null,
   "metadata": {},
   "outputs": [],
   "source": [
    "browser_link_dataset = 'https://data.4dnucleome.org/browse/?award.uuid={}&dataset_label={}'.format(grant_uuid, dataset_label)\n"
   ]
  },
  {
   "cell_type": "code",
   "execution_count": null,
   "metadata": {},
   "outputs": [],
   "source": [
    "my_dict = {'dataset1':{'title': 'A', 'Lab':'F', 'exp': 'T'}, 'dataset2':{'title': 'B', 'Lab':'C', 'exp': 'W'}, 'dataset3':{'title': 'a', 'Lab':'D', 'exp': 'W'}}"
   ]
  },
  {
   "cell_type": "code",
   "execution_count": null,
   "metadata": {},
   "outputs": [],
   "source": [
    "my_dict"
   ]
  },
  {
   "cell_type": "code",
   "execution_count": null,
   "metadata": {},
   "outputs": [],
   "source": [
    "sorted_dict = sorted()\n",
    "    "
   ]
  },
  {
   "cell_type": "code",
   "execution_count": null,
   "metadata": {},
   "outputs": [],
   "source": [
    "order = 0\n",
    "orderd_dict = []\n",
    "for dataset in my_dict:\n",
    "    first = dataset\n",
    "    \n",
    "    "
   ]
  },
  {
   "cell_type": "code",
   "execution_count": null,
   "metadata": {},
   "outputs": [],
   "source": [
    "print(item)"
   ]
  },
  {
   "cell_type": "code",
   "execution_count": null,
   "metadata": {},
   "outputs": [],
   "source": [
    "print(type(item[0]))"
   ]
  },
  {
   "cell_type": "code",
   "execution_count": null,
   "metadata": {},
   "outputs": [],
   "source": [
    "for item in grants:\n",
    "    print(type(item['lab']))\n",
    "    break"
   ]
  },
  {
   "cell_type": "code",
   "execution_count": null,
   "metadata": {},
   "outputs": [],
   "source": [
    "browser_link = \"https://data.4dnucleome.org/browse/?award.uuid={}&dataset_label=No+value&experiments_in_set.biosample.biosource_summary={}&experiments_in_set.experiment_type={}\".format(grant_uuid, dataset_label['biosample'], dataset_label['experiment_type'])\n",
    "browser_link_fotmat = 'HYPERLINK(\"{}\", \"View in Portal\")'.format(browser_link)\n",
    "\n"
   ]
  },
  {
   "cell_type": "code",
   "execution_count": null,
   "metadata": {},
   "outputs": [],
   "source": [
    "print(browser_link)"
   ]
  },
  {
   "cell_type": "code",
   "execution_count": null,
   "metadata": {},
   "outputs": [],
   "source": [
    "print(browser_link_fotmat)"
   ]
  },
  {
   "cell_type": "code",
   "execution_count": null,
   "metadata": {},
   "outputs": [],
   "source": [
    "print(type(browser_link_fotmat))"
   ]
  },
  {
   "cell_type": "code",
   "execution_count": null,
   "metadata": {},
   "outputs": [],
   "source": [
    "'=' + browser_link_fotmat"
   ]
  },
  {
   "cell_type": "code",
   "execution_count": null,
   "metadata": {},
   "outputs": [],
   "source": [
    "workbook"
   ]
  },
  {
   "cell_type": "code",
   "execution_count": null,
   "metadata": {},
   "outputs": [],
   "source": [
    "dir(workbook)"
   ]
  },
  {
   "cell_type": "code",
   "execution_count": null,
   "metadata": {},
   "outputs": [],
   "source": [
    "print(workbook.worksheets())"
   ]
  },
  {
   "cell_type": "code",
   "execution_count": null,
   "metadata": {},
   "outputs": [],
   "source": [
    "workbook.del_worksheet('Data Plan Table 6')"
   ]
  },
  {
   "cell_type": "code",
   "execution_count": null,
   "metadata": {},
   "outputs": [],
   "source": [
    "help(workbook.del_worksheet)"
   ]
  },
  {
   "cell_type": "code",
   "execution_count": null,
   "metadata": {},
   "outputs": [],
   "source": [
    "worksheet_list = workbook.worksheets()"
   ]
  },
  {
   "cell_type": "code",
   "execution_count": null,
   "metadata": {},
   "outputs": [],
   "source": [
    "print(worksheet_list)"
   ]
  },
  {
   "cell_type": "code",
   "execution_count": null,
   "metadata": {},
   "outputs": [],
   "source": [
    "worksheet = workbook.worksheet(\"Data Plan Table 3\")"
   ]
  },
  {
   "cell_type": "code",
   "execution_count": null,
   "metadata": {},
   "outputs": [],
   "source": [
    "workbook.del_worksheet(worksheet)"
   ]
  },
  {
   "cell_type": "code",
   "execution_count": null,
   "metadata": {},
   "outputs": [],
   "source": [
    "dir(gspread.models.Cell)"
   ]
  },
  {
   "cell_type": "code",
   "execution_count": null,
   "metadata": {},
   "outputs": [],
   "source": [
    "worksheet"
   ]
  },
  {
   "cell_type": "code",
   "execution_count": null,
   "metadata": {},
   "outputs": [],
   "source": [
    "workbook"
   ]
  },
  {
   "cell_type": "code",
   "execution_count": null,
   "metadata": {},
   "outputs": [],
   "source": [
    "worksheet.update_acell('S2', formula)"
   ]
  },
  {
   "cell_type": "code",
   "execution_count": null,
   "metadata": {},
   "outputs": [],
   "source": [
    "formula = worksheet.acell('J2', value_render_option = 'FORMULA').value\n"
   ]
  },
  {
   "cell_type": "code",
   "execution_count": null,
   "metadata": {},
   "outputs": [],
   "source": [
    "s3 = boto3.resource('s3')\n",
    "obj = s3.Object('elasticbeanstalk-fourfront-webprod-system', 'DCICjupgoogle.json')\n",
    "cont = obj.get()['Body'].read().decode()\n",
    "key_dict = json.loads(cont)\n",
    "SCOPES = 'https://www.googleapis.com/auth/spreadsheets'\n",
    "creds = ServiceAccountCredentials.from_json_keyfile_dict(key_dict, SCOPES)\n",
    "gc = gspread.authorize(creds)\n",
    "\n",
    "workbook_id = \"1v4J-2a5e6a3mbZAI2B3Yk2z1WFdQI5ZNktlXCbx_MOM\"\n",
    "workbook = gc.open_by_key(workbook_id)"
   ]
  },
  {
   "cell_type": "code",
   "execution_count": null,
   "metadata": {},
   "outputs": [],
   "source": [
    "workbook"
   ]
  },
  {
   "cell_type": "code",
   "execution_count": null,
   "metadata": {},
   "outputs": [],
   "source": [
    "worksheet = workbook.worksheet('Data Status Plans')"
   ]
  },
  {
   "cell_type": "code",
   "execution_count": null,
   "metadata": {},
   "outputs": [],
   "source": [
    "worksheet"
   ]
  },
  {
   "cell_type": "code",
   "execution_count": null,
   "metadata": {},
   "outputs": [],
   "source": [
    "data1 = worksheet.acell('J2',value_render_option = 'UNFORMATTED_VALUE' )"
   ]
  },
  {
   "cell_type": "code",
   "execution_count": null,
   "metadata": {},
   "outputs": [],
   "source": [
    "print(data1)"
   ]
  },
  {
   "cell_type": "code",
   "execution_count": null,
   "metadata": {},
   "outputs": [],
   "source": [
    "type(data1)"
   ]
  },
  {
   "cell_type": "code",
   "execution_count": null,
   "metadata": {},
   "outputs": [],
   "source": [
    "worksheet.update_acell('M3', browser_link_fotmat)\n",
    "                       "
   ]
  },
  {
   "cell_type": "code",
   "execution_count": null,
   "metadata": {},
   "outputs": [],
   "source": [
    "browser_link_fotmat"
   ]
  },
  {
   "cell_type": "code",
   "execution_count": null,
   "metadata": {},
   "outputs": [],
   "source": [
    "cell_lists = [3,13,browser_link_fotmat,3,14,browser_link_fotmat]"
   ]
  },
  {
   "cell_type": "code",
   "execution_count": null,
   "metadata": {},
   "outputs": [],
   "source": [
    "print(cell_lists)"
   ]
  },
  {
   "cell_type": "code",
   "execution_count": null,
   "metadata": {},
   "outputs": [],
   "source": [
    "worksheet.update_cells(cell_lists)"
   ]
  },
  {
   "cell_type": "code",
   "execution_count": null,
   "metadata": {},
   "outputs": [],
   "source": [
    "dir(worksheet)"
   ]
  },
  {
   "cell_type": "code",
   "execution_count": null,
   "metadata": {},
   "outputs": [],
   "source": [
    "help(worksheet.update_cell)"
   ]
  },
  {
   "cell_type": "code",
   "execution_count": null,
   "metadata": {},
   "outputs": [],
   "source": [
    "help(worksheet.update_acell)"
   ]
  },
  {
   "cell_type": "code",
   "execution_count": null,
   "metadata": {},
   "outputs": [],
   "source": [
    "help(worksheet.update_cells)"
   ]
  },
  {
   "cell_type": "code",
   "execution_count": null,
   "metadata": {},
   "outputs": [],
   "source": [
    "cell_list = worksheet.range('J2:J19')"
   ]
  },
  {
   "cell_type": "code",
   "execution_count": null,
   "metadata": {},
   "outputs": [],
   "source": []
  },
  {
   "cell_type": "code",
   "execution_count": null,
   "metadata": {},
   "outputs": [],
   "source": [
    "for cell in cell_list:\n",
    "    formatted = '=HYPERLINK(\"{}\", \"View in Portal\")'.format(cell.value)\n",
    "    print(cell)\n",
    "    cell.value = formatted"
   ]
  },
  {
   "cell_type": "code",
   "execution_count": null,
   "metadata": {},
   "outputs": [],
   "source": [
    "worksheet.update_cells(cell_list)"
   ]
  },
  {
   "cell_type": "code",
   "execution_count": null,
   "metadata": {},
   "outputs": [],
   "source": [
    "worksheet.values_update('N3', browser_link_fotmat)"
   ]
  },
  {
   "cell_type": "code",
   "execution_count": null,
   "metadata": {},
   "outputs": [],
   "source": [
    "for cell in cell_list:\n",
    "    #formatted = '=HYPERLINK(\"{}\", \"View in Portal\")'.format(cell.value)\n",
    "    #cell.value = formatted\n",
    "    print(cell)"
   ]
  },
  {
   "cell_type": "code",
   "execution_count": null,
   "metadata": {},
   "outputs": [],
   "source": [
    "for cell in cell_list:\n",
    "    #formatted = '=HYPERLINK(\"{}\", \"View in Portal\")'.format(cell.value)\n",
    "    #print(cell)\n",
    "    cell.value = formatted"
   ]
  },
  {
   "cell_type": "code",
   "execution_count": null,
   "metadata": {},
   "outputs": [],
   "source": [
    "worksheet.update_cells(cell_list, value_input_option='USER_ENTERED')"
   ]
  },
  {
   "cell_type": "code",
   "execution_count": null,
   "metadata": {},
   "outputs": [],
   "source": [
    "workbook"
   ]
  },
  {
   "cell_type": "code",
   "execution_count": null,
   "metadata": {},
   "outputs": [],
   "source": [
    "help(worksheet.update_cells)"
   ]
  },
  {
   "cell_type": "code",
   "execution_count": null,
   "metadata": {},
   "outputs": [],
   "source": [
    "s3 = boto3.resource('s3')\n",
    "obj = s3.Object('elasticbeanstalk-fourfront-webprod-system', 'DCICjupgoogle.json')\n",
    "cont = obj.get()['Body'].read().decode()\n",
    "key_dict = json.loads(cont)\n",
    "SCOPES = 'https://www.googleapis.com/auth/spreadsheets'\n",
    "creds = ServiceAccountCredentials.from_json_keyfile_dict(key_dict, SCOPES)\n",
    "gc = gspread.authorize(creds)\n",
    "\n",
    "workbook_id = \"1v4J-2a5e6a3mbZAI2B3Yk2z1WFdQI5ZNktlXCbx_MOM\"\n",
    "workbook = gc.open_by_key(workbook_id)"
   ]
  },
  {
   "cell_type": "code",
   "execution_count": null,
   "metadata": {},
   "outputs": [],
   "source": [
    "workbook"
   ]
  },
  {
   "cell_type": "code",
   "execution_count": null,
   "metadata": {},
   "outputs": [],
   "source": [
    "worksheet = workbook.worksheet('Data Status Plans')"
   ]
  },
  {
   "cell_type": "code",
   "execution_count": null,
   "metadata": {},
   "outputs": [],
   "source": [
    "worksheet"
   ]
  },
  {
   "cell_type": "code",
   "execution_count": null,
   "metadata": {},
   "outputs": [],
   "source": [
    "tail_message_1 = worksheet.range('A22:H22')\n",
    "tail_message_2 = worksheet.range('A23:H23')                                "
   ]
  },
  {
   "cell_type": "code",
   "execution_count": null,
   "metadata": {},
   "outputs": [],
   "source": [
    "print(tail_message_1 )"
   ]
  },
  {
   "cell_type": "code",
   "execution_count": null,
   "metadata": {},
   "outputs": [],
   "source": [
    "from gspread_formatting import *"
   ]
  },
  {
   "cell_type": "code",
   "execution_count": null,
   "metadata": {},
   "outputs": [],
   "source": [
    "fmt = cellFormat(textFormat=textFormat(bold=True, foregroundColor=color(0,0,0))) #black"
   ]
  },
  {
   "cell_type": "code",
   "execution_count": null,
   "metadata": {},
   "outputs": [],
   "source": [
    "fmt2 = cellFormat(textFormat=textFormat(bold=True, foregroundColor=color(0.98,0.01,0.01))) #color red and bold font"
   ]
  },
  {
   "cell_type": "code",
   "execution_count": null,
   "metadata": {},
   "outputs": [],
   "source": [
    "worksheet"
   ]
  },
  {
   "cell_type": "code",
   "execution_count": null,
   "metadata": {},
   "outputs": [],
   "source": [
    "workbook"
   ]
  },
  {
   "cell_type": "code",
   "execution_count": null,
   "metadata": {},
   "outputs": [],
   "source": [
    "format_cell_ranges(worksheet, [('A1', fmt)])"
   ]
  },
  {
   "cell_type": "code",
   "execution_count": null,
   "metadata": {},
   "outputs": [],
   "source": [
    "help(format_cell_ranges)"
   ]
  },
  {
   "cell_type": "code",
   "execution_count": null,
   "metadata": {},
   "outputs": [],
   "source": [
    "format_cell_ranges(worksheet, [('A3:J3', fmt)])"
   ]
  },
  {
   "cell_type": "code",
   "execution_count": null,
   "metadata": {},
   "outputs": [],
   "source": [
    "workbook"
   ]
  },
  {
   "cell_type": "code",
   "execution_count": null,
   "metadata": {},
   "outputs": [],
   "source": [
    "worksheet.update_title('Data Status/Plans')"
   ]
  },
  {
   "cell_type": "code",
   "execution_count": null,
   "metadata": {},
   "outputs": [],
   "source": [
    "dir(worksheet)"
   ]
  },
  {
   "cell_type": "code",
   "execution_count": null,
   "metadata": {},
   "outputs": [],
   "source": []
  }
 ],
 "metadata": {
  "kernelspec": {
   "display_name": "Python 3",
   "language": "python",
   "name": "python3"
  },
  "language_info": {
   "codemirror_mode": {
    "name": "ipython",
    "version": 3
   },
   "file_extension": ".py",
   "mimetype": "text/x-python",
   "name": "python",
   "nbconvert_exporter": "python",
   "pygments_lexer": "ipython3",
   "version": "3.7.1"
  }
 },
 "nbformat": 4,
 "nbformat_minor": 2
}
