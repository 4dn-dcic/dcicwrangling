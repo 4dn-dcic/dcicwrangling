{
 "cells": [
  {
   "cell_type": "code",
   "execution_count": null,
   "metadata": {},
   "outputs": [],
   "source": [
    "import json\n",
    "with open(\"/Users/luisa/pub_tracker_test/Pis_and_awards_updated.json\", 'r') as file:\n",
    "    data = json.load(file)\n",
    "    "
   ]
  },
  {
   "cell_type": "code",
   "execution_count": null,
   "metadata": {},
   "outputs": [],
   "source": [
    "def is_same_author(author1, author2_first, author2_last):\n",
    "            '''\n",
    "            Determines if two authors are the same author\n",
    "            '''\n",
    "\n",
    "            from difflib import SequenceMatcher as SM\n",
    "\n",
    "            if author2_last == 'Cisse':\n",
    "                if author2_last in author1:\n",
    "                    return True\n",
    "                else:\n",
    "                    return False\n",
    "            elif author2_last == 'Qi':\n",
    "                if 'Lei' in author1 or 'L S' in author1:\n",
    "                    return True\n",
    "                else:\n",
    "                    return False\n",
    "            elif author2_last == 'Hu':\n",
    "                score = SM(None, author1[:len(author2_first)], author2_first).ratio()\n",
    "                if score > 0.95:\n",
    "                    return True\n",
    "                else:\n",
    "                    return False\n",
    "            else:\n",
    "                author2_fullname = author2_first + ' ' + author2_last\n",
    "\n",
    "                score1 = SM(None, author1, author2_fullname).ratio()\n",
    "\n",
    "                score2 = SM(None, author1[-len(author2_last):], author2_last).ratio()\n",
    "\n",
    "                #score3 = SM(None, author1[0:len(author2_first)], author2_first).ratio()\n",
    "                    \n",
    "                if score1 > 0.80 or (score1 > 0.60 and score2 > 0.90):\n",
    "                    return True\n",
    "                else:\n",
    "                    return False"
   ]
  },
  {
   "cell_type": "code",
   "execution_count": null,
   "metadata": {},
   "outputs": [],
   "source": []
  },
  {
   "cell_type": "code",
   "execution_count": null,
   "metadata": {},
   "outputs": [],
   "source": [
    "for key in data.values():\n",
    "    first_name = key['first_name']\n",
    "    last_name = key['last_name']\n",
    "    match_ct = 0\n",
    "    all_matches = []\n",
    "    for val in data.values():\n",
    "        matches = []\n",
    "        full_name = val['first_name'] + ' ' + val['last_name']\n",
    "        match = is_same_author(full_name, first_name, last_name)\n",
    "        if match:\n",
    "            match_ct = match_ct + 1\n",
    "            matches.append(first_name + ' ' + last_name)\n",
    "            matches.append(full_name)\n",
    "            all_matches.append(matches)\n",
    "    if match_ct > 0:\n",
    "        for item in all_matches:\n",
    "            print(item)\n",
    "    \n",
    "    \n"
   ]
  },
  {
   "cell_type": "code",
   "execution_count": null,
   "metadata": {},
   "outputs": [],
   "source": []
  },
  {
   "cell_type": "code",
   "execution_count": null,
   "metadata": {},
   "outputs": [],
   "source": [
    "import collections\n",
    "entries = collections.defaultdict(dict)\n",
    "import os\n",
    "fname_jsons = os.listdir(\"/Users/luisa/pub_tracker_test/data_post\")\n",
    "for fname_jsoneach in fname_jsons:\n",
    "        with open(\"/Users/luisa/pub_tracker_test/data_post/\" + fname_jsoneach,\"r\") as fp:\n",
    "            entry = json.load(fp)\n",
    "            version = entry[\"latest\"]\n",
    "            name=version[\"source\"] + \":\" + version[\"id\"]\n",
    "            entries[name]['4DN_author']= version[\"4DN_member_author\"]\n",
    "            entries[name]['authors_pub'] = version[\"authors\"]\n"
   ]
  },
  {
   "cell_type": "code",
   "execution_count": null,
   "metadata": {},
   "outputs": [],
   "source": [
    "# First Results\n",
    "for key, val in entries.items():\n",
    "    print(key, val)\n",
    "    print()\n",
    "    print()"
   ]
  },
  {
   "cell_type": "code",
   "execution_count": null,
   "metadata": {},
   "outputs": [],
   "source": [
    "#New matching algorithm"
   ]
  },
  {
   "cell_type": "code",
   "execution_count": null,
   "metadata": {},
   "outputs": [],
   "source": [
    "def is_same_author(author1, author2_first, author2_last):\n",
    "            '''\n",
    "            Determines if two authors are the same author\n",
    "            '''\n",
    "\n",
    "            from difflib import SequenceMatcher as SM\n",
    "\n",
    "            if author2_last == 'Cisse':\n",
    "                if author2_last in author1:\n",
    "                    return True\n",
    "                else:\n",
    "                    return False\n",
    "            elif author2_last == 'Qi':\n",
    "                if 'Lei' in author1 or 'L S' in author1:\n",
    "                    return True\n",
    "                else:\n",
    "                    return False\n",
    "            elif author2_last == 'Hu' or author2_last == 'Li', or author2_last == 'Chen':\n",
    "                score = SM(None, author1[:len(author2_first)], author2_first).ratio()\n",
    "                if score > 0.95:\n",
    "                    return True\n",
    "                else:\n",
    "                    return False\n",
    "            else:\n",
    "                        \n",
    "                \n",
    "                #author2_fullname = author2_first + ' ' + author2_last\n",
    "\n",
    "                \n",
    "                #score1 = SM(None, author1, author2_fullname).ratio()\n",
    "\n",
    "                #score2 = SM(None, author1[-len(author2_last):], author2_last).ratio()\n",
    "\n",
    "                #score3 = SM(None, author1[0:len(author2_first)], author2_first).ratio()\n",
    "                    \n",
    "#                 if score1 > 0.80 or (score1 > 0.60 and score2 > 0.90):\n",
    "#                     return True\n",
    "#                 else:\n",
    "#                     return False"
   ]
  },
  {
   "cell_type": "code",
   "execution_count": null,
   "metadata": {},
   "outputs": [],
   "source": [
    "import collections\n",
    "entries = collections.defaultdict(dict)\n",
    "import os\n",
    "fname_jsons = os.listdir(\"/Users/luisa/pub_tracker_test/data_post\")\n",
    "for fname_jsoneach in fname_jsons:\n",
    "        with open(\"/Users/luisa/pub_tracker_test/data_post/\" + fname_jsoneach,\"r\") as fp:\n",
    "            entry = json.load(fp)\n",
    "            version = entry[\"latest\"]\n",
    "            name=version[\"source\"] + \":\" + version[\"id\"]\n",
    "            entries[name]['4DN_author']= version[\"4DN_member_author\"]\n",
    "            entries[name]['authors_pub'] = version[\"authors\"]\n",
    "for key, val in entries.items():\n",
    "    print(key, val)\n",
    "    print()\n",
    "    print()\n",
    "    "
   ]
  },
  {
   "cell_type": "code",
   "execution_count": null,
   "metadata": {},
   "outputs": [],
   "source": []
  },
  {
   "cell_type": "code",
   "execution_count": null,
   "metadata": {},
   "outputs": [],
   "source": [
    "from difflib import SequenceMatcher as SM\n",
    "print(SM(None, 'Mingxuan', 'Ming').ratio())"
   ]
  },
  {
   "cell_type": "code",
   "execution_count": null,
   "metadata": {},
   "outputs": [],
   "source": [
    "from difflib import SequenceMatcher as SM\n",
    "print(SM(None, 'Singer', 'Zeiger').ratio())"
   ]
  },
  {
   "cell_type": "code",
   "execution_count": null,
   "metadata": {},
   "outputs": [],
   "source": []
  },
  {
   "cell_type": "code",
   "execution_count": null,
   "metadata": {},
   "outputs": [],
   "source": [
    "import collections\n",
    "entries = collections.defaultdict(dict)\n",
    "import os\n",
    "fname_jsons = os.listdir(\"/Users/luisa/pub_tracker_test/data_post\")\n",
    "for fname_jsoneach in fname_jsons:\n",
    "        with open(\"/Users/luisa/pub_tracker_test/data_post/\" + fname_jsoneach,\"r\") as fp:\n",
    "            entry = json.load(fp)\n",
    "            version = entry[\"latest\"]\n",
    "            name=version[\"source\"] + \":\" + version[\"id\"]\n",
    "            entries[name]['4DN_author']= version[\"4DN_member_author\"]\n",
    "            entries[name]['authors_pub'] = version[\"authors\"]\n",
    "for key, val in entries.items():\n",
    "    print(key, val)\n",
    "    print()\n",
    "    print()"
   ]
  },
  {
   "cell_type": "code",
   "execution_count": null,
   "metadata": {},
   "outputs": [],
   "source": [
    "score1 = SM(None, \"Lei S Qi\".lower(), \"Lei Stanley Qi\").ratio()"
   ]
  },
  {
   "cell_type": "code",
   "execution_count": null,
   "metadata": {},
   "outputs": [],
   "source": [
    "print(score1)"
   ]
  },
  {
   "cell_type": "code",
   "execution_count": null,
   "metadata": {},
   "outputs": [],
   "source": [
    "author1 = "
   ]
  },
  {
   "cell_type": "code",
   "execution_count": null,
   "metadata": {},
   "outputs": [],
   "source": [
    "author1[-len(author2_last):].lower()"
   ]
  }
 ],
 "metadata": {
  "kernelspec": {
   "display_name": "Python 3",
   "language": "python",
   "name": "python3"
  },
  "language_info": {
   "codemirror_mode": {
    "name": "ipython",
    "version": 3
   },
   "file_extension": ".py",
   "mimetype": "text/x-python",
   "name": "python",
   "nbconvert_exporter": "python",
   "pygments_lexer": "ipython3",
   "version": "3.7.1"
  }
 },
 "nbformat": 4,
 "nbformat_minor": 2
}
