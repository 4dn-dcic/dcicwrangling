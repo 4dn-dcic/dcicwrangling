{
 "cells": [
  {
   "cell_type": "code",
   "execution_count": 1,
   "metadata": {},
   "outputs": [
    {
     "name": "stdout",
     "output_type": "stream",
     "text": [
      "Working on https://data.4dnucleome.org\n"
     ]
    }
   ],
   "source": [
    "from dcicutils import ff_utils\n",
    "from functions.notebook_functions import *\n",
    "\n",
    "# get key from file\n",
    "my_key = get_key('default')\n",
    "# all usable env names\n",
    "all_envs = ['data', 'staging', 'fourfront-webdev', 'fourfront-mastertest', 'fourfront-hotseat']\n",
    "# get admin key from s3\n",
    "#my_key = ff_utils.get_authentication_with_server({}, ff_env = 'fourfront-webdev')\n",
    "print('Working on', my_key['server'])\n"
   ]
  },
  {
   "cell_type": "code",
   "execution_count": 2,
   "metadata": {},
   "outputs": [],
   "source": [
    "import uuid"
   ]
  },
  {
   "cell_type": "code",
   "execution_count": 3,
   "metadata": {},
   "outputs": [
    {
     "name": "stdout",
     "output_type": "stream",
     "text": [
      "7b69a0ce-3bc8-4f85-bb34-8a42cecb9b9c\n"
     ]
    }
   ],
   "source": [
    "myuuid = str(uuid.uuid4())\n",
    "print(myuuid)"
   ]
  },
  {
   "cell_type": "code",
   "execution_count": 2,
   "metadata": {},
   "outputs": [],
   "source": [
    "# load json file\n",
    "import json\n",
    "my_file = \"/Users/luisa/Documents/4DN/bedtomultivec_workflow/bedtomultivec_insert_workflow_v1.json\"\n",
    "with open(my_file) as f:\n",
    "    data = json.load(f)\n"
   ]
  },
  {
   "cell_type": "code",
   "execution_count": 3,
   "metadata": {},
   "outputs": [
    {
     "name": "stdout",
     "output_type": "stream",
     "text": [
      "{'accession': '4DNWBTMVLM17', 'app_name': 'bedtomultivec', 'app_version': 'v1', 'arguments': [{'argument_format': '69f6d609-f2ac-4c82-9472-1a13331b5ce9', 'argument_type': 'Input file', 'workflow_argument_name': 'bedfile'}, {'argument_format': 'dba26778-f40a-4561-a552-65539702ded4', 'argument_type': 'Input file', 'workflow_argument_name': 'rows_info'}, {'argument_format': '92537561-4c02-440e-a51f-22b4b08b6918', 'argument_type': 'Output to-be-extra-input file', 'workflow_argument_name': 'multivec_file'}, {'argument_type': 'parameter', 'workflow_argument_name': 'assembly'}, {'argument_type': 'parameter', 'workflow_argument_name': 'resolution'}, {'argument_type': 'parameter', 'workflow_argument_name': 'num_rows'}], 'award': '1U01CA200059-01', 'category': ['format conversion'], 'cwl_child_filenames': [], 'cwl_directory_url': 'https://raw.githubusercontent.com/4dn-dcic/docker-4dn-bedtomultivec/v1/cwl/', 'cwl_main_filename': 'bedtomultivec.cwl', 'cwl_pointer': '', 'description': 'Converting bed to multivec', 'docker_image_name': '4dn-dcic/docker-4dn-bedtomultivec', 'docker_registry_url': 'https://hub.docker.com/', 'lab': '4dn-dcic-lab', 'name': 'bedtomultivec', 'steps': [{'inputs': [{'meta': {'cardinality': 'single', 'file_format': '69f6d609-f2ac-4c82-9472-1a13331b5ce9', 'global': True, 'type': 'data file'}, 'name': 'bedfile', 'source': [{'name': 'bedfile'}]}, {'meta': {'cardinality': 'single', 'file_format': 'dba26778-f40a-4561-a552-65539702ded4', 'global': True, 'type': 'data file'}, 'name': 'rows_info', 'source': [{'name': 'rows_info'}]}], 'meta': {'analysis_step_types': ['file format conversion'], 'software_used': ['/softwares/5de38570-68bf-4545-98b6-d7d51ae08db9/']}, 'name': 'bedtomultivec', 'outputs': [{'meta': {'cardinality': 'single', 'file_format': '92537561-4c02-440e-a51f-22b4b08b6918', 'global': True, 'type': 'data file'}, 'name': 'multivec_file', 'target': [{'name': 'multivec_file'}]}]}], 'title': 'Converting bed to multivec v1', 'uuid': '7b69a0ce-3bc8-4f85-bb34-8a42cecb9b9c'}\n"
     ]
    }
   ],
   "source": [
    "print(data)"
   ]
  },
  {
   "cell_type": "code",
   "execution_count": 4,
   "metadata": {},
   "outputs": [
    {
     "name": "stdout",
     "output_type": "stream",
     "text": [
      "@graph\n",
      "[{'award': '/awards/1U01CA200059-01/', 'title': 'Converting bed to multivec v1', 'lab': '/labs/4dn-dcic-lab/', 'submitted_by': '/users/56c9c683-bb11-471b-b590-c656f7dc03c1/', 'cwl_child_filenames': [], 'docker_registry_url': 'https://hub.docker.com/', 'link_id': '~workflows~7b69a0ce-3bc8-4f85-bb34-8a42cecb9b9c~', 'newer_versions': [], 'name': 'bedtomultivec', 'cwl_main_filename': 'bedtomultivec.cwl', 'app_version': 'v1', 'category': ['format conversion'], '@id': '/workflows/7b69a0ce-3bc8-4f85-bb34-8a42cecb9b9c/', 'cwl_pointer': '', 'accession': '4DNWBTMVLM17', 'schema_version': '6', 'cwl_directory_url': 'https://raw.githubusercontent.com/4dn-dcic/docker-4dn-bedtomultivec/v1/cwl/', 'description': 'Converting bed to multivec', 'app_name': 'bedtomultivec', 'steps': [{'outputs': [{'target': [{'name': 'multivec_file'}], 'meta': {'cardinality': 'single', 'file_format': '92537561-4c02-440e-a51f-22b4b08b6918', 'global': True, 'type': 'data file'}, 'name': 'multivec_file'}], 'inputs': [{'source': [{'name': 'bedfile'}], 'meta': {'cardinality': 'single', 'type': 'data file', 'file_format': '/file-formats/bed/', 'global': True}, 'name': 'bedfile'}, {'source': [{'name': 'rows_info'}], 'meta': {'cardinality': 'single', 'type': 'data file', 'file_format': '/file-formats/compressed_txt/', 'global': True}, 'name': 'rows_info'}], 'meta': {'analysis_step_types': ['file format conversion'], 'software_used': ['/softwares/5de38570-68bf-4545-98b6-d7d51ae08db9/']}, 'name': 'bedtomultivec'}], 'arguments': [{'argument_type': 'Input file', 'workflow_argument_name': 'bedfile', 'argument_format': '/file-formats/bed/'}, {'argument_type': 'Input file', 'workflow_argument_name': 'rows_info', 'argument_format': '/file-formats/compressed_txt/'}, {'argument_type': 'Output to-be-extra-input file', 'workflow_argument_name': 'multivec_file', 'argument_format': '/file-formats/bed.multires.mv5/'}, {'argument_type': 'parameter', 'workflow_argument_name': 'assembly'}, {'argument_type': 'parameter', 'workflow_argument_name': 'resolution'}, {'argument_type': 'parameter', 'workflow_argument_name': 'num_rows'}], 'uuid': '7b69a0ce-3bc8-4f85-bb34-8a42cecb9b9c', 'last_modified': {'date_modified': '2019-02-26T20:57:43.324395+00:00', 'modified_by': '/users/56c9c683-bb11-471b-b590-c656f7dc03c1/'}, '@type': ['Workflow', 'Item'], 'principals_allowed': {'view': ['award.b0b9c607-f8b4-4f02-93f4-9895b461334b', 'group.admin', 'group.read-only-admin', 'lab.828cd4fe-ebb0-4b36-a94a-d2e3a36cc989', 'remoteuser.EMBED', 'remoteuser.INDEXER'], 'audit': ['system.Everyone'], 'edit': ['group.admin', 'submits_for.828cd4fe-ebb0-4b36-a94a-d2e3a36cc989']}, 'external_references': [], 'status': 'in review by lab', 'workflow_language': 'CWL', 'date_created': '2019-02-26T20:57:43.308837+00:00', 'docker_image_name': '4dn-dcic/docker-4dn-bedtomultivec', 'display_title': 'Converting bed to multivec v1 - 4DNWBTMVLM17'}]\n",
      "\n",
      "status\n",
      "success\n",
      "\n",
      "@type\n",
      "['result']\n",
      "\n"
     ]
    }
   ],
   "source": [
    "e = ff_utils.post_metadata(data,'workflow', my_key)\n",
    "for key in e:\n",
    "    print(key)\n",
    "    print(e[key])\n",
    "    print()"
   ]
  },
  {
   "cell_type": "code",
   "execution_count": 2,
   "metadata": {},
   "outputs": [],
   "source": []
  },
  {
   "cell_type": "code",
   "execution_count": 3,
   "metadata": {},
   "outputs": [
    {
     "name": "stdout",
     "output_type": "stream",
     "text": [
      "9d575e99-5ffe-4ea4-b74f-ad40f621cd39\n"
     ]
    }
   ],
   "source": []
  },
  {
   "cell_type": "code",
   "execution_count": null,
   "metadata": {},
   "outputs": [],
   "source": []
  }
 ],
 "metadata": {
  "kernelspec": {
   "display_name": "Python 3",
   "language": "python",
   "name": "python3"
  },
  "language_info": {
   "codemirror_mode": {
    "name": "ipython",
    "version": 3
   },
   "file_extension": ".py",
   "mimetype": "text/x-python",
   "name": "python",
   "nbconvert_exporter": "python",
   "pygments_lexer": "ipython3",
   "version": "3.7.1"
  }
 },
 "nbformat": 4,
 "nbformat_minor": 2
}
