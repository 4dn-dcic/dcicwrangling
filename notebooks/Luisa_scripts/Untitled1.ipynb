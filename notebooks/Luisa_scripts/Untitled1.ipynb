{
 "cells": [
  {
   "cell_type": "code",
   "execution_count": 1,
   "metadata": {},
   "outputs": [],
   "source": [
    "from dcicutils import ff_utils\n",
    "from functions.notebook_functions import *\n",
    "\n",
    "# get key from file\n",
    "my_key = get_key('default')\n",
    "# all usable env names\n",
    "all_envs = ['data', 'staging', 'fourfront-webdev', 'fourfront-mastertest', 'fourfront-hotseat']\n",
    "# get admin key from s3\n",
    "#my"
   ]
  },
  {
   "cell_type": "code",
   "execution_count": 2,
   "metadata": {},
   "outputs": [],
   "source": [
    "q ='/search/?award.project=External&lab.display_title=&lab.display_title=Erez+Lieberman+Aiden%2C+BCM&status=uploading&submitted_by.display_title=&submitted_by.display_title=Luisa+Mercado&type=File'"
   ]
  },
  {
   "cell_type": "code",
   "execution_count": 3,
   "metadata": {},
   "outputs": [],
   "source": [
    "results = ff_utils.search_metadata(q, key=my_key)"
   ]
  },
  {
   "cell_type": "code",
   "execution_count": 4,
   "metadata": {},
   "outputs": [
    {
     "name": "stdout",
     "output_type": "stream",
     "text": [
      "99\n"
     ]
    }
   ],
   "source": [
    "print(len(results))"
   ]
  },
  {
   "cell_type": "code",
   "execution_count": 8,
   "metadata": {},
   "outputs": [
    {
     "name": "stdout",
     "output_type": "stream",
     "text": [
      "4dn-dcic-lab:SRR6165108_2_fq\n",
      "4dn-dcic-lab:SRR6165108_1_fq\n",
      "4dn-dcic-lab:SRR6164981_2_fq\n",
      "4dn-dcic-lab:SRR6164981_1_fq\n",
      "4dn-dcic-lab:SRR6164980_2_fq\n",
      "4dn-dcic-lab:SRR6164980_1_fq\n",
      "4dn-dcic-lab:SRR6164979_2_fq\n",
      "4dn-dcic-lab:SRR6164979_1_fq\n",
      "4dn-dcic-lab:SRR6164978_2_fq\n",
      "4dn-dcic-lab:SRR6164978_1_fq\n",
      "4dn-dcic-lab:SRR6164976_2_fq\n",
      "4dn-dcic-lab:SRR6164976_1_fq\n",
      "4dn-dcic-lab:SRR6164975_2_fq\n",
      "4dn-dcic-lab:SRR6164975_1_fq\n",
      "4dn-dcic-lab:SRR6164966_2_fq\n",
      "4dn-dcic-lab:SRR6164966_1_fq\n",
      "4dn-dcic-lab:SRR6164965_2_fq\n",
      "4dn-dcic-lab:SRR6164965_1_fq\n",
      "4dn-dcic-lab:SRR6164964_2_fq\n",
      "4dn-dcic-lab:SRR6164961_2_fq\n",
      "4dn-dcic-lab:SRR6164961_1_fq\n",
      "4dn-dcic-lab:SRR6164960_2_fq\n",
      "4dn-dcic-lab:SRR6164960_1_fq\n",
      "4dn-dcic-lab:SRR6164959_2_fq\n",
      "4dn-dcic-lab:SRR6164956_2_fq\n",
      "4dn-dcic-lab:SRR6164956_1_fq\n",
      "4dn-dcic-lab:SRR6164951_2_fq\n",
      "4dn-dcic-lab:SRR6164951_1_fq\n",
      "4dn-dcic-lab:SRR6164950_2_fq\n",
      "4dn-dcic-lab:SRR6164950_1_fq\n",
      "4dn-dcic-lab:SRR6164949_2_fq\n",
      "4dn-dcic-lab:SRR6164946_2_fq\n",
      "4dn-dcic-lab:SRR6164946_1_fq\n",
      "4dn-dcic-lab:SRR6164896_2_fq\n",
      "4dn-dcic-lab:SRR6164896_1_fq\n",
      "4dn-dcic-lab:SRR6164895_2_fq\n",
      "4dn-dcic-lab:SRR6164895_1_fq\n",
      "4dn-dcic-lab:SRR6164866_2_fq\n",
      "4dn-dcic-lab:SRR6164866_1_fq\n",
      "4dn-dcic-lab:SRR6164865_2_fq\n",
      "4dn-dcic-lab:SRR6164865_1_fq\n",
      "4dn-dcic-lab:SRR6164861_2_fq\n",
      "4dn-dcic-lab:SRR6164861_1_fq\n",
      "4dn-dcic-lab:SRR6164860_2_fq\n",
      "4dn-dcic-lab:SRR6164860_1_fq\n",
      "4dn-dcic-lab:SRR6164856_2_fq\n",
      "4dn-dcic-lab:SRR6164856_1_fq\n",
      "4dn-dcic-lab:SRR6164855_2_fq\n",
      "4dn-dcic-lab:SRR6164855_1_fq\n",
      "4dn-dcic-lab:SRR6164854_2_fq\n",
      "4dn-dcic-lab:SRR6164854_1_fq\n",
      "4dn-dcic-lab:SRR6164853_2_fq\n",
      "4dn-dcic-lab:SRR6164851_2_fq\n",
      "4dn-dcic-lab:SRR6164851_1_fq\n",
      "4dn-dcic-lab:SRR6164841_2_fq\n",
      "4dn-dcic-lab:SRR6164841_1_fq\n",
      "4dn-dcic-lab:SRR6164831_2_fq\n",
      "4dn-dcic-lab:SRR6164831_1_fq\n",
      "4dn-dcic-lab:SRR6164821_2_fq\n",
      "4dn-dcic-lab:SRR6164821_1_fq\n",
      "4dn-dcic-lab:SRR6164820_2_fq\n",
      "4dn-dcic-lab:SRR6164820_1_fq\n",
      "4dn-dcic-lab:SRR6164816_2_fq\n",
      "4dn-dcic-lab:SRR6164816_1_fq\n",
      "4dn-dcic-lab:SRR6164815_2_fq\n",
      "4dn-dcic-lab:SRR6164815_1_fq\n",
      "4dn-dcic-lab:SRR6164814_2_fq\n",
      "4dn-dcic-lab:SRR6164806_2_fq\n",
      "4dn-dcic-lab:SRR6164806_1_fq\n",
      "4dn-dcic-lab:SRR6107841_2_fq\n",
      "4dn-dcic-lab:SRR6107841_1_fq\n",
      "4dn-dcic-lab:SRR6107840_2_fq\n",
      "4dn-dcic-lab:SRR6107840_1_fq\n",
      "4dn-dcic-lab:SRR6107839_2_fq\n",
      "4dn-dcic-lab:SRR6107839_1_fq\n",
      "4dn-dcic-lab:SRR6107836_2_fq\n",
      "4dn-dcic-lab:SRR6107836_1_fq\n",
      "4dn-dcic-lab:SRR6107835_2_fq\n",
      "4dn-dcic-lab:SRR6107835_1_fq\n",
      "4dn-dcic-lab:SRR6107831_2_fq\n",
      "4dn-dcic-lab:SRR6107831_1_fq\n",
      "4dn-dcic-lab:SRR6107821_2_fq\n",
      "4dn-dcic-lab:SRR6107816_2_fq\n",
      "4dn-dcic-lab:SRR6107816_1_fq\n",
      "4dn-dcic-lab:SRR6107815_2_fq\n",
      "4dn-dcic-lab:SRR6107811_2_fq\n",
      "4dn-dcic-lab:SRR6107811_1_fq\n",
      "4dn-dcic-lab:SRR6107810_2_fq\n",
      "4dn-dcic-lab:SRR6107806_2_fq\n",
      "4dn-dcic-lab:SRR6107806_1_fq\n",
      "4dn-dcic-lab:SRR6107805_2_fq\n",
      "4dn-dcic-lab:SRR6107805_1_fq\n",
      "4dn-dcic-lab:SRR6107801_2_fq\n",
      "4dn-dcic-lab:SRR6107801_1_fq\n",
      "4dn-dcic-lab:SRR6107800_2_fq\n",
      "4dn-dcic-lab:SRR6107800_1_fq\n",
      "4dn-dcic-lab:SRR6107786_2_fq\n",
      "4dn-dcic-lab:SRR6107786_1_fq\n",
      "4dn-dcic-lab:SRR6107785_2_fq\n"
     ]
    }
   ],
   "source": [
    "s\n",
    "for file in results:\n",
    "    print(file['aliases'][0])\n",
    "    if '_1' in file['aliases'][0]:\n",
    "        "
   ]
  },
  {
   "cell_type": "code",
   "execution_count": 8,
   "metadata": {},
   "outputs": [],
   "source": [
    "srrs = list(set([file['aliases'][0].split(\":\")[1][:10] for file in results]))"
   ]
  },
  {
   "cell_type": "code",
   "execution_count": 9,
   "metadata": {},
   "outputs": [
    {
     "name": "stdout",
     "output_type": "stream",
     "text": [
      "54\n"
     ]
    }
   ],
   "source": [
    "print(len(srrs))"
   ]
  },
  {
   "cell_type": "code",
   "execution_count": null,
   "metadata": {},
   "outputs": [],
   "source": []
  }
 ],
 "metadata": {
  "kernelspec": {
   "display_name": "Python 3",
   "language": "python",
   "name": "python3"
  },
  "language_info": {
   "codemirror_mode": {
    "name": "ipython",
    "version": 3
   },
   "file_extension": ".py",
   "mimetype": "text/x-python",
   "name": "python",
   "nbconvert_exporter": "python",
   "pygments_lexer": "ipython3",
   "version": "3.7.1"
  }
 },
 "nbformat": 4,
 "nbformat_minor": 2
}
