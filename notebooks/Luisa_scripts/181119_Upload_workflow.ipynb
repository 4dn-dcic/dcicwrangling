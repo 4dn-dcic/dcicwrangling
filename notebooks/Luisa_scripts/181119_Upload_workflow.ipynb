{
 "cells": [
  {
   "cell_type": "code",
   "execution_count": 11,
   "metadata": {},
   "outputs": [
    {
     "name": "stdout",
     "output_type": "stream",
     "text": [
      "Working on http://fourfront-webdev.us-east-1.elasticbeanstalk.com\n"
     ]
    }
   ],
   "source": [
    "from dcicutils import ff_utils\n",
    "from functions.notebook_functions import *\n",
    "\n",
    "# get key from file\n",
    "#my_key = get_key('default')\n",
    "# all usable env names\n",
    "all_envs = ['data', 'staging', 'fourfront-webdev', 'fourfront-mastertest', 'fourfront-hotseat']\n",
    "# get admin key from s3\n",
    "my_key = ff_utils.get_authentication_with_server({}, ff_env = 'fourfront-webdev')\n",
    "print('Working on', my_key['server'])\n"
   ]
  },
  {
   "cell_type": "code",
   "execution_count": 12,
   "metadata": {},
   "outputs": [],
   "source": [
    "# load json file\n",
    "import json\n",
    "my_file = \"/Users/luisa/Documents/4DN/bedtomultivec_workflow/bedtomultivec_workflow_v4.json\"\n",
    "with open(my_file) as f:\n",
    "    data = json.load(f)\n"
   ]
  },
  {
   "cell_type": "code",
   "execution_count": 13,
   "metadata": {},
   "outputs": [
    {
     "name": "stdout",
     "output_type": "stream",
     "text": [
      "{'accession': '4DNWBTMVV004', 'app_name': 'bedtomultivec', 'app_version': 'dev', 'arguments': [{'argument_format': '69f6d609-f2ac-4c82-9472-1a13331b5ce9', 'argument_type': 'Input file', 'workflow_argument_name': 'bedfile'}, {'argument_format': 'dba26778-f40a-4561-a552-65539702ded4', 'argument_type': 'Input file', 'workflow_argument_name': 'rows_info'}, {'argument_format': '92537561-4c02-440e-a51f-22b4b08b6918', 'argument_type': 'Output to-be-extra-input file', 'workflow_argument_name': 'multivec_file'}, {'argument_type': 'parameter', 'workflow_argument_name': 'assembly'}, {'argument_type': 'parameter', 'workflow_argument_name': 'resolution'}, {'argument_type': 'parameter', 'workflow_argument_name': 'num_rows'}], 'award': '1U01CA200059-01', 'category': ['format conversion'], 'cwl_child_filenames': [], 'cwl_directory_url': 'https://raw.githubusercontent.com/4dn-dcic/docker-4dn-bedtomultivec/v4/cwl/', 'cwl_main_filename': 'bedtomultivec.cwl', 'cwl_pointer': '', 'description': 'Converting bed to multivec', 'docker_image_name': '4dndcic/4dn-bedtomultivec', 'docker_registry_url': 'https://hub.docker.com/', 'lab': '4dn-dcic-lab', 'name': 'bedtomultivec', 'steps': [{'inputs': [{'meta': {'cardinality': 'single', 'file_format': '69f6d609-f2ac-4c82-9472-1a13331b5ce9', 'global': True, 'type': 'data file'}, 'name': 'bedfile', 'source': [{'name': 'bedfile'}]}, {'meta': {'cardinality': 'single', 'file_format': 'd13d06cf-218e-4f61-55f0-93f226248b2c', 'global': True, 'type': 'data file'}, 'name': 'chromsizes_file', 'source': [{'name': 'chromsizes_file'}]}, {'meta': {'cardinality': 'single', 'file_format': 'dba26778-f40a-4561-a552-65539702ded4', 'global': True, 'type': 'data file'}, 'name': 'rows_info', 'source': [{'name': 'rows_info'}]}], 'meta': {'analysis_step_types': ['file format conversion'], 'software_used': ['/softwares/5de38570-68bf-4545-98b6-d7d51ae08db9/']}, 'name': 'bedtomultivec', 'outputs': [{'meta': {'cardinality': 'single', 'file_format': '92537561-4c02-440e-a51f-22b4b08b6918', 'global': True, 'type': 'data file'}, 'name': 'multivec_file', 'target': [{'name': 'multivec_file'}]}]}], 'title': 'Converting bed to multivec v4', 'uuid': 'a52b9b9d-1654-4967-883f-4d2adee77bc7'}\n"
     ]
    }
   ],
   "source": [
    "print(data)"
   ]
  },
  {
   "cell_type": "code",
   "execution_count": 14,
   "metadata": {},
   "outputs": [
    {
     "name": "stdout",
     "output_type": "stream",
     "text": [
      "status\n",
      "success\n",
      "\n",
      "@graph\n",
      "[{'date_created': '2019-05-07T19:47:36.141253+00:00', '@type': ['Workflow', 'Item'], 'docker_registry_url': 'https://hub.docker.com/', 'cwl_directory_url': 'https://raw.githubusercontent.com/4dn-dcic/docker-4dn-bedtomultivec/v4/cwl/', 'docker_image_name': '4dndcic/4dn-bedtomultivec', 'award': '/awards/1U01CA200059-01/', 'newer_versions': [], 'arguments': [{'argument_format': '/file-formats/bed/', 'argument_type': 'Input file', 'workflow_argument_name': 'bedfile'}, {'argument_format': '/file-formats/compressed_txt/', 'argument_type': 'Input file', 'workflow_argument_name': 'rows_info'}, {'argument_format': '/file-formats/bed.multires.mv5/', 'argument_type': 'Output to-be-extra-input file', 'workflow_argument_name': 'multivec_file'}, {'argument_type': 'parameter', 'workflow_argument_name': 'assembly'}, {'argument_type': 'parameter', 'workflow_argument_name': 'resolution'}, {'argument_type': 'parameter', 'workflow_argument_name': 'num_rows'}], 'external_references': [], 'title': 'Converting bed to multivec v4', 'uuid': 'a52b9b9d-1654-4967-883f-4d2adee77bc7', 'app_name': 'bedtomultivec', 'workflow_language': 'CWL', 'description': 'Converting bed to multivec', 'status': 'in review by lab', 'app_version': 'dev', 'last_modified': {'modified_by': '/users/986b362f-4eb6-4a9c-8173-3ab267307e3a/', 'date_modified': '2019-05-07T19:47:36.188332+00:00'}, 'submitted_by': '/users/986b362f-4eb6-4a9c-8173-3ab267307e3a/', 'cwl_child_filenames': [], 'category': ['format conversion'], 'name': 'bedtomultivec', 'accession': '4DNWBTMVV004', 'cwl_main_filename': 'bedtomultivec.cwl', '@id': '/workflows/a52b9b9d-1654-4967-883f-4d2adee77bc7/', 'principals_allowed': {'audit': ['system.Everyone'], 'edit': ['group.admin', 'submits_for.828cd4fe-ebb0-4b36-a94a-d2e3a36cc989'], 'view': ['award.b0b9c607-f8b4-4f02-93f4-9895b461334b', 'group.admin', 'group.read-only-admin', 'lab.828cd4fe-ebb0-4b36-a94a-d2e3a36cc989', 'remoteuser.EMBED', 'remoteuser.INDEXER']}, 'lab': '/labs/4dn-dcic-lab/', 'display_title': 'Converting bed to multivec v4 - 4DNWBTMVV004', 'schema_version': '7', 'cwl_pointer': '', 'steps': [{'name': 'bedtomultivec', 'inputs': [{'name': 'bedfile', 'source': [{'name': 'bedfile'}], 'meta': {'file_format': '/file-formats/bed/', 'global': True, 'cardinality': 'single', 'type': 'data file'}}, {'name': 'chromsizes_file', 'source': [{'name': 'chromsizes_file'}], 'meta': {'file_format': '/file-formats/chromsizes/', 'global': True, 'cardinality': 'single', 'type': 'data file'}}, {'name': 'rows_info', 'source': [{'name': 'rows_info'}], 'meta': {'file_format': '/file-formats/compressed_txt/', 'global': True, 'cardinality': 'single', 'type': 'data file'}}], 'meta': {'software_used': ['/softwares/5de38570-68bf-4545-98b6-d7d51ae08db9/'], 'analysis_step_types': ['file format conversion']}, 'outputs': [{'name': 'multivec_file', 'target': [{'name': 'multivec_file'}], 'meta': {'file_format': '92537561-4c02-440e-a51f-22b4b08b6918', 'cardinality': 'single', 'global': True, 'type': 'data file'}}]}]}]\n",
      "\n",
      "@type\n",
      "['result']\n",
      "\n"
     ]
    }
   ],
   "source": [
    "e = ff_utils.post_metadata(data,'workflow', my_key)\n",
    "for key in e:\n",
    "    print(key)\n",
    "    print(e[key])\n",
    "    print()"
   ]
  },
  {
   "cell_type": "code",
   "execution_count": 9,
   "metadata": {},
   "outputs": [],
   "source": [
    "myuuid = str(uuid.uuid4())"
   ]
  },
  {
   "cell_type": "code",
   "execution_count": 10,
   "metadata": {},
   "outputs": [
    {
     "name": "stdout",
     "output_type": "stream",
     "text": [
      "a52b9b9d-1654-4967-883f-4d2adee77bc7\n"
     ]
    }
   ],
   "source": [
    "print(myuuid)"
   ]
  },
  {
   "cell_type": "code",
   "execution_count": 8,
   "metadata": {},
   "outputs": [],
   "source": [
    "import uuid"
   ]
  },
  {
   "cell_type": "code",
   "execution_count": null,
   "metadata": {},
   "outputs": [],
   "source": []
  }
 ],
 "metadata": {
  "kernelspec": {
   "display_name": "Python 3",
   "language": "python",
   "name": "python3"
  },
  "language_info": {
   "codemirror_mode": {
    "name": "ipython",
    "version": 3
   },
   "file_extension": ".py",
   "mimetype": "text/x-python",
   "name": "python",
   "nbconvert_exporter": "python",
   "pygments_lexer": "ipython3",
   "version": "3.7.1"
  }
 },
 "nbformat": 4,
 "nbformat_minor": 2
}
