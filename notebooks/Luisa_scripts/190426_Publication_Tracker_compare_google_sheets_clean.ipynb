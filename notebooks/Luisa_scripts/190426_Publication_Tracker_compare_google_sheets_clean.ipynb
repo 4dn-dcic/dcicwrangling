{
 "cells": [
  {
   "cell_type": "code",
   "execution_count": null,
   "metadata": {},
   "outputs": [],
   "source": [
    "import collections\n",
    "import os\n",
    "import json\n",
    "from difflib import SequenceMatcher as SM\n",
    "from itertools import combinations\n",
    "from datetime import date\n",
    "import boto3\n",
    "import gspread\n",
    "from oauth2client.service_account import ServiceAccountCredentials\n",
    "import time\n",
    "import pandas as pd\n",
    "from collections import OrderedDict\n",
    "from gspread_formatting import *\n",
    "import string"
   ]
  },
  {
   "cell_type": "code",
   "execution_count": null,
   "metadata": {},
   "outputs": [],
   "source": [
    "fname_grant_jsons = os.listdir(\"/Users/luisa/pub_tracker_backup/collate_revisited_test/data_grant\")\n",
    "for fname_json in fname_grant_jsons:\n",
    "    with open(\"/Users/luisa/pub_tracker_backup/collate_revisited_test/data_grant/\" + fname_json, \"r\") as fp:\n",
    "        dic_pergrant = json.load(fp)\n",
    "        pubs = dic_pergrant.keys()\n",
    "        grant_name = fname_json[:-5]\n",
    "        pubs_when_grant_primary[grant_name] = collections.defaultdict(dict)\n",
    "        pubs_when_grant_secondary[grant_name] = collections.defaultdict(dict)\n",
    "        for pub in pubs:\n",
    "            authors = \"; \".join(dic_pergrant[pub][\"authors\"])\n",
    "            title = dic_pergrant[pub][\"title\"]\n",
    "            link = dic_pergrant[pub][\"link\"]\n",
    "            date = dic_pergrant[pub][\"date\"]\n",
    "            other_ids = \";\".join(dic_pergrant[pub][\"other_ids\"])\n",
    "            primary_awards = \";\".join(dic_pergrant[pub][\"primary_awards\"])\n",
    "            secondary_awards = \";\".join(dic_pergrant[pub][\"secondary_awards\"])\n",
    "            contact_4DN_author = dic_pergrant[pub][\"4DN_member_author\"]\n",
    "            added_date = dic_pergrant[pub][\"added\"]\n",
    "\n",
    "            pubs_when_grant_primary[grant_name][pub]['title'] = title\n",
    "            pubs_when_grant_primary[grant_name][pub]['authors'] = authors\n",
    "            pubs_when_grant_primary[grant_name][pub]['date'] = date\n",
    "            pubs_when_grant_primary[grant_name][pub]['link'] = link\n",
    "            pubs_when_grant_primary[grant_name][pub]['other_ids'] = other_ids\n",
    "            pubs_when_grant_primary[grant_name][pub]['primary_awards'] = primary_awards\n",
    "            pubs_when_grant_primary[grant_name][pub]['secondary_awards'] = secondary_awards\n",
    "            pubs_when_grant_primary[grant_name][pub]['date_added'] = added_date\n",
    "            pubs_when_grant_primary[grant_name][pub]['contact_4DN_author'] = contact_4DN_author\n",
    "            \n",
    "#     # Keeps track of the grants of the publications secondary awards\n",
    "    \n",
    "    for grant in pubs_when_grant_primary:\n",
    "        for pub in pubs_when_grant_primary[grant]:\n",
    "            if pubs_when_grant_primary[grant][pub]['secondary_awards'] != '':\n",
    "                if ';' not in pubs_when_grant_primary[grant][pub]['secondary_awards']:\n",
    "                    sec_award = pubs_when_grant_primary[grant][pub]['secondary_awards']\n",
    "                    pubs_when_grant_secondary[sec_award][pub] = pubs_when_grant_primary[grant][pub]\n",
    "                else:\n",
    "                    sec_award_list = pubs_when_grant_primary[grant][pub]['secondary_awards'].split(';')\n",
    "                    for sec_award in sec_award_list:\n",
    "                        pubs_when_grant_secondary[sec_award][pub] = pubs_when_grant_primary[grant][pub]"
   ]
  },
  {
   "cell_type": "code",
   "execution_count": null,
   "metadata": {},
   "outputs": [],
   "source": []
  },
  {
   "cell_type": "code",
   "execution_count": null,
   "metadata": {},
   "outputs": [],
   "source": [
    "working_forder = '/Users/luisa/pub_tracker_backup/data_grant' # The data_grant folder"
   ]
  },
  {
   "cell_type": "code",
   "execution_count": null,
   "metadata": {},
   "outputs": [],
   "source": [
    "pubs_when_grant_primary = collections.defaultdict(dict)\n",
    "pubs_when_grant_secondary_tracker = collections.defaultdict(dict)\n",
    "pubs_when_grant_secondary = collections.defaultdict(dict)\n",
    "\n",
    "fname_grant_jsons = os.listdir(\"/Users/luisa/pub_tracker_backup/collate_revisited_test/data_grant\")\n",
    "for fname_json in fname_grant_jsons:\n",
    "    with open(\"/Users/luisa/pub_tracker_backup/collate_revisited_test/data_grant/\" + fname_json, \"r\") as fp:\n",
    "        dic_pergrant = json.load(fp)\n",
    "        pubs = dic_pergrant.keys()\n",
    "        grant_name = fname_json[:-5]\n",
    "        pubs_when_grant_primary[grant_name] = collections.defaultdict(dict)\n",
    "        pubs_when_grant_secondary[grant_name] = collections.defaultdict(dict)\n",
    "        for pub in pubs:\n",
    "            authors = \"; \".join(dic_pergrant[pub][\"authors\"])\n",
    "            title = dic_pergrant[pub][\"title\"]\n",
    "            link = dic_pergrant[pub][\"link\"]\n",
    "            date = dic_pergrant[pub][\"date\"]\n",
    "            other_ids = \";\".join(dic_pergrant[pub][\"other_ids\"])\n",
    "            primary_awards = \";\".join(dic_pergrant[pub][\"primary_awards\"])\n",
    "            secondary_awards = \";\".join(dic_pergrant[pub][\"secondary_awards\"])\n",
    "            contact_4DN_author = dic_pergrant[pub][\"4DN_member_author\"]\n",
    "            added_date = dic_pergrant[pub][\"added\"]\n",
    "\n",
    "            pubs_when_grant_primary[grant_name][pub]['title'] = title\n",
    "            pubs_when_grant_primary[grant_name][pub]['authors'] = authors\n",
    "            pubs_when_grant_primary[grant_name][pub]['date'] = date\n",
    "            pubs_when_grant_primary[grant_name][pub]['link'] = link\n",
    "            pubs_when_grant_primary[grant_name][pub]['other_ids'] = other_ids\n",
    "            pubs_when_grant_primary[grant_name][pub]['primary_awards'] = primary_awards\n",
    "            pubs_when_grant_primary[grant_name][pub]['secondary_awards'] = secondary_awards\n",
    "            pubs_when_grant_primary[grant_name][pub]['date_added'] = added_date\n",
    "            pubs_when_grant_primary[grant_name][pub]['contact_4DN_author'] = contact_4DN_author\n",
    "            \n",
    "#     # Keeps track of the grants of the publications secondary awards\n",
    "    \n",
    "    for grant in pubs_when_grant_primary:\n",
    "        for pub in pubs_when_grant_primary[grant]:\n",
    "            if pubs_when_grant_primary[grant][pub]['secondary_awards'] != '':\n",
    "                if ';' not in pubs_when_grant_primary[grant][pub]['secondary_awards']:\n",
    "                    sec_award = pubs_when_grant_primary[grant][pub]['secondary_awards']\n",
    "                    pubs_when_grant_secondary[sec_award][pub] = pubs_when_grant_primary[grant][pub]\n",
    "                else:\n",
    "                    sec_award_list = pubs_when_grant_primary[grant][pub]['secondary_awards'].split(';')\n",
    "                    for sec_award in sec_award_list:\n",
    "                        pubs_when_grant_secondary[sec_award][pub] = pubs_when_grant_primary[grant][pub]"
   ]
  },
  {
   "cell_type": "code",
   "execution_count": null,
   "metadata": {},
   "outputs": [],
   "source": []
  },
  {
   "cell_type": "code",
   "execution_count": null,
   "metadata": {},
   "outputs": [],
   "source": [
    "# Accesses to the google sheets\n",
    "s3 = boto3.resource('s3')\n",
    "obj = s3.Object('elasticbeanstalk-fourfront-webprod-system', 'DCICjupgoogle.json')\n",
    "cont = obj.get()['Body'].read().decode()\n",
    "key_dict = json.loads(cont)\n",
    "SCOPES = 'https://www.googleapis.com/auth/spreadsheets'\n",
    "creds = ServiceAccountCredentials.from_json_keyfile_dict(key_dict, SCOPES)\n",
    "gc = gspread.authorize(creds)\n",
    "book_id = '1PqqMQn7R0qbYm0bUOf3LwCtPJryIbo7YoRf2_PZxOQY' # This is the test spreadsheet\n",
    "test_spreadsheet = gc.open_by_key(book_id)"
   ]
  },
  {
   "cell_type": "code",
   "execution_count": null,
   "metadata": {},
   "outputs": [],
   "source": [
    "worksheet = test_spreadsheet.worksheet(\"Publication_List_new_format_updated\")"
   ]
  },
  {
   "cell_type": "code",
   "execution_count": null,
   "metadata": {},
   "outputs": [],
   "source": [
    "worksheet_values = worksheet.get_all_values()"
   ]
  },
  {
   "cell_type": "code",
   "execution_count": null,
   "metadata": {},
   "outputs": [],
   "source": [
    "import pandas as pd\n",
    "df = pd.DataFrame(worksheet_values[1:], columns=worksheet_values[0])\n",
    "col_names = df.columns.values"
   ]
  },
  {
   "cell_type": "code",
   "execution_count": null,
   "metadata": {},
   "outputs": [],
   "source": []
  },
  {
   "cell_type": "code",
   "execution_count": null,
   "metadata": {},
   "outputs": [],
   "source": [
    "from collections import OrderedDict\n",
    "google_sheet = df.to_dict(orient='records', into=OrderedDict)"
   ]
  },
  {
   "cell_type": "code",
   "execution_count": null,
   "metadata": {},
   "outputs": [],
   "source": [
    "x = 0\n",
    "for item in google_sheet:\n",
    "    print(item)\n",
    "    x = x + 1\n",
    "    if x == 1:\n",
    "        break"
   ]
  },
  {
   "cell_type": "code",
   "execution_count": null,
   "metadata": {},
   "outputs": [],
   "source": [
    "test_grant_primary = pubs_when_grant_primary['DK107980'] # Test a specific grant"
   ]
  },
  {
   "cell_type": "code",
   "execution_count": null,
   "metadata": {},
   "outputs": [],
   "source": [
    "print(test_grant_primary)"
   ]
  },
  {
   "cell_type": "code",
   "execution_count": null,
   "metadata": {},
   "outputs": [],
   "source": [
    "print(len(test_grant_primary))"
   ]
  },
  {
   "cell_type": "code",
   "execution_count": null,
   "metadata": {},
   "outputs": [],
   "source": [
    "# Comparing primary awards with existing google sheets and adding new awards"
   ]
  },
  {
   "cell_type": "code",
   "execution_count": null,
   "metadata": {},
   "outputs": [],
   "source": [
    "new_sheet_existing_primary = []\n",
    "new_sheet_new_primary = []\n",
    "for a_row in test_grant_primary.values():\n",
    "    #check excel\n",
    "    existing_item = [i for i in google_sheet if a_row['title'] == i['Title']]\n",
    "    if existing_item:\n",
    "        new_sheet_existing_primary.append(existing_item)\n",
    "    else:\n",
    "        new_sheet_new_primary.append(a_row)\n",
    "        print('No item')"
   ]
  },
  {
   "cell_type": "code",
   "execution_count": null,
   "metadata": {},
   "outputs": [],
   "source": [
    "# Comparing secondary awards with existing google sheets"
   ]
  },
  {
   "cell_type": "code",
   "execution_count": null,
   "metadata": {},
   "outputs": [],
   "source": [
    "test_grant_secondary = pubs_when_grant_secondary['DK107980'] "
   ]
  },
  {
   "cell_type": "code",
   "execution_count": null,
   "metadata": {},
   "outputs": [],
   "source": [
    "print(len(test_grant_secondary))"
   ]
  },
  {
   "cell_type": "code",
   "execution_count": null,
   "metadata": {},
   "outputs": [],
   "source": [
    "new_sheet_existing_secondary = []\n",
    "new_sheet_new_secondary = []\n",
    "for a_row in test_grant_secondary.values():\n",
    "    #check excel\n",
    "    print(a_row)\n",
    "    existing_item = [i for i in google_sheet if a_row['title'] == i['Title']]\n",
    "    if existing_item:\n",
    "        new_sheet_existing_secondary.append(existing_item)\n",
    "    else:\n",
    "        new_sheet_new_secondary.append(a_row)\n",
    "        print('No item')"
   ]
  },
  {
   "cell_type": "code",
   "execution_count": null,
   "metadata": {},
   "outputs": [],
   "source": [
    "# Adding the publications in the google sheets that are not in the primary_awards"
   ]
  },
  {
   "cell_type": "code",
   "execution_count": null,
   "metadata": {},
   "outputs": [],
   "source": [
    "gs_only_items = []\n",
    "for a_row in google_sheet:\n",
    "    if a_row['Title'] == '':\n",
    "        continue\n",
    "    existing_item_1 = [i for i in test_grant_primary.values() if a_row['Title'] == i['title']]\n",
    "    existing_item_2 = [i for i in test_grant_secondary.values() if a_row['Title'] == i['title']]\n",
    "    if existing_item_1 or existing_item_2:\n",
    "        continue\n",
    "    else:\n",
    "        gs_only_items.append(a_row)\n",
    "        "
   ]
  },
  {
   "cell_type": "code",
   "execution_count": null,
   "metadata": {},
   "outputs": [],
   "source": [
    "print(gs_only_items)"
   ]
  },
  {
   "cell_type": "code",
   "execution_count": null,
   "metadata": {},
   "outputs": [],
   "source": []
  },
  {
   "cell_type": "code",
   "execution_count": null,
   "metadata": {},
   "outputs": [],
   "source": [
    "pubs_when_grant_secondary[]"
   ]
  },
  {
   "cell_type": "code",
   "execution_count": null,
   "metadata": {},
   "outputs": [],
   "source": [
    "for ele in test_grant_secondary.values():\n",
    "    print(ele['title'], ele['primary_awards'])"
   ]
  },
  {
   "cell_type": "code",
   "execution_count": null,
   "metadata": {},
   "outputs": [],
   "source": [
    "print(len(pubs_when_grant_secondary.keys()))"
   ]
  },
  {
   "cell_type": "code",
   "execution_count": null,
   "metadata": {},
   "outputs": [],
   "source": [
    "print(len(pubs_when_grant_primary.keys()))"
   ]
  },
  {
   "cell_type": "code",
   "execution_count": null,
   "metadata": {},
   "outputs": [],
   "source": [
    "# for key in pubs_when_grant_secondary:\n",
    "#     print(key,len(pubs_when_grant_secondary[key].keys()))"
   ]
  },
  {
   "cell_type": "code",
   "execution_count": null,
   "metadata": {},
   "outputs": [],
   "source": [
    "keys_primary = set(pubs_when_grant_primary.keys())"
   ]
  },
  {
   "cell_type": "code",
   "execution_count": null,
   "metadata": {},
   "outputs": [],
   "source": [
    "print(keys_primary)"
   ]
  },
  {
   "cell_type": "code",
   "execution_count": null,
   "metadata": {},
   "outputs": [],
   "source": [
    "keys_secondary = set(pubs_when_grant_secondary.keys())"
   ]
  },
  {
   "cell_type": "code",
   "execution_count": null,
   "metadata": {},
   "outputs": [],
   "source": [
    "print(keys_primary.difference(keys_secondary))"
   ]
  },
  {
   "cell_type": "code",
   "execution_count": null,
   "metadata": {},
   "outputs": [],
   "source": [
    "# Write to the google sheet"
   ]
  },
  {
   "cell_type": "code",
   "execution_count": null,
   "metadata": {},
   "outputs": [],
   "source": [
    "new_worksheet = test_spreadsheet.add_worksheet('collate_v2_test', 100, 15)"
   ]
  },
  {
   "cell_type": "code",
   "execution_count": null,
   "metadata": {},
   "outputs": [],
   "source": [
    "col_order = {'title': 1, 'authors': 2, 'date':3, 'contact_4DN_author':4,'primary_awards':len(col_names) - 4, 'secondary_awards':len(col_names) - 3, 'other_ids':len(col_names) - 2, 'link':len(col_names) - 1, 'date_added': len(col_names)}\n",
    "gs_write = []\n",
    "row = 1\n",
    "# Writting the existing info \n",
    "for r,line in enumerate(new_sheet_existing_primary):\n",
    "    row = r + 1\n",
    "    if row == 1: # Writes the labels of the columns (the keys)\n",
    "        for c, key in enumerate(line[0]):\n",
    "            col = c + 1\n",
    "            gs_write.append(gspread.models.Cell(row, col, key))\n",
    "    row = r + 2\n",
    "    for c, key in enumerate(line[0]):\n",
    "        col = c + 1\n",
    "        gs_write.append(gspread.models.Cell(row, col, line[0][key]))     \n",
    "# Writing existing info in gs only\n",
    "for line in gs_only_items:\n",
    "    row = row + 1\n",
    "    for c, key in enumerate(line):\n",
    "        col = c + 1\n",
    "        gs_write.append(gspread.models.Cell(row, col, line[key]))\n",
    "        \n",
    "# Writting new info\n",
    "for line in new_sheet_new_primary:\n",
    "    row = row + 1\n",
    "    for c, key in enumerate(line):\n",
    "        #col = c + 1\n",
    "        col = col_order[key]\n",
    "        gs_write.append(gspread.models.Cell(row, col, line[key]))\n",
    "    \n",
    "#Writting message\n",
    "row = row + 1\n",
    "spaces = ['' for x in range(len(col_names))]\n",
    "message = ['Publications in which this award is listed but it is not primary' if x == 0 else '' for x in range(len(col_names))] \n",
    "\n",
    "for c, txt in enumerate(spaces):\n",
    "    col = c + 1\n",
    "    gs_write.append(gspread.models.Cell(row,col,txt))\n",
    "    \n",
    "row = row + 1   \n",
    "for c, txt in enumerate(message):\n",
    "    col = c + 1\n",
    "    gs_write.append(gspread.models.Cell(row,col,txt))\n",
    "\n",
    "# Writting secondary awards existing info \n",
    "for r, line in enumerate(new_sheet_existing_secondary):\n",
    "    row = row + 1\n",
    "    for c, key in enumerate(line[0]):\n",
    "        col = c + 1\n",
    "        gs_write.append(gspread.models.Cell(row, col, line[0][key]))\n",
    "        \n",
    "# Writting secondary awards new info \n",
    "for r, line in enumerate(new_sheet_new_secondary):\n",
    "    row = row + 1\n",
    "    for c, key in enumerate(line):\n",
    "#         col = c + 1\n",
    "        col = col_order[key]\n",
    "        gs_write.append(gspread.models.Cell(row, col, line[key]))\n",
    "\n",
    "        \n",
    "#worksheet.update_cells(gs_write,value_input_option='USER_ENTERED')"
   ]
  },
  {
   "cell_type": "code",
   "execution_count": null,
   "metadata": {},
   "outputs": [],
   "source": [
    "print(spaces)"
   ]
  },
  {
   "cell_type": "code",
   "execution_count": null,
   "metadata": {},
   "outputs": [],
   "source": [
    "print(message)"
   ]
  },
  {
   "cell_type": "code",
   "execution_count": null,
   "metadata": {},
   "outputs": [],
   "source": [
    "spaces = [''] * 10"
   ]
  },
  {
   "cell_type": "code",
   "execution_count": null,
   "metadata": {},
   "outputs": [],
   "source": [
    "print(new_sheet_new_primary)"
   ]
  },
  {
   "cell_type": "code",
   "execution_count": null,
   "metadata": {},
   "outputs": [],
   "source": [
    "column_df = [''] * len(df['Title']) \n",
    "    for item in links_col:\n",
    "        column_df[item[0]] = item[1]\n",
    "    df['Portal link'] = column_df\n",
    "    \n",
    "        # Arrange columns in the right order\n",
    "    col_order_first = ['Title', 'Authors', 'Date', 'Contact 4DN Author']\n",
    "    col_order_middle = []\n",
    "    col_order_last = ['Primary_awards', 'Secondary Awards', 'Other ids','Link','Date added']"
   ]
  },
  {
   "cell_type": "code",
   "execution_count": null,
   "metadata": {},
   "outputs": [],
   "source": [
    "print(col_names)"
   ]
  },
  {
   "cell_type": "code",
   "execution_count": null,
   "metadata": {},
   "outputs": [],
   "source": [
    "col_order = {}\n",
    "# for i,col in enumerate(col_names):\n",
    "#     col_order[col] = "
   ]
  },
  {
   "cell_type": "code",
   "execution_count": null,
   "metadata": {},
   "outputs": [],
   "source": [
    "print(col_order)"
   ]
  },
  {
   "cell_type": "code",
   "execution_count": null,
   "metadata": {},
   "outputs": [],
   "source": [
    "col_order = {col:i for i,col in enumerate(col_names, 1)}"
   ]
  },
  {
   "cell_type": "code",
   "execution_count": null,
   "metadata": {},
   "outputs": [],
   "source": [
    "print(col_order)"
   ]
  },
  {
   "cell_type": "code",
   "execution_count": null,
   "metadata": {},
   "outputs": [],
   "source": [
    "col_order2 = {col:i for i,col in enumerate(test_grant_primary.keys, 1)}"
   ]
  },
  {
   "cell_type": "code",
   "execution_count": null,
   "metadata": {},
   "outputs": [],
   "source": [
    "len(col_names)"
   ]
  },
  {
   "cell_type": "code",
   "execution_count": null,
   "metadata": {},
   "outputs": [],
   "source": [
    "col_order = {}\n",
    "for x in range(len(col_names), 1):\n",
    "    \n",
    "    \n",
    "    "
   ]
  },
  {
   "cell_type": "code",
   "execution_count": null,
   "metadata": {},
   "outputs": [],
   "source": [
    "test_grant_primary.keys()"
   ]
  },
  {
   "cell_type": "code",
   "execution_count": null,
   "metadata": {},
   "outputs": [],
   "source": [
    "col_order = {'title': 1, 'authors': 2, 'date':3, 'contact_4DN_author':4,'primary_awards':len(col_names) - 4, 'secondary_awards':len(col_names) - 3, 'other_ids':len(col_names) - 2, 'link':len(col_names) - 1, 'date_added': len(col_names)}"
   ]
  },
  {
   "cell_type": "code",
   "execution_count": null,
   "metadata": {},
   "outputs": [],
   "source": [
    "################### HERE ###################################"
   ]
  },
  {
   "cell_type": "code",
   "execution_count": 1,
   "metadata": {},
   "outputs": [],
   "source": [
    "import collections\n",
    "import os\n",
    "import json\n",
    "from difflib import SequenceMatcher as SM\n",
    "from itertools import combinations\n",
    "from datetime import date\n",
    "import boto3\n",
    "import gspread\n",
    "from oauth2client.service_account import ServiceAccountCredentials\n",
    "import time\n",
    "import pandas as pd\n",
    "from collections import OrderedDict\n",
    "from gspread_formatting import *\n",
    "import string"
   ]
  },
  {
   "cell_type": "code",
   "execution_count": 2,
   "metadata": {},
   "outputs": [],
   "source": [
    "pubs_when_grant_primary = collections.defaultdict(dict)\n",
    "pubs_when_grant_secondary_tracker = collections.defaultdict(dict)\n",
    "pubs_when_grant_secondary = collections.defaultdict(dict)\n",
    "\n",
    "fname_grant_jsons = os.listdir(\"/Users/luisa/pub_tracker_backup/collate_revisited_test/data_grant\")\n",
    "for fname_json in fname_grant_jsons:\n",
    "    with open(\"/Users/luisa/pub_tracker_backup/collate_revisited_test/data_grant/\" + fname_json, \"r\") as fp:\n",
    "        dic_pergrant = json.load(fp)\n",
    "        pubs = dic_pergrant.keys()\n",
    "        grant_name = fname_json[:-5]\n",
    "        pubs_when_grant_primary[grant_name] = collections.defaultdict(dict)\n",
    "        pubs_when_grant_secondary[grant_name] = collections.defaultdict(dict)\n",
    "        for pub in pubs:\n",
    "            authors = \"; \".join(dic_pergrant[pub][\"authors\"])\n",
    "            title = dic_pergrant[pub][\"title\"]\n",
    "            link = dic_pergrant[pub][\"link\"]\n",
    "            date = dic_pergrant[pub][\"date\"]\n",
    "            other_ids = \";\".join(dic_pergrant[pub][\"other_ids\"])\n",
    "            primary_awards = \";\".join(dic_pergrant[pub][\"primary_awards\"])\n",
    "            secondary_awards = \";\".join(dic_pergrant[pub][\"secondary_awards\"])\n",
    "            contact_4DN_author = dic_pergrant[pub][\"4DN_member_author\"]\n",
    "            added_date = dic_pergrant[pub][\"added\"]\n",
    "\n",
    "            pubs_when_grant_primary[grant_name][pub]['title'] = title\n",
    "            pubs_when_grant_primary[grant_name][pub]['authors'] = authors\n",
    "            pubs_when_grant_primary[grant_name][pub]['date'] = date\n",
    "            pubs_when_grant_primary[grant_name][pub]['link'] = link\n",
    "            pubs_when_grant_primary[grant_name][pub]['other_ids'] = other_ids\n",
    "            pubs_when_grant_primary[grant_name][pub]['primary_awards'] = primary_awards\n",
    "            pubs_when_grant_primary[grant_name][pub]['secondary_awards'] = secondary_awards\n",
    "            pubs_when_grant_primary[grant_name][pub]['date_added'] = added_date\n",
    "            pubs_when_grant_primary[grant_name][pub]['contact_4DN_author'] = contact_4DN_author\n",
    "            \n",
    "#     # Keeps track of the grants of the publications secondary awards\n",
    "    \n",
    "for grant in pubs_when_grant_primary:\n",
    "    for pub in pubs_when_grant_primary[grant]:\n",
    "        if pubs_when_grant_primary[grant][pub]['secondary_awards'] != '':\n",
    "            if ';' not in pubs_when_grant_primary[grant][pub]['secondary_awards']:\n",
    "                sec_award = pubs_when_grant_primary[grant][pub]['secondary_awards']\n",
    "                pubs_when_grant_secondary[sec_award][pub] = pubs_when_grant_primary[grant][pub]\n",
    "            else:\n",
    "                sec_award_list = pubs_when_grant_primary[grant][pub]['secondary_awards'].split(';')\n",
    "                for sec_award in sec_award_list:\n",
    "                    pubs_when_grant_secondary[sec_award][pub] = pubs_when_grant_primary[grant][pub]"
   ]
  },
  {
   "cell_type": "code",
   "execution_count": 4,
   "metadata": {},
   "outputs": [
    {
     "name": "stdout",
     "output_type": "stream",
     "text": [
      "54\n"
     ]
    }
   ],
   "source": [
    "print(len(pubs_when_grant_primary['DK107980']))"
   ]
  },
  {
   "cell_type": "code",
   "execution_count": 5,
   "metadata": {},
   "outputs": [
    {
     "name": "stdout",
     "output_type": "stream",
     "text": [
      "14\n"
     ]
    }
   ],
   "source": [
    "print(len(pubs_when_grant_secondary['DK107980']))"
   ]
  },
  {
   "cell_type": "code",
   "execution_count": 6,
   "metadata": {},
   "outputs": [],
   "source": [
    "# Accesses to the google sheets\n",
    "s3 = boto3.resource('s3')\n",
    "obj = s3.Object('elasticbeanstalk-fourfront-webprod-system', 'DCICjupgoogle.json')\n",
    "cont = obj.get()['Body'].read().decode()\n",
    "key_dict = json.loads(cont)\n",
    "SCOPES = 'https://www.googleapis.com/auth/spreadsheets'\n",
    "creds = ServiceAccountCredentials.from_json_keyfile_dict(key_dict, SCOPES)\n",
    "gc = gspread.authorize(creds)\n",
    "f = open('/Users/luisa/pub_tracker_final_test/google_sheet_link.txt', 'r')\n",
    "link = f.readline().split('\\n')\n",
    "google_management_sheet_id = link[0]\n",
    "f.close()\n",
    "google_management_spreadsheet = gc.open_by_key(google_management_sheet_id)\n",
    "google_management_sheet = google_management_spreadsheet.sheet1\n",
    "grant_sheets_links = google_management_sheet.get_all_values()"
   ]
  },
  {
   "cell_type": "code",
   "execution_count": 19,
   "metadata": {},
   "outputs": [
    {
     "name": "stdout",
     "output_type": "stream",
     "text": [
      "Working on  <Spreadsheet 'NOFIC - Dekker Center (1U54DK107980-01)' id:1v4J-2a5e6a3mbZAI2B3Yk2z1WFdQI5ZNktlXCbx_MOM>\n",
      "0 new primary publications\n",
      "0 new secondary publications\n",
      "0 new primary publications and 0 new secondary publicationsin NOFIC - Dekker Center (1U54DK107980-01)\n",
      "DK107980\n",
      "\n"
     ]
    }
   ],
   "source": [
    "reqst_ct = 0\n",
    "log = []\n",
    "for grant in pubs_when_grant_primary:\n",
    "    if grant != 'DK107980':\n",
    "        continue\n",
    "    for item in grant_sheets_links:\n",
    "        if grant in item[1]:\n",
    "            spreadsheet_id = item[2]\n",
    "            if reqst_ct >= 60:\n",
    "                time.sleep(100)\n",
    "                reqst_ct = 0\n",
    "                spreadsheet = gc.open_by_key(spreadsheet_id)\n",
    "                print('Working on ', spreadsheet)\n",
    "                reqst_ct += 1\n",
    "            else:\n",
    "                spreadsheet = gc.open_by_key(spreadsheet_id)\n",
    "                print('Working on ', spreadsheet)\n",
    "                reqst_ct += 1\n",
    "\n",
    "            if reqst_ct >= 60:\n",
    "                time.sleep(100)\n",
    "                reqst_ct = 0\n",
    "                try:\n",
    "                    worksheet = spreadsheet.worksheet('Publication List')\n",
    "                    reqst_ct += 1\n",
    "                except:\n",
    "                    worksheet = spreadsheet.add_worksheet(title='Publication List', rows='200', cols='15')\n",
    "                    reqst_ct += 1\n",
    "            else:\n",
    "                try:\n",
    "                    worksheet = spreadsheet.worksheet('Publication List')\n",
    "                    reqst_ct += 1\n",
    "\n",
    "                except:\n",
    "                    worksheet = spreadsheet.add_worksheet(title='Publication List', rows='200', cols='15')\n",
    "                    reqst_ct += 1\n",
    "                    \n",
    "            result = update_google_sheets()\n",
    "            print(result + 'in ' + item[0])\n",
    "            print(grant)\n",
    "            print()"
   ]
  },
  {
   "cell_type": "code",
   "execution_count": 18,
   "metadata": {},
   "outputs": [],
   "source": [
    "def update_google_sheets():\n",
    "    log = []\n",
    "    # Read the existing google sheet\n",
    "    #worksheet = test_spreadsheet.worksheet(\"Publication_List_new_format_updated\")\n",
    "    worksheet_values = worksheet.get_all_values()\n",
    "    df = pd.DataFrame(worksheet_values[1:], columns=worksheet_values[0])\n",
    "    col_names = df.columns.values\n",
    "    google_sheet = df.to_dict(orient='records', into=OrderedDict)\n",
    "    \n",
    "    # Comparing primary awards with existing google sheets and adding new awards\n",
    "    new_sheet_existing_primary = []\n",
    "    new_sheet_new_primary = []\n",
    "    for a_row in pubs_when_grant_primary[grant].values():\n",
    "        #check excel\n",
    "        existing_item = [i for i in google_sheet if a_row['title'] == i['Title']]\n",
    "        if existing_item:\n",
    "            new_sheet_existing_primary.append(existing_item)\n",
    "        else:\n",
    "            new_sheet_new_primary.append(a_row)\n",
    "    print('{} new primary publications'.format(len(new_sheet_new_primary)))\n",
    "\n",
    "    # Comparing secondary awards with existing google sheets and adding new awards\n",
    "    new_sheet_existing_secondary = []\n",
    "    new_sheet_new_secondary = []\n",
    "    for a_row in pubs_when_grant_secondary[grant].values():\n",
    "        #check excel\n",
    "        existing_item = [i for i in google_sheet if a_row['title'] == i['Title']]\n",
    "        if existing_item:\n",
    "            new_sheet_existing_secondary.append(existing_item)\n",
    "        else:\n",
    "            new_sheet_new_secondary.append(a_row)\n",
    "    print('{} new secondary publications'.format(len(new_sheet_new_secondary)))\n",
    "    \n",
    "    # Adding the existing publications in the google sheets that are not in primary awards (added manually)\n",
    "    gs_only_items = []\n",
    "    for a_row in google_sheet:\n",
    "        if a_row['Title'] == '' or a_row['Title'] == 'Publications in which this award is listed but it is not primary':\n",
    "            continue\n",
    "        existing_item_1 = [i for i in pubs_when_grant_primary[grant].values() if a_row['Title'] == i['title']]\n",
    "        existing_item_2 = [i for i in pubs_when_grant_secondary[grant].values() if a_row['Title'] == i['title']]\n",
    "        if existing_item_1 or existing_item_2:\n",
    "            continue\n",
    "        else:\n",
    "            gs_only_items.append(a_row)\n",
    "    \n",
    "    #Writting info to the google sheets\n",
    "    col_order = {'title': 1, 'authors': 2, 'date':3, 'contact_4DN_author':4,'primary_awards':len(col_names) - 4, 'secondary_awards':len(col_names) - 3, 'other_ids':len(col_names) - 2, 'link':len(col_names) - 1, 'date_added': len(col_names)}\n",
    "    gs_write = []\n",
    "    row = 1\n",
    "    fmt_bold = cellFormat(textFormat=textFormat(bold=True))\n",
    "    # Writting the existing info \n",
    "    for r,line in enumerate(new_sheet_existing_primary):\n",
    "        row = r + 1\n",
    "        if row == 1: # Writes the labels of the columns (the keys)\n",
    "            for c, key in enumerate(line[0]):\n",
    "                col = c + 1\n",
    "                gs_write.append(gspread.models.Cell(row, col, key))\n",
    "        row = r + 2\n",
    "        for c, key in enumerate(line[0]):\n",
    "            col = c + 1\n",
    "            gs_write.append(gspread.models.Cell(row, col, line[0][key]))     \n",
    "    # Writing existing info in gs only\n",
    "    for line in gs_only_items:\n",
    "        row = row + 1\n",
    "        for c, key in enumerate(line):\n",
    "            col = c + 1\n",
    "            gs_write.append(gspread.models.Cell(row, col, line[key]))\n",
    "\n",
    "    # Writting new info\n",
    "    for line in new_sheet_new_primary:\n",
    "        row = row + 1\n",
    "        for key in line:\n",
    "            col = col_order[key]\n",
    "            gs_write.append(gspread.models.Cell(row, col, line[key]))\n",
    "\n",
    "    #Writting message\n",
    "    row = row + 1\n",
    "    spaces = ['' for x in range(len(col_names))]\n",
    "    message = ['Publications in which this award is listed but it is not primary' if x == 0 else '' for x in range(len(col_names))] \n",
    "\n",
    "    for c, txt in enumerate(spaces):\n",
    "        col = c + 1\n",
    "        gs_write.append(gspread.models.Cell(row,col,txt))\n",
    "        \n",
    "\n",
    "    row = row + 1   \n",
    "    for c, txt in enumerate(message):\n",
    "        col = c + 1\n",
    "        gs_write.append(gspread.models.Cell(row,col,txt))\n",
    "        format_range_message = [('A{}'.format(row),fmt_bold)]\n",
    "\n",
    "    # Writting secondary awards existing info \n",
    "    for r, line in enumerate(new_sheet_existing_secondary):\n",
    "        row = row + 1\n",
    "        for c, key in enumerate(line[0]):\n",
    "            col = c + 1\n",
    "            gs_write.append(gspread.models.Cell(row, col, line[0][key]))\n",
    "\n",
    "    # Writting secondary awards new info \n",
    "    for r, line in enumerate(new_sheet_new_secondary):\n",
    "        row = row + 1\n",
    "        for c, key in enumerate(line):\n",
    "    #         col = c + 1\n",
    "            col = col_order[key]\n",
    "            gs_write.append(gspread.models.Cell(row, col, line[key]))\n",
    "\n",
    "\n",
    "    worksheet.update_cells(gs_write,value_input_option='USER_ENTERED')\n",
    "#Adding formatting to worksheet\n",
    "    num_to_letter_dict = {x:y for x, y in zip(range(1, 27), string.ascii_uppercase)}\n",
    "    num_rows = len(gs_write)//len(df.columns)\n",
    "    fmt_plain = cellFormat(textFormat=textFormat(bold=False))\n",
    "    \n",
    "    range_worksheet_formatting = [('A1:{}{}'.format(num_to_letter_dict[len(df.columns)],num_rows),fmt_plain)]\n",
    "    range_title_formatting = [('A1:{}1'.format(num_to_letter_dict[len(df.columns)]), fmt_bold)]\n",
    "    format_cell_ranges(worksheet,range_worksheet_formatting) #Clean the formatting of worksheet\n",
    "    format_cell_ranges(worksheet,format_range_message) # Make the title bold\n",
    "    format_cell_ranges(worksheet,range_title_formatting) # Make the subtitle bold\n",
    "    return '{} new primary publications and {} new secondary publications'.format(len(new_sheet_new_primary), len(new_sheet_new_secondary))\n",
    "\n",
    "#     new_pubs_added_primary = []\n",
    "#     new_pubs_added_secondary = []\n",
    "#     islog = False\n",
    "#     if len(new_sheet_new_primary) >= 1:\n",
    "#         islog = True\n",
    "#         new_pubs_added_primary = [pub for pub in new_sheet_new_primary]\n",
    "#     if len(new_sheet_new_secondary) >= 1:\n",
    "#         islog = True\n",
    "#         new_pubs_added_secondary = [pub for pub in new_sheet_new_secondary]\n",
    "#     log.append(new_pubs_added_primary + new_pubs_added_secondary)\n",
    "#     print('{} new primary publications and {} new secondary publications'.format(len(new_sheet_new_primary), len(new_sheet_new_secondary)))\n",
    "#     if islog:\n",
    "#         return log\n",
    "    "
   ]
  },
  {
   "cell_type": "code",
   "execution_count": null,
   "metadata": {},
   "outputs": [],
   "source": [
    "results = update_google_sheets()"
   ]
  },
  {
   "cell_type": "code",
   "execution_count": null,
   "metadata": {},
   "outputs": [],
   "source": [
    "print(result)"
   ]
  },
  {
   "cell_type": "code",
   "execution_count": null,
   "metadata": {},
   "outputs": [],
   "source": [
    "print(log)"
   ]
  },
  {
   "cell_type": "code",
   "execution_count": null,
   "metadata": {},
   "outputs": [],
   "source": [
    "#Writting info to the google sheets\n",
    "col_order = {'title': 1, 'authors': 2, 'date':3, 'contact_4DN_author':4,'primary_awards':len(col_names) - 4, 'secondary_awards':len(col_names) - 3, 'other_ids':len(col_names) - 2, 'link':len(col_names) - 1, 'date_added': len(col_names)}\n",
    "gs_write = []\n",
    "row = 1\n",
    "fmt_bold = cellFormat(textFormat=textFormat(bold=True))\n",
    "# Writting the existing info \n",
    "for r,line in enumerate(new_sheet_existing_primary):\n",
    "    row = r + 1\n",
    "    if row == 1: # Writes the labels of the columns (the keys)\n",
    "        for c, key in enumerate(line[0]):\n",
    "            col = c + 1\n",
    "            gs_write.append(gspread.models.Cell(row, col, key))\n",
    "    row = r + 2\n",
    "    for c, key in enumerate(line[0]):\n",
    "        col = c + 1\n",
    "        gs_write.append(gspread.models.Cell(row, col, line[0][key]))     \n",
    "# Writing existing info in gs only\n",
    "for line in gs_only_items:\n",
    "    row = row + 1\n",
    "    for c, key in enumerate(line):\n",
    "        col = c + 1\n",
    "        gs_write.append(gspread.models.Cell(row, col, line[key]))\n",
    "\n",
    "# Writting new info\n",
    "for line in new_sheet_new_primary:\n",
    "    row = row + 1\n",
    "    for key in line:\n",
    "        col = col_order[key]\n",
    "        gs_write.append(gspread.models.Cell(row, col, line[key]))\n",
    "\n",
    "#Writting message\n",
    "row = row + 1\n",
    "spaces = ['' for x in range(len(col_names))]\n",
    "message = ['Publications in which this award is listed but it is not primary' if x == 0 else '' for x in range(len(col_names))] \n",
    "\n",
    "for c, txt in enumerate(spaces):\n",
    "    col = c + 1\n",
    "    gs_write.append(gspread.models.Cell(row,col,txt))\n",
    "\n",
    "\n",
    "row = row + 1   \n",
    "for c, txt in enumerate(message):\n",
    "    col = c + 1\n",
    "    gs_write.append(gspread.models.Cell(row,col,txt))\n",
    "    format_range_message = [('A{}'.format(row),fmt_bold)]\n",
    "\n",
    "# Writting secondary awards existing info \n",
    "for r, line in enumerate(new_sheet_existing_secondary):\n",
    "    row = row + 1\n",
    "    for c, key in enumerate(line[0]):\n",
    "        col = c + 1\n",
    "        gs_write.append(gspread.models.Cell(row, col, line[0][key]))\n",
    "\n",
    "# Writting secondary awards new info \n",
    "for r, line in enumerate(new_sheet_new_secondary):\n",
    "    row = row + 1\n",
    "    for c, key in enumerate(line):\n",
    "#         col = c + 1\n",
    "        col = col_order[key]\n",
    "        gs_write.append(gspread.models.Cell(row, col, line[key]))\n",
    "        \n",
    "new_worksheet.update_cells(gs_write,value_input_option='USER_ENTERED')\n",
    "\n",
    "#Adding formatting to worksheet\n",
    "num_to_letter_dict = {x:y for x, y in zip(range(1, 27), string.ascii_uppercase)}\n",
    "num_rows = len(gs_write)//len(df.columns)\n",
    "fmt_plain = cellFormat(textFormat=textFormat(bold=False))\n",
    "\n",
    "range_worksheet_formatting = [('A1:{}{}'.format(num_to_letter_dict[len(df.columns)],num_rows),fmt_plain)]\n",
    "range_title_formatting = [('A1:{}1'.format(num_to_letter_dict[len(df.columns)]), fmt_bold)]\n",
    "\n",
    "format_cell_ranges(worksheet,range_worksheet_formatting) #Clean the formatting of worksheet\n",
    "format_cell_ranges(worksheet,format_range_message) # Make the title bold\n",
    "format_cell_ranges(worksheet,range_title_formatting) # Make the subtitle bold\n"
   ]
  },
  {
   "cell_type": "code",
   "execution_count": null,
   "metadata": {},
   "outputs": [],
   "source": []
  },
  {
   "cell_type": "code",
   "execution_count": null,
   "metadata": {},
   "outputs": [],
   "source": []
  },
  {
   "cell_type": "code",
   "execution_count": null,
   "metadata": {},
   "outputs": [],
   "source": []
  }
 ],
 "metadata": {
  "kernelspec": {
   "display_name": "Python 3",
   "language": "python",
   "name": "python3"
  },
  "language_info": {
   "codemirror_mode": {
    "name": "ipython",
    "version": 3
   },
   "file_extension": ".py",
   "mimetype": "text/x-python",
   "name": "python",
   "nbconvert_exporter": "python",
   "pygments_lexer": "ipython3",
   "version": "3.7.1"
  }
 },
 "nbformat": 4,
 "nbformat_minor": 2
}
