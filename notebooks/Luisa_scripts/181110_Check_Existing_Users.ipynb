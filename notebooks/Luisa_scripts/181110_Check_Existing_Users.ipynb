{
 "cells": [
  {
   "cell_type": "code",
   "execution_count": null,
   "metadata": {},
   "outputs": [],
   "source": [
    "from dcicutils import ff_utils\n",
    "from functions.notebook_functions import *\n",
    "import pandas\n",
    "from pandas import DataFrame as df\n",
    "\n",
    "# get key from file\n",
    "my_key = get_key('default')\n",
    "# all usable env names\n",
    "all_envs = ['data', 'staging', 'fourfront-webdev', 'fourfront-mastertest', 'fourfront-hotseat']\n",
    "# get admin key from s3\n",
    "#my_key = ff_utils.get_authentication_with_server({}, ff_env = 'data')\n"
   ]
  },
  {
   "cell_type": "code",
   "execution_count": null,
   "metadata": {},
   "outputs": [],
   "source": [
    "excel_file = pandas.ExcelFile(r'/Users/luisa/Downloads/4DN MEMBERS UPDATED LIST.xlsx')\n",
    "#data = df(excel_file, columns = ['Project_Number', 'RFA','PI_Contact','First_Name','Last_Name','Email','Role'])\n",
    "\n"
   ]
  },
  {
   "cell_type": "code",
   "execution_count": null,
   "metadata": {},
   "outputs": [],
   "source": [
    "excel_file.sheet_names"
   ]
  },
  {
   "cell_type": "code",
   "execution_count": null,
   "metadata": {},
   "outputs": [],
   "source": [
    "df1 = pandas.read_excel(excel_file,'DCIC & OH')\n",
    "df2 = pandas.read_excel(excel_file,'IT')\n",
    "df3 = pandas.read_excel(excel_file,'NT')\n",
    "df4 = pandas.read_excel(excel_file,'NOFIC')\n",
    "df5 = pandas.read_excel(excel_file,'NBC')\n",
    "df6 = pandas.read_excel(excel_file,'TCPA')"
   ]
  },
  {
   "cell_type": "code",
   "execution_count": null,
   "metadata": {},
   "outputs": [],
   "source": [
    "#DCIC & OH\n",
    "for index, row in df1.iterrows():\n",
    "    \n",
    "    q1 = '/search/?type=User&first_name&last_name={}'.format(row['First Name'],row['Last Name'])\n",
    "    res1 = ff_utils.search_metadata(q1, key=my_key)\n",
    "    \n",
    "    if len(res1) == 0:\n",
    "        q2 = '/search/?type=User&last_name={}&first_name={}'.format(row['Last Name'],row['First Name'])\n",
    "        res2 = ff_utils.search_metadata(q2, key=my_key)\n",
    "        \n",
    "        if len(res2) == 0:\n",
    "            q3 = '/search/?type=User&email={}'.format(str(row['Email']).lower())\n",
    "            res3 = ff_utils.search_metadata(q3, key=my_key)\n",
    "            \n",
    "            if len(res3) == 0:\n",
    "                print(row['First Name'],row['Last Name'],row['Email'],row['PI Contact'], row['Role'])\n",
    "                \n",
    "            \n",
    "            \n",
    "        "
   ]
  },
  {
   "cell_type": "code",
   "execution_count": null,
   "metadata": {},
   "outputs": [],
   "source": [
    "#IT\n",
    "for index, row in df2.iterrows():\n",
    "    \n",
    "    q1 = '/search/?type=User&first_name&last_name={}'.format(row['First Name'],row['Last Name'])\n",
    "    res1 = ff_utils.search_metadata(q1, key=my_key)\n",
    "    \n",
    "    if len(res1) == 0:\n",
    "        q2 = '/search/?type=User&last_name={}&first_name={}'.format(row['Last Name'],row['First Name'])\n",
    "        res2 = ff_utils.search_metadata(q2, key=my_key)\n",
    "        \n",
    "        if len(res2) == 0:\n",
    "            q3 = '/search/?type=User&email={}'.format(str(row['Email']).lower())\n",
    "            res3 = ff_utils.search_metadata(q3, key=my_key)\n",
    "            \n",
    "            if len(res3) == 0:\n",
    "                print(row['First Name'],row['Last Name'],row['Email'],row['Contact PI'], row['Role'])\n",
    "                "
   ]
  },
  {
   "cell_type": "code",
   "execution_count": null,
   "metadata": {},
   "outputs": [],
   "source": [
    "#NT\n",
    "for index, row in df3.iterrows():\n",
    "    \n",
    "    q1 = '/search/?type=User&first_name&last_name={}'.format(row['First Name'],row['Last Name'])\n",
    "    res1 = ff_utils.search_metadata(q1, key=my_key)\n",
    "    \n",
    "    if len(res1) == 0:\n",
    "        q2 = '/search/?type=User&last_name={}&first_name={}'.format(row['Last Name'],row['First Name'])\n",
    "        res2 = ff_utils.search_metadata(q2, key=my_key)\n",
    "        \n",
    "        if len(res2) == 0:\n",
    "            q3 = '/search/?type=User&email={}'.format(str(row['Email']).lower())\n",
    "            res3 = ff_utils.search_metadata(q3, key=my_key)\n",
    "            \n",
    "            if len(res3) == 0:\n",
    "                print(row['First Name'],row['Last Name'],row['Email'],row['PI Contact'], row['Role'])\n",
    "    \n",
    "    "
   ]
  },
  {
   "cell_type": "code",
   "execution_count": null,
   "metadata": {},
   "outputs": [],
   "source": [
    "#NOFIC\n",
    "for index, row in df4.iterrows():\n",
    "    \n",
    "    q1 = '/search/?type=User&first_name&last_name={}'.format(row['First Name'],row['Last Name'])\n",
    "    res1 = ff_utils.search_metadata(q1, key=my_key)\n",
    "    \n",
    "    if len(res1) == 0:\n",
    "        q2 = '/search/?type=User&last_name={}&first_name={}'.format(row['Last Name'],row['First Name'])\n",
    "        res2 = ff_utils.search_metadata(q2, key=my_key)\n",
    "        \n",
    "        if len(res2) == 0:\n",
    "            q3 = '/search/?type=User&email={}'.format(str(row['Email']).lower())\n",
    "            res3 = ff_utils.search_metadata(q3, key=my_key)\n",
    "            \n",
    "            if len(res3) == 0:\n",
    "                print(row['First Name'],row['Last Name'],row['Email'],row['PI Contact'], row['Role'])\n",
    "                \n",
    "            "
   ]
  },
  {
   "cell_type": "code",
   "execution_count": null,
   "metadata": {},
   "outputs": [],
   "source": [
    "#NBC\n",
    "for index, row in df5.iterrows():\n",
    "    \n",
    "    q1 = '/search/?type=User&first_name&last_name={}'.format(row['First Name'],row['Last Name'])\n",
    "    res1 = ff_utils.search_metadata(q1, key=my_key)\n",
    "    \n",
    "    if len(res1) == 0:\n",
    "        q2 = '/search/?type=User&last_name={}&first_name={}'.format(row['Last Name'],row['First Name'])\n",
    "        res2 = ff_utils.search_metadata(q2, key=my_key)\n",
    "        \n",
    "        if len(res2) == 0:\n",
    "            q3 = '/search/?type=User&email={}'.format(str(row['Email']).lower())\n",
    "            res3 = ff_utils.search_metadata(q3, key=my_key)\n",
    "            \n",
    "            if len(res3) == 0:\n",
    "                print(row['First Name'],row['Last Name'],row['Email'],row['PI Contact'], row['Role'])\n",
    "                \n",
    "            "
   ]
  },
  {
   "cell_type": "code",
   "execution_count": null,
   "metadata": {},
   "outputs": [],
   "source": [
    "#TCPA\n",
    "for index, row in df6.iterrows():\n",
    "    \n",
    "    q1 = '/search/?type=User&first_name&last_name={}'.format(row['First Name'],row['Last Name'])\n",
    "    res1 = ff_utils.search_metadata(q1, key=my_key)\n",
    "    \n",
    "    if len(res1) == 0:\n",
    "        q2 = '/search/?type=User&last_name={}&first_name={}'.format(row['Last Name'],row['First Name'])\n",
    "        res2 = ff_utils.search_metadata(q2, key=my_key)\n",
    "        \n",
    "        if len(res2) == 0:\n",
    "            q3 = '/search/?type=User&email={}'.format(str(row['Email']).lower())\n",
    "            res3 = ff_utils.search_metadata(q3, key=my_key)\n",
    "            \n",
    "            if len(res3) == 0:\n",
    "                print(row['First Name'],row['Last Name'],row['Email'],row['PI Contact'], row['Role'])\n",
    "                \n",
    "            "
   ]
  },
  {
   "cell_type": "code",
   "execution_count": null,
   "metadata": {},
   "outputs": [],
   "source": [
    "for index, row in df4.iterrows():\n",
    "    row['Last Name']\n",
    "    #row['First Name']"
   ]
  },
  {
   "cell_type": "code",
   "execution_count": null,
   "metadata": {},
   "outputs": [],
   "source": []
  },
  {
   "cell_type": "code",
   "execution_count": null,
   "metadata": {},
   "outputs": [],
   "source": []
  },
  {
   "cell_type": "code",
   "execution_count": null,
   "metadata": {},
   "outputs": [],
   "source": []
  },
  {
   "cell_type": "code",
   "execution_count": null,
   "metadata": {},
   "outputs": [],
   "source": [
    "filepath = '/Users/luisa/Users_List_v2' \n",
    "file = open(filepath).read()\n",
    "users_info = file.split('\\n')\n",
    "users_list = [item.split('\\t') for item in users_info]"
   ]
  },
  {
   "cell_type": "code",
   "execution_count": null,
   "metadata": {},
   "outputs": [],
   "source": []
  },
  {
   "cell_type": "code",
   "execution_count": null,
   "metadata": {},
   "outputs": [],
   "source": [
    "for i in users_list:\n",
    "    \n",
    "    if len(i) >= 4:\n",
    "        q1 = '/search/?type=User&first_name={}&last_name={}'.format(i[2],i[3])\n",
    "        results1 = ff_utils.search_metadata(q1, key=my_key)\n",
    "        \n",
    "        if len(results1) == 0:\n",
    "            q2 = '/search/?type=User&first_name={}&last_name={}'.format(i[3],i[2])\n",
    "            results2 = ff_utils.search_metadata(q2, key=my_key)\n",
    "            if len(results2) == 0:\n",
    "                if len(i) == 5:\n",
    "                    \n",
    "                    q3 = \"/search/?type=User&&email={}\".format(i[4].lower())\n",
    "                    results3 = ff_utils.search_metadata(q3, key=my_key)\n",
    "                    if len(results3) == 0:\n",
    "                        print(i[0] + ' ' + i[1] + ''+i[2] + ''+ i[3] + '' + i[4] + '' +i[5]\n",
    "                            \n",
    "            \n",
    "            \n"
   ]
  },
  {
   "cell_type": "code",
   "execution_count": null,
   "metadata": {},
   "outputs": [],
   "source": []
  },
  {
   "cell_type": "code",
   "execution_count": null,
   "metadata": {},
   "outputs": [],
   "source": []
  },
  {
   "cell_type": "code",
   "execution_count": null,
   "metadata": {},
   "outputs": [],
   "source": [
    "action = False\n",
    "\n",
    "for a_hit in results:\n",
    "    print(a_hit['uuid'], a_hit['status'])\n",
    "    \n",
    "    raw_response = ff_utils.get_metadata(a_hit['uuid'], key =my_key, add_on='frame=raw')\n",
    "    print(raw_response)\n",
    "    print()\n",
    "    print(a_hit)\n",
    "    addon = \"check_only=True\"\n",
    "    if action:\n",
    "        addon = \"\"\n",
    "    ff_utils.patch_metadata({\"status\":\"deleted\"},obj_id=a_hit['uuid'], key=my_key,\n",
    "                             add_on = addon)"
   ]
  }
 ],
 "metadata": {
  "kernelspec": {
   "display_name": "Python 3",
   "language": "python",
   "name": "python3"
  },
  "language_info": {
   "codemirror_mode": {
    "name": "ipython",
    "version": 3
   },
   "file_extension": ".py",
   "mimetype": "text/x-python",
   "name": "python",
   "nbconvert_exporter": "python",
   "pygments_lexer": "ipython3",
   "version": "3.7.1"
  }
 },
 "nbformat": 4,
 "nbformat_minor": 2
}
