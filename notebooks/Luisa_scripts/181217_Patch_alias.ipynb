{
 "cells": [
  {
   "cell_type": "code",
   "execution_count": 2,
   "metadata": {},
   "outputs": [],
   "source": [
    "from dcicutils import ff_utils\n",
    "from functions.notebook_functions import *\n",
    "\n",
    "# get key from file\n",
    "my_key = get_key('default')\n",
    "# all usable env names\n",
    "all_envs = ['data', 'staging', 'fourfront-webdev', 'fourfront-mastertest', 'fourfront-hotseat']\n",
    "# get admin key from s3\n",
    "#my_key = ff_utils.get_authentication_with_server({}, ff_env = 'data')\n"
   ]
  },
  {
   "cell_type": "code",
   "execution_count": 14,
   "metadata": {},
   "outputs": [
    {
     "name": "stdout",
     "output_type": "stream",
     "text": [
      "52\n"
     ]
    }
   ],
   "source": [
    "q = '/search/?lab.display_title=Benoit+Bruneau%2C+UCSF&status=deleted&type=FileFastq'\n",
    "results = ff_utils.search_metadata(q, key=my_key)\n",
    "print(len(results))"
   ]
  },
  {
   "cell_type": "code",
   "execution_count": 6,
   "metadata": {},
   "outputs": [
    {
     "name": "stdout",
     "output_type": "stream",
     "text": [
      "56\n"
     ]
    }
   ],
   "source": [
    "text = '''connorhorton@college.harvard.edu\n",
    "ihjacobo@eng.ucsd.edu\n",
    "ckling@ucsd.edu\n",
    "kzaletar@eng.ucsd.edu\n",
    "luhebert@eng.ucsd.edu\n",
    "wew245@eng.ucsd.edu\n",
    "car032@eng.ucsd.edu\n",
    "frank.chuang@cbst.ucdavis.edu\n",
    "arobles77@berkeley.edu\n",
    "frank.l.xie@berkeley.edu\n",
    "maximiliaan.huisman@umassmed.edu\n",
    "gcadwell@salk.edu\n",
    "pdennett@salk.edu\n",
    "tgg@seas.upenn.edu\n",
    "jbeagan@seas.upenn.edu\n",
    "asantizo@lncrna.caltech.edu\n",
    "pbhat@lncrna.caltech.edu\n",
    "igareval@gmail.com\n",
    "rao.suhas@gmail.com\n",
    "emaly.piecuch@jax.org\n",
    "ada.zhan@jax.org\n",
    "jeff.chuang@jax.org\n",
    "dariuszplewczynski@cent.uw.edu.pl\n",
    "catherine.gallo@jax.org\n",
    "tomas.rodriguez@umassmed.edu\n",
    "jturner@bio.fsu.edu\n",
    "chiariello@na.infn.it\n",
    "izabela.harabula@mdc-berlin.de\n",
    "thomas.sparks@mdc-berlin.de\n",
    "hishii@ucsd.edu\n",
    "ehsan.irani@mdc-berlin.de\n",
    "sanjeev.kumar@cidresearch.org\n",
    "paul.olivier@cidresearch.org\n",
    "evbashkirova@gmail.com\n",
    "kevingmonahan@gmail.com\n",
    "bchandle@fredhutch.org\n",
    "thoru.pederson@umassmed.edu\n",
    "aizhan.bizhanova@umassmed.edu\n",
    "asantizo@lncrna.caltech.edu\n",
    "kabhinav@scripps.edu\n",
    "lbrusman@scripps.edu\n",
    "wec125@eng.ucsd.edu\n",
    "hzzheng@eng.ucsd.edu\n",
    "dengw@berkeley.edu\n",
    "simon.tian@jax.org\n",
    "meizhen.zheng@jax.org\n",
    "byoungkoo.lee@jax.org\n",
    "catherine.gallo@jax.org\n",
    "sklam@uw.edu\n",
    "jiahkim@illinois.edu\n",
    "dechaot@andrew.cmu.edu\n",
    "mzhan100@illinois.edu\n",
    "paul.olivier@cidresearch.org\n",
    "y.chang@exchange.princeton.edu\n",
    "lccheng@scripps.edu\n",
    "xizhang@scripps.edu'''\n",
    "\n",
    "email_list = text.split('\\n')\n",
    "print(len(email_list))"
   ]
  },
  {
   "cell_type": "code",
   "execution_count": 7,
   "metadata": {
    "scrolled": true
   },
   "outputs": [
    {
     "name": "stdout",
     "output_type": "stream",
     "text": [
      "dcic:connor_horton\n",
      "dcic:irene_hom_jacobo\n",
      "dcic:carol_kling\n",
      "dcic:kathia_zaleta_rivera\n",
      "dcic:lucie_hebert\n",
      "dcic:weixin_wu\n",
      "dcic:kate_rivera\n",
      "dcic:frank_chuang\n",
      "dcic:astou_robles\n",
      "dcic:frank_xie\n",
      "dcic:maximillian_huisman\n",
      "dcic:greg_cadwell\n",
      "dcic:preston_dennett\n",
      "dcic:thomas_gilgenast\n",
      "dcic:jon_beagan\n",
      "dcic:andrea_santizo\n",
      "dcic:prashant_bhat\n",
      "dcic:inez_arevalo\n",
      "dcic:rao_suhas\n",
      "dcic:emaly_piecuch\n",
      "dcic:ada_zhan\n",
      "dcic:jeff_chuang\n",
      "dcic:dariusz_plewczyński\n",
      "dcic:catherine_gallo\n",
      "dcic:tomás_rodriguez\n",
      "dcic:jesse_turner\n",
      "dcic:andrea_chiariello\n",
      "dcic:izabela_harabula\n",
      "dcic:thomas_sparks\n",
      "dcic:haruhiko_ishii\n",
      "dcic:ehsan_irani\n",
      "dcic:sanjeev_kumar\n",
      "dcic:paul_olivier\n",
      "dcic:lisa_bashkirova\n",
      "dcic:kevin_monahan\n",
      "dcic:ben_chandler\n",
      "dcic:thoru_pederson\n",
      "dcic:aizhan_bizhanova\n",
      "dcic:andrea_santizo\n",
      "dcic:kanishk_abhinav\n",
      "dcic:liza_brusman\n",
      "dcic:weizhong_chen\n",
      "dcic:haizi_zheng\n",
      "dcic:jorge_deng\n",
      "dcic:simon_tian\n",
      "dcic:meizhen_zheng\n",
      "dcic:byoungkoo_lee\n",
      "dcic:catherine_gallo\n",
      "dcic:shirley_lam\n",
      "dcic:jiah_kim\n",
      "dcic:dechao_tian\n",
      "dcic:meng_zhang\n",
      "dcic:paul_olivier\n",
      "dcic:eje_chang\n",
      "dcic:li-chun_cheng\n",
      "dcic:xi_zhang\n"
     ]
    }
   ],
   "source": [
    "for e in email_list:\n",
    "    q = '/search/?type=User&email=' + e\n",
    "    \n",
    "    results = ff_utils.search_metadata(q,my_key)\n",
    "    assert len(results) == 1\n",
    "    alias = 'dcic:{}_{}'.format(results[0]['first_name'],results[0]['last_name'])\n",
    "    alias = alias.replace(' ','_').lower()\n",
    "    ff_utils.patch_metadata({'aliases':[alias,]},results[0]['uuid'],my_key)\n",
    "    print(alias)\n",
    "    "
   ]
  },
  {
   "cell_type": "code",
   "execution_count": 16,
   "metadata": {},
   "outputs": [
    {
     "name": "stdout",
     "output_type": "stream",
     "text": [
      "6b8f07c0-5eeb-4024-927b-c4de09303b7c deleted\n",
      "{'dbxrefs': ['SRA:SRR5517571'], 'lab': '4dfac8f5-a868-4b29-9c11-a0932130e121', 'aliases': ['4dn-dcic-lab:SRR5517571_fq'], 'read_length': 92, 'status': 'deleted', 'last_modified': {'modified_by': '56c9c683-bb11-471b-b590-c656f7dc03c1', 'date_modified': '2018-11-20T15:14:41.229736+00:00'}, 'schema_version': '2', 'uuid': '6b8f07c0-5eeb-4024-927b-c4de09303b7c', 'file_type': 'reads', 'instrument': 'Illumina NextSeq 500', 'award': '12a92962-8265-4fc0-b2f8-cf14f05db58b', 'file_classification': 'raw file', 'submitted_by': '56c9c683-bb11-471b-b590-c656f7dc03c1', 'date_created': '2018-11-07T21:11:45.332456+00:00', 'accession': '4DNFIEHWJLTD', 'file_format': 'c13d06cf-218e-4f61-aaf0-91f226248b2c'}\n",
      "\n",
      "{'dbxrefs': ['SRA:SRR5517571'], 'last_modified': {'modified_by': {'display_title': 'Luisa Mercado', '@id': '/users/56c9c683-bb11-471b-b590-c656f7dc03c1/', 'principals_allowed': {'view': ['group.admin', 'group.read-only-admin', 'remoteuser.EMBED', 'remoteuser.INDEXER', 'userid.56c9c683-bb11-471b-b590-c656f7dc03c1'], 'edit': ['group.admin', 'userid.56c9c683-bb11-471b-b590-c656f7dc03c1'], 'audit': ['system.Everyone']}, 'link_id': '~users~56c9c683-bb11-471b-b590-c656f7dc03c1~', 'uuid': '56c9c683-bb11-471b-b590-c656f7dc03c1'}, 'date_modified': '2018-11-20T15:14:41.229736+00:00'}, 'href': '/files-fastq/4DNFIEHWJLTD/@@download/4DNFIEHWJLTD.fastq.gz', 'read_length': 92, 'lab': {'display_title': 'Benoit Bruneau, UCSF', 'country': '', 'principals_allowed': {'view': ['system.Everyone'], 'edit': ['group.admin', 'submits_for.4dfac8f5-a868-4b29-9c11-a0932130e121'], 'audit': ['system.Everyone']}, 'state': '', '@id': '/labs/benoit-bruneau-lab/', 'postal_code': '', 'uuid': '4dfac8f5-a868-4b29-9c11-a0932130e121', 'link_id': '~labs~benoit-bruneau-lab~', 'city': ''}, 'file_type_detailed': 'reads (fastq)', 'title': '4DNFIEHWJLTD', 'link_id': '~files-fastq~4DNFIEHWJLTD~', 'instrument': 'Illumina NextSeq 500', 'award': {'display_title': 'EXTERNAL AWARD', 'principals_allowed': {'view': ['system.Everyone'], 'edit': ['group.admin'], 'audit': ['system.Everyone']}, 'project': 'External', 'center_title': 'External', 'uuid': '12a92962-8265-4fc0-b2f8-cf14f05db58b', '@id': '/awards/external-award/', 'link_id': '~awards~external-award~'}, 'uuid': '6b8f07c0-5eeb-4024-927b-c4de09303b7c', '@type': ['FileFastq', 'File', 'Item'], 'submitted_by': {'display_title': 'Luisa Mercado', 'job_title': '4DN staff', 'principals_allowed': {'view': ['group.admin', 'group.read-only-admin', 'remoteuser.EMBED', 'remoteuser.INDEXER', 'userid.56c9c683-bb11-471b-b590-c656f7dc03c1'], 'edit': ['group.admin', 'userid.56c9c683-bb11-471b-b590-c656f7dc03c1'], 'audit': ['system.Everyone']}, 'uuid': '56c9c683-bb11-471b-b590-c656f7dc03c1', 'timezone': 'US/Eastern', 'link_id': '~users~56c9c683-bb11-471b-b590-c656f7dc03c1~', '@id': '/users/56c9c683-bb11-471b-b590-c656f7dc03c1/'}, 'schema_version': '2', 'display_title': '4DNFIEHWJLTD.fastq.gz', 'aliases': ['4dn-dcic-lab:SRR5517571_fq'], 'status': 'deleted', 'workflow_run_inputs': [], 'file_type': 'reads', 'external_references': [{'ref': 'SRA:SRR5517571', 'uri': 'https://www.ncbi.nlm.nih.gov/sra/?term=SRR5517571'}], 'experiments': [], 'principals_allowed': {'view': ['group.admin', 'group.read-only-admin', 'remoteuser.EMBED', 'remoteuser.INDEXER'], 'edit': ['group.admin'], 'audit': ['system.Everyone']}, 'workflow_run_outputs': [], 'file_classification': 'raw file', '@id': '/files-fastq/4DNFIEHWJLTD/', 'upload_key': '6b8f07c0-5eeb-4024-927b-c4de09303b7c/4DNFIEHWJLTD.fastq.gz', 'date_created': '2018-11-07T21:11:45.332456+00:00', 'accession': '4DNFIEHWJLTD', 'file_format': {'display_title': 'fastq', 'principals_allowed': {'view': ['system.Everyone'], 'edit': ['group.admin'], 'audit': ['system.Everyone']}, 'uuid': 'c13d06cf-218e-4f61-aaf0-91f226248b2c', '@id': '/file-formats/fastq/', 'link_id': '~file-formats~fastq~', 'file_format': 'fastq'}}\n"
     ]
    }
   ],
   "source": [
    "action = False\n",
    "\n",
    "for a_hit in results:\n",
    "    print(a_hit['uuid'], a_hit['status'])\n",
    "    \n",
    "    raw_response = ff_utils.get_metadata(a_hit['uuid'], key =my_key, add_on='frame=raw')\n",
    "    print(raw_response)\n",
    "    print()\n",
    "    print(a_hit)\n",
    "    addon = \"check_only=True\"\n",
    "    if action:\n",
    "        addon = \"\"\n",
    "    ff_utils.patch_metadata({\"status\":\"deleted\"},obj_id=a_hit['uuid'], key=my_key,\n",
    "                             add_on = addon)\n",
    "    break\n"
   ]
  },
  {
   "cell_type": "code",
   "execution_count": null,
   "metadata": {},
   "outputs": [],
   "source": []
  }
 ],
 "metadata": {
  "kernelspec": {
   "display_name": "Python 3",
   "language": "python",
   "name": "python3"
  },
  "language_info": {
   "codemirror_mode": {
    "name": "ipython",
    "version": 3
   },
   "file_extension": ".py",
   "mimetype": "text/x-python",
   "name": "python",
   "nbconvert_exporter": "python",
   "pygments_lexer": "ipython3",
   "version": "3.7.1"
  }
 },
 "nbformat": 4,
 "nbformat_minor": 2
}
