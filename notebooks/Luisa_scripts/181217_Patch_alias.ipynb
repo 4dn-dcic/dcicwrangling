{
 "cells": [
  {
   "cell_type": "code",
   "execution_count": null,
   "metadata": {},
   "outputs": [],
   "source": [
    "from dcicutils import ff_utils\n",
    "from functions.notebook_functions import *\n",
    "\n",
    "# get key from file\n",
    "my_key = get_key('default')\n",
    "# all usable env names\n",
    "all_envs = ['data', 'staging', 'fourfront-webdev', 'fourfront-mastertest', 'fourfront-hotseat']\n",
    "# get admin key from s3\n",
    "#my_key = ff_utils.get_authentication_with_server({}, ff_env = 'data')\n"
   ]
  },
  {
   "cell_type": "code",
   "execution_count": null,
   "metadata": {},
   "outputs": [],
   "source": [
    "q = '/search/?lab.display_title=Benoit+Bruneau%2C+UCSF&status=deleted&type=FileFastq'\n",
    "results = ff_utils.search_metadata(q, key=my_key)\n",
    "print(len(results))"
   ]
  },
  {
   "cell_type": "code",
   "execution_count": null,
   "metadata": {},
   "outputs": [],
   "source": [
    "text = ''''''\n",
    "\n",
    "email_list = text.split('\\n')\n",
    "print(len(email_list))"
   ]
  },
  {
   "cell_type": "code",
   "execution_count": null,
   "metadata": {
    "scrolled": true
   },
   "outputs": [],
   "source": [
    "for e in email_list:\n",
    "    q = '/search/?type=User&email=' + e\n",
    "    \n",
    "    results = ff_utils.search_metadata(q,my_key)\n",
    "    assert len(results) == 1\n",
    "    alias = 'dcic:{}_{}'.format(results[0]['first_name'],results[0]['last_name'])\n",
    "    alias = alias.replace(' ','_').lower()\n",
    "    ff_utils.patch_metadata({'aliases':[alias,]},results[0]['uuid'],my_key)\n",
    "    print(alias)\n",
    "    "
   ]
  },
  {
   "cell_type": "code",
   "execution_count": null,
   "metadata": {},
   "outputs": [],
   "source": [
    "action = False\n",
    "\n",
    "for a_hit in results:\n",
    "    print(a_hit['uuid'], a_hit['status'])\n",
    "    \n",
    "    raw_response = ff_utils.get_metadata(a_hit['uuid'], key =my_key, add_on='frame=raw')\n",
    "    print(raw_response)\n",
    "    print()\n",
    "    print(a_hit)\n",
    "    addon = \"check_only=True\"\n",
    "    if action:\n",
    "        addon = \"\"\n",
    "    ff_utils.patch_metadata({\"status\":\"deleted\"},obj_id=a_hit['uuid'], key=my_key,\n",
    "                             add_on = addon)\n",
    "    break\n"
   ]
  },
  {
   "cell_type": "code",
   "execution_count": null,
   "metadata": {},
   "outputs": [],
   "source": []
  }
 ],
 "metadata": {
  "kernelspec": {
   "display_name": "Python 3",
   "language": "python",
   "name": "python3"
  },
  "language_info": {
   "codemirror_mode": {
    "name": "ipython",
    "version": 3
   },
   "file_extension": ".py",
   "mimetype": "text/x-python",
   "name": "python",
   "nbconvert_exporter": "python",
   "pygments_lexer": "ipython3",
   "version": "3.7.1"
  }
 },
 "nbformat": 4,
 "nbformat_minor": 2
}
