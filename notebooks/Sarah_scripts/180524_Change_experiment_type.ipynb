{
 "cells": [
  {
   "cell_type": "code",
   "execution_count": null,
   "metadata": {},
   "outputs": [],
   "source": [
    "import dcicutils.ff_utils as ff\n",
    "import time\n",
    "env = 'data'\n",
    "\n",
    "mic_exps_url = 'search/?type=ExperimentMic&limit=all'\n",
    "results = ff.search_metadata(mic_exps_url,ff_env = env)\n",
    "\n",
    "# Important. \n",
    "# If there were any deleted experiments, they would not be in the result\n",
    "# If the deleted exps are not modified, they will cause problems if they stay incomptible with the new schema.\n",
    "\n",
    "all_e = 0\n",
    "total_e = 0\n",
    "total_f = 0\n",
    "for result in results:\n",
    "    all_e += 1\n",
    "    count_exp = False\n",
    "    files = result.get('files')\n",
    "    # skip exps without files\n",
    "    if not files:\n",
    "        print(result['accession'] + ' does not have any files')\n",
    "        continue\n",
    "        \n",
    "    for a_file in files:  \n",
    "        clas = a_file.get('file_classification')\n",
    "        if clas == 'Microscopy' or not clas:\n",
    "            count_exp = True\n",
    "            total_f += 1\n",
    "            #patch raw as the classification of the file\n",
    "            patch_data = {'file_classification': 'raw file'}\n",
    "            ff.patch_metadata(patch_data, a_file['uuid'], ff_env = env)\n",
    "            print(a_file.get('accession'))\n",
    "    if count_exp:\n",
    "        total_e += 1\n",
    "\n",
    "print('{total_f} files from {total_e} experiments updated (out of {all_e} experiments)'.format(\n",
    "                                                                                                total_f = str(total_f),\n",
    "                                                                                                total_e = str(total_e),\n",
    "                                                                                                all_e = str(all_e)\n",
    "                                                                                                ))\n",
    "    "
   ]
  },
  {
   "cell_type": "code",
   "execution_count": null,
   "metadata": {},
   "outputs": [],
   "source": []
  }
 ],
 "metadata": {
  "kernelspec": {
   "display_name": "Python 3",
   "language": "python",
   "name": "python3"
  },
  "language_info": {
   "codemirror_mode": {
    "name": "ipython",
    "version": 3
   },
   "file_extension": ".py",
   "mimetype": "text/x-python",
   "name": "python",
   "nbconvert_exporter": "python",
   "pygments_lexer": "ipython3",
   "version": "3.5.2"
  }
 },
 "nbformat": 4,
 "nbformat_minor": 2
}
