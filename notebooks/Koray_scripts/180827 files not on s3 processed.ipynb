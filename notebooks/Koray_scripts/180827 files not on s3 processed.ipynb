{
 "cells": [
  {
   "cell_type": "code",
   "execution_count": 2,
   "metadata": {},
   "outputs": [],
   "source": [
    "from dcicutils import ff_utils\n",
    "from functions.notebook_functions import *\n",
    "\n",
    "# get key from file\n",
    "my_key = get_key('koray_data')\n",
    "\n",
    "# all usable env names\n",
    "all_envs = ['data', 'staging', 'fourfront-webdev', 'fourfront-mastertest', 'fourfront-hotseat']\n",
    "# get admin key from s3\n",
    "#my_key = ff_utils.get_authentication_with_server({}, ff_env = 'data')"
   ]
  },
  {
   "cell_type": "code",
   "execution_count": 3,
   "metadata": {},
   "outputs": [
    {
     "name": "stdout",
     "output_type": "stream",
     "text": [
      "3390\n"
     ]
    }
   ],
   "source": [
    "# Download link for old files are not working, checking all files to see if they are on S3 or not\n",
    "\n",
    "q= '/search/?status=released&status=released+to+project&status=uploaded&type=FileProcessed'\n",
    "all_fq = ff_utils.search_metadata(q, key=my_key)\n",
    "print(len(all_fq))   \n"
   ]
  },
  {
   "cell_type": "code",
   "execution_count": 4,
   "metadata": {},
   "outputs": [
    {
     "name": "stdout",
     "output_type": "stream",
     "text": [
      "100\n",
      "200\n",
      "300\n",
      "400\n",
      "500\n",
      "600\n",
      "700\n",
      "800\n",
      "900\n",
      "1000\n",
      "1100\n",
      "1200\n",
      "1300\n",
      "1400\n",
      "1500\n",
      "1600\n",
      "1700\n",
      "1800\n",
      "1900\n",
      "2000\n",
      "2100\n",
      "2200\n",
      "2300\n",
      "2400\n",
      "2500\n",
      "2600\n",
      "2700\n",
      "2800\n",
      "2900\n",
      "3000\n",
      "3100\n",
      "3200\n",
      "3300\n"
     ]
    }
   ],
   "source": [
    "from dcicutils import s3Utils\n",
    "my_env = 'data'\n",
    "my_s3_util = s3Utils(env=my_env)\n",
    "raw_bucket = my_s3_util.raw_file_bucket\n",
    "out_bucket = my_s3_util.outfile_bucket\n",
    "\n",
    "counter = 0\n",
    "my_bucket = out_bucket\n",
    "for i in reversed(all_fq): \n",
    "    counter += 1\n",
    "    # check if file is in s3\n",
    "    head_info = my_s3_util.does_key_exist(i['upload_key'], my_bucket)\n",
    "    if not head_info:\n",
    "        print(i['accession'], \"does not have a file in S3\")\n",
    "        print()\n",
    "    if counter % 100 == 0:\n",
    "        print(counter)"
   ]
  },
  {
   "cell_type": "code",
   "execution_count": null,
   "metadata": {},
   "outputs": [],
   "source": [
    "# All files are on s3 \n",
    "# the problem is with redirects"
   ]
  },
  {
   "cell_type": "code",
   "execution_count": 6,
   "metadata": {},
   "outputs": [
    {
     "name": "stdout",
     "output_type": "stream",
     "text": [
      "100 67\n",
      "200 133\n",
      "300 201\n",
      "400 237\n",
      "500 237\n",
      "600 237\n",
      "700 237\n",
      "800 237\n",
      "900 237\n",
      "1000 237\n",
      "1100 237\n",
      "1200 237\n",
      "1300 237\n",
      "1400 237\n",
      "1500 237\n",
      "1600 237\n",
      "1700 237\n",
      "1800 237\n",
      "1900 237\n",
      "2000 237\n",
      "2100 237\n",
      "2200 237\n",
      "2300 237\n",
      "2400 237\n",
      "2500 237\n",
      "2600 237\n",
      "2700 237\n",
      "2800 237\n",
      "2900 237\n",
      "3000 237\n",
      "3100 237\n",
      "3200 237\n",
      "3300 237\n"
     ]
    }
   ],
   "source": [
    "counter = 0\n",
    "my_bucket = raw_bucket\n",
    "\n",
    "#test cases all_fq = ['4DNFIJ5ILLUG', '4DNFIQMXJRKV']\n",
    "\n",
    "problematic = []\n",
    "pr_counter = 0\n",
    "for i in reversed(all_fq): \n",
    "    counter += 1\n",
    "    href = i['href']\n",
    "    resp = ''\n",
    "    try:\n",
    "        e = ff_utils.get_metadata(href, key=my_key)\n",
    "        resp = str(e)\n",
    "    except Exception as ex:\n",
    "        resp = str(ex)\n",
    "\n",
    "    if 'elasticbeanstalk-fourfront-webprod-wfoutput' in resp:\n",
    "        pass\n",
    "    elif 'elasticbeanstalk-fourfront-webdev-wfoutput' in resp:\n",
    "        problematic.append(i['uuid'])\n",
    "        pr_counter += 1\n",
    "    else:\n",
    "        print(i['uuid'], 'other case', resp)\n",
    "        print()\n",
    " \n",
    "    if counter % 100 == 0:\n",
    "        print(counter, pr_counter)"
   ]
  },
  {
   "cell_type": "code",
   "execution_count": 9,
   "metadata": {},
   "outputs": [
    {
     "name": "stdout",
     "output_type": "stream",
     "text": [
      "237\n",
      "['a1a002d2-9b4a-4c3b-b466-8bf7faf9ae6d', '2ede1b80-8785-43b6-aa49-30d04ce00816', '13913fb1-aae0-4ffa-8da5-a19c761ac4f2', 'c4bbd771-23c7-4489-b273-c344913c76f8', '93178e9b-b56e-4df4-ba78-8aacb8565665', '206698fa-d127-4dba-a1ac-871bcdbe1a5c', '9fcb3bc4-98ee-4396-b932-42346c4ef443', '469843a1-3922-4fab-8242-141dd27b01fe', '7cbf0524-f8ae-4ecd-b196-8054409e4ce4', 'a0ff61c1-444c-41cb-abfe-e0a462936d8d', '67432bcc-9575-4a01-9c92-be78c1051356', '18a56406-0a4d-4c78-b119-a63abed29b00', 'a2b0e9ff-608e-4ded-9586-5196a703a2ec', '99b9c872-363a-461c-a9ff-b51c33a45aff', '4106af2a-f85a-4a14-b729-59799cf45ad6', '758001a5-7944-4aa0-a94d-72b6a8314066', '98f46643-03fb-4827-a17e-c8699f1bf536', 'd0d4f68f-ba51-4b0c-856d-870883a0cc99', 'a14a7cd3-eb1c-4ac9-b9c4-75eb1d2af192', 'e1b157ad-15f5-42c3-b771-1d9f647ae05b', 'ce3ea7be-e62c-4ce1-a308-c47b9797bc9a', '67d9dd67-906c-492a-b279-5e65a36aa017', '48e7b7ca-4fe8-404c-b654-5c33791e8121', '8e0d438f-e15c-4aa2-ba76-c8bf2d91db6c', 'c247f9af-d508-4ad4-84f1-bdd954878519', 'b72ea0f6-c5a8-4d76-8706-f6ff6df2b0d9', '20e780c7-2ec1-4967-9c39-d84a04217681', '92cd924f-7cba-4b73-8600-e4fb89f6910b', '468ca6aa-35ec-40a6-aed4-d14eb32869af', '9a6cb47f-9319-4a6e-af1d-f1a343efa116', 'd8b8a5c8-aec2-47e5-a98d-6752fc2438a6', '246e0f4a-d58b-4cd3-adab-620ebf8c1e3c', '56d61acb-3cd8-4e23-8e2b-8a761eef7b68', 'ae790a92-f3fe-4229-a995-55ce3d55351b', 'a30cdd53-1c0e-48e6-a566-f6f7628a063b', '8b262e03-276d-4a4f-8792-46f088356fda', '1109638a-20e5-473c-abdc-54f1a394d5f7', '1605b726-fd89-4923-adf1-5eeef289a71f', 'd9145097-2d6c-4491-b565-8908aaf3b760', '3a20393c-0888-4904-86a8-a8ba5883c73a', '34f2bbe6-6189-4aa5-bd59-055e487864e6', 'dff964e8-883b-400a-b5f0-20507d0866f3', '7ea4531e-bee2-4c9b-8e9e-29c7127a3af1', '75e34e3b-17b1-4bec-a4e8-a3278b8fb272', 'addb5280-cbc1-4b12-b269-0f0238756799', '8f5fe216-e313-49ff-98c8-07a82793f514', '54c1fcbc-17bc-4544-9fb4-0f7acfc849d4', '3a24f2be-7e6e-43a2-82ca-de67ed76dd96', 'fbb6c88f-09b7-47ea-9523-e0238d49d0ea', '1c3eaa8c-8a61-4342-8409-8a9bc95e82cd', '7400d945-6813-44ff-a9f9-2831e85834ac', 'c84763c0-c168-4a43-bf71-d27b81d673dc', 'c1d7695b-da3f-454a-acc9-3f68b34a00bf', '51b8b484-a3aa-4642-9d6c-684d77d83a56', '755230c2-7ce1-4f31-b101-eb2668083492', 'b260d2fc-15f6-4b3e-a42d-fc52d2683037', '9c0f32f2-5826-49ae-9866-1791d5801d00', '138bd7cc-0494-4930-bd8f-f3e46fa44b43', 'e0b32fa9-a54e-4f62-86dc-039f60b34812', '2e746367-8560-44ed-ab7c-f9be807557c6', 'f5cc549c-5477-40da-86ff-b121f8798614', 'd827b307-6355-412b-9ede-1befa44099cf', 'b798a914-7ac9-49f3-8e6d-891b1ffda0b9', '1cc38a34-db99-4305-a50e-856e6a451e50', 'd1ef69c4-dbf3-46e8-b8e8-41d5efa89866', '7022b519-cbcd-43bf-9683-fc578146ede3', 'dbea93b4-ad48-46dc-92c7-e3b9369182f2', '155d2f7a-803d-48fb-8092-4d56175f9e86', 'a724d25a-01a2-47f5-8dd5-25c661946dd3', '0d37afcc-9f86-4085-ac1f-63152068935a', '7efa6b5a-a2d0-4e3b-b465-f295b231b592', 'f0f12da5-42ea-4065-b483-3ba4bcb85487', 'a7bcf6d6-559a-4379-bdd3-6ec2669cb8a6', 'c2d0eea1-2281-4001-bfba-c227656188f9', '6a175ab2-9dc9-4c47-bd0b-dbed9941edff', '55ebd0ef-652f-4750-bc84-c4614d4f64d4', '3f84f9e5-68a1-4e9f-8fc5-ab42db44806c', 'bdfc643b-47b6-4310-871c-c14089b8ba9f', '06bd6439-230b-4838-aee4-b1d2206eef7c', '704858fd-cf97-4253-a9d2-baafb4dc5945', 'e090e687-9b85-4092-8de6-a75d77edbfaa', 'c0909059-0016-4dae-a54c-956daae4a46b', 'ba0aba31-b257-4d0f-92c2-1d2858cfd89b', '9225b3fe-a2c4-4df7-9020-4ace5213986b', 'ca39b8fc-9c40-43d8-a354-d1419de2b99a', 'd7071882-f323-4a4b-9819-a6cd7ff5a5f9', '60e6f465-9a89-498b-acd9-50a26be34297', '8780d191-4d6b-457d-a32f-c67019495d2e', 'aced06d4-3afc-4ce8-b3e0-48e05dd651a1', 'dad8ba1b-b62a-4f43-9d59-27c213a98407', '02c5a470-e2ee-4d20-b1ed-bf540cb7efff', '1e3740c8-8433-45d4-b82f-03de6f3e5606', 'ac1ede0b-93d9-4df1-9c6f-303ce405e907', '0030f332-32b2-4a7c-933c-5e3d46cf6570', '161cd680-cd80-4e2e-bad8-d7fa5d6e5823', '5655f6d4-0e7d-494c-b79b-929dcaded0d7', '146403e4-1f0b-423a-91c8-f04adb099f41', 'd83b1bd0-4880-4a26-baf3-6586acda69b0', '777df1dd-30b3-47f4-8621-871803541627', '1b2f09a7-06d3-447d-933f-c5c10abf81d3', 'add49684-5514-4367-8306-7c77e68aa72a', 'f7144c14-f0bf-412c-ba7f-89deb8de5560', '94a436aa-b1ba-4095-a409-9a43554f881a', 'ad9751f1-a916-4159-8823-58f6156e7c9f', '43b9f807-0e18-4d60-bd12-fb16a4bc879f', '1e861106-a773-4b90-abb0-43b1eb931994', '3f510464-fb6e-4b31-9372-f4f56e11b049', '6f152cb3-e562-4058-80f0-1ad8a2826150', 'c151ea1c-c175-4927-89c8-b1fda1f0d2c5', '6f27685e-2001-486c-8f9d-733bbdc71c18', 'd90875d0-7260-47dd-9895-afb4bb161911', '49a76a86-7856-4375-8ce8-29520e68169c', '3d6e9ee6-3a30-40bc-85c1-e96a570786d6', '04582754-f547-4f28-92bb-d3cfa9daa602', 'b6e22896-9339-4e82-a6d9-a1da84917794', '6d3a1bbf-d07e-4eb3-84cf-a304afd61c6b', '0d3761fc-96e6-45f9-ae51-00b736e894d2', '61abfa76-bd1e-4ef0-94e5-3f1f69c2bdb7', '492558e1-7090-44ee-ad62-c9e6d2f09362', '08a5992e-31cb-4137-83e3-8de7eb0880e4', 'ee14fdb2-8dac-4363-bb4d-f79282038edc', 'fedd5940-c72d-44fd-ad48-2931ea67fa9d', '69205107-f6c9-4bc2-ac33-1701abd01a75', 'b6535998-5171-4191-b676-a4adaa343178', '2185c586-689b-420c-931c-09f0db123957', '02bd8fdb-71a5-42e6-9405-31bedeed06d7', 'ca9a8cea-f33b-486f-977f-aa54a61f3bef', 'a4ef4eac-3343-4ab3-bd2b-f2456a1953e8', '1cf9f374-3a6e-4c04-ab2a-187790cad97f', '2ffe073d-2bd1-42e9-aedd-7dd8d484a30b', '81b8c3a8-2eee-4628-b945-c47ef3388da0', '5e140984-4807-4a00-adf2-86a2f5548152', '32a5b9a9-2e4c-44d2-8d71-5839a43719dc', '8be79a5b-e2c1-47e7-b5af-5ac5415c1e13', '027702d7-30be-4825-949c-ed95220b1458', '21cf00ae-9a6e-4877-992a-86282915bb2c', '87e00d94-714e-4ace-883e-6b13ae525df0', '864b7b18-7097-4304-bd66-93c9036c54ab', '08906114-4018-4705-a87c-fcebb716e17e', '5db080ff-ba9a-422c-b2da-bd536e240aab', '5cf59963-335e-498d-8776-e85cfa22feb6', 'c0d17b8f-6847-4783-a14b-b1758b797e4d', 'e1a1b045-8641-4c87-ae6e-dfc756928486', '38349c72-0b86-4abb-a964-d678bee71ee5', '95ec31d4-9950-49ea-b4e3-ca214f0ee518', '2b69ffdf-c2da-44e1-8191-784f5e6d92de', '0d3fd098-f8d3-469d-9489-0b50a4875325', '5a7190f0-a91e-4c97-88d0-2df48ba03af4', '39c45ccc-957b-4743-8c1c-865d2753575a', '6bb164a3-3b8d-46be-a9ec-0b2f68ee44fd', '7f7c6546-4190-4ac1-81d1-29c3309ebfb3', 'fe355a67-4074-4c4a-8893-11fe3c685e96', 'efe548c6-3cee-4b8e-b180-141b9631a74e', 'cd3a6937-55b4-4ab9-93dd-64c4a82587e4', 'a9ecf94f-2fcb-4009-8ad6-26084c01e3d2', '48ad18f3-10ed-4926-89aa-691031e1097e', '124dba40-1aff-4867-9667-9001e2c50e6c', '7ff85324-82cb-4aee-949c-c433ae2e0f8e', '4aff7b17-d834-406b-8d7a-243ff33487d7', '5bdaa25d-cbea-41bc-a850-a36c022ddc46', '391696f0-10d5-4542-bd4b-1cc6fa5cdb7b', '370fc55b-9534-4c8f-b25c-a9f7b333a560', '6a35b844-291e-4c6c-b688-e8cf81015647', '63d10bda-9533-497c-89a9-2f78ee83028c', '431fde0f-5a6f-4f41-86f9-c72bbbcb5890', '142f7098-f432-48fe-810e-3fec89363e41', 'baa2e8a4-ed1b-4b7a-81af-e8bc5c15e605', '1d3a2a65-32d2-41dd-a0a1-0930bfaaf694', '6c2a5e43-07b9-47de-a891-df0952cea6bf', '934197ec-8c15-4a0f-aa78-29cb29fdcec2', '1a4f6c34-fa62-4442-8f33-23fffaeafc89', '4cb04562-a6c8-4d02-88e9-f1acfe5927a1', 'af16ac0c-4348-43af-8ca4-83eb9b1c64d9', '580c96cb-53f6-4f87-97a6-43b9a9934fe4', 'd166961c-4d41-454a-bbc0-3e3b8b9fc336', '881467fe-ec4f-4016-8df2-283f144f2b40', '365f7a45-f22c-432f-ad47-af43996fdf70', 'bcf0ff5e-3d45-437a-be27-145881347ba6', 'dbf20163-a27c-4627-95ee-03fd0947dcb5', '32aafd1a-79f9-4b29-89af-9a35dec97246', '3fe787db-03a9-471a-849e-40dffe226e8a', '344149c0-19f5-4870-a9fa-57381f15e599', '4be453c4-c1f4-4598-ac0c-d1b73ae176e6', 'b87bfb3a-05b3-432a-bfe2-faa01b7a31ce', '4876156a-1c06-41e1-a676-6d7dab366553', '62b80768-eeee-4a5a-aeda-baa574b3934f', '39d71669-d3db-4e07-81f9-8911259f4b36', '5a8fdaf9-b5c5-4e8b-b697-90667a2a5f7c', '29231198-4cfa-432d-83fc-120bb828e50a', 'c288abe7-4211-4d3d-b2b6-64de3edc8c59', 'f6c1758c-1d2b-463e-b020-e0f49ed10339', '487f2ada-f92c-4a17-a841-7dd577143104', 'd5d942da-b174-4d85-be4b-907563680d86', '233dfae6-46d5-425c-b56c-811aef15df67', '3372419a-207e-4e97-9f82-6f86a0ba2258', 'b592225d-f336-4342-9b30-a7e0ece5bc32', '8d324f96-d06e-48fd-a479-d0ae0cbdb7f6', '40105ab7-6e28-4c92-8da1-f2dee28c26ca', '4da62412-959a-4875-833f-a46e285dda20', 'a8c1dd7f-e49b-4710-89ed-4151cead065d', '48db2237-07f7-47e1-8648-96ede77a4481', 'caeecb26-d925-4875-9841-8a1ab129f44c', '46b16166-c62f-47a7-b0b9-df7c38a662c3', '86c3c194-df32-4bf7-bfb7-13c1a31c4c1d', 'bdfecb69-6cdc-4fbf-be7e-1fcda6a99fd8', '2a43f66b-c06d-4197-9420-86767ba90a23', 'd7d69af4-6b0d-4361-9b7d-896a0bf57b6d', '047e9d8c-1f4c-435f-81c8-a5c609e7734b', '3f794729-7c27-43dd-8e56-ce6b2cc0e2c7', '7f2459b8-2abd-494e-87de-9868d892aa97', 'ae8e5f9f-194a-415c-bf96-5724028505d5', '5bf6ad89-88e0-4bfd-93a2-bd4a644769ad', 'db256c9b-a712-4dd5-b9ee-4b0a4735341c', '3e352ebb-2e91-44e8-90c1-9c4e6568bf45', '4147fc38-bd4b-4512-9cf8-5eb17886a747', '5d547c6a-1385-4722-9094-5ff4335d7811', 'b4dcdcaa-7a16-4dcf-8e5e-0abc84316460', 'f141fcac-b3b8-48aa-95d5-f3700b2b9de8', 'd924b316-268d-47a0-a692-1103df965d00', '83677ea3-daa2-4950-8309-33abe4e1334c', '877227db-cdc7-4fd1-9790-068288433caf', '17204b27-a84c-4149-9e1b-8e98c88e19ed', '7766c2f8-273d-4842-a1ed-474f18ef8d3d', 'e674075c-ba9f-44ac-89b0-2aea84724988', 'ac6a904b-3286-402d-975c-e9a00639b771', '071433ba-786d-4413-9475-1da1615536dd', 'e28632be-f968-4a2d-a28e-490b5493bdc2', '0ce5f3be-7e6f-41ad-9062-da172c53da71', '78dcbf4c-f04b-437e-aa09-9d478e8ca234', '53ba5a7d-60b6-4f6d-a994-06445ecc40f8', '6560509e-db18-4ac0-8eaf-0b4f22f9eb6f', 'cd0aa2ca-a790-48b7-9923-3240354b71cc', '2051ec0b-fbb3-4eb1-a1f7-2484ae908fea', '694c29c9-cbcd-4581-88d8-44304b9d4d6e', '53e7f293-5ccb-42b0-8697-d6ba7f84efe2', 'acdab973-8876-4a58-a701-97e7f30e3f0a', 'd3e1036b-b78b-461d-b3d4-e7e482932dd3']\n"
     ]
    }
   ],
   "source": [
    "print(len(problematic))\n",
    "print(problematic)"
   ]
  },
  {
   "cell_type": "code",
   "execution_count": 10,
   "metadata": {},
   "outputs": [
    {
     "name": "stdout",
     "output_type": "stream",
     "text": [
      "100\n",
      "200\n"
     ]
    }
   ],
   "source": [
    "import time\n",
    "counter = 0\n",
    "for pro in problematic:\n",
    "    counter += 1\n",
    "    status = ''\n",
    "    status = [i for i in all_fq if i['uuid'] == pro][0]['status']\n",
    "    ff_utils.patch_metadata({'status':'uploading'}, obj_id = pro, key = my_key)\n",
    "    ff_utils.patch_metadata({'status':status}, obj_id = pro, key = my_key)\n",
    "    if counter % 100 == 0:\n",
    "        print(counter)\n",
    "    "
   ]
  },
  {
   "cell_type": "code",
   "execution_count": null,
   "metadata": {},
   "outputs": [],
   "source": []
  }
 ],
 "metadata": {
  "kernelspec": {
   "display_name": "Python 3",
   "language": "python",
   "name": "python3"
  },
  "language_info": {
   "codemirror_mode": {
    "name": "ipython",
    "version": 3
   },
   "file_extension": ".py",
   "mimetype": "text/x-python",
   "name": "python",
   "nbconvert_exporter": "python",
   "pygments_lexer": "ipython3",
   "version": "3.5.2"
  }
 },
 "nbformat": 4,
 "nbformat_minor": 2
}
