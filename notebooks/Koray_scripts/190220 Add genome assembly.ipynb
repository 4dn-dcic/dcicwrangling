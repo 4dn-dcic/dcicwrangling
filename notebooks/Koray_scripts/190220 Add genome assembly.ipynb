{
 "cells": [
  {
   "cell_type": "code",
   "execution_count": 4,
   "metadata": {},
   "outputs": [
    {
     "name": "stdout",
     "output_type": "stream",
     "text": [
      "1106\n",
      "0\n"
     ]
    }
   ],
   "source": [
    "from dcicutils import ff_utils\n",
    "\n",
    "# for a given experiment set and some parameters like instrument\n",
    "# print set of files and their partA hic workflow status\n",
    "# if there are one that are running report the number of running cases\n",
    "# if there are file pairs that don't have a corresponding part A, report them separately\n",
    "\n",
    "my_env = 'data'\n",
    "my_auth = ff_utils.get_authentication_with_server({}, ff_env = my_env)\n",
    "\n",
    "\n",
    "file_not_found = 0\n",
    "deleted = 0\n",
    "uploading = 0\n",
    "success = 0\n",
    "patch_problem = 0\n",
    "\n",
    "\n",
    "files_resp = ff_utils.search_metadata('/search/?genome_assembly=No+value&type=FileProcessed', key=my_auth)\n",
    "print(len(files_resp))\n",
    "file_resp_with_exp = [i for i in files_resp if i.get('source_experiments')]\n",
    "\n",
    "print (len(file_resp_with_exp))"
   ]
  },
  {
   "cell_type": "code",
   "execution_count": 7,
   "metadata": {},
   "outputs": [
    {
     "name": "stdout",
     "output_type": "stream",
     "text": [
      "2019-02-19T16:41:32.648164+00:00\n",
      "2018-09-19T21:35:08.573201+00:00\n",
      "2018-09-19T21:35:05.881690+00:00\n",
      "2018-09-19T21:35:03.066250+00:00\n",
      "2018-09-19T21:35:00.037004+00:00\n",
      "2018-09-19T21:34:57.394694+00:00\n",
      "2018-09-19T21:34:55.044139+00:00\n",
      "2018-09-19T21:34:52.874260+00:00\n",
      "2018-09-19T21:34:50.541988+00:00\n",
      "2018-09-19T21:34:48.340571+00:00\n"
     ]
    }
   ],
   "source": [
    "for i in files_resp[:10]:\n",
    "    print(i['date_created'])"
   ]
  },
  {
   "cell_type": "code",
   "execution_count": 2,
   "metadata": {},
   "outputs": [
    {
     "name": "stdout",
     "output_type": "stream",
     "text": [
      "4DNFI3GVC2IV human GRCh38\n",
      "4DNFIML8PC27 human GRCh38\n"
     ]
    }
   ],
   "source": [
    "mapper = {\n",
    "    'human':'GRCh38',\n",
    "    'mouse':'GRCm38',\n",
    "    'chicken': 'galGal5',\n",
    "    'fruit-fly': 'dm6'\n",
    "}\n",
    "\n",
    "action = True\n",
    "for a_file in file_resp_with_exp: \n",
    "    exp = a_file['source_experiments'][0]\n",
    "    exp_resp = ff_utils.get_metadata(exp, key=my_auth)\n",
    "    biosample = exp_resp['biosample']\n",
    "    organism = list(set([bs['individual']['organism']['name'] for bs in biosample['biosource']]))[0]\n",
    "    g_a = mapper.get(organism)\n",
    "    if not g_a:\n",
    "        print(a_file['accession'], organism, 'not mapped')\n",
    "        continue\n",
    "\n",
    "    print (a_file['accession'], organism, g_a)\n",
    "    patch_data = {'genome_assembly': g_a}\n",
    "    if action:\n",
    "        ff_utils.patch_metadata(patch_data, obj_id=a_file['uuid'] , key=my_auth)"
   ]
  },
  {
   "cell_type": "code",
   "execution_count": null,
   "metadata": {},
   "outputs": [],
   "source": []
  }
 ],
 "metadata": {
  "anaconda-cloud": {},
  "kernelspec": {
   "display_name": "Python 3",
   "language": "python",
   "name": "python3"
  },
  "language_info": {
   "codemirror_mode": {
    "name": "ipython",
    "version": 3
   },
   "file_extension": ".py",
   "mimetype": "text/x-python",
   "name": "python",
   "nbconvert_exporter": "python",
   "pygments_lexer": "ipython3",
   "version": "3.5.2"
  }
 },
 "nbformat": 4,
 "nbformat_minor": 2
}
