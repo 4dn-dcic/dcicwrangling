{
 "cells": [
  {
   "cell_type": "code",
   "execution_count": null,
   "metadata": {},
   "outputs": [],
   "source": [
    "from dcicutils import ff_utils\n",
    "from functions.notebook_functions import *\n",
    "\n",
    "keys = open('/Users/koray/keypairs.json', 'r').read()\n",
    "my_key = json.loads(keys)['koray_data']\n",
    "schema_name = get_schema_names(my_key)   \n",
    "pub1 = '9c94ba12-dfc9-40a7-b37e-018e919c3528'  #Bonora et al\n",
    "pub2 = '1d9ba65e-4fb5-445b-9d7f-7c2e8e3c9a8a' #Paul Fields et al\n",
    "pub3 = '8aeb7ef2-26e2-4458-99df-64d57e97cde8' #Deng X et al\n",
    "\n",
    "pub = pub3\n",
    "store_dict = {} \n",
    "item_uuids = []\n",
    "store, uuids = record_object(pub, store_dict, item_uuids, my_key, schema_name, add_pc_wfr=True)\n",
    "\n",
    "print(len(uuids))\n",
    "print(len(list(set(uuids))))"
   ]
  },
  {
   "cell_type": "code",
   "execution_count": null,
   "metadata": {},
   "outputs": [],
   "source": [
    "for a_type in store:\n",
    "    if a_type in ['quality_metric_pairsqc', 'quality_metric_fastqc', 'workflow_run_awsem', 'file_processed']:\n",
    "        no_cl = 0\n",
    "        jsons = store[a_type]\n",
    "        print(a_type, len(jsons))\n",
    "        for a_json in jsons:\n",
    "            if not a_json.get('contributing_labs'):\n",
    "                print('no cl', a_json['uuid'])\n",
    "                no_cl += 1\n",
    "        # make sure all runs are successful\n",
    "        if a_type == 'workflow_run_awsem':\n",
    "            for a_json in jsons:\n",
    "                if a_json['run_status'] != 'complete':\n",
    "                    print(a_json['uuid'])\n",
    "        print(no_cl)\n",
    "        print"
   ]
  },
  {
   "cell_type": "code",
   "execution_count": null,
   "metadata": {},
   "outputs": [],
   "source": [
    "noble_uuid = 'a0812d8f-a4cc-4dbe-bd22-76e6e573b5ed'\n",
    "\n",
    "for a_type in store:\n",
    "    if a_type in ['quality_metric_pairsqc', 'quality_metric_fastqc', 'workflow_run_awsem', 'file_processed']:\n",
    "        jsons = store[a_type]\n",
    "        for a_json in jsons:\n",
    "            try:\n",
    "                current_cont_labs = a_json['contributing_labs']\n",
    "            except:\n",
    "                print('skipping', a_json['uuid'])\n",
    "            if noble_uuid not in current_cont_labs:\n",
    "                current_cont_labs.append(noble_uuid)\n",
    "                ff_utils.patch_metadata({'contributing_labs':current_cont_labs}, a_json['uuid'], key=my_key)\n",
    "        print('patched',a_type, len(jsons))\n",
    "                \n"
   ]
  },
  {
   "cell_type": "code",
   "execution_count": null,
   "metadata": {},
   "outputs": [],
   "source": []
  }
 ],
 "metadata": {
  "kernelspec": {
   "display_name": "Python 3",
   "language": "python",
   "name": "python3"
  },
  "language_info": {
   "codemirror_mode": {
    "name": "ipython",
    "version": 3
   },
   "file_extension": ".py",
   "mimetype": "text/x-python",
   "name": "python",
   "nbconvert_exporter": "python",
   "pygments_lexer": "ipython3",
   "version": "3.5.2"
  }
 },
 "nbformat": 4,
 "nbformat_minor": 2
}
