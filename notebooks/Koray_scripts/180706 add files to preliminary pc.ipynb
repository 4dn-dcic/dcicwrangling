{
 "cells": [
  {
   "cell_type": "code",
   "execution_count": 3,
   "metadata": {},
   "outputs": [],
   "source": [
    "from dcicutils import ff_utils\n",
    "import sys\n",
    "\n",
    "env = 'data'\n",
    "my_auth = ff_utils.get_authentication_with_server({}, ff_env = env)\n",
    "\n",
    "item_id = '4DNEX21WVKWL'\n",
    "list_pc = ['4DNFIXMYQ168']\n",
    "\n",
    "datam = [\n",
    "[\"4DNEXRJN8UYK\",[\"4DNFI82LFVU2\"]],\n",
    "[\"4DNEXLLYE3XZ\",[\"4DNFI4VYGN5E\"]],\n",
    "[\"4DNEXJG75QSO\",[\"4DNFINA3EEXC\"]],\n",
    "[\"4DNEXUUUTV7X\",[\"4DNFIH2A8IVJ\"]],\n",
    "[\"4DNEXKCVV4IB\",[\"4DNFI4T4975S\"]]\n",
    "]\n",
    "\n",
    "for item_id, list_pc in datam:\n",
    "    pc_set_title = \"Preliminary Alignment Files\"\n",
    "    # get the existing data in other pc\n",
    "    patch_data = ff_utils.get_metadata(item_id, ff_env=env).get('other_processed_files')\n",
    "    if patch_data:\n",
    "        # does the same title exist\n",
    "        if pc_set_title in [i['title'] for i in patch_data]:\n",
    "            print(item_id, 'already has preliminary results')\n",
    "            sys.exit()\n",
    "        else:\n",
    "            pass\n",
    "    else:\n",
    "        patch_data = []\n",
    "\n",
    "    new_data = {'title': pc_set_title,\n",
    "                'type': 'preliminary',\n",
    "                'files': list_pc}\n",
    "    patch_data.append(new_data)\n",
    "    patch = {'other_processed_files': patch_data}\n",
    "    ff_utils.patch_metadata(patch, obj_id=item_id, key=my_auth)\n",
    "\n",
    "\n"
   ]
  },
  {
   "cell_type": "code",
   "execution_count": null,
   "metadata": {
    "collapsed": true
   },
   "outputs": [],
   "source": []
  }
 ],
 "metadata": {
  "anaconda-cloud": {},
  "kernelspec": {
   "display_name": "Python 3",
   "language": "python",
   "name": "python3"
  },
  "language_info": {
   "codemirror_mode": {
    "name": "ipython",
    "version": 3
   },
   "file_extension": ".py",
   "mimetype": "text/x-python",
   "name": "python",
   "nbconvert_exporter": "python",
   "pygments_lexer": "ipython3",
   "version": "3.5.2"
  }
 },
 "nbformat": 4,
 "nbformat_minor": 2
}
