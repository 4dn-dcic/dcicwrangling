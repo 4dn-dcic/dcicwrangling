{
 "cells": [
  {
   "cell_type": "code",
   "execution_count": 1,
   "metadata": {},
   "outputs": [
    {
     "name": "stdout",
     "output_type": "stream",
     "text": [
      "365\n"
     ]
    }
   ],
   "source": [
    "from dcicutils import ff_utils\n",
    "from functions.wfr import *\n",
    "from functions.wfr_settings import *\n",
    "from functions.notebook_functions import *\n",
    "\n",
    "# tibanna = Tibanna(env=env)\n",
    "my_env = 'data'\n",
    "my_key = get_key('koray_data')\n",
    "\n",
    "\n",
    "query = '/search/?type=ExperimentSetReplicate&completed_processes!=No value'\n",
    "comp = ff_utils.search_metadata(query, my_key)\n",
    "\n",
    "print(len(comp))\n",
    "    "
   ]
  },
  {
   "cell_type": "code",
   "execution_count": 8,
   "metadata": {},
   "outputs": [
    {
     "name": "stdout",
     "output_type": "stream",
     "text": [
      "ENCODE_ChIP_Pipeline_1.1.1 \t\t 4\n",
      "RepliSeq_Pipeline_v16_step1 \t\t 44\n",
      "HiC_Pipeline_0.2.5-skipped-small-set \t\t 55\n",
      "RepliSeq_Pipeline_v14_step1 \t\t 32\n",
      "HiC_Pipeline_0.2.5 \t\t 191\n",
      "ENCODE_ATAC_Pipeline_1.1.1 \t\t 2\n",
      "RepliSeq_Pipeline_v13.1_step1 \t\t 37\n"
     ]
    }
   ],
   "source": [
    "comp_p = [i['completed_processes'][0] for i in comp]\n",
    "from collections import Counter\n",
    "for i,v in Counter(comp_p).items():\n",
    "    print(i,'\\t\\t',v)\n"
   ]
  },
  {
   "cell_type": "code",
   "execution_count": 12,
   "metadata": {},
   "outputs": [
    {
     "name": "stdout",
     "output_type": "stream",
     "text": [
      "********++++++++++++++*+++++*+++++++++++++++++*++*************+**********************************************************************************************************************************************++++++*++++++++++************************"
     ]
    }
   ],
   "source": [
    "for resp in comp:\n",
    "    if resp['completed_processes'][0] == 'HiC_Pipeline_0.2.5-skipped-small-set':\n",
    "        print('+', end= \"\")\n",
    "        ff_utils.patch_metadata({'completed_processes':[\"HiC_Pipeline_0.2.6_skipped-small-set\"]},  resp['accession'], my_key)\n",
    "        \n",
    "    elif resp['completed_processes'][0] == 'HiC_Pipeline_0.2.5':\n",
    "        print('*', end= \"\")\n",
    "        ff_utils.patch_metadata({'completed_processes':[\"HiC_Pipeline_0.2.6\"]}, resp['accession'], my_key)\n",
    "    "
   ]
  },
  {
   "cell_type": "code",
   "execution_count": null,
   "metadata": {},
   "outputs": [],
   "source": []
  }
 ],
 "metadata": {
  "kernelspec": {
   "display_name": "Python 3",
   "language": "python",
   "name": "python3"
  },
  "language_info": {
   "codemirror_mode": {
    "name": "ipython",
    "version": 3
   },
   "file_extension": ".py",
   "mimetype": "text/x-python",
   "name": "python",
   "nbconvert_exporter": "python",
   "pygments_lexer": "ipython3",
   "version": "3.5.2"
  }
 },
 "nbformat": 4,
 "nbformat_minor": 2
}
