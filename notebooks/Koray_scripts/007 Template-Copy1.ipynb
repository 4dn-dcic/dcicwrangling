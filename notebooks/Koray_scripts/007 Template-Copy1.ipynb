{
 "cells": [
  {
   "cell_type": "code",
   "execution_count": 1,
   "metadata": {},
   "outputs": [],
   "source": [
    "from dcicutils import ff_utils\n",
    "from functions.notebook_functions import *\n",
    "\n",
    "# get key from file\n",
    "my_key = get_key('koray_data')\n",
    "# all usable env names\n",
    "all_envs = ['data', 'staging', 'fourfront-webdev', 'fourfront-mastertest', 'fourfront-hotseat']\n",
    "# get admin key from s3\n",
    "#my_key = ff_utils.get_authentication_with_server({}, ff_env = 'data')"
   ]
  },
  {
   "cell_type": "code",
   "execution_count": 17,
   "metadata": {},
   "outputs": [
    {
     "name": "stdout",
     "output_type": "stream",
     "text": [
      "102\n"
     ]
    }
   ],
   "source": [
    "q = '/search/?experimentset_type=replicate&type=ExperimentSetReplicate&experiments_in_set.experiment_type=CUT%26RUN&experiments_in_set.experiment_type=ChIP-seq&experiments_in_set.experiment_type=NAD-seq&status=pre-release&status=released&status=released%20to%20project'\n",
    "gen = ff_utils.search_metadata(q, key=my_key)\n",
    "print(len(gen))"
   ]
  },
  {
   "cell_type": "code",
   "execution_count": 20,
   "metadata": {},
   "outputs": [
    {
     "name": "stdout",
     "output_type": "stream",
     "text": [
      "4DNESO2RRVT8;ChIP-seq;ChIP-seq of  CTCF-AID washed off mouse embryonic stem cells after being treated with auxin targetting H3K27me3 gene;;;4DNEXRZ99IR1;1;1;4DNEX7ICLCEK;;\n",
      "4DNESO2RRVT8;ChIP-seq;ChIP-seq of  CTCF-AID washed off mouse embryonic stem cells after being treated with auxin targetting H3K27me3 gene;;;4DNEXKASK5O3;2;1;4DNEXZTMNGRQ;;\n",
      "4DNES6VO5VSG;ChIP-seq;ChIP-seq of CTCF-AID mouse embryonic stem cells treated with Auxin for 4 days targetting H3K27me3 gene;;;4DNEXX785YMJ;1;1;4DNEX7ICLCEK;;\n",
      "4DNES6VO5VSG;ChIP-seq;ChIP-seq of CTCF-AID mouse embryonic stem cells treated with Auxin for 4 days targetting H3K27me3 gene;;;4DNEXT9LL8UQ;2;1;4DNEXZTMNGRQ;;\n",
      "4DNESKIB4QKT;ChIP-seq;ChIP-seq of CTCF-AID mouse embryonic stem cells treated with Auxin for 2 days targetting H3K27me3 gene;;;4DNEXN8YEAD3;1;1;4DNEX7ICLCEK;;\n",
      "4DNESKIB4QKT;ChIP-seq;ChIP-seq of CTCF-AID mouse embryonic stem cells treated with Auxin for 2 days targetting H3K27me3 gene;;;4DNEXJDEKKSA;2;1;4DNEXZTMNGRQ;;\n",
      "4DNESVCBVRHM;ChIP-seq;ChIP-seq of untreated CTCF-AID mouse embryonic stem cells targetting H3K27me3 gene;;;4DNEX83C6KCD;1;1;4DNEX7ICLCEK;;\n",
      "4DNESVCBVRHM;ChIP-seq;ChIP-seq of untreated CTCF-AID mouse embryonic stem cells targetting H3K27me3 gene;;;4DNEXK7KILCH;2;1;4DNEXZTMNGRQ;;\n",
      "4DNES7KIE2LD;ChIP-seq;ChIP-seq of  CTCF-AID washed off mouse embryonic stem cells after being treated with auxin;;;4DNEXYG3DZJV;1;1;4DNEX9SC3PDL;;\n",
      "4DNES7KIE2LD;ChIP-seq;ChIP-seq of  CTCF-AID washed off mouse embryonic stem cells after being treated with auxin;;;4DNEX38VY66O;2;1;4DNEXFLHRRKB;;\n",
      "4DNES49QC878;ChIP-seq;ChIP-seq of  CTCF-AID mouse embryonic stem cells treated with Auxin for 2 days;;;4DNEXAAVO648;1;1;4DNEX9SC3PDL;;\n",
      "4DNES49QC878;ChIP-seq;ChIP-seq of  CTCF-AID mouse embryonic stem cells treated with Auxin for 2 days;;;4DNEXAPQ7OXR;2;1;4DNEXFLHRRKB;;\n",
      "4DNESIO87EN4;ChIP-seq;ChIP-seq of untreated CTCF-AID mouse embryonic stem cells targetting CTCF gene;;;4DNEXKOVD9PE;1;1;4DNEX9SC3PDL;;\n",
      "4DNESIO87EN4;ChIP-seq;ChIP-seq of untreated CTCF-AID mouse embryonic stem cells targetting CTCF gene;;;4DNEXSKYULWX;2;1;4DNEXFLHRRKB;;\n",
      "4DNESPY1NI26;ChIP-seq;ChIP-seq of NIPBL KO hepatocytes using anti-H3K4Me3;Histone mod ChIP-seq [29094699];NIPBL KO - anti-H3K4Me3;4DNEXXXIOKBI;1;1;4DNEXRKHOMEW;270;200-350\n",
      "4DNESNRB3TT6;ChIP-seq;ChIP-seq of NIPBL KO hepatocytes using anti-H3K27Ac;Histone mod ChIP-seq [29094699];NIPBL KO - anti-H3K27Ac;4DNEX8V44BHD;1;1;4DNEX6C8NI2O;270;200-350\n",
      "4DNES9GHAPEX;ChIP-seq;Input control for histone-mod Chip-seq of NIPBL KO hepatocytes (induced with TAM);Histone mod ChIP-seq [29094699];NIPBL KO - input only;4DNEXMKH6JLR;1;1;4DNEX25CHVSY;270;200-350\n",
      "4DNESWBS1FVN;ChIP-seq;ChIP-seq of TAM control hepatocytes using anti-CTCF;Cohesin ChIP-seq [29094699];control - anti-CTCF;4DNEXOSXHO66;1;1;4DNEXEZFZZVS;;\n",
      "4DNESOMKLZSI;ChIP-seq;ChIP-seq of NIPBL KO hepatocytes using anti-CTCF;Cohesin ChIP-seq [29094699];NIPBL KO - anti-CTCF;4DNEXQS3ZW9D;1;1;4DNEXHCTLOZC;;\n",
      "4DNESG1WF34H;ChIP-seq;ChIP-seq of TAM control hepatocytes using anti-Rad21;Cohesin ChIP-seq [29094699];control - anti-Rad21;4DNEXQGJSG3K;1;1;4DNEXEZFZZVS;;\n",
      "4DNESZ8BKGUV;ChIP-seq;ChIP-seq of NIPBL KO hepatocytes using anti-Rad21;Cohesin ChIP-seq [29094699];NIPBL KO - anti-Rad21;4DNEXY6I748W;1;1;4DNEXHCTLOZC;;\n",
      "4DNESEZVPO8G;ChIP-seq;ChIP-seq of TAM control hepatocytes using anti-SMC3;Cohesin ChIP-seq [29094699];control - anti-SMC;4DNEXZUM182F;1;1;4DNEXEZFZZVS;;\n",
      "4DNESRIK1N34;ChIP-seq;ChIP-seq of NIPBL KO hepatocytes using anti-SMC3;Cohesin ChIP-seq [29094699];NIPBL KO - anti-SMC;4DNEXIGHV74M;1;1;4DNEXHCTLOZC;;\n",
      "4DNESK46EYO5;ChIP-seq;Chip-seq with anti-Pol2A on undifferentiated cells with JQ1;;;4DNEX2U75BEV;1;1;4DNEXFCY2R8H;349;\n",
      "4DNESK46EYO5;ChIP-seq;Chip-seq with anti-Pol2A on undifferentiated cells with JQ1;;;4DNEX84CCNLO;2;1;4DNEXLH32WQP;348;\n",
      "4DNESK46EYO5;ChIP-seq;Chip-seq with anti-Pol2A on undifferentiated cells with JQ1;;;4DNEXTWNEAEY;3;1;4DNEX4QCG8RU;347;\n",
      "4DNESHX5CM31;ChIP-seq;Chip-seq with anti-Pol2A on differentiated cells with triptolide;;;4DNEX4D879J3;1;1;4DNEXGX9TY6L;345;\n",
      "4DNESHX5CM31;ChIP-seq;Chip-seq with anti-Pol2A on differentiated cells with triptolide;;;4DNEXJB36I4I;2;1;4DNEXIG7INVJ;347;\n",
      "4DNESHX5CM31;ChIP-seq;Chip-seq with anti-Pol2A on differentiated cells with triptolide;;;4DNEX8IV7Z3G;3;1;4DNEX2YTDQGM;345;\n",
      "4DNESMX5EBFU;ChIP-seq;Chip-seq with anti-Pol2A on differentiated cells with flavopiridol;;;4DNEXLZ9YE52;1;1;4DNEXGX9TY6L;359;\n",
      "4DNESMX5EBFU;ChIP-seq;Chip-seq with anti-Pol2A on differentiated cells with flavopiridol;;;4DNEXX5S7M1I;2;1;4DNEXIG7INVJ;356;\n",
      "4DNESMX5EBFU;ChIP-seq;Chip-seq with anti-Pol2A on differentiated cells with flavopiridol;;;4DNEXK33Y5QC;3;1;4DNEX2YTDQGM;345;\n",
      "4DNESRHWL6VD;ChIP-seq;Chip-seq with anti-Pol2A on differentiated cells with JQ1;;;4DNEX68E4R7E;1;1;4DNEXSJUQGDQ;324;\n",
      "4DNESRHWL6VD;ChIP-seq;Chip-seq with anti-Pol2A on differentiated cells with JQ1;;;4DNEXB8OOG9A;2;1;4DNEXXMOKLHD;318;\n",
      "4DNESRHWL6VD;ChIP-seq;Chip-seq with anti-Pol2A on differentiated cells with JQ1;;;4DNEXTP8DP3Y;3;1;4DNEXO9QSVCK;325;\n"
     ]
    }
   ],
   "source": [
    "l = ['4DNESO2RRVT8', '4DNES6VO5VSG', '4DNESKIB4QKT', '4DNESVCBVRHM', '4DNES7KIE2LD', '4DNES49QC878', '4DNESIO87EN4', '4DNESPY1NI26', '4DNESNRB3TT6', '4DNES9GHAPEX', '4DNESWBS1FVN', '4DNESOMKLZSI', '4DNESG1WF34H', '4DNESZ8BKGUV', '4DNESEZVPO8G', '4DNESRIK1N34', '4DNESK46EYO5', '4DNESHX5CM31', '4DNESMX5EBFU', '4DNESRHWL6VD']\n",
    "\n",
    "for le in l:\n",
    "    f = ff_utils.get_metadata(le, key=my_key)\n",
    "    desc = f['description']\n",
    "    datas = f.get('dataset_label',\"\")\n",
    "    condition = f.get('condition',\"\")\n",
    "    replicate_exps = f['replicate_exps']\n",
    "    replicate_exps = sorted(replicate_exps, key = lambda x: [x['bio_rep_no'], x['tec_rep_no']])\n",
    "    r_no = len(replicate_exps)\n",
    "    for n, i in enumerate(replicate_exps):\n",
    "        b = i['bio_rep_no']\n",
    "        t = i['tec_rep_no']\n",
    "        expacc = i['replicate_exp']['@id'].split('/')[2]\n",
    "        exp_resp = ff_utils.get_metadata(expacc, key=my_key)\n",
    "        exp_type = exp_resp['experiment_type']\n",
    "        control = ''\n",
    "        exp_relation = exp_resp.get('experiment_relation')\n",
    "        if exp_relation:\n",
    "            rel_type = [i['relationship_type'] for i in exp_relation]\n",
    "            if 'control for' in rel_type:\n",
    "                control = \"control experiment\"\n",
    "                break\n",
    "            elif 'controlled by' in rel_type:\n",
    "                controls = [i['experiment'] for i in exp_relation if i['relationship_type'] == 'controlled by']\n",
    "        \n",
    "                if len(controls) != 1:\n",
    "                    control = 'MULTI ' + \", \".join([i['@id'].split('/')[2] for i in controls])\n",
    "                else:\n",
    "                    control = controls[0]['@id'].split('/')[2]\n",
    "        else:\n",
    "            control = 'no info'\n",
    "        size = str(exp_resp.get('average_fragment_size', \"\"))\n",
    "        size_r = exp_resp.get('fragment_size_range', \"\")\n",
    "        print(\";\".join([f['accession'],exp_type, desc, datas, condition, expacc, str(b), str(t), control, size, size_r]))\n",
    "            "
   ]
  },
  {
   "cell_type": "code",
   "execution_count": null,
   "metadata": {},
   "outputs": [],
   "source": []
  },
  {
   "cell_type": "code",
   "execution_count": null,
   "metadata": {},
   "outputs": [],
   "source": []
  }
 ],
 "metadata": {
  "kernelspec": {
   "display_name": "Python 3",
   "language": "python",
   "name": "python3"
  },
  "language_info": {
   "codemirror_mode": {
    "name": "ipython",
    "version": 3
   },
   "file_extension": ".py",
   "mimetype": "text/x-python",
   "name": "python",
   "nbconvert_exporter": "python",
   "pygments_lexer": "ipython3",
   "version": "3.5.2"
  }
 },
 "nbformat": 4,
 "nbformat_minor": 2
}
