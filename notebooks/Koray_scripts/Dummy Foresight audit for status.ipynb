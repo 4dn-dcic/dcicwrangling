{
 "cells": [
  {
   "cell_type": "code",
   "execution_count": null,
   "metadata": {},
   "outputs": [],
   "source": [
    "### A showcase for foursight audit of status check\n",
    "### 1) get all main node (exp set, exp, publication, etc) uuids\n",
    "### 2) loop thorugh them, fetch all related items\n",
    "### 3) on the collection of items, run the status comparison, main node being the reference\n",
    "\n",
    "from dcicutils import ff_utils\n",
    "from functions.notebook_functions import *\n",
    "import time\n",
    "time1 = time.time()\n",
    "\n",
    "env = 'data'\n",
    "my_auth = get_key('koray_data')\n",
    "schema_name = get_schema_names(my_auth) \n",
    "\n",
    "sets_url = '/search/?status=in+review+by+lab&type=ExperimentSetReplicate&field=uuid'\n",
    "all_sets = [i['uuid'] for i in ff_utils.search_metadata(sets_url, key = my_auth)]\n",
    "print(len(sets_resp), 'exps found')\n",
    "\n",
    "def get_time(time_1):\n",
    "    time2 = time.time()\n",
    "    diff = time2-time_1\n",
    "    if diff>60: \n",
    "        diff_p = str((diff)/60)[:3]+' min' \n",
    "    else: \n",
    "        diff_p = str(diff)[:3] + ' sec'\n",
    "    return diff_p\n",
    "\n",
    "print(get_time(time1))"
   ]
  },
  {
   "cell_type": "code",
   "execution_count": null,
   "metadata": {},
   "outputs": [],
   "source": [
    "def status_check(store):\n",
    "    # this status dic is not meant to be accurate, just for testing.\n",
    "    # I assume the main item to be an experiment set, but can be adjusted to accept any type.\n",
    "    status_dic = {\n",
    "        'deleted':0,\n",
    "        'replaced': 0,\n",
    "        'in review by lab': 1,\n",
    "        'in review by project': 1,\n",
    "        'uploaded': 1,\n",
    "        'released to project': 2,\n",
    "        'released': 3,\n",
    "        'current':3\n",
    "    }\n",
    "    main_item = store['experiment_set_replicate']\n",
    "    assert len(main_item) == 1 # did the store collected more then one items\n",
    "    main_status = main_item[0]['status']\n",
    "    status_report = []\n",
    "    for a_type in store:\n",
    "        type_status = [(i['@id'], i['status']) for i in store[a_type] if status_dic[i['status']] < status_dic[main_status]]\n",
    "        \n",
    "        status_report.extend(type_status)\n",
    "    return status_report\n"
   ]
  },
  {
   "cell_type": "code",
   "execution_count": null,
   "metadata": {},
   "outputs": [],
   "source": [
    "time1 = time.time()\n",
    "\n",
    "for a_set in all_sets:\n",
    "    time_set_1 = time.time()\n",
    "    store, uuids = record_object_es([a_set], my_auth, schema_name, store_frame='object')\n",
    "    print(get_time(time_set_1), a_set, len(uuids))\n",
    "    statuses = status_check(store)\n",
    "    print(len(statuses))\n",
    "    print(statuses)\n",
    "    print()\n",
    "    \n",
    "print('total', get_time(time1))"
   ]
  },
  {
   "cell_type": "code",
   "execution_count": null,
   "metadata": {},
   "outputs": [],
   "source": []
  }
 ],
 "metadata": {
  "kernelspec": {
   "display_name": "Python 3",
   "language": "python",
   "name": "python3"
  },
  "language_info": {
   "codemirror_mode": {
    "name": "ipython",
    "version": 3
   },
   "file_extension": ".py",
   "mimetype": "text/x-python",
   "name": "python",
   "nbconvert_exporter": "python",
   "pygments_lexer": "ipython3",
   "version": "3.5.2"
  }
 },
 "nbformat": 4,
 "nbformat_minor": 2
}
