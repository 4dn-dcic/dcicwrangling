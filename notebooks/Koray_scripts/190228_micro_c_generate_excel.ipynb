{
 "cells": [
  {
   "cell_type": "code",
   "execution_count": 6,
   "metadata": {},
   "outputs": [
    {
     "name": "stdout",
     "output_type": "stream",
     "text": [
      "205\n"
     ]
    }
   ],
   "source": [
    "from dcicutils import ff_utils\n",
    "from functions.notebook_functions import *\n",
    "import xlrd\n",
    "import xlwt\n",
    "import json\n",
    "\n",
    "# get key from keypairs.json\n",
    "key_name = 'koray_data'\n",
    "my_key = get_key(key_name)\n",
    "schema_name = get_schema_names(my_key) \n",
    "\n",
    "# template excel\n",
    "excel_file = '/Users/koray/Github/Submit4DN/fields.xls'\n",
    "\n",
    "# 2 microc datasets\n",
    "exp_sets = ['9a361b5c-1278-44fe-a90e-c88d4544bdca', # H1 ESC\n",
    "            'a9007b58-6a8c-4d22-8f6f-f9f347e58165'  # HFFc6\n",
    "           ]\n",
    "\n",
    "all_items, uuids = ff_utils.expand_es_metadata(exp_sets, my_key, ignore_field=['attachment'])\n",
    "\n",
    "# delete empty aliases key\n",
    "for key, value in all_items.items():\n",
    "    for i in value:\n",
    "        if i.get('aliases', 'None') == []:\n",
    "            del i['aliases']\n",
    "\n",
    "print(len(uuids))\n"
   ]
  },
  {
   "cell_type": "code",
   "execution_count": 7,
   "metadata": {},
   "outputs": [
    {
     "name": "stdout",
     "output_type": "stream",
     "text": [
      "enzyme 2\n",
      "experiment_set_replicate 2\n",
      "protocol 11\n",
      "static_section 1\n",
      "vendor 3\n",
      "file_fastq 44\n",
      "experiment_atacseq 2\n",
      "image 3\n",
      "user 10\n",
      "biosource 1\n",
      "biosample 4\n",
      "individual_human 1\n",
      "experiment_hi_c 9\n",
      "biosample_cell_culture 4\n"
     ]
    }
   ],
   "source": [
    "for key, value in all_items.items():\n",
    "    \n",
    "    all_items[key] = sorted(all_items[key], key=lambda k: k.get('aliases', [\"\"]))\n",
    "\n",
    "excel_items = {}\n",
    "for key, value in all_items.items():\n",
    "    listnew = []\n",
    "    for i in value:\n",
    "        if i.get('aliases'):\n",
    "            listnew.append(i)\n",
    "    if listnew:\n",
    "        excel_items[key] = listnew\n",
    "\n",
    "for i in excel_items:\n",
    "    print(i, len(excel_items[i]))\n"
   ]
  },
  {
   "cell_type": "code",
   "execution_count": 8,
   "metadata": {},
   "outputs": [
    {
     "name": "stdout",
     "output_type": "stream",
     "text": [
      "new excel is stored as template_with_items.xls\n"
     ]
    }
   ],
   "source": [
    "schema_name = get_schema_names(my_key) \n",
    "append_items_to_xls('template.xls', excel_items, schema_name)"
   ]
  },
  {
   "cell_type": "code",
   "execution_count": null,
   "metadata": {},
   "outputs": [],
   "source": []
  }
 ],
 "metadata": {
  "anaconda-cloud": {},
  "kernelspec": {
   "display_name": "Python 3",
   "language": "python",
   "name": "python3"
  },
  "language_info": {
   "codemirror_mode": {
    "name": "ipython",
    "version": 3
   },
   "file_extension": ".py",
   "mimetype": "text/x-python",
   "name": "python",
   "nbconvert_exporter": "python",
   "pygments_lexer": "ipython3",
   "version": "3.5.2"
  }
 },
 "nbformat": 4,
 "nbformat_minor": 2
}
