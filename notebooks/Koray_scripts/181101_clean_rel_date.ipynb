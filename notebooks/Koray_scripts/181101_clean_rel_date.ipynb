{
 "cells": [
  {
   "cell_type": "code",
   "execution_count": 2,
   "metadata": {},
   "outputs": [],
   "source": [
    "from dcicutils import ff_utils\n",
    "from functions.notebook_functions import *\n",
    "\n",
    "# get key from file\n",
    "my_key = get_key('koray_data')\n",
    "\n",
    "# all usable env names\n",
    "all_envs = ['data', 'staging', 'fourfront-webdev', 'fourfront-mastertest', 'fourfront-hotseat']\n",
    "# get admin key from s3\n",
    "#my_key = ff_utils.get_authentication_with_server({}, ff_env = 'data')"
   ]
  },
  {
   "cell_type": "code",
   "execution_count": 3,
   "metadata": {},
   "outputs": [
    {
     "name": "stdout",
     "output_type": "stream",
     "text": [
      "dict_keys(['lab', 'replicate_exps', 'accession', 'aliases', 'award', 'last_modified', 'submitted_by', 'dbxrefs', 'completed_processes', 'display_title', 'description', 'experimentset_type', '@id', 'publications_of_set', 'actions', 'number_of_experiments', 'principals_allowed', '@context', 'experiments_in_set', 'uuid', 'audit', 'status', 'static_headers', 'schema_version', 'date_created', 'other_processed_files', 'external_references', 'contributing_labs', 'link_id', 'public_release', '@type'])\n"
     ]
    }
   ],
   "source": [
    "q = '/search/?lab.display_title=4DN+DCIC%2C+HMS&type=FileReference'\n",
    "gen = ff_utils.get_metadata('dekker-lab:ExperimentSet_Encode_HeLa-Replicates', key=my_key)\n",
    "print(gen.keys())"
   ]
  },
  {
   "cell_type": "code",
   "execution_count": 11,
   "metadata": {},
   "outputs": [],
   "source": [
    "exps = gen['replicate_exps']\n",
    "for exp in exps:\n",
    "    exp_id = exp['replicate_exp']['accession']\n",
    "    exp_resp = ff_utils.get_metadata(exp_id, key=my_key)\n",
    "    files = exp_resp['files']\n",
    "    for i in files:\n",
    "        ff_utils.patch_metadata({}, obj_id = i['accession'], key=my_key, add_on = \"delete_fields=public_release,project_release\")"
   ]
  }
 ],
 "metadata": {
  "kernelspec": {
   "display_name": "Python 3",
   "language": "python",
   "name": "python3"
  },
  "language_info": {
   "codemirror_mode": {
    "name": "ipython",
    "version": 3
   },
   "file_extension": ".py",
   "mimetype": "text/x-python",
   "name": "python",
   "nbconvert_exporter": "python",
   "pygments_lexer": "ipython3",
   "version": "3.5.2"
  }
 },
 "nbformat": 4,
 "nbformat_minor": 2
}
