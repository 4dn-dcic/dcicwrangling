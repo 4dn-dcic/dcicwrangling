{
 "cells": [
  {
   "cell_type": "code",
   "execution_count": 1,
   "metadata": {},
   "outputs": [],
   "source": [
    "from dcicutils import ff_utils\n",
    "from functions.notebook_functions import *\n",
    "\n",
    "# get key from file\n",
    "my_key = get_key('koray_data')\n",
    "\n",
    "# all usable env names\n",
    "all_envs = ['data', 'staging', 'fourfront-webdev', 'fourfront-mastertest', 'fourfront-hotseat']\n",
    "# get admin key from s3\n",
    "#my_key = ff_utils.get_authentication_with_server({}, ff_env = 'data')"
   ]
  },
  {
   "cell_type": "code",
   "execution_count": 2,
   "metadata": {},
   "outputs": [],
   "source": [
    "input_json = \"\"\"{\n",
    "  \"app_name\": \"md5\",\n",
    "  \"parameters\": {},\n",
    "  \"_tibanna\": {\n",
    "    \"run_type\": \"md5\",\n",
    "    \"run_id\": \"4DNFIN8EBKGZ.fastq.gz\",\n",
    "    \"url\": \"https://console.aws.amazon.com/states/home?region=us-east-1#/executions/details/arn:aws:states:us-east-1:643366669028:execution:tibanna_pony:validate_4DNFIN8EBKGZ8870f3ae-2524-409c-9d80-18222cc4e535\",\n",
    "    \"exec_arn\": \"arn:aws:states:us-east-1:643366669028:execution:tibanna_pony:validate_4DNFIN8EBKGZ8870f3ae-2524-409c-9d80-18222cc4e535\",\n",
    "    \"env\": \"fourfront-webprod\",\n",
    "    \"run_name\": \"validate_4DNFIN8EBKGZ8870f3ae-2524-409c-9d80-18222cc4e535\"\n",
    "  },\n",
    "  \"output_bucket\": \"elasticbeanstalk-fourfront-webprod-wfoutput\",\n",
    "  \"config\": {\n",
    "    \"ebs_type\": \"io1\",\n",
    "    \"json_bucket\": \"4dn-aws-pipeline-run-json\",\n",
    "    \"ebs_iops\": 500,\n",
    "    \"shutdown_min\": 30,\n",
    "    \"key_name\": \"\",\n",
    "    \"password\": \"thisisnotmypassword\",\n",
    "    \"log_bucket\": \"tibanna-output\"\n",
    "  },\n",
    "  \"workflow_uuid\": \"c77a117b-9a58-477e-aaa5-291a109a99f6\",\n",
    "  \"input_files\": [\n",
    "    {\n",
    "      \"object_key\": \"4DNFIN8EBKGZ.fastq.gz\",\n",
    "      \"bucket_name\": \"elasticbeanstalk-fourfront-webprod-files\",\n",
    "      \"workflow_argument_name\": \"input_file\",\n",
    "      \"uuid\": \"e05a285c-911e-49b7-bd41-0cb9193319ec\"\n",
    "    }\n",
    "  ]\n",
    "}\"\"\""
   ]
  },
  {
   "cell_type": "code",
   "execution_count": 3,
   "metadata": {},
   "outputs": [
    {
     "data": {
      "text/plain": [
       "{'ResponseMetadata': {'HTTPHeaders': {'content-length': '1379',\n",
       "   'content-type': 'application/x-amz-json-1.0',\n",
       "   'x-amzn-requestid': 'cd10cd15-ac58-11e8-93ca-519efd03daad'},\n",
       "  'HTTPStatusCode': 200,\n",
       "  'RequestId': 'cd10cd15-ac58-11e8-93ca-519efd03daad',\n",
       "  'RetryAttempts': 0},\n",
       " 'executionArn': 'arn:aws:states:us-east-1:643366669028:execution:tibanna_pony:md5_4DNFIN8EBKGZ.fastq.gz',\n",
       " 'input': '{\"parameters\": {}, \"_tibanna\": {\"run_type\": \"md5\", \"run_id\": \"4DNFIN8EBKGZ.fastq.gz\", \"url\": \"https://console.aws.amazon.com/states/home?region=us-east-1#/executions/details/arn:aws:states:us-east-1:643366669028:execution:tibanna_pony:md5_4DNFIN8EBKGZ.fastq.gz\", \"exec_arn\": \"arn:aws:states:us-east-1:643366669028:execution:tibanna_pony:md5_4DNFIN8EBKGZ.fastq.gz\", \"env\": \"fourfront-webprod\", \"run_name\": \"md5_4DNFIN8EBKGZ.fastq.gz\"}, \"env_name\": \"fourfront-webprod2\", \"output_bucket\": \"elasticbeanstalk-fourfront-webprod-wfoutput\", \"app_name\": \"md5\", \"config\": {\"ebs_type\": \"io1\", \"key_name\": \"\", \"json_bucket\": \"4dn-aws-pipeline-run-json\", \"shutdown_min\": 30, \"ebs_iops\": 500, \"password\": \"thisisnotmypassword\", \"log_bucket\": \"tibanna-output\"}, \"workflow_uuid\": \"c77a117b-9a58-477e-aaa5-291a109a99f6\", \"input_files\": [{\"uuid\": \"e05a285c-911e-49b7-bd41-0cb9193319ec\", \"bucket_name\": \"elasticbeanstalk-fourfront-webprod-files\", \"workflow_argument_name\": \"input_file\", \"object_key\": \"4DNFIN8EBKGZ.fastq.gz\"}]}',\n",
       " 'name': 'md5_4DNFIN8EBKGZ.fastq.gz',\n",
       " 'startDate': '2018-08-30 13:30:01.877000+00:00',\n",
       " 'stateMachineArn': 'arn:aws:states:us-east-1:643366669028:stateMachine:tibanna_pony',\n",
       " 'status': 'RUNNING'}"
      ]
     },
     "execution_count": 3,
     "metadata": {},
     "output_type": "execute_result"
    }
   ],
   "source": [
    "import ast\n",
    "\n",
    "def loose_persona(inp_json):\n",
    "    assert isinstance(inp_json, str)\n",
    "    inp_json = inp_json.strip()\n",
    "    inp_json = inp_json.replace('false', 'False')\n",
    "    inp_json = inp_json.replace('true', 'True')\n",
    "    inp_json = ast.literal_eval(inp_json)\n",
    "    temp_tib = inp_json['_tibanna']\n",
    "    del temp_tib['run_name']\n",
    "    del temp_tib['url']\n",
    "    del temp_tib['exec_arn']\n",
    "    inp_json['_tibanna'] = temp_tib\n",
    "    return inp_json\n",
    "\n",
    "input_dict = loose_persona(input_json)\n",
    "ff_utils.post_metadata(input_dict, 'WorkflowRun/run', key=my_key)"
   ]
  },
  {
   "cell_type": "code",
   "execution_count": null,
   "metadata": {},
   "outputs": [],
   "source": []
  }
 ],
 "metadata": {
  "kernelspec": {
   "display_name": "Python 3",
   "language": "python",
   "name": "python3"
  },
  "language_info": {
   "codemirror_mode": {
    "name": "ipython",
    "version": 3
   },
   "file_extension": ".py",
   "mimetype": "text/x-python",
   "name": "python",
   "nbconvert_exporter": "python",
   "pygments_lexer": "ipython3",
   "version": "3.5.2"
  }
 },
 "nbformat": 4,
 "nbformat_minor": 2
}
