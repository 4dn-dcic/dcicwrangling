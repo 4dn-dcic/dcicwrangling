{
 "cells": [
  {
   "cell_type": "code",
   "execution_count": null,
   "metadata": {},
   "outputs": [],
   "source": [
    "from dcicutils import ff_utils\n",
    "from functions.notebook_functions import *\n",
    "from functions.cleanup import *\n",
    "import time\n",
    "time1 = time.time()\n",
    "\n",
    "my_key = get_key('koray_data')\n",
    "all_users = ff_utils.search_metadata('/search/?type=user', my_key)\n",
    "print(len(all_users), 'users found')\n"
   ]
  },
  {
   "cell_type": "code",
   "execution_count": null,
   "metadata": {
    "scrolled": false
   },
   "outputs": [],
   "source": [
    "for case in Text.split('\\n'):\n",
    "    if not case:\n",
    "        print('-------')\n",
    "        continue\n",
    "    \n",
    "    case = case.lower().strip()\n",
    "    user = [i for i in all_users if i['email'].lower() == case]\n",
    "    if len(user) == 1:\n",
    "        print(user[0]['uuid'])\n",
    "    else:\n",
    "        print('not on system')\n",
    "        \n",
    "    #print(case, len(user))\n",
    "    "
   ]
  },
  {
   "cell_type": "code",
   "execution_count": null,
   "metadata": {},
   "outputs": [],
   "source": [
    "for case in Text2.split('\\n'):\n",
    "    ele = [x.lower().strip() for x in case.split('\\t')]\n",
    "    user = [i for i in all_users if i['email'].lower().strip == ele[2]]\n",
    "    if len(user) == 1:\n",
    "        print(user[0]['uuid'])\n",
    "        continue\n",
    "\n",
    "    user = [i for i in all_users if i['last_name'].lower().strip() == ele[1]]\n",
    "    if len(user) > 0:\n",
    "        print(ele)\n",
    "        for u in user:\n",
    "            print(u['email'], u['first_name'], u['last_name'])\n",
    "        print()\n"
   ]
  },
  {
   "cell_type": "code",
   "execution_count": null,
   "metadata": {},
   "outputs": [],
   "source": [
    "import json\n",
    "# user data\n",
    "f = open(')\n",
    "dicto = json.loads(f.read())\n",
    "print(len(dicto))\n",
    "dicto = [i for i in dicto if i.get('Email')]\n",
    "\n",
    "print(len(dicto))\n",
    "all_data = []\n",
    "all_cs = []\n",
    "found = 0\n",
    "nfound = 0\n",
    "\n",
    "for i in all_users:\n",
    "    em = i['email']\n",
    "    \n",
    "    match = False\n",
    "    cs = []\n",
    "    count = 0\n",
    "    for x in dicto:\n",
    "        em2 = x['Email']\n",
    "        c = x['Connection']\n",
    "        if em.lower().strip() == em2.lower().strip():\n",
    "            #print(em2, c)\n",
    "            match = True\n",
    "            cs.append(c)\n",
    "            log = x['Logins Count']\n",
    "            count += log\n",
    "    cs = sorted(cs)\n",
    "    \n",
    "    cs = ' | '.join(cs)\n",
    "    all_cs.append(cs)\n",
    "    \n",
    "\n",
    "    if match:\n",
    "        found += 1\n",
    "        all_data.append({'mail':em, 'count':count, 'services': cs})\n",
    "    else:\n",
    "        nfound += 1\n",
    "print(found, nfound)"
   ]
  },
  {
   "cell_type": "code",
   "execution_count": null,
   "metadata": {},
   "outputs": [],
   "source": [
    "for case in Text.split('\\n'):\n",
    "    if not case:\n",
    "        print('-------')\n",
    "        continue\n",
    "    \n",
    "    case = case.lower().strip()\n",
    "    user = [i for i in all_data if i['mail'].lower().strip() == case]\n",
    "    if len(user) > 0:\n",
    "        serv = user[0]['services']\n",
    "        if 'google-oauth2' in serv:\n",
    "            print('google')\n",
    "        elif 'github' in serv:\n",
    "            print('github')\n",
    "        else:\n",
    "            print(serv)\n",
    "    else:\n",
    "        print('n/a')"
   ]
  },
  {
   "cell_type": "code",
   "execution_count": null,
   "metadata": {},
   "outputs": [],
   "source": []
  }
 ],
 "metadata": {
  "kernelspec": {
   "display_name": "Python 3",
   "language": "python",
   "name": "python3"
  },
  "language_info": {
   "codemirror_mode": {
    "name": "ipython",
    "version": 3
   },
   "file_extension": ".py",
   "mimetype": "text/x-python",
   "name": "python",
   "nbconvert_exporter": "python",
   "pygments_lexer": "ipython3",
   "version": "3.5.2"
  }
 },
 "nbformat": 4,
 "nbformat_minor": 2
}
