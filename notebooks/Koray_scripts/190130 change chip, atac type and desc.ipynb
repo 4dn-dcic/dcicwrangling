{
 "cells": [
  {
   "cell_type": "code",
   "execution_count": 7,
   "metadata": {},
   "outputs": [
    {
     "name": "stdout",
     "output_type": "stream",
     "text": [
      "208\n"
     ]
    }
   ],
   "source": [
    "from dcicutils import ff_utils\n",
    "from functions.wfr import *\n",
    "from functions.wfr_settings import *\n",
    "from functions.notebook_functions import *\n",
    "\n",
    "# tibanna = Tibanna(env=env)\n",
    "my_env = 'data'\n",
    "my_key = get_key('koray_data')\n",
    "\n",
    "\n",
    "wfr_url = '/search/?type=WorkflowRunAwsem&workflow.title=Chip-seq+data+processing+pipeline%2C+Align-only%2C+ChIP&workflow.title=Chip-seq+data+processing+pipeline%2C+Align-only%2C+Control&workflow.title=Chip-seq+data+processing+pipeline%2C+post-alignment&workflow.title=ATAC-seq+data+processing+pipeline%2C+Align-only&workflow.title=ATAC-seq+data+processing+pipeline%2C+post-alignment'\n",
    "all_wfrs = ff_utils.search_metadata(wfr_url , key=my_key)\n",
    "print(len(all_wfrs))"
   ]
  },
  {
   "cell_type": "code",
   "execution_count": 12,
   "metadata": {},
   "outputs": [
    {
     "name": "stdout",
     "output_type": "stream",
     "text": [
      "[['chip.first_ta_ctl', 'read positions', 'Positions of aligned reads in bed format, one line per read mate, for control experiment, from ENCODE ChIP-Seq Pipeline']]\n"
     ]
    }
   ],
   "source": [
    "# copy paste from google sheet (chip data)\n",
    "text = '''chip.first_ta\tread positions\tPositions of aligned reads in bed format, one line per read mate, from ENCODE ChIP-Seq Pipeline\n",
    "chip.first_ta_xcor\tintermediate file\tRead Positions file used for QC\n",
    "chip.first_ta_ctl\tread positions - control\tPositions of aligned reads in bed format, one line per read mate, for control experiment, from ENCODE ChIP-Seq Pipeline\n",
    "chip.optimal_peak\tpeaks\tPeak calls from ENCODE ChIP-Seq Pipeline\n",
    "chip.conservative_peak\tconservative peaks\tConservative peak calls from ENCODE ChIP-Seq Pipeline\n",
    "chip.sig_fc\tsignal fold change\tChIP-seq signal fold change over input control\n",
    "atac.first_ta\tread positions\tPositions of aligned reads in bed format, one line per read mate, from ENCODE ATAC-Seq Pipeline\n",
    "atac.optimal_peak\tpeaks\tPeak calls from ENCODE ATAC-Seq Pipeline\n",
    "atac.conservative_peak\tconservative peaks\tConservative peak calls from ENCODE ATAC-Seq Pipeline\n",
    "atac.sig_fc\tsignal fold change\tATAC-seq signal fold change'''\n",
    "\n",
    "datam = [i.split('\t') for i in text.split('\\n')]\n",
    "#print(datam)"
   ]
  },
  {
   "cell_type": "code",
   "execution_count": 13,
   "metadata": {
    "scrolled": true
   },
   "outputs": [
    {
     "name": "stdout",
     "output_type": "stream",
     "text": [
      "++++++++++++++++++++++++++++++"
     ]
    }
   ],
   "source": [
    "action = True\n",
    "delw = 0\n",
    "delf = 0\n",
    "for i in all_wfrs: \n",
    "    title = i['title']\n",
    "    new_title = title.replace('0.2.5', '1.1.1')\n",
    "    #ff_utils.patch_metadata({'title': new_title}, obj_id = i['uuid'], key=my_key)\n",
    "    for o in i['output_files']:\n",
    "        if o.get('value'):\n",
    "            ud = o['value']['uuid']\n",
    "            arg = o['workflow_argument_name']\n",
    "            for d in datam:\n",
    "                if arg == d[0]:\n",
    "                    ff_utils.patch_metadata({'file_type': d[1],\n",
    "                                            'description':d[2]}, \n",
    "                                            obj_id=ud ,key=my_key)\n",
    "                    print('+', end = '')\n",
    "       "
   ]
  },
  {
   "cell_type": "code",
   "execution_count": 14,
   "metadata": {},
   "outputs": [
    {
     "name": "stdout",
     "output_type": "stream",
     "text": [
      "+++++++++++++++++++++++++++++++++++++++++++++++++++++++++++++++++++++++++++++++++++++++++++++++++++++++++++++++++++++++++++++++++++++++++++++++++++++++++++++++++++++++++++++++++++++++++++++++++++++++++++++++++++++++++++++++++++++++++++++++++++++++++++++++++++++++++++++++++++++++++++++++++++++++++++++++++++++++++++++++++++++++++++++++++++++++++++++++++++++++++++++++++++++++++++++++++++++++++++++++++++++++++++++++++++++++++++++++++++++++++++++++++++++++++++++++++++++++++++++++++++++++++++++++++++++++++++++++++++++++++++++++++++++++++++++++++++++++++++++++++++++++++++++++++++++++++++++++++++++++++++++++++++++++++++++++++++++++++++++++++++++++++++++++++++++++++++++++++++++++++++++++++++++++++++++++++++++++++++++++++++++++++++++++++++++++++++++++++++++++++++++++++++++++++++++++++++++++++++++++++++++++++++++++++++++++++++++++++++++++++++++++++++++++++++++++++++++++++++++++++++++++++++++++++++++++++++++++++++++++++++++++++++++++++++++++++++++++++++++++++++++++++++++++++++++++++++++++++++++++++++++++++++++++++++++++++++++++++++++++++++++++++++++++++++++++++++++++++++++++++++++++++++++++++++++++++++++++++++++++++++++"
     ]
    }
   ],
   "source": [
    "#patch files to trigger indexing when secondary queue is crazy\n",
    "for i in all_wfrs: \n",
    "    for o in i['input_files']:\n",
    "        if o.get('value'):\n",
    "            print('+', end='')\n",
    "            ud = o['value']['uuid']\n",
    "            ff_utils.patch_metadata({'notes': \"\"}, obj_id=ud ,key=my_key)\n",
    "     "
   ]
  },
  {
   "cell_type": "code",
   "execution_count": null,
   "metadata": {},
   "outputs": [],
   "source": []
  }
 ],
 "metadata": {
  "kernelspec": {
   "display_name": "Python 3",
   "language": "python",
   "name": "python3"
  },
  "language_info": {
   "codemirror_mode": {
    "name": "ipython",
    "version": 3
   },
   "file_extension": ".py",
   "mimetype": "text/x-python",
   "name": "python",
   "nbconvert_exporter": "python",
   "pygments_lexer": "ipython3",
   "version": "3.5.2"
  }
 },
 "nbformat": 4,
 "nbformat_minor": 2
}
