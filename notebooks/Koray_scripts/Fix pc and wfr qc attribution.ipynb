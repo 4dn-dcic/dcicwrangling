{
 "cells": [
  {
   "cell_type": "code",
   "execution_count": 2,
   "metadata": {},
   "outputs": [
    {
     "name": "stdout",
     "output_type": "stream",
     "text": [
      "469\n"
     ]
    }
   ],
   "source": [
    "from dcicutils import ff_utils\n",
    "from functions.notebook_functions import *\n",
    "from tqdm import tqdm_notebook as tqdm\n",
    "\n",
    "my_env = 'data'\n",
    "my_key = get_key('koray_data')\n",
    "q = \"/search/?lab.display_title=4DN+DCIC%2C+HMS&type=FileProcessed\"\n",
    "all_pc_resp = ff_utils.search_metadata(q, key=my_key)\n",
    "print(len(all_pc_resp))"
   ]
  },
  {
   "cell_type": "code",
   "execution_count": null,
   "metadata": {},
   "outputs": [],
   "source": [
    "# find all runs from 4dn lab without a contributing lab\n",
    "files_with_source = [i for i in all_pc_resp if i.get('source_experiments')]\n",
    "print(len(files_with_source))\n",
    "## Patching all processed files\n",
    "FDlab = '828cd4fe-ebb0-4b36-a94a-d2e3a36cc989'\n",
    "action = True\n",
    "def get_attr_from_pc_file(file_resp):\n",
    "    lab = ''\n",
    "    award = ''\n",
    "    source_exp = file_resp['source_experiments'][0]\n",
    "    exp_info = ff_utils.get_metadata(source_exp, key=my_key, add_on='frame=raw')\n",
    "    lab = exp_info['lab']\n",
    "    award = exp_info['award']\n",
    "    cont_labs = exp_info.get('contributing_labs', [])\n",
    "    return lab, award, cont_labs\n",
    "\n",
    "counter = 0\n",
    "for a_file in files_with_source:\n",
    "    counter += 1\n",
    "    if counter % 100 == 0:\n",
    "        print(counter)\n",
    "    my_lab, my_award, my_cont_labs = get_attr_from_pc_file(a_file)\n",
    "    if my_lab in my_cont_labs:\n",
    "        print(\"PROBLEM, owner lab also in cont_labs\", skipping)\n",
    "        continue\n",
    "    if FDlab not in my_cont_labs:\n",
    "        my_cont_labs.append(FDlab)\n",
    "    patch_data = {'lab':my_lab,\n",
    "                  'award': my_award,\n",
    "                  'contributing_labs':my_cont_labs}\n",
    "    #print(patch_data)\n",
    "    if action:\n",
    "        ff_utils.patch_metadata(patch_data,obj_id=a_file['uuid'], key=my_key)"
   ]
  },
  {
   "cell_type": "code",
   "execution_count": null,
   "metadata": {},
   "outputs": [],
   "source": [
    "# find all runs from 4dn lab\n",
    "FDlab = '828cd4fe-ebb0-4b36-a94a-d2e3a36cc989'\n",
    "q = \"/search/?lab.display_title=4DN+DCIC%2C+HMS&type=WorkflowRunAwsem\"\n",
    "all_awsem_resp = ff_utils.search_metadata(q, key=my_key)\n",
    "print(len(all_awsem_resp))"
   ]
  },
  {
   "cell_type": "code",
   "execution_count": null,
   "metadata": {},
   "outputs": [],
   "source": [
    "files_with_cont_and_lab_same = []\n",
    "# add lab/award/contlab to wfrs\n",
    "counter = 0\n",
    "action = True\n",
    "acted = 0\n",
    "for a_resp in all_awsem_resp: \n",
    "    counter += 1\n",
    "    if counter % 100 == 0:\n",
    "        print(counter, acted)\n",
    "    \n",
    "    my_lab = ''\n",
    "    my_award = ''\n",
    "    my_cont_lab = ''\n",
    "    patch_data = {}\n",
    "    \n",
    "    input_files = a_resp['input_files']\n",
    "    run_on_expected = False\n",
    "    for an_input in input_files:\n",
    "        # if this wfr ran on processed files\n",
    "        input_id = an_input['value']['@id']\n",
    "        if input_id.startswith('/files-processed/'):\n",
    "            run_on_expected = True\n",
    "            input_resp = ff_utils.get_metadata(input_id, key=my_key, add_on = 'frame=raw')\n",
    "            my_lab = input_resp['lab']\n",
    "            my_award = input_resp['award']\n",
    "            my_cont_lab = input_resp.get('contributing_labs', [])\n",
    "            break\n",
    "        # if this wfr ran on raw files\n",
    "        elif input_id.startswith('/files-fastq/') or input_id.startswith('/files-microscopy/'):\n",
    "            run_on_expected = True\n",
    "            input_resp = ff_utils.get_metadata(input_id, key = my_key, add_on = 'frame=raw')\n",
    "            my_lab = input_resp['lab']\n",
    "            my_award = input_resp['award']\n",
    "            my_cont_lab = input_resp.get('contributing_labs', [])\n",
    "            break\n",
    "    # I normally exclude files reference since they are part of many runs, and often belong to dcic\n",
    "    # in a second round, if the file type is not in one if the expected ones, check what it is \n",
    "    # this case often convers md5 runs on reference files or other file types (eg filecalibration)\n",
    "    if not run_on_expected:\n",
    "        print('skipping wfr on', input_id)\n",
    "        continue\n",
    "\n",
    "    if my_lab == FDlab:\n",
    "        continue\n",
    "           \n",
    "    # if file is not from FDN(user submitted pc), add it to cont labs\n",
    "    if FDlab not in my_cont_lab:\n",
    "        my_cont_lab.append(FDlab)  \n",
    "\n",
    "    if my_lab in my_cont_lab:\n",
    "        my_cont_lab.remove(my_lab)\n",
    "        files_with_cont_and_lab_same.append(input_id)\n",
    "        print(an_input['value']['accession'], 'has lab also in cont lab')\n",
    "        \n",
    "    patch_data = {'lab':my_lab,\n",
    "                  'award': my_award}\n",
    "    if my_cont_lab:\n",
    "        patch_data['contributing_labs'] = my_cont_lab\n",
    "    if action:\n",
    "        ff_utils.patch_metadata(patch_data,obj_id=a_resp['@id'], key=my_key)\n",
    "        acted += 1\n",
    "\n"
   ]
  },
  {
   "cell_type": "code",
   "execution_count": 3,
   "metadata": {},
   "outputs": [
    {
     "name": "stdout",
     "output_type": "stream",
     "text": [
      "117\n"
     ]
    }
   ],
   "source": [
    "# find all qc from 4dn lab\n",
    "FDlab = '828cd4fe-ebb0-4b36-a94a-d2e3a36cc989'\n",
    "q = \"/search/?lab.display_title=4DN+DCIC%2C+HMS&type=QualityMetric\"\n",
    "all_qc_resp = ff_utils.search_metadata(q, key=my_key)\n",
    "print(len(all_qc_resp))"
   ]
  },
  {
   "cell_type": "code",
   "execution_count": 4,
   "metadata": {},
   "outputs": [
    {
     "data": {
      "application/vnd.jupyter.widget-view+json": {
       "model_id": "ec5da8f3bf8445f9b68bcf7ec8aae875",
       "version_major": 2,
       "version_minor": 0
      },
      "text/plain": [
       "HBox(children=(IntProgress(value=0, max=117), HTML(value='')))"
      ]
     },
     "metadata": {},
     "output_type": "display_data"
    },
    {
     "name": "stdout",
     "output_type": "stream",
     "text": [
      "100 89 0\n",
      "\n",
      "0 files not associated with qc\n"
     ]
    }
   ],
   "source": [
    "from tqdm import tqdm_notebook as tqdm\n",
    "it = 0\n",
    "changed = 0\n",
    "not_ass = []\n",
    "action = True\n",
    "for qc in tqdm(all_qc_resp):\n",
    "  \n",
    "    it += 1\n",
    "    if it % 100 == 0:\n",
    "        print(it, changed, len(not_ass))\n",
    "    ac = ''\n",
    "    try:\n",
    "        url = qc['url']\n",
    "        acs = [i[:12] for i in url.split('/') if i.startswith('4DN')]\n",
    "        if len(acs) != 1:\n",
    "            print(adana)\n",
    "        else:\n",
    "            ac = acs[0]\n",
    "    except: \n",
    "        links = ff_utils.get_metadata(qc['@id']+'@@links', my_key).get('uuids_linking_to', [])\n",
    "        files = []\n",
    "        if links:\n",
    "            files = [i['@id'] for i in links if 'file' in i['@id']]\n",
    "        else:\n",
    "            print('can not find associated files')\n",
    "            not_ass.append(qc['uuid'])\n",
    "            continue\n",
    "\n",
    "        if len(files) > 1:\n",
    "            print('multiple files associated, skipping')\n",
    "            continue\n",
    "        ac = files[0].split('/')[2]\n",
    "        \n",
    "    if not ac.startswith('4DN'):\n",
    "        print(ac)\n",
    "        print(qc['uuid'])\n",
    "        break\n",
    "        \n",
    "        \n",
    "    try:\n",
    "        file_info = ff_utils.get_metadata(ac, my_key, add_on = 'frame=raw')\n",
    "    except:\n",
    "        print(ac,'can not find, from qc', qc['uuid'] )\n",
    "    lab = file_info['lab']\n",
    "    if lab == '828cd4fe-ebb0-4b36-a94a-d2e3a36cc989':\n",
    "        continue\n",
    "        \n",
    "    award = file_info['award']\n",
    "    cont_labs = file_info.get('contributing_labs', [])\n",
    "\n",
    "    patch_data = {'lab':lab,\n",
    "                  'award': award}\n",
    "    if cont_labs:\n",
    "        patch_data['contributing_labs'] = cont_labs\n",
    "    changed += 1\n",
    "    if action:\n",
    "        ff_utils.patch_metadata(patch_data, obj_id = qc['uuid'], key=my_key)\n",
    "\n",
    " \n",
    "print(len(not_ass), 'files not associated with qc')    "
   ]
  },
  {
   "cell_type": "code",
   "execution_count": 17,
   "metadata": {},
   "outputs": [
    {
     "name": "stdout",
     "output_type": "stream",
     "text": [
      "['73ffbf1d-e446-428e-8630-cb1ea0ce3c21', '923b8cb3-d85e-47ef-84bc-8a32b7e4b7ef', '131106bc-8535-4448-903e-854abbbbbbbb', '131106bc-8535-4448-903e-8577f460bcc0']\n"
     ]
    }
   ],
   "source": [
    "print(not_ass)"
   ]
  },
  {
   "cell_type": "code",
   "execution_count": 23,
   "metadata": {},
   "outputs": [
    {
     "name": "stdout",
     "output_type": "stream",
     "text": [
      "QualityMetricFastqc from 2017-08-10 in review by lab\n",
      "WorkflowRunSbg from 2017-08-10 deleted\n",
      "WorkflowRunAwsem from 2017-09-07 deleted\n",
      "WorkflowRun from 2017-08-10 deleted\n",
      "!!! linked items\n",
      "QualityMetricDedupqcRepliseq from 2018-08-14 in review by lab\n",
      "QualityMetricDedupqcRepliseq from 2018-08-14 in review by lab\n",
      "QualityMetricPairsqc from 2017-08-10 in review by lab\n",
      "QualityMetricBamqc from 2017-08-10 in review by lab\n"
     ]
    }
   ],
   "source": [
    "del_ids =  ['131106bc-8535-4448-903e-854af460b000', '73ffbf1d-e446-428e-8630-cb1ea0ce3c21', '923b8cb3-d85e-47ef-84bc-8a32b7e4b7ef', '131106bc-8535-4448-903e-854abbbbbbbb', '131106bc-8535-4448-903e-8577f460bcc0']\n",
    "for an_id in del_ids:\n",
    "    resp = ff_utils.get_metadata(an_id, my_key)\n",
    "    print(resp['display_title'], resp['status'])\n",
    "    resplink = ff_utils.get_metadata(resp['@id']+'@@links', my_key).get('uuids_linking_to', [])\n",
    "    if resplink:\n",
    "        link_ids = [i['@id'] for i in resplink]\n",
    "        for link_id in link_ids:\n",
    "            resp2 = ff_utils.get_metadata(link_id, my_key)\n",
    "            print(resp2['display_title'], resp2['status'])\n",
    "        print('!!! linked items', )\n",
    "    ff_utils.patch_metadata({'status': 'deleted'}, obj_id = an_id, key=my_key)\n",
    "        "
   ]
  },
  {
   "cell_type": "code",
   "execution_count": null,
   "metadata": {},
   "outputs": [],
   "source": []
  }
 ],
 "metadata": {
  "anaconda-cloud": {},
  "kernelspec": {
   "display_name": "Python 3",
   "language": "python",
   "name": "python3"
  },
  "language_info": {
   "codemirror_mode": {
    "name": "ipython",
    "version": 3
   },
   "file_extension": ".py",
   "mimetype": "text/x-python",
   "name": "python",
   "nbconvert_exporter": "python",
   "pygments_lexer": "ipython3",
   "version": "3.5.2"
  }
 },
 "nbformat": 4,
 "nbformat_minor": 2
}
