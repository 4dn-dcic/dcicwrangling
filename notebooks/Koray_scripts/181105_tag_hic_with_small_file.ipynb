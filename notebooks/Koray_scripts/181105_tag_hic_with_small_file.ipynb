{
 "cells": [
  {
   "cell_type": "code",
   "execution_count": 4,
   "metadata": {},
   "outputs": [],
   "source": [
    "from dcicutils import ff_utils\n",
    "from functions.notebook_functions import *\n",
    "\n",
    "# get key from file\n",
    "my_key = get_key('koray_data')\n",
    "\n",
    "# all usable env names\n",
    "all_envs = ['data', 'staging', 'fourfront-webdev', 'fourfront-mastertest', 'fourfront-hotseat']\n",
    "# get admin key from s3\n",
    "#my_key = ff_utils.get_authentication_with_server({}, ff_env = 'data')"
   ]
  },
  {
   "cell_type": "code",
   "execution_count": 10,
   "metadata": {},
   "outputs": [
    {
     "name": "stdout",
     "output_type": "stream",
     "text": [
      "4DNESBJ1KYYH already has value ['HiC_Pipeline_0.2.5-skipped-small-set'], skipping\n",
      "4DNES21VTCK2 already has value ['HiC_Pipeline_0.2.5-skipped-small-set'], skipping\n",
      "4DNES3RHDBBR already has value ['HiC_Pipeline_0.2.5-skipped-small-set'], skipping\n",
      "4DNES4JNDDVX already has value ['HiC_Pipeline_0.2.5-skipped-small-set'], skipping\n",
      "4DNESAZ12B8V already has value ['HiC_Pipeline_0.2.5-skipped-small-set'], skipping\n",
      "4DNESCI5VSPV already has value ['HiC_Pipeline_0.2.5-skipped-small-set'], skipping\n",
      "4DNESDP9ECMN already has value ['HiC_Pipeline_0.2.5-skipped-small-set'], skipping\n",
      "4DNESE9NXACG already has value ['HiC_Pipeline_0.2.5-skipped-small-set'], skipping\n",
      "4DNESETP2XUO already has value ['HiC_Pipeline_0.2.5-skipped-small-set'], skipping\n",
      "4DNESEYETNMX already has value ['HiC_Pipeline_0.2.5-skipped-small-set'], skipping\n",
      "4DNESGW9DHH3 already has value ['HiC_Pipeline_0.2.5-skipped-small-set'], skipping\n",
      "4DNESJNPEKZD already has value ['HiC_Pipeline_0.2.5-skipped-small-set'], skipping\n",
      "4DNESSCS4D46 already has value ['HiC_Pipeline_0.2.5-skipped-small-set'], skipping\n",
      "4DNESX29AMHF already has value ['HiC_Pipeline_0.2.5-skipped-small-set'], skipping\n",
      "4DNESXTSP7H7 already has value ['HiC_Pipeline_0.2.5-skipped-small-set'], skipping\n",
      "4DNESZ2PVZWR already has value ['HiC_Pipeline_0.2.5-skipped-small-set'], skipping\n",
      "0 items patched\n"
     ]
    }
   ],
   "source": [
    "small_sets = \"\"\"4DNESBJ1KYYH\n",
    "4DNES21VTCK2\n",
    "4DNES3RHDBBR\n",
    "4DNES4JNDDVX\n",
    "4DNESAZ12B8V\n",
    "4DNESCI5VSPV\n",
    "4DNESDP9ECMN\n",
    "4DNESE9NXACG\n",
    "4DNESETP2XUO\n",
    "4DNESEYETNMX\n",
    "4DNESGW9DHH3\n",
    "4DNESJNPEKZD\n",
    "4DNESSCS4D46\n",
    "4DNESX29AMHF\n",
    "4DNESXTSP7H7\n",
    "4DNESZ2PVZWR\"\"\"\n",
    "\n",
    "it = 0\n",
    "for acc in small_sets.split('\\n'):\n",
    "    \n",
    "    resp = ff_utils.get_metadata(acc, key=my_key)\n",
    "    cp = resp.get(\"completed_processes\", None)\n",
    "    if cp:\n",
    "        print('{} already has value {}, skipping'.format(acc, cp))\n",
    "        continue\n",
    "    \n",
    "    it += 1\n",
    "    patch_data = {\"completed_processes\":[\"HiC_Pipeline_0.2.5-skipped-small-set\"], \n",
    "                  \"accession\": acc} \n",
    "    ff_utils.patch_metadata(patch_data, key=my_key)\n",
    "print(it, 'items patched')\n"
   ]
  },
  {
   "cell_type": "code",
   "execution_count": null,
   "metadata": {},
   "outputs": [],
   "source": []
  }
 ],
 "metadata": {
  "kernelspec": {
   "display_name": "Python 3",
   "language": "python",
   "name": "python3"
  },
  "language_info": {
   "codemirror_mode": {
    "name": "ipython",
    "version": 3
   },
   "file_extension": ".py",
   "mimetype": "text/x-python",
   "name": "python",
   "nbconvert_exporter": "python",
   "pygments_lexer": "ipython3",
   "version": "3.5.2"
  }
 },
 "nbformat": 4,
 "nbformat_minor": 2
}
