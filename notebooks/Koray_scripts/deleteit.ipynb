{
 "cells": [
  {
   "cell_type": "code",
   "execution_count": 10,
   "metadata": {},
   "outputs": [
    {
     "name": "stdout",
     "output_type": "stream",
     "text": [
      "{\"devices\":{\"thermostats\":{\"qWjldT3SRTPmdb3_MjWLCDXgzhKuEa_u\":{\"humidity\":30,\"locale\":\"en-US\",\"temperature_scale\":\"C\",\"is_using_emergency_heat\":false,\"has_fan\":false,\"software_version\":\"5.9.3-6\",\"has_leaf\":true,\"where_id\":\"yPbkea7BN4sMca83S9QOemxkXZeiL0oVkn5LzSCa3A9JquGI-jFeKQ\",\"device_id\":\"qWjldT3SRTPmdb3_MjWLCDXgzhKuEa_u\",\"name\":\"Living Room\",\"can_heat\":true,\"can_cool\":false,\"target_temperature_c\":12.0,\"target_temperature_f\":54,\"target_temperature_high_c\":24.0,\"target_temperature_high_f\":75,\"target_temperature_low_c\":20.0,\"target_temperature_low_f\":68,\"ambient_temperature_c\":12.5,\"ambient_temperature_f\":55,\"away_temperature_high_c\":24.0,\"away_temperature_high_f\":76,\"away_temperature_low_c\":10.0,\"away_temperature_low_f\":50,\"eco_temperature_high_c\":24.0,\"eco_temperature_high_f\":76,\"eco_temperature_low_c\":10.0,\"eco_temperature_low_f\":50,\"is_locked\":false,\"locked_temp_min_c\":20.0,\"locked_temp_min_f\":68,\"locked_temp_max_c\":22.0,\"locked_temp_max_f\":72,\"sunlight_correction_active\":false,\"sunlight_correction_enabled\":true,\"structure_id\":\"_cgw8rSzul-5ZEK9NrcS7YoKZgKAsCyeU6fPR8GGsSuAABZr5yPSKw\",\"fan_timer_active\":false,\"fan_timer_timeout\":\"1970-01-01T00:00:00.000Z\",\"fan_timer_duration\":15,\"previous_hvac_mode\":\"heat\",\"hvac_mode\":\"eco\",\"time_to_target\":\"~0\",\"time_to_target_training\":\"ready\",\"where_name\":\"Living Room\",\"label\":\"\",\"name_long\":\"Living Room Thermostat\",\"is_online\":true,\"last_connection\":\"2019-01-31T21:51:20.765Z\",\"hvac_state\":\"off\"}}},\"structures\":{\"_cgw8rSzul-5ZEK9NrcS7YoKZgKAsCyeU6fPR8GGsSuAABZr5yPSKw\":{\"name\":\"Kusyuvasi\",\"country_code\":\"US\",\"time_zone\":\"America/New_York\",\"away\":\"away\",\"thermostats\":[\"qWjldT3SRTPmdb3_MjWLCDXgzhKuEa_u\"],\"structure_id\":\"_cgw8rSzul-5ZEK9NrcS7YoKZgKAsCyeU6fPR8GGsSuAABZr5yPSKw\",\"rhr_enrollment\":false,\"wheres\":{\"yPbkea7BN4sMca83S9QOemxkXZeiL0oVkn5LzSCa3A9KraI07RVAWg\":{\"where_id\":\"yPbkea7BN4sMca83S9QOemxkXZeiL0oVkn5LzSCa3A9KraI07RVAWg\",\"name\":\"Attic\"},\"yPbkea7BN4sMca83S9QOemxkXZeiL0oVkn5LzSCa3A_U3jgHYMRJ3w\":{\"where_id\":\"yPbkea7BN4sMca83S9QOemxkXZeiL0oVkn5LzSCa3A_U3jgHYMRJ3w\",\"name\":\"Back Door\"},\"yPbkea7BN4sMca83S9QOemxkXZeiL0oVkn5LzSCa3A8uvE_qNJP3YA\":{\"where_id\":\"yPbkea7BN4sMca83S9QOemxkXZeiL0oVkn5LzSCa3A8uvE_qNJP3YA\",\"name\":\"Backyard\"},\"yPbkea7BN4sMca83S9QOemxkXZeiL0oVkn5LzSCa3A_7kJ0fnf_g0g\":{\"where_id\":\"yPbkea7BN4sMca83S9QOemxkXZeiL0oVkn5LzSCa3A_7kJ0fnf_g0g\",\"name\":\"Basement\"},\"yPbkea7BN4sMca83S9QOemxkXZeiL0oVkn5LzSCa3A8s64aYcpfDWw\":{\"where_id\":\"yPbkea7BN4sMca83S9QOemxkXZeiL0oVkn5LzSCa3A8s64aYcpfDWw\",\"name\":\"Bathroom\"},\"yPbkea7BN4sMca83S9QOemxkXZeiL0oVkn5LzSCa3A_lpO8rR_EwBg\":{\"where_id\":\"yPbkea7BN4sMca83S9QOemxkXZeiL0oVkn5LzSCa3A_lpO8rR_EwBg\",\"name\":\"Bedroom\"},\"yPbkea7BN4sMca83S9QOemxkXZeiL0oVkn5LzSCa3A9-S_nCN6JWdA\":{\"where_id\":\"yPbkea7BN4sMca83S9QOemxkXZeiL0oVkn5LzSCa3A9-S_nCN6JWdA\",\"name\":\"Deck\"},\"yPbkea7BN4sMca83S9QOemxkXZeiL0oVkn5LzSCa3A8iqKXUmNiaxg\":{\"where_id\":\"yPbkea7BN4sMca83S9QOemxkXZeiL0oVkn5LzSCa3A8iqKXUmNiaxg\",\"name\":\"Den\"},\"yPbkea7BN4sMca83S9QOemxkXZeiL0oVkn5LzSCa3A9A7hQFqDwDGg\":{\"where_id\":\"yPbkea7BN4sMca83S9QOemxkXZeiL0oVkn5LzSCa3A9A7hQFqDwDGg\",\"name\":\"Dining Room\"},\"yPbkea7BN4sMca83S9QOemxkXZeiL0oVkn5LzSCa3A8thdpuEvG4Gw\":{\"where_id\":\"yPbkea7BN4sMca83S9QOemxkXZeiL0oVkn5LzSCa3A8thdpuEvG4Gw\",\"name\":\"Downstairs\"},\"yPbkea7BN4sMca83S9QOemxkXZeiL0oVkn5LzSCa3A_XaAGIhsQTVA\":{\"where_id\":\"yPbkea7BN4sMca83S9QOemxkXZeiL0oVkn5LzSCa3A_XaAGIhsQTVA\",\"name\":\"Driveway\"},\"yPbkea7BN4sMca83S9QOemxkXZeiL0oVkn5LzSCa3A8m62UvX0BRwg\":{\"where_id\":\"yPbkea7BN4sMca83S9QOemxkXZeiL0oVkn5LzSCa3A8m62UvX0BRwg\",\"name\":\"Entryway\"},\"yPbkea7BN4sMca83S9QOemxkXZeiL0oVkn5LzSCa3A9Q0q06U_zoTQ\":{\"where_id\":\"yPbkea7BN4sMca83S9QOemxkXZeiL0oVkn5LzSCa3A9Q0q06U_zoTQ\",\"name\":\"Family Room\"},\"yPbkea7BN4sMca83S9QOemxkXZeiL0oVkn5LzSCa3A9KVtme8wArYg\":{\"where_id\":\"yPbkea7BN4sMca83S9QOemxkXZeiL0oVkn5LzSCa3A9KVtme8wArYg\",\"name\":\"Front Door\"},\"yPbkea7BN4sMca83S9QOemxkXZeiL0oVkn5LzSCa3A-GZBP9VdqObA\":{\"where_id\":\"yPbkea7BN4sMca83S9QOemxkXZeiL0oVkn5LzSCa3A-GZBP9VdqObA\",\"name\":\"Front Yard\"},\"yPbkea7BN4sMca83S9QOemxkXZeiL0oVkn5LzSCa3A8iezj_3huYQQ\":{\"where_id\":\"yPbkea7BN4sMca83S9QOemxkXZeiL0oVkn5LzSCa3A8iezj_3huYQQ\",\"name\":\"Garage\"},\"yPbkea7BN4sMca83S9QOemxkXZeiL0oVkn5LzSCa3A-X2vryFfslfw\":{\"where_id\":\"yPbkea7BN4sMca83S9QOemxkXZeiL0oVkn5LzSCa3A-X2vryFfslfw\",\"name\":\"Guest House\"},\"yPbkea7BN4sMca83S9QOemxkXZeiL0oVkn5LzSCa3A8GWFqZO5MDug\":{\"where_id\":\"yPbkea7BN4sMca83S9QOemxkXZeiL0oVkn5LzSCa3A8GWFqZO5MDug\",\"name\":\"Guest Room\"},\"yPbkea7BN4sMca83S9QOemxkXZeiL0oVkn5LzSCa3A_xG8QHQS_4WA\":{\"where_id\":\"yPbkea7BN4sMca83S9QOemxkXZeiL0oVkn5LzSCa3A_xG8QHQS_4WA\",\"name\":\"Hallway\"},\"yPbkea7BN4sMca83S9QOemxkXZeiL0oVkn5LzSCa3A_jg2nEc1WRig\":{\"where_id\":\"yPbkea7BN4sMca83S9QOemxkXZeiL0oVkn5LzSCa3A_jg2nEc1WRig\",\"name\":\"Kids Room\"},\"yPbkea7BN4sMca83S9QOemxkXZeiL0oVkn5LzSCa3A9s9e4RHzoXXg\":{\"where_id\":\"yPbkea7BN4sMca83S9QOemxkXZeiL0oVkn5LzSCa3A9s9e4RHzoXXg\",\"name\":\"Kitchen\"},\"yPbkea7BN4sMca83S9QOemxkXZeiL0oVkn5LzSCa3A9JquGI-jFeKQ\":{\"where_id\":\"yPbkea7BN4sMca83S9QOemxkXZeiL0oVkn5LzSCa3A9JquGI-jFeKQ\",\"name\":\"Living Room\"},\"yPbkea7BN4sMca83S9QOemxkXZeiL0oVkn5LzSCa3A9biddKZj_bUA\":{\"where_id\":\"yPbkea7BN4sMca83S9QOemxkXZeiL0oVkn5LzSCa3A9biddKZj_bUA\",\"name\":\"Master Bedroom\"},\"yPbkea7BN4sMca83S9QOemxkXZeiL0oVkn5LzSCa3A_f3T7IDYq_mQ\":{\"where_id\":\"yPbkea7BN4sMca83S9QOemxkXZeiL0oVkn5LzSCa3A_f3T7IDYq_mQ\",\"name\":\"Office\"},\"yPbkea7BN4sMca83S9QOemxkXZeiL0oVkn5LzSCa3A8c3Nrngqx6bg\":{\"where_id\":\"yPbkea7BN4sMca83S9QOemxkXZeiL0oVkn5LzSCa3A8c3Nrngqx6bg\",\"name\":\"Outside\"},\"yPbkea7BN4sMca83S9QOemxkXZeiL0oVkn5LzSCa3A9XGhRvMwwKYg\":{\"where_id\":\"yPbkea7BN4sMca83S9QOemxkXZeiL0oVkn5LzSCa3A9XGhRvMwwKYg\",\"name\":\"Patio\"},\"yPbkea7BN4sMca83S9QOemxkXZeiL0oVkn5LzSCa3A_7CVkFtyWo9A\":{\"where_id\":\"yPbkea7BN4sMca83S9QOemxkXZeiL0oVkn5LzSCa3A_7CVkFtyWo9A\",\"name\":\"Shed\"},\"yPbkea7BN4sMca83S9QOemxkXZeiL0oVkn5LzSCa3A_mJw0eXAeI7A\":{\"where_id\":\"yPbkea7BN4sMca83S9QOemxkXZeiL0oVkn5LzSCa3A_mJw0eXAeI7A\",\"name\":\"Side Door\"},\"yPbkea7BN4sMca83S9QOemxkXZeiL0oVkn5LzSCa3A_zn7lM3uOdbA\":{\"where_id\":\"yPbkea7BN4sMca83S9QOemxkXZeiL0oVkn5LzSCa3A_zn7lM3uOdbA\",\"name\":\"Upstairs\"}}}},\"metadata\":{\"access_token\":\"c.uImVnsKUNDvLYxOrVIQxnO6P97DZDXPlAPDj9QfyF2pyXYP8a5ZfKuy2mWePkrCQBMttpJQZhZ58dm3VDVsbBqGOzAdQW6sqn0ufnl3cTwBo0sINrumsTtmFWDnF7mwKdIhjuwxSD0NkK9s7\",\"client_version\":1,\"user_id\":\"z.1.1.9T5+IP2bLpCQdqdpnmkggqCCTGFw9o/Y8e+zF62ar08=\"}}\n",
      "https://firebase-apiserver09-tah01-iad01.dapi.production.nest.com:9553/\n"
     ]
    }
   ],
   "source": [
    "import requests\n",
    "\n",
    "url = \"my_url\"\n",
    "\n",
    "payload = \"\"\n",
    "headers = {\n",
    "    'Content-Type': \"application/json\",\n",
    "    'Authorization': \"my_token\"\n",
    "    }\n",
    "\n",
    "response = requests.request(\"GET\", url, data=payload, headers=headers)\n",
    "if response.status_code == 401:\n",
    "    response = requests.request(\"GET\", response.url, data=payload, headers=headers)\n",
    "print(response.text)\n",
    "print(response.url)"
   ]
  },
  {
   "cell_type": "code",
   "execution_count": null,
   "metadata": {},
   "outputs": [],
   "source": []
  }
 ],
 "metadata": {
  "kernelspec": {
   "display_name": "Python 3",
   "language": "python",
   "name": "python3"
  },
  "language_info": {
   "codemirror_mode": {
    "name": "ipython",
    "version": 3
   },
   "file_extension": ".py",
   "mimetype": "text/x-python",
   "name": "python",
   "nbconvert_exporter": "python",
   "pygments_lexer": "ipython3",
   "version": "3.5.2"
  }
 },
 "nbformat": 4,
 "nbformat_minor": 2
}
