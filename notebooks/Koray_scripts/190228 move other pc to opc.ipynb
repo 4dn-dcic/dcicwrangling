{
 "cells": [
  {
   "cell_type": "code",
   "execution_count": 1,
   "metadata": {},
   "outputs": [],
   "source": [
    "from dcicutils import ff_utils\n",
    "from functions.notebook_functions import *\n",
    "from tqdm import tqdm_notebook as tqdm\n",
    "from functions.cleanup import *\n",
    "\n",
    "my_env = 'data'\n",
    "my_key = get_key('koray_data')"
   ]
  },
  {
   "cell_type": "code",
   "execution_count": 2,
   "metadata": {},
   "outputs": [
    {
     "name": "stdout",
     "output_type": "stream",
     "text": [
      "4DNESLMCRW2C\n",
      "cleanup complete\n",
      "4DNESMBA9T3L\n",
      "cleanup complete\n"
     ]
    }
   ],
   "source": [
    "\n",
    "\n",
    "sets =  ['4DNESLMCRW2C', '4DNESMBA9T3L']\n",
    "    \n",
    "for my_set in sets:\n",
    "    set_resp = ff_utils.get_metadata(my_set, key=my_key, add_on='frame=raw')\n",
    "    print(set_resp['accession'])\n",
    "    exps = set_resp['experiments_in_set']\n",
    "    #ff_utils.patch_metadata({}, my_set, my_key, add_on = 'delete_fields=processed_files')\n",
    "    for exp in exps:\n",
    "        #ff_utils.patch_metadata({}, exp, my_key, add_on = 'delete_fields=processed_files')\n",
    "    print('cleanup complete')"
   ]
  },
  {
   "cell_type": "code",
   "execution_count": 8,
   "metadata": {},
   "outputs": [
    {
     "name": "stdout",
     "output_type": "stream",
     "text": [
      "\n",
      "4DNESLMCRW2C\n",
      "\n",
      "4DNESMBA9T3L\n"
     ]
    }
   ],
   "source": [
    "for my_set in sets:\n",
    "    print()\n",
    "    print(my_set)\n",
    "    store, uuids = ff_utils.expand_es_metadata([ff_utils.get_metadata(my_set,my_key)['uuid']], my_key)\n",
    "    for i,val in store.items():\n",
    "        for a_val in val:\n",
    "            if a_val['status'] not in ['released', 'released to project', 'current']:\n",
    "                print(i, a_val['uuid'], a_val['status'])"
   ]
  },
  {
   "cell_type": "code",
   "execution_count": 6,
   "metadata": {},
   "outputs": [
    {
     "name": "stdout",
     "output_type": "stream",
     "text": [
      "\n",
      "4DNESLMCRW2C\n",
      "quality_metric_atacseq baed0bfb-5fa7-47cc-b96b-b2df74e9e4b1 in review by lab\n",
      "quality_metric_atacseq 3cd0420e-a51f-4769-8257-7c163c7d5efb in review by lab\n",
      "quality_metric_atacseq 320bca3f-383a-49da-aaff-4405c99f1739 in review by lab\n",
      "\n",
      "4DNESMBA9T3L\n",
      "quality_metric_atacseq 4ac9af00-a62e-4319-a525-68f7434d7726 in review by lab\n",
      "quality_metric_atacseq f4c2837e-d9fe-4388-bedf-9887accd5f70 in review by lab\n",
      "quality_metric_atacseq eb1c5eef-bfb2-4855-95fe-5070dc946d7a in review by lab\n",
      "quality_metric_atacseq 92118296-aec3-4411-89fe-787369972a12 in review by lab\n",
      "quality_metric_atacseq 653f3310-76e2-42c6-9f7e-866ba5c9ff26 in review by lab\n",
      "quality_metric_atacseq 51d44327-024a-4e1c-8ec2-43816290eb02 in review by lab\n",
      "quality_metric_atacseq 289f6bd2-6cdf-40c7-ad54-11e8933bd55b in review by lab\n",
      "quality_metric_atacseq 17cfcae8-8ef7-41f6-a223-bfd72f720ff3 in review by lab\n",
      "quality_metric_atacseq 16aee694-0586-4aa0-aaa7-05059413c44a in review by lab\n"
     ]
    }
   ],
   "source": [
    "for my_set in sets:\n",
    "    print()\n",
    "    print(my_set)\n",
    "    store, uuids = ff_utils.expand_es_metadata([ff_utils.get_metadata(my_set,my_key)['uuid']], my_key)\n",
    "    for i,val in store.items():\n",
    "        for a_val in val:\n",
    "            if a_val['status'] not in ['released', 'released to project', 'current']:\n",
    "                print(i, a_val['uuid'], a_val['status'])\n",
    "                ff_utils.patch_metadata({'status': 'released to project'}, a_val['uuid'], my_key)"
   ]
  },
  {
   "cell_type": "code",
   "execution_count": null,
   "metadata": {},
   "outputs": [],
   "source": []
  }
 ],
 "metadata": {
  "anaconda-cloud": {},
  "kernelspec": {
   "display_name": "Python 3",
   "language": "python",
   "name": "python3"
  },
  "language_info": {
   "codemirror_mode": {
    "name": "ipython",
    "version": 3
   },
   "file_extension": ".py",
   "mimetype": "text/x-python",
   "name": "python",
   "nbconvert_exporter": "python",
   "pygments_lexer": "ipython3",
   "version": "3.5.2"
  }
 },
 "nbformat": 4,
 "nbformat_minor": 2
}
