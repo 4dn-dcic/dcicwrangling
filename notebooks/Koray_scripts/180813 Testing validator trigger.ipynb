{
 "cells": [
  {
   "cell_type": "code",
   "execution_count": 11,
   "metadata": {},
   "outputs": [],
   "source": [
    "#get json file from s3\n",
    "from dcicutils import ff_utils\n",
    "from functions.notebook_functions import *\n",
    "import json\n",
    "my_key = ff_utils.get_authentication_with_server({}, ff_env='data') "
   ]
  },
  {
   "cell_type": "code",
   "execution_count": 15,
   "metadata": {},
   "outputs": [
    {
     "data": {
      "text/plain": [
       "{'@type': ['result'], 'status': 'success'}"
      ]
     },
     "execution_count": 15,
     "metadata": {},
     "output_type": "execute_result"
    }
   ],
   "source": [
    "ff_utils.patch_metadata({'filename': 'HEK293_R1_L_fastq.gz'}, obj_id = '4DNFI2J9Z6YE', key= my_key, add_on=\"check_only=True\")      "
   ]
  },
  {
   "cell_type": "code",
   "execution_count": 16,
   "metadata": {},
   "outputs": [
    {
     "data": {
      "text/plain": [
       "{'@graph': [{'@id': '/files-fastq/4DNFI2J9Z6YE/',\n",
       "   '@type': ['FileFastq', 'File', 'Item'],\n",
       "   'accession': '4DNFI2J9Z6YE',\n",
       "   'aliases': ['gilbert-lab:HEK293_R1_L_fastq'],\n",
       "   'alternate_accessions': [],\n",
       "   'award': '/awards/1U54DK107965-01/',\n",
       "   'content_md5sum': 'd10da91d0df23fb37d621c320e77b382',\n",
       "   'date_created': '2017-08-15T22:53:04.721589+00:00',\n",
       "   'dbxrefs': [],\n",
       "   'description': 'file',\n",
       "   'display_title': '4DNFI2J9Z6YE.fastq.gz',\n",
       "   'experiments': ['/experiments-repliseq/4DNEX63QU5GZ/'],\n",
       "   'external_references': [],\n",
       "   'extra_files': [],\n",
       "   'file_classification': 'raw file',\n",
       "   'file_format': 'fastq',\n",
       "   'file_size': 605759645,\n",
       "   'file_type': 'reads',\n",
       "   'file_type_detailed': 'reads (fastq)',\n",
       "   'filename': 'HEK293_R1_L_fastq.gz',\n",
       "   'flowcell_details': [{'barcode': 'GAATTCGT-CCTATCCT',\n",
       "     'flowcell': 'H5KL7BCXY',\n",
       "     'lane': '1and2',\n",
       "     'machine': 'FSU_COM_HiSeq250'}],\n",
       "   'href': '/files-fastq/4DNFI2J9Z6YE/@@download/4DNFI2J9Z6YE.fastq.gz',\n",
       "   'instrument': 'HiSeq2500',\n",
       "   'lab': '/labs/david-gilbert-lab/',\n",
       "   'last_modified': {'date_modified': '2018-08-13T21:01:27.375308+00:00',\n",
       "    'modified_by': '/users/986b362f-4eb6-4a9c-8173-3ab267307e3a/'},\n",
       "   'link_id': '~files-fastq~4DNFI2J9Z6YE~',\n",
       "   'md5sum': '88c68c5cd38af8aaa2a99e82b5a51142',\n",
       "   'principals_allowed': {'audit': ['system.Everyone'],\n",
       "    'edit': ['group.admin'],\n",
       "    'view': ['system.Everyone']},\n",
       "   'public_release': '2017-09-05',\n",
       "   'quality_metric': '/quality-metrics-fastqc/ec1c7312-96b7-47f2-bf17-269f4284f11b/',\n",
       "   'read_length': 50,\n",
       "   'schema_version': '1',\n",
       "   'status': 'released',\n",
       "   'submitted_by': '/users/57003524-6bea-44ba-98f0-42063bf5ee9b/',\n",
       "   'tags': ['2018_01_public', '2018_01_internal'],\n",
       "   'title': '4DNFI2J9Z6YE',\n",
       "   'upload_key': '45dbc18b-cc5f-4df4-a190-3ded9b5fff9c/4DNFI2J9Z6YE.fastq.gz',\n",
       "   'uuid': '45dbc18b-cc5f-4df4-a190-3ded9b5fff9c',\n",
       "   'workflow_run_inputs': ['/workflow-runs-awsem/5861478c-512e-45a0-ab52-2ad0627a068e/',\n",
       "    '/workflow-runs-sbg/451cd381-a79e-4279-9ed5-55ecb5092e3a/',\n",
       "    '/workflow-runs-sbg/86cf03cb-294b-41b5-bda5-3d2f0f2812d9/'],\n",
       "   'workflow_run_outputs': []}],\n",
       " '@type': ['result'],\n",
       " 'status': 'success'}"
      ]
     },
     "execution_count": 16,
     "metadata": {},
     "output_type": "execute_result"
    }
   ],
   "source": [
    "ff_utils.patch_metadata({'filename': 'HEK293_R1_L_fastq.gz'}, obj_id = '4DNFI2J9Z6YE', key= my_key)      "
   ]
  },
  {
   "cell_type": "code",
   "execution_count": 7,
   "metadata": {},
   "outputs": [
    {
     "data": {
      "text/plain": [
       "{'@graph': [{'@id': '/files-fastq/4DNFI2J9Z6YE/',\n",
       "   '@type': ['FileFastq', 'File', 'Item'],\n",
       "   'accession': '4DNFI2J9Z6YE',\n",
       "   'aliases': ['gilbert-lab:HEK293_R1_L_fastq'],\n",
       "   'alternate_accessions': [],\n",
       "   'award': '/awards/1U54DK107965-01/',\n",
       "   'content_md5sum': 'd10da91d0df23fb37d621c320e77b382',\n",
       "   'date_created': '2017-08-15T22:53:04.721589+00:00',\n",
       "   'dbxrefs': [],\n",
       "   'description': 'file',\n",
       "   'display_title': '4DNFI2J9Z6YE.fastq.gz',\n",
       "   'experiments': ['/experiments-repliseq/4DNEX63QU5GZ/'],\n",
       "   'external_references': [],\n",
       "   'extra_files': [],\n",
       "   'file_classification': 'raw file',\n",
       "   'file_format': 'fastq',\n",
       "   'file_size': 605759645,\n",
       "   'file_type': 'reads',\n",
       "   'file_type_detailed': 'reads (fastq)',\n",
       "   'filename': 'HEK293_R1_L_fastq.gz',\n",
       "   'flowcell_details': [{'barcode': 'GAATTCGT-CCTATCCT',\n",
       "     'flowcell': 'H5KL7BCXY',\n",
       "     'lane': '1and2',\n",
       "     'machine': 'FSU_COM_HiSeq250'}],\n",
       "   'href': '/files-fastq/4DNFI2J9Z6YE/@@download/4DNFI2J9Z6YE.fastq.gz',\n",
       "   'instrument': 'HiSeq2500',\n",
       "   'lab': '/labs/david-gilbert-lab/',\n",
       "   'last_modified': {'date_modified': '2018-08-13T20:31:14.840653+00:00',\n",
       "    'modified_by': '/users/986b362f-4eb6-4a9c-8173-3ab267111888/'},\n",
       "   'link_id': '~files-fastq~4DNFI2J9Z6YE~',\n",
       "   'md5sum': '88c68c5cd38af8aaa2a99e82b5a51142',\n",
       "   'principals_allowed': {'audit': ['system.Everyone'],\n",
       "    'edit': ['group.admin'],\n",
       "    'view': ['system.Everyone']},\n",
       "   'public_release': '2017-09-05',\n",
       "   'quality_metric': '/quality-metrics-fastqc/ec1c7312-96b7-47f2-bf17-269f4284f11b/',\n",
       "   'read_length': 50,\n",
       "   'schema_version': '1',\n",
       "   'status': 'released',\n",
       "   'submitted_by': '/users/57003524-6bea-44ba-98f0-42063bf5ee9b/',\n",
       "   'tags': ['2018_01_public', '2018_01_internal'],\n",
       "   'title': '4DNFI2J9Z6YE',\n",
       "   'upload_key': '45dbc18b-cc5f-4df4-a190-3ded9b5fff9c/4DNFI2J9Z6YE.fastq.gz',\n",
       "   'uuid': '45dbc18b-cc5f-4df4-a190-3ded9b5fff9c',\n",
       "   'workflow_run_inputs': ['/workflow-runs-awsem/5861478c-512e-45a0-ab52-2ad0627a068e/',\n",
       "    '/workflow-runs-sbg/451cd381-a79e-4279-9ed5-55ecb5092e3a/',\n",
       "    '/workflow-runs-sbg/86cf03cb-294b-41b5-bda5-3d2f0f2812d9/'],\n",
       "   'workflow_run_outputs': []}],\n",
       " '@type': ['result'],\n",
       " 'status': 'success'}"
      ]
     },
     "execution_count": 7,
     "metadata": {},
     "output_type": "execute_result"
    }
   ],
   "source": [
    "ff_utils.patch_metadata({'description': 'file'}, obj_id = '4DNFI2J9Z6YE', key= my_key)      "
   ]
  },
  {
   "cell_type": "code",
   "execution_count": 20,
   "metadata": {},
   "outputs": [
    {
     "data": {
      "text/plain": [
       "{'@graph': [{'@id': '/files-fastq/4DNFIUBU2DDB/',\n",
       "   '@type': ['FileFastq', 'File', 'Item'],\n",
       "   'accession': '4DNFIUBU2DDB',\n",
       "   'aliases': ['dcic:testing_serious_stuff'],\n",
       "   'alternate_accessions': [],\n",
       "   'award': '/awards/1U54DK107965-01/',\n",
       "   'date_created': '2017-08-15T22:53:04.721589+00:00',\n",
       "   'dbxrefs': [],\n",
       "   'description': 'file',\n",
       "   'display_title': '4DNFIUBU2DDB.fastq.gz',\n",
       "   'experiments': [],\n",
       "   'external_references': [],\n",
       "   'extra_files': [],\n",
       "   'file_classification': 'raw file',\n",
       "   'file_format': 'fastq',\n",
       "   'file_size': 605759645,\n",
       "   'file_type': 'reads',\n",
       "   'file_type_detailed': 'reads (fastq)',\n",
       "   'flowcell_details': [{'barcode': 'GAATTCGT-CCTATCCT',\n",
       "     'flowcell': 'H5KL7BCXY',\n",
       "     'lane': '1and2',\n",
       "     'machine': 'FSU_COM_HiSeq250'}],\n",
       "   'href': '/files-fastq/4DNFIUBU2DDB/@@download/4DNFIUBU2DDB.fastq.gz',\n",
       "   'instrument': 'HiSeq2500',\n",
       "   'lab': '/labs/david-gilbert-lab/',\n",
       "   'last_modified': {'date_modified': '2018-08-13T21:05:03.554333+00:00',\n",
       "    'modified_by': '/users/986b362f-4eb6-4a9c-8173-3ab267307e3a/'},\n",
       "   'link_id': '~files-fastq~4DNFIUBU2DDB~',\n",
       "   'principals_allowed': {'audit': ['system.Everyone'],\n",
       "    'edit': ['group.admin'],\n",
       "    'view': ['system.Everyone']},\n",
       "   'public_release': '2017-09-05',\n",
       "   'quality_metric': '/quality-metrics-fastqc/ec1c7312-96b7-47f2-bf17-269f4284f11b/',\n",
       "   'read_length': 50,\n",
       "   'schema_version': '1',\n",
       "   'status': 'released',\n",
       "   'submitted_by': '/users/57003524-6bea-44ba-98f0-42063bf5ee9b/',\n",
       "   'tags': ['2018_01_public', '2018_01_internal'],\n",
       "   'title': '4DNFIUBU2DDB',\n",
       "   'upload_key': 'c7881331-b339-4527-9e72-084de6b17888/4DNFIUBU2DDB.fastq.gz',\n",
       "   'uuid': 'c7881331-b339-4527-9e72-084de6b17888',\n",
       "   'workflow_run_inputs': [],\n",
       "   'workflow_run_outputs': []}],\n",
       " '@type': ['result'],\n",
       " 'status': 'success'}"
      ]
     },
     "execution_count": 20,
     "metadata": {},
     "output_type": "execute_result"
    }
   ],
   "source": [
    "or_fname = 'HEK293_R1_L_fastq.gz'\n",
    "# ff_utils.patch_metadata({'description': 'file'}, obj_id = '4DNFI2J9Z6YE', key= my_key) \n",
    "\n",
    "raw_frame = ff_utils.get_metadata('4DNFI2J9Z6YE', key =my_key, add_on='frame=raw')\n",
    "\n",
    "del raw_frame['uuid']\n",
    "del raw_frame['aliases']\n",
    "del raw_frame['accession']\n",
    "del raw_frame['filename']\n",
    "del raw_frame['schema_version']\n",
    "del raw_frame['content_md5sum']\n",
    "del raw_frame['md5sum']\n",
    "\n",
    "\n",
    "raw_frame['aliases'] = ['dcic:testing_serious_stuff']\n",
    "\n",
    "\n",
    "ff_utils.post_metadata(raw_frame, 'FileFastq', key= my_key)\n"
   ]
  },
  {
   "cell_type": "code",
   "execution_count": 24,
   "metadata": {},
   "outputs": [
    {
     "data": {
      "text/plain": [
       "{'@graph': [{'@id': '/files-fastq/4DNFIUBU2DDB/',\n",
       "   '@type': ['FileFastq', 'File', 'Item'],\n",
       "   'accession': '4DNFIUBU2DDB',\n",
       "   'aliases': ['dcic:testing_serious_stuff'],\n",
       "   'alternate_accessions': [],\n",
       "   'award': '/awards/1U54DK107965-01/',\n",
       "   'date_created': '2017-08-15T22:53:04.721589+00:00',\n",
       "   'dbxrefs': [],\n",
       "   'description': 'file',\n",
       "   'display_title': '4DNFIUBU2DDB.fastq.gz',\n",
       "   'experiments': [],\n",
       "   'external_references': [],\n",
       "   'extra_files': [],\n",
       "   'file_classification': 'raw file',\n",
       "   'file_format': 'fastq',\n",
       "   'file_size': 605759645,\n",
       "   'file_type': 'reads',\n",
       "   'file_type_detailed': 'reads (fastq)',\n",
       "   'filename': 'HEK293_R1_L_fastq.gz',\n",
       "   'flowcell_details': [{'barcode': 'GAATTCGT-CCTATCCT',\n",
       "     'flowcell': 'H5KL7BCXY',\n",
       "     'lane': '1and2',\n",
       "     'machine': 'FSU_COM_HiSeq250'}],\n",
       "   'href': '/files-fastq/4DNFIUBU2DDB/@@download/4DNFIUBU2DDB.fastq.gz',\n",
       "   'instrument': 'HiSeq2500',\n",
       "   'lab': '/labs/david-gilbert-lab/',\n",
       "   'last_modified': {'date_modified': '2018-08-13T21:07:43.142498+00:00',\n",
       "    'modified_by': '/users/986b362f-4eb6-4a9c-8173-3ab267307e3a/'},\n",
       "   'link_id': '~files-fastq~4DNFIUBU2DDB~',\n",
       "   'principals_allowed': {'audit': ['system.Everyone'],\n",
       "    'edit': ['group.admin'],\n",
       "    'view': ['system.Everyone']},\n",
       "   'public_release': '2017-09-05',\n",
       "   'quality_metric': '/quality-metrics-fastqc/ec1c7312-96b7-47f2-bf17-269f4284f11b/',\n",
       "   'read_length': 50,\n",
       "   'schema_version': '1',\n",
       "   'status': 'released',\n",
       "   'submitted_by': '/users/57003524-6bea-44ba-98f0-42063bf5ee9b/',\n",
       "   'tags': ['2018_01_public', '2018_01_internal'],\n",
       "   'title': '4DNFIUBU2DDB',\n",
       "   'upload_key': 'c7881331-b339-4527-9e72-084de6b17888/4DNFIUBU2DDB.fastq.gz',\n",
       "   'uuid': 'c7881331-b339-4527-9e72-084de6b17888',\n",
       "   'workflow_run_inputs': [],\n",
       "   'workflow_run_outputs': []}],\n",
       " '@type': ['result'],\n",
       " 'status': 'success'}"
      ]
     },
     "execution_count": 24,
     "metadata": {},
     "output_type": "execute_result"
    }
   ],
   "source": [
    "ff_utils.patch_metadata(raw_frame,obj_id='dcic:testing_serious_stuff', key= my_key)"
   ]
  },
  {
   "cell_type": "code",
   "execution_count": null,
   "metadata": {},
   "outputs": [],
   "source": []
  }
 ],
 "metadata": {
  "kernelspec": {
   "display_name": "Python 3",
   "language": "python",
   "name": "python3"
  },
  "language_info": {
   "codemirror_mode": {
    "name": "ipython",
    "version": 3
   },
   "file_extension": ".py",
   "mimetype": "text/x-python",
   "name": "python",
   "nbconvert_exporter": "python",
   "pygments_lexer": "ipython3",
   "version": "3.5.2"
  }
 },
 "nbformat": 4,
 "nbformat_minor": 2
}
