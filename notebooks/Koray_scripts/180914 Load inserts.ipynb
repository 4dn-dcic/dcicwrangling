{
 "cells": [
  {
   "cell_type": "code",
   "execution_count": 1,
   "metadata": {},
   "outputs": [
    {
     "name": "stdout",
     "output_type": "stream",
     "text": [
      "file_format 34\n"
     ]
    }
   ],
   "source": [
    "### PLEASE COPY NOTEBOOKS TO YOUR FOLDERS TO PREVENT COMMIT CONFLICTS\n",
    "from dcicutils import ff_utils\n",
    "from functions.notebook_functions import *\n",
    "import json\n",
    "import glob\n",
    "import os\n",
    "\n",
    "insert_folder = '/Users/koray/Github/fourfront/src/encoded/tests/data/master-inserts'\n",
    "files = glob.glob(insert_folder+'/*.json')\n",
    "\n",
    "# limit to the ones you want to use\n",
    "files = [i for i in files if 'file_format' in i]\n",
    "\n",
    "store = {}\n",
    "for a_file in files:\n",
    "    temp = open(a_file, 'r')\n",
    "    f_name = os.path.basename(a_file)\n",
    "    f_name_head = f_name[:-5]\n",
    "    store[f_name_head] = json.load(temp)\n",
    "    temp.close()\n",
    "\n",
    "for i in store:\n",
    "    print(i, len(store[i]))"
   ]
  },
  {
   "cell_type": "code",
   "execution_count": 4,
   "metadata": {},
   "outputs": [
    {
     "name": "stdout",
     "output_type": "stream",
     "text": [
      "file_format\n",
      "34 items exist on source\n",
      "0 items posted to targe\n",
      "34 items will be patched in second round\n",
      "\n"
     ]
    }
   ],
   "source": [
    "only_post = False\n",
    "posted = 0\n",
    "transfer_env = 'fourfront-webdev'\n",
    "transfer_key = ff_utils.get_authentication_with_server({}, ff_env=transfer_env)\n",
    "schema_name = get_schema_names(transfer_key) \n",
    "# reverse lookup dictionary for schema names\n",
    "rev_schema_name = {}\n",
    "for key, name in schema_name.items():\n",
    "    rev_schema_name[name] = schema_name[key]\n",
    "\n",
    "my_types = [i for i in ORDER if i in store.keys()]\n",
    "second_round_items = {}\n",
    "\n",
    "# Round I - only put the required - skip if exists already\n",
    "for a_type in my_types:\n",
    "    print(a_type)\n",
    "    obj_type = rev_schema_name[a_type]\n",
    "    # find required field\n",
    "    schema_info = ff_utils.get_metadata('/profiles/{}.json'.format(a_type), key=transfer_key)\n",
    "    req_fields = schema_info['required']\n",
    "    ids = schema_info['identifyingProperties']\n",
    "    first_fields = list(set(req_fields+ids))\n",
    "    remove_existing_items = []\n",
    "    counter=0\n",
    "    print(len(store[a_type]), 'items exist on source')\n",
    "    for an_item in store[a_type]:\n",
    "        counter += 1\n",
    "        #print(counter, an_item['uuid'])\n",
    "        # does the item exist\n",
    "        exists = False\n",
    "        try:\n",
    "            # TODO check with all identifiers\n",
    "            existing = ff_utils.get_metadata(an_item['uuid'], key=transfer_key)\n",
    "            exists = True\n",
    "        except:\n",
    "            exists = False\n",
    "        if only_post:\n",
    "            # skip the items that exists\n",
    "            if exists and existing:\n",
    "                remove_existing_items.append(an_item['uuid'])\n",
    "                print(\"{} {} can not post item\".format(obj_type, an_item['file_format']))\n",
    "                continue\n",
    "        if not exists:\n",
    "            posted += 1\n",
    "            post_first = {key:value for (key,value) in an_item.items() if key in first_fields}\n",
    "            #ff_utils.post_metadata(post_first, obj_type, key = transfer_key)\n",
    "   \n",
    "    second_round_items[a_type] = [i for i in store[a_type] if i['uuid'] not in remove_existing_items]\n",
    "    print(posted, 'items posted to target')\n",
    "    print(len(second_round_items[a_type]), 'items will be patched in second round')\n",
    "    print()\n",
    "\n",
    "    "
   ]
  },
  {
   "cell_type": "code",
   "execution_count": 5,
   "metadata": {},
   "outputs": [],
   "source": [
    "# Round II - patch the rest of the metadata\n",
    "for a_type in my_types:\n",
    "    obj_type = rev_schema_name[a_type]\n",
    "    if not second_round_items[a_type]:\n",
    "        continue \n",
    "    for an_item in second_round_items[a_type]:\n",
    "        counter += 1\n",
    "        ff_utils.patch_metadata(an_item, obj_id = an_item['uuid'], key = transfer_key)"
   ]
  }
 ],
 "metadata": {
  "kernelspec": {
   "display_name": "Python 3",
   "language": "python",
   "name": "python3"
  },
  "language_info": {
   "codemirror_mode": {
    "name": "ipython",
    "version": 3
   },
   "file_extension": ".py",
   "mimetype": "text/x-python",
   "name": "python",
   "nbconvert_exporter": "python",
   "pygments_lexer": "ipython3",
   "version": "3.5.2"
  }
 },
 "nbformat": 4,
 "nbformat_minor": 2
}
