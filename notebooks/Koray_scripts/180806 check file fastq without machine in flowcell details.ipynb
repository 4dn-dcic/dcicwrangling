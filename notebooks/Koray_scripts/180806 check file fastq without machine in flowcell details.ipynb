{
 "cells": [
  {
   "cell_type": "code",
   "execution_count": 7,
   "metadata": {},
   "outputs": [
    {
     "name": "stdout",
     "output_type": "stream",
     "text": [
      "1209\n"
     ]
    }
   ],
   "source": [
    "from dcicutils import ff_utils\n",
    "from functions.notebook_functions import *\n",
    "\n",
    "my_env = 'data'\n",
    "my_key = get_key('koray_data')\n",
    "# find all runs from 4dn lab without a contributing lab\n",
    "q_d = \"/search/?type=FileFastq&status=deleted\"\n",
    "q = \"/search/?type=FileFastq\"\n",
    "all_items = ff_utils.search_metadata(q_d, key=my_key)\n",
    "print(len(all_items))"
   ]
  },
  {
   "cell_type": "code",
   "execution_count": 9,
   "metadata": {},
   "outputs": [
    {
     "name": "stdout",
     "output_type": "stream",
     "text": [
      "HiSeq 2500\n",
      "HiSeq 2500\n",
      "HiSeq 2500\n",
      "HiSeq 2500\n",
      "HiSeq 2500\n",
      "HiSeq 2500\n",
      "HiSeq 2500\n",
      "HiSeq 2500\n",
      "C-Monster\n"
     ]
    }
   ],
   "source": [
    "\n",
    "for an_item in all_items:\n",
    "    if an_item.get('flowcell_details'):\n",
    "        for cell in an_item['flowcell_details']:\n",
    "            if not cell.get('machine'):\n",
    "                print(an_item['accession'])\n",
    "            else:\n",
    "                pass\n",
    "                print(cell['machine'])"
   ]
  },
  {
   "cell_type": "code",
   "execution_count": null,
   "metadata": {},
   "outputs": [],
   "source": []
  }
 ],
 "metadata": {
  "anaconda-cloud": {},
  "kernelspec": {
   "display_name": "Python 3",
   "language": "python",
   "name": "python3"
  },
  "language_info": {
   "codemirror_mode": {
    "name": "ipython",
    "version": 3
   },
   "file_extension": ".py",
   "mimetype": "text/x-python",
   "name": "python",
   "nbconvert_exporter": "python",
   "pygments_lexer": "ipython3",
   "version": "3.5.2"
  }
 },
 "nbformat": 4,
 "nbformat_minor": 2
}
