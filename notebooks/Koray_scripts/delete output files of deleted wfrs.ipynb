{
 "cells": [
  {
   "cell_type": "code",
   "execution_count": null,
   "metadata": {},
   "outputs": [],
   "source": [
    "from dcicutils import ff_utils\n",
    "from functions.notebook_functions import *\n",
    "\n",
    "# get key from file\n",
    "my_key = get_key('koray_data')\n",
    "\n",
    "# all usable env names\n",
    "all_envs = ['data', 'staging', 'fourfront-webdev', 'fourfront-mastertest', 'fourfront-hotseat']\n",
    "# get admin key from s3\n",
    "#my_key = ff_utils.get_authentication_with_server({}, ff_env = 'data')"
   ]
  },
  {
   "cell_type": "code",
   "execution_count": null,
   "metadata": {},
   "outputs": [],
   "source": [
    "q = '/search/?type=WorkflowRun&status=deleted'\n",
    "gen = ff_utils.search_metadata(q, key=my_key)\n",
    "print(len(gen))                  "
   ]
  },
  {
   "cell_type": "code",
   "execution_count": null,
   "metadata": {},
   "outputs": [],
   "source": [
    "####  To Do   Don't run on user submited wfrs\n",
    "\n",
    "wfrs = gen\n",
    "print(len(wfrs)), 'workflowruns in the system'\n",
    "counter = 0\n",
    "deleted_output = 0\n",
    "\n",
    "for a_wfr in wfrs:\n",
    "    counter += 1\n",
    "    if counter % 100 == 0:\n",
    "        print(counter, deleted_output)\n",
    "\n",
    "    if a_wfr.get('output_files'):\n",
    "        outputs = [i.get('value') for i in a_wfr['output_files'] if i.get('value')]\n",
    "    else:\n",
    "        continue\n",
    "\n",
    "    if outputs:\n",
    "        for out_file in outputs:\n",
    "            file_status = ff_utils.get_metadata(out_file['uuid'], key=my_key, add_on='frame=raw')['status']\n",
    "            if file_status != 'deleted':\n",
    "                deleted_output += 1\n",
    "                ff_utils.patch_metadata({'status': \"deleted\"}, obj_id=out_file['uuid'] , key=my_key)\n",
    "print(deleted_output, 'output files deleted')"
   ]
  },
  {
   "cell_type": "code",
   "execution_count": null,
   "metadata": {},
   "outputs": [],
   "source": [
    "# q = '/search/?status=to+be+uploaded+by+workflow&type=FileProcessed&workflow_run_outputs.workflow.title=No+value'\n",
    "# gen = ff_utils.search_metadata(q, key=my_key)\n",
    "# print(len(gen))    "
   ]
  }
 ],
 "metadata": {
  "kernelspec": {
   "display_name": "Python 3",
   "language": "python",
   "name": "python3"
  },
  "language_info": {
   "codemirror_mode": {
    "name": "ipython",
    "version": 3
   },
   "file_extension": ".py",
   "mimetype": "text/x-python",
   "name": "python",
   "nbconvert_exporter": "python",
   "pygments_lexer": "ipython3",
   "version": "3.5.2"
  }
 },
 "nbformat": 4,
 "nbformat_minor": 2
}
