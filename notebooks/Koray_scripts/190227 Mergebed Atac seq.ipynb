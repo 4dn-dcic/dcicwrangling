{
 "cells": [
  {
   "cell_type": "code",
   "execution_count": 1,
   "metadata": {},
   "outputs": [],
   "source": [
    "from dcicutils import ff_utils\n",
    "from functions.notebook_functions import *\n",
    "from tqdm import tqdm_notebook as tqdm\n",
    "from functions.cleanup import *\n",
    "\n",
    "my_env = 'data'\n",
    "my_key = get_key('koray_data')"
   ]
  },
  {
   "cell_type": "code",
   "execution_count": null,
   "metadata": {},
   "outputs": [],
   "source": [
    "\n",
    "\n",
    "for f in ['4DNFISXAP8JT', '4DNFI7K4V7MV']:\n",
    "    a_file = ff_utils.get_metadata(f, my_key, add_on='frame=object')\n",
    "    delete_wfrs(a_file, my_key, delete=False)\n",
    "    "
   ]
  },
  {
   "cell_type": "code",
   "execution_count": 4,
   "metadata": {},
   "outputs": [
    {
     "name": "stdout",
     "output_type": "stream",
     "text": [
      "encode-atacseq-postaln old style or dub 06e4eebf-c87d-46f3-8a87-8d3a28b6cb08 4DNFIMFQVBJQ\n"
     ]
    }
   ],
   "source": [
    "for f in ['4DNFIMFQVBJQ']:\n",
    "    a_file = ff_utils.get_metadata(f, my_key, add_on='frame=object')\n",
    "    delete_wfrs(a_file, my_key, delete=True)"
   ]
  },
  {
   "cell_type": "code",
   "execution_count": null,
   "metadata": {},
   "outputs": [],
   "source": []
  }
 ],
 "metadata": {
  "anaconda-cloud": {},
  "kernelspec": {
   "display_name": "Python 3",
   "language": "python",
   "name": "python3"
  },
  "language_info": {
   "codemirror_mode": {
    "name": "ipython",
    "version": 3
   },
   "file_extension": ".py",
   "mimetype": "text/x-python",
   "name": "python",
   "nbconvert_exporter": "python",
   "pygments_lexer": "ipython3",
   "version": "3.5.2"
  }
 },
 "nbformat": 4,
 "nbformat_minor": 2
}
