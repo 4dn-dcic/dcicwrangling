{
 "cells": [
  {
   "cell_type": "code",
   "execution_count": 3,
   "metadata": {},
   "outputs": [
    {
     "name": "stdout",
     "output_type": "stream",
     "text": [
      "{'@graph': [{'award': '/awards/1U01CA200059-01/', 'display_title': '4DNFIKTVL6ZB.tiff', 'date_created': '2018-01-24T16:31:21.825695+00:00', 'aliases': ['4dn-dcic-lab:file_1'], 'status': 'uploading', 'file_type': 'z-stack', 'submitted_by': '/users/986b362f-4eb6-4a9c-8173-3ab267307e3a/', 'microscope_settings': '/microscope-settings-d2/8a7b93d2-a91a-4f57-8bc6-2fa5f3203936/', 'link_id': '~files-microscopy~4DNFIKTVL6ZB~', 'file_type_detailed': 'z-stack (tiff)', 'accession': '4DNFIKTVL6ZB', 'file_classification': 'raw file', 'last_modified': {'modified_by': '/users/986b362f-4eb6-4a9c-8173-3ab267111888/', 'date_modified': '2018-07-24T16:29:27.041759+00:00'}, 'extra_files_creds': [], 'extra_files': [], 'uuid': 'c10cf2eb-bb14-45e6-bd08-c0650083e28d', 'upload_credentials': {}, 'external_references': [], '@type': ['FileMicroscopy', 'File', 'Item'], 'experiments': [], 'principals_allowed': {'view': ['award.b0b9c607-f8b4-4f02-93f4-9895b461334b', 'group.admin', 'group.read-only-admin', 'lab.828cd4fe-ebb0-4b36-a94a-d2e3a36cc989', 'remoteuser.EMBED', 'remoteuser.INDEXER'], 'audit': ['system.Everyone'], 'edit': ['group.admin', 'submits_for.828cd4fe-ebb0-4b36-a94a-d2e3a36cc989']}, 'href': '/files-microscopy/4DNFIKTVL6ZB/@@download/4DNFIKTVL6ZB.tiff', 'lab': '/labs/4dn-dcic-lab/', 'title': '4DNFIKTVL6ZB', 'upload_key': 'c10cf2eb-bb14-45e6-bd08-c0650083e28d/4DNFIKTVL6ZB.tiff', '@id': '/files-microscopy/4DNFIKTVL6ZB/', 'schema_version': '1', 'file_format': 'tiff'}], '@type': ['result'], 'status': 'success'}\n",
      "\n",
      "{}\n"
     ]
    }
   ],
   "source": [
    "from dcicutils import ff_utils\n",
    "from functions.notebook_functions import *\n",
    "\n",
    "\n",
    "my_key = get_key('koray_data')\n",
    "file_id = \"4DNFIKTVL6ZB\"\n",
    "url = \"%s/upload/\" % (file_id)\n",
    "req = ff_utils.post_metadata({}, url, key=my_key)\n",
    "print(req)\n",
    "print()\n",
    "print(req['@graph'][0]['upload_credentials'])"
   ]
  },
  {
   "cell_type": "code",
   "execution_count": 4,
   "metadata": {},
   "outputs": [
    {
     "name": "stdout",
     "output_type": "stream",
     "text": [
      "{'@graph': [{'display_title': '4DNFIKTVL6ZB.tiff', 'award': '/awards/1U01CA200059-01/', 'aliases': ['4dn-dcic-lab:file_1'], 'status': 'uploading', 'file_type': 'z-stack', 'submitted_by': '/users/986b362f-4eb6-4a9c-8173-3ab267307e3a/', 'microscope_settings': '/microscope-settings-d2/8a7b93d2-a91a-4f57-8bc6-2fa5f3203936/', 'link_id': '~files-microscopy~4DNFIKTVL6ZB~', 'file_type_detailed': 'z-stack (tiff)', 'accession': '4DNFIKTVL6ZB', 'file_classification': 'raw file', 'last_modified': {'modified_by': '/users/986b362f-4eb6-4a9c-8173-3ab267111888/', 'date_modified': '2018-07-24T16:29:28.315414+00:00'}, 'extra_files_creds': [], 'extra_files': [], 'uuid': 'c10cf2eb-bb14-45e6-bd08-c0650083e28d', 'date_created': '2018-01-24T16:31:21.825695+00:00', 'external_references': [], '@type': ['FileMicroscopy', 'File', 'Item'], 'experiments': [], 'principals_allowed': {'view': ['award.b0b9c607-f8b4-4f02-93f4-9895b461334b', 'group.admin', 'group.read-only-admin', 'lab.828cd4fe-ebb0-4b36-a94a-d2e3a36cc989', 'remoteuser.EMBED', 'remoteuser.INDEXER'], 'audit': ['system.Everyone'], 'edit': ['group.admin', 'submits_for.828cd4fe-ebb0-4b36-a94a-d2e3a36cc989']}, 'href': '/files-microscopy/4DNFIKTVL6ZB/@@download/4DNFIKTVL6ZB.tiff', 'lab': '/labs/4dn-dcic-lab/', 'title': '4DNFIKTVL6ZB', 'upload_key': 'c10cf2eb-bb14-45e6-bd08-c0650083e28d/4DNFIKTVL6ZB.tiff', '@id': '/files-microscopy/4DNFIKTVL6ZB/', 'upload_credentials': {}, 'schema_version': '1', 'file_format': 'tiff'}], '@type': ['result'], 'status': 'success'}\n",
      "\n",
      "{}\n"
     ]
    }
   ],
   "source": [
    "import requests\n",
    "import json\n",
    "\n",
    "my_key = get_key('koray_data')\n",
    "file_id = \"4DNFIKTVL6ZB\"\n",
    "headers = {'content-type': 'application/json', 'accept': 'application/json'}\n",
    "\n",
    "url = \"%s%s/upload/\" % (my_key['server'], file_id)\n",
    "req = requests.post(url,\n",
    "                    auth=(my_key['key'], my_key['secret']),\n",
    "                    headers=headers,\n",
    "                    data=json.dumps({}))\n",
    "\n",
    "print(req.json())\n",
    "print()\n",
    "print(req.json()['@graph'][0]['upload_credentials'])"
   ]
  },
  {
   "cell_type": "code",
   "execution_count": 9,
   "metadata": {},
   "outputs": [
    {
     "name": "stdout",
     "output_type": "stream",
     "text": [
      "{'system_bucket': 'elasticbeanstalk-fourfront-webprod-system', 'content': None, 'display_title': 'Fourfront Status and Foursight Monitoring', 'processed_file_bucket': 'elasticbeanstalk-fourfront-webprod-wfoutput', 'beanstalk_env': 'fourfront-webprod', '@context': '/health', 'database': 'fourfront-webprod.co3gwj7b7tpq.us-east-1.rds.amazonaws.com:5432/ebdb', 'file_upload_bucket': 'elasticbeanstalk-fourfront-webprod-files', 'blob_bucket': 'elasticbeanstalk-fourfront-webprod-blobs', '@id': '/health', 'load_data': 'encoded.loadxl:load_prod_data', '@type': ['Health', 'Portal'], 'ontology_updated': 'Never Generated', 'elasticsearch': 'search-fourfront-webprod-hmrrlalm4ifyhl4bzbvl73hwv4.us-east-1.es.amazonaws.com:80'}\n",
      "elasticbeanstalk-fourfront-webprod-files\n",
      "\n",
      "<bound method Response.json of <Response [200]>>\n"
     ]
    }
   ],
   "source": [
    "health_page1 = ff_utils.get_metadata('health', key=my_key)\n",
    "\n",
    "health_page2 = requests.get(my_key['server'] + '/health', \n",
    "                            auth=(my_key['key'], my_key['secret']),\n",
    "                            headers=headers)\n",
    "print(health_page1)\n",
    "print(health_page1.get('file_upload_bucket'))\n",
    "print()\n",
    "print(health_page2.json)"
   ]
  },
  {
   "cell_type": "code",
   "execution_count": null,
   "metadata": {},
   "outputs": [],
   "source": []
  }
 ],
 "metadata": {
  "kernelspec": {
   "display_name": "Python 3",
   "language": "python",
   "name": "python3"
  },
  "language_info": {
   "codemirror_mode": {
    "name": "ipython",
    "version": 3
   },
   "file_extension": ".py",
   "mimetype": "text/x-python",
   "name": "python",
   "nbconvert_exporter": "python",
   "pygments_lexer": "ipython3",
   "version": "3.5.2"
  }
 },
 "nbformat": 4,
 "nbformat_minor": 2
}
