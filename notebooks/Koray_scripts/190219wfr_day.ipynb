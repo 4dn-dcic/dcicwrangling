{
 "cells": [
  {
   "cell_type": "code",
   "execution_count": 2,
   "metadata": {},
   "outputs": [
    {
     "ename": "NameError",
     "evalue": "name 'pd' is not defined",
     "output_type": "error",
     "traceback": [
      "\u001b[0;31m---------------------------------------------------------------------------\u001b[0m",
      "\u001b[0;31mNameError\u001b[0m                                 Traceback (most recent call last)",
      "\u001b[0;32m<ipython-input-2-5789ba08674f>\u001b[0m in \u001b[0;36m<module>\u001b[0;34m()\u001b[0m\n\u001b[1;32m     11\u001b[0m \u001b[0;34m\u001b[0m\u001b[0m\n\u001b[1;32m     12\u001b[0m \u001b[0mwfr\u001b[0m \u001b[0;34m=\u001b[0m \u001b[0mff_utils\u001b[0m\u001b[0;34m.\u001b[0m\u001b[0msearch_metadata\u001b[0m\u001b[0;34m(\u001b[0m\u001b[0;34m'/search/?type=WorkflowRunAwsem'\u001b[0m\u001b[0;34m,\u001b[0m \u001b[0mmy_key\u001b[0m\u001b[0;34m)\u001b[0m\u001b[0;34m\u001b[0m\u001b[0m\n\u001b[0;32m---> 13\u001b[0;31m \u001b[0md\u001b[0m \u001b[0;34m=\u001b[0m \u001b[0mpd\u001b[0m\u001b[0;34m.\u001b[0m\u001b[0mDataFrame\u001b[0m\u001b[0;34m(\u001b[0m\u001b[0mwfr\u001b[0m\u001b[0;34m)\u001b[0m\u001b[0;34m\u001b[0m\u001b[0m\n\u001b[0m\u001b[1;32m     14\u001b[0m \u001b[0mprint\u001b[0m\u001b[0;34m(\u001b[0m\u001b[0md\u001b[0m\u001b[0;34m.\u001b[0m\u001b[0mshape\u001b[0m\u001b[0;34m)\u001b[0m\u001b[0;34m\u001b[0m\u001b[0m\n",
      "\u001b[0;31mNameError\u001b[0m: name 'pd' is not defined"
     ]
    }
   ],
   "source": [
    "from dcicutils import ff_utils\n",
    "from functions.notebook_functions import *\n",
    "\n",
    "# get key from file\n",
    "my_key = get_key('koray_data')\n",
    "\n",
    "# # all usable env names\n",
    "# all_envs = ['data', 'staging', 'fourfront-webdev', 'fouront-mastertest', 'fourfront-hotseat']\n",
    "# # get admin key from s3\n",
    "# my_key = ff_utils.get_authentication_with_server({}, ff_env = 'fourfront-hotseat')\n",
    "\n",
    "wfr = ff_utils.search_metadata('/search/?type=WorkflowRunAwsem', my_key)\n"
   ]
  },
  {
   "cell_type": "code",
   "execution_count": 3,
   "metadata": {},
   "outputs": [
    {
     "name": "stdout",
     "output_type": "stream",
     "text": [
      "(28695, 34)\n"
     ]
    }
   ],
   "source": [
    "import pandas as pd\n",
    "d = pd.DataFrame(wfr)\n",
    "print(d.shape)\n"
   ]
  },
  {
   "cell_type": "code",
   "execution_count": 9,
   "metadata": {},
   "outputs": [
    {
     "data": {
      "text/plain": [
       "@id                               object\n",
       "@type                             object\n",
       "aliases                           object\n",
       "award                             object\n",
       "awsem_app_name                    object\n",
       "awsem_job_id                      object\n",
       "awsem_postrun_json                object\n",
       "contributing_labs                 object\n",
       "date_created              datetime64[ns]\n",
       "description                       object\n",
       "description_only                  object\n",
       "display_title                     object\n",
       "documents                         object\n",
       "external_references               object\n",
       "input_files                       object\n",
       "lab                               object\n",
       "last_modified                     object\n",
       "link_id                           object\n",
       "metadata_only                     object\n",
       "output_files                      object\n",
       "output_quality_metrics            object\n",
       "parameters                        object\n",
       "principals_allowed                object\n",
       "project_release                   object\n",
       "public_release                    object\n",
       "run_platform                      object\n",
       "run_status                        object\n",
       "run_url                           object\n",
       "schema_version                    object\n",
       "status                            object\n",
       "submitted_by                      object\n",
       "title                             object\n",
       "uuid                              object\n",
       "workflow                          object\n",
       "dtype: object"
      ]
     },
     "execution_count": 9,
     "metadata": {},
     "output_type": "execute_result"
    }
   ],
   "source": [
    "\n",
    "d['date_created'] = pd.to_datetime(d['date_created'])\n",
    "d.dtypes"
   ]
  },
  {
   "cell_type": "code",
   "execution_count": 13,
   "metadata": {},
   "outputs": [],
   "source": [
    "d = d.set_index(pd.DatetimeIndex(d['date_created']))\n"
   ]
  },
  {
   "cell_type": "code",
   "execution_count": 24,
   "metadata": {},
   "outputs": [
    {
     "data": {
      "text/plain": [
       "date_created  date_created              awsem_app_name              \n",
       "2017          9             2017-09-13  bwa-mem                         14\n",
       "                            2017-09-14  bwa-mem                         12\n",
       "                                        pairsam-parse-sort              26\n",
       "                            2017-09-15  bwa-mem                         18\n",
       "                                        md5                             45\n",
       "                                        pairsam-markasdup                2\n",
       "                                        pairsam-merge                    4\n",
       "                            2017-09-16  addfragtopairs                   2\n",
       "                                        fastqc-0-11-4-1                 52\n",
       "                                        md5                             11\n",
       "                                        pairsam-filter                   4\n",
       "                                        pairsam-markasdup                2\n",
       "                                        pairsam-merge                    2\n",
       "                                        pairsam-parse-sort              18\n",
       "                            2017-09-17  addfragtopairs                   2\n",
       "                                        hi-c-processing-partb            3\n",
       "                                        md5                              4\n",
       "                                        pairs-patch                      4\n",
       "                                        pairsam-markasdup                2\n",
       "                            2017-09-18  hi-c-processing-partb            3\n",
       "                                        hi-c-processing-partc            5\n",
       "                            2017-09-20  hi-c-processing-partc            1\n",
       "              10            2017-10-04  fastqc-0-11-4-1                  3\n",
       "                                        pairsam-filter                   2\n",
       "                            2017-10-05  fastqc-0-11-4-1                  1\n",
       "                            2017-10-10  fastqc-0-11-4-1                  4\n",
       "                                        md5                              4\n",
       "                            2017-10-17  addfragtopairs                   2\n",
       "                            2017-10-18  pairs-patch                      2\n",
       "                            2017-10-19  hi-c-processing-partc            2\n",
       "                                                                        ..\n",
       "2019          1             2019-01-31  encode-chipseq-postaln          15\n",
       "              2             2019-02-04  encode-atacseq-postaln           3\n",
       "                                        fastqc-0-11-4-1                  4\n",
       "                                        md5                              4\n",
       "                            2019-02-05  encode-atacseq-aln               3\n",
       "                                        encode-atacseq-postaln           5\n",
       "                                        fastqc-0-11-4-1                  2\n",
       "                                        md5                              3\n",
       "                            2019-02-06  encode-chipseq-aln-chip          7\n",
       "                                        encode-chipseq-aln-ctl           2\n",
       "                                        encode-chipseq-postaln           7\n",
       "                                        fastqc-0-11-4-1                  6\n",
       "                                        md5                              5\n",
       "                            2019-02-07  encode-atacseq-postaln           1\n",
       "                                        encode-chipseq-postaln           4\n",
       "                                        hi-c-processing-pairs            1\n",
       "                                        hi-c-processing-pairs-nore       1\n",
       "                            2019-02-08  hi-c-processing-bam              2\n",
       "                            2019-02-11  encode-atacseq-postaln           2\n",
       "                                        hi-c-processing-pairs-nonorm     1\n",
       "                                        md5                              2\n",
       "                                        pairsqc-single                  85\n",
       "                            2019-02-12  fastqc-0-11-4-1                 16\n",
       "                                        md5                             16\n",
       "                            2019-02-13  fastqc-0-11-4-1                  8\n",
       "                                        md5                              8\n",
       "                            2019-02-14  fastqc-0-11-4-1                  8\n",
       "                                        md5                              8\n",
       "                                        repliseq-parta                   2\n",
       "                            2019-02-15  bwa-mem                          8\n",
       "Name: awsem_app_name, Length: 325, dtype: int64"
      ]
     },
     "execution_count": 24,
     "metadata": {},
     "output_type": "execute_result"
    }
   ],
   "source": [
    "#d.groupby([d[\"date\"].dt.year, d[\"date\"].dt.month]).count().plot(kind=\"bar\")\n",
    "\n",
    "#d.groupby([d[\"date\"].dt.year, d[\"date\"].dt.month]).count().hist(by=df['awsem_app_name'])\n",
    "\n",
    "#d['awsem_app_name'].groupby(d.index.date).count().hist(by=d['awsem_app_name'])\n",
    "\n",
    "#print(d['awsem_app_name'].groupby(d.index.date).count())\n",
    "\n",
    "d['awsem_app_name'].groupby([d.index.year, d.index.month, d.index.date, d['awsem_app_name']]).count()"
   ]
  },
  {
   "cell_type": "code",
   "execution_count": null,
   "metadata": {},
   "outputs": [],
   "source": []
  }
 ],
 "metadata": {
  "kernelspec": {
   "display_name": "Python 3",
   "language": "python",
   "name": "python3"
  },
  "language_info": {
   "codemirror_mode": {
    "name": "ipython",
    "version": 3
   },
   "file_extension": ".py",
   "mimetype": "text/x-python",
   "name": "python",
   "nbconvert_exporter": "python",
   "pygments_lexer": "ipython3",
   "version": "3.5.2"
  }
 },
 "nbformat": 4,
 "nbformat_minor": 2
}
