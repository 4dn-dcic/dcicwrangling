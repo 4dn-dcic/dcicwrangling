{
 "cells": [
  {
   "cell_type": "code",
   "execution_count": null,
   "metadata": {},
   "outputs": [],
   "source": [
    "from dcicutils import ff_utils\n",
    "from functions.notebook_functions import *\n",
    "from functions.cleanup import *\n",
    "import time\n",
    "time1 = time.time()\n",
    "\n",
    "my_auth = get_key('koray_data')\n",
    "\n",
    "all_users = ff_utils.search_metadata('/search/?type=user', my_auth)\n",
    "print(len(all_users))\n",
    "\n",
    "f = open('/Users/koray/downloads/hms-dbmi.json')\n",
    "dicto = json.loads(f.read())\n",
    "print(len(dicto))\n"
   ]
  },
  {
   "cell_type": "code",
   "execution_count": null,
   "metadata": {},
   "outputs": [],
   "source": [
    "dicto = [i for i in dicto if i.get('Email')]\n",
    "print(len(dicto))\n",
    "all_data = []\n",
    "all_cs = []\n",
    "found = 0\n",
    "nfound = 0\n",
    "for i in all_users:\n",
    "    em = i['email']\n",
    "    \n",
    "    match = False\n",
    "    cs = []\n",
    "    count = 0\n",
    "    for x in dicto:\n",
    "        em2 = x['Email']\n",
    "        c = x['Connection']\n",
    "        if em.lower().strip() == em2.lower().strip():\n",
    "            #print(em2, c)\n",
    "            match = True\n",
    "            cs.append(c)\n",
    "            log = x['Logins Count']\n",
    "            count += log\n",
    "    cs = sorted(cs)\n",
    "    \n",
    "    cs = ' | '.join(cs)\n",
    "    all_cs.append(cs)\n",
    "    \n",
    "\n",
    "    if match:\n",
    "        found += 1\n",
    "        all_data.append({'mail':em, 'count':count, 'services': cs})\n",
    "    else:\n",
    "        nfound += 1\n",
    "print(found, nfound)\n"
   ]
  },
  {
   "cell_type": "code",
   "execution_count": null,
   "metadata": {},
   "outputs": [],
   "source": [
    "from collections import Counter\n",
    "print(Counter(all_cs))"
   ]
  },
  {
   "cell_type": "code",
   "execution_count": null,
   "metadata": {},
   "outputs": [],
   "source": [
    "all_data = sorted(all_data, key=lambda k:[k['count']], reverse=True)"
   ]
  },
  {
   "cell_type": "code",
   "execution_count": null,
   "metadata": {},
   "outputs": [],
   "source": [
    "for i in all_data:\n",
    "    print(\"{:<35} {}\".format(i['mail'], i['count']))"
   ]
  },
  {
   "cell_type": "code",
   "execution_count": null,
   "metadata": {},
   "outputs": [],
   "source": [
    "def write_outfile(terms, filename, pretty=False):\n",
    "    '''terms is a list of dicts\n",
    "        write to file by default as a json list or if pretty\n",
    "        then same with indents and newlines\n",
    "    '''\n",
    "    with open(filename, 'w') as outfile:\n",
    "        if pretty:\n",
    "            json.dump(terms, outfile, indent=4)\n",
    "        else:\n",
    "            json.dump(terms, outfile)\n",
    "            \n",
    "            \n",
    "            \n",
    "            \n",
    "            \n",
    "listem = [{\"a\": \"araba\", \"b\": \"badana\"}, {\"a\": \"adana\", \"b\": \"balaba\"}]\n",
    "\n",
    "write_outfile(listem, 'bir.json', pretty=False)\n",
    "write_outfile(listem, 'birim.json', pretty=True)\n"
   ]
  },
  {
   "cell_type": "code",
   "execution_count": null,
   "metadata": {},
   "outputs": [],
   "source": [
    "opf_set = ('search/?type=ExperimentSet&other_processed_files.title%21=No+value&field=status'\n",
    "               '&field=other_processed_files&field=experiments_in_set.other_processed_files')\n",
    "opf_exp = ('search/?type=ExperimentSet&other_processed_files.title=No+value'\n",
    "           '&experiments_in_set.other_processed_files.title%21=No+value'\n",
    "           '&field=experiments_in_set.other_processed_files&field=status')\n",
    "    \n",
    "res_set = ff_utils.search_metadata(opf_set, my_auth)\n",
    "res_exp = ff_utils.search_metadata(opf_exp, my_auth)\n",
    "print(len(res_set))\n",
    "print(len(res_exp))"
   ]
  },
  {
   "cell_type": "code",
   "execution_count": null,
   "metadata": {},
   "outputs": [],
   "source": [
    "import time\n",
    "\n",
    "\n",
    "from dcicutils import ff_utils\n",
    "from dcicutils import es_utils\n",
    "files = []\n",
    "\n",
    "all_sets = res_set + res_exp\n",
    "\n",
    "for a_set in all_sets:\n",
    "    if a_set.get('other_processed_files'):\n",
    "        for case in a_set['other_processed_files']:\n",
    "            files.extend([i['uuid'] for i in case['files']])\n",
    "    if a_set.get('experiments_in_set'):\n",
    "        for an_exp in a_set['experiments_in_set']:\n",
    "            for case in an_exp['other_processed_files']:\n",
    "                files.extend([i['uuid'] for i in case['files']])\n",
    "print(len(files))\n",
    "\n",
    "for chunk in [100, 500, 1000, 2000, 5000]:\n",
    "    time1 = time.time()\n",
    "    resp =  ff_utils.get_es_metadata(files, chunk_size=chunk, key=my_auth)\n",
    "    time2 = time.time()\n",
    "    print(round((time2-time1), 1), 'sec for collection', chunk)"
   ]
  },
  {
   "cell_type": "code",
   "execution_count": null,
   "metadata": {},
   "outputs": [],
   "source": [
    "import time\n",
    "time1 = time.time()\n",
    "\n",
    "files = 'search/?type=FileProcessed&field=status'\n",
    "file_results = ff_utils.search_metadata(files + '&experiment_sets.uuid!=No+value', ff_env='data')\n",
    "file_results += ff_utils.search_metadata(files + '&experiments.uuid!=No+value', ff_env='data')\n",
    "file_results += ff_utils.search_metadata(files + '&status=deleted&status=replaced&experiment_sets.uuid!=No+value',\n",
    "                                         ff_env='data')\n",
    "file_results += ff_utils.search_metadata(files + '&status=deleted&status=replaced&experiments.uuid!=No+value',\n",
    "                                         ff_env='data')\n",
    "print(len(file_results))\n",
    "\n",
    "time2 = time.time()\n",
    "print(round((time2-time1), 1), 'sec for collection')"
   ]
  },
  {
   "cell_type": "code",
   "execution_count": null,
   "metadata": {},
   "outputs": [],
   "source": []
  }
 ],
 "metadata": {
  "celltoolbar": "Raw Cell Format",
  "kernelspec": {
   "display_name": "Python 3",
   "language": "python",
   "name": "python3"
  },
  "language_info": {
   "codemirror_mode": {
    "name": "ipython",
    "version": 3
   },
   "file_extension": ".py",
   "mimetype": "text/x-python",
   "name": "python",
   "nbconvert_exporter": "python",
   "pygments_lexer": "ipython3",
   "version": "3.5.2"
  }
 },
 "nbformat": 4,
 "nbformat_minor": 2
}
