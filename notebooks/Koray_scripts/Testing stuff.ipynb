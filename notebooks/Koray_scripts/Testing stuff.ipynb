{
 "cells": [
  {
   "cell_type": "code",
   "execution_count": 3,
   "metadata": {},
   "outputs": [
    {
     "name": "stdout",
     "output_type": "stream",
     "text": [
      "dict_keys(['FileSetCalibration', 'Workflow', 'SummaryStatistic', 'QualityMetricFlag', 'QualityMetricFastqc', 'Biosample', 'Software', 'AnalysisStep', 'ExperimentTsaseq', 'WorkflowRunAwsem', 'Image', 'FileProcessed', 'OntologyTerm', 'TreatmentChemical', 'Publication', 'Biosource', 'FileMicroscopy', 'Sysinfo', 'GenomicRegion', 'User', 'FileReference', 'IndividualMouse', 'ExperimentSeq', 'ExperimentRepliseq', 'MicroscopeSettingD1', 'ExperimentHiC', 'Document', 'ExperimentCaptureC', 'Protocol', 'IndividualFly', 'MicroscopeSettingA1', 'BiosampleCellCulture', 'FileCalibration', 'SummaryStatisticHiC', 'ImagingPath', 'TreatmentRnai', 'Enzyme', 'Construct', 'FileSetMicroscopeQc', 'Page', 'AccessKey', 'Lab', 'PublicationTracking', 'SopMap', 'ExperimentDamid', 'Badge', 'WorkflowRun', 'ExperimentChiapet', 'MicroscopeSettingA2', 'ExperimentSet', 'QualityMetricBamqc', 'StaticSection', 'WorkflowMapping', 'Award', 'IndividualHuman', 'TreatmentAgent', 'Ontology', 'Target', 'Organism', 'Modification', 'QualityMetricPairsqc', 'MicroscopeSettingD2', 'Vendor', 'DataReleaseUpdate', 'ExperimentAtacseq', 'ExperimentMic', 'Antibody', 'QualityMetricDedupqcRepliseq', 'FileFastq', 'WorkflowRunSbg', 'ExperimentSetReplicate', 'FileFasta', 'FileSet'])\n"
     ]
    }
   ],
   "source": [
    "#get profiles\n",
    "from dcicutils import ff_utils\n",
    "from functions.wfr import *\n",
    "from functions.wfr_settings import *\n",
    "from functions.notebook_functions import *\n",
    "\n",
    "# get key from keypairs.json\n",
    "my_env = 'data'\n",
    "my_key = get_key('koray_data')\n",
    "\n",
    "my_dict = ff_utils.get_metadata('/profiles/', key = my_key)\n",
    "print(my_dict.keys())"
   ]
  },
  {
   "cell_type": "code",
   "execution_count": null,
   "metadata": {},
   "outputs": [],
   "source": []
  }
 ],
 "metadata": {
  "kernelspec": {
   "display_name": "Python 3",
   "language": "python",
   "name": "python3"
  },
  "language_info": {
   "codemirror_mode": {
    "name": "ipython",
    "version": 3
   },
   "file_extension": ".py",
   "mimetype": "text/x-python",
   "name": "python",
   "nbconvert_exporter": "python",
   "pygments_lexer": "ipython3",
   "version": "3.5.2"
  }
 },
 "nbformat": 4,
 "nbformat_minor": 2
}
