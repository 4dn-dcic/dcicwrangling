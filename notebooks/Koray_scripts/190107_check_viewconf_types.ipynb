{
 "cells": [
  {
   "cell_type": "code",
   "execution_count": 8,
   "metadata": {},
   "outputs": [],
   "source": [
    "from dcicutils import ff_utils\n",
    "from functions.notebook_functions import *\n",
    "\n",
    "# get key from file\n",
    "my_key = get_key('koray_data')\n",
    "my_env = 'data'\n",
    "# all usable env names\n",
    "all_envs = ['data', 'staging', 'fourfront-webdev', 'fourfront-mastertest', 'fourfront-hotseat']\n",
    "# get admin key from s3\n",
    "#my_key = ff_utils.get_authentication_with_server({}, ff_env = 'data')\n",
    "\n"
   ]
  },
  {
   "cell_type": "code",
   "execution_count": 9,
   "metadata": {},
   "outputs": [
    {
     "name": "stdout",
     "output_type": "stream",
     "text": [
      "52\n"
     ]
    }
   ],
   "source": [
    "q = '/search/?type=HiglassViewConfig'\n",
    "sets = ff_utils.search_metadata(q, key = my_key)\n",
    "print(len(sets))"
   ]
  },
  {
   "cell_type": "code",
   "execution_count": 3,
   "metadata": {},
   "outputs": [
    {
     "name": "stdout",
     "output_type": "stream",
     "text": [
      "0:00:10.002897\n"
     ]
    }
   ],
   "source": []
  },
  {
   "cell_type": "code",
   "execution_count": 14,
   "metadata": {},
   "outputs": [
    {
     "name": "stdout",
     "output_type": "stream",
     "text": [
      "2d-chromosome-annotations\n",
      "combined\n",
      "cross-rule\n",
      "heatmap\n",
      "horizontal-chromosome-labels\n",
      "horizontal-divergent-bar\n",
      "horizontal-gene-annotations\n",
      "horizontal-vector-heatmap\n",
      "vertical-chromosome-labels\n",
      "vertical-gene-annotations\n",
      "vertical-rule\n"
     ]
    }
   ],
   "source": [
    "types = []\n",
    "for conf in sets:\n",
    "    vc = conf.get('viewconfig')\n",
    "    if not vc:\n",
    "        continue\n",
    "    views = vc.get('views')\n",
    "    if not views:\n",
    "        continue\n",
    "    \n",
    "    for v in views:\n",
    "        vt = v.get('tracks')\n",
    "        for track_type in vt:\n",
    "            if not vt[track_type]:\n",
    "                continue\n",
    "                \n",
    "            for loc_track in vt[track_type]:\n",
    "                if loc_track.get('type'):\n",
    "                    types.append(loc_track['type'])\n",
    "                contents = loc_track.get('contents')\n",
    "                if not contents:\n",
    "                    continue\n",
    "\n",
    "                for cont in contents:\n",
    "                    typ = cont['type']\n",
    "                    types.append(typ)\n",
    "        \n",
    "for i in sorted(list(set(types))):\n",
    "    print(i)"
   ]
  },
  {
   "cell_type": "code",
   "execution_count": 15,
   "metadata": {},
   "outputs": [
    {
     "name": "stdout",
     "output_type": "stream",
     "text": [
      "['2d-annotations', '2d-chromosome-annotations', '2d-chromosome-labels', '2d-tiles', 'arrowhead-domains', 'bedlike', 'horizontal-1d-tiles', 'horizontal-1d-value-interval', 'horizontal-divergent-bar', 'horizontal-multivec', 'horizontal-point', 'horizontal-rule', 'horizontal-vector-heatmap', 'left-axis', 'left-stacked-interval', 'mapbox-tiles', 'osm-2d-tile-ids', 'overlay-track', 'raster-tiles', 'simple-svg', 'square-markers', 'top-axis', 'top-stacked-interval', 'vertical-1d-tiles', 'vertical-1d-value-interval', 'vertical-2d-rectangle-domains', 'vertical-bedlike', 'vertical-divergent-bar', 'vertical-heatmap', 'vertical-multivec', 'vertical-point', 'vertical-rule', 'vertical-vector-heatmap', 'viewport-projection-center', 'viewport-projection-horizontal', 'viewport-projection-vertical']\n"
     ]
    }
   ],
   "source": [
    "liste = \"\"\"> 2d-annotations\n",
    "> 2d-chromosome-annotations\n",
    "> 2d-chromosome-labels\n",
    "> 2d-tiles\n",
    "> arrowhead-domains\n",
    "> bedlike\n",
    "> horizontal-1d-tiles\n",
    "> horizontal-1d-value-interval\n",
    "> horizontal-divergent-bar\n",
    "> horizontal-multivec\n",
    "> horizontal-point\n",
    "> horizontal-rule\n",
    "> horizontal-vector-heatmap\n",
    "> left-axis\n",
    "> left-stacked-interval\n",
    "> mapbox-tiles\n",
    "> osm-2d-tile-ids\n",
    "> overlay-track\n",
    "> raster-tiles\n",
    "> simple-svg\n",
    "> square-markers\n",
    "> top-axis\n",
    "> top-stacked-interval\n",
    "> vertical-1d-tiles\n",
    "> vertical-1d-value-interval\n",
    "> vertical-2d-rectangle-domains\n",
    "> vertical-bedlike\n",
    "> vertical-divergent-bar\n",
    "> vertical-heatmap\n",
    "> vertical-multivec\n",
    "> vertical-point\n",
    "> vertical-rule\n",
    "> vertical-vector-heatmap\n",
    "> viewport-projection-center\n",
    "> viewport-projection-horizontal\n",
    "> viewport-projection-vertical\"\"\"\n",
    "\n",
    "my_list = [i.replace('>', \"\").strip() for i in liste.split('\\n')]\n",
    "print(my_list)"
   ]
  },
  {
   "cell_type": "code",
   "execution_count": 16,
   "metadata": {},
   "outputs": [
    {
     "name": "stdout",
     "output_type": "stream",
     "text": [
      "2d-chromosome-annotations\n",
      "horizontal-divergent-bar\n",
      "horizontal-vector-heatmap\n",
      "vertical-rule\n"
     ]
    }
   ],
   "source": [
    "for i in sorted(list(set(types))):\n",
    "    if i in my_list:\n",
    "        print(i)"
   ]
  },
  {
   "cell_type": "code",
   "execution_count": null,
   "metadata": {},
   "outputs": [],
   "source": []
  }
 ],
 "metadata": {
  "kernelspec": {
   "display_name": "Python 3",
   "language": "python",
   "name": "python3"
  },
  "language_info": {
   "codemirror_mode": {
    "name": "ipython",
    "version": 3
   },
   "file_extension": ".py",
   "mimetype": "text/x-python",
   "name": "python",
   "nbconvert_exporter": "python",
   "pygments_lexer": "ipython3",
   "version": "3.5.2"
  }
 },
 "nbformat": 4,
 "nbformat_minor": 2
}
