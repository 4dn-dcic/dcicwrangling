{
 "cells": [
  {
   "cell_type": "code",
   "execution_count": 32,
   "metadata": {},
   "outputs": [],
   "source": [
    "Text = '''-[ RECORD 1 ]------------------------------------------------------------------------------------------------------------------------------------------------------------------------------------------------------------------------------------------------------------------------------------------------------------------------------------------------------------------------------------------------------------------------------------------------------------------------------------------------------------------------------------------------------------------------------------------------------------------------------------------------------------------------------------------------------------------------------------------------------------------------------------------------------------------------------------------------------------------------------------------------------------------------------------------------------------------------------------------------------------\n",
    "properties | {\"lab\": \"b2c2deeb-e883-4ac0-b9e2-906e598884d6\", \"award\": \"91b694c3-f4d7-4ddd-8278-16f94e15c1c5\", \"md5sum\": \"7b0e5fc5017f1215bfd896e0b16887c3\", \"status\": \"pre-release\", \"aliases\": [\"belmont-lab:Suc_recover_GGCTAC_L008_R1_001.fastq\"], \"filename\": \"Suc_recover_GGCTAC_L008_R1_001.fastq.gz\", \"accession\": \"4DNFI9CPTQRL\", \"file_size\": 3427200264, \"file_type\": \"reads\", \"instrument\": \"HiSeq2500\", \"file_format\": \"c13d06cf-218e-4f61-aaf0-91f226248b2c\", \"read_length\": 100, \"date_created\": \"2018-12-20T19:15:20.856423+00:00\", \"submitted_by\": \"dc46c605-6dd9-40b2-b8c4-6e9d8aa43a35\", \"last_modified\": {\"modified_by\": \"986b362f-4eb6-4a9c-8173-3ab267307e3a\", \"date_modified\": \"2019-03-04T21:30:48.155688+00:00\"}, \"content_md5sum\": \"ff1f0ec3ef6ff521830b1b22c70a6796\", \"quality_metric\": \"81eb60fb-9b8a-465f-bd85-0ac1184b499d\", \"schema_version\": \"2\", \"flowcell_details\": [{\"barcode\": \"GGCTAC\", \"machine\": \"HiSeq2500\"}], \"file_classification\": \"raw file\"}\n",
    "-[ RECORD 2 ]------------------------------------------------------------------------------------------------------------------------------------------------------------------------------------------------------------------------------------------------------------------------------------------------------------------------------------------------------------------------------------------------------------------------------------------------------------------------------------------------------------------------------------------------------------------------------------------------------------------------------------------------------------------------------------------------------------------------------------------------------------------------------------------------------------------------------------------------------------------------------------------------------------------------------------------------------------------------------------------------------------\n",
    "properties | {\"lab\": \"b2c2deeb-e883-4ac0-b9e2-906e598884d6\", \"award\": \"91b694c3-f4d7-4ddd-8278-16f94e15c1c5\", \"md5sum\": \"09c7f07f96758cb103f3b7960aa35ba8\", \"status\": \"pre-release\", \"aliases\": [\"belmont-lab:Suc_input_ACTTGA_L008_R1_001.fastq\"], \"filename\": \"Suc_input_ACTTGA_L008_R1_001.fastq.gz\", \"accession\": \"4DNFIXFSPXZW\", \"file_size\": 2086019108, \"file_type\": \"reads\", \"instrument\": \"HiSeq2500\", \"file_format\": \"c13d06cf-218e-4f61-aaf0-91f226248b2c\", \"read_length\": 100, \"date_created\": \"2018-12-20T19:15:21.497187+00:00\", \"submitted_by\": \"dc46c605-6dd9-40b2-b8c4-6e9d8aa43a35\", \"last_modified\": {\"modified_by\": \"986b362f-4eb6-4a9c-8173-3ab267307e3a\", \"date_modified\": \"2019-03-04T21:30:48.658917+00:00\"}, \"content_md5sum\": \"7d842354a2abd91dee50fc4d9b5dba04\", \"quality_metric\": \"f53f3425-ee35-4e39-88e0-db581173d16e\", \"schema_version\": \"2\", \"flowcell_details\": [{\"barcode\": \"ACTTGA\", \"machine\": \"HiSeq2500\"}], \"file_classification\": \"raw file\"}\n",
    "'''"
   ]
  },
  {
   "cell_type": "code",
   "execution_count": 33,
   "metadata": {},
   "outputs": [
    {
     "name": "stdout",
     "output_type": "stream",
     "text": [
      "60\n"
     ]
    }
   ],
   "source": [
    "import ast\n",
    "results = []\n",
    "for i in Text.split('\\n'):\n",
    "    if i.startswith('properties'):\n",
    "        p = i.split('s |')[1].strip()\n",
    "        p = ast.literal_eval(p)\n",
    "        results.append(p)\n",
    "print(len(results))"
   ]
  },
  {
   "cell_type": "code",
   "execution_count": 38,
   "metadata": {
    "scrolled": true
   },
   "outputs": [
    {
     "name": "stdout",
     "output_type": "stream",
     "text": [
      "('4DNFIM4G7UP4', '15d9f1e59e4439327dbee233723ecfc2')\n",
      "('4DNFIYSTJYGH', '2accd746044ef33d2533da684a07c7b8')\n",
      "('4DNFIV22988N', 'be40a9c8a0501dfd3ffbc1b9d43426fb')\n",
      "('4DNFIXFSPXZW', '09c7f07f96758cb103f3b7960aa35ba8')\n",
      "('4DNFI6MCHHOO', 'baece4f87f60f8a11cdcb2224b99eb30')\n",
      "('4DNFIIGBXI13', 'bb5cb61dcfa0417ddd6211ccd8814d1b')\n",
      "('4DNFI9CPTQRL', '7b0e5fc5017f1215bfd896e0b16887c3')\n",
      "[('4DNFIM4G7UP4', '15d9f1e59e4439327dbee233723ecfc2'), ('4DNFIYSTJYGH', '2accd746044ef33d2533da684a07c7b8'), ('4DNFIV22988N', 'be40a9c8a0501dfd3ffbc1b9d43426fb'), ('4DNFIXFSPXZW', '09c7f07f96758cb103f3b7960aa35ba8'), ('4DNFI6MCHHOO', 'baece4f87f60f8a11cdcb2224b99eb30'), ('4DNFIIGBXI13', 'bb5cb61dcfa0417ddd6211ccd8814d1b'), ('4DNFI9CPTQRL', '7b0e5fc5017f1215bfd896e0b16887c3')]\n"
     ]
    }
   ],
   "source": [
    "liste = []\n",
    "for i in results:\n",
    "    if i.get('md5sum'):\n",
    "        liste.append((i['accession'], i.get('md5sum')))\n",
    "        \n",
    "for i in list(set(liste)):\n",
    "    print(i)\n",
    "print(list(set(liste)))"
   ]
  },
  {
   "cell_type": "code",
   "execution_count": 24,
   "metadata": {
    "scrolled": false
   },
   "outputs": [
    {
     "name": "stdout",
     "output_type": "stream",
     "text": [
      "starting values\n",
      "instrument           HiSeq2500\n",
      "file_type            reads\n",
      "submitted_by         dc46c605-6dd9-40b2-b8c4-6e9d8aa43a35\n",
      "file_classification  raw file\n",
      "accession            4DNFIYSTJYGH\n",
      "flowcell_details     [{'barcode': 'ATCACG', 'machine': 'HiSeq2500'}]\n",
      "schema_version       2\n",
      "award                91b694c3-f4d7-4ddd-8278-16f94e15c1c5\n",
      "status               uploading\n",
      "date_created         2018-12-20T19:15:20.219678+00:00\n",
      "last_modified        {'modified_by': 'dc46c605-6dd9-40b2-b8c4-6e9d8aa43a35', 'date_modified': '2018-12-20T19:15:20.273786+00:00'}\n",
      "file_format          c13d06cf-218e-4f61-aaf0-91f226248b2c\n",
      "lab                  b2c2deeb-e883-4ac0-b9e2-906e598884d6\n",
      "aliases              ['belmont-lab:No1_input_ATCACG_L008_R1_001.fastq']\n",
      "read_length          100\n",
      "\n",
      "----------------------------------------\n",
      "new_val md5sum               2accd746044ef33d2533da684a07c7b8\n",
      "new_val filename             No1_input_ATCACG_L008_R1_001.fastq.gz\n",
      "----------------------------------------\n",
      "----------------------------------------\n",
      "new_val content_md5sum       85519a994712e0f9dad2207a85bb7fea\n",
      "----------------------------------------\n",
      "new_val quality_metric       700d50af-1174-425f-871c-aa0dbc54d92e\n",
      "----------------------------------------\n",
      "new_val file_size            1800051346\n",
      "----------------------------------------\n",
      "----------------------------------------\n"
     ]
    }
   ],
   "source": [
    "ref = {}\n",
    "for i in results:\n",
    "    if not ref:\n",
    "        print('starting values')\n",
    "        for x in i:\n",
    "            print(\"{:<20} {}\".format(x, i[x]))\n",
    "        print()\n",
    "        ref = i\n",
    "        continue\n",
    "    \n",
    "    for k, v in i.items():\n",
    "        if ref.get(k):\n",
    "            if str(v) == str(ref[k]):\n",
    "                continue\n",
    "        else:\n",
    "            print('new_val', \"{:<20} {}\".format( k, v))\n",
    "    \n",
    "    for k, b in ref.items():\n",
    "        if ref.get(k):\n",
    "            if str(v) == str(ref[k]):\n",
    "                continue\n",
    "        else:\n",
    "            print('REM_val', \"{:<20} {}\".format( k, v))\n",
    "        \n",
    "    ref = i\n",
    "    print('----------------------------------------')\n",
    "        "
   ]
  },
  {
   "cell_type": "code",
   "execution_count": null,
   "metadata": {},
   "outputs": [],
   "source": []
  }
 ],
 "metadata": {
  "kernelspec": {
   "display_name": "Python 3",
   "language": "python",
   "name": "python3"
  },
  "language_info": {
   "codemirror_mode": {
    "name": "ipython",
    "version": 3
   },
   "file_extension": ".py",
   "mimetype": "text/x-python",
   "name": "python",
   "nbconvert_exporter": "python",
   "pygments_lexer": "ipython3",
   "version": "3.5.2"
  }
 },
 "nbformat": 4,
 "nbformat_minor": 2
}
