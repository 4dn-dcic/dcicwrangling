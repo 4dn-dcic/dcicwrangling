{
 "cells": [
  {
   "cell_type": "code",
   "execution_count": null,
   "metadata": {},
   "outputs": [],
   "source": [
    "from dcicutils import ff_utils\n",
    "\n",
    "# for a given experiment set and some parameters like instrument\n",
    "# print set of files and their partA hic workflow status\n",
    "# if there are one that are running report the number of running cases\n",
    "# if there are file pairs that don't have a corresponding part A, report them separately\n",
    "\n",
    "my_env = 'data'\n",
    "my_auth = ff_utils.get_authentication_with_server({}, ff_env = my_env)\n",
    "\n",
    "# find all runs from 4dn lab without a contributing lab\n",
    "q = \"/search/?lab.uuid=828cd4fe-ebb0-4b36-a94a-d2e3a36cc989\" + \\\n",
    "    \"&run_status=complete&type=WorkflowRunAwsem&contributing_labs.uuid=No+value\" + \\\n",
    "    \"&limit=all\"\n",
    "\n",
    "all_awsem_resp = ff_utils.search_metadata(q, key=my_auth)\n",
    "print(len(all_awsem_resp))"
   ]
  },
  {
   "cell_type": "code",
   "execution_count": null,
   "metadata": {},
   "outputs": [],
   "source": [
    "counter = 0\n",
    "for a_resp in all_awsem_resp: \n",
    "    counter += 1\n",
    "    if counter % 100 == 0:\n",
    "        print(counter)\n",
    "    # find the identity\n",
    "    input_files = a_resp['input_files']\n",
    "    my_lab = ''\n",
    "    for an_input in input_files:\n",
    "        # if this wfr ran on processed files\n",
    "        if an_input['value']['@id'].startswith('/files-processed/'):\n",
    "            input_resp = ff_utils.get_metadata(an_input['value']['@id'], key=my_auth)\n",
    "            my_lab = input_resp['lab']['@id']\n",
    "            if my_lab == '/labs/4dn-dcic-lab/':\n",
    "                my_lab = input_resp['contributing_labs'][0]['@id']\n",
    "            break\n",
    "        # if this wfr ran on raw files\n",
    "        elif an_input['value']['@id'].startswith('/files-fastq/'):\n",
    "            input_resp = ff_utils.get_metadata(an_input['value']['@id'], key=my_auth)\n",
    "            my_lab = input_resp['lab']['@id']\n",
    "            break\n",
    "            \n",
    "    if my_lab == '':\n",
    "        # some submitted files that gone through md5 and other weird ones\n",
    "        print(a_resp['uuid'], 'did not have a valid input')\n",
    "        continue\n",
    " \n",
    "    if my_lab == '/labs/4dn-dcic-lab/':\n",
    "        print(a_resp['uuid'],'is from 4dn')\n",
    "        continue\n",
    "    \n",
    "    # add contributing lab to wfr\n",
    "    ff_utils.patch_metadata({'contributing_labs':[my_lab]},obj_id=a_resp['uuid'], key=my_auth)\n",
    "    \n",
    "    # check if there are any qcs from the wfr\n",
    "    qcs = a_resp.get('output_quality_metrics')\n",
    "    if qcs:\n",
    "        qc_uuid = qcs[0]['value']['uuid']\n",
    "        ff_utils.patch_metadata({'contributing_labs':[my_lab]},obj_id=qc_uuid, key=my_auth)\n"
   ]
  },
  {
   "cell_type": "code",
   "execution_count": null,
   "metadata": {},
   "outputs": [],
   "source": []
  },
  {
   "cell_type": "code",
   "execution_count": null,
   "metadata": {},
   "outputs": [],
   "source": []
  }
 ],
 "metadata": {
  "anaconda-cloud": {},
  "kernelspec": {
   "display_name": "Python 3",
   "language": "python",
   "name": "python3"
  },
  "language_info": {
   "codemirror_mode": {
    "name": "ipython",
    "version": 3
   },
   "file_extension": ".py",
   "mimetype": "text/x-python",
   "name": "python",
   "nbconvert_exporter": "python",
   "pygments_lexer": "ipython3",
   "version": "3.5.2"
  }
 },
 "nbformat": 4,
 "nbformat_minor": 2
}
