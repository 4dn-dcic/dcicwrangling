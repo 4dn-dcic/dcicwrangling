{
 "cells": [
  {
   "cell_type": "code",
   "execution_count": 11,
   "metadata": {},
   "outputs": [
    {
     "name": "stdout",
     "output_type": "stream",
     "text": [
      "34\n"
     ]
    }
   ],
   "source": [
    "from dcicutils import ff_utils\n",
    "from functions.wfr import *\n",
    "from functions.wfr_settings import *\n",
    "from functions.notebook_functions import *\n",
    "\n",
    "# tibanna = Tibanna(env=env)\n",
    "my_env = 'data'\n",
    "my_key = get_key('koray_data')\n",
    "\n",
    "wfr_url = '/search/?type=WorkflowRunAwsem&workflow.title=Chip-seq+data+processing+pipeline'\n",
    "all_wfrs = ff_utils.search_metadata(wfr_url , key=my_key)\n",
    "print(len(all_wfrs))"
   ]
  },
  {
   "cell_type": "code",
   "execution_count": 14,
   "metadata": {
    "scrolled": true
   },
   "outputs": [
    {
     "name": "stdout",
     "output_type": "stream",
     "text": [
      "f6c78e02-2082-4c9c-8e01-a0bb60e512ad\n",
      "084cf9f2-747c-426d-a48c-45415aa6f1da\n",
      "32650d1f-8f40-42b4-a395-773b925b0617\n",
      "1a34f9de-f5aa-40f6-95d6-71d13d6f82b7\n",
      "ab9dfd63-0526-4cd8-a3e1-25aac7d1acb4\n",
      "aaae3345-d827-419d-9837-a4dca7913a67\n",
      "f5dddf67-6991-48f5-871e-461a4c147ab4\n",
      "de8760a9-a137-4001-8c66-b9f4c17aef46\n",
      "f06d6983-c472-4d16-9fca-3864bd4cc9f1\n",
      "e1bf6356-159d-4d4d-9e63-97943252bb7f\n",
      "01327124-11cb-4fbb-9f87-955ed3399252\n",
      "b96b6114-c375-4117-add0-ab3b89ca9b48\n",
      "38ac86bf-57f8-4b00-bcc8-b05c02c626b6\n",
      "1bd6f7c5-28d1-4bb8-a648-e21dd061948c\n",
      "738bcc43-e34e-499b-bf4e-06616233515f\n",
      "d6217ad4-7b6d-4c42-a94d-65432789b28f\n",
      "d41a9615-0afe-4dc0-8c4c-136c05d85d1d\n",
      "cc30265c-ad3b-47c9-8e5f-935d77f6b9c4\n",
      "47b73aec-27a5-4c12-89d8-fc0b925e2e4c\n",
      "8b9cfee2-dede-456d-8f08-16bb18736d43\n",
      "1606082f-b588-4b6b-b8d5-c719505546b2\n",
      "4dbb0abb-e3a1-4b82-afd4-00c012bfea0a\n",
      "8f28ce1b-a39e-4a02-8ac4-da8a20cd8bb3\n",
      "e558bc28-efe0-47c9-a0b1-c932b09340d4\n",
      "39b15861-a602-48ed-a17b-f3dc77d1890e\n",
      "4f213aac-23eb-437c-bd3d-1625e79f84b1\n",
      "07ef285a-e743-4e79-a425-7dd4c1c68d10\n",
      "962cfcac-cf4e-4fa5-a9bd-5ab0355e8349\n",
      "ffcc406e-15e6-4992-be12-ee93a47f6c69\n",
      "0dcc4778-308e-416f-a938-942c7b1d771a\n",
      "c945e863-f087-4c7b-81c1-74afe6d09a07\n",
      "fa731e96-385b-46bd-9034-7ef81a26224c\n",
      "a52dbdec-309e-4d76-b96c-7379428cb6c2\n",
      "c720daf2-120c-4655-a2e6-ab0d045d2904\n",
      "34 102\n"
     ]
    }
   ],
   "source": [
    "action = True\n",
    "delw = 0\n",
    "delf = 0\n",
    "for i in all_wfrs: \n",
    "    print(i['uuid'])\n",
    "    patch_data = {'description': \"This workflow run is deleted\", 'status': \"deleted\"}\n",
    "    delw += 1\n",
    "    if action:\n",
    "        ff_utils.patch_metadata(patch_data, obj_id=i['uuid'] ,key=my_key)\n",
    "    # delete output files of the deleted workflow run\n",
    "    for o in i['output_files']:\n",
    "        if o.get('value'):\n",
    "            ud = o['value']['uuid']\n",
    "            delf += 1\n",
    "            if action:\n",
    "                ff_utils.patch_metadata({'status': \"deleted\"}, obj_id=ud ,key=my_key)\n",
    "print(delw, delf)           "
   ]
  },
  {
   "cell_type": "code",
   "execution_count": 17,
   "metadata": {},
   "outputs": [
    {
     "name": "stdout",
     "output_type": "stream",
     "text": [
      "1\n",
      "2\n",
      "3\n",
      "4\n",
      "5\n",
      "6\n",
      "7\n",
      "8\n",
      "9\n",
      "10\n",
      "11\n",
      "12\n",
      "13\n",
      "14\n",
      "15\n",
      "16\n",
      "17\n",
      "18\n",
      "19\n",
      "20\n",
      "21\n",
      "22\n",
      "23\n",
      "24\n",
      "25\n",
      "26\n",
      "27\n",
      "28\n",
      "29\n",
      "30\n",
      "31\n",
      "32\n"
     ]
    }
   ],
   "source": [
    "#patch files to trigger indexing\n",
    "it = 0\n",
    "for i in sets: \n",
    "    it += 1\n",
    "    print(it)\n",
    "    exps = i['experiments_in_set']\n",
    "    for exp in exps:\n",
    "        e_resp = ff_utils.get_metadata(exp['uuid'], key=my_key)                      \n",
    "        files = e_resp.get('files')\n",
    "        if not files:\n",
    "            print('no file in exp', e_resp['accession'])\n",
    "            continue\n",
    "        for f in files:\n",
    "            ff_utils.patch_metadata({'notes': 'files'}, obj_id=f['uuid'], key=my_key)\n",
    "           "
   ]
  },
  {
   "cell_type": "code",
   "execution_count": null,
   "metadata": {},
   "outputs": [],
   "source": []
  }
 ],
 "metadata": {
  "kernelspec": {
   "display_name": "Python 3",
   "language": "python",
   "name": "python3"
  },
  "language_info": {
   "codemirror_mode": {
    "name": "ipython",
    "version": 3
   },
   "file_extension": ".py",
   "mimetype": "text/x-python",
   "name": "python",
   "nbconvert_exporter": "python",
   "pygments_lexer": "ipython3",
   "version": "3.5.2"
  }
 },
 "nbformat": 4,
 "nbformat_minor": 2
}
