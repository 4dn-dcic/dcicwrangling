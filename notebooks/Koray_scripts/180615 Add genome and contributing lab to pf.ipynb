{
 "cells": [
  {
   "cell_type": "code",
   "execution_count": null,
   "metadata": {},
   "outputs": [],
   "source": [
    "from dcicutils import ff_utils\n",
    "\n",
    "# for a given experiment set and some parameters like instrument\n",
    "# print set of files and their partA hic workflow status\n",
    "# if there are one that are running report the number of running cases\n",
    "# if there are file pairs that don't have a corresponding part A, report them separately\n",
    "\n",
    "my_env = 'data'\n",
    "my_auth = ff_utils.get_authentication_with_server({}, ff_env = my_env)\n",
    "\n",
    "\n",
    "file_not_found = 0\n",
    "deleted = 0\n",
    "uploading = 0\n",
    "success = 0\n",
    "patch_problem = 0\n",
    "\n",
    "\n",
    "files_resp = ff_utils.search_metadata('files-processed/?limit=all', key=my_auth)\n",
    "files_resp2 = [i['uuid'] for i in files_resp if not i.get('genome_assembly')]\n",
    "files_resp3 = [i['uuid'] for i in files_resp if not i.get('contributing_labs')]\n",
    "comb_uuids = list(set(files_resp2) | set(files_resp3))\n",
    "comb_resp = [i for i in files_resp if i['uuid'] in comb_uuids]\n",
    "file_resp_with_exp = [i for i in comb_resp if i.get('source_experiments')]\n",
    "\n",
    "print len(file_resp_with_exp)"
   ]
  },
  {
   "cell_type": "code",
   "execution_count": null,
   "metadata": {},
   "outputs": [],
   "source": [
    "mapper = {\n",
    "    'human':'GRCh38',\n",
    "    'mouse':'GRCm38'\n",
    "}\n",
    "\n",
    "counter = 0\n",
    "for a_file in file_resp_with_exp: \n",
    "    counter += 1\n",
    "    if counter % 10 == 0:\n",
    "        print counter\n",
    "    exp = a_file['source_experiments'][0]\n",
    "    exp_resp = ff_utils.get_metadata(exp, key=my_auth)\n",
    "    biosample = exp_resp['biosample']\n",
    "    organism = list(set([bs['individual']['organism']['display_title'] for bs in biosample['biosource']]))[0]\n",
    "    g_a = mapper.get(organism)\n",
    "    source_lab = exp_resp['lab']['@id']\n",
    "    if not g_a:\n",
    "        print(a_file['accession'], organism, 'not mapped')\n",
    "        continue\n",
    "\n",
    "    print a_file['accession'], organism, g_a, source_lab\n",
    "    patch_data = {'genome_assembly': g_a, 'contributing_labs':[source_lab,]}\n",
    "    ff_utils.patch_metadata(patch_data, obj_id=a_file['uuid'] , key=my_auth)"
   ]
  },
  {
   "cell_type": "code",
   "execution_count": null,
   "metadata": {},
   "outputs": [],
   "source": []
  }
 ],
 "metadata": {
  "anaconda-cloud": {},
  "kernelspec": {
   "display_name": "Python 3",
   "language": "python",
   "name": "python3"
  },
  "language_info": {
   "codemirror_mode": {
    "name": "ipython",
    "version": 3
   },
   "file_extension": ".py",
   "mimetype": "text/x-python",
   "name": "python",
   "nbconvert_exporter": "python",
   "pygments_lexer": "ipython3",
   "version": "3.5.2"
  }
 },
 "nbformat": 4,
 "nbformat_minor": 2
}
