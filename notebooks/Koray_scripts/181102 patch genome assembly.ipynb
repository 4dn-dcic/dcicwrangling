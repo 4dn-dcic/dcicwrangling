{
 "cells": [
  {
   "cell_type": "code",
   "execution_count": 1,
   "metadata": {},
   "outputs": [],
   "source": [
    "from dcicutils import ff_utils\n",
    "from functions.notebook_functions import *\n",
    "\n",
    "# get key from file\n",
    "my_key = get_key('koray_data')\n",
    "\n",
    "# all usable env names\n",
    "all_envs = ['data', 'staging', 'fourfront-webdev', 'fourfront-mastertest', 'fourfront-hotseat']\n",
    "# get admin key from s3\n",
    "#my_key = ff_utils.get_authentication_with_server({}, ff_env = 'data')"
   ]
  },
  {
   "cell_type": "code",
   "execution_count": null,
   "metadata": {},
   "outputs": [],
   "source": [
    "4DNFI65CBIKX,human\n",
    "4DNFIT3ABRQL,human\n",
    "4DNFIVTQ72WM,human\n",
    "4DNFINU26HEQ,human\n",
    "4DNFIKTHE2OT,human\n",
    "4DNFI29JL6ZO,human\n",
    "4DNFI4OBPEAV,human\n",
    "4DNFII7498B3,human\n",
    "4DNFIV6HB4VT,human\n",
    "4DNFIRACAE1W,human\n",
    "4DNFIY6ABV6S,human\n",
    "4DNFIYNMI8AD,human\n",
    "4DNFITZCROZ9,human\n",
    "4DNFINJ3TBC9,human\n",
    "4DNFIARRJYTP,human\n",
    "4DNFIBEHN8JT,human\n",
    "4DNFI9IGUHEF,human\n",
    "4DNFIWW3N5C7,human\n",
    "4DNFIWHGN3HO,human"
   ]
  },
  {
   "cell_type": "code",
   "execution_count": 2,
   "metadata": {},
   "outputs": [],
   "source": [
    "ids = \"\"\"4DNFI65CBIKX\n",
    "4DNFIT3ABRQL\n",
    "4DNFIVTQ72WM\n",
    "4DNFINU26HEQ\n",
    "4DNFIKTHE2OT\n",
    "4DNFI29JL6ZO\n",
    "4DNFI4OBPEAV\n",
    "4DNFII7498B3\n",
    "4DNFIV6HB4VT\n",
    "4DNFIRACAE1W\n",
    "4DNFIY6ABV6S\n",
    "4DNFIYNMI8AD\n",
    "4DNFIARRJYTP\n",
    "4DNFI9IGUHEF\n",
    "4DNFIWW3N5C7\n",
    "4DNFIBEHN8JT\n",
    "4DNFINJ3TBC9\n",
    "4DNFITZCROZ9\n",
    "4DNFIWHGN3HO\"\"\"\n",
    "\n",
    "for idx in ids.split('\\n'):\n",
    "    ff_utils.patch_metadata({\"genome_assembly\": \"GRCh38\"}, obj_id=idx, key=my_key)\n"
   ]
  },
  {
   "cell_type": "code",
   "execution_count": null,
   "metadata": {},
   "outputs": [],
   "source": []
  }
 ],
 "metadata": {
  "kernelspec": {
   "display_name": "Python 3",
   "language": "python",
   "name": "python3"
  },
  "language_info": {
   "codemirror_mode": {
    "name": "ipython",
    "version": 3
   },
   "file_extension": ".py",
   "mimetype": "text/x-python",
   "name": "python",
   "nbconvert_exporter": "python",
   "pygments_lexer": "ipython3",
   "version": "3.5.2"
  }
 },
 "nbformat": 4,
 "nbformat_minor": 2
}
