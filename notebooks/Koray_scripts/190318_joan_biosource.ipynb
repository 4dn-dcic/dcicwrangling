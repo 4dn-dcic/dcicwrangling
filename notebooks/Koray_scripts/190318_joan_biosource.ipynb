{
 "cells": [
  {
   "cell_type": "code",
   "execution_count": 2,
   "metadata": {},
   "outputs": [
    {
     "name": "stdout",
     "output_type": "stream",
     "text": [
      "11\n"
     ]
    }
   ],
   "source": [
    "from dcicutils import ff_utils\n",
    "from functions.notebook_functions import *\n",
    "from functions.cleanup import *\n",
    "import time\n",
    "time1 = time.time()\n",
    "\n",
    "my_auth = get_key('koray_data')\n",
    "\n",
    "store, uuids = ff_utils.expand_es_metadata(['f7b3128f-6497-4ad7-9779-9422e1cc6152'], my_auth)\n",
    "print(len(store))"
   ]
  },
  {
   "cell_type": "code",
   "execution_count": 9,
   "metadata": {},
   "outputs": [
    {
     "name": "stdout",
     "output_type": "stream",
     "text": [
      "modification ac67823a-33b4-4cf6-bc7c-e9db736765e0 None\n",
      "construct 9dc88ac4-a4cf-4131-baf7-63265b7c6170 None\n",
      "document f21a34bd-eee5-4c49-992a-75d2e8d85c30 None\n",
      "biosource f7b3128f-6497-4ad7-9779-9422e1cc6152 None\n"
     ]
    }
   ],
   "source": [
    "for i in store:\n",
    "    for ix in store[i]:\n",
    "        if ix['status'] == 'in review by lab':\n",
    "            print(i, ix['uuid'], ix.get('contributing_labs'))\n",
    "            ff_utils.patch_metadata({'contributing_labs':['b6d37a94-beb2-46f3-8caa-637f403ee1b7']}, ix['uuid'], my_auth)"
   ]
  },
  {
   "cell_type": "code",
   "execution_count": null,
   "metadata": {},
   "outputs": [],
   "source": []
  }
 ],
 "metadata": {
  "celltoolbar": "Raw Cell Format",
  "kernelspec": {
   "display_name": "Python 3",
   "language": "python",
   "name": "python3"
  },
  "language_info": {
   "codemirror_mode": {
    "name": "ipython",
    "version": 3
   },
   "file_extension": ".py",
   "mimetype": "text/x-python",
   "name": "python",
   "nbconvert_exporter": "python",
   "pygments_lexer": "ipython3",
   "version": "3.5.2"
  }
 },
 "nbformat": 4,
 "nbformat_minor": 2
}
