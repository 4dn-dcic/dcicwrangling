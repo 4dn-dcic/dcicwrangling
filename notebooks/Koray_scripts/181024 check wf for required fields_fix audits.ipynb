{
 "cells": [
  {
   "cell_type": "code",
   "execution_count": 24,
   "metadata": {},
   "outputs": [],
   "source": [
    "from dcicutils import ff_utils\n",
    "from functions.notebook_functions import *\n",
    "\n",
    "# get key from file\n",
    "my_key = get_key('koray_data')\n",
    "\n",
    "# all usable env names\n",
    "all_envs = ['data', 'staging', 'fourfront-webdev', 'fourfront-mastertest', 'fourfront-hotseat']\n",
    "# get admin key from s3\n",
    "#my_key = ff_utils.get_authentication_with_server({}, ff_env = 'data')"
   ]
  },
  {
   "cell_type": "code",
   "execution_count": 25,
   "metadata": {},
   "outputs": [],
   "source": [
    "q = '/search/?type=Workflow'\n",
    "all_wf = ff_utils.search_metadata(q, key=my_key)"
   ]
  },
  {
   "cell_type": "code",
   "execution_count": 26,
   "metadata": {},
   "outputs": [
    {
     "name": "stdout",
     "output_type": "stream",
     "text": [
      "45\n"
     ]
    }
   ],
   "source": [
    "print(len(all_wf))"
   ]
  },
  {
   "cell_type": "code",
   "execution_count": 27,
   "metadata": {
    "scrolled": false
   },
   "outputs": [
    {
     "name": "stdout",
     "output_type": "stream",
     "text": [
      "bef50397-4d72-4ed1-9c78-100e14e5c47f NO file_format IN STEP Provenance Tracking INPUT inputs META\n"
     ]
    }
   ],
   "source": [
    "allowed_formats =  [\"fastq\",\n",
    "                    \"bam\",\n",
    "                    \"bai\",\n",
    "                    \"pairs\",\n",
    "                    \"pairsam\",\n",
    "                    \"pairs_px2\",\n",
    "                    \"pairsam_px2\",\n",
    "                    \"cool\",\n",
    "                    \"hic\",\n",
    "                    \"mcool\",\n",
    "                    \"normvector_juicerformat\",\n",
    "                    \"zip\",\n",
    "                    \"bg\",\n",
    "                    \"bg_px2\",\n",
    "                    \"bw\",\n",
    "                    \"bed\",\n",
    "                    \"bedpe\",\n",
    "                    \"txt\",\n",
    "                    \"csv\",\n",
    "                    \"spt\",\n",
    "                    \"other\",\n",
    "                    \"bwaIndex\",\n",
    "                    \"chromsizes\",\n",
    "                    \"barcode_file\",\n",
    "                    \"compressed_fasta\",\n",
    "                    \"fasta\",\n",
    "                    \"juicer_format_restriction_site_file\",\n",
    "                    \"conc\",\n",
    "                    \"merged_nodups\"]\n",
    "\n",
    "\n",
    "for wf in all_wf:\n",
    "    #print(wf['display_title'])\n",
    "    dt = wf['uuid']\n",
    "    steps = wf.get('steps')\n",
    "    #1 STEPS\n",
    "    if not steps:\n",
    "        print(dt,'NO STEPS')\n",
    "    for step in steps:\n",
    "        #2  Name, Inputs, Outputs, Meta\n",
    "        for step_field in ['name', 'inputs', 'outputs', 'meta']:\n",
    "            if step_field not in step.keys():\n",
    "                print(dt,'NO {} IN STEP {}'.format(step_field, step['name']))\n",
    "            elif not step[step_field]:\n",
    "                print(dt,'NO VALUE FOR {} IN STEP {}'.format(step_field, step['name']))\n",
    "#         #3 step meta should have software used\n",
    "#         if step.get('meta'):\n",
    "#             if 'software_used' not in step['meta'].keys():\n",
    "#                 print(dt,'NO software_used in IN STEP {} meta'.format(step['name']))\n",
    "        #4 name meta source in step inputs\n",
    "        if step.get('inputs'):\n",
    "            for an_input in step['inputs']:\n",
    "                for input_field in ['meta', 'source', 'name']:\n",
    "                    if input_field not in an_input.keys():\n",
    "                        print(dt,'NO {} IN STEP INPUT {}'.format(input_field, step['name']))\n",
    "                #5 input meta should have type file_format\n",
    "                if an_input.get('meta'):\n",
    "                    for input_meta_field in ['type']:\n",
    "                        if input_meta_field not in an_input['meta'].keys():\n",
    "                            print(dt,'NO {} IN STEP {} INPUT {} META'.format(input_meta_field, step['name'], an_input['name']))\n",
    "                    if an_input['meta'].get('type'):\n",
    "                        if an_input['meta']['type'] in [\"data file\", \"reference file\"]:\n",
    "                            if 'file_format' not in an_input['meta'].keys():\n",
    "                                print(dt,'NO file_format IN STEP {} INPUT {} META'.format(step['name'], an_input['name']))\n",
    "\n",
    "                                # This part is not required anymore since file format is a linkTo\n",
    "#                             else:\n",
    "#                                 if an_input['meta']['file_format'] not in allowed_formats:\n",
    "#                                     print(dt,'NO ALLOWED file_format {} IN STEP {} INPUT {} META'.format(an_input['meta']['file_format'], step['name'], an_input['name']))\n",
    "                                    \n",
    "                            \n",
    "                #6 input source should have name\n",
    "                if an_input.get('source'):\n",
    "                    for a_source in an_input['source']:\n",
    "                        for input_source_field in ['name']:\n",
    "                            if input_source_field not in a_source.keys():\n",
    "                                print(dt,'NO {} IN STEP INPUT SOURCE {}'.format(input_source_field, step['name']))\n",
    "        #7 name target in step outputs\n",
    "        if step.get('outputs'):\n",
    "            for an_output in step['outputs']:\n",
    "                for output_field in ['name', 'target']:\n",
    "                    if output_field not in an_output.keys():\n",
    "                        print(dt,'NO {} IN STEP OUTPUT {}'.format(output_field, step['name']))\n",
    "                #8 target needs name\n",
    "                if an_output.get('target'):\n",
    "                    for a_target in an_output['target']:\n",
    "                        if 'name' not in a_target.keys():\n",
    "                            print(dt,'NO name IN STEP OUTPUT TARGET {}'.format(step['name']))\n",
    "    if wf.get('arguments'):\n",
    "        for arg in wf['arguments']:\n",
    "            if arg.get('argument_format'):\n",
    "                if arg['argument_format']['display_title'] not in allowed_formats:\n",
    "                    print(dt,'NO ALLOWED type in argument format {}'.format(arg['argument_format']))\n",
    "                    \n",
    "                            \n",
    "                    \n",
    "                \n",
    "# Required properties in “steps.outputs” objects:\n",
    "# - Name\n",
    "# - Target\n",
    "# Required properties in “steps.outputs.target” objects:\n",
    "# - Name           \n",
    "# \"properties\": {\n",
    "#                                         \"type\" : {\n",
    "#                                             \"title\" : \"Input Type\",\n",
    "#                                             \"type\" : \"string\",\n",
    "#                                             \"enum\": [\n",
    "#                                                 \"data file\",\n",
    "#                                                 \"report\",\n",
    "#                                                 \"QC\",\n",
    "#                                                 \"parameter\",\n",
    "#                                                 \"reference file\"\n",
    "#                                             ]\n",
    "\n",
    "# \"file_format\": \"chromsizes\",\n",
    "# \"file_format\": \"merged_nodups\""
   ]
  },
  {
   "cell_type": "markdown",
   "metadata": {},
   "source": [
    "Required properties in workflow schema:\n",
    "- steps\n",
    "Required properties in “steps” objects:\n",
    "- Name\n",
    "- Inputs\n",
    "- Outputs\n",
    "- Meta\n",
    "Required properties in “steps.meta” objects:\n",
    "- software_used\n",
    "Required properties in “steps.inputs” objects:\n",
    "- Name\n",
    "- Meta\n",
    "- Source\n",
    "Required properties in “steps.inputs.meta” objects:\n",
    "- Type\n",
    "~- file_format~\n",
    "Required properties in “steps.inputs.source” objects:\n",
    "- name\n",
    "Required properties in “steps.outputs” objects:\n",
    "- Name\n",
    "- Target\n",
    "Required properties in “steps.outputs.target” objects:\n",
    "- Name"
   ]
  },
  {
   "cell_type": "code",
   "execution_count": null,
   "metadata": {},
   "outputs": [],
   "source": []
  }
 ],
 "metadata": {
  "kernelspec": {
   "display_name": "Python 3",
   "language": "python",
   "name": "python3"
  },
  "language_info": {
   "codemirror_mode": {
    "name": "ipython",
    "version": 3
   },
   "file_extension": ".py",
   "mimetype": "text/x-python",
   "name": "python",
   "nbconvert_exporter": "python",
   "pygments_lexer": "ipython3",
   "version": "3.5.2"
  }
 },
 "nbformat": 4,
 "nbformat_minor": 2
}
