{
 "cells": [
  {
   "cell_type": "code",
   "execution_count": 1,
   "metadata": {},
   "outputs": [],
   "source": [
    "from dcicutils import ff_utils\n",
    "from functions.notebook_functions import *\n",
    "\n",
    "# get key from file\n",
    "my_key = get_key('koray_data')\n",
    "\n",
    "# all usable env names\n",
    "all_envs = ['data', 'staging', 'fourfront-webdev', 'fourfront-mastertest', 'fourfront-hotseat']\n",
    "# get admin key from s3\n",
    "#my_key = ff_utils.get_authentication_with_server({}, ff_env = 'data')"
   ]
  },
  {
   "cell_type": "code",
   "execution_count": 2,
   "metadata": {},
   "outputs": [],
   "source": [
    "q = '/search/?type=Workflow'\n",
    "all_wf = ff_utils.search_metadata(q, key=my_key)"
   ]
  },
  {
   "cell_type": "code",
   "execution_count": 3,
   "metadata": {},
   "outputs": [
    {
     "name": "stdout",
     "output_type": "stream",
     "text": [
      "56\n"
     ]
    }
   ],
   "source": [
    "print(len(all_wf))"
   ]
  },
  {
   "cell_type": "code",
   "execution_count": 18,
   "metadata": {},
   "outputs": [
    {
     "name": "stdout",
     "output_type": "stream",
     "text": [
      "44 file formats avaiable\n",
      "bai\n",
      "bam\n",
      "bed\n",
      "beddb\n",
      "bedpe\n",
      "bg\n",
      "bg_px2\n",
      "bigbed\n",
      "bw\n",
      "bwaIndex\n",
      "chromsizes\n",
      "clusters\n",
      "compressed_fasta\n",
      "compressed_txt\n",
      "cool\n",
      "csv\n",
      "dv\n",
      "fasta\n",
      "fastq\n",
      "flex\n",
      "hdf5\n",
      "hic\n",
      "html\n",
      "json\n",
      "juicer_format_restriction_site_file\n",
      "matrix\n",
      "mcool\n",
      "merged_nodups\n",
      "multires.mv5\n",
      "nd2\n",
      "normvector_juicerformat\n",
      "ome.tiff\n",
      "other\n",
      "pairs\n",
      "pairs_px2\n",
      "pairsam\n",
      "pairsam_px2\n",
      "r3d\n",
      "spt\n",
      "tiff\n",
      "txt\n",
      "uncompressed_bowtie2Index\n",
      "uncompressed_bwaIndex\n",
      "zip\n"
     ]
    }
   ],
   "source": [
    "qf = '/search/?type=FileFormat'\n",
    "allowed_formats = [i['file_format'] for i in ff_utils.search_metadata(qf, key=my_key)]\n",
    "print(len(allowed_formats), 'file formats avaiable')\n",
    "for i in sorted(allowed_formats):\n",
    "    print(i)"
   ]
  },
  {
   "cell_type": "code",
   "execution_count": 12,
   "metadata": {
    "scrolled": false
   },
   "outputs": [
    {
     "name": "stdout",
     "output_type": "stream",
     "text": [
      "4459a4d8-1bd8-4b6a-b2cc-2506f4270a34 NO type IN STEP align INPUT fastq1 META\n",
      "4459a4d8-1bd8-4b6a-b2cc-2506f4270a34 NO type IN STEP filtersort INPUT input_bam META\n",
      "4459a4d8-1bd8-4b6a-b2cc-2506f4270a34 NO type IN STEP dedup INPUT input_bam META\n",
      "bef50397-4d72-4ed1-9c78-100e14e5c47f NO file_format IN STEP Provenance Tracking INPUT inputs META\n",
      "146da22a-502d-4500-bf57-a7cf0b4b2364 NO type IN STEP align INPUT fastq1 META\n",
      "146da22a-502d-4500-bf57-a7cf0b4b2364 NO type IN STEP filtersort INPUT input_bam META\n",
      "146da22a-502d-4500-bf57-a7cf0b4b2364 NO type IN STEP dedup INPUT input_bam META\n",
      "a9caf6f3-49e5-4c33-bfab-9ec90d65111c NO file_format IN STEP juicer2pairs INPUT input_merged_nodups META\n",
      "a9caf6f3-49e5-4c33-afab-9ec90d65faf3 NO file_format IN STEP juicer2pairs INPUT input_merged_nodups META\n",
      "b9829418-49e5-4c33-afab-9ec90d65faf3 NO file_format IN STEP hic2mcool INPUT input_hic META\n",
      "2324ad76-ff37-4157-8bcc-3ce72b7dace9 NO file_format IN STEP FastQC INPUT limits_file META\n",
      "2324ad76-ff37-4157-8bcc-3ce72b7dace9 NO file_format IN STEP FastQC INPUT contaminants_file META\n",
      "2324ad76-ff37-4157-8bcc-3ce72b7dace9 NO file_format IN STEP FastQC INPUT adapters_file META\n",
      "c7a60edf-49e5-4c33-afab-9ec90d65faf3 NO file_format IN STEP hictool_fastq2bam INPUT bowtie_index META\n",
      "c7a60edf-49e5-4c33-afab-9ec90d65faf3 NO file_format IN STEP hictool_hdf52matrix INPUT chrlen_file META\n"
     ]
    }
   ],
   "source": [
    "problematic_w = []\n",
    "\n",
    "for wf in all_wf:\n",
    "    #print(wf['display_title'])\n",
    "    dt = wf['uuid']\n",
    "    steps = wf.get('steps')\n",
    "    #1 STEPS\n",
    "    if not steps:\n",
    "        print(dt,'NO STEPS')\n",
    "    for step in steps:\n",
    "        #2  Name, Inputs, Outputs, Meta\n",
    "        for step_field in ['name', 'inputs', 'outputs', 'meta']:\n",
    "            if step_field not in step.keys():\n",
    "                problematic_w.append(dt)\n",
    "                print(dt,'NO {} IN STEP {}'.format(step_field, step['name']))\n",
    "            elif not step[step_field]:\n",
    "                problematic_w.append(dt)\n",
    "                print(dt,'NO VALUE FOR {} IN STEP {}'.format(step_field, step['name']))\n",
    "#         #3 step meta should have software used\n",
    "#         if step.get('meta'):\n",
    "#             if 'software_used' not in step['meta'].keys():\n",
    "#                 print(dt,'NO software_used in IN STEP {} meta'.format(step['name']))\n",
    "        #4 name meta source in step inputs\n",
    "        if step.get('inputs'):\n",
    "            for an_input in step['inputs']:\n",
    "                for input_field in ['meta', 'source', 'name']:\n",
    "                    if input_field not in an_input.keys():\n",
    "                        problematic_w.append(dt)\n",
    "                        print(dt,'NO {} IN STEP INPUT {}'.format(input_field, step['name']))\n",
    "                #5 input meta should have type file_format\n",
    "                if an_input.get('meta'):\n",
    "                    for input_meta_field in ['type']:\n",
    "                        if input_meta_field not in an_input['meta'].keys():\n",
    "                            problematic_w.append(dt)\n",
    "                            print(dt,'NO {} IN STEP {} INPUT {} META'.format(input_meta_field, step['name'], an_input['name']))\n",
    "                    if an_input['meta'].get('type'):\n",
    "                        problematic.append(dt)\n",
    "                        if an_input['meta']['type'] in [\"data file\", \"reference file\"]:\n",
    "                            if 'file_format' not in an_input['meta'].keys():\n",
    "                                problematic_w.append(dt)\n",
    "                                print(dt,'NO file_format IN STEP {} INPUT {} META'.format(step['name'], an_input['name']))\n",
    "\n",
    "                                # This part is not required anymore since file format is a linkTo\n",
    "#                             else:\n",
    "#                                 if an_input['meta']['file_format'] not in allowed_formats:\n",
    "#                                     print(dt,'NO ALLOWED file_format {} IN STEP {} INPUT {} META'.format(an_input['meta']['file_format'], step['name'], an_input['name']))\n",
    "                                    \n",
    "                            \n",
    "                #6 input source should have name\n",
    "                if an_input.get('source'):\n",
    "                    for a_source in an_input['source']:\n",
    "                        for input_source_field in ['name']:\n",
    "                            if input_source_field not in a_source.keys():\n",
    "                                problematic_w.append(dt)\n",
    "                                print(dt,'NO {} IN STEP INPUT SOURCE {}'.format(input_source_field, step['name']))\n",
    "        #7 name target in step outputs\n",
    "        if step.get('outputs'):\n",
    "            for an_output in step['outputs']:\n",
    "                for output_field in ['name', 'target']:\n",
    "                    if output_field not in an_output.keys():\n",
    "                        problematic_w.append(dt)\n",
    "                        print(dt,'NO {} IN STEP OUTPUT {}'.format(output_field, step['name']))\n",
    "                #8 target needs name\n",
    "                if an_output.get('target'):\n",
    "                    for a_target in an_output['target']:\n",
    "                        if 'name' not in a_target.keys():\n",
    "                            problematic_w.append(dt)\n",
    "                            print(dt,'NO name IN STEP OUTPUT TARGET {}'.format(step['name']))\n",
    "    if wf.get('arguments'):\n",
    "        for arg in wf['arguments']:\n",
    "            if arg.get('argument_format'):\n",
    "                if arg['argument_format']['display_title'] not in allowed_formats:\n",
    "                    problematic_w.append(dt)\n",
    "                    print(dt,'NO ALLOWED type in argument format {}'.format(arg['argument_format']))\n",
    "                    \n",
    "                            \n",
    "                    \n",
    "                \n",
    "# Required properties in “steps.outputs” objects:\n",
    "# - Name\n",
    "# - Target\n",
    "# Required properties in “steps.outputs.target” objects:\n",
    "# - Name           \n",
    "# \"properties\": {\n",
    "#                                         \"type\" : {\n",
    "#                                             \"title\" : \"Input Type\",\n",
    "#                                             \"type\" : \"string\",\n",
    "#                                             \"enum\": [\n",
    "#                                                 \"data file\",\n",
    "#                                                 \"report\",\n",
    "#                                                 \"QC\",\n",
    "#                                                 \"parameter\",\n",
    "#                                                 \"reference file\"\n",
    "#                                             ]\n",
    "\n",
    "# \"file_format\": \"chromsizes\",\n",
    "# \"file_format\": \"merged_nodups\""
   ]
  },
  {
   "cell_type": "markdown",
   "metadata": {},
   "source": [
    "Required properties in workflow schema:\n",
    "- steps\n",
    "Required properties in “steps” objects:\n",
    "- Name\n",
    "- Inputs\n",
    "- Outputs\n",
    "- Meta\n",
    "Required properties in “steps.meta” objects:\n",
    "- software_used\n",
    "Required properties in “steps.inputs” objects:\n",
    "- Name\n",
    "- Meta\n",
    "- Source\n",
    "Required properties in “steps.inputs.meta” objects:\n",
    "- Type\n",
    "~- file_format~\n",
    "Required properties in “steps.inputs.source” objects:\n",
    "- name\n",
    "Required properties in “steps.outputs” objects:\n",
    "- Name\n",
    "- Target\n",
    "Required properties in “steps.outputs.target” objects:\n",
    "- Name"
   ]
  },
  {
   "cell_type": "code",
   "execution_count": 19,
   "metadata": {},
   "outputs": [
    {
     "name": "stdout",
     "output_type": "stream",
     "text": [
      "8\n",
      "b9829418-49e5-4c33-afab-9ec90d65faf3\n",
      "c7a60edf-49e5-4c33-afab-9ec90d65faf3\n",
      "a9caf6f3-49e5-4c33-bfab-9ec90d65111c\n",
      "4459a4d8-1bd8-4b6a-b2cc-2506f4270a34\n",
      "146da22a-502d-4500-bf57-a7cf0b4b2364\n",
      "a9caf6f3-49e5-4c33-afab-9ec90d65faf3\n",
      "2324ad76-ff37-4157-8bcc-3ce72b7dace9\n",
      "bef50397-4d72-4ed1-9c78-100e14e5c47f\n"
     ]
    }
   ],
   "source": [
    "problematic_w = list(set(problematic_w))\n",
    "print(len(problematic_w))\n",
    "for i in problematic_w:\n",
    "    print(i)"
   ]
  },
  {
   "cell_type": "code",
   "execution_count": null,
   "metadata": {},
   "outputs": [],
   "source": [
    "\n",
    "8\n",
    "b9829418-49e5-4c33-afab-9ec90d65faf3\n",
    "c7a60edf-49e5-4c33-afab-9ec90d65faf3\n",
    "a9caf6f3-49e5-4c33-bfab-9ec90d65111c\n",
    "4459a4d8-1bd8-4b6a-b2cc-2506f4270a34\n",
    "146da22a-502d-4500-bf57-a7cf0b4b2364\n",
    "a9caf6f3-49e5-4c33-afab-9ec90d65faf3\n",
    "2324ad76-ff37-4157-8bcc-3ce72b7dace9\n",
    "bef50397-4d72-4ed1-9c78-100e14e5c47f\n",
    "\n",
    "\n",
    "ff problematic\n",
    "a9caf6f3-49e5-4c33-bfab-9ec90d65111c  done\n",
    "a9caf6f3-49e5-4c33-afab-9ec90d65faf3  done\n",
    "b9829418-49e5-4c33-afab-9ec90d65faf3  done\n",
    "2324ad76-ff37-4157-8bcc-3ce72b7dace9  done\n",
    "c7a60edf-49e5-4c33-afab-9ec90d65faf3  done"
   ]
  },
  {
   "cell_type": "code",
   "execution_count": 16,
   "metadata": {},
   "outputs": [],
   "source": [
    "import os\n",
    "folder = 'wf_update'\n",
    "\n",
    "if not os.path.exists(folder):\n",
    "        os.makedirs(folder)\n",
    "        \n",
    "for i in problematic_w:\n",
    "    save = ff_utils.get_metadata(i, my_key, add_on = 'frame=raw')\n",
    "    filename = folder + '/' + i + '.json'\n",
    "    with open(filename, 'w') as outfile:\n",
    "        json.dump(save, outfile, indent=4)"
   ]
  },
  {
   "cell_type": "code",
   "execution_count": 28,
   "metadata": {},
   "outputs": [
    {
     "name": "stdout",
     "output_type": "stream",
     "text": [
      "data\n",
      "fourfront-mastertest\n"
     ]
    },
    {
     "ename": "Exception",
     "evalue": "Bad status code for PATCH request for http://fourfront-mastertest.9wzadzju3p.us-east-1.elasticbeanstalk.com/2324ad76-ff37-4157-8bcc-3ce72b7dace9: 422. Reason: {'status': 'error', 'code': 422, 'description': 'Failed validation', '@type': ['ValidationFailure', 'Error'], 'title': 'Unprocessable Entity', 'errors': [{'location': 'body', 'name': ['schema_version'], 'description': \"request method 'PATCH' is not one of \"}, {'location': 'body', 'name': ['category'], 'description': \"'QC' is not of type 'array'\"}, {'location': 'body', 'name': [], 'description': \"Additional properties are not allowed ('data_types', 'workflow_diagram', 'workflow_type' were unexpected)\"}]}",
     "output_type": "error",
     "traceback": [
      "\u001b[0;31m---------------------------------------------------------------------------\u001b[0m",
      "\u001b[0;31mException\u001b[0m                                 Traceback (most recent call last)",
      "\u001b[0;32m<ipython-input-28-5e685db0219a>\u001b[0m in \u001b[0;36m<module>\u001b[0;34m()\u001b[0m\n\u001b[1;32m     27\u001b[0m             \u001b[0;32mcontinue\u001b[0m\u001b[0;34m\u001b[0m\u001b[0m\n\u001b[1;32m     28\u001b[0m \u001b[0;34m\u001b[0m\u001b[0m\n\u001b[0;32m---> 29\u001b[0;31m         \u001b[0mff_utils\u001b[0m\u001b[0;34m.\u001b[0m\u001b[0mpatch_metadata\u001b[0m\u001b[0;34m(\u001b[0m\u001b[0mpatch\u001b[0m\u001b[0;34m,\u001b[0m \u001b[0mpatch\u001b[0m\u001b[0;34m[\u001b[0m\u001b[0;34m'uuid'\u001b[0m\u001b[0;34m]\u001b[0m\u001b[0;34m,\u001b[0m \u001b[0mmy_key\u001b[0m\u001b[0;34m)\u001b[0m\u001b[0;34m\u001b[0m\u001b[0m\n\u001b[0m\u001b[1;32m     30\u001b[0m \u001b[0;34m\u001b[0m\u001b[0m\n",
      "\u001b[0;32m~/.virtualenvs/wrangling/lib/python3.5/site-packages/dcicutils/ff_utils.py\u001b[0m in \u001b[0;36mpatch_metadata\u001b[0;34m(patch_item, obj_id, key, ff_env, add_on)\u001b[0m\n\u001b[1;32m    258\u001b[0m     \u001b[0;31m# format item to json\u001b[0m\u001b[0;34m\u001b[0m\u001b[0;34m\u001b[0m\u001b[0m\n\u001b[1;32m    259\u001b[0m     \u001b[0mpatch_item\u001b[0m \u001b[0;34m=\u001b[0m \u001b[0mjson\u001b[0m\u001b[0;34m.\u001b[0m\u001b[0mdumps\u001b[0m\u001b[0;34m(\u001b[0m\u001b[0mpatch_item\u001b[0m\u001b[0;34m)\u001b[0m\u001b[0;34m\u001b[0m\u001b[0m\n\u001b[0;32m--> 260\u001b[0;31m     \u001b[0mresponse\u001b[0m \u001b[0;34m=\u001b[0m \u001b[0mauthorized_request\u001b[0m\u001b[0;34m(\u001b[0m\u001b[0mpatch_url\u001b[0m\u001b[0;34m,\u001b[0m \u001b[0mauth\u001b[0m\u001b[0;34m=\u001b[0m\u001b[0mauth\u001b[0m\u001b[0;34m,\u001b[0m \u001b[0mverb\u001b[0m\u001b[0;34m=\u001b[0m\u001b[0;34m'PATCH'\u001b[0m\u001b[0;34m,\u001b[0m \u001b[0mdata\u001b[0m\u001b[0;34m=\u001b[0m\u001b[0mpatch_item\u001b[0m\u001b[0;34m)\u001b[0m\u001b[0;34m\u001b[0m\u001b[0m\n\u001b[0m\u001b[1;32m    261\u001b[0m     \u001b[0;32mreturn\u001b[0m \u001b[0mget_response_json\u001b[0m\u001b[0;34m(\u001b[0m\u001b[0mresponse\u001b[0m\u001b[0;34m)\u001b[0m\u001b[0;34m\u001b[0m\u001b[0m\n\u001b[1;32m    262\u001b[0m \u001b[0;34m\u001b[0m\u001b[0m\n",
      "\u001b[0;32m~/.virtualenvs/wrangling/lib/python3.5/site-packages/dcicutils/ff_utils.py\u001b[0m in \u001b[0;36mauthorized_request\u001b[0;34m(url, auth, ff_env, verb, retry_fxn, **kwargs)\u001b[0m\n\u001b[1;32m    218\u001b[0m         \u001b[0mretry_fxn\u001b[0m \u001b[0;34m=\u001b[0m \u001b[0msearch_request_with_retries\u001b[0m\u001b[0;34m\u001b[0m\u001b[0m\n\u001b[1;32m    219\u001b[0m     \u001b[0;31m# use the given retry function. MUST TAKE THESE PARAMS!\u001b[0m\u001b[0;34m\u001b[0m\u001b[0;34m\u001b[0m\u001b[0m\n\u001b[0;32m--> 220\u001b[0;31m     \u001b[0;32mreturn\u001b[0m \u001b[0mretry_fxn\u001b[0m\u001b[0;34m(\u001b[0m\u001b[0mthe_verb\u001b[0m\u001b[0;34m,\u001b[0m \u001b[0murl\u001b[0m\u001b[0;34m,\u001b[0m \u001b[0muse_auth\u001b[0m\u001b[0;34m,\u001b[0m \u001b[0mverb\u001b[0m\u001b[0;34m,\u001b[0m \u001b[0;34m**\u001b[0m\u001b[0mkwargs\u001b[0m\u001b[0;34m)\u001b[0m\u001b[0;34m\u001b[0m\u001b[0m\n\u001b[0m\u001b[1;32m    221\u001b[0m \u001b[0;34m\u001b[0m\u001b[0m\n\u001b[1;32m    222\u001b[0m \u001b[0;34m\u001b[0m\u001b[0m\n",
      "\u001b[0;32m~/.virtualenvs/wrangling/lib/python3.5/site-packages/dcicutils/ff_utils.py\u001b[0m in \u001b[0;36mstandard_request_with_retries\u001b[0;34m(request_fxn, url, auth, verb, **kwargs)\u001b[0m\n\u001b[1;32m     74\u001b[0m             \u001b[0merror\u001b[0m \u001b[0;34m=\u001b[0m \u001b[0;32mNone\u001b[0m\u001b[0;34m\u001b[0m\u001b[0m\n\u001b[1;32m     75\u001b[0m     \u001b[0;32mif\u001b[0m \u001b[0merror\u001b[0m \u001b[0;32mand\u001b[0m \u001b[0;32mnot\u001b[0m \u001b[0mfinal_res\u001b[0m\u001b[0;34m:\u001b[0m\u001b[0;34m\u001b[0m\u001b[0m\n\u001b[0;32m---> 76\u001b[0;31m         \u001b[0;32mraise\u001b[0m \u001b[0mException\u001b[0m\u001b[0;34m(\u001b[0m\u001b[0merror\u001b[0m\u001b[0;34m)\u001b[0m\u001b[0;34m\u001b[0m\u001b[0m\n\u001b[0m\u001b[1;32m     77\u001b[0m     \u001b[0;32mreturn\u001b[0m \u001b[0mfinal_res\u001b[0m\u001b[0;34m\u001b[0m\u001b[0m\n\u001b[1;32m     78\u001b[0m \u001b[0;34m\u001b[0m\u001b[0m\n",
      "\u001b[0;31mException\u001b[0m: Bad status code for PATCH request for http://fourfront-mastertest.9wzadzju3p.us-east-1.elasticbeanstalk.com/2324ad76-ff37-4157-8bcc-3ce72b7dace9: 422. Reason: {'status': 'error', 'code': 422, 'description': 'Failed validation', '@type': ['ValidationFailure', 'Error'], 'title': 'Unprocessable Entity', 'errors': [{'location': 'body', 'name': ['schema_version'], 'description': \"request method 'PATCH' is not one of \"}, {'location': 'body', 'name': ['category'], 'description': \"'QC' is not of type 'array'\"}, {'location': 'body', 'name': [], 'description': \"Additional properties are not allowed ('data_types', 'workflow_diagram', 'workflow_type' were unexpected)\"}]}"
     ]
    }
   ],
   "source": [
    "import os\n",
    "folder = 'wf_update'\n",
    "\n",
    "corrected = ['a9caf6f3-49e5-4c33-bfab-9ec90d65111c',\n",
    "'a9caf6f3-49e5-4c33-afab-9ec90d65faf3',\n",
    "'b9829418-49e5-4c33-afab-9ec90d65faf3',\n",
    "'2324ad76-ff37-4157-8bcc-3ce72b7dace9',\n",
    "'c7a60edf-49e5-4c33-afab-9ec90d65faf3'\n",
    "]\n",
    "\n",
    "# all usable env names\n",
    "all_envs = ['data', \n",
    "            #'fourfront-webdev',\n",
    "            'fourfront-mastertest']\n",
    "# get admin key from s3\n",
    "#\n",
    "for an_env in all_envs:\n",
    "    my_key = ff_utils.get_authentication_with_server({}, ff_env = an_env)\n",
    "    print(an_env)\n",
    "    for i in corrected:\n",
    "        filename = folder + '/' + i + '.json'\n",
    "        patch = json.loads(open(filename).read())\n",
    "        try:\n",
    "            temp = ff_utils.get_metadata(patch['uuid'], my_key)\n",
    "        except Exception as e:\n",
    "            print(patch['app_name'], patch['uuid'], 'doesnot exist')\n",
    "            continue\n",
    "        \n",
    "        ff_utils.patch_metadata(patch, patch['uuid'], my_key)\n",
    "        \n"
   ]
  },
  {
   "cell_type": "code",
   "execution_count": null,
   "metadata": {},
   "outputs": [],
   "source": [
    "# To Do \n",
    "\n",
    "Regrab the corrected from data and patch them to other envs"
   ]
  }
 ],
 "metadata": {
  "kernelspec": {
   "display_name": "Python 3",
   "language": "python",
   "name": "python3"
  },
  "language_info": {
   "codemirror_mode": {
    "name": "ipython",
    "version": 3
   },
   "file_extension": ".py",
   "mimetype": "text/x-python",
   "name": "python",
   "nbconvert_exporter": "python",
   "pygments_lexer": "ipython3",
   "version": "3.5.2"
  }
 },
 "nbformat": 4,
 "nbformat_minor": 2
}
