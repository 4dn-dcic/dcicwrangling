{
 "cells": [
  {
   "cell_type": "code",
   "execution_count": 1,
   "metadata": {},
   "outputs": [
    {
     "name": "stdout",
     "output_type": "stream",
     "text": [
      "12\n"
     ]
    }
   ],
   "source": [
    "from dcicutils import ff_utils\n",
    "from functions.wfr import *\n",
    "from functions.wfr_settings import *\n",
    "from functions.notebook_functions import *\n",
    "\n",
    "# tibanna = Tibanna(env=env)\n",
    "my_env = 'data'\n",
    "my_key = get_key('koray_data')\n",
    "\n",
    "wfr_url = '/search/?type=WorkflowRunAwsem&workflow.title=Chip-seq+data+processing+pipeline&workflow.title=ATAC-seq+data+processing+pipeline'\n",
    "all_wfrs = ff_utils.search_metadata(wfr_url , key=my_key)\n",
    "print(len(all_wfrs))"
   ]
  },
  {
   "cell_type": "code",
   "execution_count": 3,
   "metadata": {
    "scrolled": true
   },
   "outputs": [
    {
     "name": "stdout",
     "output_type": "stream",
     "text": [
      "454ed8d9-adba-4100-9c25-6c5a708372e6\n",
      "a07b21ab-c2d0-441b-8248-5adc8d748d69\n",
      "f611fe04-2347-48c7-b331-e3a8eb9e6b91\n",
      "abf5a69c-028b-4ea4-9696-a184d0884f60\n",
      "abd23278-6320-4a7b-9f3f-5651eca053ba\n",
      "0f2d5f1e-ea81-41f9-8d55-e215aeb97ff1\n",
      "4e316b84-27a4-493b-b356-9bfb2590ec87\n",
      "5a197f33-861a-476a-b3ed-ea2c43dc3608\n",
      "41186d6a-ba6d-4adc-b282-f9f1a5524913\n",
      "1ae632df-ac92-4d48-a99e-7be73dbde450\n",
      "5c6f1238-471f-4081-bf8f-62187aca86dd\n",
      "92b16baf-6cc2-42e7-9512-127ef82f77a3\n",
      "12 36\n"
     ]
    }
   ],
   "source": [
    "action = True\n",
    "delw = 0\n",
    "delf = 0\n",
    "for i in all_wfrs: \n",
    "    print(i['uuid'])\n",
    "    patch_data = {'description': \"This workflow run is deleted\", 'status': \"deleted\"}\n",
    "    delw += 1\n",
    "    if action:\n",
    "        ff_utils.patch_metadata(patch_data, obj_id=i['uuid'] ,key=my_key)\n",
    "    # delete output files of the deleted workflow run\n",
    "    for o in i['output_files']:\n",
    "        if o.get('value'):\n",
    "            ud = o['value']['uuid']\n",
    "            delf += 1\n",
    "            if action:\n",
    "                ff_utils.patch_metadata({'status': \"deleted\"}, obj_id=ud ,key=my_key)\n",
    "print(delw, delf)           "
   ]
  },
  {
   "cell_type": "code",
   "execution_count": 17,
   "metadata": {},
   "outputs": [
    {
     "name": "stdout",
     "output_type": "stream",
     "text": [
      "1\n",
      "2\n",
      "3\n",
      "4\n",
      "5\n",
      "6\n",
      "7\n",
      "8\n",
      "9\n",
      "10\n",
      "11\n",
      "12\n",
      "13\n",
      "14\n",
      "15\n",
      "16\n",
      "17\n",
      "18\n",
      "19\n",
      "20\n",
      "21\n",
      "22\n",
      "23\n",
      "24\n",
      "25\n",
      "26\n",
      "27\n",
      "28\n",
      "29\n",
      "30\n",
      "31\n",
      "32\n"
     ]
    }
   ],
   "source": [
    "#patch files to trigger indexing\n",
    "it = 0\n",
    "for i in sets: \n",
    "    it += 1\n",
    "    print(it)\n",
    "    exps = i['experiments_in_set']\n",
    "    for exp in exps:\n",
    "        e_resp = ff_utils.get_metadata(exp['uuid'], key=my_key)                      \n",
    "        files = e_resp.get('files')\n",
    "        if not files:\n",
    "            print('no file in exp', e_resp['accession'])\n",
    "            continue\n",
    "        for f in files:\n",
    "            ff_utils.patch_metadata({'notes': 'files'}, obj_id=f['uuid'], key=my_key)\n",
    "           "
   ]
  },
  {
   "cell_type": "code",
   "execution_count": null,
   "metadata": {},
   "outputs": [],
   "source": []
  }
 ],
 "metadata": {
  "kernelspec": {
   "display_name": "Python 3",
   "language": "python",
   "name": "python3"
  },
  "language_info": {
   "codemirror_mode": {
    "name": "ipython",
    "version": 3
   },
   "file_extension": ".py",
   "mimetype": "text/x-python",
   "name": "python",
   "nbconvert_exporter": "python",
   "pygments_lexer": "ipython3",
   "version": "3.5.2"
  }
 },
 "nbformat": 4,
 "nbformat_minor": 2
}
