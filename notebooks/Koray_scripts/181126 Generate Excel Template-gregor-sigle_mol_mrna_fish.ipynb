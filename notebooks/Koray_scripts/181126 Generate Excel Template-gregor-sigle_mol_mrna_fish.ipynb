{
 "cells": [
  {
   "cell_type": "code",
   "execution_count": 42,
   "metadata": {},
   "outputs": [
    {
     "name": "stdout",
     "output_type": "stream",
     "text": [
      "Python 3.5.2\r\n"
     ]
    }
   ],
   "source": [
    "!python --version"
   ]
  },
  {
   "cell_type": "code",
   "execution_count": 19,
   "metadata": {},
   "outputs": [
    {
     "name": "stdout",
     "output_type": "stream",
     "text": [
      "DAM-ID seq, DNA-paint, DNA FISH, RNA FISH, FISH, Immunofluorescence, Fluorescence, Cryo-EM, SPT, ChIA-PET, PLAC-seq, Hi-ChIP, ATAC-seq, Repli-seq, single cell Repli-seq, TSA-seq, capture Hi-C, ChIP-seq, RNA-seq, NAD-seq, DNA SPRITE, RNA-DNA SPRITE, MARGI, GAM, CUT&RUN, TrAC-loop, TRIP, in situ Hi-C, dilution Hi-C, micro-C, DNase Hi-C, TCC, cryomilling TCC, single cell Hi-C, sci-Hi-C, MC-3C, MC-Hi-C\n"
     ]
    }
   ],
   "source": [
    "from dcicutils import ff_utils\n",
    "from functions.notebook_functions import *\n",
    "import xlrd\n",
    "import xlwt\n",
    "import json\n",
    "\n",
    "my_key = get_key('koray_data')\n",
    "pr = ff_utils.get_metadata('/profiles/', my_key)\n",
    "\n",
    "all_types = {}\n",
    "for i in pr:\n",
    "    if i.startswith('Exp'):\n",
    "#         if i != 'ExperimentMic':\n",
    "#             continue\n",
    "        if 'experiment_type' in pr[i]['properties']:\n",
    "            types = pr[i]['properties']['experiment_type']['enum']\n",
    "            all_types[i] = types\n",
    "            \n",
    "all_t = []\n",
    "for k,v in all_types.items():\n",
    "    all_t.extend(v)\n",
    "print(', '.join(all_t))\n"
   ]
  },
  {
   "cell_type": "code",
   "execution_count": 3,
   "metadata": {},
   "outputs": [],
   "source": [
    "### PLEASE COPY NOTEBOOKS TO YOUR FOLDERS TO PREVENT COMMIT CONFLICTS\n",
    "\n",
    "from dcicutils import ff_utils\n",
    "from functions.notebook_functions import *\n",
    "import xlrd\n",
    "import xlwt\n",
    "import json\n",
    "\n",
    "# get key from keypairs.json\n",
    "my_key = get_key('koray_data')\n",
    "schema_name = get_schema_names(my_key) \n",
    "\n",
    "# template excel\n",
    "excel_file = '/Users/koray/Desktop/Wrangling/Labs/Gregor Lab/160515_spt_template.xls'\n",
    "\n",
    "# summary excel\n",
    "summary_file = '/Users/koray/Desktop/Wrangling/Labs/Gregor Lab/Gregor_lab_mRNA_FISH.xlsx'\n",
    "\n",
    "#alias pre text\n",
    "submitter_lab = 'thomas-gregor-lab:'\n",
    "\n",
    "#if pre assign biosource define bio_source else set to false\n",
    "bio_source = ''\n",
    "bio_source = False\n",
    "add_bcc = False\n",
    "#project_name\n",
    "project = 'BAF180'"
   ]
  },
  {
   "cell_type": "code",
   "execution_count": 4,
   "metadata": {},
   "outputs": [
    {
     "name": "stdout",
     "output_type": "stream",
     "text": [
      "153 lines on summary file\n",
      "{'Set Description': \"Single molecule mrnaFISH on endogenous hunchback using dual color 5' and 3' block probe sets\", 'Cell Line': 'oreR', 'Number of Processed Files': 1.0, 'index': None, 'Experiment Sets (alias root)': 'hunchback_2colorBlock', 'Number of Raw Files': 1.0, 'Biosample (alias root)': '160216_oreR_hb2colorBlock_01', 'Experiment (alias root)': '160216_oreR_hb2colorBlock_01'}\n"
     ]
    }
   ],
   "source": [
    "import pandas as pd\n",
    "# turn excel to pandas dataframe\n",
    "df_sum= pd.read_excel(summary_file, index_col=None)\n",
    "# create a new index\n",
    "df_sum.reset_index(inplace=True)\n",
    "# convert nan to None\n",
    "df_sum = df_sum.where((pd.notnull(df_sum)), None)\n",
    "# convert pandas dataframe to python list of dict\n",
    "sum_list = df_sum.to_dict(orient='records')\n",
    "print(len(sum_list), \"lines on summary file\")\n",
    "print(sum_list[0])"
   ]
  },
  {
   "cell_type": "code",
   "execution_count": 7,
   "metadata": {},
   "outputs": [
    {
     "name": "stdout",
     "output_type": "stream",
     "text": [
      "{'publication': [], 'microscope_setting_a2': [{'tier_level': 'A2', 'aliases': ['thomas-gregor-lab:mic_set_BAF180']}], 'biosource': [], 'experiment_set_replicate': [], 'protocol': [], 'experiment_mic': [], 'imaging_path': [], 'file_processed': [], 'biosample': [], 'file_microscopy': []}\n"
     ]
    }
   ],
   "source": [
    "TEMPO = {'imaging_path': [], \n",
    "         'biosource' : [], \n",
    "        'protocol': [], \n",
    "        'file_processed': [],\n",
    "        'file_microscopy': [],\n",
    "        'experiment_mic': [], \n",
    "        'microscope_setting_a2': [], \n",
    "#         'biosample_cell_culture': [], \n",
    "        'biosample': [], \n",
    "        'experiment_set_replicate': [],\n",
    "        'publication':[]}\n",
    "\n",
    "# Generate settings that is common to all\n",
    "setting_alias = submitter_lab + 'mic_set_' + project\n",
    "TEMPO['microscope_setting_a2'].append({'aliases':[setting_alias], 'tier_level': 'A2'})\n",
    "print(TEMPO)\n",
    "\n",
    "# Generate 2 protocols\n",
    "experiment_protocol = submitter_lab + 'protocol_experiment_' + project\n",
    "\n",
    "biosample_protocol = submitter_lab + 'protocol_biosample_' + project\n",
    "\n",
    "TEMPO['protocol'].extend(\n",
    "    [\n",
    "    {'aliases':[experiment_protocol], \n",
    "     \"protocol_type\": \"Experimental protocol\"\n",
    "    },\n",
    "    {'aliases':[biosample_protocol],\n",
    "     \"protocol_type\":\"Cell culture protocol\"\n",
    "    }\n",
    "    ]\n",
    ")\n"
   ]
  },
  {
   "cell_type": "code",
   "execution_count": 19,
   "metadata": {
    "scrolled": false
   },
   "outputs": [
    {
     "name": "stdout",
     "output_type": "stream",
     "text": [
      "robert-coleman-lab:Halo_BAF180WT_SAHA\n",
      "robert-coleman-lab:Halo_BAF180WT_DMSO\n",
      "robert-coleman-lab:Halo_BAF180_BDdel_SAHA\n",
      "robert-coleman-lab:Halo_BAF180_Bddel_DMSO\n",
      "robert-coleman-lab:Halo_BAF180WT_SNAP_HP1a\n",
      "robert-coleman-lab:Halo_BAF180WT_H3.3_SNAP\n",
      "robert-coleman-lab:Halo_BAF180_Bddel_SNAP_HP1a\n",
      "robert-coleman-lab:Halo_BAF180_Bddel_H3.3_SNAP\n"
     ]
    }
   ],
   "source": [
    "# disabled bcc\n",
    "\n",
    "def add_to_dict(pre_alias, typ, main_dict, other_val):\n",
    "    dict_to_add = {}\n",
    "    dict_to_add['aliases'] = [pre_alias,]\n",
    "    if other_val:\n",
    "        for i in other_val:\n",
    "            dict_to_add[i] = other_val[i]\n",
    "    main_dict[typ].append(dict_to_add)\n",
    "    return main_dict\n",
    "\n",
    "\n",
    "import copy\n",
    "TEMP = copy.deepcopy(TEMPO)\n",
    "\n",
    "all_sets = []\n",
    "for num, line in enumerate(sum_list): \n",
    "    #ADD SET\n",
    "    if line['Experiment Sets (alias root)']:\n",
    "        my_set = submitter_lab + line['Experiment Sets (alias root)']\n",
    "        print(my_set)\n",
    "        all_sets.append(my_set)\n",
    "        TEMP = add_to_dict(my_set, 'experiment_set_replicate', TEMP, {'description':line['Set Description']})\n",
    "    \n",
    "        #ADD BIOSOUCE\n",
    "        # does it once per set\n",
    "        if not bio_source:\n",
    "            my_biosoruce = submitter_lab + line['Experiment Sets (alias root)']\n",
    "            TEMP = add_to_dict(my_biosource, 'biosource', TEMP, {})\n",
    "        \n",
    "        \n",
    "    #ADD BCC\n",
    "    if add_bcc:\n",
    "        my_bcc = submitter_lab + 'bcc_' + line['Biosample (alias root)']\n",
    "        TEMP = add_to_dict(my_bcc, 'biosample_cell_culture' , TEMP, {})\n",
    "        \n",
    "    #ADD BIOSAMPLE\n",
    "    my_biosample = submitter_lab+'biosample_' + line['Biosample (alias root)']\n",
    "    extra = {'biosource':bio_source, 'biosample_protocols':biosample_protocol}\n",
    "    if add_bcc:\n",
    "        extra['cell_culture_details'] = my_bcc\n",
    "    TEMP = add_to_dict(my_biosample, 'biosample', TEMP, extra)\n",
    "    \n",
    "    \n",
    "    #DEFINE EXPERIMENT\n",
    "    my_exp = submitter_lab + line['Experiment (alias root)']\n",
    "    \n",
    "    # ADD FILES\n",
    "    raw_files = []\n",
    "    proc_files = []\n",
    "    \n",
    "    if line['Number of Raw Files']:\n",
    "        for n in range(int(line['Number of Raw Files'])):\n",
    "            raw_f_alias = my_exp + '_raw_file_' + str(n+1)\n",
    "            raw_files.append(raw_f_alias)\n",
    "            TEMP = add_to_dict(raw_f_alias, 'file_microscopy', TEMP, {})\n",
    "  \n",
    "    if line['Number of Processed Files']:\n",
    "        for n in range(int(line['Number of Processed Files'])):\n",
    "            extra = {'file_format': 'spt',\n",
    "                    'file_type': 'spt results'}\n",
    "            proc_f_alias = my_exp + '_proc_file_' + str(n+1)\n",
    "            proc_files.append(proc_f_alias)\n",
    "            TEMP = add_to_dict(proc_f_alias, 'file_processed', TEMP, extra)\n",
    "\n",
    "    \n",
    "    #ADD EXPERIMENT\n",
    "    extra = {'replicate_set':my_set, 'protocol':experiment_protocol, 'biosample':my_biosample,\n",
    "             'experiment_type': \"SPT\", \"microscope_settings_master\": setting_alias}\n",
    "    if raw_files:\n",
    "        extra['files'] = raw_files\n",
    "    if proc_files:\n",
    "        extra['processed_files'] = proc_files\n",
    "    exp_pieces = my_exp.split('_')\n",
    "    if exp_pieces[-1].startswith('B'):\n",
    "        extra['bio_rep_no'] = exp_pieces[-1][1:]\n",
    "        extra['tec_rep_no'] = '1'\n",
    "    elif exp_pieces[-1].startswith('T'):\n",
    "        extra['bio_rep_no'] = exp_pieces[-2][1:]\n",
    "        extra['tec_rep_no'] = exp_pieces[-1][1:]\n",
    "    TEMP = add_to_dict(my_exp, 'experiment_mic', TEMP, extra)\n",
    "    \n",
    "# ADD PUBLICATION\n",
    "my_pub = submitter_lab + 'publication_' + project\n",
    "extra = {'exp_sets_prod_in_pub': all_sets}\n",
    "TEMP = add_to_dict(my_pub, 'publication', TEMP, extra)\n",
    "\n",
    "# for i in TEMP:\n",
    "#     print(i)\n",
    "#     if TEMP[i]:\n",
    "#         for x in TEMP[i]:\n",
    "#             print(x)\n",
    "#         print()\n",
    "#     print()\n",
    "#     print('--------------')\n",
    "            \n",
    "    "
   ]
  },
  {
   "cell_type": "code",
   "execution_count": 20,
   "metadata": {},
   "outputs": [],
   "source": [
    "# duplicate mic to mic path\n",
    "TEMP['experiment_mic_path'] = TEMP['experiment_mic']\n",
    "schema_name = get_schema_names(my_key) \n",
    "schema_name['ExperimentMic_Path'] = 'experiment_mic_path'"
   ]
  },
  {
   "cell_type": "code",
   "execution_count": 21,
   "metadata": {},
   "outputs": [
    {
     "name": "stdout",
     "output_type": "stream",
     "text": [
      "new excel is stored as /Users/koray/Desktop/Wrangling/Labs/Coleman/160515_spt_template_with_items.xls\n"
     ]
    }
   ],
   "source": [
    "append_items_to_xls(excel_file, TEMP, schema_name, comment = False)"
   ]
  },
  {
   "cell_type": "code",
   "execution_count": 7,
   "metadata": {},
   "outputs": [
    {
     "name": "stdout",
     "output_type": "stream",
     "text": [
      "robert-coleman-lab:Halo_BAF180WT_SAHA, robert-coleman-lab:Halo_BAF180WT_DMSO, robert-coleman-lab:Halo_BAF180_BDdel_SAHA, robert-coleman-lab:Halo_BAF180_Bddel_DMSO, robert-coleman-lab:Halo_BAF180WT_SNAP_HP1a, robert-coleman-lab:Halo_BAF180WT_H3.3_SNAP, robert-coleman-lab:Halo_BAF180_Bddel_SNAP_HP1a, robert-coleman-lab:Halo_BAF180_Bddel_H3.3_SNAP, robert-coleman-lab:Halo_BAF180_Bddel_H3.3_SNAP\n"
     ]
    }
   ],
   "source": [
    "t = \"\"\"robert-coleman-lab:Halo_BAF180WT_SAHA\n",
    "robert-coleman-lab:Halo_BAF180WT_DMSO\n",
    "robert-coleman-lab:Halo_BAF180_BDdel_SAHA\n",
    "robert-coleman-lab:Halo_BAF180_Bddel_DMSO\n",
    "robert-coleman-lab:Halo_BAF180WT_SNAP_HP1a\n",
    "robert-coleman-lab:Halo_BAF180WT_H3.3_SNAP\n",
    "robert-coleman-lab:Halo_BAF180_Bddel_SNAP_HP1a\n",
    "robert-coleman-lab:Halo_BAF180_Bddel_H3.3_SNAP\n",
    "robert-coleman-lab:Halo_BAF180_Bddel_H3.3_SNAP\"\"\"\n",
    "\n",
    "print(', '.join(t.split('\\n')))"
   ]
  },
  {
   "cell_type": "code",
   "execution_count": null,
   "metadata": {},
   "outputs": [],
   "source": []
  }
 ],
 "metadata": {
  "anaconda-cloud": {},
  "kernelspec": {
   "display_name": "Python 3",
   "language": "python",
   "name": "python3"
  },
  "language_info": {
   "codemirror_mode": {
    "name": "ipython",
    "version": 3
   },
   "file_extension": ".py",
   "mimetype": "text/x-python",
   "name": "python",
   "nbconvert_exporter": "python",
   "pygments_lexer": "ipython3",
   "version": "3.5.2"
  }
 },
 "nbformat": 4,
 "nbformat_minor": 2
}
