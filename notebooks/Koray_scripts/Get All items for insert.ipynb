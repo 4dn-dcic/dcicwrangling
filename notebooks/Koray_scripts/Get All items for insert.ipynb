{
 "cells": [
  {
   "cell_type": "code",
   "execution_count": null,
   "metadata": {},
   "outputs": [],
   "source": [
    "from dcicutils import ff_utils\n",
    "from functions.notebook_functions import *\n",
    "import time\n",
    "time1 = time.time()\n",
    "\n",
    "env = 'data'\n",
    "my_auth = get_key('koray_data')\n",
    "schema_name = get_schema_names(my_auth) \n",
    "\n",
    "set_to_release = 'eae5ee86-b6ee-4112-941b-311d6026acb7'\n",
    "store, uuids = record_object(set_to_release, my_auth, schema_name, store_frame='raw', add_pc_wfr=True, store={}, item_uuids=[])\n",
    "print(len(uuids))\n",
    "print(len(list(set(uuids))))\n",
    "time2 = time.time()\n",
    "print((time2-time1)/60)"
   ]
  },
  {
   "cell_type": "code",
   "execution_count": null,
   "metadata": {},
   "outputs": [],
   "source": [
    "folder = 'Alex'\n",
    "\n",
    "for a_type in store:\n",
    "    coll = store[a_type]\n",
    "    for a_ele in coll:\n",
    "        # print a_type, a_ele['status']\n",
    "        # for image attachment is required.\n",
    "        # TODO it needs refinment\n",
    "        for avoid in ['attachment']:\n",
    "            if avoid in a_ele.keys():\n",
    "                del a_ele[avoid]\n",
    "\n",
    "dump_results_to_json(store, folder)"
   ]
  },
  {
   "cell_type": "code",
   "execution_count": null,
   "metadata": {},
   "outputs": [],
   "source": []
  }
 ],
 "metadata": {
  "kernelspec": {
   "display_name": "Python 3",
   "language": "python",
   "name": "python3"
  },
  "language_info": {
   "codemirror_mode": {
    "name": "ipython",
    "version": 3
   },
   "file_extension": ".py",
   "mimetype": "text/x-python",
   "name": "python",
   "nbconvert_exporter": "python",
   "pygments_lexer": "ipython3",
   "version": "3.5.2"
  }
 },
 "nbformat": 4,
 "nbformat_minor": 2
}
