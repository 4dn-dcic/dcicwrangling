{
 "cells": [
  {
   "cell_type": "code",
   "execution_count": 3,
   "metadata": {},
   "outputs": [],
   "source": [
    "from dcicutils import ff_utils\n",
    "from functions.notebook_functions import get_key\n",
    "\n",
    "# get key from file\n",
    "my_key = get_key('koray_data')\n",
    "\n",
    "# all usable env names\n",
    "all_envs = ['data', 'staging', 'fourfront-webdev', 'fourfront-mastertest', 'fourfront-hotseat']\n",
    "# get admin key from s3\n",
    "#my_key = ff_utils.get_authentication_with_server({}, ff_env = 'data')"
   ]
  },
  {
   "cell_type": "code",
   "execution_count": 5,
   "metadata": {},
   "outputs": [],
   "source": [
    "q = '/search/?status=released&status=released+to+project&status=archived&type=WorkflowRun'\n",
    "all_wfrs = ff_utils.search_metadata(q, key=my_key)"
   ]
  },
  {
   "cell_type": "code",
   "execution_count": 6,
   "metadata": {},
   "outputs": [
    {
     "name": "stdout",
     "output_type": "stream",
     "text": [
      "8077\n"
     ]
    }
   ],
   "source": [
    "print(len(all_wfrs))"
   ]
  },
  {
   "cell_type": "code",
   "execution_count": 19,
   "metadata": {},
   "outputs": [
    {
     "name": "stdout",
     "output_type": "stream",
     "text": [
      "1\n"
     ]
    }
   ],
   "source": [
    "\n",
    "problematic = []\n",
    "safe = []\n",
    "\n",
    "# try test status or rel, rel to pro, and arch\n",
    "test_status = 'archived'\n",
    "for a_wfr in all_wfrs:\n",
    "    if a_wfr['status'] == test_status:\n",
    "        wf_info = a_wfr.get('workflow')\n",
    "        if wf_info['uuid'] not in problematic:\n",
    "            if wf_info['uuid'] not in safe:\n",
    "                wf_resp = ff_utils.get_metadata(wf_info['uuid'], key = my_key)\n",
    "                if wf_resp['status'] not in ['released to project','released', test_status]:\n",
    "                    problematic.append(wf_info['uuid'])\n",
    "                else:\n",
    "                    safe.append(wf_info['uuid'])\n",
    "print(len(problematic))"
   ]
  },
  {
   "cell_type": "code",
   "execution_count": 40,
   "metadata": {},
   "outputs": [
    {
     "name": "stdout",
     "output_type": "stream",
     "text": [
      "File Provenance Tracking Workflow - 4DNWFBFZYHIE released\n",
      "Generation of multiresolution Hi-C contact matrices from a set of contact lists, no restriction enzyme - 4DNWFQVDVA37 released\n",
      "Generation of multiresolution Hi-C contact matrices from a set of contact lists, no normalization, no restriction enzyme - 4DNWFYACVAEX released\n",
      "Repli-seq data processing pipeline for alignment, filtering and counting - 4DNWFBKH3JR1 released\n",
      "File Provenance Tracking Workflow - 4DNWFBFZYHIE released\n",
      "Generation of multiresolution Hi-C contact matrices from a set of contact lists, no normalization - 4DNWF7WTHVSA released\n"
     ]
    }
   ],
   "source": [
    "mylist = ['bef50397-4d72-4ed1-9c78-100e14e5c47f',\n",
    "          'c19ee11e-9d5a-454f-af50-600a0cf990b6',\n",
    "          '05b62bba-7bfa-46cc-8d8e-3d37f4feb8bd',\n",
    "          '146da22a-502d-4500-bf57-a7cf0b4b2364',\n",
    "          'bef50397-4d72-4ed1-9c78-100e14e5c47f',\n",
    "          'bd6e25ea-f368-4758-a821-d30e0b5a4100']\n",
    "\n",
    "for wf in mylist:\n",
    "    wf_data = ff_utils.get_metadata(wf, key=my_key)\n",
    "    print(wf_data['display_title'], wf_data['status'])"
   ]
  },
  {
   "cell_type": "code",
   "execution_count": 41,
   "metadata": {},
   "outputs": [],
   "source": [
    "from functions.notebook_functions import *\n",
    "schema_name = get_schema_names(my_key)\n",
    "store, uuids = record_object_es(mylist,my_key, schema_name, store_frame='object')"
   ]
  },
  {
   "cell_type": "code",
   "execution_count": 42,
   "metadata": {},
   "outputs": [
    {
     "name": "stdout",
     "output_type": "stream",
     "text": [
      "lab\n",
      "\n",
      "award\n",
      "\n",
      "software\n",
      "\n",
      "user\n",
      "\n",
      "workflow\n",
      "\n"
     ]
    }
   ],
   "source": [
    "for a_key in store:\n",
    "    print(a_key)\n",
    "    for i in store[a_key]:\n",
    "        if i['status'] not in ['current', 'released']:\n",
    "            print(i['status'], i['display_title'])\n",
    "            ff_utils.patch_metadata({'status':'released'}, obj_id=i['uuid'], key=my_key)\n",
    "            \n",
    "            \n",
    "    print()"
   ]
  },
  {
   "cell_type": "code",
   "execution_count": null,
   "metadata": {},
   "outputs": [],
   "source": []
  }
 ],
 "metadata": {
  "kernelspec": {
   "display_name": "Python 3",
   "language": "python",
   "name": "python3"
  },
  "language_info": {
   "codemirror_mode": {
    "name": "ipython",
    "version": 3
   },
   "file_extension": ".py",
   "mimetype": "text/x-python",
   "name": "python",
   "nbconvert_exporter": "python",
   "pygments_lexer": "ipython3",
   "version": "3.5.2"
  }
 },
 "nbformat": 4,
 "nbformat_minor": 2
}
