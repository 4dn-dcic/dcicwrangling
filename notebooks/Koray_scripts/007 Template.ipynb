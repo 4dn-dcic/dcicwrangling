{
 "cells": [
  {
   "cell_type": "code",
   "execution_count": 1,
   "metadata": {},
   "outputs": [
    {
     "name": "stdout",
     "output_type": "stream",
     "text": [
      "{'secret': 't4f4r4yq35iaueyx', 'key': 'R6ODH4Q2', 'server': 'https://data.4dnucleome.org/'}\n"
     ]
    }
   ],
   "source": [
    "from dcicutils import ff_utils\n",
    "from functions.notebook_functions import *\n",
    "\n",
    "# get key from file\n",
    "my_key = get_key('koray_data')\n",
    "print(my_key)\n",
    "# all usable env names\n",
    "all_envs = ['data', 'staging', 'fourfront-webdev', 'fourfront-mastertest', 'fourfront-hotseat']\n",
    "# get admin key from s3\n",
    "#my_key = ff_utils.get_authentication_with_server({}, ff_env = 'data')"
   ]
  },
  {
   "cell_type": "code",
   "execution_count": 2,
   "metadata": {},
   "outputs": [
    {
     "name": "stdout",
     "output_type": "stream",
     "text": [
      "16\n"
     ]
    }
   ],
   "source": [
    "q = '/search/?lab.display_title=4DN+DCIC%2C+HMS&type=FileReference'\n",
    "gen = ff_utils.search_metadata(q, key=my_key)\n",
    "print(len(gen))"
   ]
  },
  {
   "cell_type": "code",
   "execution_count": 13,
   "metadata": {},
   "outputs": [
    {
     "name": "stdout",
     "output_type": "stream",
     "text": [
      "dm6_MboI.txt\n",
      "dm6.bwaIndex.tgz\n",
      "dm6.mainonly.chrom.sizes\n",
      "dm6.fasta.gz\n",
      "mm10_MboI.txt\n",
      "mm10_DpnII.txt\n",
      "hg38_NcoI.txt\n",
      "mm10.mainonly.chrom.sizes\n",
      "hg38_DpnII.txt\n",
      "GRCh38_HindIII_new.txt\n",
      "hg38.mainonly.chrom.sizes\n",
      "hg38_MboI.txt\n",
      "hg38_HindIII_new.txt\n",
      "GRCh38_no_alt_analysis_set_GCA_000001405.15.fasta.gz\n",
      "mm10.bwaIndex.tgz\n",
      "hg38.bwaIndex.tgz\n"
     ]
    }
   ],
   "source": [
    "for f in gen:\n",
    "    print(f['filename'])\n",
    "#      if f.get('aliases'):\n",
    "#             al = f['aliases'][0]\n",
    "#      else:\n",
    "#         al = 'none'\n",
    "#      p = [f['accession'], al, f.get('description', 'none'), f.get('notes', 'none')]\n",
    "#      print('\\t'.join(p))"
   ]
  },
  {
   "cell_type": "code",
   "execution_count": 2,
   "metadata": {},
   "outputs": [
    {
     "name": "stdout",
     "output_type": "stream",
     "text": [
      "4DNFIS1ZVUWO\n",
      "restriction sites for MboI on the fruitfly genome build dm6, juicer-formatted\n",
      "4DNFIO5MGY32\n",
      "This tar-gzipped file includes the bwa index for the fruitfly genome build Release 6 (dm6)\n",
      "4DNFIBEEN92C\n",
      "Chromosome sizes file for the fruitfly genome build Release 6 (dm6); Only the assembled chromosomes are included; unlocalized or unplaced contigs are excluded. \n",
      "4DNFI9PGZ7S6\n",
      "The reference fasta file for the fruitfly genome build Release 6 (dm6)\n",
      "4DNFI0NK4G14\n",
      "restriction sites for MboI on hg38, juicer-formatted\n",
      "4DNFI3HVC1SE\n",
      "restriction sites for DpnII on mm10, juicer-formatted\n",
      "4DNFI3HVU20D\n",
      "restriction sites for NcoII on hg38, juicer-formatted\n",
      "4DNFI3UBJ3HZ\n",
      "Chromosome sizes for mouse genome build mm10; Only the assembled chromosomes are included; unlocalized or unplaced contigs are excluded. \n",
      "4DNFIBNAPW30\n",
      "restriction sites for DpnII on hg38, juicer-formatted\n",
      "4DNFI823MBKE\n",
      "restriction sites for HindIII on hg38, juicer-formatted\n",
      "4DNFI823LSII\n",
      "Chromosome sizes file for the human genome build hg38. Only the assembled chromosomes are included; unlocalized or unplaced contigs are excluded. \n",
      "4DNFI823L812\n",
      "restriction sites for MboI on hg38, juicer-formatted\n",
      "4DNFI823L811\n",
      "restriction sites for HindIII on hg38, juicer-formatted (OLD)\n",
      "4DNFI823LSI8\n",
      "This tar-gzipped file includes the bwa index for the mouse genome build GRCm38. We use the UCSC mm10 version of the genome, corresponsing to GRCm38/GCA_000001635.2,  including the 22 assembled chromosomes (1-19, X, Y, M), the 22 unplaced contigs, and the 22 unlocalized contigs, but excluding any alternative sequences. This is the same reference as used by the ENCODE Consortium for data processing: https://www.encodeproject.org/data-standards/reference-sequences/ .\n",
      "4DNFIZQZ39L9\n",
      "This tar-gzipped file includes the bwa index for the human genome build GRCh38. We use the UCSC hg38 version of the genome, corresponsing to GRCh38/GCA_000001405.15 including the 25 assembled chromosomes (1-22, X, Y, M), the 127 unplaced contigs, the 42 unlocalized contigs, but excluding the 261 alternative haplotypes. The assembly also includes the Epstein-Barr virus (EBV) genome. This is the same reference as used by the ENCODE Consortium for data processing: https://www.encodeproject.org/data-standards/reference-sequences/ .\n"
     ]
    }
   ],
   "source": [
    "text = '''4DNFIS1ZVUWO\trestriction sites for MboI on the fruitfly genome build dm6, juicer-formatted\n",
    "4DNFIO5MGY32\tThis tar-gzipped file includes the bwa index for the fruitfly genome build Release 6 (dm6)\n",
    "4DNFIBEEN92C\tChromosome sizes file for the fruitfly genome build Release 6 (dm6); Only the assembled chromosomes are included; unlocalized or unplaced contigs are excluded. \n",
    "4DNFI9PGZ7S6\tThe reference fasta file for the fruitfly genome build Release 6 (dm6)\n",
    "4DNFI0NK4G14\trestriction sites for MboI on hg38, juicer-formatted\n",
    "4DNFI3HVC1SE\trestriction sites for DpnII on mm10, juicer-formatted\n",
    "4DNFI3HVU20D\trestriction sites for NcoII on hg38, juicer-formatted\n",
    "4DNFI3UBJ3HZ\tChromosome sizes for mouse genome build mm10; Only the assembled chromosomes are included; unlocalized or unplaced contigs are excluded. \n",
    "4DNFIBNAPW30\trestriction sites for DpnII on hg38, juicer-formatted\n",
    "4DNFI823MBKE\trestriction sites for HindIII on hg38, juicer-formatted\n",
    "4DNFI823LSII\tChromosome sizes file for the human genome build hg38. Only the assembled chromosomes are included; unlocalized or unplaced contigs are excluded. \n",
    "4DNFI823L812\trestriction sites for MboI on hg38, juicer-formatted\n",
    "4DNFI823L811\trestriction sites for HindIII on hg38, juicer-formatted (OLD)\n",
    "4DNFI823LSI8\tThis tar-gzipped file includes the bwa index for the mouse genome build GRCm38. We use the UCSC mm10 version of the genome, corresponsing to GRCm38/GCA_000001635.2,  including the 22 assembled chromosomes (1-19, X, Y, M), the 22 unplaced contigs, and the 22 unlocalized contigs, but excluding any alternative sequences. This is the same reference as used by the ENCODE Consortium for data processing: https://www.encodeproject.org/data-standards/reference-sequences/ .\n",
    "4DNFIZQZ39L9\tThis tar-gzipped file includes the bwa index for the human genome build GRCh38. We use the UCSC hg38 version of the genome, corresponsing to GRCh38/GCA_000001405.15 including the 25 assembled chromosomes (1-22, X, Y, M), the 127 unplaced contigs, the 42 unlocalized contigs, but excluding the 261 alternative haplotypes. The assembly also includes the Epstein-Barr virus (EBV) genome. This is the same reference as used by the ENCODE Consortium for data processing: https://www.encodeproject.org/data-standards/reference-sequences/ .'''\n",
    "\n",
    "for t in text.split('\\n'):\n",
    "    i,d = t.split('\t')\n",
    "    ff_utils.patch_metadata({d})"
   ]
  },
  {
   "cell_type": "code",
   "execution_count": null,
   "metadata": {},
   "outputs": [],
   "source": []
  }
 ],
 "metadata": {
  "kernelspec": {
   "display_name": "Python 3",
   "language": "python",
   "name": "python3"
  },
  "language_info": {
   "codemirror_mode": {
    "name": "ipython",
    "version": 3
   },
   "file_extension": ".py",
   "mimetype": "text/x-python",
   "name": "python",
   "nbconvert_exporter": "python",
   "pygments_lexer": "ipython3",
   "version": "3.5.2"
  }
 },
 "nbformat": 4,
 "nbformat_minor": 2
}
