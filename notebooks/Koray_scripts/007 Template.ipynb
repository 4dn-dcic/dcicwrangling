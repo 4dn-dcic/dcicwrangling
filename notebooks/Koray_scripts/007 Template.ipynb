{
 "cells": [
  {
   "cell_type": "code",
   "execution_count": 2,
   "metadata": {},
   "outputs": [],
   "source": [
    "from dcicutils import ff_utils\n",
    "from functions.notebook_functions import *\n",
    "\n",
    "# get key from file\n",
    "my_key = get_key('koray_data')\n",
    "\n",
    "# all usable env names\n",
    "all_envs = ['data', 'staging', 'fourfront-webdev', 'fourfront-mastertest', 'fourfront-hotseat']\n",
    "# get admin key from s3\n",
    "#my_key = ff_utils.get_authentication_with_server({}, ff_env = 'data')"
   ]
  },
  {
   "cell_type": "code",
   "execution_count": 16,
   "metadata": {},
   "outputs": [
    {
     "name": "stdout",
     "output_type": "stream",
     "text": [
      "9202\n"
     ]
    }
   ],
   "source": [
    "q = '/search/?type=WorkflowRunAwsem&run_status=complete'\n",
    "gen = ff_utils.search_metadata(q, key=my_key)\n",
    "print(len(gen))"
   ]
  },
  {
   "cell_type": "code",
   "execution_count": 19,
   "metadata": {},
   "outputs": [
    {
     "name": "stdout",
     "output_type": "stream",
     "text": [
      "6358\n"
     ]
    }
   ],
   "source": [
    "q1= '/search/?type=FileMicroscopy&type=FileFastq'\n",
    "gen1 = ff_utils.search_metadata(q1, key=my_key)\n",
    "print(len(gen1))\n"
   ]
  },
  {
   "cell_type": "code",
   "execution_count": 28,
   "metadata": {},
   "outputs": [
    {
     "name": "stdout",
     "output_type": "stream",
     "text": [
      "11.311937863754792\n"
     ]
    }
   ],
   "source": [
    "t = 0\n",
    "for a_f in gen1:\n",
    "    if a_f['@type'][0] == 'FileFastq':   \n",
    "        if a_f.get('workflow_run_inputs'):\n",
    "            wfrs = a_f['workflow_run_inputs']\n",
    "            bwa = False\n",
    "            for wfr in wfrs:\n",
    "                if wfr['display_title'].startswith('bwa-mem'):\n",
    "                    bwa = True\n",
    "                    break\n",
    "            if bwa:\n",
    "                if a_f.get('file_size'):\n",
    "                    t += a_f['file_size']\n",
    "                        \n",
    "print(t/(1024*1024*1024*1024))\n"
   ]
  },
  {
   "cell_type": "code",
   "execution_count": null,
   "metadata": {},
   "outputs": [],
   "source": [
    "total file size went through md5 = 14.7 tb\n",
    "total file size went through fastqc = 13.7 tb\n",
    "total file size went through other processing = 11.3 tb"
   ]
  },
  {
   "cell_type": "code",
   "execution_count": 15,
   "metadata": {},
   "outputs": [
    {
     "name": "stdout",
     "output_type": "stream",
     "text": [
      "1131871522749\n",
      "1054.1375007005408\n",
      "/labs/mitchell-guttman-lab/ 1000.6882260143757\n",
      "/labs/xavier-darzacq-lab/ 15.052932739257812\n",
      "/labs/tom-misteli-lab/ 38.04614431690425\n",
      "/labs/david-grunwald-lab/ 0.3501976300030947\n"
     ]
    }
   ],
   "source": [
    "total = 0\n",
    "by_lab = {}\n",
    "for i in gen:\n",
    "    if i.get('file_size'):\n",
    "        f_size = i['file_size']\n",
    "        total += f_size\n",
    "        lab_name =  i['lab']['@id'] \n",
    "        if not by_lab.get(lab_name):\n",
    "            by_lab[lab_name] = f_size\n",
    "        else:\n",
    "            by_lab[lab_name] = by_lab[lab_name] + f_size\n",
    "            \n",
    "\n",
    "print(total)\n",
    "print(total/(1024*1024*1024))\n",
    "for i in by_lab:\n",
    "    print(i, by_lab[i]/(1024*1024*1024))"
   ]
  },
  {
   "cell_type": "code",
   "execution_count": null,
   "metadata": {},
   "outputs": [],
   "source": []
  }
 ],
 "metadata": {
  "kernelspec": {
   "display_name": "Python 3",
   "language": "python",
   "name": "python3"
  },
  "language_info": {
   "codemirror_mode": {
    "name": "ipython",
    "version": 3
   },
   "file_extension": ".py",
   "mimetype": "text/x-python",
   "name": "python",
   "nbconvert_exporter": "python",
   "pygments_lexer": "ipython3",
   "version": "3.5.2"
  }
 },
 "nbformat": 4,
 "nbformat_minor": 2
}
