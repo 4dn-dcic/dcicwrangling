{
 "cells": [
  {
   "cell_type": "code",
   "execution_count": 2,
   "metadata": {},
   "outputs": [],
   "source": [
    "from dcicutils import ff_utils\n",
    "from functions.notebook_functions import *\n",
    "\n",
    "# get key from file\n",
    "my_key = get_key('koray_data')\n",
    "my_env = 'data'\n",
    "# all usable env names\n",
    "all_envs = ['data', 'staging', 'fourfront-webdev', 'fourfront-mastertest', 'fourfront-hotseat']\n",
    "# get admin key from s3\n",
    "#my_key = ff_utils.get_authentication_with_server({}, ff_env = 'data')\n",
    "\n"
   ]
  },
  {
   "cell_type": "code",
   "execution_count": 3,
   "metadata": {},
   "outputs": [
    {
     "name": "stdout",
     "output_type": "stream",
     "text": [
      "14\n"
     ]
    }
   ],
   "source": [
    "q = '/search/?experiments_in_set.experiment_type=DNA+FISH&lab.display_title=Tom+Misteli%2C+NCI&status=in+review+by+lab&status=released+to+project&type=ExperimentSetReplicate&dataset_label=No+value'\n",
    "sets = ff_utils.search_metadata(q, key = my_key)\n",
    "print(len(sets))"
   ]
  },
  {
   "cell_type": "code",
   "execution_count": 6,
   "metadata": {},
   "outputs": [
    {
     "name": "stdout",
     "output_type": "stream",
     "text": [
      "['4DNEXHLB1TI7', '4DNEX3JJE5KO', '4DNEXQV7OS25']\n",
      "['4DNEXCE6V9FJ', '4DNEXE2ZJ6TX', '4DNEXW41P1ZW']\n",
      "['4DNEXPN64DPD', '4DNEXA6VTFSW', '4DNEXE38RW3T']\n",
      "['4DNEXIF9IVCQ', '4DNEXRR7B1UW', '4DNEXDLH2GMB']\n",
      "['4DNEX84PTOV4', '4DNEXTPGP73R', '4DNEXAZXELHI']\n",
      "['4DNEXYECZIT6', '4DNEX922LQMW', '4DNEX8WZ38T4']\n",
      "['4DNEX75MKDES', '4DNEX8TS4TMH', '4DNEXFMNLCX1']\n",
      "['4DNEXPUYE5SQ', '4DNEXJI84TR8', '4DNEX892B7MC']\n",
      "['4DNEXRRS2DGK', '4DNEXVW1JSAZ', '4DNEX2DDION3']\n",
      "['4DNEXFPJ3JMC', '4DNEX2YUIXEQ', '4DNEX7NRPTK6']\n",
      "['4DNEX9CFNSXB', '4DNEXHP2H16R', '4DNEXGHSRX82']\n",
      "['4DNEXS36DKU3', '4DNEXN9MHY5X', '4DNEX6TPPLYG']\n",
      "['4DNEX6NXF9EE', '4DNEX6BA9XS6', '4DNEXDJ9OWQ3']\n",
      "['4DNEXAS2UKAH', '4DNEXXQFXTO7', '4DNEXBYJSI4V']\n"
     ]
    }
   ],
   "source": [
    "for i in sets:\n",
    "    acc = i['accession']\n",
    "    exps = [a['accession'] for a in i['experiments_in_set']]\n",
    "    print(exps)\n",
    "    exps.append(acc)\n",
    "    for ac in exps:\n",
    "        ff_utils.patch_metadata({'status':'archived'}, obj_id=ac, key=my_key)\n"
   ]
  },
  {
   "cell_type": "code",
   "execution_count": null,
   "metadata": {},
   "outputs": [],
   "source": []
  }
 ],
 "metadata": {
  "kernelspec": {
   "display_name": "Python 3",
   "language": "python",
   "name": "python3"
  },
  "language_info": {
   "codemirror_mode": {
    "name": "ipython",
    "version": 3
   },
   "file_extension": ".py",
   "mimetype": "text/x-python",
   "name": "python",
   "nbconvert_exporter": "python",
   "pygments_lexer": "ipython3",
   "version": "3.5.2"
  }
 },
 "nbformat": 4,
 "nbformat_minor": 2
}
