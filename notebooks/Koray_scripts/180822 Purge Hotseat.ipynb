{
 "cells": [
  {
   "cell_type": "code",
   "execution_count": 1,
   "metadata": {},
   "outputs": [
    {
     "name": "stdout",
     "output_type": "stream",
     "text": [
      "http://fourfront-hotseat.9wzadzju3p.us-east-1.elasticbeanstalk.com\n"
     ]
    }
   ],
   "source": [
    "from dcicutils import ff_utils\n",
    "from functions.notebook_functions import *\n",
    "\n",
    "# get key from file\n",
    "#my_key = get_key('koray_data')\n",
    "\n",
    "# all usable env names\n",
    "all_envs = ['data', 'staging', 'fourfront-webdev', 'fourfront-mastertest', 'fourfront-hotseat']\n",
    "# get admin key from s3\n",
    "my_key = ff_utils.get_authentication_with_server({}, ff_env = 'fourfront-hotseat')\n",
    "print(my_key['server'])"
   ]
  },
  {
   "cell_type": "code",
   "execution_count": 2,
   "metadata": {},
   "outputs": [
    {
     "name": "stdout",
     "output_type": "stream",
     "text": [
      "0\n"
     ]
    }
   ],
   "source": [
    "# Get all deleted wfrs\n",
    "q = 'search/?status=deleted&type=WorkflowRun'\n",
    "del_runs = ff_utils.search_metadata(q, key=my_key)\n",
    "print(len(del_runs))"
   ]
  },
  {
   "cell_type": "code",
   "execution_count": null,
   "metadata": {},
   "outputs": [],
   "source": [
    "counter = 0\n",
    "for a_run in del_runs:\n",
    "    if a_run['uuid'] == 'd273acda-54f3-4f43-97cd-1bfd2488ed52':\n",
    "        print('found')\n",
    "    else:\n",
    "        continue\n",
    "    out_qcs = []\n",
    "    outputs = []\n",
    "    counter += 1\n",
    "    link_url = a_run['@id'] + '@@links'\n",
    "    links = ff_utils.get_metadata(link_url, key=my_key)['uuids_linking_to']\n",
    "    assert len(links) == 0\n",
    "    \n",
    "    del_url = my_key['server']+ '/' +a_run['uuid']+'/?purge=True'\n",
    "    e = ff_utils.authorized_request(del_url, auth = my_key, verb='DELETE')\n",
    "    print(e)\n",
    "    if e.status_code != 200:\n",
    "        print(e.text)\n",
    "    \n",
    "    if counter % 100 == 0:\n",
    "        print(counter)               "
   ]
  },
  {
   "cell_type": "code",
   "execution_count": 7,
   "metadata": {},
   "outputs": [
    {
     "name": "stdout",
     "output_type": "stream",
     "text": [
      "3831\n"
     ]
    }
   ],
   "source": [
    "# Get all deleted proc_files\n",
    "q = 'search/?status=deleted&type=FileProcessed'\n",
    "del_pfs = ff_utils.search_metadata(q, key=my_key)\n",
    "print(len(del_pfs))"
   ]
  },
  {
   "cell_type": "code",
   "execution_count": 8,
   "metadata": {},
   "outputs": [
    {
     "name": "stdout",
     "output_type": "stream",
     "text": [
      "100\n",
      "200\n",
      "300\n",
      "400\n",
      "500\n",
      "600\n",
      "700\n",
      "800\n",
      "888 linked item 2e71d0b9-22fd-445e-9f25-0debe5984a48\n",
      "900\n",
      "1000\n",
      "1100\n",
      "1200\n",
      "1300\n",
      "1400\n",
      "1500\n",
      "1600\n",
      "1700\n",
      "1800\n",
      "1900\n",
      "2000\n",
      "2100\n",
      "2200\n",
      "2300\n",
      "2400\n",
      "2500\n",
      "2563 linked item d273d710-6b6d-4e43-a84c-5658a891c032\n",
      "2564 linked item 5b58e449-b7f0-4120-b20b-634f19c67f9e\n",
      "2565 linked item 8571c559-22b4-487e-9cb8-7ac402e93a9f\n",
      "2566 linked item 7f9eb396-5c1a-4c5e-aebf-28ea39d6a50f\n",
      "2567 linked item df1d6d43-95df-4dcc-9a5f-ff68a7a4dd60\n",
      "2600\n",
      "2631 linked item 439cd2d1-9586-4942-b3cd-8b0ea5971206\n",
      "2700\n",
      "2800\n",
      "2900\n",
      "3000\n",
      "3100\n",
      "3200\n",
      "3300\n",
      "3400\n",
      "3500\n",
      "3600\n",
      "3700\n",
      "3800\n",
      "3807 linked item 0048955c-7cb6-4e56-a4d8-56fad52f9999\n",
      "3813 linked item fbdbe727-49e5-4c33-afab-9ec90d65faf3\n",
      "3814 linked item b9930e7a-49e5-4c33-afab-9ec90d65faf3\n",
      "3815 linked item 58395de6-49e5-4c33-afab-9ec90d65faf3\n",
      "3816 linked item d04b6a0f-49e5-4c33-afab-9ec90d65faf3\n",
      "3817 linked item f95b8cf9-49e5-4c33-afab-9ec90d65faf3\n",
      "3818 linked item 7c3e582f-49e5-4c33-afab-9ec90d65faf3\n",
      "3819 linked item 20d4828f-49e5-4c33-afab-9ec90d65faf3\n",
      "3820 linked item f2d4e59e-49e5-4c33-afab-9ec90d65faf3\n",
      "3821 linked item 12c9ecbf-49e5-4c33-afab-9ec90d65faf3\n",
      "3822 linked item 61cdc81e-49e5-4c33-afab-9ec90d65faf3\n",
      "3823 linked item ae0b7a78-49e5-4c33-afab-9ec90d65faf3\n",
      "3824 linked item bc8e4805-49e5-4c33-afab-9ec90d65faf3\n",
      "3825 linked item ccd45b82-49e5-4c33-afab-9ec90d65faf3\n",
      "3826 linked item 7b24f953-49e5-4c33-afab-9ec90d65faf3\n",
      "3827 linked item fbd7e4ad-49e5-4c33-afab-9ec90d65faf3\n",
      "3828 linked item 9e316323-49e5-4c33-afab-9ec90d65faf3\n",
      "3829 linked item 165e9eeb-49e5-4c33-afab-9ec90d65faf3\n",
      "3830 linked item ccf48ccd-49e5-4c33-afab-9ec90d65faf3\n",
      "3831 linked item b4002377-49e5-4c33-afab-9ec90d65faf3\n"
     ]
    }
   ],
   "source": [
    "counter = 0\n",
    "import time\n",
    "for a_pf in del_pfs:\n",
    "    counter += 1\n",
    "    link_url = a_pf['@id'] + '@@links'\n",
    "    links = ff_utils.get_metadata(link_url, key=my_key)['uuids_linking_to']\n",
    "    if len(links) != 0:\n",
    "        print(counter, 'linked item', a_pf['uuid'])\n",
    "    \n",
    "#     del_url = my_key['server']+ '/' +a_run['uuid']+'/?purge=True'\n",
    "#     e = ff_utils.authorized_request(del_url, auth = my_key, verb='DELETE')\n",
    "#     if e.status_code != 200:\n",
    "#         print(e.text)\n",
    "    \n",
    "    if counter % 100 == 0:\n",
    "        print(counter)\n",
    "\n",
    "    \n"
   ]
  },
  {
   "cell_type": "code",
   "execution_count": null,
   "metadata": {},
   "outputs": [],
   "source": [
    "    # CHECK IF OUTPUT NEEDS DELETION\n",
    "    # TODO skip provenance tracking workflow\n",
    "#     if a_run.get('output_quality_metrics'):\n",
    "#         out_qcs = [i['value']['uuid'] for i in a_run['output_quality_metrics']]\n",
    "#         out_qcs = [i for i in out_qcs if i is not None]\n",
    "    \n",
    "#     if a_run.get('output_files'):\n",
    "#         outputs = [i.get('value',{}).get('uuid') for i in a_run['output_files'] if i.get('value')]\n",
    "#         outputs = [i for i in outputs if i is not None]\n",
    "    \n",
    "#     all_uuids = out_qcs + outputs\n",
    "#     print(len(out_qcs))\n",
    "#     print(len(outputs))\n",
    "#     print(len(all_uuids))\n",
    "    \n",
    "#     if not all_uuids:\n",
    "#         print(counter, 'no_uuid', a_run['uuid'])\n",
    "#         print()\n",
    "#         continue\n",
    "\n",
    "#     for a_uuid in all_uuids:\n",
    "#         status = ff_utils.get_metadata(a_uuid, key=my_key)['status']\n",
    "#         if status != 'deleted':\n",
    "#             print(counter, 'del', a_uuid, a_run['uuid'])\n",
    "#         else:\n",
    "#             print(counter, 'done')\n",
    "#             # ff_utils.patch_metadata({'status': \"deleted\"}, obj_id=out_file ,connection=ff)\n"
   ]
  }
 ],
 "metadata": {
  "kernelspec": {
   "display_name": "Python 3",
   "language": "python",
   "name": "python3"
  },
  "language_info": {
   "codemirror_mode": {
    "name": "ipython",
    "version": 3
   },
   "file_extension": ".py",
   "mimetype": "text/x-python",
   "name": "python",
   "nbconvert_exporter": "python",
   "pygments_lexer": "ipython3",
   "version": "3.5.2"
  }
 },
 "nbformat": 4,
 "nbformat_minor": 2
}
