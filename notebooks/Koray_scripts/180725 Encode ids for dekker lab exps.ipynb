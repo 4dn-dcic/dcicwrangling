{
 "cells": [
  {
   "cell_type": "code",
   "execution_count": 1,
   "metadata": {},
   "outputs": [],
   "source": [
    "from dcicutils import ff_utils\n",
    "from functions.notebook_functions import *\n",
    "\n",
    "my_env = 'data'\n",
    "my_key = get_key('koray_data')"
   ]
  },
  {
   "cell_type": "code",
   "execution_count": 32,
   "metadata": {},
   "outputs": [
    {
     "name": "stdout",
     "output_type": "stream",
     "text": [
      "4DNES6V4HVDE [{'ref': 'GEO:GSM2825413', 'uri': 'http://www.ncbi.nlm.nih.gov/geo/query/acc.cgi?acc=GSM2825413'}]\n",
      "{'dbxrefs': ['ENCODE:ENCSR105KFX']}\n",
      "\n",
      "4DNES98CI6GV []\n",
      "{'dbxrefs': ['ENCODE:ENCSR444WCZ']}\n",
      "\n",
      "4DNESC5J3EIX []\n",
      "{'dbxrefs': ['ENCODE:ENCSR105KFX']}\n",
      "\n",
      "4DNES21NPLZU []\n",
      "{'dbxrefs': ['ENCODE:ENCSR549MGQ']}\n",
      "\n",
      "4DNESYTIFTEE []\n",
      "{'dbxrefs': ['ENCODE:ENCSR834DXR']}\n",
      "\n",
      "4DNESIG4ELE4 []\n",
      "{'dbxrefs': ['ENCODE:ENCSR401TBQ']}\n",
      "\n",
      "4DNESYX5MMAP []\n",
      "{'dbxrefs': ['ENCODE:ENCSR998ZSP']}\n",
      "\n",
      "4DNESNHN919R []\n",
      "{'dbxrefs': ['ENCODE:ENCSR346DCU']}\n",
      "\n",
      "4DNES8ZUV5CQ []\n",
      "{'dbxrefs': ['ENCODE:ENCSR079VIJ']}\n",
      "\n",
      "4DNESCCP4KTY []\n",
      "{'dbxrefs': ['ENCODE:ENCSR440CTR']}\n",
      "\n",
      "4DNES7DFQZLI []\n",
      "{'dbxrefs': ['ENCODE:ENCSR489OCU']}\n",
      "\n",
      "4DNESFBT9P4O []\n",
      "{'dbxrefs': ['ENCODE:ENCSR862OGI']}\n",
      "\n"
     ]
    }
   ],
   "source": [
    "import requests\n",
    "import json\n",
    "# find all runs from 4dn lab without a contributing lab\n",
    "q = \"/search/?award.project=External&experimentset_type=replicate&lab.display_title=Job%20Dekker%2C%20UMMS&type=ExperimentSetReplicate\"\n",
    "all_sets = ff_utils.search_metadata(q, key=my_key)\n",
    "for i in all_sets:\n",
    "    exps = i['experiments_in_set']\n",
    "    print(i['accession'], i['external_references'])\n",
    "    main_ref = []\n",
    "    for e in exps:\n",
    "        exp_data = ff_utils.get_metadata(e['uuid'], key=my_key)\n",
    "        #print(exp_data['uuid'], exp_data['external_references'])\n",
    "        encode_id = exp_data['external_references'][0]['ref'].split(':')[1]\n",
    "        res = requests.get('https://www.encodeproject.org/search/?searchTerm={}&type=Dataset&format=json'.format(encode_id))\n",
    "        datas= res.json()['@graph']\n",
    "        main_ref.append(datas[0]['accession'])\n",
    "    main_ref = list(set(main_ref))\n",
    "    if len(main_ref) != 1:\n",
    "        print('problem')\n",
    "    dbx = \"ENCODE:{}\".format(main_ref[0])\n",
    "    patch_data = {\"dbxrefs\": [dbx]}\n",
    "    print(patch_data)\n",
    "    \n",
    "    ff_utils.patch_metadata(patch_data, obj_id = i['accession'], key=my_key)           \n",
    "    print()\n"
   ]
  },
  {
   "cell_type": "code",
   "execution_count": null,
   "metadata": {},
   "outputs": [],
   "source": []
  }
 ],
 "metadata": {
  "anaconda-cloud": {},
  "kernelspec": {
   "display_name": "Python 3",
   "language": "python",
   "name": "python3"
  },
  "language_info": {
   "codemirror_mode": {
    "name": "ipython",
    "version": 3
   },
   "file_extension": ".py",
   "mimetype": "text/x-python",
   "name": "python",
   "nbconvert_exporter": "python",
   "pygments_lexer": "ipython3",
   "version": "3.5.2"
  }
 },
 "nbformat": 4,
 "nbformat_minor": 2
}
