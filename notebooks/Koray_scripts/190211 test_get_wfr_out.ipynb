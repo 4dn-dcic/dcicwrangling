{
 "cells": [
  {
   "cell_type": "code",
   "execution_count": 1,
   "metadata": {},
   "outputs": [
    {
     "name": "stdout",
     "output_type": "stream",
     "text": [
      "{'status': 'complete', 'bg': '/files-processed/4DNFICZHBIOS/', 'bam': '/files-processed/4DNFI72FWTW5/'}\n"
     ]
    }
   ],
   "source": [
    "from dcicutils import ff_utils\n",
    "from functions.notebook_functions import *\n",
    "from functions.wfr import *\n",
    "\n",
    "# get key from file\n",
    "my_key = get_key('koray_data')\n",
    "\n",
    "# # all usable env names\n",
    "# all_envs = ['data', 'staging', 'fourfront-webdev', 'fouront-mastertest', 'fourfront-hotseat']\n",
    "# # get admin key from s3\n",
    "# my_key = ff_utils.get_authentication_with_server({}, ff_env = 'fourfront-hotseat')\n",
    "\n",
    "\n",
    "# 5 4DNES9IB8HW3 None mouse\n",
    "# /files-fastq/4DNFI1UZY2CT/\n",
    "# 4DNEX7ML7KID has missing Part1 runs\n",
    "# /files-fastq/4DNFITQOGYPQ/\n",
    "# 4DNEXUN22XKF has missing Part1 runs\n",
    "\n",
    "# 6 4DNESMZPCTLH None mouse\n",
    "# /files-fastq/4DNFI44D5IHQ/\n",
    "# 4DNEXU21ER4O has missing Part1 runs\n",
    "# /files-fastq/4DNFI44OMN6S/\n",
    "# 4DNEXP6VC66C has missing Part1 runs\n",
    "\n",
    "# 7 4DNESVQW7LXZ None mouse\n",
    "# /files-fastq/4DNFIX7QZKQZ/\n",
    "# 4DNEXS9PR6LY has missing Part1 runs\n",
    "# /files-fastq/4DNFIP9QQ3V2/\n",
    "# 4DNEX7JW78MW has missing Part1 runs\n",
    "\n",
    "\n",
    "\n",
    "t = get_wfr_out('/files-fastq/4DNFI1UZY2CT/', 'repliseq-parta', my_key, ['v13.1', 'v14'])\n",
    "print(t)"
   ]
  },
  {
   "cell_type": "code",
   "execution_count": null,
   "metadata": {},
   "outputs": [],
   "source": []
  },
  {
   "cell_type": "code",
   "execution_count": null,
   "metadata": {},
   "outputs": [],
   "source": []
  }
 ],
 "metadata": {
  "kernelspec": {
   "display_name": "Python 3",
   "language": "python",
   "name": "python3"
  },
  "language_info": {
   "codemirror_mode": {
    "name": "ipython",
    "version": 3
   },
   "file_extension": ".py",
   "mimetype": "text/x-python",
   "name": "python",
   "nbconvert_exporter": "python",
   "pygments_lexer": "ipython3",
   "version": "3.5.2"
  }
 },
 "nbformat": 4,
 "nbformat_minor": 2
}
