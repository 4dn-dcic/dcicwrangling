{
 "cells": [
  {
   "cell_type": "code",
   "execution_count": null,
   "metadata": {},
   "outputs": [],
   "source": [
    "from dcicutils import ff_utils\n",
    "from functions.notebook_functions import *\n",
    "\n",
    "keys = open('/Users/koray/keypairs.json', 'r').read()\n",
    "my_key = json.loads(keys)['koray_data']\n",
    "schema_name = get_schema_names(my_key)   \n",
    "\n",
    "rep_url = '/search/?experiments_in_set.experiment_type=Repli-seq&type=ExperimentSetReplicate&limit=all'\n",
    "repliseqs = ff_utils.search_metadata(rep_url, key = my_key)\n",
    "print(len(repliseqs))\n",
    "rep_uuids = [i['uuid'] for i in repliseqs]\n",
    "print(len(rep_uuids))"
   ]
  },
  {
   "cell_type": "code",
   "execution_count": null,
   "metadata": {},
   "outputs": [],
   "source": [
    "store_dict = {} \n",
    "item_uuids = []\n",
    "\n",
    "for a_uuid in rep_uuids:\n",
    "    store_dict, item_uuids = record_object(a_uuid, store_dict, item_uuids, my_key, schema_name, add_pc_wfr=True)\n",
    "    print(a_uuid)\n",
    "    print(len(item_uuids))\n",
    "    print(len(list(set(item_uuids))))\n",
    "    print()"
   ]
  },
  {
   "cell_type": "code",
   "execution_count": null,
   "metadata": {},
   "outputs": [],
   "source": [
    "#check for existing contributing labs and run statuses\n",
    "\n",
    "for a_type in store_dict:\n",
    "    if a_type in ['quality_metric_pairsqc', 'quality_metric_fastqc', 'workflow_run_awsem', 'file_processed']:\n",
    "        no_cl = 0\n",
    "        jsons = store_dict[a_type]\n",
    "        print(a_type, len(jsons))\n",
    "        for a_json in jsons:\n",
    "            if not a_json.get('contributing_labs'):\n",
    "                no_cl += 1\n",
    "        # make sure all runs are successful\n",
    "        if a_type == 'workflow_run_awsem':\n",
    "            for a_json in jsons:\n",
    "                if a_json['run_status'] != 'complete':\n",
    "                    print(a_json['uuid'])\n",
    "        print(no_cl)\n",
    "        print"
   ]
  },
  {
   "cell_type": "code",
   "execution_count": null,
   "metadata": {},
   "outputs": [],
   "source": [
    "ma_uuid = '040d334a-2872-41ec-a282-53d062044564'\n",
    "\n",
    "for a_type in store_dict:\n",
    "    if a_type in ['quality_metric_pairsqc', 'quality_metric_fastqc', 'workflow_run_awsem', 'file_processed']:\n",
    "        jsons = store_dict[a_type]\n",
    "        for a_json in jsons:\n",
    "            try:\n",
    "                current_cont_labs = a_json['contributing_labs']\n",
    "            except:\n",
    "                print('no cl', a_type, a_json['uuid'])\n",
    "            if ma_uuid not in current_cont_labs:\n",
    "                current_cont_labs.append(ma_uuid)\n",
    "                ff_utils.patch_metadata({'contributing_labs':current_cont_labs}, a_json['uuid'], key=my_key)\n",
    "        print('patched',a_type, len(jsons))\n",
    "                \n"
   ]
  },
  {
   "cell_type": "code",
   "execution_count": null,
   "metadata": {},
   "outputs": [],
   "source": []
  }
 ],
 "metadata": {
  "kernelspec": {
   "display_name": "Python 3",
   "language": "python",
   "name": "python3"
  },
  "language_info": {
   "codemirror_mode": {
    "name": "ipython",
    "version": 3
   },
   "file_extension": ".py",
   "mimetype": "text/x-python",
   "name": "python",
   "nbconvert_exporter": "python",
   "pygments_lexer": "ipython3",
   "version": "3.5.2"
  }
 },
 "nbformat": 4,
 "nbformat_minor": 2
}
