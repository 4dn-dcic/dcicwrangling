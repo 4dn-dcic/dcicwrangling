{
 "cells": [
  {
   "cell_type": "code",
   "execution_count": null,
   "metadata": {},
   "outputs": [],
   "source": [
    "from dcicutils import ff_utils\n",
    "from functions.notebook_functions import *\n",
    "from uuid import UUID\n",
    "import ast\n",
    "import json\n",
    "import copy\n",
    "\n",
    "env = 'data'\n",
    "my_auth = get_key('koray_data')\n",
    "schema_name = get_schema_names(my_auth) \n",
    "\n",
    "set_to_release = '46db06ad-b399-4cf4-9acc-07b3e25ef132'\n",
    "store, uuids = record_object(set_to_release, my_auth, schema_name, add_pc_wfr=True)\n",
    "print(len(uuids))\n",
    "print(len(list(set(uuids))))\n"
   ]
  },
  {
   "cell_type": "code",
   "execution_count": null,
   "metadata": {},
   "outputs": [],
   "source": [
    "## This part is only for releasing\n",
    "counter = 0\n",
    "for a_type in store:\n",
    "    print(a_type)\n",
    "#     for raw_data in store[a_type]:\n",
    "#         if raw_data['status'] in ['deleted']: \n",
    "#             print 'deleted data', a_type ,raw_data['uuid']\n",
    "#             continue        \n",
    "#         if raw_data['status'] not in ['current', 'released', 'released to project']:    \n",
    "#             counter +=1\n",
    "#             print a_type, raw_data['status'], raw_data['uuid']\n",
    "#             patch_data = {'status': \"released to project\"}\n",
    "#             #ff_utils.patch_metadata(patch_data, obj_id=raw_data['uuid'] ,key=my_auth)\n",
    "#         else:\n",
    "#             # print 'ALREADY RELEASED/TO PROJECT', a_type, raw_data['status'], raw_data['uuid']\n",
    "#             pass\n",
    "            \n",
    "# print counter"
   ]
  },
  {
   "cell_type": "code",
   "execution_count": null,
   "metadata": {},
   "outputs": [],
   "source": []
  }
 ],
 "metadata": {
  "kernelspec": {
   "display_name": "Python 3",
   "language": "python",
   "name": "python3"
  },
  "language_info": {
   "codemirror_mode": {
    "name": "ipython",
    "version": 3
   },
   "file_extension": ".py",
   "mimetype": "text/x-python",
   "name": "python",
   "nbconvert_exporter": "python",
   "pygments_lexer": "ipython3",
   "version": "3.5.2"
  }
 },
 "nbformat": 4,
 "nbformat_minor": 2
}
