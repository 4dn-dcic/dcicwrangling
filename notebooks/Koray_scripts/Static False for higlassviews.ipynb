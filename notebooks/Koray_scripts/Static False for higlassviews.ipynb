{
 "cells": [
  {
   "cell_type": "code",
   "execution_count": 2,
   "metadata": {},
   "outputs": [],
   "source": [
    "from dcicutils import ff_utils\n",
    "from functions.notebook_functions import *\n",
    "\n",
    "# get key from file\n",
    "my_key = get_key('koray_data')\n",
    "my_env = 'data'\n",
    "# all usable env names\n",
    "all_envs = ['data', 'staging', 'fourfront-webdev', 'fourfront-mastertest', 'fourfront-hotseat']\n",
    "# get admin key from s3\n",
    "#my_key = ff_utils.get_authentication_with_server({}, ff_env = 'data')\n",
    "\n"
   ]
  },
  {
   "cell_type": "code",
   "execution_count": 3,
   "metadata": {},
   "outputs": [
    {
     "name": "stdout",
     "output_type": "stream",
     "text": [
      "11\n"
     ]
    }
   ],
   "source": [
    "q = '/search/?type=HiglassViewConfig'\n",
    "sets = ff_utils.search_metadata(q, key = my_key)\n",
    "print(len(sets))"
   ]
  },
  {
   "cell_type": "code",
   "execution_count": 7,
   "metadata": {},
   "outputs": [
    {
     "name": "stdout",
     "output_type": "stream",
     "text": [
      "6d423322-fc4b-4d1f-8693-017b7cf59d7e\n",
      "51d28485-5f94-465d-b2ec-3bf011754360\n",
      "changed it\n",
      "fd5827e2-8b5d-4406-846e-f579de5bc399\n",
      "changed it\n",
      "a5ba7f34-b3ed-490d-8e33-2c90d694a7aa\n",
      "changed it\n",
      "97da5152-d373-4a66-b029-c14d73d0194e\n",
      "changed it\n",
      "e028a5b3-3b11-4bb1-ab55-9bbb55e8d430\n",
      "changed it\n",
      "7a9e0ebb-e9c5-4ae2-ba98-1d22fffb2f08\n",
      "cbc5600c-ad56-4256-9e21-29ad10216570\n",
      "00000000-1111-0000-1111-000000000000\n",
      "00000000-1111-0000-1111-000000000003\n",
      "changed it\n",
      "changed it\n",
      "00000000-1111-0000-1111-000000000002\n",
      "changed it\n"
     ]
    }
   ],
   "source": [
    "for hg in sets:\n",
    "    uuid = hg['uuid']\n",
    "    print(uuid)\n",
    "    res= ff_utils.get_metadata(uuid, key= my_key, add_on = 'frame=raw')\n",
    "    changed = False\n",
    "    if res.get('viewconfig'):\n",
    "        views = res['viewconfig']['views']\n",
    "        it = -1\n",
    "        for v in views:\n",
    "            it += 1\n",
    "            layout = v['layout']\n",
    "            \n",
    "            if layout['static'] == True:\n",
    "                res['viewconfig']['views'][it]['layout']['static'] = False\n",
    "                print('changed it')\n",
    "                changed = True\n",
    "    if changed:\n",
    "        ff_utils.patch_metadata(res, key=my_key)\n",
    "            \n",
    "        \n",
    "        "
   ]
  },
  {
   "cell_type": "code",
   "execution_count": null,
   "metadata": {},
   "outputs": [],
   "source": []
  }
 ],
 "metadata": {
  "kernelspec": {
   "display_name": "Python 3",
   "language": "python",
   "name": "python3"
  },
  "language_info": {
   "codemirror_mode": {
    "name": "ipython",
    "version": 3
   },
   "file_extension": ".py",
   "mimetype": "text/x-python",
   "name": "python",
   "nbconvert_exporter": "python",
   "pygments_lexer": "ipython3",
   "version": "3.5.2"
  }
 },
 "nbformat": 4,
 "nbformat_minor": 2
}
