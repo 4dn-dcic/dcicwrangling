{
 "cells": [
  {
   "cell_type": "markdown",
   "metadata": {},
   "source": [
    "### Cleanup for the foursight check\n",
    "carry this to fs"
   ]
  },
  {
   "cell_type": "code",
   "execution_count": 13,
   "metadata": {},
   "outputs": [],
   "source": [
    "from dcicutils import ff_utils\n",
    "from functions.notebook_functions import *\n",
    "from functions.cleanup import *\n",
    "import time\n",
    "time1 = time.time()\n",
    "\n",
    "\n",
    "def fetch_wfr_associated(wfr_uuid, my_key):\n",
    "    \"\"\"Given wfr_uuid, find associated output files and qcs\"\"\"\n",
    "    wfr_as_list = []\n",
    "    wfr_info = ff_utils.get_metadata(wfr_uuid, my_key)\n",
    "    print(wfr_info['display_title'])\n",
    "    wfr_as_list.append(wfr_info['uuid'])\n",
    "    if wfr_info.get('output_files'):\n",
    "        for o in wfr_info['output_files']:\n",
    "                if o.get('value'):\n",
    "                    wfr_as_list.append(o['value']['uuid'])\n",
    "                if o.get('value_qc'):\n",
    "                    wfr_as_list.append(o['value_qc']['uuid']) # this is a @id\n",
    "    if wfr_info.get('output_quality_metrics'):\n",
    "        for qc in wfr_info['output_quality_metrics']:\n",
    "            if qc.get('value'):\n",
    "                wfr_as_list.append(qc['value']['uuid'])\n",
    "    return wfr_as_list\n",
    "\n",
    "my_auth = get_key('koray_data')\n",
    "\n",
    "del_me = {\n",
    "    \"c797540e-50ba-4b7f-9148-275c30e2b9d0\": [\n",
    "        \"07cad4ec-bf7a-4887-b5c1-ac918ea9149f\"\n",
    "    ]\n",
    "}"
   ]
  },
  {
   "cell_type": "code",
   "execution_count": 14,
   "metadata": {},
   "outputs": [
    {
     "name": "stdout",
     "output_type": "stream",
     "text": [
      "pairsqc-single 0.2.6 run 2019-04-05 14:25:55.212048\n"
     ]
    }
   ],
   "source": [
    "for i in del_me:\n",
    "    lip = fetch_wfr_associated(i, my_auth)\n",
    "    for uu in lip:\n",
    "        ff_utils.patch_metadata({'status': 'deleted'}, uu, my_auth)\n",
    "        "
   ]
  },
  {
   "cell_type": "code",
   "execution_count": null,
   "metadata": {},
   "outputs": [],
   "source": []
  }
 ],
 "metadata": {
  "kernelspec": {
   "display_name": "Python 3",
   "language": "python",
   "name": "python3"
  },
  "language_info": {
   "codemirror_mode": {
    "name": "ipython",
    "version": 3
   },
   "file_extension": ".py",
   "mimetype": "text/x-python",
   "name": "python",
   "nbconvert_exporter": "python",
   "pygments_lexer": "ipython3",
   "version": "3.5.2"
  }
 },
 "nbformat": 4,
 "nbformat_minor": 2
}
