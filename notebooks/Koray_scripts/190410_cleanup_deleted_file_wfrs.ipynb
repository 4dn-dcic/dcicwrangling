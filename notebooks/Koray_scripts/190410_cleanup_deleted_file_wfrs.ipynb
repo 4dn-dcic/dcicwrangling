{
 "cells": [
  {
   "cell_type": "markdown",
   "metadata": {},
   "source": [
    "### Cleanup for the foursight check\n",
    "carry this to fs"
   ]
  },
  {
   "cell_type": "code",
   "execution_count": null,
   "metadata": {},
   "outputs": [],
   "source": [
    "from dcicutils import ff_utils\n",
    "from functions.notebook_functions import *\n",
    "from functions.cleanup import *\n",
    "import time\n",
    "time1 = time.time()\n",
    "\n",
    "\n",
    "def fetch_wfr_associated(wfr_uuid, my_key):\n",
    "    \"\"\"Given wfr_uuid, find associated output files and qcs\"\"\"\n",
    "    wfr_as_list = []\n",
    "    wfr_info = ff_utils.get_metadata(wfr_uuid, my_key)\n",
    "    print(wfr_info['display_title'])\n",
    "    wfr_as_list.append(wfr_info['uuid'])\n",
    "    if wfr_info.get('output_files'):\n",
    "        for o in wfr_info['output_files']:\n",
    "                if o.get('value'):\n",
    "                    wfr_as_list.append(o['value']['uuid'])\n",
    "                if o.get('value_qc'):\n",
    "                    wfr_as_list.append(o['value_qc']['uuid']) # this is a @id\n",
    "    if wfr_info.get('output_quality_metrics'):\n",
    "        for qc in wfr_info['output_quality_metrics']:\n",
    "            if qc.get('value'):\n",
    "                wfr_as_list.append(qc['value']['uuid'])\n",
    "    return wfr_as_list\n",
    "\n",
    "my_auth = get_key('koray_data')\n",
    "\n",
    "del_me = {\n",
    "    \"0f545e24-4eb8-4369-b5ea-c99c2a02a5e4\": [\n",
    "        \"0c2289a1-d21b-4c40-b476-cbbccce8e4cc\"\n",
    "    ]\n",
    "}"
   ]
  },
  {
   "cell_type": "code",
   "execution_count": null,
   "metadata": {},
   "outputs": [],
   "source": [
    "for i in del_me:\n",
    "    lip = fetch_wfr_associated(i, my_auth)\n",
    "    for uu in lip:\n",
    "        ff_utils.patch_metadata({'status': 'in review by lab'}, uu, my_auth)\n",
    "        "
   ]
  },
  {
   "cell_type": "code",
   "execution_count": null,
   "metadata": {},
   "outputs": [],
   "source": []
  }
 ],
 "metadata": {
  "kernelspec": {
   "display_name": "Python 3",
   "language": "python",
   "name": "python3"
  },
  "language_info": {
   "codemirror_mode": {
    "name": "ipython",
    "version": 3
   },
   "file_extension": ".py",
   "mimetype": "text/x-python",
   "name": "python",
   "nbconvert_exporter": "python",
   "pygments_lexer": "ipython3",
   "version": "3.5.2"
  }
 },
 "nbformat": 4,
 "nbformat_minor": 2
}
