{
 "cells": [
  {
   "cell_type": "code",
   "execution_count": null,
   "metadata": {},
   "outputs": [],
   "source": [
    "from dcicutils import ff_utils\n",
    "from functions.notebook_functions import *\n",
    "from functions.cleanup import *\n",
    "\n",
    "my_key = get_key('koray_data')\n",
    "all_users = ff_utils.search_metadata('/search/?type=User&field=display_title&field=contact_email&field=preferred_email&field=email&sort=display_title', my_key)\n",
    "print(len(all_users))"
   ]
  },
  {
   "cell_type": "code",
   "execution_count": null,
   "metadata": {},
   "outputs": [],
   "source": [
    "print(all_users[0])"
   ]
  },
  {
   "cell_type": "code",
   "execution_count": null,
   "metadata": {},
   "outputs": [],
   "source": [
    "sec = {'contact_email': 'koray_kirli@gmail.com', '@id': '/users/986b362f-4eb6-4a9c-8173-3ab267111888/', 'display_title': 'Koray Kirli', '@type': ['User', 'Item'], 'email': 'koray_kirli@hms.harvard.edu'}\n",
    "all_users.append(sec)"
   ]
  },
  {
   "cell_type": "code",
   "execution_count": null,
   "metadata": {
    "scrolled": false
   },
   "outputs": [],
   "source": [
    "import time\n",
    "import itertools\n",
    "from fuzzywuzzy import fuzz\n",
    "start = time.time()\n",
    "\n",
    "# combine all emails for each user\n",
    "for a_user in all_users:\n",
    "    mail_fields = ['email', 'contact_email', 'preferred_email']\n",
    "    user_mails = []\n",
    "    for f in mail_fields:\n",
    "        if a_user.get(f):\n",
    "            user_mails.append(a_user[f].lower())\n",
    "    a_user['all_mails'] = list(set(user_mails))\n",
    "    \n",
    "end = time.time()\n",
    "print(end-start)\n",
    "\n",
    "combs = itertools.combinations(all_users, 2)\n",
    "for comb in combs:\n",
    "    us1 = comb[0]\n",
    "    us2 = comb[1]\n",
    "    common_mail = list(set(us1['all_mails']) & set(us2['all_mails']))\n",
    "    if common_mail:\n",
    "        print(common_mail)\n",
    "\n",
    "    s = fuzz.token_sort_ratio(us1['display_title'], us2['display_title'])\n",
    "    if s>85:\n",
    "        print(us1['display_title'], us2['display_title'], s)\n",
    "\n",
    "end = time.time()\n",
    "print(end-start)\n",
    "\n"
   ]
  },
  {
   "cell_type": "code",
   "execution_count": null,
   "metadata": {},
   "outputs": [],
   "source": []
  }
 ],
 "metadata": {
  "kernelspec": {
   "display_name": "Python 3",
   "language": "python",
   "name": "python3"
  },
  "language_info": {
   "codemirror_mode": {
    "name": "ipython",
    "version": 3
   },
   "file_extension": ".py",
   "mimetype": "text/x-python",
   "name": "python",
   "nbconvert_exporter": "python",
   "pygments_lexer": "ipython3",
   "version": "3.5.2"
  }
 },
 "nbformat": 4,
 "nbformat_minor": 2
}
