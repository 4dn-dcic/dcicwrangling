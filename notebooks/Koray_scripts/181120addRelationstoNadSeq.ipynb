{
 "cells": [
  {
   "cell_type": "code",
   "execution_count": 2,
   "metadata": {},
   "outputs": [],
   "source": [
    "from dcicutils import ff_utils\n",
    "from functions.notebook_functions import *\n",
    "\n",
    "# get key from file\n",
    "my_key = get_key('koray_data')\n",
    "# all usable env names\n",
    "all_envs = ['data', 'staging', 'fourfront-webdev', 'fourfront-mastertest', 'fourfront-hotseat']\n",
    "# get admin key from s3\n",
    "#my_key = ff_utils.get_authentication_with_server({}, ff_env = 'data')"
   ]
  },
  {
   "cell_type": "code",
   "execution_count": 3,
   "metadata": {},
   "outputs": [
    {
     "name": "stdout",
     "output_type": "stream",
     "text": [
      "10\n"
     ]
    }
   ],
   "source": [
    "q = '/browse/?experiments_in_set.experiment_type=NAD-seq&experimentset_type=replicate&status=pre-release&status=released&status=released+to+project&type=ExperimentSetReplicate'\n",
    "gen = ff_utils.search_metadata(q, key=my_key)\n",
    "print(len(gen))"
   ]
  },
  {
   "cell_type": "code",
   "execution_count": 9,
   "metadata": {},
   "outputs": [
    {
     "name": "stdout",
     "output_type": "stream",
     "text": [
      "4DNES8D85R8H\n",
      "control (WGS)\n",
      "NAD-seq on MEF cells (not crosslinked)_1_1\n",
      "[{'relationship_type': 'controlled by', 'experiment': '4DNEXVDUDPJN'}]\n",
      "4DNESV9Q2PMB\n",
      "control (WGS)\n",
      "NAD-seq on H1 cells_1_1\n",
      "[{'relationship_type': 'controlled by', 'experiment': '4DNEXUEPMOTS'}]\n",
      "4DNESFN9RH2P\n",
      "control (WGS)\n",
      "NAD-seq on HFFc6 cells_1_1\n",
      "[{'relationship_type': 'controlled by', 'experiment': '4DNEX4FVGWNU'}]\n",
      "4DNES4U7AY3P\n",
      "control (WGS)\n",
      "NAD-seq on MEF-c5 cells_3_1\n",
      "[{'relationship_type': 'controlled by', 'experiment': '4DNEXO4ZBUGU'}]\n",
      "NAD-seq on MEF-c5 cells_3_2\n",
      "[{'relationship_type': 'controlled by', 'experiment': '4DNEXVIJQJT1'}]\n",
      "NAD-seq on MEF-c5 cells_3_3\n",
      "[{'relationship_type': 'controlled by', 'experiment': '4DNEXOKS6IC2'}]\n",
      "4DNES7SVJXAI\n",
      "control (WGS)\n",
      "NAD-seq on MEF-c5 cells (not crosslinked)_2_1\n",
      "[{'relationship_type': 'controlled by', 'experiment': '4DNEX4OLAN3C'}]\n",
      "NAD-seq on MEF-c5 cells (not crosslinked)_2_2\n",
      "[{'relationship_type': 'controlled by', 'experiment': '4DNEX993GF46'}]\n"
     ]
    }
   ],
   "source": [
    "controls = {}\n",
    "for f in gen:\n",
    "    desc = f['description']\n",
    "    datas = f['dataset_label']\n",
    "    condition = f['condition']\n",
    "    if 'control' in condition.lower():\n",
    "        print(f['accession'])\n",
    "        print(condition)\n",
    "        replicate_exps = f['replicate_exps']\n",
    "        replicate_exps = sorted(replicate_exps, key = lambda x: [x['bio_rep_no'], x['tec_rep_no']])\n",
    "        r_no = len(replicate_exps)\n",
    "\n",
    "        \n",
    "        for n, i in enumerate(replicate_exps):\n",
    "            key = [datas, str(r_no), str(n+1)]\n",
    "            key = '_'.join(key)\n",
    "            controls[key] = [{'relationship_type': 'controlled by', 'experiment': i['replicate_exp']['accession']}]\n",
    "            print(key)\n",
    "            print(controls[key])\n",
    "  "
   ]
  },
  {
   "cell_type": "code",
   "execution_count": 13,
   "metadata": {},
   "outputs": [
    {
     "name": "stdout",
     "output_type": "stream",
     "text": [
      "4DNES15QV1OO\n",
      "nucleolar-associated DNA\n",
      "[{'relationship_type': 'controlled by', 'experiment': '4DNEXVDUDPJN'}]\n",
      "\n",
      "4DNESV4F9PFH\n",
      "nucleolar-associated DNA\n",
      "[{'relationship_type': 'controlled by', 'experiment': '4DNEXUEPMOTS'}]\n",
      "\n",
      "4DNESVA79ZRN\n",
      "nucleolar-associated DNA\n",
      "[{'relationship_type': 'controlled by', 'experiment': '4DNEX4FVGWNU'}]\n",
      "\n",
      "4DNESR3K7VRN\n",
      "nucleolar-associated DNA\n",
      "[{'relationship_type': 'controlled by', 'experiment': '4DNEXO4ZBUGU'}]\n",
      "[{'relationship_type': 'controlled by', 'experiment': '4DNEXVIJQJT1'}]\n",
      "[{'relationship_type': 'controlled by', 'experiment': '4DNEXOKS6IC2'}]\n",
      "\n",
      "4DNESNEBF9W4\n",
      "nucleolar-associated DNA\n",
      "[{'relationship_type': 'controlled by', 'experiment': '4DNEX4OLAN3C'}]\n",
      "[{'relationship_type': 'controlled by', 'experiment': '4DNEX993GF46'}]\n",
      "\n"
     ]
    }
   ],
   "source": [
    "for f in gen:\n",
    "    desc = f['description']\n",
    "    datas = f['dataset_label']\n",
    "    condition = f['condition']\n",
    "    if 'control' not in condition.lower():\n",
    "        print(f['accession'])\n",
    "        print(condition)\n",
    "        replicate_exps = f['replicate_exps']\n",
    "        replicate_exps = sorted(replicate_exps, key = lambda x: [x['bio_rep_no'], x['tec_rep_no']])\n",
    "        r_no = len(replicate_exps)\n",
    "        for n, i in enumerate(jreplicate_exps):\n",
    "            expacc = i['replicate_exp']['uuid']\n",
    "            key = [datas, str(r_no), str(n+1)]\n",
    "            key = '_'.join(key)\n",
    "            control = controls[key]\n",
    "            print(control)\n",
    "            ff_utils.patch_metadata({'experiment_relation': control}, obj_id=expacc,key=my_key)\n",
    "        print()\n",
    "\n",
    "        \n",
    "\n",
    "\n"
   ]
  },
  {
   "cell_type": "code",
   "execution_count": 12,
   "metadata": {},
   "outputs": [
    {
     "name": "stdout",
     "output_type": "stream",
     "text": [
      "4DNES2O1UDH2\n",
      "4DNESSNWXHXK\n",
      "4DNESWX32ZCG\n",
      "4DNES9WNNK52\n"
     ]
    }
   ],
   "source": [
    "for f in gen:\n",
    "    if f['accession'] != '4DNESYMCM19N':\n",
    "        print (f['accession'])\n",
    "        reps = f['replicate_exps']\n",
    "        for rep in reps:\n",
    "            expacc = rep['replicate_exp']['uuid']\n",
    "#             if rep['tec_rep_no'] == 1:\n",
    "#                 ff_utils.patch_metadata({'experiment_relation': t1}, obj_id=expacc,key=my_key)\n",
    "#             if rep['tec_rep_no'] == 2:\n",
    "#                 ff_utils.patch_metadata({'experiment_relation': t2}, obj_id=expacc,key=my_key)\n",
    "\n",
    "        "
   ]
  },
  {
   "cell_type": "code",
   "execution_count": null,
   "metadata": {},
   "outputs": [],
   "source": []
  }
 ],
 "metadata": {
  "kernelspec": {
   "display_name": "Python 3",
   "language": "python",
   "name": "python3"
  },
  "language_info": {
   "codemirror_mode": {
    "name": "ipython",
    "version": 3
   },
   "file_extension": ".py",
   "mimetype": "text/x-python",
   "name": "python",
   "nbconvert_exporter": "python",
   "pygments_lexer": "ipython3",
   "version": "3.5.2"
  }
 },
 "nbformat": 4,
 "nbformat_minor": 2
}
