{
 "cells": [
  {
   "cell_type": "code",
   "execution_count": 16,
   "metadata": {},
   "outputs": [
    {
     "name": "stdout",
     "output_type": "stream",
     "text": [
      "['4DNEXXXIOKBI', '4DNEXMKH6JLR', '4DNEXRKHOMEW', '4DNEX8V44BHD', '4DNEX25CHVSY', '4DNEX6C8NI2O']\n",
      "6\n",
      "187\n",
      "187\n"
     ]
    }
   ],
   "source": [
    "from dcicutils import ff_utils\n",
    "from functions.wfr import *\n",
    "from functions.wfr_settings import *\n",
    "from functions.notebook_functions import *\n",
    "\n",
    "# tibanna = Tibanna(env=env)\n",
    "my_env = 'data'\n",
    "my_key = get_key('koray_data')\n",
    "\n",
    "# current\n",
    "ids = \"4DNEX25CHVSY 4DNEXRKHOMEW 4DNEX6C8NI2O 4DNEXMKH6JLR 4DNEXXXIOKBI 4DNEX8V44BHD 4DNEX25CHVSY 4DNEXMKH6JLR 4DNEXRKHOMEW  4DNEXXXIOKBI 4DNEX6C8NI2O 4DNEX8V44BHD\"\n",
    "ids = list(set(filter(None, [i.strip() for i in ids.split(' ')])))\n",
    "\n",
    "print(ids)\n",
    "set_to_release =[]\n",
    "for i in ids:\n",
    "    set_to_release.append(ff_utils.get_metadata(i,my_key)['uuid'])\n",
    "\n",
    "schema_name = get_schema_names(my_key) \n",
    "print(len(set_to_release))\n",
    "store, uuids = record_object_es(set_to_release, my_key, schema_name, add_pc_wfr=True, store_frame='object', ignore_field = ['experiment_relation'])\n",
    "print(len(uuids))\n",
    "print(len(list(set(uuids))))"
   ]
  },
  {
   "cell_type": "code",
   "execution_count": 19,
   "metadata": {},
   "outputs": [
    {
     "name": "stdout",
     "output_type": "stream",
     "text": [
      "encode-chipseq-aln-ctl 1.1.1 run 2019-01-30 17:53:26.326255\n",
      "encode-chipseq-aln-ctl 1.1.1 run 2019-02-05 18:25:07.017203\n",
      "encode-chipseq-aln-chip 1.1.1 run 2019-01-30 17:53:12.367589\n",
      "encode-chipseq-aln-ctl 1.1.1 run 2019-01-30 17:53:32.980622\n",
      "encode-chipseq-aln-ctl 1.1.1 run 2019-01-30 17:53:19.931671\n",
      "encode-chipseq-aln-chip 1.1.1 run 2019-01-30 17:53:05.660599\n",
      "encode-chipseq-postaln 1.1.1 run 2019-01-31 04:19:58.310079\n",
      "encode-chipseq-postaln 1.1.1 run 2019-01-31 04:20:13.195950\n"
     ]
    }
   ],
   "source": [
    "interest = []\n",
    "for i in store['workflow_run_awsem']:\n",
    "    dt =  i['display_title']\n",
    "    for case in ['encode-chipseq-aln-ctl', 'encode-chipseq-aln-chip', 'encode-chipseq-postaln']:\n",
    "        if dt.startswith(case):\n",
    "            interest.append(i)\n",
    "for i in interest:\n",
    "    print(i['display_title'])"
   ]
  },
  {
   "cell_type": "code",
   "execution_count": 22,
   "metadata": {
    "scrolled": true
   },
   "outputs": [
    {
     "name": "stdout",
     "output_type": "stream",
     "text": [
      "8 14\n"
     ]
    }
   ],
   "source": [
    "action = True\n",
    "delw = 0\n",
    "delf = 0\n",
    "for inte in interest: \n",
    "    i = ff_utils.get_metadata(inte['uuid'], my_key)\n",
    "    patch_data = {'description': \"This workflow run is deleted\", 'status': \"deleted\"}\n",
    "    delw += 1\n",
    "    if action:\n",
    "        ff_utils.patch_metadata(patch_data, obj_id=i['uuid'] ,key=my_key)\n",
    "    # delete output files of the deleted workflow run\n",
    "    for o in i['output_files']:\n",
    "        if o.get('value'):\n",
    "            ud = o['value']['uuid']\n",
    "            delf += 1\n",
    "            if action:\n",
    "                ff_utils.patch_metadata({'status': \"deleted\"}, obj_id=ud ,key=my_key)\n",
    "print(delw, delf)           "
   ]
  },
  {
   "cell_type": "code",
   "execution_count": 14,
   "metadata": {},
   "outputs": [
    {
     "name": "stdout",
     "output_type": "stream",
     "text": [
      "+++++++++++++++++++++++++++++++++++++++++++++++++++++++++++++++++++++++++++++++++++++++++++++++++++++++++++++++++++++++++++++++++++++++++++++++++++++++++++++++++++++++++++++++++++++++++++++++++++++++++++++++++++++++++++++++++++++++++++++++++++++++++++++++++++++++++++++++++++++++++++++++++++++++++++++++++++++++++++++++++++++++++++++++++++++++++++++++++++++++++++++++++++++++++++++++++++++++++++++++++++++++++++++++++++++++++++++++++++++++++++++++++++++++++++++++++++++++++++++++++++++++++++++++++++++++++++++++++++++++++++++++++++++++++++++++++++++++++++++++++++++++++++++++++++++++++++++++++++++++++++++++++++++++++++++++++++++++++++++++++++++++++++++++++++++++++++++++++++++++++++++++++++++++++++++++++++++++++++++++++++++++++++++++++++++++++++++++++++++++++++++++++++++++++++++++++++++++++++++++++++++++++++++++++++++++++++++++++++++++++++++++++++++++++++++++++++++++++++++++++++++++++++++++++++++++++++++++++++++++++++++++++++++++++++++++++++++++++++++++++++++++++++++++++++++++++++++++++++++++++++++++++++++++++++++++++++++++++++++++++++++++++++++++++++++++++++++++++++++++++++++++++++++++++++++++++++++++++++++++++++++"
     ]
    }
   ],
   "source": [
    "#patch files to trigger indexing when secondary queue is crazy\n",
    "for i in all_wfrs: \n",
    "    for o in i['input_files']:\n",
    "        if o.get('value'):\n",
    "            print('+', end='')\n",
    "            ud = o['value']['uuid']\n",
    "            ff_utils.patch_metadata({'notes': \"\"}, obj_id=ud ,key=my_key)\n",
    "     "
   ]
  },
  {
   "cell_type": "code",
   "execution_count": null,
   "metadata": {},
   "outputs": [],
   "source": []
  }
 ],
 "metadata": {
  "kernelspec": {
   "display_name": "Python 3",
   "language": "python",
   "name": "python3"
  },
  "language_info": {
   "codemirror_mode": {
    "name": "ipython",
    "version": 3
   },
   "file_extension": ".py",
   "mimetype": "text/x-python",
   "name": "python",
   "nbconvert_exporter": "python",
   "pygments_lexer": "ipython3",
   "version": "3.5.2"
  }
 },
 "nbformat": 4,
 "nbformat_minor": 2
}
