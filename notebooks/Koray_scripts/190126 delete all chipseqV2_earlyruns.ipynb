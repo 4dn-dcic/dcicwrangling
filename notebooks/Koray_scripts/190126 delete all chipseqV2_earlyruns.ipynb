{
 "cells": [
  {
   "cell_type": "code",
   "execution_count": 1,
   "metadata": {},
   "outputs": [
    {
     "name": "stdout",
     "output_type": "stream",
     "text": [
      "12\n"
     ]
    }
   ],
   "source": [
    "from dcicutils import ff_utils\n",
    "from functions.wfr import *\n",
    "from functions.wfr_settings import *\n",
    "from functions.notebook_functions import *\n",
    "\n",
    "# tibanna = Tibanna(env=env)\n",
    "my_env = 'data'\n",
    "my_key = get_key('koray_data')\n",
    "\n",
    "wfr_url = '/search/?type=WorkflowRunAwsem&workflow.title=Chip-seq+data+processing+pipeline%2C+Align-only%2C+Control&workflow.title=Chip-seq+data+processing+pipeline%2C+Align-only%2C+ChIP'\n",
    "wfr_url = '/search/?type=WorkflowRunAwsem&workflow.title=Chip-seq+data+processing+pipeline%2C+post-alignment'\n",
    "all_wfrs = ff_utils.search_metadata(wfr_url , key=my_key)\n",
    "print(len(all_wfrs))"
   ]
  },
  {
   "cell_type": "code",
   "execution_count": 2,
   "metadata": {
    "scrolled": true
   },
   "outputs": [
    {
     "name": "stdout",
     "output_type": "stream",
     "text": [
      "12 36\n"
     ]
    }
   ],
   "source": [
    "action = True\n",
    "delw = 0\n",
    "delf = 0\n",
    "for i in all_wfrs: \n",
    "    patch_data = {'description': \"This workflow run is deleted\", 'status': \"deleted\"}\n",
    "    delw += 1\n",
    "    if action:\n",
    "        ff_utils.patch_metadata(patch_data, obj_id=i['uuid'] ,key=my_key)\n",
    "    # delete output files of the deleted workflow run\n",
    "    for o in i['output_files']:\n",
    "        if o.get('value'):\n",
    "            ud = o['value']['uuid']\n",
    "            delf += 1\n",
    "            if action:\n",
    "                ff_utils.patch_metadata({'status': \"deleted\"}, obj_id=ud ,key=my_key)\n",
    "print(delw, delf)           "
   ]
  },
  {
   "cell_type": "code",
   "execution_count": 14,
   "metadata": {},
   "outputs": [
    {
     "name": "stdout",
     "output_type": "stream",
     "text": [
      "+++++++++++++++++++++++++++++++++++++++++++++++++++++++++++++++++++++++++++++++++++++++++++++++++++++++++++++++++++++++++++++++++++++++++++++++++++++++++++++++++++++++++++++++++++++++++++++++++++++++++++++++++++++++++++++++++++++++++++++++++++++++++++++++++++++++++++++++++++++++++++++++++++++++++++++++++++++++++++++++++++++++++++++++++++++++++++++++++++++++++++++++++++++++++++++++++++++++++++++++++++++++++++++++++++++++++++++++++++++++++++++++++++++++++++++++++++++++++++++++++++++++++++++++++++++++++++++++++++++++++++++++++++++++++++++++++++++++++++++++++++++++++++++++++++++++++++++++++++++++++++++++++++++++++++++++++++++++++++++++++++++++++++++++++++++++++++++++++++++++++++++++++++++++++++++++++++++++++++++++++++++++++++++++++++++++++++++++++++++++++++++++++++++++++++++++++++++++++++++++++++++++++++++++++++++++++++++++++++++++++++++++++++++++++++++++++++++++++++++++++++++++++++++++++++++++++++++++++++++++++++++++++++++++++++++++++++++++++++++++++++++++++++++++++++++++++++++++++++++++++++++++++++++++++++++++++++++++++++++++++++++++++++++++++++++++++++++++++++++++++++++++++++++++++++++++++++++++++++++++++++++"
     ]
    }
   ],
   "source": [
    "#patch files to trigger indexing when secondary queue is crazy\n",
    "for i in all_wfrs: \n",
    "    for o in i['input_files']:\n",
    "        if o.get('value'):\n",
    "            print('+', end='')\n",
    "            ud = o['value']['uuid']\n",
    "            ff_utils.patch_metadata({'notes': \"\"}, obj_id=ud ,key=my_key)\n",
    "     "
   ]
  },
  {
   "cell_type": "code",
   "execution_count": null,
   "metadata": {},
   "outputs": [],
   "source": []
  }
 ],
 "metadata": {
  "kernelspec": {
   "display_name": "Python 3",
   "language": "python",
   "name": "python3"
  },
  "language_info": {
   "codemirror_mode": {
    "name": "ipython",
    "version": 3
   },
   "file_extension": ".py",
   "mimetype": "text/x-python",
   "name": "python",
   "nbconvert_exporter": "python",
   "pygments_lexer": "ipython3",
   "version": "3.5.2"
  }
 },
 "nbformat": 4,
 "nbformat_minor": 2
}
