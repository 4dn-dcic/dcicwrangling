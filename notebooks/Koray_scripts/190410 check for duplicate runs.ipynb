{
 "cells": [
  {
   "cell_type": "code",
   "execution_count": null,
   "metadata": {},
   "outputs": [],
   "source": [
    "### This script looks at all files\n",
    "### 1) Checks deleted files for md5 related fields and clears them\n",
    "###                         for qc metric and changes status of qc metric object to deleted\n",
    "###                         clears the qc metric field\n",
    "###                         for workflows and deletes all of them\n",
    "### 2) Checks other files for workflows and deleted old workflows\n",
    "###                                     and deleted problematic ones (status or rev)\n",
    "### takes around 20 min\n",
    "\n",
    "from dcicutils import ff_utils\n",
    "from functions.notebook_functions import *\n",
    "from functions.cleanup import *\n",
    "import time\n",
    "\n",
    "my_key = get_key('koray_data')\n",
    "url = '/search/?file_format.file_format=bam&file_type=intermediate+file&type=FileProcessed'\n",
    "all_files = ff_utils.search_metadata(url, my_key)\n",
    "print(len(all_files))"
   ]
  },
  {
   "cell_type": "code",
   "execution_count": null,
   "metadata": {},
   "outputs": [],
   "source": [
    "# import json\n",
    "\n",
    "# with open('fastq.json', 'w') as fp:\n",
    "#     json.dump(all_files, fp)\n",
    "\n",
    "with open('delete.json', 'r') as fp:\n",
    "    all_files = json.load(fp)"
   ]
  },
  {
   "cell_type": "code",
   "execution_count": null,
   "metadata": {
    "scrolled": true
   },
   "outputs": [],
   "source": [
    "from collections import Counter\n",
    "\n",
    "sets = []\n",
    "\n",
    "it = 0\n",
    "for a_file in all_files:\n",
    "    wfrs_inputs = a_file.get('workflow_run_inputs')\n",
    "    if not wfrs_inputs:\n",
    "        continue\n",
    "    \n",
    "    wfr_names = [i['display_title'].split(' ')[0] for i in wfrs_inputs]\n",
    "    dups = [k for k,v in Counter(wfr_names).items() if v>1]\n",
    "    \n",
    "    if not dups:\n",
    "        continue\n",
    "    sat = 0\n",
    "    if dups:\n",
    "        for a_case in dups:\n",
    "            sat = 1\n",
    "            print(a_file['accession'], a_file['status'], a_case)\n",
    "#     if sat == 1:\n",
    "#         break\n",
    "#             if a_case == 'pairsqc-single':\n",
    "#                 delete_wfrs(a_file, my_key, True)\n",
    "            \n",
    "#             sets.append(a_file['experiments'][0]['experiment_sets'][0]['@id'])\n",
    "# print(list(set(sets)))\n",
    " \n",
    "                \n",
    "\n",
    "    \n",
    "    "
   ]
  },
  {
   "cell_type": "code",
   "execution_count": null,
   "metadata": {},
   "outputs": [],
   "source": [
    "from dcicutils import ff_utils\n",
    "from functions.notebook_functions import *\n",
    "from functions.cleanup import *\n",
    "import time\n",
    "\n",
    "my_key = get_key('koray_data')\n",
    "\n",
    "resp = ff_utils.get_metadata('4DNFIV2D5P39', my_key)\n",
    "print(resp.keys())"
   ]
  },
  {
   "cell_type": "code",
   "execution_count": null,
   "metadata": {},
   "outputs": [],
   "source": [
    "print(delete_wfrs(resp, my_key, False))"
   ]
  },
  {
   "cell_type": "code",
   "execution_count": null,
   "metadata": {},
   "outputs": [],
   "source": []
  }
 ],
 "metadata": {
  "kernelspec": {
   "display_name": "Python 3",
   "language": "python",
   "name": "python3"
  },
  "language_info": {
   "codemirror_mode": {
    "name": "ipython",
    "version": 3
   },
   "file_extension": ".py",
   "mimetype": "text/x-python",
   "name": "python",
   "nbconvert_exporter": "python",
   "pygments_lexer": "ipython3",
   "version": "3.5.2"
  }
 },
 "nbformat": 4,
 "nbformat_minor": 2
}
