{
 "cells": [
  {
   "cell_type": "code",
   "execution_count": 27,
   "metadata": {},
   "outputs": [
    {
     "name": "stdout",
     "output_type": "stream",
     "text": [
      "3595\n"
     ]
    }
   ],
   "source": [
    "### This script looks at all files\n",
    "### 1) Checks deleted files for md5 related fields and clears them\n",
    "###                         for qc metric and changes status of qc metric object to deleted\n",
    "###                         clears the qc metric field\n",
    "###                         for workflows and deletes all of them\n",
    "### 2) Checks other files for workflows and deleted old workflows\n",
    "###                                     and deleted problematic ones (status or rev)\n",
    "### takes around 20 min\n",
    "\n",
    "from dcicutils import ff_utils\n",
    "from functions.notebook_functions import *\n",
    "from functions.cleanup import *\n",
    "import time\n",
    "\n",
    "my_key = get_key('koray_data')\n",
    "url = '/search/?file_format.file_format=bam&file_type=intermediate+file&type=FileProcessed'\n",
    "all_files = ff_utils.search_metadata(url, my_key)\n",
    "print(len(all_files))"
   ]
  },
  {
   "cell_type": "code",
   "execution_count": 20,
   "metadata": {},
   "outputs": [],
   "source": [
    "# import json\n",
    "\n",
    "# with open('fastq.json', 'w') as fp:\n",
    "#     json.dump(all_files, fp)\n",
    "\n",
    "with open('delete.json', 'r') as fp:\n",
    "    all_files = json.load(fp)"
   ]
  },
  {
   "cell_type": "code",
   "execution_count": 31,
   "metadata": {
    "scrolled": true
   },
   "outputs": [
    {
     "name": "stdout",
     "output_type": "stream",
     "text": [
      "4DNFIP2SZ4QP uploaded hi-c-processing-bam\n",
      "4DNFIZI2A5H5 uploaded hi-c-processing-bam\n",
      "4DNFIXNT1H8R uploaded hi-c-processing-bam\n",
      "4DNFIU2NRBGH uploaded hi-c-processing-bam\n",
      "4DNFI6ANYZ7R uploaded hi-c-processing-bam\n",
      "4DNFI8ZAFCQP uploaded hi-c-processing-bam\n",
      "4DNFIL7PLV4Y uploaded hi-c-processing-bam\n",
      "4DNFIWUU6CPU uploaded hi-c-processing-bam\n",
      "4DNFIHJGU4GZ uploaded hi-c-processing-bam\n",
      "4DNFICZO44G4 uploaded hi-c-processing-bam\n",
      "4DNFIZO3C9TK uploaded hi-c-processing-bam\n",
      "4DNFIFNAQF5G uploaded hi-c-processing-bam\n",
      "4DNFI5CA593Q uploaded hi-c-processing-bam\n",
      "4DNFIU9B6MEK uploaded hi-c-processing-bam\n",
      "4DNFIZEGV1G9 uploaded hi-c-processing-bam\n",
      "4DNFIEBEW7DZ uploaded hi-c-processing-bam\n",
      "4DNFIFGO2FB6 uploaded hi-c-processing-bam\n",
      "4DNFIIRWVM3U uploaded hi-c-processing-bam\n",
      "4DNFITV4JZ6B uploaded hi-c-processing-bam\n",
      "4DNFI69VYWBU uploaded hi-c-processing-bam\n",
      "4DNFIQZ7UUXU uploaded hi-c-processing-bam\n",
      "4DNFIWX9584B uploaded hi-c-processing-bam\n",
      "4DNFIVMTRTN7 uploaded hi-c-processing-bam\n",
      "4DNFI93UVOFN uploaded hi-c-processing-bam\n",
      "4DNFI97CO5GG uploaded hi-c-processing-bam\n",
      "4DNFI5727KY5 uploaded hi-c-processing-bam\n",
      "4DNFICS5BX2S uploaded hi-c-processing-bam\n",
      "4DNFINOPP5QI uploaded hi-c-processing-bam\n",
      "4DNFIU5BTGEH uploaded hi-c-processing-bam\n",
      "4DNFIS3OYQHT uploaded hi-c-processing-bam\n",
      "4DNFIFH5EXB3 uploaded hi-c-processing-bam\n",
      "4DNFI4B9IVKY uploaded hi-c-processing-bam\n",
      "4DNFIKCGV3XC uploaded hi-c-processing-bam\n",
      "4DNFIHR16T85 uploaded hi-c-processing-bam\n",
      "4DNFI2UO2N1O uploaded hi-c-processing-bam\n",
      "4DNFI7QBBHYF uploaded hi-c-processing-bam\n",
      "4DNFI3OA37J9 uploaded hi-c-processing-bam\n",
      "4DNFIHRU9YHN uploaded hi-c-processing-bam\n",
      "4DNFI97DB4SP uploaded hi-c-processing-bam\n",
      "4DNFI7ICFLWE uploaded hi-c-processing-bam\n",
      "4DNFIRAIYDX7 uploaded hi-c-processing-bam\n",
      "4DNFIO4E6YFL uploaded hi-c-processing-bam\n",
      "4DNFIJFYIT7L uploaded hi-c-processing-bam\n",
      "4DNFITSX32E9 uploaded hi-c-processing-bam\n",
      "4DNFIPE5PY9S uploaded hi-c-processing-bam\n",
      "4DNFIIJS17US uploaded hi-c-processing-bam\n",
      "4DNFIR39COXU uploaded hi-c-processing-bam\n",
      "4DNFIR9BZDQ7 uploaded hi-c-processing-bam\n",
      "4DNFIS9WUUVA uploaded hi-c-processing-bam\n",
      "4DNFIXB5LMLZ uploaded hi-c-processing-bam\n",
      "4DNFI6JWJU3B uploaded hi-c-processing-bam\n",
      "4DNFITTFWTYS uploaded hi-c-processing-bam\n",
      "4DNFINZXN1JK uploaded hi-c-processing-bam\n",
      "4DNFILQ8ZJ8Y uploaded hi-c-processing-bam\n",
      "4DNFI13VOQ6W uploaded hi-c-processing-bam\n",
      "4DNFI2RVEW2N uploaded hi-c-processing-bam\n",
      "4DNFI35V3CRW uploaded hi-c-processing-bam\n",
      "4DNFIZHS9CDX uploaded hi-c-processing-bam\n",
      "4DNFIEIWD3Z5 uploaded hi-c-processing-bam\n",
      "4DNFI67OC7RV uploaded hi-c-processing-bam\n",
      "4DNFI2WHJ2LT uploaded hi-c-processing-bam\n",
      "4DNFI4DSS564 uploaded hi-c-processing-bam\n",
      "4DNFICBN7MQU uploaded hi-c-processing-bam\n",
      "4DNFILFQZU2F uploaded hi-c-processing-bam\n",
      "4DNFI7SHKTJF uploaded hi-c-processing-bam\n",
      "4DNFIXACX53F uploaded hi-c-processing-bam\n",
      "4DNFIFYZ8314 uploaded hi-c-processing-bam\n",
      "4DNFIYWDXGLV uploaded hi-c-processing-bam\n",
      "4DNFIC3D2F9H uploaded hi-c-processing-bam\n"
     ]
    }
   ],
   "source": [
    "from collections import Counter\n",
    "\n",
    "sets = []\n",
    "\n",
    "it = 0\n",
    "for a_file in all_files:\n",
    "    wfrs_inputs = a_file.get('workflow_run_inputs')\n",
    "    if not wfrs_inputs:\n",
    "        continue\n",
    "    \n",
    "    wfr_names = [i['display_title'].split(' ')[0] for i in wfrs_inputs]\n",
    "    dups = [k for k,v in Counter(wfr_names).items() if v>1]\n",
    "    \n",
    "    if not dups:\n",
    "        continue\n",
    "    sat = 0\n",
    "    if dups:\n",
    "        for a_case in dups:\n",
    "            sat = 1\n",
    "            print(a_file['accession'], a_file['status'], a_case)\n",
    "#     if sat == 1:\n",
    "#         break\n",
    "#             if a_case == 'pairsqc-single':\n",
    "#                 delete_wfrs(a_file, my_key, True)\n",
    "            \n",
    "#             sets.append(a_file['experiments'][0]['experiment_sets'][0]['@id'])\n",
    "# print(list(set(sets)))\n",
    " \n",
    "                \n",
    "\n",
    "    \n",
    "    "
   ]
  },
  {
   "cell_type": "code",
   "execution_count": null,
   "metadata": {},
   "outputs": [],
   "source": []
  }
 ],
 "metadata": {
  "kernelspec": {
   "display_name": "Python 3",
   "language": "python",
   "name": "python3"
  },
  "language_info": {
   "codemirror_mode": {
    "name": "ipython",
    "version": 3
   },
   "file_extension": ".py",
   "mimetype": "text/x-python",
   "name": "python",
   "nbconvert_exporter": "python",
   "pygments_lexer": "ipython3",
   "version": "3.5.2"
  }
 },
 "nbformat": 4,
 "nbformat_minor": 2
}
