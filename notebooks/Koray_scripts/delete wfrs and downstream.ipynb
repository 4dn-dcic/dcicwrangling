{
 "cells": [
  {
   "cell_type": "code",
   "execution_count": 1,
   "metadata": {},
   "outputs": [
    {
     "name": "stdout",
     "output_type": "stream",
     "text": [
      "5\n"
     ]
    }
   ],
   "source": [
    "from dcicutils import ff_utils\n",
    "from functions.wfr import *\n",
    "from functions.wfr_settings import *\n",
    "from functions.notebook_functions import *\n",
    "\n",
    "# tibanna = Tibanna(env=env)\n",
    "my_env = 'data'\n",
    "my_key = get_key('koray_data')\n",
    "\n",
    "# wfr_url = '/search/?run_status=started&type=WorkflowRunAwsem&workflow.title=PairsQC'\n",
    "# all_wfrs = ff_utils.search_metadata(wfr_url , key=my_key)\n",
    "wfrs = [\n",
    "'d25aead7-0976-4e79-af27-e895ca15d52e',\n",
    "'579271d8-1ddb-4b42-9b08-b788f3ba83a3',\n",
    "'4bea5235-ae80-44d6-b83e-6996a3fe60a5',\n",
    "'8b7469f0-80d9-4e47-a81b-b80a6356f2f9',\n",
    "'95745dbb-f01c-44a3-9496-cb89586a7b5c'\n",
    "]\n",
    "\n",
    "all_wfrs = [ff_utils.get_metadata(w, my_key) for w in wfrs]\n",
    "# #exclude currently running ones\n",
    "# all_wfrs = [i for i in all_wfrs if not i['display_title'].startswith('encode-atacseq-aln 1.1.1')]\n",
    "\n",
    "print(len(all_wfrs))"
   ]
  },
  {
   "cell_type": "code",
   "execution_count": 8,
   "metadata": {
    "scrolled": true
   },
   "outputs": [
    {
     "data": {
      "application/vnd.jupyter.widget-view+json": {
       "model_id": "6d59fa9b1d23441ba6a182758ab5a782",
       "version_major": 2,
       "version_minor": 0
      },
      "text/plain": [
       "HBox(children=(IntProgress(value=0, max=5), HTML(value='')))"
      ]
     },
     "metadata": {},
     "output_type": "display_data"
    },
    {
     "name": "stdout",
     "output_type": "stream",
     "text": [
      "\n",
      "5 8 1\n"
     ]
    }
   ],
   "source": [
    "from tqdm import tqdm_notebook as tqdm\n",
    "import time\n",
    "action = True\n",
    "delw = 0\n",
    "delf = 0\n",
    "delqc = 0\n",
    "for i in tqdm(all_wfrs): \n",
    "    patch_data = {'description': \"This workflow run is deleted\", 'status': \"deleted\"}\n",
    "    delw += 1\n",
    "    try:\n",
    "        ff_utils.patch_metadata(patch_data, obj_id=i['uuid'] ,key=my_key)\n",
    "    except:\n",
    "        print('can not get', i['uuid'])\n",
    "        continue\n",
    "    # delete output files of the deleted workflow run\n",
    "    for o in i['output_files']:\n",
    "        if o.get('value'):\n",
    "            ud = o['value']['uuid']\n",
    "            delf += 1\n",
    "            if action:\n",
    "                ff_utils.patch_metadata({'status': \"deleted\"}, obj_id=ud ,key=my_key)\n",
    "        if o.get('value_qc'):\n",
    "            ud_qc = o['value_qc']\n",
    "            delqc += 1\n",
    "            if action:\n",
    "                try:\n",
    "                    ff_utils.patch_metadata({'status': \"deleted\"}, obj_id=ud_qc ,key=my_key)\n",
    "                except:\n",
    "                    print('can not get', ud_qc)\n",
    "                    continue\n",
    "#     if i.get('output_quality_metrics'):\n",
    "#         for qc in i['output_quality_metrics']:\n",
    "#             if qc.get('value'):\n",
    "#                 ud_qc = qc['value']['uuid']\n",
    "#                 delqc += 1\n",
    "#                 if action:\n",
    "#                     ff_utils.patch_metadata({'status': \"deleted\"}, obj_id=ud_qc ,key=my_key)\n",
    "\n",
    "print(delw, delf, delqc)           "
   ]
  },
  {
   "cell_type": "code",
   "execution_count": 14,
   "metadata": {},
   "outputs": [
    {
     "name": "stdout",
     "output_type": "stream",
     "text": [
      "+++++++++++++++++++++++++++++++++++++++++++++++++++++++++++++++++++++++++++++++++++++++++++++++++++++++++++++++++++++++++++++++++++++++++++++++++++++++++++++++++++++++++++++++++++++++++++++++++++++++++++++++++++++++++++++++++++++++++++++++++++++++++++++++++++++++++++++++++++++++++++++++++++++++++++++++++++++++++++++++++++++++++++++++++++++++++++++++++++++++++++++++++++++++++++++++++++++++++++++++++++++++++++++++++++++++++++++++++++++++++++++++++++++++++++++++++++++++++++++++++++++++++++++++++++++++++++++++++++++++++++++++++++++++++++++++++++++++++++++++++++++++++++++++++++++++++++++++++++++++++++++++++++++++++++++++++++++++++++++++++++++++++++++++++++++++++++++++++++++++++++++++++++++++++++++++++++++++++++++++++++++++++++++++++++++++++++++++++++++++++++++++++++++++++++++++++++++++++++++++++++++++++++++++++++++++++++++++++++++++++++++++++++++++++++++++++++++++++++++++++++++++++++++++++++++++++++++++++++++++++++++++++++++++++++++++++++++++++++++++++++++++++++++++++++++++++++++++++++++++++++++++++++++++++++++++++++++++++++++++++++++++++++++++++++++++++++++++++++++++++++++++++++++++++++++++++++++++++++++++++++++"
     ]
    }
   ],
   "source": [
    "#patch files to trigger indexing when secondary queue is crazy\n",
    "for i in all_wfrs: \n",
    "    for o in i['input_files']:\n",
    "        if o.get('value'):\n",
    "            print('+', end='')\n",
    "            ud = o['value']['uuid']\n",
    "            ff_utils.patch_metadata({'notes': \"\"}, obj_id=ud ,key=my_key)\n",
    "     "
   ]
  },
  {
   "cell_type": "code",
   "execution_count": null,
   "metadata": {},
   "outputs": [],
   "source": []
  }
 ],
 "metadata": {
  "kernelspec": {
   "display_name": "Python 3",
   "language": "python",
   "name": "python3"
  },
  "language_info": {
   "codemirror_mode": {
    "name": "ipython",
    "version": 3
   },
   "file_extension": ".py",
   "mimetype": "text/x-python",
   "name": "python",
   "nbconvert_exporter": "python",
   "pygments_lexer": "ipython3",
   "version": "3.5.2"
  }
 },
 "nbformat": 4,
 "nbformat_minor": 2
}
