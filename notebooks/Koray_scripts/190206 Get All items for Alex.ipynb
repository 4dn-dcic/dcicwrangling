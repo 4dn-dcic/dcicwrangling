{
 "cells": [
  {
   "cell_type": "code",
   "execution_count": 2,
   "metadata": {},
   "outputs": [
    {
     "name": "stdout",
     "output_type": "stream",
     "text": [
      "1196\n",
      "1196\n",
      "15.082948923110962\n"
     ]
    }
   ],
   "source": [
    "from dcicutils import ff_utils\n",
    "from functions.notebook_functions import *\n",
    "from functions.cleanup import *\n",
    "import time\n",
    "time1 = time.time()\n",
    "\n",
    "#, store={}, item_uuids=[]\n",
    "env = 'data'\n",
    "my_auth = get_key('koray_data')\n",
    "schema_name = get_schema_names(my_auth) \n",
    "\n",
    "set_to_release = ['b5a53608-aced-4dfc-ae64-2a78ceed902b']\n",
    "\n",
    "store, uuids = record_object_es(set_to_release, my_auth, schema_name, add_pc_wfr=True, store_frame='raw')\n",
    "print(len(uuids))\n",
    "print(len(list(set(uuids))))\n",
    "time2 = time.time()\n",
    "print((time2-time1))"
   ]
  },
  {
   "cell_type": "code",
   "execution_count": 3,
   "metadata": {},
   "outputs": [],
   "source": [
    "dump_results_to_json(store, 'alex_data')"
   ]
  }
 ],
 "metadata": {
  "celltoolbar": "Raw Cell Format",
  "kernelspec": {
   "display_name": "Python 3",
   "language": "python",
   "name": "python3"
  },
  "language_info": {
   "codemirror_mode": {
    "name": "ipython",
    "version": 3
   },
   "file_extension": ".py",
   "mimetype": "text/x-python",
   "name": "python",
   "nbconvert_exporter": "python",
   "pygments_lexer": "ipython3",
   "version": "3.5.2"
  }
 },
 "nbformat": 4,
 "nbformat_minor": 2
}
