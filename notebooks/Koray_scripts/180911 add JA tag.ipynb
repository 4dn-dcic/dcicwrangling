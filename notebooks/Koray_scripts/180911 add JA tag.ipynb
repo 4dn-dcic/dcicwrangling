{
 "cells": [
  {
   "cell_type": "code",
   "execution_count": 6,
   "metadata": {},
   "outputs": [],
   "source": [
    "from dcicutils import ff_utils\n",
    "from functions.notebook_functions import *\n",
    "\n",
    "# get key from file\n",
    "my_key = get_key('koray_data')\n",
    "\n",
    "# all usable env names\n",
    "all_envs = ['data', 'staging', 'fourfront-webdev', 'fourfront-mastertest', 'fourfront-hotseat']\n",
    "# get admin key from s3\n",
    "# my_key = ff_utils.get_authentication_with_server({}, ff_env = 'data')"
   ]
  },
  {
   "cell_type": "code",
   "execution_count": 8,
   "metadata": {},
   "outputs": [
    {
     "name": "stdout",
     "output_type": "stream",
     "text": [
      "95\n"
     ]
    }
   ],
   "source": [
    "q = '/search/?award.project=4DN&experiments_in_set.biosample.biosource_summary=HFFc6+%28Tier+1%29&experiments_in_set.biosample.biosource_summary=H1-hESC+%28Tier+1%29&experiments_in_set.biosample.biosource_summary=H1-hESC+%28Tier+1%29+differentiated+to+definitive+endoderm&experimentset_type=replicate&type=ExperimentSetReplicate'\n",
    "sets = ff_utils.search_metadata(q, key = my_key)\n",
    "print(len(sets))"
   ]
  },
  {
   "cell_type": "code",
   "execution_count": 11,
   "metadata": {},
   "outputs": [
    {
     "name": "stdout",
     "output_type": "stream",
     "text": [
      "no field\n",
      "4DNESMBA9T3L\n",
      "['4DN Joint Analysis 2018']\n",
      "['4DN Joint Analysis 2018']\n",
      "['4DN Joint Analysis 2018']\n",
      "['4DN Joint Analysis 2018']\n",
      "['4DN Joint Analysis 2018']\n",
      "['4DN Joint Analysis 2018']\n",
      "['4DN Joint Analysis 2018']\n",
      "['4DN Joint Analysis 2018']\n",
      "['4DN Joint Analysis 2018']\n",
      "['4DN Joint Analysis 2018']\n",
      "['4DN Joint Analysis 2018']\n",
      "['4DN Joint Analysis 2018']\n",
      "['4DN Joint Analysis 2018']\n",
      "['4DN Joint Analysis 2018']\n",
      "['4DN Joint Analysis 2018']\n",
      "['4DN Joint Analysis 2018']\n",
      "['4DN Joint Analysis 2018']\n",
      "['4DN Joint Analysis 2018']\n",
      "['4DN Joint Analysis 2018']\n",
      "['4DN Joint Analysis 2018']\n",
      "['4DN Joint Analysis 2018']\n",
      "['4DN Joint Analysis 2018']\n",
      "no field\n",
      "4DNESJC437VS\n",
      "no field\n",
      "4DNESFH3EHTU\n",
      "['4DN Joint Analysis 2018']\n",
      "['4DN Joint Analysis 2018']\n",
      "['4DN Joint Analysis 2018']\n",
      "['4DN Joint Analysis 2018']\n",
      "['4DN Joint Analysis 2018']\n",
      "['4DN Joint Analysis 2018']\n",
      "['4DN Joint Analysis 2018']\n",
      "['4DN Joint Analysis 2018']\n",
      "['4DN Joint Analysis 2018']\n",
      "['4DN Joint Analysis 2018']\n",
      "['4DN Joint Analysis 2018']\n",
      "['4DN Joint Analysis 2018']\n",
      "['4DN Joint Analysis 2018']\n",
      "['4DN Joint Analysis 2018']\n",
      "['4DN Joint Analysis 2018']\n",
      "['4DN Joint Analysis 2018']\n",
      "['4DN Joint Analysis 2018']\n",
      "['4DN Joint Analysis 2018']\n",
      "['4DN Joint Analysis 2018']\n",
      "['4DN Joint Analysis 2018']\n",
      "['4DN Joint Analysis 2018']\n",
      "['4DN Joint Analysis 2018', '2018_01_internal', '2018_01_internal_JA']\n",
      "['4DN Joint Analysis 2018', '2018_01_internal', '2018_01_internal_JA']\n",
      "['4DN Joint Analysis 2018', '2018_01_internal', '2018_01_internal_JA']\n",
      "['4DN Joint Analysis 2018', '2018_01_internal', '2018_01_internal_JA']\n",
      "['4DN Joint Analysis 2018', '2018_01_internal', '2018_01_internal_JA']\n",
      "['4DN Joint Analysis 2018', '2018_01_internal', '2018_01_internal_JA']\n",
      "['4DN Joint Analysis 2018', '2018_01_internal', '2018_01_internal_JA']\n",
      "['4DN Joint Analysis 2018', '2018_01_public', '2018_01_internal', '2018_01_internal_JA']\n",
      "['4DN Joint Analysis 2018', '2018_01_public', '2018_01_internal', '2018_01_internal_JA']\n",
      "['4DN Joint Analysis 2018']\n",
      "['4DN Joint Analysis 2018']\n",
      "['4DN Joint Analysis 2018', '2018_01_internal', '2018_01_internal_JA']\n",
      "['4DN Joint Analysis 2018', '2018_01_internal', '2018_01_internal_JA']\n",
      "['4DN Joint Analysis 2018', '2018_01_internal', '2018_01_internal_JA']\n",
      "['4DN Joint Analysis 2018', '2018_01_internal', '2018_01_internal_JA']\n",
      "['4DN Joint Analysis 2018', '2018_01_internal', '2018_01_internal_JA']\n",
      "['4DN Joint Analysis 2018', '2018_01_internal', '2018_01_internal_JA']\n",
      "['4DN Joint Analysis 2018', '2018_01_internal', '2018_01_internal_JA']\n",
      "['4DN Joint Analysis 2018', '2018_01_internal', '2018_01_internal_JA']\n",
      "['4DN Joint Analysis 2018', '2018_01_internal', '2018_01_internal_JA']\n",
      "['4DN Joint Analysis 2018', '2018_01_internal', '2018_01_internal_JA']\n",
      "['4DN Joint Analysis 2018', '2018_01_internal', '2018_01_internal_JA']\n",
      "['4DN Joint Analysis 2018', '2018_01_internal', '2018_01_internal_JA']\n",
      "['4DN Joint Analysis 2018', '2018_01_internal', '2018_01_internal_JA']\n",
      "['4DN Joint Analysis 2018', '2018_01_internal', '2018_01_internal_JA']\n",
      "['4DN Joint Analysis 2018', '2018_01_internal', '2018_01_internal_JA']\n",
      "['4DN Joint Analysis 2018', '2018_01_internal', '2018_01_internal_JA']\n",
      "['4DN Joint Analysis 2018', '2018_01_internal', '2018_01_internal_JA']\n",
      "['4DN Joint Analysis 2018', '2018_01_public', '2018_01_internal', '2018_01_internal_JA']\n",
      "['4DN Joint Analysis 2018']\n",
      "['4DN Joint Analysis 2018']\n",
      "['4DN Joint Analysis 2018', '2018_01_internal', '2018_01_internal_JA']\n",
      "['4DN Joint Analysis 2018', '2018_01_internal', '2018_01_internal_JA']\n",
      "['4DN Joint Analysis 2018', '2018_01_internal', '2018_01_internal_JA']\n",
      "['4DN Joint Analysis 2018', '2018_01_internal', '2018_01_internal_JA']\n",
      "['4DN Joint Analysis 2018', '2018_01_internal', '2018_01_internal_JA']\n",
      "['4DN Joint Analysis 2018', '2018_01_public', '2018_01_internal', '2018_01_internal_JA']\n",
      "['4DN Joint Analysis 2018', '2018_01_public', '2018_01_internal', '2018_01_internal_JA']\n",
      "['4DN Joint Analysis 2018', '2018_01_public', '2018_01_internal', '2018_01_internal_JA']\n",
      "['4DN Joint Analysis 2018', '2018_01_public', '2018_01_internal', '2018_01_internal_JA']\n",
      "['4DN Joint Analysis 2018', '2018_01_internal', '2018_01_internal_JA']\n",
      "['4DN Joint Analysis 2018', '2018_01_internal', '2018_01_internal_JA']\n",
      "['4DN Joint Analysis 2018', '2018_01_public', '2018_01_internal', '2018_01_internal_JA']\n",
      "['4DN Joint Analysis 2018', '2018_01_public', '2018_01_internal', '2018_01_internal_JA']\n",
      "['4DN Joint Analysis 2018', '2018_01_public', '2018_01_internal', '2018_01_internal_JA']\n",
      "['4DN Joint Analysis 2018', '2018_01_internal_JA', '2018_01_internal', '2018_01_public']\n",
      "['4DN Joint Analysis 2018', '2018_01_public', '2018_01_internal', '2018_01_internal_JA']\n",
      "['4DN Joint Analysis 2018', '2018_01_public', '2018_01_internal', '2018_01_internal_JA']\n",
      "['4DN Joint Analysis 2018', '2018_01_public', '2018_01_internal', '2018_01_internal_JA']\n",
      "92\n",
      "3\n"
     ]
    }
   ],
   "source": [
    "has = 0\n",
    "hasnot = 0\n",
    "for a_set in sets:\n",
    "    if a_set.get('tags'):\n",
    "        print(a_set['tags'])\n",
    "        if '4DN Joint Analysis 2018' in a_set['tags']:\n",
    "            has += 1\n",
    "            continue\n",
    "        else:\n",
    "            hasnot += 1\n",
    "    else:\n",
    "        print('no field')\n",
    "        print(a_set['accession'])\n",
    "        hasnot += 1\n",
    "print(has)\n",
    "print(hasnot)"
   ]
  },
  {
   "cell_type": "code",
   "execution_count": null,
   "metadata": {},
   "outputs": [],
   "source": [
    "4DNESMBA9T3L\n",
    "4DNESJC437VS\n",
    "4DNESFH3EHTU\n"
   ]
  }
 ],
 "metadata": {
  "kernelspec": {
   "display_name": "Python 3",
   "language": "python",
   "name": "python3"
  },
  "language_info": {
   "codemirror_mode": {
    "name": "ipython",
    "version": 3
   },
   "file_extension": ".py",
   "mimetype": "text/x-python",
   "name": "python",
   "nbconvert_exporter": "python",
   "pygments_lexer": "ipython3",
   "version": "3.5.2"
  }
 },
 "nbformat": 4,
 "nbformat_minor": 2
}
