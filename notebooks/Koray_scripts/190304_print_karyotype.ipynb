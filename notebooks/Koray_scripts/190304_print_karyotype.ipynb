{
 "cells": [
  {
   "cell_type": "code",
   "execution_count": 2,
   "metadata": {},
   "outputs": [
    {
     "name": "stdout",
     "output_type": "stream",
     "text": [
      "493\n"
     ]
    }
   ],
   "source": [
    "# delete opc on replaced sets\n",
    "\n",
    "from dcicutils import ff_utils\n",
    "from functions.notebook_functions import *\n",
    "import json\n",
    "import time\n",
    "from datetime import datetime\n",
    "\n",
    "my_key = get_key('koray_data')\n",
    "\n",
    "res = ff_utils.search_metadata('/search/?type=BiosampleCellCulture', my_key)\n",
    "print(len(res))"
   ]
  },
  {
   "cell_type": "code",
   "execution_count": 12,
   "metadata": {},
   "outputs": [
    {
     "name": "stdout",
     "output_type": "stream",
     "text": [
      "169\n",
      "> (3) -\n",
      "> (16) 40,XX\n",
      "> (13) 46,XY\n",
      "> (4) 70-90 chromosomes\n",
      "> (4) 80% tetraploid S2 male\n",
      "> (4) 80% triploid K562 female\n",
      "> (27) Below 30 passages\n",
      "> (2) Chromosome studies indicate a modal number of 63 w...\n",
      "> (11) Most cells have a near dipoid karyotype\n",
      "> (12) Normal\n",
      "> (4) Normal 46 XX karyotype\n",
      "> (11) Normal 46 XY karyotype\n",
      "> (1) Normal, 46+xy\n",
      "> (2) Normal, 46,XY\n",
      "> (10) Performed WGS instead\n",
      "> (14) Philadelphia Chromosome\n",
      "> (2) The cell line has the 46, XY karyotype. There are ...\n",
      "> (2) The cell line is a pseudodiploid human female (XX)...\n",
      "> (2) This is a hypotetraploid human cell line. The moda...\n",
      "> (2) This is a hypotriploid human cell line with the mo...\n",
      "> (2) This is a hypotriploid human cell line. The modal ...\n",
      "> (2) This is a pseudodiploid human cell line with the m...\n",
      "> (2) hypopentaploid to hypohexaploid (+A2, +A3, +B, +C,...\n",
      "> (2) modal number = 120; range = 95 to 133. This is a h...\n",
      "> (2) modal number = 55 (range = 50 to 60); has a rearra...\n",
      "> (2) modal number= 49; range = 47 to 66.This is a hyper...\n",
      "> (2) modal numbr = 57; range = 53 to 65. This is a hypo...\n",
      "> (3) near-tetroploid\n",
      "> (1) normal as shown in gilbert-lab:image_wa01h1_karyot...\n",
      "> (1) normal female hmouse by G-banding\n",
      "> (1) normal female human by G-banding\n",
      "> (1) normal male human by G-banding\n",
      "> (2) tetraploid per FACS\n"
     ]
    }
   ],
   "source": [
    "k = 0\n",
    "ks = []\n",
    "for i in res:\n",
    "    \n",
    "    if i.get('karyotype'):\n",
    "        k += 1\n",
    "        ks.append(i['karyotype'])\n",
    "print(len(ks))\n",
    "sums = sorted(list(set(ks)))\n",
    "for i in sums:\n",
    "    oc = ks.count(i)\n",
    "    if len(i) > 50:\n",
    "        print('> (' + str(oc) + ') ' + i[:50] + '...')\n",
    "    else:\n",
    "        print('> (' + str(oc) + ') ' + i)"
   ]
  },
  {
   "cell_type": "code",
   "execution_count": null,
   "metadata": {},
   "outputs": [],
   "source": []
  }
 ],
 "metadata": {
  "kernelspec": {
   "display_name": "Python 3",
   "language": "python",
   "name": "python3"
  },
  "language_info": {
   "codemirror_mode": {
    "name": "ipython",
    "version": 3
   },
   "file_extension": ".py",
   "mimetype": "text/x-python",
   "name": "python",
   "nbconvert_exporter": "python",
   "pygments_lexer": "ipython3",
   "version": "3.5.2"
  }
 },
 "nbformat": 4,
 "nbformat_minor": 2
}
