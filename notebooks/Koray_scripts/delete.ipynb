{
 "cells": [
  {
   "cell_type": "code",
   "execution_count": 5,
   "metadata": {},
   "outputs": [
    {
     "name": "stdout",
     "output_type": "stream",
     "text": [
      "['/labs/4dn-dcic-lab/']\n"
     ]
    }
   ],
   "source": [
    "from dcicutils import ff_utils\n",
    "import json\n",
    "\n",
    "keys = open('/Users/koray/keypairs.json', 'r').read()\n",
    "my_key = json.loads(keys)['koray_data']\n",
    "\n",
    "me_page = ff_utils.get_metadata('me', key=my_key)\n",
    "user = me_page['@id']\n",
    "email = me_page['email']\n",
    "check = True\n",
    "if me_page.get('submits_for') is not None:\n",
    "    # get all the labs that the user making the connection submits_for\n",
    "    labs = [l['@id'] for l in me_page['submits_for']]\n",
    "print(labs)"
   ]
  },
  {
   "cell_type": "code",
   "execution_count": null,
   "metadata": {},
   "outputs": [],
   "source": [
    "['/labs/4dn-dcic-lab/']\n",
    "\n",
    "for a_type in store:\n",
    "    if a_type in ['quality_metric_pairsqc', 'quality_metric_fastqc', 'workflow_run_awsem', 'file_processed']:\n",
    "        no_cl = 0\n",
    "        jsons = store[a_type]\n",
    "        print(a_type, len(jsons))\n",
    "        for a_json in jsons:\n",
    "            if not a_json.get('contributing_labs'):\n",
    "                print('no cl', a_json['uuid'])\n",
    "                no_cl += 1\n",
    "        # make sure all runs are successful\n",
    "        if a_type == 'workflow_run_awsem':\n",
    "            for a_json in jsons:\n",
    "                if a_json['run_status'] != 'complete':\n",
    "                    print(a_json['uuid'])\n",
    "        print(no_cl)\n",
    "        print"
   ]
  },
  {
   "cell_type": "code",
   "execution_count": null,
   "metadata": {},
   "outputs": [],
   "source": [
    "noble_uuid = 'a0812d8f-a4cc-4dbe-bd22-76e6e573b5ed'\n",
    "\n",
    "for a_type in store:\n",
    "    if a_type in ['quality_metric_pairsqc', 'quality_metric_fastqc', 'workflow_run_awsem', 'file_processed']:\n",
    "        jsons = store[a_type]\n",
    "        for a_json in jsons:\n",
    "            try:\n",
    "                current_cont_labs = a_json['contributing_labs']\n",
    "            except:\n",
    "                print('skipping', a_json['uuid'])\n",
    "            if noble_uuid not in current_cont_labs:\n",
    "                current_cont_labs.append(noble_uuid)\n",
    "                ff_utils.patch_metadata({'contributing_labs':current_cont_labs}, a_json['uuid'], key=my_key)\n",
    "        print('patched',a_type, len(jsons))\n",
    "                \n"
   ]
  },
  {
   "cell_type": "code",
   "execution_count": null,
   "metadata": {},
   "outputs": [],
   "source": []
  }
 ],
 "metadata": {
  "kernelspec": {
   "display_name": "Python 3",
   "language": "python",
   "name": "python3"
  },
  "language_info": {
   "codemirror_mode": {
    "name": "ipython",
    "version": 3
   },
   "file_extension": ".py",
   "mimetype": "text/x-python",
   "name": "python",
   "nbconvert_exporter": "python",
   "pygments_lexer": "ipython3",
   "version": "3.5.2"
  }
 },
 "nbformat": 4,
 "nbformat_minor": 2
}
