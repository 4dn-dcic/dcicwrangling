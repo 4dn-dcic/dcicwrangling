{
 "cells": [
  {
   "cell_type": "code",
   "execution_count": 2,
   "metadata": {},
   "outputs": [],
   "source": [
    "from dcicutils import ff_utils\n",
    "from functions.notebook_functions import *\n",
    "\n",
    "# get key from file\n",
    "my_key = get_key('koray_data')\n",
    "\n",
    "# all usable env names\n",
    "all_envs = ['data', 'staging', 'fourfront-webdev', 'fourfront-mastertest', 'fourfront-hotseat']\n",
    "# get admin key from s3\n",
    "#my_key = ff_utils.get_authentication_with_server({}, ff_env = 'data')"
   ]
  },
  {
   "cell_type": "code",
   "execution_count": 19,
   "metadata": {},
   "outputs": [
    {
     "name": "stdout",
     "output_type": "stream",
     "text": [
      "3654\n"
     ]
    }
   ],
   "source": [
    "# Download link for old files are not working, checking all files to see if they are on S3 or not\n",
    "\n",
    "q= '/search/?status=released&status=released+to+project&status=uploaded&type=FileFastq'\n",
    "all_fq = ff_utils.search_metadata(q, key=my_key)\n",
    "print(len(all_fq))   \n"
   ]
  },
  {
   "cell_type": "code",
   "execution_count": 9,
   "metadata": {},
   "outputs": [
    {
     "name": "stdout",
     "output_type": "stream",
     "text": [
      "1300\n",
      "object 46e82a90-49e5-4c33-afab-9ec90d65cca1/4DNFIO67AFHV.fastq.gz not found on bucket elasticbeanstalk-fourfront-webprod-files\n",
      "An error occurred (404) when calling the HeadObject operation: Not Found\n",
      "4DNFIO67AFHV does not have a file in S3\n",
      "\n",
      "1400\n",
      "1500\n",
      "1600\n",
      "1700\n",
      "1800\n",
      "1900\n",
      "2000\n",
      "2100\n",
      "2200\n",
      "2300\n",
      "2400\n",
      "2500\n",
      "2600\n",
      "2700\n",
      "2800\n",
      "2900\n",
      "3000\n",
      "3100\n",
      "3200\n",
      "3300\n",
      "3400\n",
      "3500\n",
      "3600\n"
     ]
    }
   ],
   "source": [
    "from dcicutils import s3Utils\n",
    "my_env = 'data'\n",
    "my_s3_util = s3Utils(env=my_env)\n",
    "raw_bucket = my_s3_util.raw_file_bucket\n",
    "out_bucket = my_s3_util.outfile_bucket\n",
    "\n",
    "counter = 0\n",
    "my_bucket = raw_bucket\n",
    "for i in reversed(all_fq): \n",
    "    counter += 1\n",
    "    if counter < 1300:\n",
    "        continue\n",
    "    # check if file is in s3\n",
    "    head_info = my_s3_util.does_key_exist(i['upload_key'], my_bucket)\n",
    "    if not head_info:\n",
    "        print(i['accession'], \"does not have a file in S3\")\n",
    "        print()\n",
    "    if counter % 100 == 0:\n",
    "        print(counter)"
   ]
  },
  {
   "cell_type": "code",
   "execution_count": null,
   "metadata": {},
   "outputs": [],
   "source": [
    "# All files are on s3 (except one test file which I now deleted)\n",
    "# the problem is with redirects"
   ]
  },
  {
   "cell_type": "code",
   "execution_count": 20,
   "metadata": {},
   "outputs": [
    {
     "name": "stdout",
     "output_type": "stream",
     "text": [
      "100 100\n",
      "200 200\n",
      "300 300\n",
      "400 400\n",
      "500 500\n",
      "600 600\n",
      "700 700\n",
      "800 800\n",
      "900 900\n",
      "1000 1000\n",
      "1100 1100\n",
      "1200 1200\n",
      "1300 1300\n",
      "1400 1388\n",
      "1500 1388\n",
      "1600 1388\n",
      "1700 1388\n",
      "1800 1388\n",
      "1900 1388\n",
      "2000 1388\n",
      "2100 1388\n",
      "2200 1388\n",
      "2300 1388\n",
      "2400 1388\n",
      "2500 1388\n",
      "2600 1388\n",
      "2700 1388\n",
      "2800 1388\n",
      "2900 1388\n",
      "3000 1388\n",
      "3100 1388\n",
      "3200 1388\n",
      "3300 1388\n",
      "3400 1388\n",
      "3500 1388\n",
      "3600 1388\n"
     ]
    }
   ],
   "source": [
    "counter = 0\n",
    "my_bucket = raw_bucket\n",
    "\n",
    "#test cases all_fq = ['4DNFIJ5ILLUG', '4DNFIQMXJRKV']\n",
    "\n",
    "problematic = []\n",
    "pr_counter = 0\n",
    "for i in reversed(all_fq): \n",
    "    counter += 1\n",
    "    href = i['href']\n",
    "    resp = ''\n",
    "    try:\n",
    "        e = ff_utils.get_metadata(href, key=my_key)\n",
    "        resp = str(e)\n",
    "    except Exception as ex:\n",
    "        resp = str(ex)\n",
    "\n",
    "    if 'elasticbeanstalk-fourfront-webprod-files' in resp:\n",
    "        pass\n",
    "    elif 'elasticbeanstalk-fourfront-webdev-files' in resp:\n",
    "        problematic.append(i['uuid'])\n",
    "        pr_counter += 1\n",
    "    else:\n",
    "        print(i['uuid'], 'other case', resp)\n",
    "        print()\n",
    " \n",
    "    if counter % 100 == 0:\n",
    "        print(counter, pr_counter)"
   ]
  },
  {
   "cell_type": "code",
   "execution_count": 21,
   "metadata": {},
   "outputs": [
    {
     "name": "stdout",
     "output_type": "stream",
     "text": [
      "1388\n"
     ]
    }
   ],
   "source": [
    "print(len(problematic))"
   ]
  },
  {
   "cell_type": "code",
   "execution_count": 27,
   "metadata": {},
   "outputs": [
    {
     "name": "stdout",
     "output_type": "stream",
     "text": [
      "100\n",
      "200\n",
      "300\n",
      "400\n",
      "500\n",
      "600\n",
      "700\n",
      "800\n",
      "900\n",
      "1000\n",
      "1100\n",
      "1200\n",
      "1300\n"
     ]
    }
   ],
   "source": [
    "import time\n",
    "counter = 0\n",
    "for pro in problematic:\n",
    "    counter += 1\n",
    "    status = ''\n",
    "    status = [i for i in all_fq if i['uuid'] == pro][0]['status']\n",
    "    ff_utils.patch_metadata({'status':'uploading'}, obj_id = pro, key = my_key)\n",
    "    ff_utils.patch_metadata({'status':status}, obj_id = pro, key = my_key)\n",
    "    if counter % 100 == 0:\n",
    "        print(counter)"
   ]
  },
  {
   "cell_type": "code",
   "execution_count": 30,
   "metadata": {},
   "outputs": [
    {
     "name": "stdout",
     "output_type": "stream",
     "text": [
      "90e2f197-6505-4472-9ac5-ee46225771b0\n",
      "b71c412f-0b9d-4032-9876-41d8ea6407db\n",
      "2310f68f-8034-436c-ba73-982376e77c29\n",
      "f5382640-1a27-4543-9746-fe518546d15a\n",
      "44fd7ef2-6166-436e-a363-768172a97592\n",
      "c0ff02ec-9432-46fc-8014-239fad61a043\n",
      "1cb81947-86f5-4bc9-a006-f7a2b7dfc0ed\n",
      "c3799e1b-d7d0-4831-bbf9-d4aae24fec3c\n",
      "1c2ed239-c9a9-4487-8de3-6a6ebfaf5768\n",
      "61fb904e-ad84-483c-a176-a1c5cd8e8e18\n",
      "86ade7d9-586a-4b0a-bfed-27590eaa43fd\n",
      "ad1628fb-ae19-482a-b852-9f107763aeb8\n",
      "39d31a01-473a-4f34-a63f-14112812db68\n",
      "18577261-3a6a-4e72-aab8-4a68f657760e\n",
      "914475ac-4820-4358-95c9-a8247e557e78\n",
      "754d9ef4-5f2a-4557-8b93-378196fb5553\n",
      "d377bc35-e5c7-4b93-8df0-4088c266eb85\n",
      "988625c5-7bb0-433e-82c7-c1bb69af36ec\n",
      "5bb2fe14-0523-4a78-be22-6d3783e859b2\n",
      "aea5827c-0b87-4aa1-b348-77953974414a\n",
      "080a6b22-d75b-43ad-a81f-cf06e13f4b10\n",
      "30bac2d4-b6ed-42bf-93cd-136ab3223db8\n",
      "f245b0a2-0fea-463a-a47a-34eada1df4e4\n",
      "bc509cb4-11ba-4e4b-97c8-e5047a5a6b24\n",
      "fec18c5d-e797-41ca-bd88-a90caa958ad4\n",
      "f55f23eb-30de-47e1-8562-0fd9d8466d0c\n",
      "fbb68a90-f69d-409d-8d3c-5892152e049b\n",
      "98971c11-c42c-4f61-b4f7-4d1f9193643e\n",
      "9d9ae4a3-58e2-408c-b6ed-d034fd46e484\n",
      "84acc0cd-c57b-4cbd-add3-1ec76f0c6f9e\n",
      "96332fa4-af96-48c2-8167-2f8a620cc549\n",
      "3192d2e8-813c-4abb-ae84-b8d41b7b7fa1\n",
      "57c19b32-88e1-454d-baad-32643d4ff886\n",
      "a90ce4e5-0145-457c-9834-8997a1fb20b4\n",
      "c8bd5288-a37a-48c7-a971-e3175dfaba80\n",
      "e0c36e58-a58b-46fa-a587-0e8a9f86be3e\n",
      "f051bafe-f134-4410-a39c-7b0d5ad0eb82\n",
      "6bb00de0-cb02-4721-894e-f22beda9ed0c\n",
      "bc9819b0-4e7c-4d87-ab1d-ca790f9d8c02\n",
      "333bcfcb-3037-4754-8c59-c26afb37dbe2\n",
      "0722327b-3678-4c58-bb12-71694233b35f\n",
      "df1f7e13-e71d-48c4-ab01-ab9a2a945cc7\n",
      "de5da43a-322f-4f53-ab88-cfb43acea6d1\n",
      "7523ea3d-c2f5-464b-babd-317e88136286\n",
      "97230813-b02e-47ae-a1e8-0f60aefa68e2\n",
      "ed463204-c112-4786-96f9-9984de9ccba7\n",
      "cd209711-6ba7-4947-8b45-dad3616d5e2f\n",
      "05714749-7b0f-448a-8c64-60774076b846\n",
      "bb9be506-74b2-423c-8d25-60b28baea1d1\n",
      "863a58fe-3d0c-4dbf-917d-e7939b0eea38\n",
      "5aa827d2-b9d9-4a5d-b9d3-979ed791596b\n",
      "c306a150-b52a-43d2-bd2a-c99d91d664ce\n",
      "b0ee4530-96fb-41dd-8656-f07ea19bcaa0\n",
      "effb6bc7-9534-4a71-bfcb-6ec521ce5ef7\n",
      "f3594fa2-fdda-40d0-883e-358288ccd432\n",
      "4aff0f23-1ea0-4869-ab10-a7a8cdbcf91e\n",
      "39019e8a-a25f-4974-9470-f9d69dbbccf6\n",
      "745ffa00-f8d2-4255-b974-9a4739c15c80\n",
      "4be4c417-091d-468d-81fb-b4c6fd37b259\n",
      "a55781da-58b0-486b-bbc7-6860c37556f8\n",
      "503c9e70-c493-4bc1-93be-71366510ac6e\n",
      "7822b7c6-9ac8-4dfb-8f7a-4d6a7806b071\n",
      "7c6450b3-5031-493a-9bf6-f9508deefb2b\n",
      "9aa3a652-dbdf-4a40-828c-87552292fe65\n",
      "e7caafd3-14a4-415e-b3cc-57eb2e2fc779\n",
      "8e8840de-2f9e-4c0e-b574-514baeb6b9e0\n",
      "0f90987c-ae4c-4496-84f9-153ac11a5867\n",
      "83e0f80d-80f5-4199-b370-293b581ffe15\n",
      "02bdce21-942c-4d64-b538-0711f384093a\n",
      "7e1f3caa-cecb-43c9-85f3-e2de3c98e6d3\n",
      "e4014bf6-3587-45cf-8dc0-addf1b4e4245\n",
      "3857b614-10c2-4463-a1d3-a819e0d4fdb0\n",
      "aa6f8420-4a6e-495c-9ecb-9ef84384b2af\n",
      "a64defce-789b-48ec-9ad4-f6e772c4e194\n",
      "59c8968c-3e80-4549-900b-0b0b1d0a90e5\n",
      "ba780b02-a99c-49e5-91da-772ed12afbf0\n",
      "a506c084-f8a0-4347-8650-8748e14df994\n",
      "61c24ac6-df8c-4cb2-bab9-7b1e27c314ca\n",
      "cf82bec2-623e-4b05-a280-6fa70170968d\n",
      "5a007e8a-1dc9-4275-8e3b-e2c4c0e239bd\n",
      "62d973a8-52fa-4e17-96b3-e7f29081bd7d\n",
      "9d300ed4-27c2-4489-8ff7-a23955978131\n",
      "dc224a97-bfcd-42fd-9b64-a0c30f63ba4b\n",
      "fc63ddd1-2ea9-4e12-b086-8a4fba9ea61a\n",
      "b079610d-04a3-473f-8f8b-a699db8b8df3\n",
      "19c0f783-9961-4c4e-be0f-d9eaf96704c7\n",
      "520438fa-fd77-40e2-825f-dcc50603c7a9\n",
      "f0d27ddc-d4c0-48b4-88b6-0ef06194e5d1\n",
      "f12a1238-b67d-49b3-8bb0-3c6f3ea73a6c\n",
      "ac233bc7-0066-4cec-ba86-da8e34e85613\n",
      "28fce414-338d-47dc-8088-07bd452e795d\n",
      "9bc725f3-bdb4-42d7-a19d-43d4a71d00df\n",
      "3eb31751-ec21-4058-b040-0e922aa591f6\n",
      "84816b38-f778-4952-845a-64a2a772d483\n",
      "a16b817a-7198-4e89-ab6f-cb5bbf532ab9\n",
      "b2c33b06-28d8-4fca-83a5-1be34cad7883\n",
      "e7c0ac69-6d2f-4aae-9c99-c3e2d8a4c62f\n",
      "c12a207d-1fab-4895-8aad-9b41431ccb1c\n",
      "d4374b18-6400-4eb4-8ab4-fa3b059db0a1\n",
      "3981c186-caa5-43a1-8a30-d71360f29b06\n",
      "7ddb9486-f115-407d-8756-e99c65be441e\n",
      "fe04e673-4164-4275-ab73-6b1d2fbe710f\n"
     ]
    }
   ],
   "source": [
    "counter = 0\n",
    "for pro in problematic:\n",
    "    counter += 1\n",
    "    if counter < 1200:\n",
    "        continue\n",
    "    print(pro)\n",
    "    if counter > 1300:\n",
    "        break"
   ]
  },
  {
   "cell_type": "code",
   "execution_count": null,
   "metadata": {},
   "outputs": [],
   "source": []
  }
 ],
 "metadata": {
  "kernelspec": {
   "display_name": "Python 3",
   "language": "python",
   "name": "python3"
  },
  "language_info": {
   "codemirror_mode": {
    "name": "ipython",
    "version": 3
   },
   "file_extension": ".py",
   "mimetype": "text/x-python",
   "name": "python",
   "nbconvert_exporter": "python",
   "pygments_lexer": "ipython3",
   "version": "3.5.2"
  }
 },
 "nbformat": 4,
 "nbformat_minor": 2
}
