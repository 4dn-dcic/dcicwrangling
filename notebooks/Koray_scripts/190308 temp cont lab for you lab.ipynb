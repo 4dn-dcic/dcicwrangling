{
 "cells": [
  {
   "cell_type": "code",
   "execution_count": null,
   "metadata": {},
   "outputs": [],
   "source": [
    "from dcicutils import ff_utils\n",
    "from functions.wfr import *\n",
    "from functions.wfr_settings import *\n",
    "from functions.notebook_functions import *\n",
    "\n",
    "# tibanna = Tibanna(env=env)\n",
    "my_env = 'data'\n",
    "my_key = get_key('koray_data')\n",
    "\n",
    "sets_in_scope = ['4DNES21D8SP8', '4DNESYTWHUH6'] \n",
    "set_to_release = [ff_utils.get_metadata(i, my_key)['uuid'] for i in sets_in_scope]\n",
    "store, uuids = ff_utils.expand_es_metadata(set_to_release, my_key, store_frame='object',add_pc_wfr=True, ignore_field = ['experiment_relation', 'biosample_relation', 'references'])\n",
    "\n",
    "accs = []\n",
    "for i in store['file_processed']:\n",
    "    print(i['accession'], i['status'])\n",
    "    accs.append(i['accession'])\n",
    "print(accs)\n"
   ]
  },
  {
   "cell_type": "code",
   "execution_count": null,
   "metadata": {
    "scrolled": true
   },
   "outputs": [],
   "source": [
    "for i in accs:\n",
    "    resp = ff_utils.get_metadata(i, my_key, add_on='frame=raw')\n",
    "    cont = resp.get('contributing_labs')\n",
    "    cont.remove('6240db37-c902-4f2a-b8eb-44a3e6ccfe11')\n",
    "    print(cont)\n",
    "    cont = list(set(cont))\n",
    "    ff_utils.patch_metadata({'contributing_labs': cont}, i, my_key)\n",
    "\n",
    "    "
   ]
  },
  {
   "cell_type": "code",
   "execution_count": 4,
   "metadata": {},
   "outputs": [
    {
     "data": {
      "text/html": [
       "\n",
       "        <iframe\n",
       "            width=\"100%\"\n",
       "            height=\"500\"\n",
       "            src=\"pivottablejs.html\"\n",
       "            frameborder=\"0\"\n",
       "            allowfullscreen\n",
       "        ></iframe>\n",
       "        "
      ],
      "text/plain": [
       "<IPython.lib.display.IFrame at 0x105c34978>"
      ]
     },
     "execution_count": 4,
     "metadata": {},
     "output_type": "execute_result"
    }
   ],
   "source": [
    "from dcicutils import ff_utils\n",
    "from functions.wfr import *\n",
    "from functions.wfr_settings import *\n",
    "from functions.notebook_functions import *\n",
    "from pivottablejs import pivot_ui\n",
    "import pandas as pd\n",
    "# tibanna = Tibanna(env=env)\n",
    "my_env = 'data'\n",
    "my_key = get_key('koray_data')\n",
    "\n",
    "metadata = ff_utils.search_metadata('/search/?award.project=4DN&experimentset_type=replicate&type=ExperimentSetReplicate&experiments_in_set.experiment_type=dilution+Hi-C&experiments_in_set.biosample.biosource.individual.organism.name=human', my_key)\n",
    "df = pd.DataFrame(metadata)\n",
    "pivot_ui(df)"
   ]
  },
  {
   "cell_type": "code",
   "execution_count": null,
   "metadata": {},
   "outputs": [],
   "source": []
  }
 ],
 "metadata": {
  "kernelspec": {
   "display_name": "Python 3",
   "language": "python",
   "name": "python3"
  },
  "language_info": {
   "codemirror_mode": {
    "name": "ipython",
    "version": 3
   },
   "file_extension": ".py",
   "mimetype": "text/x-python",
   "name": "python",
   "nbconvert_exporter": "python",
   "pygments_lexer": "ipython3",
   "version": "3.5.2"
  }
 },
 "nbformat": 4,
 "nbformat_minor": 2
}
