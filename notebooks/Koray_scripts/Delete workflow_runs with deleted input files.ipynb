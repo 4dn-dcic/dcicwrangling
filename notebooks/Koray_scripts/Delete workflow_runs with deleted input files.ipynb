{
 "cells": [
  {
   "cell_type": "code",
   "execution_count": 21,
   "metadata": {},
   "outputs": [
    {
     "name": "stdout",
     "output_type": "stream",
     "text": [
      "http://fourfront-hotseat.9wzadzju3p.us-east-1.elasticbeanstalk.com\n",
      "9274\n"
     ]
    }
   ],
   "source": [
    "from dcicutils import ff_utils\n",
    "my_env = 'fourfront-hotseat'\n",
    "my_auth = ff_utils.get_authentication_with_server({}, ff_env = my_env)\n",
    "\n",
    "url = 'search/?type=WorkflowRun&limit=all'\n",
    "#url = 'search/?type=WorkflowRunSbg&limit=all'\n",
    "\n",
    "print(my_auth['server'])\n",
    "all_runs = ff_utils.search_metadata(url, key=my_auth)\n",
    "print(len(all_runs))"
   ]
  },
  {
   "cell_type": "code",
   "execution_count": 27,
   "metadata": {
    "scrolled": true
   },
   "outputs": [
    {
     "name": "stdout",
     "output_type": "stream",
     "text": [
      "hi-c-processing-partb/19 test run deleted wfr with deleted input\n",
      "md5 run 2018-05-11 14:55:14.350288 deleted wfr with deleted input\n",
      "md5 run 2018-05-10 07:56:24.830091 deleted wfr with deleted input\n",
      "md5 run 2018-05-10 07:55:52.443242 deleted wfr with deleted input\n",
      "md5 run 2018-05-09 19:39:32.153524 deleted wfr with deleted input\n",
      "fastqc-0-11-4-1 run 2018-05-01 18:36:03.917107 deleted wfr with deleted input\n",
      "md5 run 2018-04-02 18:53:56.571795 deleted wfr with deleted input\n",
      "md5 run 2018-03-09 16:05:20.696515 deleted wfr with deleted input\n",
      "md5 run 2018-01-22 16:41:28.827965 deleted wfr with deleted input\n",
      "hi-c-processing-partc/3 run 2017-07-19 15:24:06.790961 deleted wfr with deleted input\n"
     ]
    }
   ],
   "source": [
    "for a_run in all_runs:\n",
    "    # delete incomplete runs\n",
    "    if a_run['run_status'] != 'complete':\n",
    "        ff_utils.patch_metadata({'status':'deleted'}, obj_id = a_run['uuid'], key = my_auth)\n",
    "        print(a_run['display_title'], 'deleted, incomplete run')\n",
    "        continue\n",
    "    # delete if input is deleted:\n",
    "    del_input = False\n",
    "    for a_file in a_run['input_files']:\n",
    "        f_status = a_file['value']['status']\n",
    "        if f_status == 'deleted':\n",
    "            del_input = True\n",
    "            break\n",
    "    if del_input:\n",
    "        ff_utils.patch_metadata({'status':'deleted'}, obj_id = a_run['uuid'], key = my_auth)\n",
    "        print(a_run['display_title'], 'deleted wfr with deleted input')"
   ]
  },
  {
   "cell_type": "code",
   "execution_count": 20,
   "metadata": {},
   "outputs": [
    {
     "name": "stdout",
     "output_type": "stream",
     "text": [
      "68\n",
      "output file deleted c4d7b623-4f76-4869-866b-148bfad824fa\n",
      "output file deleted 6f061f54-ea6c-44e3-9835-ccb31659c1ab\n",
      "output file deleted 3223a1b3-04c8-4e7e-93cd-c14f64d88d1e\n",
      "output file deleted d4387adf-f15f-4af8-8546-7d82b09b4be9\n",
      "output file deleted a4a7257c-d89b-47f8-a541-7e15423af935\n",
      "output file deleted 01c8513e-4b18-485b-8471-76fe88c07a60\n",
      "output file deleted fe7ab49c-0102-4dad-8cc9-c53e7bbfedee\n",
      "output file deleted deade145-a676-49d3-a440-9adb3e86c879\n",
      "output file deleted acf183a5-fd89-40a8-b6b8-3c4d5650359e\n",
      "output file deleted fe8fc870-4731-41e4-8a91-710dcdb236ac\n",
      "output file deleted 46a49b5d-f185-4e98-8747-c31a904bbc2f\n",
      "output file deleted 93df02c6-1047-43f6-afae-d3598b61eeea\n",
      "output file deleted ef0eba47-ada0-42bc-9329-5145b57ff33a\n",
      "output file deleted d1b15a94-a3f4-4acb-87e8-01b118ea1311\n",
      "output file deleted 43edb1be-76d1-4942-81e4-3ef75cd44ca2\n",
      "output file deleted 543929d9-cb9b-4ca1-bfec-86a5d4f6ab84\n",
      "output file deleted 37ffdaac-0e9e-4885-a969-ca9cfb2c5199\n",
      "output file deleted 7d8685be-c104-40b3-848b-e0f3a834143e\n",
      "output file deleted 4bf30342-ccec-4d91-9f49-aaf8e4ece36e\n",
      "output file deleted 8cb36099-46a4-4616-b44f-81d5fcb6f331\n",
      "output file deleted 3e72d004-8a2c-49f8-9e82-d472c861304f\n",
      "output file deleted 2408d19d-7f43-4b5e-a988-9858fea435d0\n",
      "output file deleted 2c13e559-d5bf-443e-8475-877ce385f62b\n",
      "output file deleted 1b980656-3dbc-478f-b735-3326182ca17b\n",
      "output file deleted cead7e23-e667-4ab8-af3a-30adc35ce552\n",
      "output file deleted 4731ae77-8e44-466e-a837-07d673fbf04e\n",
      "output file deleted 77b9ac4d-898b-4eaa-be2e-73d04a3c1f98\n",
      "output file deleted 0ab8c7d8-455b-4e66-8464-1bf595f073ca\n",
      "output file deleted 430e67ed-5d12-4268-b4af-846065f3ee19\n",
      "output file deleted 8efaec8b-abdf-46fb-8e47-e8eb542f4ad4\n",
      "output file deleted f11ddc17-4cbf-4d95-836e-f5a27dfe9bb6\n",
      "output file deleted e4261cdc-6876-4db4-9116-4a8e52a82b52\n",
      "output file deleted bb8ea824-587f-4c62-a8d5-debe8e0d6d88\n",
      "output file deleted 5c220445-17e4-4431-9335-d5e8cafb7937\n",
      "output file deleted fe7f0419-3cf4-4f10-a039-6679a2c9f2ea\n",
      "output file deleted 573a06c9-001e-4c7b-8410-a2a0d9724102\n",
      "output file deleted 8b393800-c302-4f05-b753-0f0e0cfd0273\n",
      "output file deleted 581546bf-e69d-4008-939a-9dc3e9846c72\n",
      "output file deleted 9d998954-e774-4542-9577-65aca73781f1\n",
      "output file deleted 90c7006a-b836-411a-9757-6beaf719da92\n",
      "output file deleted cfaab5af-2846-47e9-98b4-b889eb9a45e2\n",
      "output file deleted e6770647-50a1-4ad1-91f3-aa4ef380d488\n",
      "output file deleted f17a9528-b57f-4df9-a224-4c8205aa5e97\n",
      "output file deleted 6929a3f3-c051-47bc-a1c9-733be51fae1d\n",
      "output file deleted 359fa081-672d-44ae-bcd1-099c77e9dd6f\n",
      "output file deleted 010c2153-540d-4547-abf7-d25332142220\n",
      "output file deleted 42714815-1649-4849-8f48-d8f3aad130ce\n",
      "output file deleted bd92846b-1faa-4232-8e74-63315012f4ed\n",
      "output file deleted 102894b0-80f6-4738-a9b1-baa2ba7fee06\n",
      "output file deleted db1b2eef-4095-4433-81de-a7273348b122\n",
      "output file deleted cbad9344-388e-4395-a74b-5d9f297ecc58\n",
      "output file deleted dcb6647e-aaa4-4398-a412-d7ff4903adc4\n",
      "output file deleted 4f66f00d-905f-4096-a3b3-003b46a2bd41\n",
      "output file deleted 92ee20ba-6d67-4a22-bf94-7fd6cd17e31a\n",
      "output file deleted 1f009feb-4064-40cc-891a-89e5ada142b5\n",
      "output file deleted 5db2d6da-a754-49a5-ab17-28aac7508597\n",
      "output file deleted 4d8f6f82-1e48-40e0-b8cc-85ff63a8ac6e\n",
      "output file deleted bdac3d1e-69f6-4731-be42-97d7e1f06156\n",
      "output file deleted a596d825-d884-4a81-9c5e-8caee80caf3a\n",
      "output file deleted 089a887c-fabb-49ed-bec3-52655c039eb7\n",
      "output file deleted 9ae4c448-beb5-4e10-8077-5dbd83cd2c29\n",
      "output file deleted 08fd31ad-139c-4b84-aa16-a9e1c4256b73\n",
      "output file deleted 29100282-5778-461d-bff2-9134f4230385\n",
      "output file deleted 92f5688d-40af-4658-8e45-c44d8563ee96\n",
      "output file deleted ea1915d1-252d-4d66-a2b8-4ec36e0d3ea0\n",
      "output file deleted da2244e3-3d41-4343-8def-c99714fc7608\n",
      "output file deleted 4ffd04e3-4557-4c04-83c0-a39807a4d57b\n",
      "output file deleted 08b1321f-f08d-4cff-9660-ca269633a284\n",
      "output file deleted e255d5b5-e740-420e-9661-1bbf9b3f5dd1\n",
      "output file deleted baa85527-e97c-4072-ae22-a91e34361514\n",
      "output file deleted ee1ac45f-ab28-4811-8b41-e7de804995e9\n",
      "output file deleted 7f8f0dd5-419d-4111-92a7-af6fa9789a78\n"
     ]
    }
   ],
   "source": [
    "# cleanup deleted wfrs\n",
    "d_url = url + '&status=deleted'\n",
    "del_runs = ff_utils.search_metadata(d_url, key=my_auth)\n",
    "print(len(del_runs))\n",
    "\n",
    "for a_run in del_runs:\n",
    "    if a_run.get('output_files'):\n",
    "        for an_out in a_run['output_files']:\n",
    "            try:\n",
    "                o_status = an_out['value']['status']\n",
    "                if o_status != 'deleted':\n",
    "                    ff_utils.patch_metadata({\"status\":\"deleted\"}, obj_id=an_out['value']['uuid'], key=my_auth)\n",
    "                    print('output file deleted', an_out['value']['uuid'])\n",
    "            except:\n",
    "                pass\n",
    "    if a_run.get('output_quality_metrics'):\n",
    "        for a_qc in a_run['output_quality_metrics']:\n",
    "            if a_qc['value'].get('uuid'):\n",
    "                ff_utils.patch_metadata({\"status\":\"deleted\"}, obj_id=a_qc['value']['uuid'], key=my_auth)\n",
    "                print('output qc deleted', a_qc['value']['uuid'])\n",
    "\n"
   ]
  },
  {
   "cell_type": "code",
   "execution_count": null,
   "metadata": {},
   "outputs": [],
   "source": []
  }
 ],
 "metadata": {
  "kernelspec": {
   "display_name": "Python 3",
   "language": "python",
   "name": "python3"
  },
  "language_info": {
   "codemirror_mode": {
    "name": "ipython",
    "version": 3
   },
   "file_extension": ".py",
   "mimetype": "text/x-python",
   "name": "python",
   "nbconvert_exporter": "python",
   "pygments_lexer": "ipython3",
   "version": "3.5.2"
  }
 },
 "nbformat": 4,
 "nbformat_minor": 2
}
