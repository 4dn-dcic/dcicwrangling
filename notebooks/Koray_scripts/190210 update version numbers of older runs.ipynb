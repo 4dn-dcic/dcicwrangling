{
 "cells": [
  {
   "cell_type": "code",
   "execution_count": 8,
   "metadata": {},
   "outputs": [
    {
     "name": "stdout",
     "output_type": "stream",
     "text": [
      "md5 0.0.4 - 4DNWFG6JOL4D 0.0.4\n",
      "md5 0.2.6 - 4DNWF2HFF82B 0.2.6\n",
      "FastQC 0.2.0 - 4DNWFAW5VTA5 0.2.0\n",
      "Alignment for Hi-C using bwa-mem 0.2.6 - 4DNWF84NFOQP 0.2.6\n",
      "Hi-C Post-alignment Processing 0.2.6 - 4DNWFT69RBY4 0.2.6\n",
      "Generation of multiresolution Hi-C contact matrices from a set of contact lists 0.2.6 - 4DNWFTKI1QLK 0.2.6\n",
      "Generation of multiresolution Hi-C contact matrices from a set of contact lists, no restriction enzyme 0.2.6 - 4DNWFQVDVA37 0.2.6\n",
      "Generation of multiresolution Hi-C contact matrices from a set of contact lists, no normalization 0.2.6 - 4DNWF7WTHVSA 0.2.6\n",
      "Generation of multiresolution Hi-C contact matrices from a set of contact lists, no normalization, no restriction enzyme 0.2.6 - 4DNWFYACVAEX 0.2.6\n",
      "Repli-seq data processing pipeline for alignment, filtering and counting v13.1 - 4DNWFBKH3JR1 v13.1\n",
      "Repli-seq data processing pipeline for alignment, filtering and counting v14 - 4DNWFBT37VUW v14\n",
      "Converting bedgraph to bigwig v4 - 4DNWJV73GVL v4\n",
      "Converting bed to beddb v2 - 4DNWLM174GGG v2\n",
      "PairsQC 0.2.5 - 4DNWF36CF3A1 0.2.5\n",
      "PairsQC 0.2.6 - 4DNWFHB26CID 0.2.6\n"
     ]
    }
   ],
   "source": [
    "from dcicutils import ff_utils\n",
    "from functions.wfr import *\n",
    "from functions.wfr_settings import *\n",
    "from functions.notebook_functions import *\n",
    "\n",
    "# tibanna = Tibanna(env=env)\n",
    "my_env = 'data'\n",
    "my_key = get_key('koray_data')\n",
    "\n",
    "\n",
    "wf_updates = [['d3f25cd3-e726-4b3c-a022-48f844474b41', '0.0.4'], #  old md5\n",
    "              ['c77a117b-9a58-477e-aaa5-291a109a99f6', '0.2.6'], #  new md5\n",
    "              ['2324ad76-ff37-4157-8bcc-3ce72b7dace9', '0.2.0'], #  all fastqc\n",
    "              ['3feedadc-50f9-4bb4-919b-09a8b731d0cc', '0.2.6'], #  hic step 1\n",
    "              ['023bfb3e-9a8b-42b9-a9d4-216079526f68', '0.2.6'], #  hic step 2\n",
    "              ['c9e0e6f7-b0ed-4a42-9466-cadc2dd84df0', '0.2.6'], #  hic step 3\n",
    "              ['c19ee11e-9d5a-454f-af50-600a0cf990b6', '0.2.6'], #  hic step 3 nore\n",
    "              ['bd6e25ea-f368-4758-a821-d30e0b5a4100', '0.2.6'], #  hic step 3 nonorm\n",
    "              ['05b62bba-7bfa-46cc-8d8e-3d37f4feb8bd', '0.2.6'], #  hic step 3 nore nonorm\n",
    "              ['146da22a-502d-4500-bf57-a7cf0b4b2364', 'v13.1'], #  repliseq old partA\n",
    "              ['4459a4d8-1bd8-4b6a-b2cc-2506f4270a34', 'v14'],   #  repliseq new partA\n",
    "              ['667b14a7-a47e-4857-adf1-12a6393c4b8e', 'v4'],    #  bg2bw\n",
    "              ['9d575e99-5ffe-4ea4-b74f-ad40f621cd39', 'v2'],    #  bd2bdb\n",
    "              ['ae3a87cb-3fa2-469e-97c7-540fc2d0a117', '0.2.5'], #  old pairsqc\n",
    "              ['b8c533e0-f8c0-4510-b4a1-ac35158e27c3', '0.2.6'], #  new pairsqc         \n",
    "             ]\n",
    "\n",
    "for wf, version in wf_updates:\n",
    "    wf_resp = ff_utils.get_metadata(wf, my_key)\n",
    "    print(wf_resp['display_title'], version)\n",
    "\n",
    "\n",
    "# for wf, version in wf_updates:\n",
    "#     wfr_url = '/search/?type=WorkflowRunAwsem&workflow.uuid=' + wf\n",
    "#     all_wfrs = ff_utils.search_metadata(wfr_url , key=my_key)\n",
    "#     print(len(all_wfrs))\n",
    "#     dts = [i['display_title'].split('run')[0] for i in all_wfrs]\n",
    "#     dts = list(set(dts))\n",
    "#     for ix in dts:\n",
    "#         print(ix)\n",
    "#     print()\n",
    "        \n",
    "#     title = i['title']\n",
    "#     new_title = title.replace('0.2.5', '1.1.1')\n",
    "#     #ff_utils.patch_metadata({'title': new_title}, obj_id = i['uuid'], key=my_key)\n",
    "    \n",
    "    \n",
    "    "
   ]
  },
  {
   "cell_type": "code",
   "execution_count": 10,
   "metadata": {},
   "outputs": [
    {
     "name": "stdout",
     "output_type": "stream",
     "text": [
      "\n",
      "3701\n",
      "md5 0.0.4 \n",
      "md5 \n",
      "md5  \n"
     ]
    },
    {
     "data": {
      "application/vnd.jupyter.widget-view+json": {
       "model_id": "d384af9b88f3453f8405bd4632a3ae75",
       "version_major": 2,
       "version_minor": 0
      },
      "text/plain": [
       "HBox(children=(IntProgress(value=0, max=3701), HTML(value='')))"
      ]
     },
     "metadata": {},
     "output_type": "display_data"
    },
    {
     "name": "stdout",
     "output_type": "stream",
     "text": [
      "\n",
      "\n",
      "8944\n",
      "md5 \n",
      "md5  \n"
     ]
    },
    {
     "data": {
      "application/vnd.jupyter.widget-view+json": {
       "model_id": "bcd247d80a354662b5be6ad393ba4854",
       "version_major": 2,
       "version_minor": 0
      },
      "text/plain": [
       "HBox(children=(IntProgress(value=0, max=8944), HTML(value='')))"
      ]
     },
     "metadata": {},
     "output_type": "display_data"
    },
    {
     "name": "stdout",
     "output_type": "stream",
     "text": [
      "\n",
      "\n",
      "8764\n",
      "fastqc-0-11-4-1  \n",
      "fastqc-0-11-4-1 \n"
     ]
    },
    {
     "data": {
      "application/vnd.jupyter.widget-view+json": {
       "model_id": "f1a11fec42b84922bf607c535b17a20c",
       "version_major": 2,
       "version_minor": 0
      },
      "text/plain": [
       "HBox(children=(IntProgress(value=0, max=8764), HTML(value='')))"
      ]
     },
     "metadata": {},
     "output_type": "display_data"
    },
    {
     "name": "stdout",
     "output_type": "stream",
     "text": [
      "\n",
      "\n",
      "3451\n",
      "bwa-mem 0.2.5 \n"
     ]
    },
    {
     "data": {
      "application/vnd.jupyter.widget-view+json": {
       "model_id": "80a4965baf5b4e66ae2a02df593ec5ab",
       "version_major": 2,
       "version_minor": 0
      },
      "text/plain": [
       "HBox(children=(IntProgress(value=0, max=3451), HTML(value='')))"
      ]
     },
     "metadata": {},
     "output_type": "display_data"
    },
    {
     "name": "stdout",
     "output_type": "stream",
     "text": [
      "\n",
      "\n",
      "589\n",
      "hi-c-processing-bam 0.2.5 \n"
     ]
    },
    {
     "data": {
      "application/vnd.jupyter.widget-view+json": {
       "model_id": "127fe881dce44609902c7a5a62144612",
       "version_major": 2,
       "version_minor": 0
      },
      "text/plain": [
       "HBox(children=(IntProgress(value=0, max=589), HTML(value='')))"
      ]
     },
     "metadata": {},
     "output_type": "display_data"
    },
    {
     "name": "stdout",
     "output_type": "stream",
     "text": [
      "\n",
      "\n",
      "135\n",
      "hi-c-processing-pairs 0.2.5 \n"
     ]
    },
    {
     "data": {
      "application/vnd.jupyter.widget-view+json": {
       "model_id": "b210dff0b59748508dc272c839b079ca",
       "version_major": 2,
       "version_minor": 0
      },
      "text/plain": [
       "HBox(children=(IntProgress(value=0, max=135), HTML(value='')))"
      ]
     },
     "metadata": {},
     "output_type": "display_data"
    },
    {
     "name": "stdout",
     "output_type": "stream",
     "text": [
      "\n",
      "\n",
      "19\n",
      "hi-c-processing-pairs-nore 0.2.5 \n"
     ]
    },
    {
     "data": {
      "application/vnd.jupyter.widget-view+json": {
       "model_id": "77605dd9e73b41c4a12e712ae5db9de6",
       "version_major": 2,
       "version_minor": 0
      },
      "text/plain": [
       "HBox(children=(IntProgress(value=0, max=19), HTML(value='')))"
      ]
     },
     "metadata": {},
     "output_type": "display_data"
    },
    {
     "name": "stdout",
     "output_type": "stream",
     "text": [
      "\n",
      "\n",
      "31\n",
      "hi-c-processing-pairs-nonorm 0.2.5 \n"
     ]
    },
    {
     "data": {
      "application/vnd.jupyter.widget-view+json": {
       "model_id": "a6d29ecd85334c8eb95980988cf1c2c4",
       "version_major": 2,
       "version_minor": 0
      },
      "text/plain": [
       "HBox(children=(IntProgress(value=0, max=31), HTML(value='')))"
      ]
     },
     "metadata": {},
     "output_type": "display_data"
    },
    {
     "name": "stdout",
     "output_type": "stream",
     "text": [
      "\n",
      "\n",
      "6\n",
      "hi-c-processing-pairs-nore-nonorm 0.2.5 \n"
     ]
    },
    {
     "data": {
      "application/vnd.jupyter.widget-view+json": {
       "model_id": "0757f453edf247e5999d981f8a1cc3b9",
       "version_major": 2,
       "version_minor": 0
      },
      "text/plain": [
       "HBox(children=(IntProgress(value=0, max=6), HTML(value='')))"
      ]
     },
     "metadata": {},
     "output_type": "display_data"
    },
    {
     "name": "stdout",
     "output_type": "stream",
     "text": [
      "\n",
      "\n",
      "66\n",
      "repliseq-parta 0.2.5 \n"
     ]
    },
    {
     "data": {
      "application/vnd.jupyter.widget-view+json": {
       "model_id": "b5698ca3406d4dd0839dc903901a186e",
       "version_major": 2,
       "version_minor": 0
      },
      "text/plain": [
       "HBox(children=(IntProgress(value=0, max=66), HTML(value='')))"
      ]
     },
     "metadata": {},
     "output_type": "display_data"
    },
    {
     "name": "stdout",
     "output_type": "stream",
     "text": [
      "\n",
      "\n",
      "57\n",
      "repliseq-parta 0.2.5 \n"
     ]
    },
    {
     "data": {
      "application/vnd.jupyter.widget-view+json": {
       "model_id": "e9f546cf1320479aad09866d82227918",
       "version_major": 2,
       "version_minor": 0
      },
      "text/plain": [
       "HBox(children=(IntProgress(value=0, max=57), HTML(value='')))"
      ]
     },
     "metadata": {},
     "output_type": "display_data"
    },
    {
     "name": "stdout",
     "output_type": "stream",
     "text": [
      "\n",
      "\n",
      "18\n",
      "bedGraphToBigWig  \n"
     ]
    },
    {
     "data": {
      "application/vnd.jupyter.widget-view+json": {
       "model_id": "4f50947c6fa8403ab7a54b984b81ed63",
       "version_major": 2,
       "version_minor": 0
      },
      "text/plain": [
       "HBox(children=(IntProgress(value=0, max=18), HTML(value='')))"
      ]
     },
     "metadata": {},
     "output_type": "display_data"
    },
    {
     "name": "stdout",
     "output_type": "stream",
     "text": [
      "\n",
      "\n",
      "220\n",
      "bedtobeddb \n",
      "bedtobeddb  \n"
     ]
    },
    {
     "data": {
      "application/vnd.jupyter.widget-view+json": {
       "model_id": "a24a35db899d4a5c9afd5354318e83fe",
       "version_major": 2,
       "version_minor": 0
      },
      "text/plain": [
       "HBox(children=(IntProgress(value=0, max=220), HTML(value='')))"
      ]
     },
     "metadata": {},
     "output_type": "display_data"
    },
    {
     "name": "stdout",
     "output_type": "stream",
     "text": [
      "\n",
      "\n",
      "350\n",
      "pairsqc-single \n",
      "pairsqc-single 0.2.5 \n"
     ]
    },
    {
     "data": {
      "application/vnd.jupyter.widget-view+json": {
       "model_id": "f6900da0821e498fabfee13bf69160b8",
       "version_major": 2,
       "version_minor": 0
      },
      "text/plain": [
       "HBox(children=(IntProgress(value=0, max=350), HTML(value='')))"
      ]
     },
     "metadata": {},
     "output_type": "display_data"
    },
    {
     "name": "stdout",
     "output_type": "stream",
     "text": [
      "\n",
      "\n",
      "444\n",
      "pairsqc-single 0.2.5 \n"
     ]
    },
    {
     "data": {
      "application/vnd.jupyter.widget-view+json": {
       "model_id": "5ac9c529651a4f99a12535016dd5bb82",
       "version_major": 2,
       "version_minor": 0
      },
      "text/plain": [
       "HBox(children=(IntProgress(value=0, max=444), HTML(value='')))"
      ]
     },
     "metadata": {},
     "output_type": "display_data"
    },
    {
     "name": "stdout",
     "output_type": "stream",
     "text": [
      "\n"
     ]
    }
   ],
   "source": [
    "from tqdm import tqdm_notebook as tqdm\n",
    "\n",
    "for wf, version in wf_updates:\n",
    "    print()\n",
    "    wfr_url = '/search/?type=WorkflowRunAwsem&workflow.uuid=' + wf\n",
    "    all_wfrs = ff_utils.search_metadata(wfr_url , key=my_key)\n",
    "    print(len(all_wfrs))\n",
    "    dts = [i['display_title'].split('run')[0] for i in all_wfrs]\n",
    "    dts = list(set(dts))\n",
    "    for ix in dts:\n",
    "        print(ix)\n",
    "    \n",
    "    for a_wfr in tqdm(all_wfrs):\n",
    "        title_ele = [i.strip() for i in a_wfr['title'].split('run')]\n",
    "        assert len(title_ele) == 2\n",
    "        details = title_ele[1]\n",
    "        # if there is space in the name, it means it was assigned a version before             \n",
    "        title_names = title_ele[0].split(' ')\n",
    "        \n",
    "        new_title_ele = [title_names[0], version, 'run', details]\n",
    "        new_title = ' '.join(new_title_ele)\n",
    "        ff_utils.patch_metadata({'title': new_title}, obj_id = a_wfr['uuid'], key=my_key)\n"
   ]
  },
  {
   "cell_type": "code",
   "execution_count": null,
   "metadata": {},
   "outputs": [],
   "source": []
  }
 ],
 "metadata": {
  "kernelspec": {
   "display_name": "Python 3",
   "language": "python",
   "name": "python3"
  },
  "language_info": {
   "codemirror_mode": {
    "name": "ipython",
    "version": 3
   },
   "file_extension": ".py",
   "mimetype": "text/x-python",
   "name": "python",
   "nbconvert_exporter": "python",
   "pygments_lexer": "ipython3",
   "version": "3.5.2"
  }
 },
 "nbformat": 4,
 "nbformat_minor": 2
}
