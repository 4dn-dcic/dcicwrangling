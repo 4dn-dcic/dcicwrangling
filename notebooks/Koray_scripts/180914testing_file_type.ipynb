{
 "cells": [
  {
   "cell_type": "code",
   "execution_count": 2,
   "metadata": {},
   "outputs": [],
   "source": [
    "from dcicutils import ff_utils\n",
    "from functions.notebook_functions import *\n",
    "\n",
    "# get key from file\n",
    "# my_key = get_key('koray_data')\n",
    "\n",
    "# all usable env names\n",
    "all_envs = ['data', 'staging', 'fourfront-webdev', 'fourfront-mastertest', 'fourfront-hotseat']\n",
    "# get admin key from s3\n",
    "my_key = ff_utils.get_authentication_with_server({}, ff_env = 'fourfront-webdev')"
   ]
  },
  {
   "cell_type": "code",
   "execution_count": 9,
   "metadata": {},
   "outputs": [
    {
     "name": "stdout",
     "output_type": "stream",
     "text": [
      "[]\n",
      "['bedpe', 'spt', 'csv']\n",
      "[]\n",
      "[]\n",
      "['nd2', 'r3d', 'dv', 'flex']\n",
      "['FileFastq', 'FileProcessed', 'FileReference', 'FileCalibration', 'FileMicroscopy']\n"
     ]
    }
   ],
   "source": [
    "sheet_order = [\n",
    "    \"User\", \"Award\", \"Lab\", \"Document\", \"Protocol\", \"Publication\", \"Organism\",\n",
    "    \"IndividualMouse\", \"IndividualFly\", \"IndividualHuman\", \"FileFormat\", \"Vendor\", \"Enzyme\",\n",
    "    \"Construct\", \"TreatmentRnai\", \"TreatmentAgent\", \"GenomicRegion\", \"Target\",\n",
    "    \"Antibody\", \"Modification\", \"Image\", \"Biosource\", \"BiosampleCellCulture\",\n",
    "    \"Biosample\", \"FileFastq\", \"FileProcessed\", \"FileReference\", \"FileCalibration\",\n",
    "    \"FileSet\", \"FileSetCalibration\", \"MicroscopeSettingD1\", \"MicroscopeSettingD2\",\n",
    "    \"MicroscopeSettingA1\", \"MicroscopeSettingA2\", \"FileMicroscopy\", \"FileSetMicroscopeQc\",\n",
    "    \"ImagingPath\", \"ExperimentMic\", \"ExperimentMic_Path\", \"ExperimentHiC\",\n",
    "    \"ExperimentCaptureC\", \"ExperimentRepliseq\", \"ExperimentAtacseq\",\n",
    "    \"ExperimentChiapet\", \"ExperimentDamid\", \"ExperimentSeq\", \"ExperimentTsaseq\", \"ExperimentSet\",\n",
    "    \"ExperimentSetReplicate\", \"WorkflowRunSbg\", \"WorkflowRunAwsem\", \"OntologyTerm\"\n",
    "]\n",
    "\n",
    "def get_file_formats(sheet_order):\n",
    "    file_types = [i for i in sheet_order if i.startswith('File') and not i.startswith('FileSet')]\n",
    "    file_types.remove('FileFormat')\n",
    "    for file_type in file_types:\n",
    "        q = '/search/?type=FileFormat&field=file_format&valid_item_types={}'.format(file_type)\n",
    "        formats = [i['file_format'] for i in ff_utils.search_metadata(q, key = my_key)]\n",
    "        print(formats)\n",
    "\n",
    "    return file_types\n",
    "\n",
    "print(get_file_formats(sheet_order))\n"
   ]
  },
  {
   "cell_type": "code",
   "execution_count": null,
   "metadata": {},
   "outputs": [],
   "source": []
  }
 ],
 "metadata": {
  "kernelspec": {
   "display_name": "Python 3",
   "language": "python",
   "name": "python3"
  },
  "language_info": {
   "codemirror_mode": {
    "name": "ipython",
    "version": 3
   },
   "file_extension": ".py",
   "mimetype": "text/x-python",
   "name": "python",
   "nbconvert_exporter": "python",
   "pygments_lexer": "ipython3",
   "version": "3.5.2"
  }
 },
 "nbformat": 4,
 "nbformat_minor": 2
}
