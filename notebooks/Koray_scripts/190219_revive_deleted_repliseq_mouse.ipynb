{
 "cells": [
  {
   "cell_type": "code",
   "execution_count": 3,
   "metadata": {},
   "outputs": [],
   "source": [
    "from dcicutils import ff_utils\n",
    "from functions.notebook_functions import *\n",
    "\n",
    "# get key from file\n",
    "my_key = get_key('koray_data')\n",
    "\n",
    "# one plac seq set had processed files in 'processed_files' field, instead of 'other_processed _files'\n",
    "\n",
    "# delete pf field on exp and set\n",
    "\n",
    "\n",
    "q = '/search/?run_status=complete&status=deleted&type=WorkflowRunAwsem&workflow.title=Repli-seq+data+processing+pipeline+for+alignment%2C+filtering+and+counting+v13.1'\n",
    "my_runs = ff_utils.search_metadata(q, my_key)"
   ]
  },
  {
   "cell_type": "code",
   "execution_count": 12,
   "metadata": {},
   "outputs": [
    {
     "name": "stdout",
     "output_type": "stream",
     "text": [
      "63\n",
      "59\n"
     ]
    }
   ],
   "source": [
    "cases = []\n",
    "for i in my_runs:\n",
    "    inpf = [ix['value'] for ix in i['input_files'] if ix['workflow_argument_name'] == 'fastq'][0]\n",
    "    cases.append(inpf['accession'])\n",
    "\n",
    "print(len(cases))\n",
    "print(len(set(cases)))\n"
   ]
  },
  {
   "cell_type": "code",
   "execution_count": 14,
   "metadata": {},
   "outputs": [
    {
     "name": "stdout",
     "output_type": "stream",
     "text": [
      "[{'experiment_type': 'Repli-seq', 'principals_allowed': {'audit': ['system.Everyone'], 'view': ['system.Everyone'], 'edit': ['group.admin']}, 'status': 'released', 'display_title': 'Repli-seq on V6.5 S-phase late fraction - 4DNEXTX3GU66', '@id': '/experiments-repliseq/4DNEXTX3GU66/', 'files': [{'principals_allowed': {'audit': ['system.Everyone'], 'view': ['system.Everyone'], 'edit': ['group.admin']}, 'status': 'released', 'file_size': 78134460035, 'quality_metric': {'principals_allowed': {'audit': ['system.Everyone'], 'view': ['system.Everyone'], 'edit': ['group.admin']}, 'overall_quality_status': 'PASS', '@id': '/quality-metrics-fastqc/ea84a621-fbc0-4815-8582-07e86f1a1626/', 'display_title': 'QualityMetricFastqc from 2018-05-19', 'uuid': 'ea84a621-fbc0-4815-8582-07e86f1a1626', 'url': 'https://s3.amazonaws.com/elasticbeanstalk-fourfront-webprod-wfoutput/4DNFI2S2WEG6/fastqc_report.html', 'Total Sequences': 386648160, 'link_id': '~quality-metrics-fastqc~ea84a621-fbc0-4815-8582-07e86f1a1626~', 'Sequence length': '250'}, '@id': '/files-fastq/4DNFI2S2WEG6/', 'display_title': '4DNFI2S2WEG6.fastq.gz', 'uuid': '11b03617-1fde-4769-91e0-ec5cf1190504', 'upload_key': '11b03617-1fde-4769-91e0-ec5cf1190504/4DNFI2S2WEG6.fastq.gz', 'file_type_detailed': 'reads (fastq)', 'href': '/files-fastq/4DNFI2S2WEG6/@@download/4DNFI2S2WEG6.fastq.gz', 'accession': '4DNFI2S2WEG6', 'md5sum': '020ade7c28ae8175ef70023266aee378', 'link_id': '~files-fastq~4DNFI2S2WEG6~', 'file_type': 'reads', 'file_format': {'principals_allowed': {'audit': ['system.Everyone'], 'view': ['system.Everyone'], 'edit': ['group.admin']}, 'display_title': 'fastq', '@id': '/file-formats/fastq/', 'link_id': '~file-formats~fastq~', 'uuid': 'c13d06cf-218e-4f61-aaf0-91f226248b2c'}, 'file_classification': 'raw file'}], 'uuid': 'e7ee7fb6-5f39-4b0d-9557-9257861b9280', 'link_id': '~experiments-repliseq~4DNEXTX3GU66~', 'biosample': {'principals_allowed': {'audit': ['system.Everyone'], 'view': ['system.Everyone'], 'edit': ['group.admin']}, 'modifications_summary': 'None', '@id': '/biosamples/4DNBSIX14TQD/', 'display_title': '4DNBSIX14TQD', 'uuid': 'ff8619da-f6d9-4989-8330-d59f9b2c6413', 'biosample_type': 'in vitro differentiated cells', 'accession': '4DNBSIX14TQD', 'treatments_summary': 'None', 'biosource': [{'principals_allowed': {'audit': ['system.Everyone'], 'view': ['system.Everyone'], 'edit': ['group.admin']}, '@id': '/biosources/4DNSRQXEAFNT/', 'display_title': 'V6.5 - 4DNSRQXEAFNT', 'uuid': 'fbc4dd7f-4d4e-4285-ae22-c3f48739d322', 'link_id': '~biosources~4DNSRQXEAFNT~', 'individual': {'principals_allowed': {'audit': ['system.Everyone'], 'view': ['system.Everyone'], 'edit': ['group.admin']}, 'display_title': '4DNINKNMKA9T', '@id': '/individuals-mouse/4DNINKNMKA9T/', 'link_id': '~individuals-mouse~4DNINKNMKA9T~', 'uuid': 'fc28df96-d971-4ce0-a32b-1d3234bfb531', 'organism': {'principals_allowed': {'audit': ['system.Everyone'], 'view': ['system.Everyone'], 'edit': ['group.admin']}, 'name': 'mouse', '@id': '/organisms/mouse/', 'display_title': 'M. musculus', 'uuid': '3413218c-3d86-498b-a0a2-9a406638e786', 'link_id': '~organisms~mouse~'}}, 'cell_line': {'principals_allowed': {'audit': ['system.Everyone'], 'view': ['system.Everyone'], 'edit': ['group.admin']}, '@id': '/ontology-terms/EFO:0006308/', 'link_id': '~ontology-terms~EFO:0006308~', 'uuid': 'dffe08c7-70c1-43f8-afc6-62481bf701ad', 'display_title': 'V6.5', 'slim_terms': [{'principals_allowed': {'audit': ['system.Everyone'], 'view': ['system.Everyone'], 'edit': ['group.admin']}, 'display_title': 'cell line', '@id': '/ontology-terms/EFO:0000322/', 'link_id': '~ontology-terms~EFO:0000322~', 'uuid': '111189bc-8535-4448-903e-854af460a233'}]}, 'biosource_type': 'stem cell'}], 'treatments': [], 'link_id': '~biosamples~4DNBSIX14TQD~', 'biosource_summary': 'V6.5', 'modifications': []}, 'accession': '4DNEXTX3GU66', 'experiment_categorizer': {'value': 'late fraction of 2 fractions', 'combined': 'Fraction: late fraction of 2 fractions', 'field': 'Fraction'}}]\n"
     ]
    }
   ],
   "source": [
    "q2 = '/search/?experiments_in_set.biosample.biosource.individual.organism.name=mouse&experiments_in_set.experiment_type=Repli-seq&experimentset_type=replicate&type=ExperimentSetReplicate'\n",
    "all_sets = ff_utils.search_metadata(q2, my_key)\n",
    "for a_set in all_sets:\n",
    "    for an_exp in a_set['experiments_in_set']:\n"
   ]
  },
  {
   "cell_type": "code",
   "execution_count": 16,
   "metadata": {},
   "outputs": [
    {
     "name": "stdout",
     "output_type": "stream",
     "text": [
      "161\n"
     ]
    }
   ],
   "source": [
    "pro = ff_utils.search_metadata('/search/?type=Protocol&status=released', my_key)\n",
    "print(len(pro))"
   ]
  },
  {
   "cell_type": "code",
   "execution_count": 19,
   "metadata": {},
   "outputs": [
    {
     "name": "stdout",
     "output_type": "stream",
     "text": [
      "{'md5sum': 'ae944da57414f9dffa902228e1c925be', 'blob_id': 'ff74a4f8-a974-471b-905b-135b92b9fb85', 'download': '4DN_K562_SOP_170314.pdf', 'href': '@@download/attachment/4DN_K562_SOP_170314.pdf', 'type': 'application/pdf'}\n",
      "{'md5sum': 'ae944da57414f9dffa902228e1c925be', 'blob_id': 'ff74a4f8-a974-471b-905b-135b92b9fb85', 'download': '4DN_K562_SOP_170314.pdf', 'href': '@@download/attachment/4DN_K562_SOP_170314.pdf', 'type': 'application/pdf'}\n"
     ]
    }
   ],
   "source": [
    "pro_old = ff_utils.get_metadata(pro[-1]['uuid'], my_key, add_on='frame=raw')\n",
    "print(pro_old['attachment'])\n",
    "pro_new = ff_utils.get_metadata(pro[-1]['uuid'], my_key, add_on='frame=raw')\n",
    "print(pro_new['attachment'])"
   ]
  },
  {
   "cell_type": "code",
   "execution_count": null,
   "metadata": {},
   "outputs": [],
   "source": []
  }
 ],
 "metadata": {
  "kernelspec": {
   "display_name": "Python 3",
   "language": "python",
   "name": "python3"
  },
  "language_info": {
   "codemirror_mode": {
    "name": "ipython",
    "version": 3
   },
   "file_extension": ".py",
   "mimetype": "text/x-python",
   "name": "python",
   "nbconvert_exporter": "python",
   "pygments_lexer": "ipython3",
   "version": "3.5.2"
  }
 },
 "nbformat": 4,
 "nbformat_minor": 2
}
