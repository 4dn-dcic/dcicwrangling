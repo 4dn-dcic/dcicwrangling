{
 "cells": [
  {
   "cell_type": "code",
   "execution_count": 14,
   "metadata": {},
   "outputs": [
    {
     "name": "stdout",
     "output_type": "stream",
     "text": [
      "648\n"
     ]
    }
   ],
   "source": [
    "from dcicutils import ff_utils\n",
    "from functions.notebook_functions import *\n",
    "\n",
    "my_env = 'data'\n",
    "my_key = get_key('koray_data')\n",
    "# find all runs from 4dn lab without a contributing lab\n",
    "q = \"/search/?lab.uuid=cf795e33-7877-47e8-9534-4369487976b6&type=Item\" +\\\n",
    "    \"&status=released+to+project&status=released\"\n",
    "all_items = ff_utils.search_metadata(q, key=my_key)\n",
    "print(len(all_items))"
   ]
  },
  {
   "cell_type": "code",
   "execution_count": 16,
   "metadata": {},
   "outputs": [
    {
     "name": "stdout",
     "output_type": "stream",
     "text": [
      "targets /users/d1f45a59-b6e2-4559-8ed8-3d86358367a8/ released\n",
      "imaging-paths /users/d1f45a59-b6e2-4559-8ed8-3d86358367a8/ released to project\n",
      "imaging-paths /users/d1f45a59-b6e2-4559-8ed8-3d86358367a8/ released to project\n",
      "imaging-paths /users/d1f45a59-b6e2-4559-8ed8-3d86358367a8/ released to project\n",
      "imaging-paths /users/d1f45a59-b6e2-4559-8ed8-3d86358367a8/ released to project\n",
      "imaging-paths /users/d1f45a59-b6e2-4559-8ed8-3d86358367a8/ released to project\n",
      "imaging-paths /users/d1f45a59-b6e2-4559-8ed8-3d86358367a8/ released to project\n",
      "imaging-paths /users/d1f45a59-b6e2-4559-8ed8-3d86358367a8/ released to project\n",
      "imaging-paths /users/d1f45a59-b6e2-4559-8ed8-3d86358367a8/ released to project\n",
      "microscope-settings-a1 /users/d1f45a59-b6e2-4559-8ed8-3d86358367a8/ released to project\n",
      "targets /users/d1f45a59-b6e2-4559-8ed8-3d86358367a8/ released to project\n",
      "targets /users/d1f45a59-b6e2-4559-8ed8-3d86358367a8/ released to project\n",
      "targets /users/d1f45a59-b6e2-4559-8ed8-3d86358367a8/ released to project\n",
      "targets /users/d1f45a59-b6e2-4559-8ed8-3d86358367a8/ released to project\n",
      "targets /users/d1f45a59-b6e2-4559-8ed8-3d86358367a8/ released to project\n",
      "targets /users/d1f45a59-b6e2-4559-8ed8-3d86358367a8/ released to project\n",
      "targets /users/d1f45a59-b6e2-4559-8ed8-3d86358367a8/ released to project\n",
      "genomic-regions /users/d1f45a59-b6e2-4559-8ed8-3d86358367a8/ released to project\n",
      "genomic-regions /users/d1f45a59-b6e2-4559-8ed8-3d86358367a8/ released to project\n",
      "genomic-regions /users/d1f45a59-b6e2-4559-8ed8-3d86358367a8/ released to project\n",
      "genomic-regions /users/d1f45a59-b6e2-4559-8ed8-3d86358367a8/ released to project\n",
      "genomic-regions /users/d1f45a59-b6e2-4559-8ed8-3d86358367a8/ released to project\n",
      "genomic-regions /users/d1f45a59-b6e2-4559-8ed8-3d86358367a8/ released to project\n",
      "genomic-regions /users/d1f45a59-b6e2-4559-8ed8-3d86358367a8/ released to project\n",
      "protocols /users/d1f45a59-b6e2-4559-8ed8-3d86358367a8/ released to project\n",
      "Counter({'targets': 8, 'imaging-paths': 8, 'genomic-regions': 7, 'protocols': 1, 'microscope-settings-a1': 1})\n",
      "1 protocols\n",
      "7 genomic-regions\n",
      "8 targets\n",
      "8 imaging-paths\n",
      "1 microscope-settings-a1\n",
      "601 files skipped\n",
      "20 exps and sets skipped\n",
      "2 bios skipped\n"
     ]
    }
   ],
   "source": [
    "from collections import Counter\n",
    "counter_b = 0\n",
    "counter_e = 0\n",
    "counter = 0\n",
    "f_type = []\n",
    "for an_item in all_items:\n",
    "    if an_item['@id'].startswith('/files-'):\n",
    "        counter += 1\n",
    "        continue\n",
    "    elif an_item['@id'].startswith('/experiment'):\n",
    "        counter_e += 1\n",
    "        continue\n",
    "    elif an_item['@id'].startswith('/biosample'):\n",
    "        counter_b += 1\n",
    "        continue\n",
    "    else:       \n",
    "        item_type = an_item['@id'].split('/')[1]\n",
    "        sub_by = an_item['submitted_by']['@id']\n",
    "        patch_data = {'status': 'in review by lab'}\n",
    "        f_type.append(item_type)\n",
    "        print(item_type, sub_by, an_item['status'])\n",
    "        ff_utils.patch_metadata(patch_data, obj_id=an_item['uuid'], key=my_key)\n",
    "\n",
    "\n",
    "print(Counter(f_type))\n",
    "for a,b in Counter(f_type).items():\n",
    "    print(str(b), a)\n",
    "print(counter, 'files skipped')\n",
    "print(counter_e, 'exps and sets skipped')\n",
    "print(counter_b, 'bios skipped')\n"
   ]
  },
  {
   "cell_type": "code",
   "execution_count": null,
   "metadata": {},
   "outputs": [],
   "source": []
  }
 ],
 "metadata": {
  "anaconda-cloud": {},
  "kernelspec": {
   "display_name": "Python 3",
   "language": "python",
   "name": "python3"
  },
  "language_info": {
   "codemirror_mode": {
    "name": "ipython",
    "version": 3
   },
   "file_extension": ".py",
   "mimetype": "text/x-python",
   "name": "python",
   "nbconvert_exporter": "python",
   "pygments_lexer": "ipython3",
   "version": "3.5.2"
  }
 },
 "nbformat": 4,
 "nbformat_minor": 2
}
