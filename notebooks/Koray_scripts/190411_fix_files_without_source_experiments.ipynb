{
 "cells": [
  {
   "cell_type": "markdown",
   "metadata": {},
   "source": [
    "### Cleanup for the foursight check\n",
    "carry this to fs"
   ]
  },
  {
   "cell_type": "code",
   "execution_count": 2,
   "metadata": {},
   "outputs": [
    {
     "name": "stdout",
     "output_type": "stream",
     "text": [
      "16\n"
     ]
    }
   ],
   "source": [
    "from dcicutils import ff_utils\n",
    "from functions.notebook_functions import *\n",
    "from functions.cleanup import *\n",
    "import time\n",
    "time1 = time.time()\n",
    "\n",
    "# first used this query on browser to find out problematic cases\n",
    "# old hic run types are expected to miss that, also file prov and sbg runs\n",
    "\n",
    "# '/search/?source_experiments=No+value&type=FileProcessed&workflow_run_outputs.uuid%21=No+value'\n",
    "\n",
    "\n",
    "my_key = get_key('koray_data')\n",
    "\n",
    "# all cases from bwa-mem\n",
    "url1 = '/search/?source_experiments=No+value&type=FileProcessed&workflow_run_outputs.workflow.title=Alignment+for+Hi-C+using+bwa-mem+0.2.6'\n",
    "res1 = ff_utils.search_metadata(url1, my_key)\n",
    "print(len(res1))\n",
    "\n",
    "\n",
    "#all cases from step2\n",
    "url2 = '/search/?source_experiments=No+value&type=FileProcessed&workflow_run_outputs.workflow.title=Hi-C+Post-alignment+Processing+0.2.6'\n",
    "res2 = ff_utils.search_metadata(url2, my_key)\n",
    "print(len(res2))"
   ]
  },
  {
   "cell_type": "code",
   "execution_count": 13,
   "metadata": {},
   "outputs": [
    {
     "name": "stdout",
     "output_type": "stream",
     "text": [
      "4DNFIAXZLSCT\n",
      "4DNFIGM4SG56\n",
      "4DNFIMLJAMFS\n",
      "4DNFIYJAPGX1\n",
      "4DNFICEKFQYI\n",
      "4DNFIDO5OJPX\n",
      "4DNFI6QKAF7W\n",
      "4DNFIXTZ71Z9\n",
      "4DNFIBYMDV8I\n",
      "4DNFIPLHLXI5\n",
      "4DNFIR1DYCGW\n",
      "4DNFI4N94H26\n",
      "4DNFIQLX8ML3\n",
      "4DNFIYVTL965\n",
      "4DNFIXAHPX8O\n",
      "4DNFIP2SZ4QP\n"
     ]
    }
   ],
   "source": [
    "# find input files (fastq) and get experiments, patch files\n",
    "for a_file in res1:\n",
    "    print(a_file['accession'])\n",
    "    previous_files = a_file['workflow_run_outputs'][0]['input_files']\n",
    "    previous_files = [i for i in previous_files if i.get('workflow_argument_name', '') in ['fastq1', 'fastq2']]\n",
    "    exps = []\n",
    "    for a_case in previous_files:\n",
    "        acc = a_case['value']['uuid']\n",
    "        resp = ff_utils.get_metadata(acc, my_key)\n",
    "        exps.extend([i['uuid'] for i in resp['experiments']])\n",
    "    exps = list(set(exps))\n",
    "    ff_utils.patch_metadata({'source_experiments': exps}, a_file['uuid'], my_key)    "
   ]
  },
  {
   "cell_type": "code",
   "execution_count": 16,
   "metadata": {},
   "outputs": [
    {
     "name": "stdout",
     "output_type": "stream",
     "text": [
      "4DNFI8MJRZJ4\n",
      "['363b5698-108e-40dc-a1ea-9c02a8c5e956']\n",
      "4DNFIT2X1PMM\n",
      "['363b5698-108e-40dc-a1ea-9c02a8c5e956']\n",
      "4DNFIHDYKTU3\n",
      "['6137fdc2-0f73-47f7-a46f-666efbcee23b']\n",
      "4DNFID1SPU94\n",
      "['6137fdc2-0f73-47f7-a46f-666efbcee23b']\n"
     ]
    }
   ],
   "source": [
    "# go through input processed files, and accumulate source_experiments val\n",
    "for a_file in res2:\n",
    "    print(a_file['accession'])\n",
    "    previous_files = a_file['workflow_run_outputs'][0]['input_files']\n",
    "    previous_files = [i for i in previous_files if i.get('workflow_argument_name', '') in ['input_bams']]\n",
    "    exps = []\n",
    "    for a_case in previous_files:\n",
    "        acc = a_case['value']['uuid']\n",
    "        resp = ff_utils.get_metadata(acc, my_key)\n",
    "        assert resp['source_experiments']\n",
    "        exps.extend(resp['source_experiments'])\n",
    "    exps = list(set(exps))\n",
    "    print(exps)\n",
    "    ff_utils.patch_metadata({'source_experiments': exps}, a_file['uuid'], my_key) "
   ]
  },
  {
   "cell_type": "code",
   "execution_count": 23,
   "metadata": {},
   "outputs": [
    {
     "name": "stdout",
     "output_type": "stream",
     "text": [
      "4DNFI8MJRZJ4\n",
      "['4DNFI67T52AI', '4DNFIF9BDCNI', '4DNFIIDNWL5I']\n",
      "4DNFI67T52AI in progress\n",
      "['c9cce412-b4a6-4ba6-9fd9-a83f3df032e9', '363b5698-108e-40dc-a1ea-9c02a8c5e956']\n",
      "4DNFIF9BDCNI in progress\n",
      "['c9cce412-b4a6-4ba6-9fd9-a83f3df032e9', '363b5698-108e-40dc-a1ea-9c02a8c5e956']\n",
      "4DNFIIDNWL5I in progress\n",
      "['c9cce412-b4a6-4ba6-9fd9-a83f3df032e9', '363b5698-108e-40dc-a1ea-9c02a8c5e956']\n",
      "4DNFIT2X1PMM\n",
      "[]\n",
      "4DNFIHDYKTU3\n",
      "['4DNFI5VLBU41', '4DNFIUATRW3Z', '4DNFIOF2U3HX']\n",
      "4DNFI5VLBU41 in progress\n",
      "['6137fdc2-0f73-47f7-a46f-666efbcee23b', 'bfba3c59-d107-42cc-aa28-bb592ffd815e']\n",
      "4DNFIUATRW3Z in progress\n",
      "['6137fdc2-0f73-47f7-a46f-666efbcee23b', 'bfba3c59-d107-42cc-aa28-bb592ffd815e']\n",
      "4DNFIOF2U3HX in progress\n",
      "['6137fdc2-0f73-47f7-a46f-666efbcee23b', 'bfba3c59-d107-42cc-aa28-bb592ffd815e']\n",
      "4DNFID1SPU94\n",
      "[]\n"
     ]
    }
   ],
   "source": [
    "# realized that step3 did not add the missing exp from previous step\n",
    "# find the output files\n",
    "for clue in res2:\n",
    "    print(clue['accession'])\n",
    "    next_files = [a['value']['accession'] for i in clue['workflow_run_inputs'] for a in i['output_files'] if a.get('value')]\n",
    "    print(next_files)\n",
    "    try:\n",
    "        assert len(next_files) == 3\n",
    "    except:\n",
    "        continue\n",
    "    for a_new_file in next_files:\n",
    "        a_file = ff_utils.get_metadata(a_new_file, my_key)\n",
    "\n",
    "        print(a_file['accession'], 'in progress')\n",
    "        previous_files = a_file['workflow_run_outputs'][0]['input_files']\n",
    "        previous_files = [i for i in previous_files if i.get('workflow_argument_name', '') in ['input_pairs']]\n",
    "        exps = []\n",
    "        for a_case in previous_files:\n",
    "            acc = a_case['value']['uuid']\n",
    "            resp = ff_utils.get_metadata(acc, my_key)\n",
    "            assert resp['source_experiments']\n",
    "            exps.extend(resp['source_experiments'])\n",
    "        exps = list(set(exps))\n",
    "        print(exps)\n",
    "        ff_utils.patch_metadata({'source_experiments': exps}, a_file['uuid'], my_key) \n",
    "\n",
    "    "
   ]
  },
  {
   "cell_type": "code",
   "execution_count": null,
   "metadata": {},
   "outputs": [],
   "source": []
  }
 ],
 "metadata": {
  "kernelspec": {
   "display_name": "Python 3",
   "language": "python",
   "name": "python3"
  },
  "language_info": {
   "codemirror_mode": {
    "name": "ipython",
    "version": 3
   },
   "file_extension": ".py",
   "mimetype": "text/x-python",
   "name": "python",
   "nbconvert_exporter": "python",
   "pygments_lexer": "ipython3",
   "version": "3.5.2"
  }
 },
 "nbformat": 4,
 "nbformat_minor": 2
}
