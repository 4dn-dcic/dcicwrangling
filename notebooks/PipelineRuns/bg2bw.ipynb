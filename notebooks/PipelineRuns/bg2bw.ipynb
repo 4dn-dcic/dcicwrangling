{
 "cells": [
  {
   "cell_type": "code",
   "execution_count": 22,
   "metadata": {},
   "outputs": [],
   "source": [
    "from dcicutils import ff_utils\n",
    "from functions.wfr import *\n",
    "from functions.wfr_settings import *\n",
    "from functions.notebook_functions import *\n",
    "\n",
    "# get key from keypairs.json\n",
    "my_env = 'data'\n",
    "my_key = get_key('koray_data')"
   ]
  },
  {
   "cell_type": "code",
   "execution_count": 23,
   "metadata": {
    "scrolled": false
   },
   "outputs": [
    {
     "name": "stdout",
     "output_type": "stream",
     "text": [
      "Do you wanna run bg2bw if missing? (y/n)y\n",
      "6\n",
      "bg2bw running for 4DNFI1YUDE7V\n"
     ]
    },
    {
     "data": {
      "text/html": [
       "<a href='https://console.aws.amazon.com/states/home?region=us-east-1#/executions/details/arn:aws:states:us-east-1:643366669028:execution:tibanna_pony:bedGraphToBigWig_4DNFI1YUDE7V09ee17c4-658f-4311-b9dc-70b99ea9c4ac' target='_blank'>RUNNING</a>"
      ],
      "text/plain": [
       "<IPython.core.display.HTML object>"
      ]
     },
     "metadata": {},
     "output_type": "display_data"
    },
    {
     "name": "stdout",
     "output_type": "stream",
     "text": [
      "bg2bw running for 4DNFI39HH6UD\n"
     ]
    },
    {
     "data": {
      "text/html": [
       "<a href='https://console.aws.amazon.com/states/home?region=us-east-1#/executions/details/arn:aws:states:us-east-1:643366669028:execution:tibanna_pony:bedGraphToBigWig_4DNFI39HH6UD7894c49d-fda1-4f3c-9a82-71ea3eeaa34a' target='_blank'>RUNNING</a>"
      ],
      "text/plain": [
       "<IPython.core.display.HTML object>"
      ]
     },
     "metadata": {},
     "output_type": "display_data"
    },
    {
     "name": "stdout",
     "output_type": "stream",
     "text": [
      "bg2bw running for 4DNFIG4XW2NB\n"
     ]
    },
    {
     "data": {
      "text/html": [
       "<a href='https://console.aws.amazon.com/states/home?region=us-east-1#/executions/details/arn:aws:states:us-east-1:643366669028:execution:tibanna_pony:bedGraphToBigWig_4DNFIG4XW2NB2dd207d7-49c5-4425-8b11-c34c550fc972' target='_blank'>RUNNING</a>"
      ],
      "text/plain": [
       "<IPython.core.display.HTML object>"
      ]
     },
     "metadata": {},
     "output_type": "display_data"
    },
    {
     "name": "stdout",
     "output_type": "stream",
     "text": [
      "bg2bw running for 4DNFIEQRK1DK\n"
     ]
    },
    {
     "data": {
      "text/html": [
       "<a href='https://console.aws.amazon.com/states/home?region=us-east-1#/executions/details/arn:aws:states:us-east-1:643366669028:execution:tibanna_pony:bedGraphToBigWig_4DNFIEQRK1DK91cdc4cb-d6d9-4fb0-937b-e41d28d5592c' target='_blank'>RUNNING</a>"
      ],
      "text/plain": [
       "<IPython.core.display.HTML object>"
      ]
     },
     "metadata": {},
     "output_type": "display_data"
    },
    {
     "name": "stdout",
     "output_type": "stream",
     "text": [
      "bg2bw running for 4DNFIJDM948M\n"
     ]
    },
    {
     "data": {
      "text/html": [
       "<a href='https://console.aws.amazon.com/states/home?region=us-east-1#/executions/details/arn:aws:states:us-east-1:643366669028:execution:tibanna_pony:bedGraphToBigWig_4DNFIJDM948Mc50ceec7-bfdd-4c99-a277-c3bcf4af3337' target='_blank'>RUNNING</a>"
      ],
      "text/plain": [
       "<IPython.core.display.HTML object>"
      ]
     },
     "metadata": {},
     "output_type": "display_data"
    },
    {
     "name": "stdout",
     "output_type": "stream",
     "text": [
      "bg2bw running for 4DNFI8LGGZM6\n"
     ]
    },
    {
     "data": {
      "text/html": [
       "<a href='https://console.aws.amazon.com/states/home?region=us-east-1#/executions/details/arn:aws:states:us-east-1:643366669028:execution:tibanna_pony:bedGraphToBigWig_4DNFI8LGGZM6ad10df6d-8159-4aa0-886e-bc99f53a348d' target='_blank'>RUNNING</a>"
      ],
      "text/plain": [
       "<IPython.core.display.HTML object>"
      ]
     },
     "metadata": {},
     "output_type": "display_data"
    },
    {
     "name": "stdout",
     "output_type": "stream",
     "text": [
      "okay, not okay, running\n",
      "0 6 0\n"
     ]
    }
   ],
   "source": [
    "# for a given experiment set and some parameters like instrument\n",
    "# print set of files and their partA hic workflow status\n",
    "# if there are one that are running report the number of running cases\n",
    "# if there are file pairs that don't have a corresponding part A, report them separately\n",
    "\n",
    "run_bg2bw = input(\"Do you wanna run bg2bw if missing? (y/n)\")\n",
    "\n",
    "# url bedGraph files without a bigwig extra file\n",
    "bg_url = \"/search/?file_format.file_format=bg&type=FileProcessed&extra_files.file_format.display_title%21=bw\"\n",
    "\n",
    "# To Do when run fails it creates the exta file, search for files with bw extra file but status not uploaded or similar\n",
    "# bg_url = \"/search/?file_format.file_format=bg&type=FileProcessed&extra_files.file_format.display_title=bw&extra_files.status=\"\n",
    "\n",
    "bg_files = ff_utils.search_metadata(bg_url , key = my_key)\n",
    "\n",
    "#if beyond run_time, assume failed\n",
    "run_time = 120\n",
    "\n",
    "counter = 0\n",
    "completed = 0\n",
    "print(len(bg_files))\n",
    "\n",
    "okay = 0\n",
    "non = 0\n",
    "running = 0\n",
    "\n",
    "chr_size = {\"GRCh38\": \"4DNFI823LSII\",\n",
    "            \"GRCm38\": \"4DNFI3UBJ3HZ\",\n",
    "            \"dm6\": '4DNFIBEEN92C',\n",
    "            \"galGal5\": \"4DNFI8MHOUP6\"}\n",
    "\n",
    "for a_bg in bg_files:\n",
    "    file_id = a_bg['accession']  \n",
    "    report = get_wfr_out(file_id, 'bedGraphToBigWig',  my_key, md_qc = True, run=run_time)\n",
    "\n",
    "    if report['status'] == 'running':\n",
    "        running += 1\n",
    "        print(file_id, 'still running')\n",
    "        continue\n",
    "        \n",
    "    attributions = get_attribution(a_bg)\n",
    "    \n",
    "    if report['status'].startswith('no') or not report:\n",
    "        non += 1\n",
    "        if run_bg2bw == 'y':\n",
    "            print('bg2bw running for', a_bg['accession'])\n",
    "            # find chr size\n",
    "            chr_file = chr_size[a_bg['genome_assembly']]\n",
    "            \n",
    "            \n",
    "            inp_f = {'bgfile':file_id, \"chromsize\": chr_file }\n",
    "            run_missing_wfr(step_settings('bedGraphToBigWig', 'none', attributions), inp_f, file_id, my_key, my_env, tag=\"\")\n",
    "        else:\n",
    "            print('run missing for',file_id)\n",
    "    else:\n",
    "        okay += 1\n",
    "      \n",
    "print(\"okay, not okay, running\")    \n",
    "print(okay, non, running)\n"
   ]
  },
  {
   "cell_type": "code",
   "execution_count": 26,
   "metadata": {},
   "outputs": [
    {
     "name": "stdout",
     "output_type": "stream",
     "text": [
      "6\n",
      "4DNFI8LGGZM6 released to project | in review by lab\n",
      "4DNFIJDM948M released to project | in review by lab\n",
      "4DNFIEQRK1DK released to project | in review by lab\n",
      "4DNFIG4XW2NB released to project | in review by lab\n",
      "4DNFI39HH6UD released to project | in review by lab\n",
      "4DNFI1YUDE7V released to project | in review by lab\n",
      "5 extra files updated\n",
      "6 runs updated\n"
     ]
    }
   ],
   "source": [
    "# Status update for run and extra file\n",
    "run_url = '/search/?run_status=complete&type=WorkflowRunAwsem&workflow.title=Converting+bedgraph+to+bigwig&status=in review by lab&limit=all'\n",
    "runs = ff_utils.search_metadata(run_url , key=my_key)\n",
    "print(len(runs))\n",
    "\n",
    "update_run = 0\n",
    "update_extra = 0\n",
    "for a_run in runs:\n",
    "    inp_file = [i['value'] for i in a_run['input_files'] if i['workflow_argument_name'] == \"bgfile\"][0]\n",
    "    # update the run status\n",
    "    if inp_file['status'] != a_run['status']:\n",
    "        if f_status in ['archived', 'released to project', 'released']:\n",
    "            print(inp_file['accession'], f_status,\"|\", a_run['status'])\n",
    "            ff_utils.patch_metadata({'status': inp_file['status']}, obj_id=a_run['uuid'], key = my_key)\n",
    "            update_run += 1\n",
    "        else:\n",
    "            continue\n",
    "    # update extra file status\n",
    "    extra_files = ff_utils.get_metadata(inp_file['accession'], key = my_key, add_on='frame=raw')['extra_files']\n",
    "    update = False\n",
    "    for extra_file in extra_files:\n",
    "        if extra_file['file_format'] == 'd1311111-218e-4f61-aaf0-91f226248b2c':\n",
    "            if extra_file['status'] != inp_file['status']:\n",
    "                update = True\n",
    "                extra_file['status'] = inp_file['status']\n",
    "    if update:       \n",
    "            ff_utils.patch_metadata({\"extra_files\":extra_files}, obj_id=inp_file['accession'], key = my_key)\n",
    "            update_extra += 1\n",
    "print(update_extra, 'extra files updated')\n",
    "print(update_run, 'runs updated')\n"
   ]
  },
  {
   "cell_type": "code",
   "execution_count": null,
   "metadata": {},
   "outputs": [],
   "source": []
  }
 ],
 "metadata": {
  "anaconda-cloud": {},
  "kernelspec": {
   "display_name": "Python 3",
   "language": "python",
   "name": "python3"
  },
  "language_info": {
   "codemirror_mode": {
    "name": "ipython",
    "version": 3
   },
   "file_extension": ".py",
   "mimetype": "text/x-python",
   "name": "python",
   "nbconvert_exporter": "python",
   "pygments_lexer": "ipython3",
   "version": "3.5.2"
  }
 },
 "nbformat": 4,
 "nbformat_minor": 2
}
