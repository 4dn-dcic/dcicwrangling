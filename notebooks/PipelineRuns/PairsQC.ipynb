{
 "cells": [
  {
   "cell_type": "markdown",
   "metadata": {},
   "source": [
    "### PAIRSQC\n",
    "Pairs QC is run on every pairs file which have a source_experiments value. \n",
    "User submitted files will not have this field if they are not connected to the experimens through pseudo-runs.\n",
    "(Not sure if that actually fills the field though)\n",
    "We have old processed files that don't have this field which are skipped. \n",
    "\n",
    "#### Running on user files\n",
    "If you want to run this process on user submitted pairs files, please patch the source_experiments field with uuid of the experiment(s), that way enzyme etc can be determined.\n",
    "\n",
    "#### To-Do\n",
    "\n",
    "<input type=\"checkbox\" checked> add fruit fly info\n",
    "<input type=\"checkbox\" checked> add accession for chicken chrsize file.\n",
    "<input type=\"checkbox\"> move to foursight\n",
    "\n",
    "..."
   ]
  },
  {
   "cell_type": "code",
   "execution_count": 3,
   "metadata": {},
   "outputs": [
    {
     "name": "stdout",
     "output_type": "stream",
     "text": [
      "37\n"
     ]
    }
   ],
   "source": [
    "from dcicutils import ff_utils\n",
    "from functions.notebook_functions import *\n",
    "from functions.wfr import *\n",
    "\n",
    "# get key from keypairs.json\n",
    "my_env = 'data'\n",
    "my_key = get_key('koray_data')\n",
    "\n",
    "# switch to run or not\n",
    "add_wfr = True\n",
    "\n",
    "# url for hic exps\n",
    "pairs_url = \"/search/?file_format.file_format=pairs&file_type=contact+list-replicate&file_type=contact+list-combined\"+ \\\n",
    "            \"&status=pre-release&status=released&status=released+to+project&status=uploaded&type=FileProcessed\" + \\\n",
    "            \"&quality_metric.uuid=No+value&limit=all&source_experiments!=No value\"\n",
    "pairs_files = ff_utils.search_metadata(pairs_url , key=my_key)\n",
    "print(len(pairs_files))\n"
   ]
  },
  {
   "cell_type": "code",
   "execution_count": 4,
   "metadata": {},
   "outputs": [
    {
     "name": "stdout",
     "output_type": "stream",
     "text": [
      "4DNFIKTHJ9EW starting the run\n"
     ]
    },
    {
     "data": {
      "text/html": [
       "<a href='https://console.aws.amazon.com/states/home?region=us-east-1#/executions/details/arn:aws:states:us-east-1:643366669028:execution:tibanna_pony:pairsqc-single_4DNFIKTHJ9EW' target='_blank'>RUNNING</a>"
      ],
      "text/plain": [
       "<IPython.core.display.HTML object>"
      ]
     },
     "metadata": {},
     "output_type": "display_data"
    },
    {
     "name": "stdout",
     "output_type": "stream",
     "text": [
      "4DNFI46QCLON starting the run\n"
     ]
    },
    {
     "data": {
      "text/html": [
       "<a href='https://console.aws.amazon.com/states/home?region=us-east-1#/executions/details/arn:aws:states:us-east-1:643366669028:execution:tibanna_pony:pairsqc-single_4DNFI46QCLON' target='_blank'>RUNNING</a>"
      ],
      "text/plain": [
       "<IPython.core.display.HTML object>"
      ]
     },
     "metadata": {},
     "output_type": "display_data"
    },
    {
     "name": "stdout",
     "output_type": "stream",
     "text": [
      "4DNFIT23KY5M starting the run\n"
     ]
    },
    {
     "data": {
      "text/html": [
       "<a href='https://console.aws.amazon.com/states/home?region=us-east-1#/executions/details/arn:aws:states:us-east-1:643366669028:execution:tibanna_pony:pairsqc-single_4DNFIT23KY5M' target='_blank'>RUNNING</a>"
      ],
      "text/plain": [
       "<IPython.core.display.HTML object>"
      ]
     },
     "metadata": {},
     "output_type": "display_data"
    },
    {
     "name": "stdout",
     "output_type": "stream",
     "text": [
      "4DNFIB2SLYUV starting the run\n"
     ]
    },
    {
     "data": {
      "text/html": [
       "<a href='https://console.aws.amazon.com/states/home?region=us-east-1#/executions/details/arn:aws:states:us-east-1:643366669028:execution:tibanna_pony:pairsqc-single_4DNFIB2SLYUV' target='_blank'>RUNNING</a>"
      ],
      "text/plain": [
       "<IPython.core.display.HTML object>"
      ]
     },
     "metadata": {},
     "output_type": "display_data"
    },
    {
     "name": "stdout",
     "output_type": "stream",
     "text": [
      "4DNFIDVI9LH2 starting the run\n"
     ]
    },
    {
     "data": {
      "text/html": [
       "<a href='https://console.aws.amazon.com/states/home?region=us-east-1#/executions/details/arn:aws:states:us-east-1:643366669028:execution:tibanna_pony:pairsqc-single_4DNFIDVI9LH2' target='_blank'>RUNNING</a>"
      ],
      "text/plain": [
       "<IPython.core.display.HTML object>"
      ]
     },
     "metadata": {},
     "output_type": "display_data"
    },
    {
     "name": "stdout",
     "output_type": "stream",
     "text": [
      "4DNFIBE4QMQI starting the run\n"
     ]
    },
    {
     "data": {
      "text/html": [
       "<a href='https://console.aws.amazon.com/states/home?region=us-east-1#/executions/details/arn:aws:states:us-east-1:643366669028:execution:tibanna_pony:pairsqc-single_4DNFIBE4QMQI' target='_blank'>RUNNING</a>"
      ],
      "text/plain": [
       "<IPython.core.display.HTML object>"
      ]
     },
     "metadata": {},
     "output_type": "display_data"
    },
    {
     "name": "stdout",
     "output_type": "stream",
     "text": [
      "4DNFIIS2LVM6 starting the run\n"
     ]
    },
    {
     "data": {
      "text/html": [
       "<a href='https://console.aws.amazon.com/states/home?region=us-east-1#/executions/details/arn:aws:states:us-east-1:643366669028:execution:tibanna_pony:pairsqc-single_4DNFIIS2LVM6' target='_blank'>RUNNING</a>"
      ],
      "text/plain": [
       "<IPython.core.display.HTML object>"
      ]
     },
     "metadata": {},
     "output_type": "display_data"
    },
    {
     "name": "stdout",
     "output_type": "stream",
     "text": [
      "4DNFI685MLL2 starting the run\n"
     ]
    },
    {
     "data": {
      "text/html": [
       "<a href='https://console.aws.amazon.com/states/home?region=us-east-1#/executions/details/arn:aws:states:us-east-1:643366669028:execution:tibanna_pony:pairsqc-single_4DNFI685MLL2' target='_blank'>RUNNING</a>"
      ],
      "text/plain": [
       "<IPython.core.display.HTML object>"
      ]
     },
     "metadata": {},
     "output_type": "display_data"
    },
    {
     "name": "stdout",
     "output_type": "stream",
     "text": [
      "4DNFICCMF8VA starting the run\n"
     ]
    },
    {
     "data": {
      "text/html": [
       "<a href='https://console.aws.amazon.com/states/home?region=us-east-1#/executions/details/arn:aws:states:us-east-1:643366669028:execution:tibanna_pony:pairsqc-single_4DNFICCMF8VA' target='_blank'>RUNNING</a>"
      ],
      "text/plain": [
       "<IPython.core.display.HTML object>"
      ]
     },
     "metadata": {},
     "output_type": "display_data"
    },
    {
     "name": "stdout",
     "output_type": "stream",
     "text": [
      "4DNFI1FWENNA starting the run\n"
     ]
    },
    {
     "data": {
      "text/html": [
       "<a href='https://console.aws.amazon.com/states/home?region=us-east-1#/executions/details/arn:aws:states:us-east-1:643366669028:execution:tibanna_pony:pairsqc-single_4DNFI1FWENNA' target='_blank'>RUNNING</a>"
      ],
      "text/plain": [
       "<IPython.core.display.HTML object>"
      ]
     },
     "metadata": {},
     "output_type": "display_data"
    },
    {
     "name": "stdout",
     "output_type": "stream",
     "text": [
      "4DNFIW658YW8 starting the run\n"
     ]
    },
    {
     "data": {
      "text/html": [
       "<a href='https://console.aws.amazon.com/states/home?region=us-east-1#/executions/details/arn:aws:states:us-east-1:643366669028:execution:tibanna_pony:pairsqc-single_4DNFIW658YW8' target='_blank'>RUNNING</a>"
      ],
      "text/plain": [
       "<IPython.core.display.HTML object>"
      ]
     },
     "metadata": {},
     "output_type": "display_data"
    },
    {
     "name": "stdout",
     "output_type": "stream",
     "text": [
      "4DNFI223CD1L starting the run\n"
     ]
    },
    {
     "data": {
      "text/html": [
       "<a href='https://console.aws.amazon.com/states/home?region=us-east-1#/executions/details/arn:aws:states:us-east-1:643366669028:execution:tibanna_pony:pairsqc-single_4DNFI223CD1L' target='_blank'>RUNNING</a>"
      ],
      "text/plain": [
       "<IPython.core.display.HTML object>"
      ]
     },
     "metadata": {},
     "output_type": "display_data"
    },
    {
     "name": "stdout",
     "output_type": "stream",
     "text": [
      "4DNFIGDCYUUI starting the run\n"
     ]
    },
    {
     "data": {
      "text/html": [
       "<a href='https://console.aws.amazon.com/states/home?region=us-east-1#/executions/details/arn:aws:states:us-east-1:643366669028:execution:tibanna_pony:pairsqc-single_4DNFIGDCYUUI' target='_blank'>RUNNING</a>"
      ],
      "text/plain": [
       "<IPython.core.display.HTML object>"
      ]
     },
     "metadata": {},
     "output_type": "display_data"
    },
    {
     "name": "stdout",
     "output_type": "stream",
     "text": [
      "4DNFI8GNBO44 starting the run\n"
     ]
    },
    {
     "data": {
      "text/html": [
       "<a href='https://console.aws.amazon.com/states/home?region=us-east-1#/executions/details/arn:aws:states:us-east-1:643366669028:execution:tibanna_pony:pairsqc-single_4DNFI8GNBO44' target='_blank'>RUNNING</a>"
      ],
      "text/plain": [
       "<IPython.core.display.HTML object>"
      ]
     },
     "metadata": {},
     "output_type": "display_data"
    },
    {
     "name": "stdout",
     "output_type": "stream",
     "text": [
      "4DNFI6EYQZDY starting the run\n"
     ]
    },
    {
     "data": {
      "text/html": [
       "<a href='https://console.aws.amazon.com/states/home?region=us-east-1#/executions/details/arn:aws:states:us-east-1:643366669028:execution:tibanna_pony:pairsqc-single_4DNFI6EYQZDY' target='_blank'>RUNNING</a>"
      ],
      "text/plain": [
       "<IPython.core.display.HTML object>"
      ]
     },
     "metadata": {},
     "output_type": "display_data"
    },
    {
     "name": "stdout",
     "output_type": "stream",
     "text": [
      "4DNFI7NXIRH6 starting the run\n"
     ]
    },
    {
     "data": {
      "text/html": [
       "<a href='https://console.aws.amazon.com/states/home?region=us-east-1#/executions/details/arn:aws:states:us-east-1:643366669028:execution:tibanna_pony:pairsqc-single_4DNFI7NXIRH6' target='_blank'>RUNNING</a>"
      ],
      "text/plain": [
       "<IPython.core.display.HTML object>"
      ]
     },
     "metadata": {},
     "output_type": "display_data"
    },
    {
     "name": "stdout",
     "output_type": "stream",
     "text": [
      "4DNFI9UF7F9T starting the run\n"
     ]
    },
    {
     "data": {
      "text/html": [
       "<a href='https://console.aws.amazon.com/states/home?region=us-east-1#/executions/details/arn:aws:states:us-east-1:643366669028:execution:tibanna_pony:pairsqc-single_4DNFI9UF7F9T' target='_blank'>RUNNING</a>"
      ],
      "text/plain": [
       "<IPython.core.display.HTML object>"
      ]
     },
     "metadata": {},
     "output_type": "display_data"
    },
    {
     "name": "stdout",
     "output_type": "stream",
     "text": [
      "4DNFI42T9APY starting the run\n"
     ]
    },
    {
     "data": {
      "text/html": [
       "<a href='https://console.aws.amazon.com/states/home?region=us-east-1#/executions/details/arn:aws:states:us-east-1:643366669028:execution:tibanna_pony:pairsqc-single_4DNFI42T9APY' target='_blank'>RUNNING</a>"
      ],
      "text/plain": [
       "<IPython.core.display.HTML object>"
      ]
     },
     "metadata": {},
     "output_type": "display_data"
    },
    {
     "name": "stdout",
     "output_type": "stream",
     "text": [
      "4DNFI64E9EPM starting the run\n"
     ]
    },
    {
     "data": {
      "text/html": [
       "<a href='https://console.aws.amazon.com/states/home?region=us-east-1#/executions/details/arn:aws:states:us-east-1:643366669028:execution:tibanna_pony:pairsqc-single_4DNFI64E9EPM' target='_blank'>RUNNING</a>"
      ],
      "text/plain": [
       "<IPython.core.display.HTML object>"
      ]
     },
     "metadata": {},
     "output_type": "display_data"
    },
    {
     "name": "stdout",
     "output_type": "stream",
     "text": [
      "4DNFIPNHV4BJ starting the run\n"
     ]
    },
    {
     "data": {
      "text/html": [
       "<a href='https://console.aws.amazon.com/states/home?region=us-east-1#/executions/details/arn:aws:states:us-east-1:643366669028:execution:tibanna_pony:pairsqc-single_4DNFIPNHV4BJ' target='_blank'>RUNNING</a>"
      ],
      "text/plain": [
       "<IPython.core.display.HTML object>"
      ]
     },
     "metadata": {},
     "output_type": "display_data"
    },
    {
     "name": "stdout",
     "output_type": "stream",
     "text": [
      "4DNFINLW9EFS starting the run\n"
     ]
    },
    {
     "data": {
      "text/html": [
       "<a href='https://console.aws.amazon.com/states/home?region=us-east-1#/executions/details/arn:aws:states:us-east-1:643366669028:execution:tibanna_pony:pairsqc-single_4DNFINLW9EFS' target='_blank'>RUNNING</a>"
      ],
      "text/plain": [
       "<IPython.core.display.HTML object>"
      ]
     },
     "metadata": {},
     "output_type": "display_data"
    },
    {
     "name": "stdout",
     "output_type": "stream",
     "text": [
      "4DNFIKLSIQG2 starting the run\n"
     ]
    },
    {
     "data": {
      "text/html": [
       "<a href='https://console.aws.amazon.com/states/home?region=us-east-1#/executions/details/arn:aws:states:us-east-1:643366669028:execution:tibanna_pony:pairsqc-single_4DNFIKLSIQG2' target='_blank'>RUNNING</a>"
      ],
      "text/plain": [
       "<IPython.core.display.HTML object>"
      ]
     },
     "metadata": {},
     "output_type": "display_data"
    },
    {
     "name": "stdout",
     "output_type": "stream",
     "text": [
      "4DNFIFBUUER6 starting the run\n"
     ]
    },
    {
     "data": {
      "text/html": [
       "<a href='https://console.aws.amazon.com/states/home?region=us-east-1#/executions/details/arn:aws:states:us-east-1:643366669028:execution:tibanna_pony:pairsqc-single_4DNFIFBUUER6' target='_blank'>RUNNING</a>"
      ],
      "text/plain": [
       "<IPython.core.display.HTML object>"
      ]
     },
     "metadata": {},
     "output_type": "display_data"
    },
    {
     "name": "stdout",
     "output_type": "stream",
     "text": [
      "4DNFI927J3TD starting the run\n"
     ]
    },
    {
     "data": {
      "text/html": [
       "<a href='https://console.aws.amazon.com/states/home?region=us-east-1#/executions/details/arn:aws:states:us-east-1:643366669028:execution:tibanna_pony:pairsqc-single_4DNFI927J3TD' target='_blank'>RUNNING</a>"
      ],
      "text/plain": [
       "<IPython.core.display.HTML object>"
      ]
     },
     "metadata": {},
     "output_type": "display_data"
    },
    {
     "name": "stdout",
     "output_type": "stream",
     "text": [
      "4DNFICG7BXHJ starting the run\n"
     ]
    },
    {
     "data": {
      "text/html": [
       "<a href='https://console.aws.amazon.com/states/home?region=us-east-1#/executions/details/arn:aws:states:us-east-1:643366669028:execution:tibanna_pony:pairsqc-single_4DNFICG7BXHJ' target='_blank'>RUNNING</a>"
      ],
      "text/plain": [
       "<IPython.core.display.HTML object>"
      ]
     },
     "metadata": {},
     "output_type": "display_data"
    },
    {
     "name": "stdout",
     "output_type": "stream",
     "text": [
      "4DNFI8RFZA12 starting the run\n"
     ]
    },
    {
     "data": {
      "text/html": [
       "<a href='https://console.aws.amazon.com/states/home?region=us-east-1#/executions/details/arn:aws:states:us-east-1:643366669028:execution:tibanna_pony:pairsqc-single_4DNFI8RFZA12' target='_blank'>RUNNING</a>"
      ],
      "text/plain": [
       "<IPython.core.display.HTML object>"
      ]
     },
     "metadata": {},
     "output_type": "display_data"
    },
    {
     "name": "stdout",
     "output_type": "stream",
     "text": [
      "4DNFIY4FXOJI starting the run\n"
     ]
    },
    {
     "data": {
      "text/html": [
       "<a href='https://console.aws.amazon.com/states/home?region=us-east-1#/executions/details/arn:aws:states:us-east-1:643366669028:execution:tibanna_pony:pairsqc-single_4DNFIY4FXOJI' target='_blank'>RUNNING</a>"
      ],
      "text/plain": [
       "<IPython.core.display.HTML object>"
      ]
     },
     "metadata": {},
     "output_type": "display_data"
    },
    {
     "name": "stdout",
     "output_type": "stream",
     "text": [
      "4DNFILDLETBS starting the run\n"
     ]
    },
    {
     "data": {
      "text/html": [
       "<a href='https://console.aws.amazon.com/states/home?region=us-east-1#/executions/details/arn:aws:states:us-east-1:643366669028:execution:tibanna_pony:pairsqc-single_4DNFILDLETBS' target='_blank'>RUNNING</a>"
      ],
      "text/plain": [
       "<IPython.core.display.HTML object>"
      ]
     },
     "metadata": {},
     "output_type": "display_data"
    },
    {
     "name": "stdout",
     "output_type": "stream",
     "text": [
      "4DNFILF6LOR1 starting the run\n"
     ]
    },
    {
     "data": {
      "text/html": [
       "<a href='https://console.aws.amazon.com/states/home?region=us-east-1#/executions/details/arn:aws:states:us-east-1:643366669028:execution:tibanna_pony:pairsqc-single_4DNFILF6LOR1' target='_blank'>RUNNING</a>"
      ],
      "text/plain": [
       "<IPython.core.display.HTML object>"
      ]
     },
     "metadata": {},
     "output_type": "display_data"
    },
    {
     "name": "stdout",
     "output_type": "stream",
     "text": [
      "4DNFILENRJFZ starting the run\n"
     ]
    },
    {
     "data": {
      "text/html": [
       "<a href='https://console.aws.amazon.com/states/home?region=us-east-1#/executions/details/arn:aws:states:us-east-1:643366669028:execution:tibanna_pony:pairsqc-single_4DNFILENRJFZ' target='_blank'>RUNNING</a>"
      ],
      "text/plain": [
       "<IPython.core.display.HTML object>"
      ]
     },
     "metadata": {},
     "output_type": "display_data"
    },
    {
     "name": "stdout",
     "output_type": "stream",
     "text": [
      "4DNFI2NS14OP starting the run\n"
     ]
    },
    {
     "data": {
      "text/html": [
       "<a href='https://console.aws.amazon.com/states/home?region=us-east-1#/executions/details/arn:aws:states:us-east-1:643366669028:execution:tibanna_pony:pairsqc-single_4DNFI2NS14OP' target='_blank'>RUNNING</a>"
      ],
      "text/plain": [
       "<IPython.core.display.HTML object>"
      ]
     },
     "metadata": {},
     "output_type": "display_data"
    },
    {
     "name": "stdout",
     "output_type": "stream",
     "text": [
      "4DNFIUTLF7HE starting the run\n"
     ]
    },
    {
     "data": {
      "text/html": [
       "<a href='https://console.aws.amazon.com/states/home?region=us-east-1#/executions/details/arn:aws:states:us-east-1:643366669028:execution:tibanna_pony:pairsqc-single_4DNFIUTLF7HE' target='_blank'>RUNNING</a>"
      ],
      "text/plain": [
       "<IPython.core.display.HTML object>"
      ]
     },
     "metadata": {},
     "output_type": "display_data"
    },
    {
     "name": "stdout",
     "output_type": "stream",
     "text": [
      "4DNFI9TK3FSM starting the run\n"
     ]
    },
    {
     "data": {
      "text/html": [
       "<a href='https://console.aws.amazon.com/states/home?region=us-east-1#/executions/details/arn:aws:states:us-east-1:643366669028:execution:tibanna_pony:pairsqc-single_4DNFI9TK3FSM' target='_blank'>RUNNING</a>"
      ],
      "text/plain": [
       "<IPython.core.display.HTML object>"
      ]
     },
     "metadata": {},
     "output_type": "display_data"
    },
    {
     "name": "stdout",
     "output_type": "stream",
     "text": [
      "4DNFIIHRFVI3 still running\n",
      "4DNFI564GRBR still running\n",
      "4DNFIHF3RPGH still running\n",
      "4DNFIVNCTHHT still running\n",
      "okay, not okay, running\n",
      "0 33 4\n"
     ]
    }
   ],
   "source": [
    "# for a given experiment set and some parameters like instrument\n",
    "# print set of files and their partA hic workflow status\n",
    "# if there are one that are running report the number of running cases\n",
    "# if there are file pairs that don't have a corresponding part A, report them separately\n",
    "\n",
    "\n",
    "counter = 0\n",
    "completed = 0\n",
    "okay = 0\n",
    "non = 0\n",
    "running = 0\n",
    "for a_pairs in pairs_files:\n",
    "\n",
    "    # get experiment info\n",
    "    exp_acc = a_pairs.get('source_experiments')\n",
    "    if not exp_acc:\n",
    "        print(a_pairs['accession'], 'does not have source experiments, skipping')\n",
    "        continue\n",
    "\n",
    "    #get enzyme and chrsize files\n",
    "    nz_num, chrsize = extract_nz_file(exp_acc[0], my_key)    \n",
    "    if not nz_num:\n",
    "        print(nz_num, chrsize)\n",
    "        print(a_pairs['accession'], 'does not have RE/chrsize, skipping')\n",
    "        continue\n",
    "                         \n",
    "    # get report\n",
    "    report = get_wfr_out(a_pairs['accession'], 'pairsqc-single 0.2.5', my_key, md_qc=True)\n",
    "    \n",
    "    attributions = get_attribution(a_pairs)\n",
    "    # if report does not provide a complete or running run\n",
    "    if report['status'].startswith('no'):\n",
    "        non += 1\n",
    "        if add_wfr:\n",
    "            parameters = {\"enzyme\": nz_num,\n",
    "                          \"sample_name\": a_pairs['accession']} \n",
    "            \n",
    "            # if mouse, parameters get an additional parameter\n",
    "            if chrsize == '4DNFI3UBJ3HZ':\n",
    "                parameters['max_distance']= 8.2\n",
    "            # if fly, parameters get an additional parameter\n",
    "            if chrsize == '4DNFIBEEN92C':\n",
    "                parameters['max_distance']= 7.5\n",
    "            # if chicken, parameters get an additional parameter\n",
    "            if chrsize == 'not set yet':\n",
    "                parameters['max_distance']= 8.2\n",
    "            \n",
    "            run_guide = {'wf_name': 'pairsqc-single',\n",
    "                         'wf_uuid': 'b8c533e0-f8c0-4510-b4a1-ac35158e27c3',\n",
    "                         'parameters': parameters,\n",
    "                         'wfr_meta': attributions}\n",
    "\n",
    "            inp_f = {'input_pairs':a_pairs['accession'], 'chromsizes':chrsize} \n",
    "            print(a_pairs['accession'], 'starting the run')\n",
    "            run_missing_wfr(run_guide, inp_f, a_pairs['accession'], my_key, my_env)\n",
    "        else:\n",
    "            print(a_pairs['accession'], 'needs a run')\n",
    "    \n",
    "    # if there is a completed or still running run\n",
    "    elif report['status'] == 'running':\n",
    "        running += 1\n",
    "        print(a_pairs['accession'], 'still running')\n",
    "    elif report['status'] == 'complete':\n",
    "        okay += 1\n",
    "    # if there is something funky\n",
    "    else:\n",
    "        print('report status is not covered, please check')\n",
    "        break\n",
    "\n",
    "print(\"okay, not okay, running\")    \n",
    "print(okay, non, running)"
   ]
  },
  {
   "cell_type": "code",
   "execution_count": 9,
   "metadata": {},
   "outputs": [
    {
     "name": "stdout",
     "output_type": "stream",
     "text": [
      "352\n",
      "338\n",
      "339\n",
      "340\n",
      "341\n",
      "342\n",
      "343\n",
      "344\n",
      "345\n",
      "346\n",
      "347\n",
      "348\n",
      "349\n",
      "350\n",
      "351\n",
      "352\n",
      "0\n",
      "0\n"
     ]
    }
   ],
   "source": [
    "# Release pairs qc\n",
    "pairs_url = '/search/?file_format.file_format=pairs&status=released&status=released%20to%20project&type=FileProcessed&limit=all'\n",
    "pairs_files = ff_utils.search_metadata(pairs_url , key=my_key)\n",
    "pairs_files = [i for i in pairs_files if i.get('quality_metric')]\n",
    "print(len(pairs_files))\n",
    "\n",
    "patch = True\n",
    "need_patch = 0\n",
    "need_patch_run = 0\n",
    "it = 0\n",
    "for pairs in pairs_files:\n",
    "    it += 1\n",
    "    if it<338:\n",
    "        continue\n",
    "    print(it)\n",
    "    pairs_status = pairs['status']\n",
    "    if pairs_status in ['released', 'released to project']:\n",
    "        qc_uuid = pairs['quality_metric']['uuid']\n",
    "        qc_status = ff_utils.get_metadata(qc_uuid,key=my_key)['status']\n",
    "        if qc_status != pairs_status:\n",
    "            print(pairs['accession'], it)\n",
    "            need_patch += 1\n",
    "            patch_data = {\"status\": pairs_status}\n",
    "            if patch:\n",
    "                ff_utils.patch_metadata(patch_data, obj_id=qc_uuid ,key=my_key)\n",
    "        # find the workflow that produced this qc\n",
    "        query = '/search/?type=WorkflowRunAwsem&output_quality_metrics.value.uuid=' + qc_uuid\n",
    "        try:\n",
    "            qc_run = ff_utils.search_metadata(query, key=my_key)[0]\n",
    "        except:\n",
    "            print(query)\n",
    "            print('can not find')\n",
    "            continue\n",
    "        assert qc_run['run_status'] == 'complete'\n",
    "        if qc_run['status'] != pairs_status:\n",
    "            need_patch_run += 1\n",
    "            patch_data = {\"status\": pairs_status}\n",
    "            if patch:\n",
    "                ff_utils.patch_metadata(patch_data, obj_id=qc_run['uuid'] ,key=my_key)\n",
    "\n",
    "print(need_patch)\n",
    "print(need_patch_run)"
   ]
  },
  {
   "cell_type": "code",
   "execution_count": 8,
   "metadata": {},
   "outputs": [
    {
     "name": "stdout",
     "output_type": "stream",
     "text": [
      "342\n"
     ]
    }
   ],
   "source": [
    "print(it)"
   ]
  },
  {
   "cell_type": "code",
   "execution_count": null,
   "metadata": {},
   "outputs": [],
   "source": []
  }
 ],
 "metadata": {
  "anaconda-cloud": {},
  "kernelspec": {
   "display_name": "Python 3",
   "language": "python",
   "name": "python3"
  },
  "language_info": {
   "codemirror_mode": {
    "name": "ipython",
    "version": 3
   },
   "file_extension": ".py",
   "mimetype": "text/x-python",
   "name": "python",
   "nbconvert_exporter": "python",
   "pygments_lexer": "ipython3",
   "version": "3.5.2"
  }
 },
 "nbformat": 4,
 "nbformat_minor": 2
}
