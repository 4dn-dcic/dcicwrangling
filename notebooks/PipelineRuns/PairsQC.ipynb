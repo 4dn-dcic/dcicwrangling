{
 "cells": [
  {
   "cell_type": "code",
   "execution_count": 1,
   "metadata": {},
   "outputs": [
    {
     "name": "stdout",
     "output_type": "stream",
     "text": [
      "2\n",
      "2\n"
     ]
    }
   ],
   "source": [
    "from dcicutils import ff_utils\n",
    "from functions.notebook_functions import *\n",
    "from functions.wfr import *\n",
    "\n",
    "# get key from keypairs.json\n",
    "my_env = 'data'\n",
    "my_key = get_key('koray_data')\n",
    "\n",
    "add_wfr = True\n",
    "\n",
    "# url for hic exps\n",
    "pairs_url = \"/search/?file_format=pairs&file_type=contact+list-replicate&file_type=contact+list-combined\"+ \\\n",
    "            \"&status=released&status=released+to+project&status=uploaded&type=FileProcessed\" + \\\n",
    "            \"&quality_metric.uuid=No+value&limit=all\"\n",
    "pairs_files = ff_utils.search_metadata(pairs_url , key=my_key)\n",
    "print(len(pairs_files))\n",
    "\n",
    "pairs_with_source = [i for i in pairs_files if i.get('source_experiments')]\n",
    "print(len(pairs_with_source))\n"
   ]
  },
  {
   "cell_type": "code",
   "execution_count": 2,
   "metadata": {},
   "outputs": [
    {
     "name": "stdout",
     "output_type": "stream",
     "text": [
      "{'wf_uuid': 'b8c533e0-f8c0-4510-b4a1-ac35158e27c3', 'parameters': {'max_distance': 8.2, 'sample_name': '4DNFIASLBBXV', 'enzyme': '4'}, 'wf_name': 'pairsqc-single'}\n",
      "4DNFIASLBBXV starting the run\n",
      "{'ResponseMetadata': {'HTTPStatusCode': 200, 'RequestId': '4aab53d4-89e8-11e8-a3cc-578d637317bd', 'RetryAttempts': 0, 'HTTPHeaders': {'content-length': '1713', 'x-amzn-requestid': '4aab53d4-89e8-11e8-a3cc-578d637317bd', 'content-type': 'application/x-amz-json-1.0'}}, 'startDate': '2018-07-17 17:39:00.966000+00:00', 'status': 'RUNNING', 'executionArn': 'arn:aws:states:us-east-1:643366669028:execution:tibanna_pony:pairsqc-single_4DNFIASLBBXV', 'name': 'pairsqc-single_4DNFIASLBBXV', 'input': '{\"app_name\": \"pairsqc-single\", \"parameters\": {\"max_distance\": 8.2, \"enzyme\": \"4\", \"sample_name\": \"4DNFIASLBBXV\"}, \"env_name\": \"fourfront-webprod2\", \"_tibanna\": {\"run_type\": \"pairsqc-single\", \"run_id\": \"4DNFIASLBBXV\", \"url\": \"https://console.aws.amazon.com/states/home?region=us-east-1#/executions/details/arn:aws:states:us-east-1:643366669028:execution:tibanna_pony:pairsqc-single_4DNFIASLBBXV\", \"env\": \"data\", \"run_name\": \"pairsqc-single_4DNFIASLBBXV\"}, \"output_bucket\": \"elasticbeanstalk-fourfront-webprod-wfoutput\", \"tag\": \"0.2.5\", \"config\": {\"ebs_type\": \"io1\", \"ebs_iops\": 500, \"json_bucket\": \"4dn-aws-pipeline-run-json\", \"shutdown_min\": 30, \"s3_access_arn\": \"arn:aws:iam::643366669028:instance-profile/S3_access\", \"copy_to_s3\": true, \"key_name\": \"4dn-encode\", \"launch_instance\": true, \"password\": \"dragonfly\", \"log_bucket\": \"tibanna-output\"}, \"workflow_uuid\": \"b8c533e0-f8c0-4510-b4a1-ac35158e27c3\", \"input_files\": [{\"workflow_argument_name\": \"input_pairs\", \"bucket_name\": \"elasticbeanstalk-fourfront-webprod-wfoutput\", \"uuid\": \"46a49b5d-f185-4e98-8747-c31a904bbc2f\", \"object_key\": \"4DNFIASLBBXV.pairs.gz\"}, {\"workflow_argument_name\": \"chromsizes\", \"bucket_name\": \"elasticbeanstalk-fourfront-webprod-files\", \"uuid\": \"bd0784a5-2a3d-42f0-ba9c-d9b3dc0539c6\", \"object_key\": \"4DNFI3UBJ3HZ.chrom.sizes\"}]}', 'stateMachineArn': 'arn:aws:states:us-east-1:643366669028:stateMachine:tibanna_pony'}\n",
      "{'wf_uuid': 'b8c533e0-f8c0-4510-b4a1-ac35158e27c3', 'parameters': {'sample_name': '4DNFI21EIR1D', 'enzyme': '6'}, 'wf_name': 'pairsqc-single'}\n",
      "4DNFI21EIR1D starting the run\n",
      "{'ResponseMetadata': {'HTTPStatusCode': 200, 'RequestId': '5e8cbe2e-89e8-11e8-a199-f9cd54061242', 'RetryAttempts': 0, 'HTTPHeaders': {'x-amzn-requestid': '5e8cbe2e-89e8-11e8-a199-f9cd54061242', 'content-length': '1690', 'content-type': 'application/x-amz-json-1.0'}}, 'startDate': '2018-07-17 17:39:34.385000+00:00', 'status': 'RUNNING', 'executionArn': 'arn:aws:states:us-east-1:643366669028:execution:tibanna_pony:pairsqc-single_4DNFI21EIR1D', 'name': 'pairsqc-single_4DNFI21EIR1D', 'input': '{\"parameters\": {\"enzyme\": \"6\", \"sample_name\": \"4DNFI21EIR1D\"}, \"_tibanna\": {\"run_type\": \"pairsqc-single\", \"run_id\": \"4DNFI21EIR1D\", \"url\": \"https://console.aws.amazon.com/states/home?region=us-east-1#/executions/details/arn:aws:states:us-east-1:643366669028:execution:tibanna_pony:pairsqc-single_4DNFI21EIR1D\", \"env\": \"data\", \"run_name\": \"pairsqc-single_4DNFI21EIR1D\"}, \"env_name\": \"fourfront-webprod2\", \"output_bucket\": \"elasticbeanstalk-fourfront-webprod-wfoutput\", \"tag\": \"0.2.5\", \"config\": {\"ebs_type\": \"io1\", \"ebs_iops\": 500, \"json_bucket\": \"4dn-aws-pipeline-run-json\", \"shutdown_min\": 30, \"s3_access_arn\": \"arn:aws:iam::643366669028:instance-profile/S3_access\", \"copy_to_s3\": true, \"key_name\": \"4dn-encode\", \"launch_instance\": true, \"password\": \"dragonfly\", \"log_bucket\": \"tibanna-output\"}, \"app_name\": \"pairsqc-single\", \"workflow_uuid\": \"b8c533e0-f8c0-4510-b4a1-ac35158e27c3\", \"input_files\": [{\"bucket_name\": \"elasticbeanstalk-fourfront-webprod-wfoutput\", \"object_key\": \"4DNFI21EIR1D.pairs.gz\", \"workflow_argument_name\": \"input_pairs\", \"uuid\": \"39f8726d-faaf-4e87-a614-a775a3a4851e\"}, {\"bucket_name\": \"elasticbeanstalk-fourfront-webprod-files\", \"object_key\": \"4DNFI823LSII.chrom.sizes\", \"workflow_argument_name\": \"chromsizes\", \"uuid\": \"4a6d10ee-2edb-4402-a98f-0edb1d58f5e9\"}]}', 'stateMachineArn': 'arn:aws:states:us-east-1:643366669028:stateMachine:tibanna_pony'}\n",
      "okay, not okay, running\n",
      "0 2 0\n"
     ]
    }
   ],
   "source": [
    "# for a given experiment set and some parameters like instrument\n",
    "# print set of files and their partA hic workflow status\n",
    "# if there are one that are running report the number of running cases\n",
    "# if there are file pairs that don't have a corresponding part A, report them separately\n",
    "\n",
    "\n",
    "counter = 0\n",
    "completed = 0\n",
    "okay = 0\n",
    "non = 0\n",
    "running = 0\n",
    "for a_pairs in pairs_files:\n",
    "\n",
    "    # get experiment info\n",
    "    exp_acc = a_pairs.get('source_experiments')\n",
    "    if not exp_acc:\n",
    "        print(a_pairs['accession'], 'does not have source experiments, skipping')\n",
    "        continue\n",
    "\n",
    "    #get enzyme and chrsize files\n",
    "    nz_num, chrsize = extract_nz_file(exp_acc[0], my_key)    \n",
    "    if not nz_num:\n",
    "        print(nz_num, chrsize)\n",
    "        print(a_pairs['accession'], 'does not have RE/chrsize, skipping')\n",
    "        continue\n",
    "                         \n",
    "    # get report\n",
    "    report = get_wfr_out(a_pairs['accession'], 'pairsqc-single 0.2.5', my_key, md_qc=True)\n",
    "    \n",
    "    # if report does not provide a complete or running run\n",
    "    if report['status'].startswith('no'):\n",
    "        non += 1\n",
    "        if add_wfr:\n",
    "            parameters = {\"enzyme\": nz_num,\n",
    "                          \"sample_name\": a_pairs['accession']} \n",
    "            # if mouse, parameters get an additional parameter\n",
    "            if chrsize == '4DNFI3UBJ3HZ':\n",
    "                parameters['max_distance']= 8.2\n",
    "            \n",
    "            run_guide = {'wf_name': 'pairsqc-single',\n",
    "                         'wf_uuid': 'b8c533e0-f8c0-4510-b4a1-ac35158e27c3',\n",
    "                         'parameters': parameters}\n",
    "            \n",
    "            print(run_guide)\n",
    "            inp_f = {'input_pairs':a_pairs['accession'], 'chromsizes':chrsize} \n",
    "            print(a_pairs['accession'], 'starting the run')\n",
    "            run_missing_wfr(run_guide, inp_f, a_pairs['accession'], my_key, my_env)\n",
    "        else:\n",
    "            print(a_pairs['accession'], 'needs a run')\n",
    "    \n",
    "    # if there is a completed or still running run\n",
    "    elif report['status'] == 'running':\n",
    "        running += 1\n",
    "        print(a_pairs['accession'], 'still running')\n",
    "    elif report['status'] == 'complete':\n",
    "        okay += 1\n",
    "    # if there is something funky\n",
    "    else:\n",
    "        print('report status is not covered, please check')\n",
    "        break\n",
    "    \n",
    "        \n",
    "print(\"okay, not okay, running\")    \n",
    "print(okay, non, running)\n"
   ]
  },
  {
   "cell_type": "code",
   "execution_count": 16,
   "metadata": {},
   "outputs": [
    {
     "name": "stdout",
     "output_type": "stream",
     "text": [
      "307\n",
      "26\n",
      "251\n"
     ]
    }
   ],
   "source": [
    "# Release pairs qc\n",
    "pairs_url = '/search/?file_format=pairs&status=released&status=released%20to%20project&type=FileProcessed&limit=all'\n",
    "pairs_files = ff_utils.search_metadata(pairs_url , key=my_key)\n",
    "pairs_files = [i for i in pairs_files if i.get('quality_metric')]\n",
    "print(len(pairs_files))\n",
    "\n",
    "patch = True\n",
    "need_patch = 0\n",
    "need_patch_run = 0\n",
    "for pairs in pairs_files:   \n",
    "    pairs_status = pairs['status']\n",
    "    if pairs_status in ['released', 'released to project']:\n",
    "        qc_uuid = pairs['quality_metric']['uuid']\n",
    "        qc_status = ff_utils.get_metadata(qc_uuid,key=my_key)['status']\n",
    "        if qc_status != pairs_status:\n",
    "            need_patch += 1\n",
    "            patch_data = {\"status\": pairs_status}\n",
    "            if patch:\n",
    "                ff_utils.patch_metadata(patch_data, obj_id=qc_uuid ,key=my_key)\n",
    "        # find the workflow that produced this qc\n",
    "        query = '/search/?type=WorkflowRunAwsem&output_quality_metrics.value.uuid=' + qc_uuid\n",
    "        qc_run = ff_utils.search_metadata(query, key=my_key)[0]\n",
    "        assert qc_run['run_status'] == 'complete'\n",
    "        if qc_run['status'] != pairs_status:\n",
    "            need_patch_run += 1\n",
    "            patch_data = {\"status\": pairs_status}\n",
    "            if patch:\n",
    "                ff_utils.patch_metadata(patch_data, obj_id=qc_run['uuid'] ,key=my_key)\n",
    "        \n",
    "        \n",
    "print(need_patch)\n",
    "print(need_patch_run)\n",
    "\n"
   ]
  }
 ],
 "metadata": {
  "anaconda-cloud": {},
  "kernelspec": {
   "display_name": "Python 3",
   "language": "python",
   "name": "python3"
  },
  "language_info": {
   "codemirror_mode": {
    "name": "ipython",
    "version": 3
   },
   "file_extension": ".py",
   "mimetype": "text/x-python",
   "name": "python",
   "nbconvert_exporter": "python",
   "pygments_lexer": "ipython3",
   "version": "3.5.2"
  }
 },
 "nbformat": 4,
 "nbformat_minor": 2
}
