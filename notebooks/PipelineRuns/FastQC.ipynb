{
 "cells": [
  {
   "cell_type": "code",
   "execution_count": 3,
   "metadata": {},
   "outputs": [],
   "source": [
    "from dcicutils import ff_utils\n",
    "from functions.wfr import *\n",
    "from functions.wfr_settings import *\n",
    "from functions.notebook_functions import *\n",
    "\n",
    "# get key from keypairs.json\n",
    "my_env = 'data'\n",
    "my_key = get_key('koray_data')"
   ]
  },
  {
   "cell_type": "code",
   "execution_count": 5,
   "metadata": {
    "scrolled": false
   },
   "outputs": [
    {
     "name": "stdout",
     "output_type": "stream",
     "text": [
      "Do you wanna run fastqc if missing? (fq/none)fq\n",
      "165\n",
      "fastqc running for 4DNFI8RIKOU2\n"
     ]
    },
    {
     "data": {
      "text/html": [
       "<a href='https://console.aws.amazon.com/states/home?region=us-east-1#/executions/details/arn:aws:states:us-east-1:643366669028:execution:tibanna_pony:fastqc-0-11-4-1_4DNFI8RIKOU2' target='_blank'>RUNNING</a>"
      ],
      "text/plain": [
       "<IPython.core.display.HTML object>"
      ]
     },
     "metadata": {},
     "output_type": "display_data"
    },
    {
     "name": "stdout",
     "output_type": "stream",
     "text": [
      "fastqc running for 4DNFII71NLSX\n"
     ]
    },
    {
     "data": {
      "text/html": [
       "<a href='https://console.aws.amazon.com/states/home?region=us-east-1#/executions/details/arn:aws:states:us-east-1:643366669028:execution:tibanna_pony:fastqc-0-11-4-1_4DNFII71NLSX' target='_blank'>RUNNING</a>"
      ],
      "text/plain": [
       "<IPython.core.display.HTML object>"
      ]
     },
     "metadata": {},
     "output_type": "display_data"
    },
    {
     "name": "stdout",
     "output_type": "stream",
     "text": [
      "fastqc running for 4DNFI14D3VKV\n"
     ]
    },
    {
     "data": {
      "text/html": [
       "<a href='https://console.aws.amazon.com/states/home?region=us-east-1#/executions/details/arn:aws:states:us-east-1:643366669028:execution:tibanna_pony:fastqc-0-11-4-1_4DNFI14D3VKV' target='_blank'>RUNNING</a>"
      ],
      "text/plain": [
       "<IPython.core.display.HTML object>"
      ]
     },
     "metadata": {},
     "output_type": "display_data"
    },
    {
     "name": "stdout",
     "output_type": "stream",
     "text": [
      "fastqc running for 4DNFIC9PH3J5\n"
     ]
    },
    {
     "data": {
      "text/html": [
       "<a href='https://console.aws.amazon.com/states/home?region=us-east-1#/executions/details/arn:aws:states:us-east-1:643366669028:execution:tibanna_pony:fastqc-0-11-4-1_4DNFIC9PH3J5' target='_blank'>RUNNING</a>"
      ],
      "text/plain": [
       "<IPython.core.display.HTML object>"
      ]
     },
     "metadata": {},
     "output_type": "display_data"
    },
    {
     "name": "stdout",
     "output_type": "stream",
     "text": [
      "fastqc running for 4DNFIT1H7HYL\n"
     ]
    },
    {
     "data": {
      "text/html": [
       "<a href='https://console.aws.amazon.com/states/home?region=us-east-1#/executions/details/arn:aws:states:us-east-1:643366669028:execution:tibanna_pony:fastqc-0-11-4-1_4DNFIT1H7HYL' target='_blank'>RUNNING</a>"
      ],
      "text/plain": [
       "<IPython.core.display.HTML object>"
      ]
     },
     "metadata": {},
     "output_type": "display_data"
    },
    {
     "name": "stdout",
     "output_type": "stream",
     "text": [
      "fastqc running for 4DNFIRZJX9N9\n"
     ]
    },
    {
     "data": {
      "text/html": [
       "<a href='https://console.aws.amazon.com/states/home?region=us-east-1#/executions/details/arn:aws:states:us-east-1:643366669028:execution:tibanna_pony:fastqc-0-11-4-1_4DNFIRZJX9N9' target='_blank'>RUNNING</a>"
      ],
      "text/plain": [
       "<IPython.core.display.HTML object>"
      ]
     },
     "metadata": {},
     "output_type": "display_data"
    },
    {
     "name": "stdout",
     "output_type": "stream",
     "text": [
      "fastqc running for 4DNFIZT3YNI4\n"
     ]
    },
    {
     "data": {
      "text/html": [
       "<a href='https://console.aws.amazon.com/states/home?region=us-east-1#/executions/details/arn:aws:states:us-east-1:643366669028:execution:tibanna_pony:fastqc-0-11-4-1_4DNFIZT3YNI4' target='_blank'>RUNNING</a>"
      ],
      "text/plain": [
       "<IPython.core.display.HTML object>"
      ]
     },
     "metadata": {},
     "output_type": "display_data"
    },
    {
     "name": "stdout",
     "output_type": "stream",
     "text": [
      "fastqc running for 4DNFICSQSVMD\n"
     ]
    },
    {
     "data": {
      "text/html": [
       "<a href='https://console.aws.amazon.com/states/home?region=us-east-1#/executions/details/arn:aws:states:us-east-1:643366669028:execution:tibanna_pony:fastqc-0-11-4-1_4DNFICSQSVMD' target='_blank'>RUNNING</a>"
      ],
      "text/plain": [
       "<IPython.core.display.HTML object>"
      ]
     },
     "metadata": {},
     "output_type": "display_data"
    },
    {
     "name": "stdout",
     "output_type": "stream",
     "text": [
      "fastqc running for 4DNFIB4UT24H\n"
     ]
    },
    {
     "data": {
      "text/html": [
       "<a href='https://console.aws.amazon.com/states/home?region=us-east-1#/executions/details/arn:aws:states:us-east-1:643366669028:execution:tibanna_pony:fastqc-0-11-4-1_4DNFIB4UT24H' target='_blank'>RUNNING</a>"
      ],
      "text/plain": [
       "<IPython.core.display.HTML object>"
      ]
     },
     "metadata": {},
     "output_type": "display_data"
    },
    {
     "name": "stdout",
     "output_type": "stream",
     "text": [
      "fastqc running for 4DNFIBIZM7GK\n"
     ]
    },
    {
     "data": {
      "text/html": [
       "<a href='https://console.aws.amazon.com/states/home?region=us-east-1#/executions/details/arn:aws:states:us-east-1:643366669028:execution:tibanna_pony:fastqc-0-11-4-1_4DNFIBIZM7GK' target='_blank'>RUNNING</a>"
      ],
      "text/plain": [
       "<IPython.core.display.HTML object>"
      ]
     },
     "metadata": {},
     "output_type": "display_data"
    },
    {
     "name": "stdout",
     "output_type": "stream",
     "text": [
      "fastqc running for 4DNFILIND83J\n"
     ]
    },
    {
     "data": {
      "text/html": [
       "<a href='https://console.aws.amazon.com/states/home?region=us-east-1#/executions/details/arn:aws:states:us-east-1:643366669028:execution:tibanna_pony:fastqc-0-11-4-1_4DNFILIND83J' target='_blank'>RUNNING</a>"
      ],
      "text/plain": [
       "<IPython.core.display.HTML object>"
      ]
     },
     "metadata": {},
     "output_type": "display_data"
    },
    {
     "name": "stdout",
     "output_type": "stream",
     "text": [
      "fastqc running for 4DNFI9VFRL1L\n"
     ]
    },
    {
     "data": {
      "text/html": [
       "<a href='https://console.aws.amazon.com/states/home?region=us-east-1#/executions/details/arn:aws:states:us-east-1:643366669028:execution:tibanna_pony:fastqc-0-11-4-1_4DNFI9VFRL1L' target='_blank'>RUNNING</a>"
      ],
      "text/plain": [
       "<IPython.core.display.HTML object>"
      ]
     },
     "metadata": {},
     "output_type": "display_data"
    },
    {
     "name": "stdout",
     "output_type": "stream",
     "text": [
      "fastqc running for 4DNFI3X8S9TR\n"
     ]
    },
    {
     "data": {
      "text/html": [
       "<a href='https://console.aws.amazon.com/states/home?region=us-east-1#/executions/details/arn:aws:states:us-east-1:643366669028:execution:tibanna_pony:fastqc-0-11-4-1_4DNFI3X8S9TR' target='_blank'>RUNNING</a>"
      ],
      "text/plain": [
       "<IPython.core.display.HTML object>"
      ]
     },
     "metadata": {},
     "output_type": "display_data"
    },
    {
     "name": "stdout",
     "output_type": "stream",
     "text": [
      "fastqc running for 4DNFIQNHNZ1K\n"
     ]
    },
    {
     "data": {
      "text/html": [
       "<a href='https://console.aws.amazon.com/states/home?region=us-east-1#/executions/details/arn:aws:states:us-east-1:643366669028:execution:tibanna_pony:fastqc-0-11-4-1_4DNFIQNHNZ1K' target='_blank'>RUNNING</a>"
      ],
      "text/plain": [
       "<IPython.core.display.HTML object>"
      ]
     },
     "metadata": {},
     "output_type": "display_data"
    },
    {
     "name": "stdout",
     "output_type": "stream",
     "text": [
      "fastqc running for 4DNFIKK8KKQO\n"
     ]
    },
    {
     "data": {
      "text/html": [
       "<a href='https://console.aws.amazon.com/states/home?region=us-east-1#/executions/details/arn:aws:states:us-east-1:643366669028:execution:tibanna_pony:fastqc-0-11-4-1_4DNFIKK8KKQO' target='_blank'>RUNNING</a>"
      ],
      "text/plain": [
       "<IPython.core.display.HTML object>"
      ]
     },
     "metadata": {},
     "output_type": "display_data"
    },
    {
     "name": "stdout",
     "output_type": "stream",
     "text": [
      "fastqc running for 4DNFI9YZHJYW\n"
     ]
    },
    {
     "data": {
      "text/html": [
       "<a href='https://console.aws.amazon.com/states/home?region=us-east-1#/executions/details/arn:aws:states:us-east-1:643366669028:execution:tibanna_pony:fastqc-0-11-4-1_4DNFI9YZHJYW' target='_blank'>RUNNING</a>"
      ],
      "text/plain": [
       "<IPython.core.display.HTML object>"
      ]
     },
     "metadata": {},
     "output_type": "display_data"
    },
    {
     "name": "stdout",
     "output_type": "stream",
     "text": [
      "fastqc running for 4DNFI3I96ZF8\n"
     ]
    },
    {
     "data": {
      "text/html": [
       "<a href='https://console.aws.amazon.com/states/home?region=us-east-1#/executions/details/arn:aws:states:us-east-1:643366669028:execution:tibanna_pony:fastqc-0-11-4-1_4DNFI3I96ZF8' target='_blank'>RUNNING</a>"
      ],
      "text/plain": [
       "<IPython.core.display.HTML object>"
      ]
     },
     "metadata": {},
     "output_type": "display_data"
    },
    {
     "name": "stdout",
     "output_type": "stream",
     "text": [
      "fastqc running for 4DNFIK2ZW3GJ\n"
     ]
    },
    {
     "data": {
      "text/html": [
       "<a href='https://console.aws.amazon.com/states/home?region=us-east-1#/executions/details/arn:aws:states:us-east-1:643366669028:execution:tibanna_pony:fastqc-0-11-4-1_4DNFIK2ZW3GJ' target='_blank'>RUNNING</a>"
      ],
      "text/plain": [
       "<IPython.core.display.HTML object>"
      ]
     },
     "metadata": {},
     "output_type": "display_data"
    },
    {
     "name": "stdout",
     "output_type": "stream",
     "text": [
      "fastqc running for 4DNFIKEGC51C\n"
     ]
    },
    {
     "data": {
      "text/html": [
       "<a href='https://console.aws.amazon.com/states/home?region=us-east-1#/executions/details/arn:aws:states:us-east-1:643366669028:execution:tibanna_pony:fastqc-0-11-4-1_4DNFIKEGC51C' target='_blank'>RUNNING</a>"
      ],
      "text/plain": [
       "<IPython.core.display.HTML object>"
      ]
     },
     "metadata": {},
     "output_type": "display_data"
    },
    {
     "name": "stdout",
     "output_type": "stream",
     "text": [
      "fastqc running for 4DNFI9YSFHSZ\n"
     ]
    },
    {
     "data": {
      "text/html": [
       "<a href='https://console.aws.amazon.com/states/home?region=us-east-1#/executions/details/arn:aws:states:us-east-1:643366669028:execution:tibanna_pony:fastqc-0-11-4-1_4DNFI9YSFHSZ' target='_blank'>RUNNING</a>"
      ],
      "text/plain": [
       "<IPython.core.display.HTML object>"
      ]
     },
     "metadata": {},
     "output_type": "display_data"
    },
    {
     "name": "stdout",
     "output_type": "stream",
     "text": [
      "fastqc running for 4DNFINJGYZQY\n"
     ]
    },
    {
     "data": {
      "text/html": [
       "<a href='https://console.aws.amazon.com/states/home?region=us-east-1#/executions/details/arn:aws:states:us-east-1:643366669028:execution:tibanna_pony:fastqc-0-11-4-1_4DNFINJGYZQY' target='_blank'>RUNNING</a>"
      ],
      "text/plain": [
       "<IPython.core.display.HTML object>"
      ]
     },
     "metadata": {},
     "output_type": "display_data"
    },
    {
     "name": "stdout",
     "output_type": "stream",
     "text": [
      "fastqc running for 4DNFIVHVILSG\n"
     ]
    },
    {
     "data": {
      "text/html": [
       "<a href='https://console.aws.amazon.com/states/home?region=us-east-1#/executions/details/arn:aws:states:us-east-1:643366669028:execution:tibanna_pony:fastqc-0-11-4-1_4DNFIVHVILSG' target='_blank'>RUNNING</a>"
      ],
      "text/plain": [
       "<IPython.core.display.HTML object>"
      ]
     },
     "metadata": {},
     "output_type": "display_data"
    },
    {
     "name": "stdout",
     "output_type": "stream",
     "text": [
      "fastqc running for 4DNFIS188AVC\n"
     ]
    },
    {
     "data": {
      "text/html": [
       "<a href='https://console.aws.amazon.com/states/home?region=us-east-1#/executions/details/arn:aws:states:us-east-1:643366669028:execution:tibanna_pony:fastqc-0-11-4-1_4DNFIS188AVC' target='_blank'>RUNNING</a>"
      ],
      "text/plain": [
       "<IPython.core.display.HTML object>"
      ]
     },
     "metadata": {},
     "output_type": "display_data"
    },
    {
     "name": "stdout",
     "output_type": "stream",
     "text": [
      "fastqc running for 4DNFIZ4KBAII\n"
     ]
    },
    {
     "data": {
      "text/html": [
       "<a href='https://console.aws.amazon.com/states/home?region=us-east-1#/executions/details/arn:aws:states:us-east-1:643366669028:execution:tibanna_pony:fastqc-0-11-4-1_4DNFIZ4KBAII' target='_blank'>RUNNING</a>"
      ],
      "text/plain": [
       "<IPython.core.display.HTML object>"
      ]
     },
     "metadata": {},
     "output_type": "display_data"
    },
    {
     "name": "stdout",
     "output_type": "stream",
     "text": [
      "fastqc running for 4DNFIZGJQVCZ\n"
     ]
    },
    {
     "data": {
      "text/html": [
       "<a href='https://console.aws.amazon.com/states/home?region=us-east-1#/executions/details/arn:aws:states:us-east-1:643366669028:execution:tibanna_pony:fastqc-0-11-4-1_4DNFIZGJQVCZ' target='_blank'>RUNNING</a>"
      ],
      "text/plain": [
       "<IPython.core.display.HTML object>"
      ]
     },
     "metadata": {},
     "output_type": "display_data"
    },
    {
     "name": "stdout",
     "output_type": "stream",
     "text": [
      "fastqc running for 4DNFI29SX1O3\n"
     ]
    },
    {
     "data": {
      "text/html": [
       "<a href='https://console.aws.amazon.com/states/home?region=us-east-1#/executions/details/arn:aws:states:us-east-1:643366669028:execution:tibanna_pony:fastqc-0-11-4-1_4DNFI29SX1O3' target='_blank'>RUNNING</a>"
      ],
      "text/plain": [
       "<IPython.core.display.HTML object>"
      ]
     },
     "metadata": {},
     "output_type": "display_data"
    },
    {
     "name": "stdout",
     "output_type": "stream",
     "text": [
      "fastqc running for 4DNFIRYSQ3FX\n"
     ]
    },
    {
     "data": {
      "text/html": [
       "<a href='https://console.aws.amazon.com/states/home?region=us-east-1#/executions/details/arn:aws:states:us-east-1:643366669028:execution:tibanna_pony:fastqc-0-11-4-1_4DNFIRYSQ3FX' target='_blank'>RUNNING</a>"
      ],
      "text/plain": [
       "<IPython.core.display.HTML object>"
      ]
     },
     "metadata": {},
     "output_type": "display_data"
    },
    {
     "name": "stdout",
     "output_type": "stream",
     "text": [
      "fastqc running for 4DNFIUJQSGUA\n"
     ]
    },
    {
     "data": {
      "text/html": [
       "<a href='https://console.aws.amazon.com/states/home?region=us-east-1#/executions/details/arn:aws:states:us-east-1:643366669028:execution:tibanna_pony:fastqc-0-11-4-1_4DNFIUJQSGUA' target='_blank'>RUNNING</a>"
      ],
      "text/plain": [
       "<IPython.core.display.HTML object>"
      ]
     },
     "metadata": {},
     "output_type": "display_data"
    },
    {
     "name": "stdout",
     "output_type": "stream",
     "text": [
      "fastqc running for 4DNFITLZZLNG\n"
     ]
    },
    {
     "data": {
      "text/html": [
       "<a href='https://console.aws.amazon.com/states/home?region=us-east-1#/executions/details/arn:aws:states:us-east-1:643366669028:execution:tibanna_pony:fastqc-0-11-4-1_4DNFITLZZLNG' target='_blank'>RUNNING</a>"
      ],
      "text/plain": [
       "<IPython.core.display.HTML object>"
      ]
     },
     "metadata": {},
     "output_type": "display_data"
    },
    {
     "name": "stdout",
     "output_type": "stream",
     "text": [
      "fastqc running for 4DNFIFKKWTAQ\n"
     ]
    },
    {
     "data": {
      "text/html": [
       "<a href='https://console.aws.amazon.com/states/home?region=us-east-1#/executions/details/arn:aws:states:us-east-1:643366669028:execution:tibanna_pony:fastqc-0-11-4-1_4DNFIFKKWTAQ' target='_blank'>RUNNING</a>"
      ],
      "text/plain": [
       "<IPython.core.display.HTML object>"
      ]
     },
     "metadata": {},
     "output_type": "display_data"
    },
    {
     "name": "stdout",
     "output_type": "stream",
     "text": [
      "fastqc running for 4DNFIVNANTDC\n"
     ]
    },
    {
     "data": {
      "text/html": [
       "<a href='https://console.aws.amazon.com/states/home?region=us-east-1#/executions/details/arn:aws:states:us-east-1:643366669028:execution:tibanna_pony:fastqc-0-11-4-1_4DNFIVNANTDC' target='_blank'>RUNNING</a>"
      ],
      "text/plain": [
       "<IPython.core.display.HTML object>"
      ]
     },
     "metadata": {},
     "output_type": "display_data"
    },
    {
     "name": "stdout",
     "output_type": "stream",
     "text": [
      "fastqc running for 4DNFI1LMYFOG\n"
     ]
    },
    {
     "data": {
      "text/html": [
       "<a href='https://console.aws.amazon.com/states/home?region=us-east-1#/executions/details/arn:aws:states:us-east-1:643366669028:execution:tibanna_pony:fastqc-0-11-4-1_4DNFI1LMYFOG' target='_blank'>RUNNING</a>"
      ],
      "text/plain": [
       "<IPython.core.display.HTML object>"
      ]
     },
     "metadata": {},
     "output_type": "display_data"
    },
    {
     "name": "stdout",
     "output_type": "stream",
     "text": [
      "fastqc running for 4DNFIBKHRR13\n"
     ]
    },
    {
     "data": {
      "text/html": [
       "<a href='https://console.aws.amazon.com/states/home?region=us-east-1#/executions/details/arn:aws:states:us-east-1:643366669028:execution:tibanna_pony:fastqc-0-11-4-1_4DNFIBKHRR13' target='_blank'>RUNNING</a>"
      ],
      "text/plain": [
       "<IPython.core.display.HTML object>"
      ]
     },
     "metadata": {},
     "output_type": "display_data"
    },
    {
     "name": "stdout",
     "output_type": "stream",
     "text": [
      "fastqc running for 4DNFI3SU956I\n"
     ]
    },
    {
     "data": {
      "text/html": [
       "<a href='https://console.aws.amazon.com/states/home?region=us-east-1#/executions/details/arn:aws:states:us-east-1:643366669028:execution:tibanna_pony:fastqc-0-11-4-1_4DNFI3SU956I' target='_blank'>RUNNING</a>"
      ],
      "text/plain": [
       "<IPython.core.display.HTML object>"
      ]
     },
     "metadata": {},
     "output_type": "display_data"
    },
    {
     "name": "stdout",
     "output_type": "stream",
     "text": [
      "fastqc running for 4DNFIMY5OGND\n"
     ]
    },
    {
     "data": {
      "text/html": [
       "<a href='https://console.aws.amazon.com/states/home?region=us-east-1#/executions/details/arn:aws:states:us-east-1:643366669028:execution:tibanna_pony:fastqc-0-11-4-1_4DNFIMY5OGND' target='_blank'>RUNNING</a>"
      ],
      "text/plain": [
       "<IPython.core.display.HTML object>"
      ]
     },
     "metadata": {},
     "output_type": "display_data"
    },
    {
     "name": "stdout",
     "output_type": "stream",
     "text": [
      "fastqc running for 4DNFIP6FJCXI\n"
     ]
    },
    {
     "data": {
      "text/html": [
       "<a href='https://console.aws.amazon.com/states/home?region=us-east-1#/executions/details/arn:aws:states:us-east-1:643366669028:execution:tibanna_pony:fastqc-0-11-4-1_4DNFIP6FJCXI' target='_blank'>RUNNING</a>"
      ],
      "text/plain": [
       "<IPython.core.display.HTML object>"
      ]
     },
     "metadata": {},
     "output_type": "display_data"
    },
    {
     "name": "stdout",
     "output_type": "stream",
     "text": [
      "fastqc running for 4DNFIJFKEOCR\n"
     ]
    },
    {
     "data": {
      "text/html": [
       "<a href='https://console.aws.amazon.com/states/home?region=us-east-1#/executions/details/arn:aws:states:us-east-1:643366669028:execution:tibanna_pony:fastqc-0-11-4-1_4DNFIJFKEOCR' target='_blank'>RUNNING</a>"
      ],
      "text/plain": [
       "<IPython.core.display.HTML object>"
      ]
     },
     "metadata": {},
     "output_type": "display_data"
    },
    {
     "name": "stdout",
     "output_type": "stream",
     "text": [
      "fastqc running for 4DNFIO45D9OH\n"
     ]
    },
    {
     "data": {
      "text/html": [
       "<a href='https://console.aws.amazon.com/states/home?region=us-east-1#/executions/details/arn:aws:states:us-east-1:643366669028:execution:tibanna_pony:fastqc-0-11-4-1_4DNFIO45D9OH' target='_blank'>RUNNING</a>"
      ],
      "text/plain": [
       "<IPython.core.display.HTML object>"
      ]
     },
     "metadata": {},
     "output_type": "display_data"
    },
    {
     "name": "stdout",
     "output_type": "stream",
     "text": [
      "fastqc running for 4DNFIEL6OQ9X\n"
     ]
    },
    {
     "data": {
      "text/html": [
       "<a href='https://console.aws.amazon.com/states/home?region=us-east-1#/executions/details/arn:aws:states:us-east-1:643366669028:execution:tibanna_pony:fastqc-0-11-4-1_4DNFIEL6OQ9X' target='_blank'>RUNNING</a>"
      ],
      "text/plain": [
       "<IPython.core.display.HTML object>"
      ]
     },
     "metadata": {},
     "output_type": "display_data"
    },
    {
     "name": "stdout",
     "output_type": "stream",
     "text": [
      "fastqc running for 4DNFIQR2M59J\n"
     ]
    },
    {
     "data": {
      "text/html": [
       "<a href='https://console.aws.amazon.com/states/home?region=us-east-1#/executions/details/arn:aws:states:us-east-1:643366669028:execution:tibanna_pony:fastqc-0-11-4-1_4DNFIQR2M59J' target='_blank'>RUNNING</a>"
      ],
      "text/plain": [
       "<IPython.core.display.HTML object>"
      ]
     },
     "metadata": {},
     "output_type": "display_data"
    },
    {
     "name": "stdout",
     "output_type": "stream",
     "text": [
      "fastqc running for 4DNFIVABZRX3\n"
     ]
    },
    {
     "data": {
      "text/html": [
       "<a href='https://console.aws.amazon.com/states/home?region=us-east-1#/executions/details/arn:aws:states:us-east-1:643366669028:execution:tibanna_pony:fastqc-0-11-4-1_4DNFIVABZRX3' target='_blank'>RUNNING</a>"
      ],
      "text/plain": [
       "<IPython.core.display.HTML object>"
      ]
     },
     "metadata": {},
     "output_type": "display_data"
    },
    {
     "name": "stdout",
     "output_type": "stream",
     "text": [
      "fastqc running for 4DNFIVBV3GX2\n"
     ]
    },
    {
     "data": {
      "text/html": [
       "<a href='https://console.aws.amazon.com/states/home?region=us-east-1#/executions/details/arn:aws:states:us-east-1:643366669028:execution:tibanna_pony:fastqc-0-11-4-1_4DNFIVBV3GX2' target='_blank'>RUNNING</a>"
      ],
      "text/plain": [
       "<IPython.core.display.HTML object>"
      ]
     },
     "metadata": {},
     "output_type": "display_data"
    },
    {
     "name": "stdout",
     "output_type": "stream",
     "text": [
      "fastqc running for 4DNFI7KSPZQ7\n"
     ]
    },
    {
     "data": {
      "text/html": [
       "<a href='https://console.aws.amazon.com/states/home?region=us-east-1#/executions/details/arn:aws:states:us-east-1:643366669028:execution:tibanna_pony:fastqc-0-11-4-1_4DNFI7KSPZQ7' target='_blank'>RUNNING</a>"
      ],
      "text/plain": [
       "<IPython.core.display.HTML object>"
      ]
     },
     "metadata": {},
     "output_type": "display_data"
    },
    {
     "name": "stdout",
     "output_type": "stream",
     "text": [
      "fastqc running for 4DNFIWMC35OE\n"
     ]
    },
    {
     "data": {
      "text/html": [
       "<a href='https://console.aws.amazon.com/states/home?region=us-east-1#/executions/details/arn:aws:states:us-east-1:643366669028:execution:tibanna_pony:fastqc-0-11-4-1_4DNFIWMC35OE' target='_blank'>RUNNING</a>"
      ],
      "text/plain": [
       "<IPython.core.display.HTML object>"
      ]
     },
     "metadata": {},
     "output_type": "display_data"
    },
    {
     "name": "stdout",
     "output_type": "stream",
     "text": [
      "fastqc running for 4DNFI4SVDNPO\n"
     ]
    },
    {
     "data": {
      "text/html": [
       "<a href='https://console.aws.amazon.com/states/home?region=us-east-1#/executions/details/arn:aws:states:us-east-1:643366669028:execution:tibanna_pony:fastqc-0-11-4-1_4DNFI4SVDNPO' target='_blank'>RUNNING</a>"
      ],
      "text/plain": [
       "<IPython.core.display.HTML object>"
      ]
     },
     "metadata": {},
     "output_type": "display_data"
    },
    {
     "name": "stdout",
     "output_type": "stream",
     "text": [
      "fastqc running for 4DNFIORF2GGC\n"
     ]
    },
    {
     "data": {
      "text/html": [
       "<a href='https://console.aws.amazon.com/states/home?region=us-east-1#/executions/details/arn:aws:states:us-east-1:643366669028:execution:tibanna_pony:fastqc-0-11-4-1_4DNFIORF2GGC' target='_blank'>RUNNING</a>"
      ],
      "text/plain": [
       "<IPython.core.display.HTML object>"
      ]
     },
     "metadata": {},
     "output_type": "display_data"
    },
    {
     "name": "stdout",
     "output_type": "stream",
     "text": [
      "fastqc running for 4DNFISKW46XL\n"
     ]
    },
    {
     "data": {
      "text/html": [
       "<a href='https://console.aws.amazon.com/states/home?region=us-east-1#/executions/details/arn:aws:states:us-east-1:643366669028:execution:tibanna_pony:fastqc-0-11-4-1_4DNFISKW46XL' target='_blank'>RUNNING</a>"
      ],
      "text/plain": [
       "<IPython.core.display.HTML object>"
      ]
     },
     "metadata": {},
     "output_type": "display_data"
    },
    {
     "name": "stdout",
     "output_type": "stream",
     "text": [
      "fastqc running for 4DNFISNBCQME\n"
     ]
    },
    {
     "data": {
      "text/html": [
       "<a href='https://console.aws.amazon.com/states/home?region=us-east-1#/executions/details/arn:aws:states:us-east-1:643366669028:execution:tibanna_pony:fastqc-0-11-4-1_4DNFISNBCQME' target='_blank'>RUNNING</a>"
      ],
      "text/plain": [
       "<IPython.core.display.HTML object>"
      ]
     },
     "metadata": {},
     "output_type": "display_data"
    },
    {
     "name": "stdout",
     "output_type": "stream",
     "text": [
      "fastqc running for 4DNFIXZUMKYP\n"
     ]
    },
    {
     "data": {
      "text/html": [
       "<a href='https://console.aws.amazon.com/states/home?region=us-east-1#/executions/details/arn:aws:states:us-east-1:643366669028:execution:tibanna_pony:fastqc-0-11-4-1_4DNFIXZUMKYP' target='_blank'>RUNNING</a>"
      ],
      "text/plain": [
       "<IPython.core.display.HTML object>"
      ]
     },
     "metadata": {},
     "output_type": "display_data"
    },
    {
     "name": "stdout",
     "output_type": "stream",
     "text": [
      "fastqc running for 4DNFIEA55D4X\n"
     ]
    },
    {
     "data": {
      "text/html": [
       "<a href='https://console.aws.amazon.com/states/home?region=us-east-1#/executions/details/arn:aws:states:us-east-1:643366669028:execution:tibanna_pony:fastqc-0-11-4-1_4DNFIEA55D4X' target='_blank'>RUNNING</a>"
      ],
      "text/plain": [
       "<IPython.core.display.HTML object>"
      ]
     },
     "metadata": {},
     "output_type": "display_data"
    },
    {
     "name": "stdout",
     "output_type": "stream",
     "text": [
      "fastqc running for 4DNFISY5DARV\n"
     ]
    },
    {
     "data": {
      "text/html": [
       "<a href='https://console.aws.amazon.com/states/home?region=us-east-1#/executions/details/arn:aws:states:us-east-1:643366669028:execution:tibanna_pony:fastqc-0-11-4-1_4DNFISY5DARV' target='_blank'>RUNNING</a>"
      ],
      "text/plain": [
       "<IPython.core.display.HTML object>"
      ]
     },
     "metadata": {},
     "output_type": "display_data"
    },
    {
     "name": "stdout",
     "output_type": "stream",
     "text": [
      "fastqc running for 4DNFIJ42FOA4\n"
     ]
    },
    {
     "data": {
      "text/html": [
       "<a href='https://console.aws.amazon.com/states/home?region=us-east-1#/executions/details/arn:aws:states:us-east-1:643366669028:execution:tibanna_pony:fastqc-0-11-4-1_4DNFIJ42FOA4' target='_blank'>RUNNING</a>"
      ],
      "text/plain": [
       "<IPython.core.display.HTML object>"
      ]
     },
     "metadata": {},
     "output_type": "display_data"
    },
    {
     "name": "stdout",
     "output_type": "stream",
     "text": [
      "fastqc running for 4DNFI9XTX49H\n"
     ]
    },
    {
     "data": {
      "text/html": [
       "<a href='https://console.aws.amazon.com/states/home?region=us-east-1#/executions/details/arn:aws:states:us-east-1:643366669028:execution:tibanna_pony:fastqc-0-11-4-1_4DNFI9XTX49H' target='_blank'>RUNNING</a>"
      ],
      "text/plain": [
       "<IPython.core.display.HTML object>"
      ]
     },
     "metadata": {},
     "output_type": "display_data"
    },
    {
     "name": "stdout",
     "output_type": "stream",
     "text": [
      "fastqc running for 4DNFIR9LIVG3\n"
     ]
    },
    {
     "data": {
      "text/html": [
       "<a href='https://console.aws.amazon.com/states/home?region=us-east-1#/executions/details/arn:aws:states:us-east-1:643366669028:execution:tibanna_pony:fastqc-0-11-4-1_4DNFIR9LIVG3' target='_blank'>RUNNING</a>"
      ],
      "text/plain": [
       "<IPython.core.display.HTML object>"
      ]
     },
     "metadata": {},
     "output_type": "display_data"
    },
    {
     "name": "stdout",
     "output_type": "stream",
     "text": [
      "fastqc running for 4DNFIILC9V27\n"
     ]
    },
    {
     "data": {
      "text/html": [
       "<a href='https://console.aws.amazon.com/states/home?region=us-east-1#/executions/details/arn:aws:states:us-east-1:643366669028:execution:tibanna_pony:fastqc-0-11-4-1_4DNFIILC9V27' target='_blank'>RUNNING</a>"
      ],
      "text/plain": [
       "<IPython.core.display.HTML object>"
      ]
     },
     "metadata": {},
     "output_type": "display_data"
    },
    {
     "name": "stdout",
     "output_type": "stream",
     "text": [
      "fastqc running for 4DNFIWHZFSE3\n"
     ]
    },
    {
     "data": {
      "text/html": [
       "<a href='https://console.aws.amazon.com/states/home?region=us-east-1#/executions/details/arn:aws:states:us-east-1:643366669028:execution:tibanna_pony:fastqc-0-11-4-1_4DNFIWHZFSE3' target='_blank'>RUNNING</a>"
      ],
      "text/plain": [
       "<IPython.core.display.HTML object>"
      ]
     },
     "metadata": {},
     "output_type": "display_data"
    },
    {
     "name": "stdout",
     "output_type": "stream",
     "text": [
      "fastqc running for 4DNFIGTTVHVR\n"
     ]
    },
    {
     "data": {
      "text/html": [
       "<a href='https://console.aws.amazon.com/states/home?region=us-east-1#/executions/details/arn:aws:states:us-east-1:643366669028:execution:tibanna_pony:fastqc-0-11-4-1_4DNFIGTTVHVR' target='_blank'>RUNNING</a>"
      ],
      "text/plain": [
       "<IPython.core.display.HTML object>"
      ]
     },
     "metadata": {},
     "output_type": "display_data"
    },
    {
     "name": "stdout",
     "output_type": "stream",
     "text": [
      "fastqc running for 4DNFIYBTD161\n"
     ]
    },
    {
     "data": {
      "text/html": [
       "<a href='https://console.aws.amazon.com/states/home?region=us-east-1#/executions/details/arn:aws:states:us-east-1:643366669028:execution:tibanna_pony:fastqc-0-11-4-1_4DNFIYBTD161' target='_blank'>RUNNING</a>"
      ],
      "text/plain": [
       "<IPython.core.display.HTML object>"
      ]
     },
     "metadata": {},
     "output_type": "display_data"
    },
    {
     "name": "stdout",
     "output_type": "stream",
     "text": [
      "fastqc running for 4DNFIT433GHJ\n"
     ]
    },
    {
     "data": {
      "text/html": [
       "<a href='https://console.aws.amazon.com/states/home?region=us-east-1#/executions/details/arn:aws:states:us-east-1:643366669028:execution:tibanna_pony:fastqc-0-11-4-1_4DNFIT433GHJ' target='_blank'>RUNNING</a>"
      ],
      "text/plain": [
       "<IPython.core.display.HTML object>"
      ]
     },
     "metadata": {},
     "output_type": "display_data"
    },
    {
     "name": "stdout",
     "output_type": "stream",
     "text": [
      "fastqc running for 4DNFIYR6IQ7H\n"
     ]
    },
    {
     "data": {
      "text/html": [
       "<a href='https://console.aws.amazon.com/states/home?region=us-east-1#/executions/details/arn:aws:states:us-east-1:643366669028:execution:tibanna_pony:fastqc-0-11-4-1_4DNFIYR6IQ7H' target='_blank'>RUNNING</a>"
      ],
      "text/plain": [
       "<IPython.core.display.HTML object>"
      ]
     },
     "metadata": {},
     "output_type": "display_data"
    },
    {
     "name": "stdout",
     "output_type": "stream",
     "text": [
      "fastqc running for 4DNFIIUQ4QN4\n"
     ]
    },
    {
     "data": {
      "text/html": [
       "<a href='https://console.aws.amazon.com/states/home?region=us-east-1#/executions/details/arn:aws:states:us-east-1:643366669028:execution:tibanna_pony:fastqc-0-11-4-1_4DNFIIUQ4QN4' target='_blank'>RUNNING</a>"
      ],
      "text/plain": [
       "<IPython.core.display.HTML object>"
      ]
     },
     "metadata": {},
     "output_type": "display_data"
    },
    {
     "name": "stdout",
     "output_type": "stream",
     "text": [
      "fastqc running for 4DNFIAJWKGR3\n"
     ]
    },
    {
     "data": {
      "text/html": [
       "<a href='https://console.aws.amazon.com/states/home?region=us-east-1#/executions/details/arn:aws:states:us-east-1:643366669028:execution:tibanna_pony:fastqc-0-11-4-1_4DNFIAJWKGR3' target='_blank'>RUNNING</a>"
      ],
      "text/plain": [
       "<IPython.core.display.HTML object>"
      ]
     },
     "metadata": {},
     "output_type": "display_data"
    },
    {
     "name": "stdout",
     "output_type": "stream",
     "text": [
      "fastqc running for 4DNFI4P84J3P\n"
     ]
    },
    {
     "data": {
      "text/html": [
       "<a href='https://console.aws.amazon.com/states/home?region=us-east-1#/executions/details/arn:aws:states:us-east-1:643366669028:execution:tibanna_pony:fastqc-0-11-4-1_4DNFI4P84J3P' target='_blank'>RUNNING</a>"
      ],
      "text/plain": [
       "<IPython.core.display.HTML object>"
      ]
     },
     "metadata": {},
     "output_type": "display_data"
    },
    {
     "name": "stdout",
     "output_type": "stream",
     "text": [
      "fastqc running for 4DNFINCRLSH8\n"
     ]
    },
    {
     "data": {
      "text/html": [
       "<a href='https://console.aws.amazon.com/states/home?region=us-east-1#/executions/details/arn:aws:states:us-east-1:643366669028:execution:tibanna_pony:fastqc-0-11-4-1_4DNFINCRLSH8' target='_blank'>RUNNING</a>"
      ],
      "text/plain": [
       "<IPython.core.display.HTML object>"
      ]
     },
     "metadata": {},
     "output_type": "display_data"
    },
    {
     "name": "stdout",
     "output_type": "stream",
     "text": [
      "fastqc running for 4DNFI5ZGRHBD\n"
     ]
    },
    {
     "data": {
      "text/html": [
       "<a href='https://console.aws.amazon.com/states/home?region=us-east-1#/executions/details/arn:aws:states:us-east-1:643366669028:execution:tibanna_pony:fastqc-0-11-4-1_4DNFI5ZGRHBD' target='_blank'>RUNNING</a>"
      ],
      "text/plain": [
       "<IPython.core.display.HTML object>"
      ]
     },
     "metadata": {},
     "output_type": "display_data"
    },
    {
     "name": "stdout",
     "output_type": "stream",
     "text": [
      "fastqc running for 4DNFI6S3OIUM\n"
     ]
    },
    {
     "data": {
      "text/html": [
       "<a href='https://console.aws.amazon.com/states/home?region=us-east-1#/executions/details/arn:aws:states:us-east-1:643366669028:execution:tibanna_pony:fastqc-0-11-4-1_4DNFI6S3OIUM' target='_blank'>RUNNING</a>"
      ],
      "text/plain": [
       "<IPython.core.display.HTML object>"
      ]
     },
     "metadata": {},
     "output_type": "display_data"
    },
    {
     "name": "stdout",
     "output_type": "stream",
     "text": [
      "fastqc running for 4DNFI9KIORCE\n"
     ]
    },
    {
     "data": {
      "text/html": [
       "<a href='https://console.aws.amazon.com/states/home?region=us-east-1#/executions/details/arn:aws:states:us-east-1:643366669028:execution:tibanna_pony:fastqc-0-11-4-1_4DNFI9KIORCE' target='_blank'>RUNNING</a>"
      ],
      "text/plain": [
       "<IPython.core.display.HTML object>"
      ]
     },
     "metadata": {},
     "output_type": "display_data"
    },
    {
     "name": "stdout",
     "output_type": "stream",
     "text": [
      "fastqc running for 4DNFIV9JT3IY\n"
     ]
    },
    {
     "data": {
      "text/html": [
       "<a href='https://console.aws.amazon.com/states/home?region=us-east-1#/executions/details/arn:aws:states:us-east-1:643366669028:execution:tibanna_pony:fastqc-0-11-4-1_4DNFIV9JT3IY' target='_blank'>RUNNING</a>"
      ],
      "text/plain": [
       "<IPython.core.display.HTML object>"
      ]
     },
     "metadata": {},
     "output_type": "display_data"
    },
    {
     "name": "stdout",
     "output_type": "stream",
     "text": [
      "fastqc running for 4DNFI1U3BECQ\n"
     ]
    },
    {
     "data": {
      "text/html": [
       "<a href='https://console.aws.amazon.com/states/home?region=us-east-1#/executions/details/arn:aws:states:us-east-1:643366669028:execution:tibanna_pony:fastqc-0-11-4-1_4DNFI1U3BECQ' target='_blank'>RUNNING</a>"
      ],
      "text/plain": [
       "<IPython.core.display.HTML object>"
      ]
     },
     "metadata": {},
     "output_type": "display_data"
    },
    {
     "name": "stdout",
     "output_type": "stream",
     "text": [
      "fastqc running for 4DNFIXTKJCY6\n"
     ]
    },
    {
     "data": {
      "text/html": [
       "<a href='https://console.aws.amazon.com/states/home?region=us-east-1#/executions/details/arn:aws:states:us-east-1:643366669028:execution:tibanna_pony:fastqc-0-11-4-1_4DNFIXTKJCY6' target='_blank'>RUNNING</a>"
      ],
      "text/plain": [
       "<IPython.core.display.HTML object>"
      ]
     },
     "metadata": {},
     "output_type": "display_data"
    },
    {
     "name": "stdout",
     "output_type": "stream",
     "text": [
      "fastqc running for 4DNFI9W8T8QE\n"
     ]
    },
    {
     "data": {
      "text/html": [
       "<a href='https://console.aws.amazon.com/states/home?region=us-east-1#/executions/details/arn:aws:states:us-east-1:643366669028:execution:tibanna_pony:fastqc-0-11-4-1_4DNFI9W8T8QE' target='_blank'>RUNNING</a>"
      ],
      "text/plain": [
       "<IPython.core.display.HTML object>"
      ]
     },
     "metadata": {},
     "output_type": "display_data"
    },
    {
     "name": "stdout",
     "output_type": "stream",
     "text": [
      "fastqc running for 4DNFIZH8HS2K\n"
     ]
    },
    {
     "data": {
      "text/html": [
       "<a href='https://console.aws.amazon.com/states/home?region=us-east-1#/executions/details/arn:aws:states:us-east-1:643366669028:execution:tibanna_pony:fastqc-0-11-4-1_4DNFIZH8HS2K' target='_blank'>RUNNING</a>"
      ],
      "text/plain": [
       "<IPython.core.display.HTML object>"
      ]
     },
     "metadata": {},
     "output_type": "display_data"
    },
    {
     "name": "stdout",
     "output_type": "stream",
     "text": [
      "fastqc running for 4DNFIO9DY63Q\n"
     ]
    },
    {
     "data": {
      "text/html": [
       "<a href='https://console.aws.amazon.com/states/home?region=us-east-1#/executions/details/arn:aws:states:us-east-1:643366669028:execution:tibanna_pony:fastqc-0-11-4-1_4DNFIO9DY63Q' target='_blank'>RUNNING</a>"
      ],
      "text/plain": [
       "<IPython.core.display.HTML object>"
      ]
     },
     "metadata": {},
     "output_type": "display_data"
    },
    {
     "name": "stdout",
     "output_type": "stream",
     "text": [
      "fastqc running for 4DNFIXQS1TWI\n"
     ]
    },
    {
     "data": {
      "text/html": [
       "<a href='https://console.aws.amazon.com/states/home?region=us-east-1#/executions/details/arn:aws:states:us-east-1:643366669028:execution:tibanna_pony:fastqc-0-11-4-1_4DNFIXQS1TWI' target='_blank'>RUNNING</a>"
      ],
      "text/plain": [
       "<IPython.core.display.HTML object>"
      ]
     },
     "metadata": {},
     "output_type": "display_data"
    },
    {
     "name": "stdout",
     "output_type": "stream",
     "text": [
      "fastqc running for 4DNFIYLOCX3U\n"
     ]
    },
    {
     "data": {
      "text/html": [
       "<a href='https://console.aws.amazon.com/states/home?region=us-east-1#/executions/details/arn:aws:states:us-east-1:643366669028:execution:tibanna_pony:fastqc-0-11-4-1_4DNFIYLOCX3U' target='_blank'>RUNNING</a>"
      ],
      "text/plain": [
       "<IPython.core.display.HTML object>"
      ]
     },
     "metadata": {},
     "output_type": "display_data"
    },
    {
     "name": "stdout",
     "output_type": "stream",
     "text": [
      "fastqc running for 4DNFIWLGIRM3\n"
     ]
    },
    {
     "data": {
      "text/html": [
       "<a href='https://console.aws.amazon.com/states/home?region=us-east-1#/executions/details/arn:aws:states:us-east-1:643366669028:execution:tibanna_pony:fastqc-0-11-4-1_4DNFIWLGIRM3' target='_blank'>RUNNING</a>"
      ],
      "text/plain": [
       "<IPython.core.display.HTML object>"
      ]
     },
     "metadata": {},
     "output_type": "display_data"
    },
    {
     "name": "stdout",
     "output_type": "stream",
     "text": [
      "fastqc running for 4DNFIV2WD25F\n"
     ]
    },
    {
     "data": {
      "text/html": [
       "<a href='https://console.aws.amazon.com/states/home?region=us-east-1#/executions/details/arn:aws:states:us-east-1:643366669028:execution:tibanna_pony:fastqc-0-11-4-1_4DNFIV2WD25F' target='_blank'>RUNNING</a>"
      ],
      "text/plain": [
       "<IPython.core.display.HTML object>"
      ]
     },
     "metadata": {},
     "output_type": "display_data"
    },
    {
     "name": "stdout",
     "output_type": "stream",
     "text": [
      "fastqc running for 4DNFIEEKNSD6\n"
     ]
    },
    {
     "data": {
      "text/html": [
       "<a href='https://console.aws.amazon.com/states/home?region=us-east-1#/executions/details/arn:aws:states:us-east-1:643366669028:execution:tibanna_pony:fastqc-0-11-4-1_4DNFIEEKNSD6' target='_blank'>RUNNING</a>"
      ],
      "text/plain": [
       "<IPython.core.display.HTML object>"
      ]
     },
     "metadata": {},
     "output_type": "display_data"
    },
    {
     "name": "stdout",
     "output_type": "stream",
     "text": [
      "fastqc running for 4DNFIKO6LQ4J\n"
     ]
    },
    {
     "data": {
      "text/html": [
       "<a href='https://console.aws.amazon.com/states/home?region=us-east-1#/executions/details/arn:aws:states:us-east-1:643366669028:execution:tibanna_pony:fastqc-0-11-4-1_4DNFIKO6LQ4J' target='_blank'>RUNNING</a>"
      ],
      "text/plain": [
       "<IPython.core.display.HTML object>"
      ]
     },
     "metadata": {},
     "output_type": "display_data"
    },
    {
     "name": "stdout",
     "output_type": "stream",
     "text": [
      "fastqc running for 4DNFIJCOSLH5\n"
     ]
    },
    {
     "data": {
      "text/html": [
       "<a href='https://console.aws.amazon.com/states/home?region=us-east-1#/executions/details/arn:aws:states:us-east-1:643366669028:execution:tibanna_pony:fastqc-0-11-4-1_4DNFIJCOSLH5' target='_blank'>RUNNING</a>"
      ],
      "text/plain": [
       "<IPython.core.display.HTML object>"
      ]
     },
     "metadata": {},
     "output_type": "display_data"
    },
    {
     "name": "stdout",
     "output_type": "stream",
     "text": [
      "fastqc running for 4DNFI89TFXUX\n"
     ]
    },
    {
     "data": {
      "text/html": [
       "<a href='https://console.aws.amazon.com/states/home?region=us-east-1#/executions/details/arn:aws:states:us-east-1:643366669028:execution:tibanna_pony:fastqc-0-11-4-1_4DNFI89TFXUX' target='_blank'>RUNNING</a>"
      ],
      "text/plain": [
       "<IPython.core.display.HTML object>"
      ]
     },
     "metadata": {},
     "output_type": "display_data"
    },
    {
     "name": "stdout",
     "output_type": "stream",
     "text": [
      "fastqc running for 4DNFISE5RETN\n"
     ]
    },
    {
     "data": {
      "text/html": [
       "<a href='https://console.aws.amazon.com/states/home?region=us-east-1#/executions/details/arn:aws:states:us-east-1:643366669028:execution:tibanna_pony:fastqc-0-11-4-1_4DNFISE5RETN' target='_blank'>RUNNING</a>"
      ],
      "text/plain": [
       "<IPython.core.display.HTML object>"
      ]
     },
     "metadata": {},
     "output_type": "display_data"
    },
    {
     "name": "stdout",
     "output_type": "stream",
     "text": [
      "fastqc running for 4DNFIJRT3XRZ\n"
     ]
    },
    {
     "data": {
      "text/html": [
       "<a href='https://console.aws.amazon.com/states/home?region=us-east-1#/executions/details/arn:aws:states:us-east-1:643366669028:execution:tibanna_pony:fastqc-0-11-4-1_4DNFIJRT3XRZ' target='_blank'>RUNNING</a>"
      ],
      "text/plain": [
       "<IPython.core.display.HTML object>"
      ]
     },
     "metadata": {},
     "output_type": "display_data"
    },
    {
     "name": "stdout",
     "output_type": "stream",
     "text": [
      "fastqc running for 4DNFIYDKRLHZ\n"
     ]
    },
    {
     "data": {
      "text/html": [
       "<a href='https://console.aws.amazon.com/states/home?region=us-east-1#/executions/details/arn:aws:states:us-east-1:643366669028:execution:tibanna_pony:fastqc-0-11-4-1_4DNFIYDKRLHZ' target='_blank'>RUNNING</a>"
      ],
      "text/plain": [
       "<IPython.core.display.HTML object>"
      ]
     },
     "metadata": {},
     "output_type": "display_data"
    },
    {
     "name": "stdout",
     "output_type": "stream",
     "text": [
      "fastqc running for 4DNFIB1JJG6Q\n"
     ]
    },
    {
     "data": {
      "text/html": [
       "<a href='https://console.aws.amazon.com/states/home?region=us-east-1#/executions/details/arn:aws:states:us-east-1:643366669028:execution:tibanna_pony:fastqc-0-11-4-1_4DNFIB1JJG6Q' target='_blank'>RUNNING</a>"
      ],
      "text/plain": [
       "<IPython.core.display.HTML object>"
      ]
     },
     "metadata": {},
     "output_type": "display_data"
    },
    {
     "name": "stdout",
     "output_type": "stream",
     "text": [
      "fastqc running for 4DNFIDKSYN7J\n"
     ]
    },
    {
     "data": {
      "text/html": [
       "<a href='https://console.aws.amazon.com/states/home?region=us-east-1#/executions/details/arn:aws:states:us-east-1:643366669028:execution:tibanna_pony:fastqc-0-11-4-1_4DNFIDKSYN7J' target='_blank'>RUNNING</a>"
      ],
      "text/plain": [
       "<IPython.core.display.HTML object>"
      ]
     },
     "metadata": {},
     "output_type": "display_data"
    },
    {
     "name": "stdout",
     "output_type": "stream",
     "text": [
      "fastqc running for 4DNFIPMEM2QS\n"
     ]
    },
    {
     "data": {
      "text/html": [
       "<a href='https://console.aws.amazon.com/states/home?region=us-east-1#/executions/details/arn:aws:states:us-east-1:643366669028:execution:tibanna_pony:fastqc-0-11-4-1_4DNFIPMEM2QS' target='_blank'>RUNNING</a>"
      ],
      "text/plain": [
       "<IPython.core.display.HTML object>"
      ]
     },
     "metadata": {},
     "output_type": "display_data"
    },
    {
     "name": "stdout",
     "output_type": "stream",
     "text": [
      "fastqc running for 4DNFI3WJ4SRQ\n"
     ]
    },
    {
     "data": {
      "text/html": [
       "<a href='https://console.aws.amazon.com/states/home?region=us-east-1#/executions/details/arn:aws:states:us-east-1:643366669028:execution:tibanna_pony:fastqc-0-11-4-1_4DNFI3WJ4SRQ' target='_blank'>RUNNING</a>"
      ],
      "text/plain": [
       "<IPython.core.display.HTML object>"
      ]
     },
     "metadata": {},
     "output_type": "display_data"
    },
    {
     "name": "stdout",
     "output_type": "stream",
     "text": [
      "fastqc running for 4DNFI9JWY4NL\n"
     ]
    },
    {
     "data": {
      "text/html": [
       "<a href='https://console.aws.amazon.com/states/home?region=us-east-1#/executions/details/arn:aws:states:us-east-1:643366669028:execution:tibanna_pony:fastqc-0-11-4-1_4DNFI9JWY4NL' target='_blank'>RUNNING</a>"
      ],
      "text/plain": [
       "<IPython.core.display.HTML object>"
      ]
     },
     "metadata": {},
     "output_type": "display_data"
    },
    {
     "name": "stdout",
     "output_type": "stream",
     "text": [
      "fastqc running for 4DNFIVLPG6LH\n"
     ]
    },
    {
     "data": {
      "text/html": [
       "<a href='https://console.aws.amazon.com/states/home?region=us-east-1#/executions/details/arn:aws:states:us-east-1:643366669028:execution:tibanna_pony:fastqc-0-11-4-1_4DNFIVLPG6LH' target='_blank'>RUNNING</a>"
      ],
      "text/plain": [
       "<IPython.core.display.HTML object>"
      ]
     },
     "metadata": {},
     "output_type": "display_data"
    },
    {
     "name": "stdout",
     "output_type": "stream",
     "text": [
      "fastqc running for 4DNFI7BFKWLF\n"
     ]
    },
    {
     "data": {
      "text/html": [
       "<a href='https://console.aws.amazon.com/states/home?region=us-east-1#/executions/details/arn:aws:states:us-east-1:643366669028:execution:tibanna_pony:fastqc-0-11-4-1_4DNFI7BFKWLF' target='_blank'>RUNNING</a>"
      ],
      "text/plain": [
       "<IPython.core.display.HTML object>"
      ]
     },
     "metadata": {},
     "output_type": "display_data"
    },
    {
     "name": "stdout",
     "output_type": "stream",
     "text": [
      "fastqc running for 4DNFILVEFA1N\n"
     ]
    },
    {
     "data": {
      "text/html": [
       "<a href='https://console.aws.amazon.com/states/home?region=us-east-1#/executions/details/arn:aws:states:us-east-1:643366669028:execution:tibanna_pony:fastqc-0-11-4-1_4DNFILVEFA1N' target='_blank'>RUNNING</a>"
      ],
      "text/plain": [
       "<IPython.core.display.HTML object>"
      ]
     },
     "metadata": {},
     "output_type": "display_data"
    },
    {
     "name": "stdout",
     "output_type": "stream",
     "text": [
      "fastqc running for 4DNFIW2WIG6T\n"
     ]
    },
    {
     "data": {
      "text/html": [
       "<a href='https://console.aws.amazon.com/states/home?region=us-east-1#/executions/details/arn:aws:states:us-east-1:643366669028:execution:tibanna_pony:fastqc-0-11-4-1_4DNFIW2WIG6T' target='_blank'>RUNNING</a>"
      ],
      "text/plain": [
       "<IPython.core.display.HTML object>"
      ]
     },
     "metadata": {},
     "output_type": "display_data"
    },
    {
     "name": "stdout",
     "output_type": "stream",
     "text": [
      "fastqc running for 4DNFICNIBB35\n"
     ]
    },
    {
     "data": {
      "text/html": [
       "<a href='https://console.aws.amazon.com/states/home?region=us-east-1#/executions/details/arn:aws:states:us-east-1:643366669028:execution:tibanna_pony:fastqc-0-11-4-1_4DNFICNIBB35' target='_blank'>RUNNING</a>"
      ],
      "text/plain": [
       "<IPython.core.display.HTML object>"
      ]
     },
     "metadata": {},
     "output_type": "display_data"
    },
    {
     "name": "stdout",
     "output_type": "stream",
     "text": [
      "fastqc running for 4DNFIZP51S4E\n"
     ]
    },
    {
     "data": {
      "text/html": [
       "<a href='https://console.aws.amazon.com/states/home?region=us-east-1#/executions/details/arn:aws:states:us-east-1:643366669028:execution:tibanna_pony:fastqc-0-11-4-1_4DNFIZP51S4E' target='_blank'>RUNNING</a>"
      ],
      "text/plain": [
       "<IPython.core.display.HTML object>"
      ]
     },
     "metadata": {},
     "output_type": "display_data"
    },
    {
     "name": "stdout",
     "output_type": "stream",
     "text": [
      "fastqc running for 4DNFIZTE5B3Y\n"
     ]
    },
    {
     "data": {
      "text/html": [
       "<a href='https://console.aws.amazon.com/states/home?region=us-east-1#/executions/details/arn:aws:states:us-east-1:643366669028:execution:tibanna_pony:fastqc-0-11-4-1_4DNFIZTE5B3Y' target='_blank'>RUNNING</a>"
      ],
      "text/plain": [
       "<IPython.core.display.HTML object>"
      ]
     },
     "metadata": {},
     "output_type": "display_data"
    },
    {
     "name": "stdout",
     "output_type": "stream",
     "text": [
      "fastqc running for 4DNFIQ8COQEH\n"
     ]
    },
    {
     "data": {
      "text/html": [
       "<a href='https://console.aws.amazon.com/states/home?region=us-east-1#/executions/details/arn:aws:states:us-east-1:643366669028:execution:tibanna_pony:fastqc-0-11-4-1_4DNFIQ8COQEH' target='_blank'>RUNNING</a>"
      ],
      "text/plain": [
       "<IPython.core.display.HTML object>"
      ]
     },
     "metadata": {},
     "output_type": "display_data"
    },
    {
     "name": "stdout",
     "output_type": "stream",
     "text": [
      "fastqc running for 4DNFIUGWC5FY\n"
     ]
    },
    {
     "data": {
      "text/html": [
       "<a href='https://console.aws.amazon.com/states/home?region=us-east-1#/executions/details/arn:aws:states:us-east-1:643366669028:execution:tibanna_pony:fastqc-0-11-4-1_4DNFIUGWC5FY' target='_blank'>RUNNING</a>"
      ],
      "text/plain": [
       "<IPython.core.display.HTML object>"
      ]
     },
     "metadata": {},
     "output_type": "display_data"
    },
    {
     "name": "stdout",
     "output_type": "stream",
     "text": [
      "fastqc running for 4DNFI6IGKBHW\n"
     ]
    },
    {
     "data": {
      "text/html": [
       "<a href='https://console.aws.amazon.com/states/home?region=us-east-1#/executions/details/arn:aws:states:us-east-1:643366669028:execution:tibanna_pony:fastqc-0-11-4-1_4DNFI6IGKBHW' target='_blank'>RUNNING</a>"
      ],
      "text/plain": [
       "<IPython.core.display.HTML object>"
      ]
     },
     "metadata": {},
     "output_type": "display_data"
    },
    {
     "name": "stdout",
     "output_type": "stream",
     "text": [
      "fastqc running for 4DNFIEO4K81Y\n"
     ]
    },
    {
     "data": {
      "text/html": [
       "<a href='https://console.aws.amazon.com/states/home?region=us-east-1#/executions/details/arn:aws:states:us-east-1:643366669028:execution:tibanna_pony:fastqc-0-11-4-1_4DNFIEO4K81Y' target='_blank'>RUNNING</a>"
      ],
      "text/plain": [
       "<IPython.core.display.HTML object>"
      ]
     },
     "metadata": {},
     "output_type": "display_data"
    },
    {
     "name": "stdout",
     "output_type": "stream",
     "text": [
      "fastqc running for 4DNFIUGMMHDL\n"
     ]
    },
    {
     "data": {
      "text/html": [
       "<a href='https://console.aws.amazon.com/states/home?region=us-east-1#/executions/details/arn:aws:states:us-east-1:643366669028:execution:tibanna_pony:fastqc-0-11-4-1_4DNFIUGMMHDL' target='_blank'>RUNNING</a>"
      ],
      "text/plain": [
       "<IPython.core.display.HTML object>"
      ]
     },
     "metadata": {},
     "output_type": "display_data"
    },
    {
     "name": "stdout",
     "output_type": "stream",
     "text": [
      "fastqc running for 4DNFIMYVFSCV\n"
     ]
    },
    {
     "data": {
      "text/html": [
       "<a href='https://console.aws.amazon.com/states/home?region=us-east-1#/executions/details/arn:aws:states:us-east-1:643366669028:execution:tibanna_pony:fastqc-0-11-4-1_4DNFIMYVFSCV' target='_blank'>RUNNING</a>"
      ],
      "text/plain": [
       "<IPython.core.display.HTML object>"
      ]
     },
     "metadata": {},
     "output_type": "display_data"
    },
    {
     "name": "stdout",
     "output_type": "stream",
     "text": [
      "fastqc running for 4DNFIIE8ZLAJ\n"
     ]
    },
    {
     "data": {
      "text/html": [
       "<a href='https://console.aws.amazon.com/states/home?region=us-east-1#/executions/details/arn:aws:states:us-east-1:643366669028:execution:tibanna_pony:fastqc-0-11-4-1_4DNFIIE8ZLAJ' target='_blank'>RUNNING</a>"
      ],
      "text/plain": [
       "<IPython.core.display.HTML object>"
      ]
     },
     "metadata": {},
     "output_type": "display_data"
    },
    {
     "name": "stdout",
     "output_type": "stream",
     "text": [
      "fastqc running for 4DNFIVX2YAVQ\n"
     ]
    },
    {
     "data": {
      "text/html": [
       "<a href='https://console.aws.amazon.com/states/home?region=us-east-1#/executions/details/arn:aws:states:us-east-1:643366669028:execution:tibanna_pony:fastqc-0-11-4-1_4DNFIVX2YAVQ' target='_blank'>RUNNING</a>"
      ],
      "text/plain": [
       "<IPython.core.display.HTML object>"
      ]
     },
     "metadata": {},
     "output_type": "display_data"
    },
    {
     "name": "stdout",
     "output_type": "stream",
     "text": [
      "fastqc running for 4DNFIBKOZMR8\n"
     ]
    },
    {
     "data": {
      "text/html": [
       "<a href='https://console.aws.amazon.com/states/home?region=us-east-1#/executions/details/arn:aws:states:us-east-1:643366669028:execution:tibanna_pony:fastqc-0-11-4-1_4DNFIBKOZMR8' target='_blank'>RUNNING</a>"
      ],
      "text/plain": [
       "<IPython.core.display.HTML object>"
      ]
     },
     "metadata": {},
     "output_type": "display_data"
    },
    {
     "name": "stdout",
     "output_type": "stream",
     "text": [
      "fastqc running for 4DNFITZPWDH3\n"
     ]
    },
    {
     "data": {
      "text/html": [
       "<a href='https://console.aws.amazon.com/states/home?region=us-east-1#/executions/details/arn:aws:states:us-east-1:643366669028:execution:tibanna_pony:fastqc-0-11-4-1_4DNFITZPWDH315b52008-72a2-4739-9cc9-2e1376ced2f5' target='_blank'>RUNNING</a>"
      ],
      "text/plain": [
       "<IPython.core.display.HTML object>"
      ]
     },
     "metadata": {},
     "output_type": "display_data"
    },
    {
     "name": "stdout",
     "output_type": "stream",
     "text": [
      "fastqc running for 4DNFI2CG7UV9\n"
     ]
    },
    {
     "data": {
      "text/html": [
       "<a href='https://console.aws.amazon.com/states/home?region=us-east-1#/executions/details/arn:aws:states:us-east-1:643366669028:execution:tibanna_pony:fastqc-0-11-4-1_4DNFI2CG7UV9' target='_blank'>RUNNING</a>"
      ],
      "text/plain": [
       "<IPython.core.display.HTML object>"
      ]
     },
     "metadata": {},
     "output_type": "display_data"
    },
    {
     "name": "stdout",
     "output_type": "stream",
     "text": [
      "fastqc running for 4DNFIBLR846W\n"
     ]
    },
    {
     "data": {
      "text/html": [
       "<a href='https://console.aws.amazon.com/states/home?region=us-east-1#/executions/details/arn:aws:states:us-east-1:643366669028:execution:tibanna_pony:fastqc-0-11-4-1_4DNFIBLR846W' target='_blank'>RUNNING</a>"
      ],
      "text/plain": [
       "<IPython.core.display.HTML object>"
      ]
     },
     "metadata": {},
     "output_type": "display_data"
    },
    {
     "name": "stdout",
     "output_type": "stream",
     "text": [
      "fastqc running for 4DNFIJG3WR9L\n"
     ]
    },
    {
     "data": {
      "text/html": [
       "<a href='https://console.aws.amazon.com/states/home?region=us-east-1#/executions/details/arn:aws:states:us-east-1:643366669028:execution:tibanna_pony:fastqc-0-11-4-1_4DNFIJG3WR9L' target='_blank'>RUNNING</a>"
      ],
      "text/plain": [
       "<IPython.core.display.HTML object>"
      ]
     },
     "metadata": {},
     "output_type": "display_data"
    },
    {
     "name": "stdout",
     "output_type": "stream",
     "text": [
      "fastqc running for 4DNFIUTZ8KCZ\n"
     ]
    },
    {
     "data": {
      "text/html": [
       "<a href='https://console.aws.amazon.com/states/home?region=us-east-1#/executions/details/arn:aws:states:us-east-1:643366669028:execution:tibanna_pony:fastqc-0-11-4-1_4DNFIUTZ8KCZ' target='_blank'>RUNNING</a>"
      ],
      "text/plain": [
       "<IPython.core.display.HTML object>"
      ]
     },
     "metadata": {},
     "output_type": "display_data"
    },
    {
     "name": "stdout",
     "output_type": "stream",
     "text": [
      "fastqc running for 4DNFI1BPD1WX\n"
     ]
    },
    {
     "data": {
      "text/html": [
       "<a href='https://console.aws.amazon.com/states/home?region=us-east-1#/executions/details/arn:aws:states:us-east-1:643366669028:execution:tibanna_pony:fastqc-0-11-4-1_4DNFI1BPD1WX' target='_blank'>RUNNING</a>"
      ],
      "text/plain": [
       "<IPython.core.display.HTML object>"
      ]
     },
     "metadata": {},
     "output_type": "display_data"
    },
    {
     "name": "stdout",
     "output_type": "stream",
     "text": [
      "fastqc running for 4DNFIIHIKWBV\n"
     ]
    },
    {
     "data": {
      "text/html": [
       "<a href='https://console.aws.amazon.com/states/home?region=us-east-1#/executions/details/arn:aws:states:us-east-1:643366669028:execution:tibanna_pony:fastqc-0-11-4-1_4DNFIIHIKWBV' target='_blank'>RUNNING</a>"
      ],
      "text/plain": [
       "<IPython.core.display.HTML object>"
      ]
     },
     "metadata": {},
     "output_type": "display_data"
    },
    {
     "name": "stdout",
     "output_type": "stream",
     "text": [
      "fastqc running for 4DNFIL8MQNCN\n"
     ]
    },
    {
     "data": {
      "text/html": [
       "<a href='https://console.aws.amazon.com/states/home?region=us-east-1#/executions/details/arn:aws:states:us-east-1:643366669028:execution:tibanna_pony:fastqc-0-11-4-1_4DNFIL8MQNCN' target='_blank'>RUNNING</a>"
      ],
      "text/plain": [
       "<IPython.core.display.HTML object>"
      ]
     },
     "metadata": {},
     "output_type": "display_data"
    },
    {
     "name": "stdout",
     "output_type": "stream",
     "text": [
      "fastqc running for 4DNFIR8QUMRT\n"
     ]
    },
    {
     "data": {
      "text/html": [
       "<a href='https://console.aws.amazon.com/states/home?region=us-east-1#/executions/details/arn:aws:states:us-east-1:643366669028:execution:tibanna_pony:fastqc-0-11-4-1_4DNFIR8QUMRT' target='_blank'>RUNNING</a>"
      ],
      "text/plain": [
       "<IPython.core.display.HTML object>"
      ]
     },
     "metadata": {},
     "output_type": "display_data"
    },
    {
     "name": "stdout",
     "output_type": "stream",
     "text": [
      "fastqc running for 4DNFIVTFNUAZ\n"
     ]
    },
    {
     "data": {
      "text/html": [
       "<a href='https://console.aws.amazon.com/states/home?region=us-east-1#/executions/details/arn:aws:states:us-east-1:643366669028:execution:tibanna_pony:fastqc-0-11-4-1_4DNFIVTFNUAZ' target='_blank'>RUNNING</a>"
      ],
      "text/plain": [
       "<IPython.core.display.HTML object>"
      ]
     },
     "metadata": {},
     "output_type": "display_data"
    },
    {
     "name": "stdout",
     "output_type": "stream",
     "text": [
      "fastqc running for 4DNFI3ZPXCVL\n"
     ]
    },
    {
     "data": {
      "text/html": [
       "<a href='https://console.aws.amazon.com/states/home?region=us-east-1#/executions/details/arn:aws:states:us-east-1:643366669028:execution:tibanna_pony:fastqc-0-11-4-1_4DNFI3ZPXCVL' target='_blank'>RUNNING</a>"
      ],
      "text/plain": [
       "<IPython.core.display.HTML object>"
      ]
     },
     "metadata": {},
     "output_type": "display_data"
    },
    {
     "name": "stdout",
     "output_type": "stream",
     "text": [
      "fastqc running for 4DNFITIMB3V5\n"
     ]
    },
    {
     "data": {
      "text/html": [
       "<a href='https://console.aws.amazon.com/states/home?region=us-east-1#/executions/details/arn:aws:states:us-east-1:643366669028:execution:tibanna_pony:fastqc-0-11-4-1_4DNFITIMB3V5' target='_blank'>RUNNING</a>"
      ],
      "text/plain": [
       "<IPython.core.display.HTML object>"
      ]
     },
     "metadata": {},
     "output_type": "display_data"
    },
    {
     "name": "stdout",
     "output_type": "stream",
     "text": [
      "fastqc running for 4DNFIPPS3KT4\n"
     ]
    },
    {
     "data": {
      "text/html": [
       "<a href='https://console.aws.amazon.com/states/home?region=us-east-1#/executions/details/arn:aws:states:us-east-1:643366669028:execution:tibanna_pony:fastqc-0-11-4-1_4DNFIPPS3KT4' target='_blank'>RUNNING</a>"
      ],
      "text/plain": [
       "<IPython.core.display.HTML object>"
      ]
     },
     "metadata": {},
     "output_type": "display_data"
    },
    {
     "name": "stdout",
     "output_type": "stream",
     "text": [
      "fastqc running for 4DNFI5M1SIXR\n"
     ]
    },
    {
     "data": {
      "text/html": [
       "<a href='https://console.aws.amazon.com/states/home?region=us-east-1#/executions/details/arn:aws:states:us-east-1:643366669028:execution:tibanna_pony:fastqc-0-11-4-1_4DNFI5M1SIXR' target='_blank'>RUNNING</a>"
      ],
      "text/plain": [
       "<IPython.core.display.HTML object>"
      ]
     },
     "metadata": {},
     "output_type": "display_data"
    },
    {
     "name": "stdout",
     "output_type": "stream",
     "text": [
      "fastqc running for 4DNFI9P27O45\n"
     ]
    },
    {
     "data": {
      "text/html": [
       "<a href='https://console.aws.amazon.com/states/home?region=us-east-1#/executions/details/arn:aws:states:us-east-1:643366669028:execution:tibanna_pony:fastqc-0-11-4-1_4DNFI9P27O45' target='_blank'>RUNNING</a>"
      ],
      "text/plain": [
       "<IPython.core.display.HTML object>"
      ]
     },
     "metadata": {},
     "output_type": "display_data"
    },
    {
     "name": "stdout",
     "output_type": "stream",
     "text": [
      "fastqc running for 4DNFIRXZKC68\n"
     ]
    },
    {
     "data": {
      "text/html": [
       "<a href='https://console.aws.amazon.com/states/home?region=us-east-1#/executions/details/arn:aws:states:us-east-1:643366669028:execution:tibanna_pony:fastqc-0-11-4-1_4DNFIRXZKC68' target='_blank'>RUNNING</a>"
      ],
      "text/plain": [
       "<IPython.core.display.HTML object>"
      ]
     },
     "metadata": {},
     "output_type": "display_data"
    },
    {
     "name": "stdout",
     "output_type": "stream",
     "text": [
      "fastqc running for 4DNFI8EQLBW3\n"
     ]
    },
    {
     "data": {
      "text/html": [
       "<a href='https://console.aws.amazon.com/states/home?region=us-east-1#/executions/details/arn:aws:states:us-east-1:643366669028:execution:tibanna_pony:fastqc-0-11-4-1_4DNFI8EQLBW3' target='_blank'>RUNNING</a>"
      ],
      "text/plain": [
       "<IPython.core.display.HTML object>"
      ]
     },
     "metadata": {},
     "output_type": "display_data"
    },
    {
     "name": "stdout",
     "output_type": "stream",
     "text": [
      "fastqc running for 4DNFI1WWQQPW\n"
     ]
    },
    {
     "data": {
      "text/html": [
       "<a href='https://console.aws.amazon.com/states/home?region=us-east-1#/executions/details/arn:aws:states:us-east-1:643366669028:execution:tibanna_pony:fastqc-0-11-4-1_4DNFI1WWQQPW' target='_blank'>RUNNING</a>"
      ],
      "text/plain": [
       "<IPython.core.display.HTML object>"
      ]
     },
     "metadata": {},
     "output_type": "display_data"
    },
    {
     "name": "stdout",
     "output_type": "stream",
     "text": [
      "fastqc running for 4DNFICQIUILX\n"
     ]
    },
    {
     "data": {
      "text/html": [
       "<a href='https://console.aws.amazon.com/states/home?region=us-east-1#/executions/details/arn:aws:states:us-east-1:643366669028:execution:tibanna_pony:fastqc-0-11-4-1_4DNFICQIUILX' target='_blank'>RUNNING</a>"
      ],
      "text/plain": [
       "<IPython.core.display.HTML object>"
      ]
     },
     "metadata": {},
     "output_type": "display_data"
    },
    {
     "name": "stdout",
     "output_type": "stream",
     "text": [
      "fastqc running for 4DNFIDFA8KS3\n"
     ]
    },
    {
     "data": {
      "text/html": [
       "<a href='https://console.aws.amazon.com/states/home?region=us-east-1#/executions/details/arn:aws:states:us-east-1:643366669028:execution:tibanna_pony:fastqc-0-11-4-1_4DNFIDFA8KS3' target='_blank'>RUNNING</a>"
      ],
      "text/plain": [
       "<IPython.core.display.HTML object>"
      ]
     },
     "metadata": {},
     "output_type": "display_data"
    },
    {
     "name": "stdout",
     "output_type": "stream",
     "text": [
      "fastqc running for 4DNFIWEYQRJK\n"
     ]
    },
    {
     "data": {
      "text/html": [
       "<a href='https://console.aws.amazon.com/states/home?region=us-east-1#/executions/details/arn:aws:states:us-east-1:643366669028:execution:tibanna_pony:fastqc-0-11-4-1_4DNFIWEYQRJK' target='_blank'>RUNNING</a>"
      ],
      "text/plain": [
       "<IPython.core.display.HTML object>"
      ]
     },
     "metadata": {},
     "output_type": "display_data"
    },
    {
     "name": "stdout",
     "output_type": "stream",
     "text": [
      "fastqc running for 4DNFI8PYWDWR\n"
     ]
    },
    {
     "data": {
      "text/html": [
       "<a href='https://console.aws.amazon.com/states/home?region=us-east-1#/executions/details/arn:aws:states:us-east-1:643366669028:execution:tibanna_pony:fastqc-0-11-4-1_4DNFI8PYWDWR' target='_blank'>RUNNING</a>"
      ],
      "text/plain": [
       "<IPython.core.display.HTML object>"
      ]
     },
     "metadata": {},
     "output_type": "display_data"
    },
    {
     "name": "stdout",
     "output_type": "stream",
     "text": [
      "fastqc running for 4DNFI92TWZEH\n"
     ]
    },
    {
     "data": {
      "text/html": [
       "<a href='https://console.aws.amazon.com/states/home?region=us-east-1#/executions/details/arn:aws:states:us-east-1:643366669028:execution:tibanna_pony:fastqc-0-11-4-1_4DNFI92TWZEH' target='_blank'>RUNNING</a>"
      ],
      "text/plain": [
       "<IPython.core.display.HTML object>"
      ]
     },
     "metadata": {},
     "output_type": "display_data"
    },
    {
     "name": "stdout",
     "output_type": "stream",
     "text": [
      "fastqc running for 4DNFIZISFQ6H\n"
     ]
    },
    {
     "data": {
      "text/html": [
       "<a href='https://console.aws.amazon.com/states/home?region=us-east-1#/executions/details/arn:aws:states:us-east-1:643366669028:execution:tibanna_pony:fastqc-0-11-4-1_4DNFIZISFQ6H' target='_blank'>RUNNING</a>"
      ],
      "text/plain": [
       "<IPython.core.display.HTML object>"
      ]
     },
     "metadata": {},
     "output_type": "display_data"
    },
    {
     "name": "stdout",
     "output_type": "stream",
     "text": [
      "fastqc running for 4DNFIZ2ISMFU\n"
     ]
    },
    {
     "data": {
      "text/html": [
       "<a href='https://console.aws.amazon.com/states/home?region=us-east-1#/executions/details/arn:aws:states:us-east-1:643366669028:execution:tibanna_pony:fastqc-0-11-4-1_4DNFIZ2ISMFU' target='_blank'>RUNNING</a>"
      ],
      "text/plain": [
       "<IPython.core.display.HTML object>"
      ]
     },
     "metadata": {},
     "output_type": "display_data"
    },
    {
     "name": "stdout",
     "output_type": "stream",
     "text": [
      "fastqc running for 4DNFILAIOZ89\n"
     ]
    },
    {
     "data": {
      "text/html": [
       "<a href='https://console.aws.amazon.com/states/home?region=us-east-1#/executions/details/arn:aws:states:us-east-1:643366669028:execution:tibanna_pony:fastqc-0-11-4-1_4DNFILAIOZ89' target='_blank'>RUNNING</a>"
      ],
      "text/plain": [
       "<IPython.core.display.HTML object>"
      ]
     },
     "metadata": {},
     "output_type": "display_data"
    },
    {
     "name": "stdout",
     "output_type": "stream",
     "text": [
      "fastqc running for 4DNFIBWWDUNL\n"
     ]
    },
    {
     "data": {
      "text/html": [
       "<a href='https://console.aws.amazon.com/states/home?region=us-east-1#/executions/details/arn:aws:states:us-east-1:643366669028:execution:tibanna_pony:fastqc-0-11-4-1_4DNFIBWWDUNL' target='_blank'>RUNNING</a>"
      ],
      "text/plain": [
       "<IPython.core.display.HTML object>"
      ]
     },
     "metadata": {},
     "output_type": "display_data"
    },
    {
     "name": "stdout",
     "output_type": "stream",
     "text": [
      "fastqc running for 4DNFI9QMZJD7\n"
     ]
    },
    {
     "data": {
      "text/html": [
       "<a href='https://console.aws.amazon.com/states/home?region=us-east-1#/executions/details/arn:aws:states:us-east-1:643366669028:execution:tibanna_pony:fastqc-0-11-4-1_4DNFI9QMZJD7' target='_blank'>RUNNING</a>"
      ],
      "text/plain": [
       "<IPython.core.display.HTML object>"
      ]
     },
     "metadata": {},
     "output_type": "display_data"
    },
    {
     "name": "stdout",
     "output_type": "stream",
     "text": [
      "fastqc running for 4DNFIQNPNP63\n"
     ]
    },
    {
     "data": {
      "text/html": [
       "<a href='https://console.aws.amazon.com/states/home?region=us-east-1#/executions/details/arn:aws:states:us-east-1:643366669028:execution:tibanna_pony:fastqc-0-11-4-1_4DNFIQNPNP63' target='_blank'>RUNNING</a>"
      ],
      "text/plain": [
       "<IPython.core.display.HTML object>"
      ]
     },
     "metadata": {},
     "output_type": "display_data"
    },
    {
     "name": "stdout",
     "output_type": "stream",
     "text": [
      "fastqc running for 4DNFI9N58HHV\n"
     ]
    },
    {
     "data": {
      "text/html": [
       "<a href='https://console.aws.amazon.com/states/home?region=us-east-1#/executions/details/arn:aws:states:us-east-1:643366669028:execution:tibanna_pony:fastqc-0-11-4-1_4DNFI9N58HHV' target='_blank'>RUNNING</a>"
      ],
      "text/plain": [
       "<IPython.core.display.HTML object>"
      ]
     },
     "metadata": {},
     "output_type": "display_data"
    },
    {
     "name": "stdout",
     "output_type": "stream",
     "text": [
      "fastqc running for 4DNFII6TOSXK\n"
     ]
    },
    {
     "data": {
      "text/html": [
       "<a href='https://console.aws.amazon.com/states/home?region=us-east-1#/executions/details/arn:aws:states:us-east-1:643366669028:execution:tibanna_pony:fastqc-0-11-4-1_4DNFII6TOSXK' target='_blank'>RUNNING</a>"
      ],
      "text/plain": [
       "<IPython.core.display.HTML object>"
      ]
     },
     "metadata": {},
     "output_type": "display_data"
    },
    {
     "name": "stdout",
     "output_type": "stream",
     "text": [
      "fastqc running for 4DNFII4KNC9M\n"
     ]
    },
    {
     "data": {
      "text/html": [
       "<a href='https://console.aws.amazon.com/states/home?region=us-east-1#/executions/details/arn:aws:states:us-east-1:643366669028:execution:tibanna_pony:fastqc-0-11-4-1_4DNFII4KNC9M' target='_blank'>RUNNING</a>"
      ],
      "text/plain": [
       "<IPython.core.display.HTML object>"
      ]
     },
     "metadata": {},
     "output_type": "display_data"
    },
    {
     "name": "stdout",
     "output_type": "stream",
     "text": [
      "fastqc running for 4DNFIH7WGTV3\n"
     ]
    },
    {
     "data": {
      "text/html": [
       "<a href='https://console.aws.amazon.com/states/home?region=us-east-1#/executions/details/arn:aws:states:us-east-1:643366669028:execution:tibanna_pony:fastqc-0-11-4-1_4DNFIH7WGTV3' target='_blank'>RUNNING</a>"
      ],
      "text/plain": [
       "<IPython.core.display.HTML object>"
      ]
     },
     "metadata": {},
     "output_type": "display_data"
    },
    {
     "name": "stdout",
     "output_type": "stream",
     "text": [
      "fastqc running for 4DNFISYVBU68\n"
     ]
    },
    {
     "data": {
      "text/html": [
       "<a href='https://console.aws.amazon.com/states/home?region=us-east-1#/executions/details/arn:aws:states:us-east-1:643366669028:execution:tibanna_pony:fastqc-0-11-4-1_4DNFISYVBU68' target='_blank'>RUNNING</a>"
      ],
      "text/plain": [
       "<IPython.core.display.HTML object>"
      ]
     },
     "metadata": {},
     "output_type": "display_data"
    },
    {
     "name": "stdout",
     "output_type": "stream",
     "text": [
      "fastqc running for 4DNFIH342G4N\n"
     ]
    },
    {
     "data": {
      "text/html": [
       "<a href='https://console.aws.amazon.com/states/home?region=us-east-1#/executions/details/arn:aws:states:us-east-1:643366669028:execution:tibanna_pony:fastqc-0-11-4-1_4DNFIH342G4N' target='_blank'>RUNNING</a>"
      ],
      "text/plain": [
       "<IPython.core.display.HTML object>"
      ]
     },
     "metadata": {},
     "output_type": "display_data"
    },
    {
     "name": "stdout",
     "output_type": "stream",
     "text": [
      "fastqc running for 4DNFIF59TTAA\n"
     ]
    },
    {
     "data": {
      "text/html": [
       "<a href='https://console.aws.amazon.com/states/home?region=us-east-1#/executions/details/arn:aws:states:us-east-1:643366669028:execution:tibanna_pony:fastqc-0-11-4-1_4DNFIF59TTAA' target='_blank'>RUNNING</a>"
      ],
      "text/plain": [
       "<IPython.core.display.HTML object>"
      ]
     },
     "metadata": {},
     "output_type": "display_data"
    },
    {
     "name": "stdout",
     "output_type": "stream",
     "text": [
      "fastqc running for 4DNFII44AZGP\n"
     ]
    },
    {
     "data": {
      "text/html": [
       "<a href='https://console.aws.amazon.com/states/home?region=us-east-1#/executions/details/arn:aws:states:us-east-1:643366669028:execution:tibanna_pony:fastqc-0-11-4-1_4DNFII44AZGP' target='_blank'>RUNNING</a>"
      ],
      "text/plain": [
       "<IPython.core.display.HTML object>"
      ]
     },
     "metadata": {},
     "output_type": "display_data"
    },
    {
     "name": "stdout",
     "output_type": "stream",
     "text": [
      "fastqc running for 4DNFIYTE2GMX\n"
     ]
    },
    {
     "data": {
      "text/html": [
       "<a href='https://console.aws.amazon.com/states/home?region=us-east-1#/executions/details/arn:aws:states:us-east-1:643366669028:execution:tibanna_pony:fastqc-0-11-4-1_4DNFIYTE2GMX' target='_blank'>RUNNING</a>"
      ],
      "text/plain": [
       "<IPython.core.display.HTML object>"
      ]
     },
     "metadata": {},
     "output_type": "display_data"
    },
    {
     "name": "stdout",
     "output_type": "stream",
     "text": [
      "fastqc running for 4DNFIIMSEE16\n"
     ]
    },
    {
     "data": {
      "text/html": [
       "<a href='https://console.aws.amazon.com/states/home?region=us-east-1#/executions/details/arn:aws:states:us-east-1:643366669028:execution:tibanna_pony:fastqc-0-11-4-1_4DNFIIMSEE16' target='_blank'>RUNNING</a>"
      ],
      "text/plain": [
       "<IPython.core.display.HTML object>"
      ]
     },
     "metadata": {},
     "output_type": "display_data"
    },
    {
     "name": "stdout",
     "output_type": "stream",
     "text": [
      "fastqc running for 4DNFI2YNFZ7G\n"
     ]
    },
    {
     "data": {
      "text/html": [
       "<a href='https://console.aws.amazon.com/states/home?region=us-east-1#/executions/details/arn:aws:states:us-east-1:643366669028:execution:tibanna_pony:fastqc-0-11-4-1_4DNFI2YNFZ7G' target='_blank'>RUNNING</a>"
      ],
      "text/plain": [
       "<IPython.core.display.HTML object>"
      ]
     },
     "metadata": {},
     "output_type": "display_data"
    },
    {
     "name": "stdout",
     "output_type": "stream",
     "text": [
      "fastqc running for 4DNFIUVKJZYX\n"
     ]
    },
    {
     "data": {
      "text/html": [
       "<a href='https://console.aws.amazon.com/states/home?region=us-east-1#/executions/details/arn:aws:states:us-east-1:643366669028:execution:tibanna_pony:fastqc-0-11-4-1_4DNFIUVKJZYX' target='_blank'>RUNNING</a>"
      ],
      "text/plain": [
       "<IPython.core.display.HTML object>"
      ]
     },
     "metadata": {},
     "output_type": "display_data"
    },
    {
     "name": "stdout",
     "output_type": "stream",
     "text": [
      "fastqc running for 4DNFI6ANPSIO\n"
     ]
    },
    {
     "data": {
      "text/html": [
       "<a href='https://console.aws.amazon.com/states/home?region=us-east-1#/executions/details/arn:aws:states:us-east-1:643366669028:execution:tibanna_pony:fastqc-0-11-4-1_4DNFI6ANPSIO' target='_blank'>RUNNING</a>"
      ],
      "text/plain": [
       "<IPython.core.display.HTML object>"
      ]
     },
     "metadata": {},
     "output_type": "display_data"
    },
    {
     "name": "stdout",
     "output_type": "stream",
     "text": [
      "fastqc running for 4DNFIEOH5SA6\n"
     ]
    },
    {
     "data": {
      "text/html": [
       "<a href='https://console.aws.amazon.com/states/home?region=us-east-1#/executions/details/arn:aws:states:us-east-1:643366669028:execution:tibanna_pony:fastqc-0-11-4-1_4DNFIEOH5SA6' target='_blank'>RUNNING</a>"
      ],
      "text/plain": [
       "<IPython.core.display.HTML object>"
      ]
     },
     "metadata": {},
     "output_type": "display_data"
    },
    {
     "name": "stdout",
     "output_type": "stream",
     "text": [
      "fastqc running for 4DNFIDM1WRXU\n"
     ]
    },
    {
     "data": {
      "text/html": [
       "<a href='https://console.aws.amazon.com/states/home?region=us-east-1#/executions/details/arn:aws:states:us-east-1:643366669028:execution:tibanna_pony:fastqc-0-11-4-1_4DNFIDM1WRXU' target='_blank'>RUNNING</a>"
      ],
      "text/plain": [
       "<IPython.core.display.HTML object>"
      ]
     },
     "metadata": {},
     "output_type": "display_data"
    },
    {
     "name": "stdout",
     "output_type": "stream",
     "text": [
      "fastqc running for 4DNFIY394NV7\n"
     ]
    },
    {
     "data": {
      "text/html": [
       "<a href='https://console.aws.amazon.com/states/home?region=us-east-1#/executions/details/arn:aws:states:us-east-1:643366669028:execution:tibanna_pony:fastqc-0-11-4-1_4DNFIY394NV7' target='_blank'>RUNNING</a>"
      ],
      "text/plain": [
       "<IPython.core.display.HTML object>"
      ]
     },
     "metadata": {},
     "output_type": "display_data"
    },
    {
     "name": "stdout",
     "output_type": "stream",
     "text": [
      "fastqc running for 4DNFI81SLMHK\n"
     ]
    },
    {
     "data": {
      "text/html": [
       "<a href='https://console.aws.amazon.com/states/home?region=us-east-1#/executions/details/arn:aws:states:us-east-1:643366669028:execution:tibanna_pony:fastqc-0-11-4-1_4DNFI81SLMHK' target='_blank'>RUNNING</a>"
      ],
      "text/plain": [
       "<IPython.core.display.HTML object>"
      ]
     },
     "metadata": {},
     "output_type": "display_data"
    },
    {
     "name": "stdout",
     "output_type": "stream",
     "text": [
      "fastqc running for 4DNFI35GG55X\n"
     ]
    },
    {
     "data": {
      "text/html": [
       "<a href='https://console.aws.amazon.com/states/home?region=us-east-1#/executions/details/arn:aws:states:us-east-1:643366669028:execution:tibanna_pony:fastqc-0-11-4-1_4DNFI35GG55X' target='_blank'>RUNNING</a>"
      ],
      "text/plain": [
       "<IPython.core.display.HTML object>"
      ]
     },
     "metadata": {},
     "output_type": "display_data"
    },
    {
     "name": "stdout",
     "output_type": "stream",
     "text": [
      "fastqc running for 4DNFIE8892GV\n"
     ]
    },
    {
     "data": {
      "text/html": [
       "<a href='https://console.aws.amazon.com/states/home?region=us-east-1#/executions/details/arn:aws:states:us-east-1:643366669028:execution:tibanna_pony:fastqc-0-11-4-1_4DNFIE8892GV' target='_blank'>RUNNING</a>"
      ],
      "text/plain": [
       "<IPython.core.display.HTML object>"
      ]
     },
     "metadata": {},
     "output_type": "display_data"
    },
    {
     "name": "stdout",
     "output_type": "stream",
     "text": [
      "fastqc running for 4DNFIF29ZT6F\n"
     ]
    },
    {
     "data": {
      "text/html": [
       "<a href='https://console.aws.amazon.com/states/home?region=us-east-1#/executions/details/arn:aws:states:us-east-1:643366669028:execution:tibanna_pony:fastqc-0-11-4-1_4DNFIF29ZT6F' target='_blank'>RUNNING</a>"
      ],
      "text/plain": [
       "<IPython.core.display.HTML object>"
      ]
     },
     "metadata": {},
     "output_type": "display_data"
    },
    {
     "name": "stdout",
     "output_type": "stream",
     "text": [
      "fastqc running for 4DNFI84F8F5C\n"
     ]
    },
    {
     "data": {
      "text/html": [
       "<a href='https://console.aws.amazon.com/states/home?region=us-east-1#/executions/details/arn:aws:states:us-east-1:643366669028:execution:tibanna_pony:fastqc-0-11-4-1_4DNFI84F8F5C' target='_blank'>RUNNING</a>"
      ],
      "text/plain": [
       "<IPython.core.display.HTML object>"
      ]
     },
     "metadata": {},
     "output_type": "display_data"
    },
    {
     "name": "stdout",
     "output_type": "stream",
     "text": [
      "fastqc running for 4DNFITMYM911\n"
     ]
    },
    {
     "data": {
      "text/html": [
       "<a href='https://console.aws.amazon.com/states/home?region=us-east-1#/executions/details/arn:aws:states:us-east-1:643366669028:execution:tibanna_pony:fastqc-0-11-4-1_4DNFITMYM911' target='_blank'>RUNNING</a>"
      ],
      "text/plain": [
       "<IPython.core.display.HTML object>"
      ]
     },
     "metadata": {},
     "output_type": "display_data"
    },
    {
     "name": "stdout",
     "output_type": "stream",
     "text": [
      "fastqc running for 4DNFIK3ECQIN\n"
     ]
    },
    {
     "data": {
      "text/html": [
       "<a href='https://console.aws.amazon.com/states/home?region=us-east-1#/executions/details/arn:aws:states:us-east-1:643366669028:execution:tibanna_pony:fastqc-0-11-4-1_4DNFIK3ECQIN' target='_blank'>RUNNING</a>"
      ],
      "text/plain": [
       "<IPython.core.display.HTML object>"
      ]
     },
     "metadata": {},
     "output_type": "display_data"
    },
    {
     "name": "stdout",
     "output_type": "stream",
     "text": [
      "fastqc running for 4DNFIQMGPB66\n"
     ]
    },
    {
     "data": {
      "text/html": [
       "<a href='https://console.aws.amazon.com/states/home?region=us-east-1#/executions/details/arn:aws:states:us-east-1:643366669028:execution:tibanna_pony:fastqc-0-11-4-1_4DNFIQMGPB66' target='_blank'>RUNNING</a>"
      ],
      "text/plain": [
       "<IPython.core.display.HTML object>"
      ]
     },
     "metadata": {},
     "output_type": "display_data"
    },
    {
     "name": "stdout",
     "output_type": "stream",
     "text": [
      "fastqc running for 4DNFIH4WKN6S\n"
     ]
    },
    {
     "data": {
      "text/html": [
       "<a href='https://console.aws.amazon.com/states/home?region=us-east-1#/executions/details/arn:aws:states:us-east-1:643366669028:execution:tibanna_pony:fastqc-0-11-4-1_4DNFIH4WKN6S' target='_blank'>RUNNING</a>"
      ],
      "text/plain": [
       "<IPython.core.display.HTML object>"
      ]
     },
     "metadata": {},
     "output_type": "display_data"
    },
    {
     "name": "stdout",
     "output_type": "stream",
     "text": [
      "fastqc running for 4DNFIYQZSBH5\n"
     ]
    },
    {
     "data": {
      "text/html": [
       "<a href='https://console.aws.amazon.com/states/home?region=us-east-1#/executions/details/arn:aws:states:us-east-1:643366669028:execution:tibanna_pony:fastqc-0-11-4-1_4DNFIYQZSBH5' target='_blank'>RUNNING</a>"
      ],
      "text/plain": [
       "<IPython.core.display.HTML object>"
      ]
     },
     "metadata": {},
     "output_type": "display_data"
    },
    {
     "name": "stdout",
     "output_type": "stream",
     "text": [
      "fastqc running for 4DNFISQ79K3B\n"
     ]
    },
    {
     "data": {
      "text/html": [
       "<a href='https://console.aws.amazon.com/states/home?region=us-east-1#/executions/details/arn:aws:states:us-east-1:643366669028:execution:tibanna_pony:fastqc-0-11-4-1_4DNFISQ79K3B' target='_blank'>RUNNING</a>"
      ],
      "text/plain": [
       "<IPython.core.display.HTML object>"
      ]
     },
     "metadata": {},
     "output_type": "display_data"
    },
    {
     "name": "stdout",
     "output_type": "stream",
     "text": [
      "fastqc running for 4DNFIVZI431X\n"
     ]
    },
    {
     "data": {
      "text/html": [
       "<a href='https://console.aws.amazon.com/states/home?region=us-east-1#/executions/details/arn:aws:states:us-east-1:643366669028:execution:tibanna_pony:fastqc-0-11-4-1_4DNFIVZI431X' target='_blank'>RUNNING</a>"
      ],
      "text/plain": [
       "<IPython.core.display.HTML object>"
      ]
     },
     "metadata": {},
     "output_type": "display_data"
    },
    {
     "name": "stdout",
     "output_type": "stream",
     "text": [
      "fastqc running for 4DNFIUV4O54I\n"
     ]
    },
    {
     "data": {
      "text/html": [
       "<a href='https://console.aws.amazon.com/states/home?region=us-east-1#/executions/details/arn:aws:states:us-east-1:643366669028:execution:tibanna_pony:fastqc-0-11-4-1_4DNFIUV4O54I' target='_blank'>RUNNING</a>"
      ],
      "text/plain": [
       "<IPython.core.display.HTML object>"
      ]
     },
     "metadata": {},
     "output_type": "display_data"
    },
    {
     "name": "stdout",
     "output_type": "stream",
     "text": [
      "fastqc running for 4DNFIZ1D68SB\n"
     ]
    },
    {
     "data": {
      "text/html": [
       "<a href='https://console.aws.amazon.com/states/home?region=us-east-1#/executions/details/arn:aws:states:us-east-1:643366669028:execution:tibanna_pony:fastqc-0-11-4-1_4DNFIZ1D68SB' target='_blank'>RUNNING</a>"
      ],
      "text/plain": [
       "<IPython.core.display.HTML object>"
      ]
     },
     "metadata": {},
     "output_type": "display_data"
    },
    {
     "name": "stdout",
     "output_type": "stream",
     "text": [
      "fastqc running for 4DNFIEUT4IP6\n"
     ]
    },
    {
     "data": {
      "text/html": [
       "<a href='https://console.aws.amazon.com/states/home?region=us-east-1#/executions/details/arn:aws:states:us-east-1:643366669028:execution:tibanna_pony:fastqc-0-11-4-1_4DNFIEUT4IP6' target='_blank'>RUNNING</a>"
      ],
      "text/plain": [
       "<IPython.core.display.HTML object>"
      ]
     },
     "metadata": {},
     "output_type": "display_data"
    },
    {
     "name": "stdout",
     "output_type": "stream",
     "text": [
      "okay, not okay, running\n",
      "0 165 0\n"
     ]
    }
   ],
   "source": [
    "# for a given experiment set and some parameters like instrument\n",
    "# print set of files and their partA hic workflow status\n",
    "# if there are one that are running report the number of running cases\n",
    "# if there are file pairs that don't have a corresponding part A, report them separately\n",
    "\n",
    "run_fastqc = input(\"Do you wanna run fastqc if missing? (fq/none)\")\n",
    "\n",
    "# url for hic exps\n",
    "fastq_url = \"search/?type=FileFastq&quality_metric.uuid=No+value\" + \\\n",
    "            \"&status=released&status=released%20to%20project&status=uploaded\" + \\\n",
    "            \"&limit=all\" + \\\n",
    "            \"&q=date_created%3A%3E%3D2016-09-01\"\n",
    "\n",
    "fastq_files = ff_utils.search_metadata(fastq_url , key = my_key)\n",
    "\n",
    "#if beyond run_time, assume failed\n",
    "run_time = 24\n",
    "\n",
    "counter = 0\n",
    "completed = 0\n",
    "print(len(fastq_files))\n",
    "\n",
    "okay = 0\n",
    "non = 0\n",
    "running = 0\n",
    "for a_fastq in fastq_files:\n",
    "    \n",
    "    file_id = a_fastq['accession']  \n",
    "    report = get_wfr_out(file_id, 'fastqc-0-11-4-1',  my_key, md_qc = True, run=run_time)\n",
    "\n",
    "    if report['status'] == 'running':\n",
    "        running += 1\n",
    "        print(file_id, 'still running')\n",
    "        continue\n",
    "        \n",
    "    attributions = get_attribution(a_fastq)\n",
    "    \n",
    "    if report['status'].startswith('no') or not report:\n",
    "        non += 1\n",
    "        if run_fastqc == 'fq':\n",
    "            print('fastqc running for', a_fastq['accession'])\n",
    "            inp_f = {'input_fastq':file_id}\n",
    "            run_missing_wfr(step_settings('fastqc-0-11-4-1', 'none', attributions), inp_f, file_id, my_key, my_env, tag=\"\")\n",
    "        else:\n",
    "            print('fastqc run missing for',file_id)\n",
    "    else:\n",
    "        okay += 1\n",
    "\n",
    "        \n",
    "print(\"okay, not okay, running\")    \n",
    "print(okay, non, running)\n"
   ]
  },
  {
   "cell_type": "code",
   "execution_count": null,
   "metadata": {},
   "outputs": [],
   "source": []
  },
  {
   "cell_type": "code",
   "execution_count": 16,
   "metadata": {},
   "outputs": [
    {
     "name": "stdout",
     "output_type": "stream",
     "text": [
      "4874\n",
      "\n",
      "3400\n",
      "\n",
      "3500\n",
      "\n",
      "3600\n",
      "\n",
      "3700\n",
      "\n",
      "3800\n",
      "\n",
      "3900\n",
      "\n",
      "4000\n",
      "\n",
      "4100\n",
      "\n",
      "4200\n",
      "\n",
      "4300\n",
      "\n",
      "4400\n",
      "\n",
      "4500\n",
      "\n",
      "4600\n",
      "\n",
      "4700\n",
      "\n",
      "4800\n",
      "0\n",
      "0\n"
     ]
    }
   ],
   "source": [
    "# Release fastq qc\n",
    "# fastq_url = '/search/?status=released&status=released%20to%20project&type=FileFastq&limit=all'\n",
    "# fastq_files = ff_utils.search_metadata(fastq_url , key=my_key)\n",
    "# fastq_files = [i for i in fastq_files if i.get('quality_metric')]\n",
    "print(len(fastq_files))\n",
    "\n",
    "patch = True\n",
    "need_patch = 0\n",
    "need_patch_run = 0\n",
    "counter = 0\n",
    "for a_fastq in fastq_files:\n",
    "    counter += 1\n",
    "    if counter < 3400:\n",
    "        continue\n",
    "        \n",
    "    if counter % 100 == 0:\n",
    "        print()\n",
    "        print(counter)\n",
    "    fastq_status = a_fastq['status']\n",
    "    if fastq_status in ['released', 'released to project']:\n",
    "        qc_uuid = a_fastq['quality_metric']['uuid']\n",
    "        qc_status = ff_utils.get_metadata(qc_uuid,key=my_key)['status']\n",
    "        if qc_status != fastq_status:\n",
    "            need_patch += 1\n",
    "            patch_data = {\"status\": fastq_status}\n",
    "            if patch:\n",
    "                print(counter, a_fastq['accession'], a_fastq['status'], 'qc', qc_status)\n",
    "                ff_utils.patch_metadata(patch_data, obj_id=qc_uuid ,key=my_key)\n",
    "                #print('q', end='')\n",
    "        # find the workflow that produced this qc\n",
    "        query = '/search/?type=WorkflowRun&output_quality_metrics.value.uuid=' + qc_uuid\n",
    "        try:\n",
    "            qc_run = ff_utils.search_metadata(query, key=my_key)[0]\n",
    "        except:\n",
    "            print(query)\n",
    "            print(ff_utils.search_metadata(query, key=my_key))\n",
    "            print(a_fastq['uuid'])\n",
    "            print(qc_uuid)\n",
    "            continue\n",
    "        assert qc_run['run_status'] == 'complete'\n",
    "        if qc_run['status'] != fastq_status:\n",
    "            need_patch_run += 1\n",
    "            patch_data = {\"status\": fastq_status}\n",
    "            if patch:\n",
    "                print(counter, a_fastq['accession'], a_fastq['status'], 'qc_run', qc_run['status'])\n",
    "                ff_utils.patch_metadata(patch_data, obj_id=qc_run['uuid'] ,key=my_key)\n",
    "                #print('w', end='')\n",
    "\n",
    "print(need_patch)\n",
    "print(need_patch_run)\n"
   ]
  },
  {
   "cell_type": "code",
   "execution_count": 18,
   "metadata": {},
   "outputs": [
    {
     "name": "stdout",
     "output_type": "stream",
     "text": [
      "123\n",
      "uploaded in review by lab\n",
      "uploaded in review by lab\n",
      "uploaded in review by lab\n",
      "uploaded in review by lab\n",
      "uploaded in review by lab\n",
      "uploaded in review by lab\n",
      "uploaded in review by lab\n",
      "uploaded in review by lab\n",
      "uploaded in review by lab\n",
      "uploaded in review by lab\n",
      "uploaded in review by lab\n",
      "uploaded in review by lab\n",
      "uploaded in review by lab\n",
      "uploaded in review by lab\n",
      "uploaded in review by lab\n",
      "uploaded in review by lab\n",
      "uploaded in review by lab\n",
      "uploaded in review by lab\n",
      "uploaded in review by lab\n",
      "uploaded in review by lab\n",
      "uploaded in review by lab\n",
      "uploaded in review by lab\n",
      "uploaded in review by lab\n",
      "uploaded in review by lab\n",
      "uploaded in review by lab\n",
      "uploaded in review by lab\n",
      "uploaded in review by lab\n",
      "uploaded in review by lab\n",
      "uploaded in review by lab\n",
      "uploaded in review by lab\n",
      "uploaded in review by lab\n",
      "uploaded in review by lab\n",
      "uploaded in review by lab\n",
      "uploaded in review by lab\n",
      "uploaded in review by lab\n",
      "uploaded in review by lab\n",
      "uploaded in review by lab\n",
      "uploaded in review by lab\n",
      "uploaded in review by lab\n",
      "uploaded in review by lab\n",
      "uploaded in review by lab\n",
      "uploaded in review by lab\n",
      "uploaded in review by lab\n",
      "uploaded in review by lab\n",
      "uploaded in review by lab\n",
      "uploaded in review by lab\n",
      "uploaded in review by lab\n",
      "uploaded in review by lab\n",
      "uploaded in review by lab\n",
      "uploaded in review by lab\n",
      "uploaded in review by lab\n",
      "uploaded in review by lab\n",
      "uploaded in review by lab\n",
      "uploaded in review by lab\n",
      "uploaded in review by lab\n",
      "uploaded in review by lab\n",
      "uploaded in review by lab\n",
      "uploaded in review by lab\n",
      "uploaded in review by lab\n",
      "uploaded in review by lab\n",
      "uploaded in review by lab\n",
      "released in review by lab\n",
      "released in review by lab\n",
      "uploaded in review by lab\n",
      "uploaded in review by lab\n",
      "uploaded in review by lab\n",
      "uploaded in review by lab\n",
      "uploaded in review by lab\n",
      "uploaded in review by lab\n",
      "uploaded in review by lab\n",
      "uploaded in review by lab\n",
      "uploaded in review by lab\n",
      "uploaded in review by lab\n",
      "uploaded in review by lab\n",
      "uploaded in review by lab\n",
      "uploaded in review by lab\n",
      "uploaded in review by lab\n",
      "uploaded in review by lab\n",
      "uploaded in review by lab\n",
      "uploaded in review by lab\n",
      "uploaded in review by lab\n",
      "uploaded in review by lab\n",
      "uploaded in review by lab\n",
      "uploaded in review by lab\n",
      "replaced in review by lab\n",
      "uploaded in review by lab\n",
      "uploaded in review by lab\n",
      "uploaded in review by lab\n",
      "uploaded in review by lab\n",
      "uploaded in review by lab\n",
      "uploaded in review by lab\n",
      "uploaded in review by lab\n",
      "uploaded in review by lab\n",
      "uploaded in review by lab\n",
      "uploaded in review by lab\n",
      "uploaded in review by lab\n",
      "uploaded in review by lab\n",
      "uploaded in review by lab\n",
      "uploaded in review by lab\n",
      "uploaded in review by lab\n",
      "uploaded in review by lab\n",
      "uploaded in review by lab\n",
      "uploaded in review by lab\n",
      "uploaded in review by lab\n",
      "uploaded in review by lab\n",
      "uploaded in review by lab\n",
      "uploaded in review by lab\n",
      "uploaded in review by lab\n",
      "uploaded in review by lab\n",
      "uploaded in review by lab\n",
      "uploaded in review by lab\n",
      "uploaded in review by lab\n",
      "uploaded in review by lab\n",
      "uploaded in review by lab\n",
      "uploaded in review by lab\n",
      "uploaded in review by lab\n",
      "uploaded in review by lab\n",
      "uploaded in review by lab\n",
      "uploaded in review by lab\n",
      "uploaded in review by lab\n",
      "uploaded in review by lab\n",
      "uploaded in review by lab\n",
      "uploaded in review by lab\n",
      "123\n"
     ]
    }
   ],
   "source": [
    "### Check if md5 runs are in sync with file status\n",
    "import time\n",
    "from dcicutils import s3Utils\n",
    "from dcicutils import ff_utils\n",
    "from functions.wfr import *\n",
    "from functions.wfr_settings import *\n",
    "from functions.notebook_functions import *\n",
    "\n",
    "# get key from keypairs.json\n",
    "my_env = 'data'\n",
    "my_key = get_key('koray_data')\n",
    "\n",
    "\n",
    "fq_runs = '/search/?run_status=complete&status=in+review+by+lab&type=WorkflowRunAwsem&workflow.title=FastQC'\n",
    "fq_hits = ff_utils.search_metadata(fq_runs , key=my_key)\n",
    "\n",
    "print(len(fq_hits))\n",
    "\n",
    "prob = 0\n",
    "for a_run in fq_hits:\n",
    "    f_status = a_run['input_files'][0]['value']['status']\n",
    "    if f_status != a_run['status']:\n",
    "        print(f_status, a_run['status'])\n",
    "        prob += 1\n",
    "    \n",
    "print(prob)\n",
    "\n",
    "\n",
    "patch = True\n",
    "need_patch = 0\n",
    "need_patch_run = 0\n",
    "counter = 0"
   ]
  },
  {
   "cell_type": "code",
   "execution_count": null,
   "metadata": {},
   "outputs": [],
   "source": []
  }
 ],
 "metadata": {
  "anaconda-cloud": {},
  "kernelspec": {
   "display_name": "Python 3",
   "language": "python",
   "name": "python3"
  },
  "language_info": {
   "codemirror_mode": {
    "name": "ipython",
    "version": 3
   },
   "file_extension": ".py",
   "mimetype": "text/x-python",
   "name": "python",
   "nbconvert_exporter": "python",
   "pygments_lexer": "ipython3",
   "version": "3.5.2"
  }
 },
 "nbformat": 4,
 "nbformat_minor": 2
}
