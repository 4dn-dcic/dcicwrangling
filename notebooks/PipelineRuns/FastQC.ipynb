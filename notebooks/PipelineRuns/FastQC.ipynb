{
 "cells": [
  {
   "cell_type": "code",
   "execution_count": 1,
   "metadata": {},
   "outputs": [
    {
     "name": "stdout",
     "output_type": "stream",
     "text": [
      "search/?type=FileFastq&quality_metric.uuid=No+value&status=pre-release&status=released&status=released%20to%20project&status=uploaded&limit=all\n",
      "0\n"
     ]
    }
   ],
   "source": [
    "from dcicutils import ff_utils\n",
    "from functions.wfr import *\n",
    "from functions.wfr_settings import *\n",
    "from functions.notebook_functions import *\n",
    "\n",
    "# get key from keypairs.json\n",
    "my_env = 'data'\n",
    "my_key = get_key('koray_data')\n",
    "\n",
    "# url for hic exps\n",
    "fastq_url = \"search/?type=FileFastq&quality_metric.uuid=No+value\" + \\\n",
    "            \"&status=pre-release&status=released&status=released%20to%20project&status=uploaded\" + \\\n",
    "            \"&limit=all\"\n",
    "\n",
    "print(fastq_url)\n",
    "fastq_files = ff_utils.search_metadata(fastq_url , key = my_key)\n",
    "print(len(fastq_files))"
   ]
  },
  {
   "cell_type": "code",
   "execution_count": 7,
   "metadata": {
    "scrolled": false
   },
   "outputs": [
    {
     "name": "stdout",
     "output_type": "stream",
     "text": [
      "Do you wanna run fastqc if missing? (fq/none)fq\n",
      "6\n",
      "fastqc running for 4DNFIIRK6HZQ\n"
     ]
    },
    {
     "data": {
      "text/html": [
       "<a href='https://console.aws.amazon.com/states/home?region=us-east-1#/executions/details/arn:aws:states:us-east-1:643366669028:execution:tibanna_pony:fastqc-0-11-4-1_4DNFIIRK6HZQ' target='_blank'>RUNNING</a>"
      ],
      "text/plain": [
       "<IPython.core.display.HTML object>"
      ]
     },
     "metadata": {},
     "output_type": "display_data"
    },
    {
     "name": "stdout",
     "output_type": "stream",
     "text": [
      "fastqc running for 4DNFIO2AB2XM\n"
     ]
    },
    {
     "data": {
      "text/html": [
       "<a href='https://console.aws.amazon.com/states/home?region=us-east-1#/executions/details/arn:aws:states:us-east-1:643366669028:execution:tibanna_pony:fastqc-0-11-4-1_4DNFIO2AB2XM' target='_blank'>RUNNING</a>"
      ],
      "text/plain": [
       "<IPython.core.display.HTML object>"
      ]
     },
     "metadata": {},
     "output_type": "display_data"
    },
    {
     "name": "stdout",
     "output_type": "stream",
     "text": [
      "fastqc running for 4DNFIOHYOKHI\n"
     ]
    },
    {
     "data": {
      "text/html": [
       "<a href='https://console.aws.amazon.com/states/home?region=us-east-1#/executions/details/arn:aws:states:us-east-1:643366669028:execution:tibanna_pony:fastqc-0-11-4-1_4DNFIOHYOKHI' target='_blank'>RUNNING</a>"
      ],
      "text/plain": [
       "<IPython.core.display.HTML object>"
      ]
     },
     "metadata": {},
     "output_type": "display_data"
    },
    {
     "name": "stdout",
     "output_type": "stream",
     "text": [
      "fastqc running for 4DNFIUF9HWHJ\n"
     ]
    },
    {
     "data": {
      "text/html": [
       "<a href='https://console.aws.amazon.com/states/home?region=us-east-1#/executions/details/arn:aws:states:us-east-1:643366669028:execution:tibanna_pony:fastqc-0-11-4-1_4DNFIUF9HWHJ' target='_blank'>RUNNING</a>"
      ],
      "text/plain": [
       "<IPython.core.display.HTML object>"
      ]
     },
     "metadata": {},
     "output_type": "display_data"
    },
    {
     "name": "stdout",
     "output_type": "stream",
     "text": [
      "fastqc running for 4DNFI3DXXQQ4\n"
     ]
    },
    {
     "data": {
      "text/html": [
       "<a href='https://console.aws.amazon.com/states/home?region=us-east-1#/executions/details/arn:aws:states:us-east-1:643366669028:execution:tibanna_pony:fastqc-0-11-4-1_4DNFI3DXXQQ4' target='_blank'>RUNNING</a>"
      ],
      "text/plain": [
       "<IPython.core.display.HTML object>"
      ]
     },
     "metadata": {},
     "output_type": "display_data"
    },
    {
     "name": "stdout",
     "output_type": "stream",
     "text": [
      "fastqc running for 4DNFI5RTSUJ2\n"
     ]
    },
    {
     "data": {
      "text/html": [
       "<a href='https://console.aws.amazon.com/states/home?region=us-east-1#/executions/details/arn:aws:states:us-east-1:643366669028:execution:tibanna_pony:fastqc-0-11-4-1_4DNFI5RTSUJ2' target='_blank'>RUNNING</a>"
      ],
      "text/plain": [
       "<IPython.core.display.HTML object>"
      ]
     },
     "metadata": {},
     "output_type": "display_data"
    },
    {
     "name": "stdout",
     "output_type": "stream",
     "text": [
      "needs_run, needs_run_again, running, weird\n",
      "6 0 0 0\n"
     ]
    }
   ],
   "source": [
    "# for a given experiment set and some parameters like instrument\n",
    "# print set of files and their partA hic workflow status\n",
    "# if there are one that are running report the number of running cases\n",
    "# if there are file pairs that don't have a corresponding part A, report them separately\n",
    "\n",
    "run_fastqc = input(\"Do you wanna run fastqc if missing? (fq/none)\")\n",
    "\n",
    "\n",
    "\n",
    "#if beyond run_time, assume failed\n",
    "run_time = 24\n",
    "\n",
    "counter = 0\n",
    "completed = 0\n",
    "print(len(fastq_files))\n",
    "\n",
    "weird = 0\n",
    "needs_run = 0\n",
    "needs_run_again = 0\n",
    "running = 0\n",
    "for a_fastq in fastq_files:\n",
    "    \n",
    "    file_id = a_fastq['accession']  \n",
    "    report = get_wfr_out(file_id, 'fastqc-0-11-4-1',  my_key, md_qc = True, run=run_time)\n",
    "\n",
    "    if report['status'] == 'running':\n",
    "        running += 1\n",
    "        print(file_id, 'still running')\n",
    "        continue\n",
    "        \n",
    "    attributions = get_attribution(a_fastq)\n",
    "    \n",
    "    # if we need a run\n",
    "    if report['status'].startswith('no') or not report:\n",
    "        needs_run += 1\n",
    "        if run_fastqc == 'fq':\n",
    "            print('fastqc running for', a_fastq['accession'])\n",
    "            inp_f = {'input_fastq':file_id}\n",
    "            run_missing_wfr(step_settings('fastqc-0-11-4-1', 'none', attributions), inp_f, file_id, my_key, my_env, tag=\"\")\n",
    "        else:\n",
    "            print('fastqc run missing for',file_id)\n",
    "    # we have a run but no qc (maybe file was reuploaded and qc was cleared)\n",
    "    else:\n",
    "        if not a_fastq.get('quality_metric'):\n",
    "            needs_run_again += 1\n",
    "            if run_fastqc == 'fq':\n",
    "                print('fastqc running for', a_fastq['accession'])\n",
    "                inp_f = {'input_fastq':file_id}\n",
    "                run_missing_wfr(step_settings('fastqc-0-11-4-1', 'none', attributions), inp_f, file_id, my_key, my_env, tag=\"\")\n",
    "            else:\n",
    "                print('fastqc run missing for',file_id)\n",
    "        else:\n",
    "            weird += 1\n",
    "\n",
    "        \n",
    "print(\"needs_run, needs_run_again, running, weird\")    \n",
    "print(needs_run, needs_run_again, running, weird)\n"
   ]
  },
  {
   "cell_type": "code",
   "execution_count": null,
   "metadata": {},
   "outputs": [],
   "source": []
  },
  {
   "cell_type": "code",
   "execution_count": 16,
   "metadata": {},
   "outputs": [
    {
     "name": "stdout",
     "output_type": "stream",
     "text": [
      "4874\n",
      "\n",
      "3400\n",
      "\n",
      "3500\n",
      "\n",
      "3600\n",
      "\n",
      "3700\n",
      "\n",
      "3800\n",
      "\n",
      "3900\n",
      "\n",
      "4000\n",
      "\n",
      "4100\n",
      "\n",
      "4200\n",
      "\n",
      "4300\n",
      "\n",
      "4400\n",
      "\n",
      "4500\n",
      "\n",
      "4600\n",
      "\n",
      "4700\n",
      "\n",
      "4800\n",
      "0\n",
      "0\n"
     ]
    }
   ],
   "source": [
    "# Release fastq qc\n",
    "# fastq_url = '/search/?status=released&status=released%20to%20project&type=FileFastq&limit=all'\n",
    "# fastq_files = ff_utils.search_metadata(fastq_url , key=my_key)\n",
    "# fastq_files = [i for i in fastq_files if i.get('quality_metric')]\n",
    "print(len(fastq_files))\n",
    "\n",
    "patch = True\n",
    "need_patch = 0\n",
    "need_patch_run = 0\n",
    "counter = 0\n",
    "for a_fastq in fastq_files:\n",
    "    counter += 1\n",
    "    if counter < 3400:\n",
    "        continue\n",
    "        \n",
    "    if counter % 100 == 0:\n",
    "        print()\n",
    "        print(counter)\n",
    "    fastq_status = a_fastq['status']\n",
    "    if fastq_status in ['released', 'released to project']:\n",
    "        qc_uuid = a_fastq['quality_metric']['uuid']\n",
    "        qc_status = ff_utils.get_metadata(qc_uuid,key=my_key)['status']\n",
    "        if qc_status != fastq_status:\n",
    "            need_patch += 1\n",
    "            patch_data = {\"status\": fastq_status}\n",
    "            if patch:\n",
    "                print(counter, a_fastq['accession'], a_fastq['status'], 'qc', qc_status)\n",
    "                ff_utils.patch_metadata(patch_data, obj_id=qc_uuid ,key=my_key)\n",
    "                #print('q', end='')\n",
    "        # find the workflow that produced this qc\n",
    "        query = '/search/?type=WorkflowRun&output_quality_metrics.value.uuid=' + qc_uuid\n",
    "        try:\n",
    "            qc_run = ff_utils.search_metadata(query, key=my_key)[0]\n",
    "        except:\n",
    "            print(query)\n",
    "            print(ff_utils.search_metadata(query, key=my_key))\n",
    "            print(a_fastq['uuid'])\n",
    "            print(qc_uuid)\n",
    "            continue\n",
    "        assert qc_run['run_status'] == 'complete'\n",
    "        if qc_run['status'] != fastq_status:\n",
    "            need_patch_run += 1\n",
    "            patch_data = {\"status\": fastq_status}\n",
    "            if patch:\n",
    "                print(counter, a_fastq['accession'], a_fastq['status'], 'qc_run', qc_run['status'])\n",
    "                ff_utils.patch_metadata(patch_data, obj_id=qc_run['uuid'] ,key=my_key)\n",
    "                #print('w', end='')\n",
    "\n",
    "print(need_patch)\n",
    "print(need_patch_run)\n"
   ]
  },
  {
   "cell_type": "code",
   "execution_count": 18,
   "metadata": {},
   "outputs": [
    {
     "name": "stdout",
     "output_type": "stream",
     "text": [
      "123\n",
      "uploaded in review by lab\n",
      "uploaded in review by lab\n",
      "uploaded in review by lab\n",
      "uploaded in review by lab\n",
      "uploaded in review by lab\n",
      "uploaded in review by lab\n",
      "uploaded in review by lab\n",
      "uploaded in review by lab\n",
      "uploaded in review by lab\n",
      "uploaded in review by lab\n",
      "uploaded in review by lab\n",
      "uploaded in review by lab\n",
      "uploaded in review by lab\n",
      "uploaded in review by lab\n",
      "uploaded in review by lab\n",
      "uploaded in review by lab\n",
      "uploaded in review by lab\n",
      "uploaded in review by lab\n",
      "uploaded in review by lab\n",
      "uploaded in review by lab\n",
      "uploaded in review by lab\n",
      "uploaded in review by lab\n",
      "uploaded in review by lab\n",
      "uploaded in review by lab\n",
      "uploaded in review by lab\n",
      "uploaded in review by lab\n",
      "uploaded in review by lab\n",
      "uploaded in review by lab\n",
      "uploaded in review by lab\n",
      "uploaded in review by lab\n",
      "uploaded in review by lab\n",
      "uploaded in review by lab\n",
      "uploaded in review by lab\n",
      "uploaded in review by lab\n",
      "uploaded in review by lab\n",
      "uploaded in review by lab\n",
      "uploaded in review by lab\n",
      "uploaded in review by lab\n",
      "uploaded in review by lab\n",
      "uploaded in review by lab\n",
      "uploaded in review by lab\n",
      "uploaded in review by lab\n",
      "uploaded in review by lab\n",
      "uploaded in review by lab\n",
      "uploaded in review by lab\n",
      "uploaded in review by lab\n",
      "uploaded in review by lab\n",
      "uploaded in review by lab\n",
      "uploaded in review by lab\n",
      "uploaded in review by lab\n",
      "uploaded in review by lab\n",
      "uploaded in review by lab\n",
      "uploaded in review by lab\n",
      "uploaded in review by lab\n",
      "uploaded in review by lab\n",
      "uploaded in review by lab\n",
      "uploaded in review by lab\n",
      "uploaded in review by lab\n",
      "uploaded in review by lab\n",
      "uploaded in review by lab\n",
      "uploaded in review by lab\n",
      "released in review by lab\n",
      "released in review by lab\n",
      "uploaded in review by lab\n",
      "uploaded in review by lab\n",
      "uploaded in review by lab\n",
      "uploaded in review by lab\n",
      "uploaded in review by lab\n",
      "uploaded in review by lab\n",
      "uploaded in review by lab\n",
      "uploaded in review by lab\n",
      "uploaded in review by lab\n",
      "uploaded in review by lab\n",
      "uploaded in review by lab\n",
      "uploaded in review by lab\n",
      "uploaded in review by lab\n",
      "uploaded in review by lab\n",
      "uploaded in review by lab\n",
      "uploaded in review by lab\n",
      "uploaded in review by lab\n",
      "uploaded in review by lab\n",
      "uploaded in review by lab\n",
      "uploaded in review by lab\n",
      "uploaded in review by lab\n",
      "replaced in review by lab\n",
      "uploaded in review by lab\n",
      "uploaded in review by lab\n",
      "uploaded in review by lab\n",
      "uploaded in review by lab\n",
      "uploaded in review by lab\n",
      "uploaded in review by lab\n",
      "uploaded in review by lab\n",
      "uploaded in review by lab\n",
      "uploaded in review by lab\n",
      "uploaded in review by lab\n",
      "uploaded in review by lab\n",
      "uploaded in review by lab\n",
      "uploaded in review by lab\n",
      "uploaded in review by lab\n",
      "uploaded in review by lab\n",
      "uploaded in review by lab\n",
      "uploaded in review by lab\n",
      "uploaded in review by lab\n",
      "uploaded in review by lab\n",
      "uploaded in review by lab\n",
      "uploaded in review by lab\n",
      "uploaded in review by lab\n",
      "uploaded in review by lab\n",
      "uploaded in review by lab\n",
      "uploaded in review by lab\n",
      "uploaded in review by lab\n",
      "uploaded in review by lab\n",
      "uploaded in review by lab\n",
      "uploaded in review by lab\n",
      "uploaded in review by lab\n",
      "uploaded in review by lab\n",
      "uploaded in review by lab\n",
      "uploaded in review by lab\n",
      "uploaded in review by lab\n",
      "uploaded in review by lab\n",
      "uploaded in review by lab\n",
      "uploaded in review by lab\n",
      "uploaded in review by lab\n",
      "123\n"
     ]
    }
   ],
   "source": [
    "### Check if md5 runs are in sync with file status\n",
    "import time\n",
    "from dcicutils import s3Utils\n",
    "from dcicutils import ff_utils\n",
    "from functions.wfr import *\n",
    "from functions.wfr_settings import *\n",
    "from functions.notebook_functions import *\n",
    "\n",
    "# get key from keypairs.json\n",
    "my_env = 'data'\n",
    "my_key = get_key('koray_data')\n",
    "\n",
    "\n",
    "fq_runs = '/search/?run_status=complete&status=in+review+by+lab&type=WorkflowRunAwsem&workflow.title=FastQC'\n",
    "fq_hits = ff_utils.search_metadata(fq_runs , key=my_key)\n",
    "\n",
    "print(len(fq_hits))\n",
    "\n",
    "prob = 0\n",
    "for a_run in fq_hits:\n",
    "    f_status = a_run['input_files'][0]['value']['status']\n",
    "    if f_status != a_run['status']:\n",
    "        print(f_status, a_run['status'])\n",
    "        prob += 1\n",
    "    \n",
    "print(prob)\n",
    "\n",
    "\n",
    "patch = True\n",
    "need_patch = 0\n",
    "need_patch_run = 0\n",
    "counter = 0"
   ]
  },
  {
   "cell_type": "code",
   "execution_count": null,
   "metadata": {},
   "outputs": [],
   "source": []
  }
 ],
 "metadata": {
  "anaconda-cloud": {},
  "kernelspec": {
   "display_name": "Python 3",
   "language": "python",
   "name": "python3"
  },
  "language_info": {
   "codemirror_mode": {
    "name": "ipython",
    "version": 3
   },
   "file_extension": ".py",
   "mimetype": "text/x-python",
   "name": "python",
   "nbconvert_exporter": "python",
   "pygments_lexer": "ipython3",
   "version": "3.5.2"
  }
 },
 "nbformat": 4,
 "nbformat_minor": 2
}
