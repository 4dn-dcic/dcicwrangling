{
 "cells": [
  {
   "cell_type": "code",
   "execution_count": 1,
   "id": "f65e1b91-4631-4fcb-943b-0718e7361122",
   "metadata": {},
   "outputs": [],
   "source": [
    "import pandas as pd"
   ]
  },
  {
   "cell_type": "code",
   "execution_count": 21,
   "id": "ce1f30f1-e53e-48ce-bda2-dad428ce57da",
   "metadata": {},
   "outputs": [],
   "source": [
    "file1 = \"/Users/rahinavelkar/Desktop/instrument_model.csv\""
   ]
  },
  {
   "cell_type": "code",
   "execution_count": 22,
   "id": "8a67df36-f8e0-40a1-80c3-f45dd794763f",
   "metadata": {},
   "outputs": [],
   "source": [
    "data1 = pd.read_csv(file1, header=None)\n",
    "data = pd.DataFrame(data1)\n"
   ]
  },
  {
   "cell_type": "code",
   "execution_count": 23,
   "id": "d3e03fe0-5ff4-4f76-8fda-d873e28470ae",
   "metadata": {},
   "outputs": [],
   "source": [
    "instru = data.iloc[:,0]"
   ]
  },
  {
   "cell_type": "code",
   "execution_count": 24,
   "id": "2f825ae0-f0b3-4f78-9571-d95dcd382e4c",
   "metadata": {},
   "outputs": [
    {
     "data": {
      "text/plain": [
       "pandas.core.series.Series"
      ]
     },
     "execution_count": 24,
     "metadata": {},
     "output_type": "execute_result"
    }
   ],
   "source": [
    "type(instru)"
   ]
  },
  {
   "cell_type": "code",
   "execution_count": 25,
   "id": "163b675f-fb41-460c-a67d-ef934d1719c5",
   "metadata": {},
   "outputs": [],
   "source": [
    "model_names = instru.to_list()"
   ]
  },
  {
   "cell_type": "code",
   "execution_count": 26,
   "id": "cff14b52-4975-475e-86d1-9d04b23f2a45",
   "metadata": {},
   "outputs": [
    {
     "data": {
      "text/plain": [
       "['16S rRNA-seq',\n",
       " '4C-Seq',\n",
       " 'ATAC-seq',\n",
       " 'BCR-Seq',\n",
       " 'Bisulfite-Seq',\n",
       " 'Bisulfite-Seq (reduced representation)',\n",
       " 'BRU-Seq',\n",
       " 'Capture-C',\n",
       " 'ChEC-seq',\n",
       " 'ChIA-PET',\n",
       " 'ChIP-Seq',\n",
       " 'ChIRP-seq',\n",
       " 'CITE-seq',\n",
       " 'CRISPR Screen',\n",
       " 'CUT&Run',\n",
       " 'CUT&Tag',\n",
       " 'DamID-Seq',\n",
       " 'DNase-Hypersensitivity',\n",
       " 'EM-seq',\n",
       " 'FAIRE-seq',\n",
       " 'GRO-Seq',\n",
       " 'Hi-C',\n",
       " 'HiChIP',\n",
       " 'iCLIP',\n",
       " 'MBD-Seq',\n",
       " 'MeDIP-Seq',\n",
       " 'MeRIP-Seq',\n",
       " 'miRNA-Seq',\n",
       " 'MNase-Seq',\n",
       " 'MRE-Seq',\n",
       " 'ncRNA-Seq',\n",
       " 'OTHER',\n",
       " 'PRO-Seq',\n",
       " 'Ribo-Seq',\n",
       " 'RIP-Seq',\n",
       " 'RNAmethylation',\n",
       " 'RNA-Seq',\n",
       " 'RNA-Seq (CAGE)',\n",
       " 'RNA-Seq (RACE)',\n",
       " 'scATAC-seq',\n",
       " 'scRNA-seq',\n",
       " 'SELEX',\n",
       " 'smallRNA-Seq',\n",
       " 'snRNA-Seq',\n",
       " 'Spatial Transcriptomics',\n",
       " 'ssRNA-Seq',\n",
       " 'TCR-Seq',\n",
       " 'Tn-Seq']"
      ]
     },
     "execution_count": 26,
     "metadata": {},
     "output_type": "execute_result"
    }
   ],
   "source": [
    "model_names"
   ]
  },
  {
   "cell_type": "code",
   "execution_count": 27,
   "id": "1d9516dd-a247-4363-be49-e0e16179f140",
   "metadata": {},
   "outputs": [],
   "source": [
    "final_format = ''\n",
    "for model in model_names:\n",
    "    new = '\"{}\"'.format(model)\n",
    "    final_format = final_format + \", \" + new\n",
    "    "
   ]
  },
  {
   "cell_type": "code",
   "execution_count": 28,
   "id": "4c92ce37-6b86-472e-aaa2-9c396d8dd6c3",
   "metadata": {},
   "outputs": [
    {
     "data": {
      "text/plain": [
       "', \"16S rRNA-seq\", \"4C-Seq\", \"ATAC-seq\", \"BCR-Seq\", \"Bisulfite-Seq\", \"Bisulfite-Seq (reduced representation)\", \"BRU-Seq\", \"Capture-C\", \"ChEC-seq\", \"ChIA-PET\", \"ChIP-Seq\", \"ChIRP-seq\", \"CITE-seq\", \"CRISPR Screen\", \"CUT&Run\", \"CUT&Tag\", \"DamID-Seq\", \"DNase-Hypersensitivity\", \"EM-seq\", \"FAIRE-seq\", \"GRO-Seq\", \"Hi-C\", \"HiChIP\", \"iCLIP\", \"MBD-Seq\", \"MeDIP-Seq\", \"MeRIP-Seq\", \"miRNA-Seq\", \"MNase-Seq\", \"MRE-Seq\", \"ncRNA-Seq\", \"OTHER\", \"PRO-Seq\", \"Ribo-Seq\", \"RIP-Seq\", \"RNAmethylation\", \"RNA-Seq\", \"RNA-Seq (CAGE)\", \"RNA-Seq (RACE)\", \"scATAC-seq\", \"scRNA-seq\", \"SELEX\", \"smallRNA-Seq\", \"snRNA-Seq\", \"Spatial Transcriptomics\", \"ssRNA-Seq\", \"TCR-Seq\", \"Tn-Seq\"'"
      ]
     },
     "execution_count": 28,
     "metadata": {},
     "output_type": "execute_result"
    }
   ],
   "source": [
    "final_format"
   ]
  },
  {
   "cell_type": "code",
   "execution_count": null,
   "id": "1f6ced16-c1bf-4014-8d08-3f3190e29e8d",
   "metadata": {},
   "outputs": [],
   "source": []
  }
 ],
 "metadata": {
  "kernelspec": {
   "display_name": "Python 3 (ipykernel)",
   "language": "python",
   "name": "python3"
  },
  "language_info": {
   "codemirror_mode": {
    "name": "ipython",
    "version": 3
   },
   "file_extension": ".py",
   "mimetype": "text/x-python",
   "name": "python",
   "nbconvert_exporter": "python",
   "pygments_lexer": "ipython3",
   "version": "3.8.12"
  }
 },
 "nbformat": 4,
 "nbformat_minor": 5
}
