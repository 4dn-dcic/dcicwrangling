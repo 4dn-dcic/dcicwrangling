{
 "cells": [
  {
   "cell_type": "code",
   "execution_count": null,
   "id": "6c29e1cd-dfd0-4acb-bb65-7db2461b2c7b",
   "metadata": {},
   "outputs": [],
   "source": [
    "##GEO submission update (in progress)"
   ]
  },
  {
   "cell_type": "code",
   "execution_count": 7,
   "id": "aceeca6c-ecc6-4156-b74b-0ef4b98bdb2c",
   "metadata": {},
   "outputs": [],
   "source": [
    "from dcicutils import ff_utils\n",
    "from functions.notebook_functions import *\n",
    "from functions.cleanup import get_workflow_details, delete_wfrs\n",
    "from difflib import SequenceMatcher\n",
    "import time\n",
    "import pandas as pd\n",
    "import openpyxl"
   ]
  },
  {
   "cell_type": "code",
   "execution_count": 19,
   "id": "bf8325c3-0bc3-403c-afca-ab81c141470e",
   "metadata": {},
   "outputs": [],
   "source": [
    "data = pd.read_csv('/Users/rahinavelkar/Desktop/fourdn2geo_mapping.csv')"
   ]
  },
  {
   "cell_type": "code",
   "execution_count": 32,
   "id": "f960ede3-2463-45e4-9601-53aba29851d9",
   "metadata": {},
   "outputs": [],
   "source": [
    "four = data.iloc[:,0].str.strip()\n",
    "geo = data.iloc[:,1].str.strip()\n",
    "\n",
    "fourf = four.to_list()\n",
    "geof = geo.to_list()"
   ]
  },
  {
   "cell_type": "code",
   "execution_count": 33,
   "id": "965455e5-22b3-475c-b33e-00f7fcd4499d",
   "metadata": {},
   "outputs": [],
   "source": [
    "new = {}\n",
    "for i in range(len(fourf)):\n",
    "    new[fourf[i]] = geof[i]"
   ]
  },
  {
   "cell_type": "code",
   "execution_count": 34,
   "id": "692bed00-0154-4339-b60f-27c0e9cde8eb",
   "metadata": {},
   "outputs": [
    {
     "data": {
      "text/plain": [
       "{'2-stage Repli-seq': 'OTHER',\n",
       " '4C-seq': '4C-Seq',\n",
       " 'ATAC-seq': 'ATAC-seq',\n",
       " 'BLISS': 'OTHER',\n",
       " 'Bru-seq': 'BRU-Seq',\n",
       " 'Capture Hi-C': 'Capture-C',\n",
       " 'ChIA-Drop': 'ChIA-PET',\n",
       " 'ChIA-PET': 'ChIA-PET',\n",
       " 'ChIP-exo': 'OTHER',\n",
       " 'ChIP-seq': 'ChIP-Seq',\n",
       " 'CUT&RUN': 'CUT&Run',\n",
       " 'CUT&Tag': 'CUT&Tag',\n",
       " 'DamID-seq': 'DamID-Seq',\n",
       " 'Dilution Hi-C': 'OTHER',\n",
       " 'DNA FISH': 'OTHER',\n",
       " 'DNA SPRITE': 'OTHER',\n",
       " 'DNase Hi-C': 'OTHER',\n",
       " 'Droplet paired-tag': 'OTHER',\n",
       " 'Electron Tomography': 'OTHER',\n",
       " 'GAM': 'OTHER',\n",
       " 'HiCAR': 'OTHER',\n",
       " 'HiChIP': 'HiChIP',\n",
       " 'Immunofluorescence': 'OTHER',\n",
       " 'in situ ChIA-PET': 'ChIA-PET',\n",
       " 'in situ Hi-C': 'Hi-C',\n",
       " 'MARGI': 'OTHER',\n",
       " 'MC-3C': 'OTHER',\n",
       " 'MC-Hi-C': 'OTHER',\n",
       " 'Methyl Hi-C': 'OTHER',\n",
       " 'Micro-C': 'OTHER',\n",
       " 'Multi-stage Repli-seq': 'OTHER',\n",
       " 'multiplexed FISH': 'OTHER',\n",
       " 'NAD-seq': 'OTHER',\n",
       " 'OptoDroplet': 'OTHER',\n",
       " 'pA-DamID': 'OTHER',\n",
       " 'PLAC-seq': 'OTHER',\n",
       " 'RE-seq': 'OTHER',\n",
       " 'RNA FISH': 'OTHER',\n",
       " 'RNA-DNA SPRITE': 'OTHER',\n",
       " 'RNA-seq': 'RNA-Seq',\n",
       " 'sci-ATAC-seq': 'OTHER',\n",
       " 'sci-Hi-C': 'OTHER',\n",
       " 'sci-RNA-seq': 'scRNA-seq',\n",
       " 'single cell ATAC-seq': 'scATAC-seq',\n",
       " 'single cell Hi-C': 'OTHER',\n",
       " 'single cell Methyl Hi-C': 'OTHER',\n",
       " 'single cell RNA-seq': 'OTHER',\n",
       " 'SLAM-seq': 'OTHER',\n",
       " 'sn-Hi-C': 'OTHER',\n",
       " 'SPT': 'OTHER',\n",
       " 'TCC': 'OTHER',\n",
       " 'TrAC-loop': 'OTHER',\n",
       " 'TRIP': 'OTHER',\n",
       " 'TSA-seq': 'OTHER',\n",
       " 'WGBS': 'OTHER'}"
      ]
     },
     "execution_count": 34,
     "metadata": {},
     "output_type": "execute_result"
    }
   ],
   "source": [
    "new"
   ]
  },
  {
   "cell_type": "code",
   "execution_count": 14,
   "id": "ba802b93-ff2d-43ee-9602-fc3076095533",
   "metadata": {},
   "outputs": [],
   "source": [
    "def find_closest_matches(list1, list2):\n",
    "    \"\"\"\n",
    "    Finds the closest string matches between two lists.\n",
    "\n",
    "    Args:\n",
    "        list1: The first list of strings.\n",
    "        list2: The second list of strings.\n",
    "\n",
    "    Returns:\n",
    "        A dictionary where keys are strings from list1 and values are their closest matches from list2.\n",
    "    \"\"\"\n",
    "    matches = {}\n",
    "    for str1 in list1:\n",
    "        closest_match = None\n",
    "        max_similarity = 0\n",
    "        for str2 in list2:\n",
    "            similarity = SequenceMatcher(None, str1, str2).ratio()\n",
    "            if similarity > max_similarity:\n",
    "                max_similarity = similarity\n",
    "                closest_match = str2\n",
    "        matches[str1] = closest_match\n",
    "    return matches"
   ]
  },
  {
   "cell_type": "code",
   "execution_count": 13,
   "id": "1705e0a4-1142-4b62-83fc-23de22a42184",
   "metadata": {},
   "outputs": [],
   "source": [
    "geo_supplied = [\"16S rRNA-seq\", \"4C-Seq\", \"ATAC-seq\", \"BCR-Seq\", \"Bisulfite-Seq\", \"Bisulfite-Seq (reduced representation)\", \"BRU-Seq\", \"Capture-C\", \"ChEC-seq\", \"ChIA-PET\", \"ChIP-Seq\", \"ChIRP-seq\", \"CITE-seq\", \"CRISPR Screen\", \"CUT&Run\", \"CUT&Tag\", \"DamID-Seq\", \"DNase-Hypersensitivity\", \"EM-seq\", \"FAIRE-seq\", \"GRO-Seq\", \"Hi-C\", \"HiChIP\", \"iCLIP\", \"MBD-Seq\", \"MeDIP-Seq\", \"MeRIP-Seq\", \"miRNA-Seq\", \"MNase-Seq\", \"MRE-Seq\", \"ncRNA-Seq\", \"OTHER\", \"PRO-Seq\", \"Ribo-Seq\", \"RIP-Seq\", \"RNAmethylation\", \"RNA-Seq\", \"RNA-Seq (CAGE)\", \"RNA-Seq (RACE)\", \"scATAC-seq\", \"scRNA-seq\", \"SELEX\", \"smallRNA-Seq\", \"snRNA-Seq\", \"Spatial Transcriptomics\", \"ssRNA-Seq\", \"TCR-Seq\", \"Tn-Seq\"]\n",
    "fourdn = [\"SLAM-seq\",\"Droplet paired-tag\",\"ChIP-exo\",\"4C-seq\",\"HiCAR\",\"BLISS\",\"single cell ATAC-seq\",\"single cell RNA-seq\",\"multiplexed FISH\",\"CUT&Tag\",\"RE-seq\",\"HiChIP\",\"OptoDroplet\",\"sci-RNA-seq\",\"sci-ATAC-seq\",\"pA-DamID\",\"ChIA-Drop\",\"in situ ChIA-PET\",\"single cell Methyl Hi-C\",\"Methyl Hi-C\",\"Bru-seq\",\"Immunofluorescence\",\"Electron Tomography\",\"TRIP\",\"Dilution Hi-C\",\"DNase Hi-C\",\"Micro-C\",\"ATAC-seq\",\"Capture Hi-C\",\"PLAC-seq\",\"2-stage Repli-seq\",\"DNA SPRITE\",\"single cell Hi-C\",\"sci-Hi-C\",\"GAM\",\"MARGI\",\"TCC\",\"in situ Hi-C\",\"ChIA-PET\",\"DamID-seq\",\"DNA FISH\",\"Multi-stage Repli-seq\",\"TSA-seq\",\"ChIP-seq\",\"CUT&RUN\",\"MC-Hi-C\",\"MC-3C\",\"RNA-DNA SPRITE\",\"SPT\",\"sn-Hi-C\",\"RNA-seq\",\"NAD-seq\",\"TrAC-loop\",\"RNA FISH\"]"
   ]
  },
  {
   "cell_type": "code",
   "execution_count": 18,
   "id": "e8b20641-3546-41c4-8678-558950765dbb",
   "metadata": {},
   "outputs": [
    {
     "name": "stdout",
     "output_type": "stream",
     "text": [
      "SLAM-seq , EM-seq\n",
      "Droplet paired-tag , Capture-C\n",
      "ChIP-exo , ChIP-Seq\n",
      "4C-seq , 4C-Seq\n",
      "HiCAR , Hi-C\n",
      "BLISS , iCLIP\n",
      "single cell ATAC-seq , scATAC-seq\n",
      "single cell RNA-seq , scRNA-seq\n",
      "multiplexed FISH , Bisulfite-Seq\n",
      "CUT&Tag , CUT&Tag\n",
      "RE-seq , EM-seq\n",
      "HiChIP , HiChIP\n",
      "OptoDroplet , Capture-C\n",
      "sci-RNA-seq , scRNA-seq\n",
      "sci-ATAC-seq , scATAC-seq\n",
      "pA-DamID , DamID-Seq\n",
      "ChIA-Drop , ChIA-PET\n",
      "in situ ChIA-PET , ChIA-PET\n",
      "single cell Methyl Hi-C , Bisulfite-Seq (reduced representation)\n",
      "Methyl Hi-C , Hi-C\n",
      "Bru-seq , EM-seq\n",
      "Immunofluorescence , CRISPR Screen\n",
      "Electron Tomography , RNAmethylation\n",
      "TRIP , RIP-Seq\n",
      "Dilution Hi-C , Hi-C\n",
      "DNase Hi-C , Hi-C\n",
      "Micro-C , Hi-C\n",
      "ATAC-seq , ATAC-seq\n",
      "Capture Hi-C , Capture-C\n",
      "PLAC-seq , ATAC-seq\n",
      "2-stage Repli-seq , scRNA-seq\n",
      "DNA SPRITE , RNA-Seq (RACE)\n",
      "single cell Hi-C , Hi-C\n",
      "sci-Hi-C , Hi-C\n",
      "GAM , EM-seq\n",
      "MARGI , MeRIP-Seq\n",
      "TCC , TCR-Seq\n",
      "in situ Hi-C , Hi-C\n",
      "ChIA-PET , ChIA-PET\n",
      "DamID-seq , DamID-Seq\n",
      "DNA FISH , RNA-Seq\n",
      "Multi-stage Repli-seq , scRNA-seq\n",
      "TSA-seq , ATAC-seq\n",
      "ChIP-seq , ChIRP-seq\n",
      "CUT&RUN , CUT&Run\n",
      "MC-Hi-C , Hi-C\n",
      "MC-3C , Capture-C\n",
      "RNA-DNA SPRITE , RNA-Seq\n",
      "SPT , ChIA-PET\n",
      "sn-Hi-C , Hi-C\n",
      "RNA-seq , scRNA-seq\n",
      "NAD-seq , scRNA-seq\n",
      "TrAC-loop , ATAC-seq\n",
      "RNA FISH , RNA-Seq\n"
     ]
    }
   ],
   "source": [
    "closer = find_closest_matches(fourdn, geo_supplied)\n",
    "for key, value in closer.items():\n",
    "    print(key, \",\", value)"
   ]
  },
  {
   "cell_type": "code",
   "execution_count": 3,
   "id": "daf65ed2-c0ab-404c-9991-d09785ae3de9",
   "metadata": {},
   "outputs": [],
   "source": [
    "#Add key and blank GEO submission template\n",
    "\n",
    "my_auth = get_key('default', keyfile='~/keypairs.json')  #add_key\n"
   ]
  },
  {
   "cell_type": "code",
   "execution_count": 4,
   "id": "ac3f76e3-8a17-4ea0-88c1-e921ad8249cd",
   "metadata": {},
   "outputs": [
    {
     "name": "stdout",
     "output_type": "stream",
     "text": [
      "No. of samples 55\n"
     ]
    }
   ],
   "source": [
    "#Add datasets to be uploaded. All datasets should be from one publication or study and filter for one organism at a time.\n",
    "\n",
    "sets_list = [] \n",
    "\n",
    "search_url  = 'https://data.4dnucleome.org/search/?type=ExperimentType'\n",
    "if sets_list:\n",
    "    esets = [ff_utils.get_metadata(i, my_auth) for i in sets_list]\n",
    "elif search_url:\n",
    "    esets = [i for i in ff_utils.search_metadata(search_url, my_auth)]\n",
    "    \n",
    "print(\"No. of samples {}\".format(len(esets))) "
   ]
  },
  {
   "cell_type": "code",
   "execution_count": 8,
   "id": "7fa77d04-c807-4760-a0d5-4eef71df79a6",
   "metadata": {},
   "outputs": [],
   "source": [
    "assays = []\n",
    "for eset in esets:\n",
    "    name = eset.get('display_title')\n",
    "    status = eset.get('status')\n",
    "    if status == \"released\":\n",
    "        assays.append(name)"
   ]
  },
  {
   "cell_type": "code",
   "execution_count": 11,
   "id": "db6cd5e1-c764-44c0-a1a2-42e5cb413a2a",
   "metadata": {},
   "outputs": [],
   "source": [
    "final = \"\"\n",
    "\n",
    "for assay in assays:\n",
    "    a = '\"{}\",'.format(assay)\n",
    "    final = final + a"
   ]
  },
  {
   "cell_type": "code",
   "execution_count": 12,
   "id": "1d295845-0dc4-4081-9cc1-fc14d4c20812",
   "metadata": {},
   "outputs": [
    {
     "data": {
      "text/plain": [
       "'\"SLAM-seq\",\"Droplet paired-tag\",\"ChIP-exo\",\"4C-seq\",\"HiCAR\",\"BLISS\",\"single cell ATAC-seq\",\"single cell RNA-seq\",\"multiplexed FISH\",\"CUT&Tag\",\"RE-seq\",\"HiChIP\",\"OptoDroplet\",\"sci-RNA-seq\",\"sci-ATAC-seq\",\"pA-DamID\",\"ChIA-Drop\",\"in situ ChIA-PET\",\"single cell Methyl Hi-C\",\"Methyl Hi-C\",\"Bru-seq\",\"Immunofluorescence\",\"Electron Tomography\",\"TRIP\",\"Dilution Hi-C\",\"DNase Hi-C\",\"Micro-C\",\"ATAC-seq\",\"Capture Hi-C\",\"PLAC-seq\",\"2-stage Repli-seq\",\"DNA SPRITE\",\"single cell Hi-C\",\"sci-Hi-C\",\"GAM\",\"MARGI\",\"TCC\",\"in situ Hi-C\",\"ChIA-PET\",\"DamID-seq\",\"DNA FISH\",\"Multi-stage Repli-seq\",\"TSA-seq\",\"ChIP-seq\",\"CUT&RUN\",\"MC-Hi-C\",\"MC-3C\",\"RNA-DNA SPRITE\",\"SPT\",\"sn-Hi-C\",\"RNA-seq\",\"NAD-seq\",\"TrAC-loop\",\"RNA FISH\",'"
      ]
     },
     "execution_count": 12,
     "metadata": {},
     "output_type": "execute_result"
    }
   ],
   "source": [
    "final"
   ]
  },
  {
   "cell_type": "code",
   "execution_count": 4,
   "id": "70fe735f-a7c7-4fd5-9653-fb3fcf68a976",
   "metadata": {},
   "outputs": [
    {
     "name": "stdout",
     "output_type": "stream",
     "text": [
      "xiaowei-zhuang-lab:eperiment_genome_wide_brain_ct_mecp2_B1_T1 4DNFII51PO3T xiaowei-zhuang-lab:fileproc_genome_wide_brain_ct_mecp2_B1_T1_core_f1_corrected fileproc_genome_wide_brain_ct_mecp2_B1_T1_core_f1_corrected.csv\n",
      "xiaowei-zhuang-lab:experiment_genome_wide_brain_ct_mecp2_B2_T2 4DNFI1BAY1T9 xiaowei-zhuang-lab:fileproc_genome_wide_brain_ct_mecp2_B2_T1_core_f1_corrected fileproc_genome_wide_brain_ct_mecp2_B2_T1_core_f1_corrected.csv\n",
      "xiaowei-zhuang-lab:experiment_genome_wide_brain_ct_mecp2_B3_T3 4DNFI5967RZC xiaowei-zhuang-lab:fileproc_genome_wide_brain_ct_mecp2_B3_T1_core_f1_corrected fileproc_genome_wide_brain_ct_mecp2_B3_T1_core_f1_corrected.csv\n",
      "xiaowei-zhuang-lab:experiment_genome_wide_brain_ct_mecp2_B4_T4 4DNFIAM4CKBZ xiaowei-zhuang-lab:fileproc_genome_wide_brain_ct_mecp2_B4_T1_core_f1_corrected fileproc_genome_wide_brain_ct_mecp2_B4_T1_core_f1_corrected.csv\n",
      "xiaowei-zhuang-lab:experiment_genome_wide_brain_ct_B1_T1 4DNFI36ZLABD xiaowei-zhuang-lab:fileproc_genome_wide_brain_ct_B1_T1_core_f1_corrected fileproc_genome_wide_brain_ct_B1_T1_core_f1_corrected.csv\n",
      "xiaowei-zhuang-lab:experiment_genome_wide_brain_ct_B2_T1 4DNFIUSNMSGO xiaowei-zhuang-lab:fileproc_genome_wide_brain_ct_B2_T1_core_f1_corrected fileproc_genome_wide_brain_ct_B2_T1_core_f1_corrected.csv\n",
      "xiaowei-zhuang-lab:experiment_genome_wide_brain_ct_B3_T1 4DNFIR9FTT67 xiaowei-zhuang-lab:fileproc_genome_wide_brain_ct_B3_T1_core_f1_corrected fileproc_genome_wide_brain_ct_B3_T1_core_f1_corrected.csv\n",
      "xiaowei-zhuang-lab:experiment_genome_wide_brain_ct_B3_T2 4DNFID46OABK xiaowei-zhuang-lab:fileproc_genome_wide_brain_ct_B3_T2_core_f1_corrected fileproc_genome_wide_brain_ct_B3_T2_core_f1_corrected.csv\n",
      "xiaowei-zhuang-lab:experiment_genome_wide_brain_ct_mecp2_visual-cortex_B1_T1 4DNFIJPO3M49 xiaowei-zhuang-lab:fileproc_genome_wide_brain_ct_VisualCortex_B1_T1_core_f1_corrected fileproc_genome_wide_brain_ct_VisualCortex_B1_T1_core_f1_corrected.csv\n",
      "xiaowei-zhuang-lab:experiment_genome_wide_brain_ct_mecp2_visual-cortex_B2_T1 4DNFIQRRSY2B xiaowei-zhuang-lab:fileproc_genome_wide_brain_ct_VisualCortex_B2_T1_core_f1_corrected fileproc_genome_wide_brain_ct_VisualCortex_B2_T1_core_f1_corrected.csv\n"
     ]
    }
   ],
   "source": [
    "for eset in esets:\n",
    "    exps = eset.get('experiments_in_set')\n",
    "    for exp in exps:\n",
    "        exp_acc = exp.get('accession')\n",
    "        exp_metadata = ff_utils.get_metadata(exp_acc, my_auth)\n",
    "        exp_alias = exp_metadata.get('aliases')\n",
    "        files = exp.get(\"processed_files\")\n",
    "        for file in files:\n",
    "            file_acc = file.get(\"accession\")\n",
    "            file_type = file.get(\"file_type\")\n",
    "            if file_type == \"FOF-CT - DNA-spot/trace core\":\n",
    "                file_metadata = ff_utils.get_metadata(file_acc, my_auth)\n",
    "                file_alias = file_metadata.get('aliases')\n",
    "                filename = file_metadata.get('filename')\n",
    "                print(exp_alias[0], file_acc, file_alias[0], filename)\n",
    "    \n"
   ]
  },
  {
   "cell_type": "code",
   "execution_count": null,
   "id": "f27d872e-bba8-4cea-8776-3d87ae4fd4c2",
   "metadata": {},
   "outputs": [],
   "source": []
  },
  {
   "cell_type": "code",
   "execution_count": null,
   "id": "54424077-09d1-4c41-b4d2-17555cc49638",
   "metadata": {},
   "outputs": [],
   "source": []
  }
 ],
 "metadata": {
  "kernelspec": {
   "display_name": "Python 3 (ipykernel)",
   "language": "python",
   "name": "python3"
  },
  "language_info": {
   "codemirror_mode": {
    "name": "ipython",
    "version": 3
   },
   "file_extension": ".py",
   "mimetype": "text/x-python",
   "name": "python",
   "nbconvert_exporter": "python",
   "pygments_lexer": "ipython3",
   "version": "3.8.12"
  }
 },
 "nbformat": 4,
 "nbformat_minor": 5
}
