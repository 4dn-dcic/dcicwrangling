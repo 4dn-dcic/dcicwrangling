{
 "cells": [
  {
   "cell_type": "code",
   "execution_count": null,
   "id": "6c29e1cd-dfd0-4acb-bb65-7db2461b2c7b",
   "metadata": {},
   "outputs": [],
   "source": [
    "##GEO submission update (in progress)"
   ]
  },
  {
   "cell_type": "code",
   "execution_count": 1,
   "id": "aceeca6c-ecc6-4156-b74b-0ef4b98bdb2c",
   "metadata": {},
   "outputs": [],
   "source": [
    "from dcicutils import ff_utils\n",
    "from functions.notebook_functions import *\n",
    "from functions.cleanup import get_workflow_details, delete_wfrs\n",
    "import time\n",
    "import pandas as pd\n",
    "import openpyxl"
   ]
  },
  {
   "cell_type": "code",
   "execution_count": 2,
   "id": "daf65ed2-c0ab-404c-9991-d09785ae3de9",
   "metadata": {},
   "outputs": [],
   "source": [
    "#Add key and blank GEO submission template\n",
    "\n",
    "my_auth = get_key('default', keyfile='~/keypairs.json')  #add_key\n"
   ]
  },
  {
   "cell_type": "code",
   "execution_count": 3,
   "id": "ac3f76e3-8a17-4ea0-88c1-e921ad8249cd",
   "metadata": {},
   "outputs": [
    {
     "name": "stdout",
     "output_type": "stream",
     "text": [
      "No. of samples 3\n"
     ]
    }
   ],
   "source": [
    "#Add datasets to be uploaded. All datasets should be from one publication or study and filter for one organism at a time.\n",
    "\n",
    "sets_list = [] \n",
    "\n",
    "search_url  = 'https://data.4dnucleome.org/browse/?type=ExperimentSetReplicate&experimentset_type=replicate&produced_in_pub.display_title=Liu+S+et+al.+%282023%29+doi%3A10.1101%2F2023.12.04.570024&sort=experiments_in_set.experiment_type.display_title&sort=dataset_label&sort=condition'\n",
    "\n",
    "if sets_list:\n",
    "    esets = [ff_utils.get_metadata(i, my_auth) for i in sets_list]\n",
    "elif search_url:\n",
    "    esets = [i for i in ff_utils.search_metadata(search_url, my_auth)]\n",
    "    \n",
    "print(\"No. of samples {}\".format(len(esets))) "
   ]
  },
  {
   "cell_type": "code",
   "execution_count": 7,
   "id": "70fe735f-a7c7-4fd5-9653-fb3fcf68a976",
   "metadata": {},
   "outputs": [
    {
     "name": "stdout",
     "output_type": "stream",
     "text": [
      "xiaowei-zhuang-lab:eperiment_genome_wide_brain_ct_mecp2_B1_T1 4DNFIY7ULW4E xiaowei-zhuang-lab:fileproc_genome_wide_brain_ct_mecp2_B1_T1_core_f1 fileproc_genome_wide_brain_ct_mecp2_B1_T1_core_f1.csv\n",
      "xiaowei-zhuang-lab:experiment_genome_wide_brain_ct_mecp2_B2_T2 4DNFIDJJZFYF xiaowei-zhuang-lab:fileproc_genome_wide_brain_ct_mecp2_B2_T1_core_f1 fileproc_genome_wide_brain_ct_mecp2_B2_T1_core_f1.csv\n",
      "xiaowei-zhuang-lab:experiment_genome_wide_brain_ct_mecp2_B3_T3 4DNFIM453D3J xiaowei-zhuang-lab:fileproc_genome_wide_brain_ct_mecp2_B3_T1_core_f1 fileproc_genome_wide_brain_ct_mecp2_B3_T1_core_f1.csv\n",
      "xiaowei-zhuang-lab:experiment_genome_wide_brain_ct_mecp2_B4_T4 4DNFIN99DPHD xiaowei-zhuang-lab:fileproc_genome_wide_brain_ct_mecp2_B4_T1_core_f1 fileproc_genome_wide_brain_ct_mecp2_B4_T1_core_f1.csv\n",
      "xiaowei-zhuang-lab:experiment_genome_wide_brain_ct_B1_T1 4DNFIMCISOJB xiaowei-zhuang-lab:fileproc_genome_wide_brain_ct_B1_T1_core_f1 fileproc_genome_wide_brain_ct_B1_T1_core_f1.csv\n",
      "xiaowei-zhuang-lab:experiment_genome_wide_brain_ct_B2_T1 4DNFIM9T6MT5 xiaowei-zhuang-lab:fileproc_genome_wide_brain_ct_B2_T1_core_f1 fileproc_genome_wide_brain_ct_B2_T1_core_f1.csv\n",
      "xiaowei-zhuang-lab:experiment_genome_wide_brain_ct_B3_T1 4DNFIC62S1V9 xiaowei-zhuang-lab:fileproc_genome_wide_brain_ct_B3_T1_core_f1 fileproc_genome_wide_brain_ct_B3_T1_core_f1.csv\n",
      "xiaowei-zhuang-lab:experiment_genome_wide_brain_ct_B3_T2 4DNFI78AIUP8 xiaowei-zhuang-lab:fileproc_genome_wide_brain_ct_B3_T2_core_f1 fileproc_genome_wide_brain_ct_B3_T2_core_f1.csv\n",
      "xiaowei-zhuang-lab:experiment_genome_wide_brain_ct_mecp2_visual-cortex_B1_T1 4DNFICBGS81M xiaowei-zhuang-lab:fileproc_genome_wide_brain_ct_VisualCortex_B1_T1_core_f1 fileproc_genome_wide_brain_ct_VisualCortex_B1_T1_core_f1.csv\n",
      "xiaowei-zhuang-lab:experiment_genome_wide_brain_ct_mecp2_visual-cortex_B2_T1 4DNFI1GVML2C xiaowei-zhuang-lab:fileproc_genome_wide_brain_ct_VisualCortex_B2_T1_core_f1 fileproc_genome_wide_brain_ct_VisualCortex_B2_T1_core_f1.csv\n"
     ]
    }
   ],
   "source": [
    "for eset in esets:\n",
    "    exps = eset.get('experiments_in_set')\n",
    "    for exp in exps:\n",
    "        exp_acc = exp.get('accession')\n",
    "        exp_metadata = ff_utils.get_metadata(exp_acc, my_auth)\n",
    "        exp_alias = exp_metadata.get('aliases')\n",
    "        files = exp.get(\"processed_files\")\n",
    "        for file in files:\n",
    "            file_acc = file.get(\"accession\")\n",
    "            file_type = file.get(\"file_type\")\n",
    "            if file_type == \"FOF-CT - DNA-spot/trace core\":\n",
    "                file_metadata = ff_utils.get_metadata(file_acc, my_auth)\n",
    "                file_alias = file_metadata.get('aliases')\n",
    "                filename = file_metadata.get('filename')\n",
    "                print(exp_alias[0], file_acc, file_alias[0], filename)\n",
    "    \n"
   ]
  },
  {
   "cell_type": "code",
   "execution_count": null,
   "id": "f27d872e-bba8-4cea-8776-3d87ae4fd4c2",
   "metadata": {},
   "outputs": [],
   "source": []
  },
  {
   "cell_type": "code",
   "execution_count": null,
   "id": "54424077-09d1-4c41-b4d2-17555cc49638",
   "metadata": {},
   "outputs": [],
   "source": []
  }
 ],
 "metadata": {
  "kernelspec": {
   "display_name": "Python 3 (ipykernel)",
   "language": "python",
   "name": "python3"
  },
  "language_info": {
   "codemirror_mode": {
    "name": "ipython",
    "version": 3
   },
   "file_extension": ".py",
   "mimetype": "text/x-python",
   "name": "python",
   "nbconvert_exporter": "python",
   "pygments_lexer": "ipython3",
   "version": "3.8.12"
  }
 },
 "nbformat": 4,
 "nbformat_minor": 5
}
